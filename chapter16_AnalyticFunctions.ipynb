{
    "metadata": {
        "kernelspec": {
            "name": "SQL",
            "display_name": "SQL",
            "language": "sql"
        },
        "language_info": {
            "name": "sql",
            "version": ""
        }
    },
    "nbformat_minor": 2,
    "nbformat": 4,
    "cells": [
        {
            "cell_type": "markdown",
            "source": [
                "# CHAPTER 16 - ANALYTIC FUNCTIONS"
            ],
            "metadata": {
                "azdata_cell_guid": "895f2350-2ba7-4694-89fa-6ec05dff86b7"
            }
        },
        {
            "cell_type": "markdown",
            "source": [
                "## ANALYTIC FUNCTION CONCEPTS"
            ],
            "metadata": {
                "azdata_cell_guid": "85a03d84-965b-48dd-9871-4ac7021690b8"
            }
        },
        {
            "cell_type": "code",
            "source": [
                ""
            ],
            "metadata": {
                "azdata_cell_guid": "eb10ee51-e67b-4f5a-919e-2ab67f4b1a34"
            },
            "outputs": [],
            "execution_count": null
        }
    ]
}