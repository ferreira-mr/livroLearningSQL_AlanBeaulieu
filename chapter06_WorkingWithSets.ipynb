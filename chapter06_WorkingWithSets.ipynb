{
    "metadata": {
        "kernelspec": {
            "name": "SQL",
            "display_name": "SQL",
            "language": "sql"
        },
        "language_info": {
            "name": "sql",
            "version": ""
        }
    },
    "nbformat_minor": 2,
    "nbformat": 4,
    "cells": [
        {
            "cell_type": "markdown",
            "source": [
                "# CHAPTER 06 - WORKING WITH SETS"
            ],
            "metadata": {
                "azdata_cell_guid": "f0638c25-bc29-45ff-9a02-e5a231c17aa4"
            }
        }
    ]
}