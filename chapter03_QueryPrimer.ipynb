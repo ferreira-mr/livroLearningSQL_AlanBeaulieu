{
    "metadata": {
        "kernelspec": {
            "name": "SQL",
            "display_name": "SQL",
            "language": "sql"
        },
        "language_info": {
            "name": "sql",
            "version": ""
        }
    },
    "nbformat_minor": 2,
    "nbformat": 4,
    "cells": [
        {
            "cell_type": "markdown",
            "source": [
                "# CHAPTER 02 - QUERY PRIMER"
            ],
            "metadata": {
                "azdata_cell_guid": "6d12c048-972d-4fb8-9367-e8b52ea4def0"
            }
        },
        {
            "cell_type": "code",
            "source": [
                "USE sakila;"
            ],
            "metadata": {
                "azdata_cell_guid": "aa3f6c00-e985-4c24-b3fd-194b52bd0e2d"
            },
            "outputs": [
                {
                    "output_type": "display_data",
                    "data": {
                        "text/html": "Commands completed successfully."
                    },
                    "metadata": {}
                },
                {
                    "output_type": "display_data",
                    "data": {
                        "text/html": "Total execution time: 00:00:00.001"
                    },
                    "metadata": {}
                }
            ],
            "execution_count": 1
        },
        {
            "cell_type": "markdown",
            "source": [
                "## QUERY MECHANICS"
            ],
            "metadata": {
                "azdata_cell_guid": "93d7f81f-14b8-46ec-b863-154ad2924bbe"
            }
        },
        {
            "cell_type": "code",
            "source": [
                "SELECT *\r\n",
                "FROM actor;"
            ],
            "metadata": {
                "azdata_cell_guid": "58fa7a00-7f66-4ee1-b1c1-8ae0d5c91936",
                "tags": []
            },
            "outputs": [
                {
                    "output_type": "display_data",
                    "data": {
                        "text/html": "(200 rows affected)"
                    },
                    "metadata": {}
                },
                {
                    "output_type": "display_data",
                    "data": {
                        "text/html": "Total execution time: 00:00:00.013"
                    },
                    "metadata": {}
                },
                {
                    "output_type": "execute_result",
                    "metadata": {
                        "resultSet": {
                            "id": 0,
                            "batchId": 0,
                            "rowCount": 200,
                            "complete": true,
                            "columnInfo": [
                                {
                                    "isBytes": false,
                                    "isChars": false,
                                    "isSqlVariant": false,
                                    "isUdt": false,
                                    "isXml": false,
                                    "isJson": false,
                                    "sqlDbType": 8,
                                    "isHierarchyId": false,
                                    "isSqlXmlType": false,
                                    "isUnknownType": false,
                                    "isUpdatable": false,
                                    "allowDBNull": false,
                                    "baseCatalogName": null,
                                    "baseColumnName": null,
                                    "baseSchemaName": null,
                                    "baseServerName": null,
                                    "baseTableName": null,
                                    "columnName": "actor_id",
                                    "columnOrdinal": 0,
                                    "columnSize": 4,
                                    "isAliased": null,
                                    "isAutoIncrement": true,
                                    "isExpression": null,
                                    "isHidden": null,
                                    "isIdentity": true,
                                    "isKey": null,
                                    "isLong": false,
                                    "isReadOnly": true,
                                    "isUnique": false,
                                    "numericPrecision": 10,
                                    "numericScale": 255,
                                    "udtAssemblyQualifiedName": null,
                                    "dataType": "System.Int32, System.Private.CoreLib, Version=4.0.0.0, Culture=neutral, PublicKeyToken=7cec85d7bea7798e",
                                    "dataTypeName": "int"
                                },
                                {
                                    "isBytes": false,
                                    "isChars": true,
                                    "isSqlVariant": false,
                                    "isUdt": false,
                                    "isXml": false,
                                    "isJson": false,
                                    "sqlDbType": 22,
                                    "isHierarchyId": false,
                                    "isSqlXmlType": false,
                                    "isUnknownType": false,
                                    "isUpdatable": true,
                                    "allowDBNull": false,
                                    "baseCatalogName": null,
                                    "baseColumnName": null,
                                    "baseSchemaName": null,
                                    "baseServerName": null,
                                    "baseTableName": null,
                                    "columnName": "first_name",
                                    "columnOrdinal": 1,
                                    "columnSize": 45,
                                    "isAliased": null,
                                    "isAutoIncrement": false,
                                    "isExpression": null,
                                    "isHidden": null,
                                    "isIdentity": false,
                                    "isKey": null,
                                    "isLong": false,
                                    "isReadOnly": false,
                                    "isUnique": false,
                                    "numericPrecision": 255,
                                    "numericScale": 255,
                                    "udtAssemblyQualifiedName": null,
                                    "dataType": "System.String, System.Private.CoreLib, Version=4.0.0.0, Culture=neutral, PublicKeyToken=7cec85d7bea7798e",
                                    "dataTypeName": "varchar"
                                },
                                {
                                    "isBytes": false,
                                    "isChars": true,
                                    "isSqlVariant": false,
                                    "isUdt": false,
                                    "isXml": false,
                                    "isJson": false,
                                    "sqlDbType": 22,
                                    "isHierarchyId": false,
                                    "isSqlXmlType": false,
                                    "isUnknownType": false,
                                    "isUpdatable": true,
                                    "allowDBNull": false,
                                    "baseCatalogName": null,
                                    "baseColumnName": null,
                                    "baseSchemaName": null,
                                    "baseServerName": null,
                                    "baseTableName": null,
                                    "columnName": "last_name",
                                    "columnOrdinal": 2,
                                    "columnSize": 45,
                                    "isAliased": null,
                                    "isAutoIncrement": false,
                                    "isExpression": null,
                                    "isHidden": null,
                                    "isIdentity": false,
                                    "isKey": null,
                                    "isLong": false,
                                    "isReadOnly": false,
                                    "isUnique": false,
                                    "numericPrecision": 255,
                                    "numericScale": 255,
                                    "udtAssemblyQualifiedName": null,
                                    "dataType": "System.String, System.Private.CoreLib, Version=4.0.0.0, Culture=neutral, PublicKeyToken=7cec85d7bea7798e",
                                    "dataTypeName": "varchar"
                                },
                                {
                                    "isBytes": false,
                                    "isChars": false,
                                    "isSqlVariant": false,
                                    "isUdt": false,
                                    "isXml": false,
                                    "isJson": false,
                                    "sqlDbType": 4,
                                    "isHierarchyId": false,
                                    "isSqlXmlType": false,
                                    "isUnknownType": false,
                                    "isUpdatable": true,
                                    "allowDBNull": false,
                                    "baseCatalogName": null,
                                    "baseColumnName": null,
                                    "baseSchemaName": null,
                                    "baseServerName": null,
                                    "baseTableName": null,
                                    "columnName": "last_update",
                                    "columnOrdinal": 3,
                                    "columnSize": 8,
                                    "isAliased": null,
                                    "isAutoIncrement": false,
                                    "isExpression": null,
                                    "isHidden": null,
                                    "isIdentity": false,
                                    "isKey": null,
                                    "isLong": false,
                                    "isReadOnly": false,
                                    "isUnique": false,
                                    "numericPrecision": 23,
                                    "numericScale": 3,
                                    "udtAssemblyQualifiedName": null,
                                    "dataType": "System.DateTime, System.Private.CoreLib, Version=4.0.0.0, Culture=neutral, PublicKeyToken=7cec85d7bea7798e",
                                    "dataTypeName": "datetime"
                                }
                            ],
                            "specialAction": {
                                "none": true,
                                "expectYukonXMLShowPlan": false
                            }
                        }
                    },
                    "execution_count": 2,
                    "data": {
                        "application/vnd.dataresource+json": {
                            "schema": {
                                "fields": [
                                    {
                                        "name": "actor_id"
                                    },
                                    {
                                        "name": "first_name"
                                    },
                                    {
                                        "name": "last_name"
                                    },
                                    {
                                        "name": "last_update"
                                    }
                                ]
                            },
                            "data": [
                                {
                                    "0": "1",
                                    "1": "PENELOPE",
                                    "2": "GUINESS",
                                    "3": "2006-02-15 04:34:33.000"
                                },
                                {
                                    "0": "2",
                                    "1": "NICK",
                                    "2": "WAHLBERG",
                                    "3": "2006-02-15 04:34:33.000"
                                },
                                {
                                    "0": "3",
                                    "1": "ED",
                                    "2": "CHASE",
                                    "3": "2006-02-15 04:34:33.000"
                                },
                                {
                                    "0": "4",
                                    "1": "JENNIFER",
                                    "2": "DAVIS",
                                    "3": "2006-02-15 04:34:33.000"
                                },
                                {
                                    "0": "5",
                                    "1": "JOHNNY",
                                    "2": "LOLLOBRIGIDA",
                                    "3": "2006-02-15 04:34:33.000"
                                },
                                {
                                    "0": "6",
                                    "1": "BETTE",
                                    "2": "NICHOLSON",
                                    "3": "2006-02-15 04:34:33.000"
                                },
                                {
                                    "0": "7",
                                    "1": "GRACE",
                                    "2": "MOSTEL",
                                    "3": "2006-02-15 04:34:33.000"
                                },
                                {
                                    "0": "8",
                                    "1": "MATTHEW",
                                    "2": "JOHANSSON",
                                    "3": "2006-02-15 04:34:33.000"
                                },
                                {
                                    "0": "9",
                                    "1": "JOE",
                                    "2": "SWANK",
                                    "3": "2006-02-15 04:34:33.000"
                                },
                                {
                                    "0": "10",
                                    "1": "CHRISTIAN",
                                    "2": "GABLE",
                                    "3": "2006-02-15 04:34:33.000"
                                },
                                {
                                    "0": "11",
                                    "1": "ZERO",
                                    "2": "CAGE",
                                    "3": "2006-02-15 04:34:33.000"
                                },
                                {
                                    "0": "12",
                                    "1": "KARL",
                                    "2": "BERRY",
                                    "3": "2006-02-15 04:34:33.000"
                                },
                                {
                                    "0": "13",
                                    "1": "UMA",
                                    "2": "WOOD",
                                    "3": "2006-02-15 04:34:33.000"
                                },
                                {
                                    "0": "14",
                                    "1": "VIVIEN",
                                    "2": "BERGEN",
                                    "3": "2006-02-15 04:34:33.000"
                                },
                                {
                                    "0": "15",
                                    "1": "CUBA",
                                    "2": "OLIVIER",
                                    "3": "2006-02-15 04:34:33.000"
                                },
                                {
                                    "0": "16",
                                    "1": "FRED",
                                    "2": "COSTNER",
                                    "3": "2006-02-15 04:34:33.000"
                                },
                                {
                                    "0": "17",
                                    "1": "HELEN",
                                    "2": "VOIGHT",
                                    "3": "2006-02-15 04:34:33.000"
                                },
                                {
                                    "0": "18",
                                    "1": "DAN",
                                    "2": "TORN",
                                    "3": "2006-02-15 04:34:33.000"
                                },
                                {
                                    "0": "19",
                                    "1": "BOB",
                                    "2": "FAWCETT",
                                    "3": "2006-02-15 04:34:33.000"
                                },
                                {
                                    "0": "20",
                                    "1": "LUCILLE",
                                    "2": "TRACY",
                                    "3": "2006-02-15 04:34:33.000"
                                },
                                {
                                    "0": "21",
                                    "1": "KIRSTEN",
                                    "2": "PALTROW",
                                    "3": "2006-02-15 04:34:33.000"
                                },
                                {
                                    "0": "22",
                                    "1": "ELVIS",
                                    "2": "MARX",
                                    "3": "2006-02-15 04:34:33.000"
                                },
                                {
                                    "0": "23",
                                    "1": "SANDRA",
                                    "2": "KILMER",
                                    "3": "2006-02-15 04:34:33.000"
                                },
                                {
                                    "0": "24",
                                    "1": "CAMERON",
                                    "2": "STREEP",
                                    "3": "2006-02-15 04:34:33.000"
                                },
                                {
                                    "0": "25",
                                    "1": "KEVIN",
                                    "2": "BLOOM",
                                    "3": "2006-02-15 04:34:33.000"
                                },
                                {
                                    "0": "26",
                                    "1": "RIP",
                                    "2": "CRAWFORD",
                                    "3": "2006-02-15 04:34:33.000"
                                },
                                {
                                    "0": "27",
                                    "1": "JULIA",
                                    "2": "MCQUEEN",
                                    "3": "2006-02-15 04:34:33.000"
                                },
                                {
                                    "0": "28",
                                    "1": "WOODY",
                                    "2": "HOFFMAN",
                                    "3": "2006-02-15 04:34:33.000"
                                },
                                {
                                    "0": "29",
                                    "1": "ALEC",
                                    "2": "WAYNE",
                                    "3": "2006-02-15 04:34:33.000"
                                },
                                {
                                    "0": "30",
                                    "1": "SANDRA",
                                    "2": "PECK",
                                    "3": "2006-02-15 04:34:33.000"
                                },
                                {
                                    "0": "31",
                                    "1": "SISSY",
                                    "2": "SOBIESKI",
                                    "3": "2006-02-15 04:34:33.000"
                                },
                                {
                                    "0": "32",
                                    "1": "TIM",
                                    "2": "HACKMAN",
                                    "3": "2006-02-15 04:34:33.000"
                                },
                                {
                                    "0": "33",
                                    "1": "MILLA",
                                    "2": "PECK",
                                    "3": "2006-02-15 04:34:33.000"
                                },
                                {
                                    "0": "34",
                                    "1": "AUDREY",
                                    "2": "OLIVIER",
                                    "3": "2006-02-15 04:34:33.000"
                                },
                                {
                                    "0": "35",
                                    "1": "JUDY",
                                    "2": "DEAN",
                                    "3": "2006-02-15 04:34:33.000"
                                },
                                {
                                    "0": "36",
                                    "1": "BURT",
                                    "2": "DUKAKIS",
                                    "3": "2006-02-15 04:34:33.000"
                                },
                                {
                                    "0": "37",
                                    "1": "VAL",
                                    "2": "BOLGER",
                                    "3": "2006-02-15 04:34:33.000"
                                },
                                {
                                    "0": "38",
                                    "1": "TOM",
                                    "2": "MCKELLEN",
                                    "3": "2006-02-15 04:34:33.000"
                                },
                                {
                                    "0": "39",
                                    "1": "GOLDIE",
                                    "2": "BRODY",
                                    "3": "2006-02-15 04:34:33.000"
                                },
                                {
                                    "0": "40",
                                    "1": "JOHNNY",
                                    "2": "CAGE",
                                    "3": "2006-02-15 04:34:33.000"
                                },
                                {
                                    "0": "41",
                                    "1": "JODIE",
                                    "2": "DEGENERES",
                                    "3": "2006-02-15 04:34:33.000"
                                },
                                {
                                    "0": "42",
                                    "1": "TOM",
                                    "2": "MIRANDA",
                                    "3": "2006-02-15 04:34:33.000"
                                },
                                {
                                    "0": "43",
                                    "1": "KIRK",
                                    "2": "JOVOVICH",
                                    "3": "2006-02-15 04:34:33.000"
                                },
                                {
                                    "0": "44",
                                    "1": "NICK",
                                    "2": "STALLONE",
                                    "3": "2006-02-15 04:34:33.000"
                                },
                                {
                                    "0": "45",
                                    "1": "REESE",
                                    "2": "KILMER",
                                    "3": "2006-02-15 04:34:33.000"
                                },
                                {
                                    "0": "46",
                                    "1": "PARKER",
                                    "2": "GOLDBERG",
                                    "3": "2006-02-15 04:34:33.000"
                                },
                                {
                                    "0": "47",
                                    "1": "JULIA",
                                    "2": "BARRYMORE",
                                    "3": "2006-02-15 04:34:33.000"
                                },
                                {
                                    "0": "48",
                                    "1": "FRANCES",
                                    "2": "DAY-LEWIS",
                                    "3": "2006-02-15 04:34:33.000"
                                },
                                {
                                    "0": "49",
                                    "1": "ANNE",
                                    "2": "CRONYN",
                                    "3": "2006-02-15 04:34:33.000"
                                },
                                {
                                    "0": "50",
                                    "1": "NATALIE",
                                    "2": "HOPKINS",
                                    "3": "2006-02-15 04:34:33.000"
                                },
                                {
                                    "0": "51",
                                    "1": "GARY",
                                    "2": "PHOENIX",
                                    "3": "2006-02-15 04:34:33.000"
                                },
                                {
                                    "0": "52",
                                    "1": "CARMEN",
                                    "2": "HUNT",
                                    "3": "2006-02-15 04:34:33.000"
                                },
                                {
                                    "0": "53",
                                    "1": "MENA",
                                    "2": "TEMPLE",
                                    "3": "2006-02-15 04:34:33.000"
                                },
                                {
                                    "0": "54",
                                    "1": "PENELOPE",
                                    "2": "PINKETT",
                                    "3": "2006-02-15 04:34:33.000"
                                },
                                {
                                    "0": "55",
                                    "1": "FAY",
                                    "2": "KILMER",
                                    "3": "2006-02-15 04:34:33.000"
                                },
                                {
                                    "0": "56",
                                    "1": "DAN",
                                    "2": "HARRIS",
                                    "3": "2006-02-15 04:34:33.000"
                                },
                                {
                                    "0": "57",
                                    "1": "JUDE",
                                    "2": "CRUISE",
                                    "3": "2006-02-15 04:34:33.000"
                                },
                                {
                                    "0": "58",
                                    "1": "CHRISTIAN",
                                    "2": "AKROYD",
                                    "3": "2006-02-15 04:34:33.000"
                                },
                                {
                                    "0": "59",
                                    "1": "DUSTIN",
                                    "2": "TAUTOU",
                                    "3": "2006-02-15 04:34:33.000"
                                },
                                {
                                    "0": "60",
                                    "1": "HENRY",
                                    "2": "BERRY",
                                    "3": "2006-02-15 04:34:33.000"
                                },
                                {
                                    "0": "61",
                                    "1": "CHRISTIAN",
                                    "2": "NEESON",
                                    "3": "2006-02-15 04:34:33.000"
                                },
                                {
                                    "0": "62",
                                    "1": "JAYNE",
                                    "2": "NEESON",
                                    "3": "2006-02-15 04:34:33.000"
                                },
                                {
                                    "0": "63",
                                    "1": "CAMERON",
                                    "2": "WRAY",
                                    "3": "2006-02-15 04:34:33.000"
                                },
                                {
                                    "0": "64",
                                    "1": "RAY",
                                    "2": "JOHANSSON",
                                    "3": "2006-02-15 04:34:33.000"
                                },
                                {
                                    "0": "65",
                                    "1": "ANGELA",
                                    "2": "HUDSON",
                                    "3": "2006-02-15 04:34:33.000"
                                },
                                {
                                    "0": "66",
                                    "1": "MARY",
                                    "2": "TANDY",
                                    "3": "2006-02-15 04:34:33.000"
                                },
                                {
                                    "0": "67",
                                    "1": "JESSICA",
                                    "2": "BAILEY",
                                    "3": "2006-02-15 04:34:33.000"
                                },
                                {
                                    "0": "68",
                                    "1": "RIP",
                                    "2": "WINSLET",
                                    "3": "2006-02-15 04:34:33.000"
                                },
                                {
                                    "0": "69",
                                    "1": "KENNETH",
                                    "2": "PALTROW",
                                    "3": "2006-02-15 04:34:33.000"
                                },
                                {
                                    "0": "70",
                                    "1": "MICHELLE",
                                    "2": "MCCONAUGHEY",
                                    "3": "2006-02-15 04:34:33.000"
                                },
                                {
                                    "0": "71",
                                    "1": "ADAM",
                                    "2": "GRANT",
                                    "3": "2006-02-15 04:34:33.000"
                                },
                                {
                                    "0": "72",
                                    "1": "SEAN",
                                    "2": "WILLIAMS",
                                    "3": "2006-02-15 04:34:33.000"
                                },
                                {
                                    "0": "73",
                                    "1": "GARY",
                                    "2": "PENN",
                                    "3": "2006-02-15 04:34:33.000"
                                },
                                {
                                    "0": "74",
                                    "1": "MILLA",
                                    "2": "KEITEL",
                                    "3": "2006-02-15 04:34:33.000"
                                },
                                {
                                    "0": "75",
                                    "1": "BURT",
                                    "2": "POSEY",
                                    "3": "2006-02-15 04:34:33.000"
                                },
                                {
                                    "0": "76",
                                    "1": "ANGELINA",
                                    "2": "ASTAIRE",
                                    "3": "2006-02-15 04:34:33.000"
                                },
                                {
                                    "0": "77",
                                    "1": "CARY",
                                    "2": "MCCONAUGHEY",
                                    "3": "2006-02-15 04:34:33.000"
                                },
                                {
                                    "0": "78",
                                    "1": "GROUCHO",
                                    "2": "SINATRA",
                                    "3": "2006-02-15 04:34:33.000"
                                },
                                {
                                    "0": "79",
                                    "1": "MAE",
                                    "2": "HOFFMAN",
                                    "3": "2006-02-15 04:34:33.000"
                                },
                                {
                                    "0": "80",
                                    "1": "RALPH",
                                    "2": "CRUZ",
                                    "3": "2006-02-15 04:34:33.000"
                                },
                                {
                                    "0": "81",
                                    "1": "SCARLETT",
                                    "2": "DAMON",
                                    "3": "2006-02-15 04:34:33.000"
                                },
                                {
                                    "0": "82",
                                    "1": "WOODY",
                                    "2": "JOLIE",
                                    "3": "2006-02-15 04:34:33.000"
                                },
                                {
                                    "0": "83",
                                    "1": "BEN",
                                    "2": "WILLIS",
                                    "3": "2006-02-15 04:34:33.000"
                                },
                                {
                                    "0": "84",
                                    "1": "JAMES",
                                    "2": "PITT",
                                    "3": "2006-02-15 04:34:33.000"
                                },
                                {
                                    "0": "85",
                                    "1": "MINNIE",
                                    "2": "ZELLWEGER",
                                    "3": "2006-02-15 04:34:33.000"
                                },
                                {
                                    "0": "86",
                                    "1": "GREG",
                                    "2": "CHAPLIN",
                                    "3": "2006-02-15 04:34:33.000"
                                },
                                {
                                    "0": "87",
                                    "1": "SPENCER",
                                    "2": "PECK",
                                    "3": "2006-02-15 04:34:33.000"
                                },
                                {
                                    "0": "88",
                                    "1": "KENNETH",
                                    "2": "PESCI",
                                    "3": "2006-02-15 04:34:33.000"
                                },
                                {
                                    "0": "89",
                                    "1": "CHARLIZE",
                                    "2": "DENCH",
                                    "3": "2006-02-15 04:34:33.000"
                                },
                                {
                                    "0": "90",
                                    "1": "SEAN",
                                    "2": "GUINESS",
                                    "3": "2006-02-15 04:34:33.000"
                                },
                                {
                                    "0": "91",
                                    "1": "CHRISTOPHER",
                                    "2": "BERRY",
                                    "3": "2006-02-15 04:34:33.000"
                                },
                                {
                                    "0": "92",
                                    "1": "KIRSTEN",
                                    "2": "AKROYD",
                                    "3": "2006-02-15 04:34:33.000"
                                },
                                {
                                    "0": "93",
                                    "1": "ELLEN",
                                    "2": "PRESLEY",
                                    "3": "2006-02-15 04:34:33.000"
                                },
                                {
                                    "0": "94",
                                    "1": "KENNETH",
                                    "2": "TORN",
                                    "3": "2006-02-15 04:34:33.000"
                                },
                                {
                                    "0": "95",
                                    "1": "DARYL",
                                    "2": "WAHLBERG",
                                    "3": "2006-02-15 04:34:33.000"
                                },
                                {
                                    "0": "96",
                                    "1": "GENE",
                                    "2": "WILLIS",
                                    "3": "2006-02-15 04:34:33.000"
                                },
                                {
                                    "0": "97",
                                    "1": "MEG",
                                    "2": "HAWKE",
                                    "3": "2006-02-15 04:34:33.000"
                                },
                                {
                                    "0": "98",
                                    "1": "CHRIS",
                                    "2": "BRIDGES",
                                    "3": "2006-02-15 04:34:33.000"
                                },
                                {
                                    "0": "99",
                                    "1": "JIM",
                                    "2": "MOSTEL",
                                    "3": "2006-02-15 04:34:33.000"
                                },
                                {
                                    "0": "100",
                                    "1": "SPENCER",
                                    "2": "DEPP",
                                    "3": "2006-02-15 04:34:33.000"
                                },
                                {
                                    "0": "101",
                                    "1": "SUSAN",
                                    "2": "DAVIS",
                                    "3": "2006-02-15 04:34:33.000"
                                },
                                {
                                    "0": "102",
                                    "1": "WALTER",
                                    "2": "TORN",
                                    "3": "2006-02-15 04:34:33.000"
                                },
                                {
                                    "0": "103",
                                    "1": "MATTHEW",
                                    "2": "LEIGH",
                                    "3": "2006-02-15 04:34:33.000"
                                },
                                {
                                    "0": "104",
                                    "1": "PENELOPE",
                                    "2": "CRONYN",
                                    "3": "2006-02-15 04:34:33.000"
                                },
                                {
                                    "0": "105",
                                    "1": "SIDNEY",
                                    "2": "CROWE",
                                    "3": "2006-02-15 04:34:33.000"
                                },
                                {
                                    "0": "106",
                                    "1": "GROUCHO",
                                    "2": "DUNST",
                                    "3": "2006-02-15 04:34:33.000"
                                },
                                {
                                    "0": "107",
                                    "1": "GINA",
                                    "2": "DEGENERES",
                                    "3": "2006-02-15 04:34:33.000"
                                },
                                {
                                    "0": "108",
                                    "1": "WARREN",
                                    "2": "NOLTE",
                                    "3": "2006-02-15 04:34:33.000"
                                },
                                {
                                    "0": "109",
                                    "1": "SYLVESTER",
                                    "2": "DERN",
                                    "3": "2006-02-15 04:34:33.000"
                                },
                                {
                                    "0": "110",
                                    "1": "SUSAN",
                                    "2": "DAVIS",
                                    "3": "2006-02-15 04:34:33.000"
                                },
                                {
                                    "0": "111",
                                    "1": "CAMERON",
                                    "2": "ZELLWEGER",
                                    "3": "2006-02-15 04:34:33.000"
                                },
                                {
                                    "0": "112",
                                    "1": "RUSSELL",
                                    "2": "BACALL",
                                    "3": "2006-02-15 04:34:33.000"
                                },
                                {
                                    "0": "113",
                                    "1": "MORGAN",
                                    "2": "HOPKINS",
                                    "3": "2006-02-15 04:34:33.000"
                                },
                                {
                                    "0": "114",
                                    "1": "MORGAN",
                                    "2": "MCDORMAND",
                                    "3": "2006-02-15 04:34:33.000"
                                },
                                {
                                    "0": "115",
                                    "1": "HARRISON",
                                    "2": "BALE",
                                    "3": "2006-02-15 04:34:33.000"
                                },
                                {
                                    "0": "116",
                                    "1": "DAN",
                                    "2": "STREEP",
                                    "3": "2006-02-15 04:34:33.000"
                                },
                                {
                                    "0": "117",
                                    "1": "RENEE",
                                    "2": "TRACY",
                                    "3": "2006-02-15 04:34:33.000"
                                },
                                {
                                    "0": "118",
                                    "1": "CUBA",
                                    "2": "ALLEN",
                                    "3": "2006-02-15 04:34:33.000"
                                },
                                {
                                    "0": "119",
                                    "1": "WARREN",
                                    "2": "JACKMAN",
                                    "3": "2006-02-15 04:34:33.000"
                                },
                                {
                                    "0": "120",
                                    "1": "PENELOPE",
                                    "2": "MONROE",
                                    "3": "2006-02-15 04:34:33.000"
                                },
                                {
                                    "0": "121",
                                    "1": "LIZA",
                                    "2": "BERGMAN",
                                    "3": "2006-02-15 04:34:33.000"
                                },
                                {
                                    "0": "122",
                                    "1": "SALMA",
                                    "2": "NOLTE",
                                    "3": "2006-02-15 04:34:33.000"
                                },
                                {
                                    "0": "123",
                                    "1": "JULIANNE",
                                    "2": "DENCH",
                                    "3": "2006-02-15 04:34:33.000"
                                },
                                {
                                    "0": "124",
                                    "1": "SCARLETT",
                                    "2": "BENING",
                                    "3": "2006-02-15 04:34:33.000"
                                },
                                {
                                    "0": "125",
                                    "1": "ALBERT",
                                    "2": "NOLTE",
                                    "3": "2006-02-15 04:34:33.000"
                                },
                                {
                                    "0": "126",
                                    "1": "FRANCES",
                                    "2": "TOMEI",
                                    "3": "2006-02-15 04:34:33.000"
                                },
                                {
                                    "0": "127",
                                    "1": "KEVIN",
                                    "2": "GARLAND",
                                    "3": "2006-02-15 04:34:33.000"
                                },
                                {
                                    "0": "128",
                                    "1": "CATE",
                                    "2": "MCQUEEN",
                                    "3": "2006-02-15 04:34:33.000"
                                },
                                {
                                    "0": "129",
                                    "1": "DARYL",
                                    "2": "CRAWFORD",
                                    "3": "2006-02-15 04:34:33.000"
                                },
                                {
                                    "0": "130",
                                    "1": "GRETA",
                                    "2": "KEITEL",
                                    "3": "2006-02-15 04:34:33.000"
                                },
                                {
                                    "0": "131",
                                    "1": "JANE",
                                    "2": "JACKMAN",
                                    "3": "2006-02-15 04:34:33.000"
                                },
                                {
                                    "0": "132",
                                    "1": "ADAM",
                                    "2": "HOPPER",
                                    "3": "2006-02-15 04:34:33.000"
                                },
                                {
                                    "0": "133",
                                    "1": "RICHARD",
                                    "2": "PENN",
                                    "3": "2006-02-15 04:34:33.000"
                                },
                                {
                                    "0": "134",
                                    "1": "GENE",
                                    "2": "HOPKINS",
                                    "3": "2006-02-15 04:34:33.000"
                                },
                                {
                                    "0": "135",
                                    "1": "RITA",
                                    "2": "REYNOLDS",
                                    "3": "2006-02-15 04:34:33.000"
                                },
                                {
                                    "0": "136",
                                    "1": "ED",
                                    "2": "MANSFIELD",
                                    "3": "2006-02-15 04:34:33.000"
                                },
                                {
                                    "0": "137",
                                    "1": "MORGAN",
                                    "2": "WILLIAMS",
                                    "3": "2006-02-15 04:34:33.000"
                                },
                                {
                                    "0": "138",
                                    "1": "LUCILLE",
                                    "2": "DEE",
                                    "3": "2006-02-15 04:34:33.000"
                                },
                                {
                                    "0": "139",
                                    "1": "EWAN",
                                    "2": "GOODING",
                                    "3": "2006-02-15 04:34:33.000"
                                },
                                {
                                    "0": "140",
                                    "1": "WHOOPI",
                                    "2": "HURT",
                                    "3": "2006-02-15 04:34:33.000"
                                },
                                {
                                    "0": "141",
                                    "1": "CATE",
                                    "2": "HARRIS",
                                    "3": "2006-02-15 04:34:33.000"
                                },
                                {
                                    "0": "142",
                                    "1": "JADA",
                                    "2": "RYDER",
                                    "3": "2006-02-15 04:34:33.000"
                                },
                                {
                                    "0": "143",
                                    "1": "RIVER",
                                    "2": "DEAN",
                                    "3": "2006-02-15 04:34:33.000"
                                },
                                {
                                    "0": "144",
                                    "1": "ANGELA",
                                    "2": "WITHERSPOON",
                                    "3": "2006-02-15 04:34:33.000"
                                },
                                {
                                    "0": "145",
                                    "1": "KIM",
                                    "2": "ALLEN",
                                    "3": "2006-02-15 04:34:33.000"
                                },
                                {
                                    "0": "146",
                                    "1": "ALBERT",
                                    "2": "JOHANSSON",
                                    "3": "2006-02-15 04:34:33.000"
                                },
                                {
                                    "0": "147",
                                    "1": "FAY",
                                    "2": "WINSLET",
                                    "3": "2006-02-15 04:34:33.000"
                                },
                                {
                                    "0": "148",
                                    "1": "EMILY",
                                    "2": "DEE",
                                    "3": "2006-02-15 04:34:33.000"
                                },
                                {
                                    "0": "149",
                                    "1": "RUSSELL",
                                    "2": "TEMPLE",
                                    "3": "2006-02-15 04:34:33.000"
                                },
                                {
                                    "0": "150",
                                    "1": "JAYNE",
                                    "2": "NOLTE",
                                    "3": "2006-02-15 04:34:33.000"
                                },
                                {
                                    "0": "151",
                                    "1": "GEOFFREY",
                                    "2": "HESTON",
                                    "3": "2006-02-15 04:34:33.000"
                                },
                                {
                                    "0": "152",
                                    "1": "BEN",
                                    "2": "HARRIS",
                                    "3": "2006-02-15 04:34:33.000"
                                },
                                {
                                    "0": "153",
                                    "1": "MINNIE",
                                    "2": "KILMER",
                                    "3": "2006-02-15 04:34:33.000"
                                },
                                {
                                    "0": "154",
                                    "1": "MERYL",
                                    "2": "GIBSON",
                                    "3": "2006-02-15 04:34:33.000"
                                },
                                {
                                    "0": "155",
                                    "1": "IAN",
                                    "2": "TANDY",
                                    "3": "2006-02-15 04:34:33.000"
                                },
                                {
                                    "0": "156",
                                    "1": "FAY",
                                    "2": "WOOD",
                                    "3": "2006-02-15 04:34:33.000"
                                },
                                {
                                    "0": "157",
                                    "1": "GRETA",
                                    "2": "MALDEN",
                                    "3": "2006-02-15 04:34:33.000"
                                },
                                {
                                    "0": "158",
                                    "1": "VIVIEN",
                                    "2": "BASINGER",
                                    "3": "2006-02-15 04:34:33.000"
                                },
                                {
                                    "0": "159",
                                    "1": "LAURA",
                                    "2": "BRODY",
                                    "3": "2006-02-15 04:34:33.000"
                                },
                                {
                                    "0": "160",
                                    "1": "CHRIS",
                                    "2": "DEPP",
                                    "3": "2006-02-15 04:34:33.000"
                                },
                                {
                                    "0": "161",
                                    "1": "HARVEY",
                                    "2": "HOPE",
                                    "3": "2006-02-15 04:34:33.000"
                                },
                                {
                                    "0": "162",
                                    "1": "OPRAH",
                                    "2": "KILMER",
                                    "3": "2006-02-15 04:34:33.000"
                                },
                                {
                                    "0": "163",
                                    "1": "CHRISTOPHER",
                                    "2": "WEST",
                                    "3": "2006-02-15 04:34:33.000"
                                },
                                {
                                    "0": "164",
                                    "1": "HUMPHREY",
                                    "2": "WILLIS",
                                    "3": "2006-02-15 04:34:33.000"
                                },
                                {
                                    "0": "165",
                                    "1": "AL",
                                    "2": "GARLAND",
                                    "3": "2006-02-15 04:34:33.000"
                                },
                                {
                                    "0": "166",
                                    "1": "NICK",
                                    "2": "DEGENERES",
                                    "3": "2006-02-15 04:34:33.000"
                                },
                                {
                                    "0": "167",
                                    "1": "LAURENCE",
                                    "2": "BULLOCK",
                                    "3": "2006-02-15 04:34:33.000"
                                },
                                {
                                    "0": "168",
                                    "1": "WILL",
                                    "2": "WILSON",
                                    "3": "2006-02-15 04:34:33.000"
                                },
                                {
                                    "0": "169",
                                    "1": "KENNETH",
                                    "2": "HOFFMAN",
                                    "3": "2006-02-15 04:34:33.000"
                                },
                                {
                                    "0": "170",
                                    "1": "MENA",
                                    "2": "HOPPER",
                                    "3": "2006-02-15 04:34:33.000"
                                },
                                {
                                    "0": "171",
                                    "1": "OLYMPIA",
                                    "2": "PFEIFFER",
                                    "3": "2006-02-15 04:34:33.000"
                                },
                                {
                                    "0": "172",
                                    "1": "GROUCHO",
                                    "2": "WILLIAMS",
                                    "3": "2006-02-15 04:34:33.000"
                                },
                                {
                                    "0": "173",
                                    "1": "ALAN",
                                    "2": "DREYFUSS",
                                    "3": "2006-02-15 04:34:33.000"
                                },
                                {
                                    "0": "174",
                                    "1": "MICHAEL",
                                    "2": "BENING",
                                    "3": "2006-02-15 04:34:33.000"
                                },
                                {
                                    "0": "175",
                                    "1": "WILLIAM",
                                    "2": "HACKMAN",
                                    "3": "2006-02-15 04:34:33.000"
                                },
                                {
                                    "0": "176",
                                    "1": "JON",
                                    "2": "CHASE",
                                    "3": "2006-02-15 04:34:33.000"
                                },
                                {
                                    "0": "177",
                                    "1": "GENE",
                                    "2": "MCKELLEN",
                                    "3": "2006-02-15 04:34:33.000"
                                },
                                {
                                    "0": "178",
                                    "1": "LISA",
                                    "2": "MONROE",
                                    "3": "2006-02-15 04:34:33.000"
                                },
                                {
                                    "0": "179",
                                    "1": "ED",
                                    "2": "GUINESS",
                                    "3": "2006-02-15 04:34:33.000"
                                },
                                {
                                    "0": "180",
                                    "1": "JEFF",
                                    "2": "SILVERSTONE",
                                    "3": "2006-02-15 04:34:33.000"
                                },
                                {
                                    "0": "181",
                                    "1": "MATTHEW",
                                    "2": "CARREY",
                                    "3": "2006-02-15 04:34:33.000"
                                },
                                {
                                    "0": "182",
                                    "1": "DEBBIE",
                                    "2": "AKROYD",
                                    "3": "2006-02-15 04:34:33.000"
                                },
                                {
                                    "0": "183",
                                    "1": "RUSSELL",
                                    "2": "CLOSE",
                                    "3": "2006-02-15 04:34:33.000"
                                },
                                {
                                    "0": "184",
                                    "1": "HUMPHREY",
                                    "2": "GARLAND",
                                    "3": "2006-02-15 04:34:33.000"
                                },
                                {
                                    "0": "185",
                                    "1": "MICHAEL",
                                    "2": "BOLGER",
                                    "3": "2006-02-15 04:34:33.000"
                                },
                                {
                                    "0": "186",
                                    "1": "JULIA",
                                    "2": "ZELLWEGER",
                                    "3": "2006-02-15 04:34:33.000"
                                },
                                {
                                    "0": "187",
                                    "1": "RENEE",
                                    "2": "BALL",
                                    "3": "2006-02-15 04:34:33.000"
                                },
                                {
                                    "0": "188",
                                    "1": "ROCK",
                                    "2": "DUKAKIS",
                                    "3": "2006-02-15 04:34:33.000"
                                },
                                {
                                    "0": "189",
                                    "1": "CUBA",
                                    "2": "BIRCH",
                                    "3": "2006-02-15 04:34:33.000"
                                },
                                {
                                    "0": "190",
                                    "1": "AUDREY",
                                    "2": "BAILEY",
                                    "3": "2006-02-15 04:34:33.000"
                                },
                                {
                                    "0": "191",
                                    "1": "GREGORY",
                                    "2": "GOODING",
                                    "3": "2006-02-15 04:34:33.000"
                                },
                                {
                                    "0": "192",
                                    "1": "JOHN",
                                    "2": "SUVARI",
                                    "3": "2006-02-15 04:34:33.000"
                                },
                                {
                                    "0": "193",
                                    "1": "BURT",
                                    "2": "TEMPLE",
                                    "3": "2006-02-15 04:34:33.000"
                                },
                                {
                                    "0": "194",
                                    "1": "MERYL",
                                    "2": "ALLEN",
                                    "3": "2006-02-15 04:34:33.000"
                                },
                                {
                                    "0": "195",
                                    "1": "JAYNE",
                                    "2": "SILVERSTONE",
                                    "3": "2006-02-15 04:34:33.000"
                                },
                                {
                                    "0": "196",
                                    "1": "BELA",
                                    "2": "WALKEN",
                                    "3": "2006-02-15 04:34:33.000"
                                },
                                {
                                    "0": "197",
                                    "1": "REESE",
                                    "2": "WEST",
                                    "3": "2006-02-15 04:34:33.000"
                                },
                                {
                                    "0": "198",
                                    "1": "MARY",
                                    "2": "KEITEL",
                                    "3": "2006-02-15 04:34:33.000"
                                },
                                {
                                    "0": "199",
                                    "1": "JULIA",
                                    "2": "FAWCETT",
                                    "3": "2006-02-15 04:34:33.000"
                                },
                                {
                                    "0": "200",
                                    "1": "THORA",
                                    "2": "TEMPLE",
                                    "3": "2006-02-15 04:34:33.000"
                                }
                            ]
                        },
                        "text/html": [
                            "<table>",
                            "<tr><th>actor_id</th><th>first_name</th><th>last_name</th><th>last_update</th></tr>",
                            "<tr><td>1</td><td>PENELOPE</td><td>GUINESS</td><td>2006-02-15 04:34:33.000</td></tr>",
                            "<tr><td>2</td><td>NICK</td><td>WAHLBERG</td><td>2006-02-15 04:34:33.000</td></tr>",
                            "<tr><td>3</td><td>ED</td><td>CHASE</td><td>2006-02-15 04:34:33.000</td></tr>",
                            "<tr><td>4</td><td>JENNIFER</td><td>DAVIS</td><td>2006-02-15 04:34:33.000</td></tr>",
                            "<tr><td>5</td><td>JOHNNY</td><td>LOLLOBRIGIDA</td><td>2006-02-15 04:34:33.000</td></tr>",
                            "<tr><td>6</td><td>BETTE</td><td>NICHOLSON</td><td>2006-02-15 04:34:33.000</td></tr>",
                            "<tr><td>7</td><td>GRACE</td><td>MOSTEL</td><td>2006-02-15 04:34:33.000</td></tr>",
                            "<tr><td>8</td><td>MATTHEW</td><td>JOHANSSON</td><td>2006-02-15 04:34:33.000</td></tr>",
                            "<tr><td>9</td><td>JOE</td><td>SWANK</td><td>2006-02-15 04:34:33.000</td></tr>",
                            "<tr><td>10</td><td>CHRISTIAN</td><td>GABLE</td><td>2006-02-15 04:34:33.000</td></tr>",
                            "<tr><td>11</td><td>ZERO</td><td>CAGE</td><td>2006-02-15 04:34:33.000</td></tr>",
                            "<tr><td>12</td><td>KARL</td><td>BERRY</td><td>2006-02-15 04:34:33.000</td></tr>",
                            "<tr><td>13</td><td>UMA</td><td>WOOD</td><td>2006-02-15 04:34:33.000</td></tr>",
                            "<tr><td>14</td><td>VIVIEN</td><td>BERGEN</td><td>2006-02-15 04:34:33.000</td></tr>",
                            "<tr><td>15</td><td>CUBA</td><td>OLIVIER</td><td>2006-02-15 04:34:33.000</td></tr>",
                            "<tr><td>16</td><td>FRED</td><td>COSTNER</td><td>2006-02-15 04:34:33.000</td></tr>",
                            "<tr><td>17</td><td>HELEN</td><td>VOIGHT</td><td>2006-02-15 04:34:33.000</td></tr>",
                            "<tr><td>18</td><td>DAN</td><td>TORN</td><td>2006-02-15 04:34:33.000</td></tr>",
                            "<tr><td>19</td><td>BOB</td><td>FAWCETT</td><td>2006-02-15 04:34:33.000</td></tr>",
                            "<tr><td>20</td><td>LUCILLE</td><td>TRACY</td><td>2006-02-15 04:34:33.000</td></tr>",
                            "<tr><td>21</td><td>KIRSTEN</td><td>PALTROW</td><td>2006-02-15 04:34:33.000</td></tr>",
                            "<tr><td>22</td><td>ELVIS</td><td>MARX</td><td>2006-02-15 04:34:33.000</td></tr>",
                            "<tr><td>23</td><td>SANDRA</td><td>KILMER</td><td>2006-02-15 04:34:33.000</td></tr>",
                            "<tr><td>24</td><td>CAMERON</td><td>STREEP</td><td>2006-02-15 04:34:33.000</td></tr>",
                            "<tr><td>25</td><td>KEVIN</td><td>BLOOM</td><td>2006-02-15 04:34:33.000</td></tr>",
                            "<tr><td>26</td><td>RIP</td><td>CRAWFORD</td><td>2006-02-15 04:34:33.000</td></tr>",
                            "<tr><td>27</td><td>JULIA</td><td>MCQUEEN</td><td>2006-02-15 04:34:33.000</td></tr>",
                            "<tr><td>28</td><td>WOODY</td><td>HOFFMAN</td><td>2006-02-15 04:34:33.000</td></tr>",
                            "<tr><td>29</td><td>ALEC</td><td>WAYNE</td><td>2006-02-15 04:34:33.000</td></tr>",
                            "<tr><td>30</td><td>SANDRA</td><td>PECK</td><td>2006-02-15 04:34:33.000</td></tr>",
                            "<tr><td>31</td><td>SISSY</td><td>SOBIESKI</td><td>2006-02-15 04:34:33.000</td></tr>",
                            "<tr><td>32</td><td>TIM</td><td>HACKMAN</td><td>2006-02-15 04:34:33.000</td></tr>",
                            "<tr><td>33</td><td>MILLA</td><td>PECK</td><td>2006-02-15 04:34:33.000</td></tr>",
                            "<tr><td>34</td><td>AUDREY</td><td>OLIVIER</td><td>2006-02-15 04:34:33.000</td></tr>",
                            "<tr><td>35</td><td>JUDY</td><td>DEAN</td><td>2006-02-15 04:34:33.000</td></tr>",
                            "<tr><td>36</td><td>BURT</td><td>DUKAKIS</td><td>2006-02-15 04:34:33.000</td></tr>",
                            "<tr><td>37</td><td>VAL</td><td>BOLGER</td><td>2006-02-15 04:34:33.000</td></tr>",
                            "<tr><td>38</td><td>TOM</td><td>MCKELLEN</td><td>2006-02-15 04:34:33.000</td></tr>",
                            "<tr><td>39</td><td>GOLDIE</td><td>BRODY</td><td>2006-02-15 04:34:33.000</td></tr>",
                            "<tr><td>40</td><td>JOHNNY</td><td>CAGE</td><td>2006-02-15 04:34:33.000</td></tr>",
                            "<tr><td>41</td><td>JODIE</td><td>DEGENERES</td><td>2006-02-15 04:34:33.000</td></tr>",
                            "<tr><td>42</td><td>TOM</td><td>MIRANDA</td><td>2006-02-15 04:34:33.000</td></tr>",
                            "<tr><td>43</td><td>KIRK</td><td>JOVOVICH</td><td>2006-02-15 04:34:33.000</td></tr>",
                            "<tr><td>44</td><td>NICK</td><td>STALLONE</td><td>2006-02-15 04:34:33.000</td></tr>",
                            "<tr><td>45</td><td>REESE</td><td>KILMER</td><td>2006-02-15 04:34:33.000</td></tr>",
                            "<tr><td>46</td><td>PARKER</td><td>GOLDBERG</td><td>2006-02-15 04:34:33.000</td></tr>",
                            "<tr><td>47</td><td>JULIA</td><td>BARRYMORE</td><td>2006-02-15 04:34:33.000</td></tr>",
                            "<tr><td>48</td><td>FRANCES</td><td>DAY-LEWIS</td><td>2006-02-15 04:34:33.000</td></tr>",
                            "<tr><td>49</td><td>ANNE</td><td>CRONYN</td><td>2006-02-15 04:34:33.000</td></tr>",
                            "<tr><td>50</td><td>NATALIE</td><td>HOPKINS</td><td>2006-02-15 04:34:33.000</td></tr>",
                            "<tr><td>51</td><td>GARY</td><td>PHOENIX</td><td>2006-02-15 04:34:33.000</td></tr>",
                            "<tr><td>52</td><td>CARMEN</td><td>HUNT</td><td>2006-02-15 04:34:33.000</td></tr>",
                            "<tr><td>53</td><td>MENA</td><td>TEMPLE</td><td>2006-02-15 04:34:33.000</td></tr>",
                            "<tr><td>54</td><td>PENELOPE</td><td>PINKETT</td><td>2006-02-15 04:34:33.000</td></tr>",
                            "<tr><td>55</td><td>FAY</td><td>KILMER</td><td>2006-02-15 04:34:33.000</td></tr>",
                            "<tr><td>56</td><td>DAN</td><td>HARRIS</td><td>2006-02-15 04:34:33.000</td></tr>",
                            "<tr><td>57</td><td>JUDE</td><td>CRUISE</td><td>2006-02-15 04:34:33.000</td></tr>",
                            "<tr><td>58</td><td>CHRISTIAN</td><td>AKROYD</td><td>2006-02-15 04:34:33.000</td></tr>",
                            "<tr><td>59</td><td>DUSTIN</td><td>TAUTOU</td><td>2006-02-15 04:34:33.000</td></tr>",
                            "<tr><td>60</td><td>HENRY</td><td>BERRY</td><td>2006-02-15 04:34:33.000</td></tr>",
                            "<tr><td>61</td><td>CHRISTIAN</td><td>NEESON</td><td>2006-02-15 04:34:33.000</td></tr>",
                            "<tr><td>62</td><td>JAYNE</td><td>NEESON</td><td>2006-02-15 04:34:33.000</td></tr>",
                            "<tr><td>63</td><td>CAMERON</td><td>WRAY</td><td>2006-02-15 04:34:33.000</td></tr>",
                            "<tr><td>64</td><td>RAY</td><td>JOHANSSON</td><td>2006-02-15 04:34:33.000</td></tr>",
                            "<tr><td>65</td><td>ANGELA</td><td>HUDSON</td><td>2006-02-15 04:34:33.000</td></tr>",
                            "<tr><td>66</td><td>MARY</td><td>TANDY</td><td>2006-02-15 04:34:33.000</td></tr>",
                            "<tr><td>67</td><td>JESSICA</td><td>BAILEY</td><td>2006-02-15 04:34:33.000</td></tr>",
                            "<tr><td>68</td><td>RIP</td><td>WINSLET</td><td>2006-02-15 04:34:33.000</td></tr>",
                            "<tr><td>69</td><td>KENNETH</td><td>PALTROW</td><td>2006-02-15 04:34:33.000</td></tr>",
                            "<tr><td>70</td><td>MICHELLE</td><td>MCCONAUGHEY</td><td>2006-02-15 04:34:33.000</td></tr>",
                            "<tr><td>71</td><td>ADAM</td><td>GRANT</td><td>2006-02-15 04:34:33.000</td></tr>",
                            "<tr><td>72</td><td>SEAN</td><td>WILLIAMS</td><td>2006-02-15 04:34:33.000</td></tr>",
                            "<tr><td>73</td><td>GARY</td><td>PENN</td><td>2006-02-15 04:34:33.000</td></tr>",
                            "<tr><td>74</td><td>MILLA</td><td>KEITEL</td><td>2006-02-15 04:34:33.000</td></tr>",
                            "<tr><td>75</td><td>BURT</td><td>POSEY</td><td>2006-02-15 04:34:33.000</td></tr>",
                            "<tr><td>76</td><td>ANGELINA</td><td>ASTAIRE</td><td>2006-02-15 04:34:33.000</td></tr>",
                            "<tr><td>77</td><td>CARY</td><td>MCCONAUGHEY</td><td>2006-02-15 04:34:33.000</td></tr>",
                            "<tr><td>78</td><td>GROUCHO</td><td>SINATRA</td><td>2006-02-15 04:34:33.000</td></tr>",
                            "<tr><td>79</td><td>MAE</td><td>HOFFMAN</td><td>2006-02-15 04:34:33.000</td></tr>",
                            "<tr><td>80</td><td>RALPH</td><td>CRUZ</td><td>2006-02-15 04:34:33.000</td></tr>",
                            "<tr><td>81</td><td>SCARLETT</td><td>DAMON</td><td>2006-02-15 04:34:33.000</td></tr>",
                            "<tr><td>82</td><td>WOODY</td><td>JOLIE</td><td>2006-02-15 04:34:33.000</td></tr>",
                            "<tr><td>83</td><td>BEN</td><td>WILLIS</td><td>2006-02-15 04:34:33.000</td></tr>",
                            "<tr><td>84</td><td>JAMES</td><td>PITT</td><td>2006-02-15 04:34:33.000</td></tr>",
                            "<tr><td>85</td><td>MINNIE</td><td>ZELLWEGER</td><td>2006-02-15 04:34:33.000</td></tr>",
                            "<tr><td>86</td><td>GREG</td><td>CHAPLIN</td><td>2006-02-15 04:34:33.000</td></tr>",
                            "<tr><td>87</td><td>SPENCER</td><td>PECK</td><td>2006-02-15 04:34:33.000</td></tr>",
                            "<tr><td>88</td><td>KENNETH</td><td>PESCI</td><td>2006-02-15 04:34:33.000</td></tr>",
                            "<tr><td>89</td><td>CHARLIZE</td><td>DENCH</td><td>2006-02-15 04:34:33.000</td></tr>",
                            "<tr><td>90</td><td>SEAN</td><td>GUINESS</td><td>2006-02-15 04:34:33.000</td></tr>",
                            "<tr><td>91</td><td>CHRISTOPHER</td><td>BERRY</td><td>2006-02-15 04:34:33.000</td></tr>",
                            "<tr><td>92</td><td>KIRSTEN</td><td>AKROYD</td><td>2006-02-15 04:34:33.000</td></tr>",
                            "<tr><td>93</td><td>ELLEN</td><td>PRESLEY</td><td>2006-02-15 04:34:33.000</td></tr>",
                            "<tr><td>94</td><td>KENNETH</td><td>TORN</td><td>2006-02-15 04:34:33.000</td></tr>",
                            "<tr><td>95</td><td>DARYL</td><td>WAHLBERG</td><td>2006-02-15 04:34:33.000</td></tr>",
                            "<tr><td>96</td><td>GENE</td><td>WILLIS</td><td>2006-02-15 04:34:33.000</td></tr>",
                            "<tr><td>97</td><td>MEG</td><td>HAWKE</td><td>2006-02-15 04:34:33.000</td></tr>",
                            "<tr><td>98</td><td>CHRIS</td><td>BRIDGES</td><td>2006-02-15 04:34:33.000</td></tr>",
                            "<tr><td>99</td><td>JIM</td><td>MOSTEL</td><td>2006-02-15 04:34:33.000</td></tr>",
                            "<tr><td>100</td><td>SPENCER</td><td>DEPP</td><td>2006-02-15 04:34:33.000</td></tr>",
                            "<tr><td>101</td><td>SUSAN</td><td>DAVIS</td><td>2006-02-15 04:34:33.000</td></tr>",
                            "<tr><td>102</td><td>WALTER</td><td>TORN</td><td>2006-02-15 04:34:33.000</td></tr>",
                            "<tr><td>103</td><td>MATTHEW</td><td>LEIGH</td><td>2006-02-15 04:34:33.000</td></tr>",
                            "<tr><td>104</td><td>PENELOPE</td><td>CRONYN</td><td>2006-02-15 04:34:33.000</td></tr>",
                            "<tr><td>105</td><td>SIDNEY</td><td>CROWE</td><td>2006-02-15 04:34:33.000</td></tr>",
                            "<tr><td>106</td><td>GROUCHO</td><td>DUNST</td><td>2006-02-15 04:34:33.000</td></tr>",
                            "<tr><td>107</td><td>GINA</td><td>DEGENERES</td><td>2006-02-15 04:34:33.000</td></tr>",
                            "<tr><td>108</td><td>WARREN</td><td>NOLTE</td><td>2006-02-15 04:34:33.000</td></tr>",
                            "<tr><td>109</td><td>SYLVESTER</td><td>DERN</td><td>2006-02-15 04:34:33.000</td></tr>",
                            "<tr><td>110</td><td>SUSAN</td><td>DAVIS</td><td>2006-02-15 04:34:33.000</td></tr>",
                            "<tr><td>111</td><td>CAMERON</td><td>ZELLWEGER</td><td>2006-02-15 04:34:33.000</td></tr>",
                            "<tr><td>112</td><td>RUSSELL</td><td>BACALL</td><td>2006-02-15 04:34:33.000</td></tr>",
                            "<tr><td>113</td><td>MORGAN</td><td>HOPKINS</td><td>2006-02-15 04:34:33.000</td></tr>",
                            "<tr><td>114</td><td>MORGAN</td><td>MCDORMAND</td><td>2006-02-15 04:34:33.000</td></tr>",
                            "<tr><td>115</td><td>HARRISON</td><td>BALE</td><td>2006-02-15 04:34:33.000</td></tr>",
                            "<tr><td>116</td><td>DAN</td><td>STREEP</td><td>2006-02-15 04:34:33.000</td></tr>",
                            "<tr><td>117</td><td>RENEE</td><td>TRACY</td><td>2006-02-15 04:34:33.000</td></tr>",
                            "<tr><td>118</td><td>CUBA</td><td>ALLEN</td><td>2006-02-15 04:34:33.000</td></tr>",
                            "<tr><td>119</td><td>WARREN</td><td>JACKMAN</td><td>2006-02-15 04:34:33.000</td></tr>",
                            "<tr><td>120</td><td>PENELOPE</td><td>MONROE</td><td>2006-02-15 04:34:33.000</td></tr>",
                            "<tr><td>121</td><td>LIZA</td><td>BERGMAN</td><td>2006-02-15 04:34:33.000</td></tr>",
                            "<tr><td>122</td><td>SALMA</td><td>NOLTE</td><td>2006-02-15 04:34:33.000</td></tr>",
                            "<tr><td>123</td><td>JULIANNE</td><td>DENCH</td><td>2006-02-15 04:34:33.000</td></tr>",
                            "<tr><td>124</td><td>SCARLETT</td><td>BENING</td><td>2006-02-15 04:34:33.000</td></tr>",
                            "<tr><td>125</td><td>ALBERT</td><td>NOLTE</td><td>2006-02-15 04:34:33.000</td></tr>",
                            "<tr><td>126</td><td>FRANCES</td><td>TOMEI</td><td>2006-02-15 04:34:33.000</td></tr>",
                            "<tr><td>127</td><td>KEVIN</td><td>GARLAND</td><td>2006-02-15 04:34:33.000</td></tr>",
                            "<tr><td>128</td><td>CATE</td><td>MCQUEEN</td><td>2006-02-15 04:34:33.000</td></tr>",
                            "<tr><td>129</td><td>DARYL</td><td>CRAWFORD</td><td>2006-02-15 04:34:33.000</td></tr>",
                            "<tr><td>130</td><td>GRETA</td><td>KEITEL</td><td>2006-02-15 04:34:33.000</td></tr>",
                            "<tr><td>131</td><td>JANE</td><td>JACKMAN</td><td>2006-02-15 04:34:33.000</td></tr>",
                            "<tr><td>132</td><td>ADAM</td><td>HOPPER</td><td>2006-02-15 04:34:33.000</td></tr>",
                            "<tr><td>133</td><td>RICHARD</td><td>PENN</td><td>2006-02-15 04:34:33.000</td></tr>",
                            "<tr><td>134</td><td>GENE</td><td>HOPKINS</td><td>2006-02-15 04:34:33.000</td></tr>",
                            "<tr><td>135</td><td>RITA</td><td>REYNOLDS</td><td>2006-02-15 04:34:33.000</td></tr>",
                            "<tr><td>136</td><td>ED</td><td>MANSFIELD</td><td>2006-02-15 04:34:33.000</td></tr>",
                            "<tr><td>137</td><td>MORGAN</td><td>WILLIAMS</td><td>2006-02-15 04:34:33.000</td></tr>",
                            "<tr><td>138</td><td>LUCILLE</td><td>DEE</td><td>2006-02-15 04:34:33.000</td></tr>",
                            "<tr><td>139</td><td>EWAN</td><td>GOODING</td><td>2006-02-15 04:34:33.000</td></tr>",
                            "<tr><td>140</td><td>WHOOPI</td><td>HURT</td><td>2006-02-15 04:34:33.000</td></tr>",
                            "<tr><td>141</td><td>CATE</td><td>HARRIS</td><td>2006-02-15 04:34:33.000</td></tr>",
                            "<tr><td>142</td><td>JADA</td><td>RYDER</td><td>2006-02-15 04:34:33.000</td></tr>",
                            "<tr><td>143</td><td>RIVER</td><td>DEAN</td><td>2006-02-15 04:34:33.000</td></tr>",
                            "<tr><td>144</td><td>ANGELA</td><td>WITHERSPOON</td><td>2006-02-15 04:34:33.000</td></tr>",
                            "<tr><td>145</td><td>KIM</td><td>ALLEN</td><td>2006-02-15 04:34:33.000</td></tr>",
                            "<tr><td>146</td><td>ALBERT</td><td>JOHANSSON</td><td>2006-02-15 04:34:33.000</td></tr>",
                            "<tr><td>147</td><td>FAY</td><td>WINSLET</td><td>2006-02-15 04:34:33.000</td></tr>",
                            "<tr><td>148</td><td>EMILY</td><td>DEE</td><td>2006-02-15 04:34:33.000</td></tr>",
                            "<tr><td>149</td><td>RUSSELL</td><td>TEMPLE</td><td>2006-02-15 04:34:33.000</td></tr>",
                            "<tr><td>150</td><td>JAYNE</td><td>NOLTE</td><td>2006-02-15 04:34:33.000</td></tr>",
                            "<tr><td>151</td><td>GEOFFREY</td><td>HESTON</td><td>2006-02-15 04:34:33.000</td></tr>",
                            "<tr><td>152</td><td>BEN</td><td>HARRIS</td><td>2006-02-15 04:34:33.000</td></tr>",
                            "<tr><td>153</td><td>MINNIE</td><td>KILMER</td><td>2006-02-15 04:34:33.000</td></tr>",
                            "<tr><td>154</td><td>MERYL</td><td>GIBSON</td><td>2006-02-15 04:34:33.000</td></tr>",
                            "<tr><td>155</td><td>IAN</td><td>TANDY</td><td>2006-02-15 04:34:33.000</td></tr>",
                            "<tr><td>156</td><td>FAY</td><td>WOOD</td><td>2006-02-15 04:34:33.000</td></tr>",
                            "<tr><td>157</td><td>GRETA</td><td>MALDEN</td><td>2006-02-15 04:34:33.000</td></tr>",
                            "<tr><td>158</td><td>VIVIEN</td><td>BASINGER</td><td>2006-02-15 04:34:33.000</td></tr>",
                            "<tr><td>159</td><td>LAURA</td><td>BRODY</td><td>2006-02-15 04:34:33.000</td></tr>",
                            "<tr><td>160</td><td>CHRIS</td><td>DEPP</td><td>2006-02-15 04:34:33.000</td></tr>",
                            "<tr><td>161</td><td>HARVEY</td><td>HOPE</td><td>2006-02-15 04:34:33.000</td></tr>",
                            "<tr><td>162</td><td>OPRAH</td><td>KILMER</td><td>2006-02-15 04:34:33.000</td></tr>",
                            "<tr><td>163</td><td>CHRISTOPHER</td><td>WEST</td><td>2006-02-15 04:34:33.000</td></tr>",
                            "<tr><td>164</td><td>HUMPHREY</td><td>WILLIS</td><td>2006-02-15 04:34:33.000</td></tr>",
                            "<tr><td>165</td><td>AL</td><td>GARLAND</td><td>2006-02-15 04:34:33.000</td></tr>",
                            "<tr><td>166</td><td>NICK</td><td>DEGENERES</td><td>2006-02-15 04:34:33.000</td></tr>",
                            "<tr><td>167</td><td>LAURENCE</td><td>BULLOCK</td><td>2006-02-15 04:34:33.000</td></tr>",
                            "<tr><td>168</td><td>WILL</td><td>WILSON</td><td>2006-02-15 04:34:33.000</td></tr>",
                            "<tr><td>169</td><td>KENNETH</td><td>HOFFMAN</td><td>2006-02-15 04:34:33.000</td></tr>",
                            "<tr><td>170</td><td>MENA</td><td>HOPPER</td><td>2006-02-15 04:34:33.000</td></tr>",
                            "<tr><td>171</td><td>OLYMPIA</td><td>PFEIFFER</td><td>2006-02-15 04:34:33.000</td></tr>",
                            "<tr><td>172</td><td>GROUCHO</td><td>WILLIAMS</td><td>2006-02-15 04:34:33.000</td></tr>",
                            "<tr><td>173</td><td>ALAN</td><td>DREYFUSS</td><td>2006-02-15 04:34:33.000</td></tr>",
                            "<tr><td>174</td><td>MICHAEL</td><td>BENING</td><td>2006-02-15 04:34:33.000</td></tr>",
                            "<tr><td>175</td><td>WILLIAM</td><td>HACKMAN</td><td>2006-02-15 04:34:33.000</td></tr>",
                            "<tr><td>176</td><td>JON</td><td>CHASE</td><td>2006-02-15 04:34:33.000</td></tr>",
                            "<tr><td>177</td><td>GENE</td><td>MCKELLEN</td><td>2006-02-15 04:34:33.000</td></tr>",
                            "<tr><td>178</td><td>LISA</td><td>MONROE</td><td>2006-02-15 04:34:33.000</td></tr>",
                            "<tr><td>179</td><td>ED</td><td>GUINESS</td><td>2006-02-15 04:34:33.000</td></tr>",
                            "<tr><td>180</td><td>JEFF</td><td>SILVERSTONE</td><td>2006-02-15 04:34:33.000</td></tr>",
                            "<tr><td>181</td><td>MATTHEW</td><td>CARREY</td><td>2006-02-15 04:34:33.000</td></tr>",
                            "<tr><td>182</td><td>DEBBIE</td><td>AKROYD</td><td>2006-02-15 04:34:33.000</td></tr>",
                            "<tr><td>183</td><td>RUSSELL</td><td>CLOSE</td><td>2006-02-15 04:34:33.000</td></tr>",
                            "<tr><td>184</td><td>HUMPHREY</td><td>GARLAND</td><td>2006-02-15 04:34:33.000</td></tr>",
                            "<tr><td>185</td><td>MICHAEL</td><td>BOLGER</td><td>2006-02-15 04:34:33.000</td></tr>",
                            "<tr><td>186</td><td>JULIA</td><td>ZELLWEGER</td><td>2006-02-15 04:34:33.000</td></tr>",
                            "<tr><td>187</td><td>RENEE</td><td>BALL</td><td>2006-02-15 04:34:33.000</td></tr>",
                            "<tr><td>188</td><td>ROCK</td><td>DUKAKIS</td><td>2006-02-15 04:34:33.000</td></tr>",
                            "<tr><td>189</td><td>CUBA</td><td>BIRCH</td><td>2006-02-15 04:34:33.000</td></tr>",
                            "<tr><td>190</td><td>AUDREY</td><td>BAILEY</td><td>2006-02-15 04:34:33.000</td></tr>",
                            "<tr><td>191</td><td>GREGORY</td><td>GOODING</td><td>2006-02-15 04:34:33.000</td></tr>",
                            "<tr><td>192</td><td>JOHN</td><td>SUVARI</td><td>2006-02-15 04:34:33.000</td></tr>",
                            "<tr><td>193</td><td>BURT</td><td>TEMPLE</td><td>2006-02-15 04:34:33.000</td></tr>",
                            "<tr><td>194</td><td>MERYL</td><td>ALLEN</td><td>2006-02-15 04:34:33.000</td></tr>",
                            "<tr><td>195</td><td>JAYNE</td><td>SILVERSTONE</td><td>2006-02-15 04:34:33.000</td></tr>",
                            "<tr><td>196</td><td>BELA</td><td>WALKEN</td><td>2006-02-15 04:34:33.000</td></tr>",
                            "<tr><td>197</td><td>REESE</td><td>WEST</td><td>2006-02-15 04:34:33.000</td></tr>",
                            "<tr><td>198</td><td>MARY</td><td>KEITEL</td><td>2006-02-15 04:34:33.000</td></tr>",
                            "<tr><td>199</td><td>JULIA</td><td>FAWCETT</td><td>2006-02-15 04:34:33.000</td></tr>",
                            "<tr><td>200</td><td>THORA</td><td>TEMPLE</td><td>2006-02-15 04:34:33.000</td></tr>",
                            "</table>"
                        ]
                    }
                }
            ],
            "execution_count": 2
        },
        {
            "cell_type": "code",
            "source": [
                "SELECT *\r\n",
                "FROM category;"
            ],
            "metadata": {
                "azdata_cell_guid": "02fb67dc-5134-4489-95ec-aa7c10691f4b"
            },
            "outputs": [
                {
                    "output_type": "display_data",
                    "data": {
                        "text/html": "(16 rows affected)"
                    },
                    "metadata": {}
                },
                {
                    "output_type": "display_data",
                    "data": {
                        "text/html": "Total execution time: 00:00:00.008"
                    },
                    "metadata": {}
                },
                {
                    "output_type": "execute_result",
                    "metadata": {
                        "resultSet": {
                            "id": 0,
                            "batchId": 0,
                            "rowCount": 16,
                            "complete": true,
                            "columnInfo": [
                                {
                                    "isBytes": false,
                                    "isChars": false,
                                    "isSqlVariant": false,
                                    "isUdt": false,
                                    "isXml": false,
                                    "isJson": false,
                                    "sqlDbType": 20,
                                    "isHierarchyId": false,
                                    "isSqlXmlType": false,
                                    "isUnknownType": false,
                                    "isUpdatable": false,
                                    "allowDBNull": false,
                                    "baseCatalogName": null,
                                    "baseColumnName": null,
                                    "baseSchemaName": null,
                                    "baseServerName": null,
                                    "baseTableName": null,
                                    "columnName": "category_id",
                                    "columnOrdinal": 0,
                                    "columnSize": 1,
                                    "isAliased": null,
                                    "isAutoIncrement": true,
                                    "isExpression": null,
                                    "isHidden": null,
                                    "isIdentity": true,
                                    "isKey": null,
                                    "isLong": false,
                                    "isReadOnly": true,
                                    "isUnique": false,
                                    "numericPrecision": 3,
                                    "numericScale": 255,
                                    "udtAssemblyQualifiedName": null,
                                    "dataType": "System.Byte, System.Private.CoreLib, Version=4.0.0.0, Culture=neutral, PublicKeyToken=7cec85d7bea7798e",
                                    "dataTypeName": "tinyint"
                                },
                                {
                                    "isBytes": false,
                                    "isChars": true,
                                    "isSqlVariant": false,
                                    "isUdt": false,
                                    "isXml": false,
                                    "isJson": false,
                                    "sqlDbType": 22,
                                    "isHierarchyId": false,
                                    "isSqlXmlType": false,
                                    "isUnknownType": false,
                                    "isUpdatable": true,
                                    "allowDBNull": false,
                                    "baseCatalogName": null,
                                    "baseColumnName": null,
                                    "baseSchemaName": null,
                                    "baseServerName": null,
                                    "baseTableName": null,
                                    "columnName": "name",
                                    "columnOrdinal": 1,
                                    "columnSize": 25,
                                    "isAliased": null,
                                    "isAutoIncrement": false,
                                    "isExpression": null,
                                    "isHidden": null,
                                    "isIdentity": false,
                                    "isKey": null,
                                    "isLong": false,
                                    "isReadOnly": false,
                                    "isUnique": false,
                                    "numericPrecision": 255,
                                    "numericScale": 255,
                                    "udtAssemblyQualifiedName": null,
                                    "dataType": "System.String, System.Private.CoreLib, Version=4.0.0.0, Culture=neutral, PublicKeyToken=7cec85d7bea7798e",
                                    "dataTypeName": "varchar"
                                },
                                {
                                    "isBytes": false,
                                    "isChars": false,
                                    "isSqlVariant": false,
                                    "isUdt": false,
                                    "isXml": false,
                                    "isJson": false,
                                    "sqlDbType": 4,
                                    "isHierarchyId": false,
                                    "isSqlXmlType": false,
                                    "isUnknownType": false,
                                    "isUpdatable": true,
                                    "allowDBNull": false,
                                    "baseCatalogName": null,
                                    "baseColumnName": null,
                                    "baseSchemaName": null,
                                    "baseServerName": null,
                                    "baseTableName": null,
                                    "columnName": "last_update",
                                    "columnOrdinal": 2,
                                    "columnSize": 8,
                                    "isAliased": null,
                                    "isAutoIncrement": false,
                                    "isExpression": null,
                                    "isHidden": null,
                                    "isIdentity": false,
                                    "isKey": null,
                                    "isLong": false,
                                    "isReadOnly": false,
                                    "isUnique": false,
                                    "numericPrecision": 23,
                                    "numericScale": 3,
                                    "udtAssemblyQualifiedName": null,
                                    "dataType": "System.DateTime, System.Private.CoreLib, Version=4.0.0.0, Culture=neutral, PublicKeyToken=7cec85d7bea7798e",
                                    "dataTypeName": "datetime"
                                }
                            ],
                            "specialAction": {
                                "none": true,
                                "expectYukonXMLShowPlan": false
                            }
                        }
                    },
                    "execution_count": 3,
                    "data": {
                        "application/vnd.dataresource+json": {
                            "schema": {
                                "fields": [
                                    {
                                        "name": "category_id"
                                    },
                                    {
                                        "name": "name"
                                    },
                                    {
                                        "name": "last_update"
                                    }
                                ]
                            },
                            "data": [
                                {
                                    "0": "1",
                                    "1": "Action",
                                    "2": "2006-02-15 04:46:27.000"
                                },
                                {
                                    "0": "2",
                                    "1": "Animation",
                                    "2": "2006-02-15 04:46:27.000"
                                },
                                {
                                    "0": "3",
                                    "1": "Children",
                                    "2": "2006-02-15 04:46:27.000"
                                },
                                {
                                    "0": "4",
                                    "1": "Classics",
                                    "2": "2006-02-15 04:46:27.000"
                                },
                                {
                                    "0": "5",
                                    "1": "Comedy",
                                    "2": "2006-02-15 04:46:27.000"
                                },
                                {
                                    "0": "6",
                                    "1": "Documentary",
                                    "2": "2006-02-15 04:46:27.000"
                                },
                                {
                                    "0": "7",
                                    "1": "Drama",
                                    "2": "2006-02-15 04:46:27.000"
                                },
                                {
                                    "0": "8",
                                    "1": "Family",
                                    "2": "2006-02-15 04:46:27.000"
                                },
                                {
                                    "0": "9",
                                    "1": "Foreign",
                                    "2": "2006-02-15 04:46:27.000"
                                },
                                {
                                    "0": "10",
                                    "1": "Games",
                                    "2": "2006-02-15 04:46:27.000"
                                },
                                {
                                    "0": "11",
                                    "1": "Horror",
                                    "2": "2006-02-15 04:46:27.000"
                                },
                                {
                                    "0": "12",
                                    "1": "Music",
                                    "2": "2006-02-15 04:46:27.000"
                                },
                                {
                                    "0": "13",
                                    "1": "New",
                                    "2": "2006-02-15 04:46:27.000"
                                },
                                {
                                    "0": "14",
                                    "1": "Sci-Fi",
                                    "2": "2006-02-15 04:46:27.000"
                                },
                                {
                                    "0": "15",
                                    "1": "Sports",
                                    "2": "2006-02-15 04:46:27.000"
                                },
                                {
                                    "0": "16",
                                    "1": "Travel",
                                    "2": "2006-02-15 04:46:27.000"
                                }
                            ]
                        },
                        "text/html": [
                            "<table>",
                            "<tr><th>category_id</th><th>name</th><th>last_update</th></tr>",
                            "<tr><td>1</td><td>Action</td><td>2006-02-15 04:46:27.000</td></tr>",
                            "<tr><td>2</td><td>Animation</td><td>2006-02-15 04:46:27.000</td></tr>",
                            "<tr><td>3</td><td>Children</td><td>2006-02-15 04:46:27.000</td></tr>",
                            "<tr><td>4</td><td>Classics</td><td>2006-02-15 04:46:27.000</td></tr>",
                            "<tr><td>5</td><td>Comedy</td><td>2006-02-15 04:46:27.000</td></tr>",
                            "<tr><td>6</td><td>Documentary</td><td>2006-02-15 04:46:27.000</td></tr>",
                            "<tr><td>7</td><td>Drama</td><td>2006-02-15 04:46:27.000</td></tr>",
                            "<tr><td>8</td><td>Family</td><td>2006-02-15 04:46:27.000</td></tr>",
                            "<tr><td>9</td><td>Foreign</td><td>2006-02-15 04:46:27.000</td></tr>",
                            "<tr><td>10</td><td>Games</td><td>2006-02-15 04:46:27.000</td></tr>",
                            "<tr><td>11</td><td>Horror</td><td>2006-02-15 04:46:27.000</td></tr>",
                            "<tr><td>12</td><td>Music</td><td>2006-02-15 04:46:27.000</td></tr>",
                            "<tr><td>13</td><td>New</td><td>2006-02-15 04:46:27.000</td></tr>",
                            "<tr><td>14</td><td>Sci-Fi</td><td>2006-02-15 04:46:27.000</td></tr>",
                            "<tr><td>15</td><td>Sports</td><td>2006-02-15 04:46:27.000</td></tr>",
                            "<tr><td>16</td><td>Travel</td><td>2006-02-15 04:46:27.000</td></tr>",
                            "</table>"
                        ]
                    }
                }
            ],
            "execution_count": 3
        },
        {
            "cell_type": "markdown",
            "source": [
                "## The select Clause"
            ],
            "metadata": {
                "azdata_cell_guid": "f4f0d237-1943-4f5f-895b-27d8940c8875"
            }
        },
        {
            "cell_type": "code",
            "source": [
                "SELECT *\r\n",
                "FROM language;"
            ],
            "metadata": {
                "azdata_cell_guid": "5c94e5bc-5a32-47e1-8c78-7e739641e799"
            },
            "outputs": [
                {
                    "output_type": "display_data",
                    "data": {
                        "text/html": "(6 rows affected)"
                    },
                    "metadata": {}
                },
                {
                    "output_type": "display_data",
                    "data": {
                        "text/html": "Total execution time: 00:00:00.006"
                    },
                    "metadata": {}
                },
                {
                    "output_type": "execute_result",
                    "metadata": {
                        "resultSet": {
                            "id": 0,
                            "batchId": 0,
                            "rowCount": 6,
                            "complete": true,
                            "columnInfo": [
                                {
                                    "isBytes": false,
                                    "isChars": false,
                                    "isSqlVariant": false,
                                    "isUdt": false,
                                    "isXml": false,
                                    "isJson": false,
                                    "sqlDbType": 20,
                                    "isHierarchyId": false,
                                    "isSqlXmlType": false,
                                    "isUnknownType": false,
                                    "isUpdatable": false,
                                    "allowDBNull": false,
                                    "baseCatalogName": null,
                                    "baseColumnName": null,
                                    "baseSchemaName": null,
                                    "baseServerName": null,
                                    "baseTableName": null,
                                    "columnName": "language_id",
                                    "columnOrdinal": 0,
                                    "columnSize": 1,
                                    "isAliased": null,
                                    "isAutoIncrement": true,
                                    "isExpression": null,
                                    "isHidden": null,
                                    "isIdentity": true,
                                    "isKey": null,
                                    "isLong": false,
                                    "isReadOnly": true,
                                    "isUnique": false,
                                    "numericPrecision": 3,
                                    "numericScale": 255,
                                    "udtAssemblyQualifiedName": null,
                                    "dataType": "System.Byte, System.Private.CoreLib, Version=4.0.0.0, Culture=neutral, PublicKeyToken=7cec85d7bea7798e",
                                    "dataTypeName": "tinyint"
                                },
                                {
                                    "isBytes": false,
                                    "isChars": false,
                                    "isSqlVariant": false,
                                    "isUdt": false,
                                    "isXml": false,
                                    "isJson": false,
                                    "sqlDbType": 3,
                                    "isHierarchyId": false,
                                    "isSqlXmlType": false,
                                    "isUnknownType": false,
                                    "isUpdatable": true,
                                    "allowDBNull": false,
                                    "baseCatalogName": null,
                                    "baseColumnName": null,
                                    "baseSchemaName": null,
                                    "baseServerName": null,
                                    "baseTableName": null,
                                    "columnName": "name",
                                    "columnOrdinal": 1,
                                    "columnSize": 20,
                                    "isAliased": null,
                                    "isAutoIncrement": false,
                                    "isExpression": null,
                                    "isHidden": null,
                                    "isIdentity": false,
                                    "isKey": null,
                                    "isLong": false,
                                    "isReadOnly": false,
                                    "isUnique": false,
                                    "numericPrecision": 255,
                                    "numericScale": 255,
                                    "udtAssemblyQualifiedName": null,
                                    "dataType": "System.String, System.Private.CoreLib, Version=4.0.0.0, Culture=neutral, PublicKeyToken=7cec85d7bea7798e",
                                    "dataTypeName": "char"
                                },
                                {
                                    "isBytes": false,
                                    "isChars": false,
                                    "isSqlVariant": false,
                                    "isUdt": false,
                                    "isXml": false,
                                    "isJson": false,
                                    "sqlDbType": 4,
                                    "isHierarchyId": false,
                                    "isSqlXmlType": false,
                                    "isUnknownType": false,
                                    "isUpdatable": true,
                                    "allowDBNull": false,
                                    "baseCatalogName": null,
                                    "baseColumnName": null,
                                    "baseSchemaName": null,
                                    "baseServerName": null,
                                    "baseTableName": null,
                                    "columnName": "last_update",
                                    "columnOrdinal": 2,
                                    "columnSize": 8,
                                    "isAliased": null,
                                    "isAutoIncrement": false,
                                    "isExpression": null,
                                    "isHidden": null,
                                    "isIdentity": false,
                                    "isKey": null,
                                    "isLong": false,
                                    "isReadOnly": false,
                                    "isUnique": false,
                                    "numericPrecision": 23,
                                    "numericScale": 3,
                                    "udtAssemblyQualifiedName": null,
                                    "dataType": "System.DateTime, System.Private.CoreLib, Version=4.0.0.0, Culture=neutral, PublicKeyToken=7cec85d7bea7798e",
                                    "dataTypeName": "datetime"
                                }
                            ],
                            "specialAction": {
                                "none": true,
                                "expectYukonXMLShowPlan": false
                            }
                        }
                    },
                    "execution_count": 4,
                    "data": {
                        "application/vnd.dataresource+json": {
                            "schema": {
                                "fields": [
                                    {
                                        "name": "language_id"
                                    },
                                    {
                                        "name": "name"
                                    },
                                    {
                                        "name": "last_update"
                                    }
                                ]
                            },
                            "data": [
                                {
                                    "0": "1",
                                    "1": "English             ",
                                    "2": "2006-02-15 05:02:19.000"
                                },
                                {
                                    "0": "2",
                                    "1": "Italian             ",
                                    "2": "2006-02-15 05:02:19.000"
                                },
                                {
                                    "0": "3",
                                    "1": "Japanese            ",
                                    "2": "2006-02-15 05:02:19.000"
                                },
                                {
                                    "0": "4",
                                    "1": "Mandarin            ",
                                    "2": "2006-02-15 05:02:19.000"
                                },
                                {
                                    "0": "5",
                                    "1": "French              ",
                                    "2": "2006-02-15 05:02:19.000"
                                },
                                {
                                    "0": "6",
                                    "1": "German              ",
                                    "2": "2006-02-15 05:02:19.000"
                                }
                            ]
                        },
                        "text/html": [
                            "<table>",
                            "<tr><th>language_id</th><th>name</th><th>last_update</th></tr>",
                            "<tr><td>1</td><td>English             </td><td>2006-02-15 05:02:19.000</td></tr>",
                            "<tr><td>2</td><td>Italian             </td><td>2006-02-15 05:02:19.000</td></tr>",
                            "<tr><td>3</td><td>Japanese            </td><td>2006-02-15 05:02:19.000</td></tr>",
                            "<tr><td>4</td><td>Mandarin            </td><td>2006-02-15 05:02:19.000</td></tr>",
                            "<tr><td>5</td><td>French              </td><td>2006-02-15 05:02:19.000</td></tr>",
                            "<tr><td>6</td><td>German              </td><td>2006-02-15 05:02:19.000</td></tr>",
                            "</table>"
                        ]
                    }
                }
            ],
            "execution_count": 4
        },
        {
            "cell_type": "code",
            "source": [
                "SELECT language_id, name, last_update\r\n",
                "FROM language"
            ],
            "metadata": {
                "azdata_cell_guid": "8b727435-11bf-453e-a9de-b731405bd36a",
                "tags": []
            },
            "outputs": [
                {
                    "output_type": "display_data",
                    "data": {
                        "text/html": "(6 rows affected)"
                    },
                    "metadata": {}
                },
                {
                    "output_type": "display_data",
                    "data": {
                        "text/html": "Total execution time: 00:00:00.008"
                    },
                    "metadata": {}
                },
                {
                    "output_type": "execute_result",
                    "metadata": {
                        "resultSet": {
                            "id": 0,
                            "batchId": 0,
                            "rowCount": 6,
                            "complete": true,
                            "columnInfo": [
                                {
                                    "isBytes": false,
                                    "isChars": false,
                                    "isSqlVariant": false,
                                    "isUdt": false,
                                    "isXml": false,
                                    "isJson": false,
                                    "sqlDbType": 20,
                                    "isHierarchyId": false,
                                    "isSqlXmlType": false,
                                    "isUnknownType": false,
                                    "isUpdatable": false,
                                    "allowDBNull": false,
                                    "baseCatalogName": null,
                                    "baseColumnName": null,
                                    "baseSchemaName": null,
                                    "baseServerName": null,
                                    "baseTableName": null,
                                    "columnName": "language_id",
                                    "columnOrdinal": 0,
                                    "columnSize": 1,
                                    "isAliased": null,
                                    "isAutoIncrement": true,
                                    "isExpression": null,
                                    "isHidden": null,
                                    "isIdentity": true,
                                    "isKey": null,
                                    "isLong": false,
                                    "isReadOnly": true,
                                    "isUnique": false,
                                    "numericPrecision": 3,
                                    "numericScale": 255,
                                    "udtAssemblyQualifiedName": null,
                                    "dataType": "System.Byte, System.Private.CoreLib, Version=4.0.0.0, Culture=neutral, PublicKeyToken=7cec85d7bea7798e",
                                    "dataTypeName": "tinyint"
                                },
                                {
                                    "isBytes": false,
                                    "isChars": false,
                                    "isSqlVariant": false,
                                    "isUdt": false,
                                    "isXml": false,
                                    "isJson": false,
                                    "sqlDbType": 3,
                                    "isHierarchyId": false,
                                    "isSqlXmlType": false,
                                    "isUnknownType": false,
                                    "isUpdatable": true,
                                    "allowDBNull": false,
                                    "baseCatalogName": null,
                                    "baseColumnName": null,
                                    "baseSchemaName": null,
                                    "baseServerName": null,
                                    "baseTableName": null,
                                    "columnName": "name",
                                    "columnOrdinal": 1,
                                    "columnSize": 20,
                                    "isAliased": null,
                                    "isAutoIncrement": false,
                                    "isExpression": null,
                                    "isHidden": null,
                                    "isIdentity": false,
                                    "isKey": null,
                                    "isLong": false,
                                    "isReadOnly": false,
                                    "isUnique": false,
                                    "numericPrecision": 255,
                                    "numericScale": 255,
                                    "udtAssemblyQualifiedName": null,
                                    "dataType": "System.String, System.Private.CoreLib, Version=4.0.0.0, Culture=neutral, PublicKeyToken=7cec85d7bea7798e",
                                    "dataTypeName": "char"
                                },
                                {
                                    "isBytes": false,
                                    "isChars": false,
                                    "isSqlVariant": false,
                                    "isUdt": false,
                                    "isXml": false,
                                    "isJson": false,
                                    "sqlDbType": 4,
                                    "isHierarchyId": false,
                                    "isSqlXmlType": false,
                                    "isUnknownType": false,
                                    "isUpdatable": true,
                                    "allowDBNull": false,
                                    "baseCatalogName": null,
                                    "baseColumnName": null,
                                    "baseSchemaName": null,
                                    "baseServerName": null,
                                    "baseTableName": null,
                                    "columnName": "last_update",
                                    "columnOrdinal": 2,
                                    "columnSize": 8,
                                    "isAliased": null,
                                    "isAutoIncrement": false,
                                    "isExpression": null,
                                    "isHidden": null,
                                    "isIdentity": false,
                                    "isKey": null,
                                    "isLong": false,
                                    "isReadOnly": false,
                                    "isUnique": false,
                                    "numericPrecision": 23,
                                    "numericScale": 3,
                                    "udtAssemblyQualifiedName": null,
                                    "dataType": "System.DateTime, System.Private.CoreLib, Version=4.0.0.0, Culture=neutral, PublicKeyToken=7cec85d7bea7798e",
                                    "dataTypeName": "datetime"
                                }
                            ],
                            "specialAction": {
                                "none": true,
                                "expectYukonXMLShowPlan": false
                            }
                        }
                    },
                    "execution_count": 5,
                    "data": {
                        "application/vnd.dataresource+json": {
                            "schema": {
                                "fields": [
                                    {
                                        "name": "language_id"
                                    },
                                    {
                                        "name": "name"
                                    },
                                    {
                                        "name": "last_update"
                                    }
                                ]
                            },
                            "data": [
                                {
                                    "0": "1",
                                    "1": "English             ",
                                    "2": "2006-02-15 05:02:19.000"
                                },
                                {
                                    "0": "2",
                                    "1": "Italian             ",
                                    "2": "2006-02-15 05:02:19.000"
                                },
                                {
                                    "0": "3",
                                    "1": "Japanese            ",
                                    "2": "2006-02-15 05:02:19.000"
                                },
                                {
                                    "0": "4",
                                    "1": "Mandarin            ",
                                    "2": "2006-02-15 05:02:19.000"
                                },
                                {
                                    "0": "5",
                                    "1": "French              ",
                                    "2": "2006-02-15 05:02:19.000"
                                },
                                {
                                    "0": "6",
                                    "1": "German              ",
                                    "2": "2006-02-15 05:02:19.000"
                                }
                            ]
                        },
                        "text/html": [
                            "<table>",
                            "<tr><th>language_id</th><th>name</th><th>last_update</th></tr>",
                            "<tr><td>1</td><td>English             </td><td>2006-02-15 05:02:19.000</td></tr>",
                            "<tr><td>2</td><td>Italian             </td><td>2006-02-15 05:02:19.000</td></tr>",
                            "<tr><td>3</td><td>Japanese            </td><td>2006-02-15 05:02:19.000</td></tr>",
                            "<tr><td>4</td><td>Mandarin            </td><td>2006-02-15 05:02:19.000</td></tr>",
                            "<tr><td>5</td><td>French              </td><td>2006-02-15 05:02:19.000</td></tr>",
                            "<tr><td>6</td><td>German              </td><td>2006-02-15 05:02:19.000</td></tr>",
                            "</table>"
                        ]
                    }
                }
            ],
            "execution_count": 5
        },
        {
            "cell_type": "code",
            "source": [
                "SELECT name\r\n",
                "FROM language;"
            ],
            "metadata": {
                "azdata_cell_guid": "845df49e-dcba-4b3d-9d0b-e9e7ca2f4238"
            },
            "outputs": [
                {
                    "output_type": "display_data",
                    "data": {
                        "text/html": "(6 rows affected)"
                    },
                    "metadata": {}
                },
                {
                    "output_type": "display_data",
                    "data": {
                        "text/html": "Total execution time: 00:00:00.008"
                    },
                    "metadata": {}
                },
                {
                    "output_type": "execute_result",
                    "metadata": {
                        "resultSet": {
                            "id": 0,
                            "batchId": 0,
                            "rowCount": 6,
                            "complete": true,
                            "columnInfo": [
                                {
                                    "isBytes": false,
                                    "isChars": false,
                                    "isSqlVariant": false,
                                    "isUdt": false,
                                    "isXml": false,
                                    "isJson": false,
                                    "sqlDbType": 3,
                                    "isHierarchyId": false,
                                    "isSqlXmlType": false,
                                    "isUnknownType": false,
                                    "isUpdatable": true,
                                    "allowDBNull": false,
                                    "baseCatalogName": null,
                                    "baseColumnName": null,
                                    "baseSchemaName": null,
                                    "baseServerName": null,
                                    "baseTableName": null,
                                    "columnName": "name",
                                    "columnOrdinal": 0,
                                    "columnSize": 20,
                                    "isAliased": null,
                                    "isAutoIncrement": false,
                                    "isExpression": null,
                                    "isHidden": null,
                                    "isIdentity": false,
                                    "isKey": null,
                                    "isLong": false,
                                    "isReadOnly": false,
                                    "isUnique": false,
                                    "numericPrecision": 255,
                                    "numericScale": 255,
                                    "udtAssemblyQualifiedName": null,
                                    "dataType": "System.String, System.Private.CoreLib, Version=4.0.0.0, Culture=neutral, PublicKeyToken=7cec85d7bea7798e",
                                    "dataTypeName": "char"
                                }
                            ],
                            "specialAction": {
                                "none": true,
                                "expectYukonXMLShowPlan": false
                            }
                        }
                    },
                    "execution_count": 6,
                    "data": {
                        "application/vnd.dataresource+json": {
                            "schema": {
                                "fields": [
                                    {
                                        "name": "name"
                                    }
                                ]
                            },
                            "data": [
                                {
                                    "0": "English             "
                                },
                                {
                                    "0": "Italian             "
                                },
                                {
                                    "0": "Japanese            "
                                },
                                {
                                    "0": "Mandarin            "
                                },
                                {
                                    "0": "French              "
                                },
                                {
                                    "0": "German              "
                                }
                            ]
                        },
                        "text/html": [
                            "<table>",
                            "<tr><th>name</th></tr>",
                            "<tr><td>English             </td></tr>",
                            "<tr><td>Italian             </td></tr>",
                            "<tr><td>Japanese            </td></tr>",
                            "<tr><td>Mandarin            </td></tr>",
                            "<tr><td>French              </td></tr>",
                            "<tr><td>German              </td></tr>",
                            "</table>"
                        ]
                    }
                }
            ],
            "execution_count": 6
        },
        {
            "cell_type": "code",
            "source": [
                "SELECT language_id, 'COMMON' language_usage, language_id * 3.1415927 lang_pi_value,\r\n",
                "UPPER(name) language_name\r\n",
                "FROM language"
            ],
            "metadata": {
                "azdata_cell_guid": "c7977add-2faa-435b-9ef9-409f16d4f46e",
                "tags": []
            },
            "outputs": [
                {
                    "output_type": "display_data",
                    "data": {
                        "text/html": "(6 rows affected)"
                    },
                    "metadata": {}
                },
                {
                    "output_type": "display_data",
                    "data": {
                        "text/html": "Total execution time: 00:00:00.009"
                    },
                    "metadata": {}
                },
                {
                    "output_type": "execute_result",
                    "metadata": {
                        "resultSet": {
                            "id": 0,
                            "batchId": 0,
                            "rowCount": 6,
                            "complete": true,
                            "columnInfo": [
                                {
                                    "isBytes": false,
                                    "isChars": false,
                                    "isSqlVariant": false,
                                    "isUdt": false,
                                    "isXml": false,
                                    "isJson": false,
                                    "sqlDbType": 20,
                                    "isHierarchyId": false,
                                    "isSqlXmlType": false,
                                    "isUnknownType": false,
                                    "isUpdatable": false,
                                    "allowDBNull": false,
                                    "baseCatalogName": null,
                                    "baseColumnName": null,
                                    "baseSchemaName": null,
                                    "baseServerName": null,
                                    "baseTableName": null,
                                    "columnName": "language_id",
                                    "columnOrdinal": 0,
                                    "columnSize": 1,
                                    "isAliased": null,
                                    "isAutoIncrement": true,
                                    "isExpression": null,
                                    "isHidden": null,
                                    "isIdentity": true,
                                    "isKey": null,
                                    "isLong": false,
                                    "isReadOnly": true,
                                    "isUnique": false,
                                    "numericPrecision": 3,
                                    "numericScale": 255,
                                    "udtAssemblyQualifiedName": null,
                                    "dataType": "System.Byte, System.Private.CoreLib, Version=4.0.0.0, Culture=neutral, PublicKeyToken=7cec85d7bea7798e",
                                    "dataTypeName": "tinyint"
                                },
                                {
                                    "isBytes": false,
                                    "isChars": true,
                                    "isSqlVariant": false,
                                    "isUdt": false,
                                    "isXml": false,
                                    "isJson": false,
                                    "sqlDbType": 22,
                                    "isHierarchyId": false,
                                    "isSqlXmlType": false,
                                    "isUnknownType": false,
                                    "isUpdatable": false,
                                    "allowDBNull": false,
                                    "baseCatalogName": null,
                                    "baseColumnName": null,
                                    "baseSchemaName": null,
                                    "baseServerName": null,
                                    "baseTableName": null,
                                    "columnName": "language_usage",
                                    "columnOrdinal": 1,
                                    "columnSize": 6,
                                    "isAliased": null,
                                    "isAutoIncrement": false,
                                    "isExpression": null,
                                    "isHidden": null,
                                    "isIdentity": false,
                                    "isKey": null,
                                    "isLong": false,
                                    "isReadOnly": true,
                                    "isUnique": false,
                                    "numericPrecision": 255,
                                    "numericScale": 255,
                                    "udtAssemblyQualifiedName": null,
                                    "dataType": "System.String, System.Private.CoreLib, Version=4.0.0.0, Culture=neutral, PublicKeyToken=7cec85d7bea7798e",
                                    "dataTypeName": "varchar"
                                },
                                {
                                    "isBytes": false,
                                    "isChars": false,
                                    "isSqlVariant": false,
                                    "isUdt": false,
                                    "isXml": false,
                                    "isJson": false,
                                    "sqlDbType": 5,
                                    "isHierarchyId": false,
                                    "isSqlXmlType": false,
                                    "isUnknownType": false,
                                    "isUpdatable": false,
                                    "allowDBNull": true,
                                    "baseCatalogName": null,
                                    "baseColumnName": null,
                                    "baseSchemaName": null,
                                    "baseServerName": null,
                                    "baseTableName": null,
                                    "columnName": "lang_pi_value",
                                    "columnOrdinal": 2,
                                    "columnSize": 17,
                                    "isAliased": null,
                                    "isAutoIncrement": false,
                                    "isExpression": null,
                                    "isHidden": null,
                                    "isIdentity": false,
                                    "isKey": null,
                                    "isLong": false,
                                    "isReadOnly": true,
                                    "isUnique": false,
                                    "numericPrecision": 12,
                                    "numericScale": 7,
                                    "udtAssemblyQualifiedName": null,
                                    "dataType": "System.Decimal, System.Private.CoreLib, Version=4.0.0.0, Culture=neutral, PublicKeyToken=7cec85d7bea7798e",
                                    "dataTypeName": "decimal"
                                },
                                {
                                    "isBytes": false,
                                    "isChars": true,
                                    "isSqlVariant": false,
                                    "isUdt": false,
                                    "isXml": false,
                                    "isJson": false,
                                    "sqlDbType": 22,
                                    "isHierarchyId": false,
                                    "isSqlXmlType": false,
                                    "isUnknownType": false,
                                    "isUpdatable": false,
                                    "allowDBNull": true,
                                    "baseCatalogName": null,
                                    "baseColumnName": null,
                                    "baseSchemaName": null,
                                    "baseServerName": null,
                                    "baseTableName": null,
                                    "columnName": "language_name",
                                    "columnOrdinal": 3,
                                    "columnSize": 20,
                                    "isAliased": null,
                                    "isAutoIncrement": false,
                                    "isExpression": null,
                                    "isHidden": null,
                                    "isIdentity": false,
                                    "isKey": null,
                                    "isLong": false,
                                    "isReadOnly": true,
                                    "isUnique": false,
                                    "numericPrecision": 255,
                                    "numericScale": 255,
                                    "udtAssemblyQualifiedName": null,
                                    "dataType": "System.String, System.Private.CoreLib, Version=4.0.0.0, Culture=neutral, PublicKeyToken=7cec85d7bea7798e",
                                    "dataTypeName": "varchar"
                                }
                            ],
                            "specialAction": {
                                "none": true,
                                "expectYukonXMLShowPlan": false
                            }
                        }
                    },
                    "execution_count": 7,
                    "data": {
                        "application/vnd.dataresource+json": {
                            "schema": {
                                "fields": [
                                    {
                                        "name": "language_id"
                                    },
                                    {
                                        "name": "language_usage"
                                    },
                                    {
                                        "name": "lang_pi_value"
                                    },
                                    {
                                        "name": "language_name"
                                    }
                                ]
                            },
                            "data": [
                                {
                                    "0": "1",
                                    "1": "COMMON",
                                    "2": "3,1415927",
                                    "3": "ENGLISH             "
                                },
                                {
                                    "0": "2",
                                    "1": "COMMON",
                                    "2": "6,2831854",
                                    "3": "ITALIAN             "
                                },
                                {
                                    "0": "3",
                                    "1": "COMMON",
                                    "2": "9,4247781",
                                    "3": "JAPANESE            "
                                },
                                {
                                    "0": "4",
                                    "1": "COMMON",
                                    "2": "12,5663708",
                                    "3": "MANDARIN            "
                                },
                                {
                                    "0": "5",
                                    "1": "COMMON",
                                    "2": "15,7079635",
                                    "3": "FRENCH              "
                                },
                                {
                                    "0": "6",
                                    "1": "COMMON",
                                    "2": "18,8495562",
                                    "3": "GERMAN              "
                                }
                            ]
                        },
                        "text/html": [
                            "<table>",
                            "<tr><th>language_id</th><th>language_usage</th><th>lang_pi_value</th><th>language_name</th></tr>",
                            "<tr><td>1</td><td>COMMON</td><td>3,1415927</td><td>ENGLISH             </td></tr>",
                            "<tr><td>2</td><td>COMMON</td><td>6,2831854</td><td>ITALIAN             </td></tr>",
                            "<tr><td>3</td><td>COMMON</td><td>9,4247781</td><td>JAPANESE            </td></tr>",
                            "<tr><td>4</td><td>COMMON</td><td>12,5663708</td><td>MANDARIN            </td></tr>",
                            "<tr><td>5</td><td>COMMON</td><td>15,7079635</td><td>FRENCH              </td></tr>",
                            "<tr><td>6</td><td>COMMON</td><td>18,8495562</td><td>GERMAN              </td></tr>",
                            "</table>"
                        ]
                    }
                }
            ],
            "execution_count": 7
        },
        {
            "cell_type": "code",
            "source": [
                "SELECT @@VERSION AS 'SQL SERVER VERSION', USER AS 'USER', DB_NAME() AS 'DATABASE NAME'"
            ],
            "metadata": {
                "azdata_cell_guid": "594a9edb-bb71-49ea-bb4e-694d4169aeab"
            },
            "outputs": [
                {
                    "output_type": "display_data",
                    "data": {
                        "text/html": "(1 row affected)"
                    },
                    "metadata": {}
                },
                {
                    "output_type": "display_data",
                    "data": {
                        "text/html": "Total execution time: 00:00:00.006"
                    },
                    "metadata": {}
                },
                {
                    "output_type": "execute_result",
                    "metadata": {
                        "resultSet": {
                            "id": 0,
                            "batchId": 0,
                            "rowCount": 1,
                            "complete": true,
                            "columnInfo": [
                                {
                                    "isBytes": false,
                                    "isChars": true,
                                    "isSqlVariant": false,
                                    "isUdt": false,
                                    "isXml": false,
                                    "isJson": false,
                                    "sqlDbType": 12,
                                    "isHierarchyId": false,
                                    "isSqlXmlType": false,
                                    "isUnknownType": false,
                                    "isUpdatable": false,
                                    "allowDBNull": true,
                                    "baseCatalogName": null,
                                    "baseColumnName": null,
                                    "baseSchemaName": null,
                                    "baseServerName": null,
                                    "baseTableName": null,
                                    "columnName": "SQL SERVER VERSION",
                                    "columnOrdinal": 0,
                                    "columnSize": 300,
                                    "isAliased": null,
                                    "isAutoIncrement": false,
                                    "isExpression": null,
                                    "isHidden": null,
                                    "isIdentity": false,
                                    "isKey": null,
                                    "isLong": false,
                                    "isReadOnly": true,
                                    "isUnique": false,
                                    "numericPrecision": 255,
                                    "numericScale": 255,
                                    "udtAssemblyQualifiedName": null,
                                    "dataType": "System.String, System.Private.CoreLib, Version=4.0.0.0, Culture=neutral, PublicKeyToken=7cec85d7bea7798e",
                                    "dataTypeName": "nvarchar"
                                },
                                {
                                    "isBytes": false,
                                    "isChars": true,
                                    "isSqlVariant": false,
                                    "isUdt": false,
                                    "isXml": false,
                                    "isJson": false,
                                    "sqlDbType": 12,
                                    "isHierarchyId": false,
                                    "isSqlXmlType": false,
                                    "isUnknownType": false,
                                    "isUpdatable": false,
                                    "allowDBNull": true,
                                    "baseCatalogName": null,
                                    "baseColumnName": null,
                                    "baseSchemaName": null,
                                    "baseServerName": null,
                                    "baseTableName": null,
                                    "columnName": "USER",
                                    "columnOrdinal": 1,
                                    "columnSize": 128,
                                    "isAliased": null,
                                    "isAutoIncrement": false,
                                    "isExpression": null,
                                    "isHidden": null,
                                    "isIdentity": false,
                                    "isKey": null,
                                    "isLong": false,
                                    "isReadOnly": true,
                                    "isUnique": false,
                                    "numericPrecision": 255,
                                    "numericScale": 255,
                                    "udtAssemblyQualifiedName": null,
                                    "dataType": "System.String, System.Private.CoreLib, Version=4.0.0.0, Culture=neutral, PublicKeyToken=7cec85d7bea7798e",
                                    "dataTypeName": "nvarchar"
                                },
                                {
                                    "isBytes": false,
                                    "isChars": true,
                                    "isSqlVariant": false,
                                    "isUdt": false,
                                    "isXml": false,
                                    "isJson": false,
                                    "sqlDbType": 12,
                                    "isHierarchyId": false,
                                    "isSqlXmlType": false,
                                    "isUnknownType": false,
                                    "isUpdatable": false,
                                    "allowDBNull": true,
                                    "baseCatalogName": null,
                                    "baseColumnName": null,
                                    "baseSchemaName": null,
                                    "baseServerName": null,
                                    "baseTableName": null,
                                    "columnName": "DATABASE NAME",
                                    "columnOrdinal": 2,
                                    "columnSize": 128,
                                    "isAliased": null,
                                    "isAutoIncrement": false,
                                    "isExpression": null,
                                    "isHidden": null,
                                    "isIdentity": false,
                                    "isKey": null,
                                    "isLong": false,
                                    "isReadOnly": true,
                                    "isUnique": false,
                                    "numericPrecision": 255,
                                    "numericScale": 255,
                                    "udtAssemblyQualifiedName": null,
                                    "dataType": "System.String, System.Private.CoreLib, Version=4.0.0.0, Culture=neutral, PublicKeyToken=7cec85d7bea7798e",
                                    "dataTypeName": "nvarchar"
                                }
                            ],
                            "specialAction": {
                                "none": true,
                                "expectYukonXMLShowPlan": false
                            }
                        }
                    },
                    "execution_count": 8,
                    "data": {
                        "application/vnd.dataresource+json": {
                            "schema": {
                                "fields": [
                                    {
                                        "name": "SQL SERVER VERSION"
                                    },
                                    {
                                        "name": "USER"
                                    },
                                    {
                                        "name": "DATABASE NAME"
                                    }
                                ]
                            },
                            "data": [
                                {
                                    "0": "Microsoft SQL Server 2019 (RTM-CU9) (KB5000642) - 15.0.4102.2 (X64) \n\tJan 25 2021 20:16:12 \n\tCopyright (C) 2019 Microsoft Corporation\n\tDeveloper Edition (64-bit) on Linux (Ubuntu 18.04.5 LTS) <X64>",
                                    "1": "dbo",
                                    "2": "sakila"
                                }
                            ]
                        },
                        "text/html": [
                            "<table>",
                            "<tr><th>SQL SERVER VERSION</th><th>USER</th><th>DATABASE NAME</th></tr>",
                            "<tr><td>Microsoft SQL Server 2019 (RTM-CU9) (KB5000642) - 15.0.4102.2 (X64) \n\tJan 25 2021 20:16:12 \n\tCopyright (C) 2019 Microsoft Corporation\n\tDeveloper Edition (64-bit) on Linux (Ubuntu 18.04.5 LTS) &lt;X64&gt;</td><td>dbo</td><td>sakila</td></tr>",
                            "</table>"
                        ]
                    }
                }
            ],
            "execution_count": 8
        },
        {
            "cell_type": "markdown",
            "source": [
                "## COLUMN ALIASES"
            ],
            "metadata": {
                "azdata_cell_guid": "8ca658c5-dea9-4a67-ab06-fdea2da9155c"
            }
        },
        {
            "cell_type": "code",
            "source": [
                "<span style=\"color: #d4d4d4;\">%</span>sql SELECT language\\_id, \\\\\n",
                "\n",
                "     <span style=\"color: #ce9178;\">'COMMON'</span> AS language\\_usage, \\\\\n",
                "\n",
                "     language\\_id <span style=\"color: #d4d4d4;\">*</span> <span style=\"color: #b5cea8;\">3.1415927</span> AS lang\\_pt\\_value, \\\\\n",
                "\n",
                "     UPPER(name) AS language\\_usage \\\\\n",
                "\n",
                "     FROM language"
            ],
            "metadata": {
                "azdata_cell_guid": "0813110b-c170-4dfb-bb74-cd62735ad83d",
                "language": "markdown",
                "tags": []
            },
            "outputs": [],
            "execution_count": null
        },
        {
            "cell_type": "code",
            "source": [
                "REMOVING DUPLICATES"
            ],
            "metadata": {
                "azdata_cell_guid": "417db2c7-8832-4e48-8a66-efe5e8038871"
            },
            "outputs": [],
            "execution_count": null
        },
        {
            "cell_type": "code",
            "source": [
                "%sql SELECT actor_id FROM film_actor ORDER BY actor_id LIMIT 10"
            ],
            "metadata": {
                "azdata_cell_guid": "9c6df7ea-9f66-45a1-9d22-6c2517ac55f3"
            },
            "outputs": [],
            "execution_count": null
        },
        {
            "cell_type": "code",
            "source": [
                "%sql SELECT DISTINCT actor_id FROM film_actor ORDER BY actor_id LIMIT 10"
            ],
            "metadata": {
                "azdata_cell_guid": "33cc7929-a0c4-4e3c-bd30-242e0d85d734"
            },
            "outputs": [],
            "execution_count": null
        },
        {
            "cell_type": "code",
            "source": [
                "THE FROM CLAUSE"
            ],
            "metadata": {
                "azdata_cell_guid": "cfb5bd2d-c8be-481f-b649-cc80833080ed"
            },
            "outputs": [],
            "execution_count": null
        },
        {
            "cell_type": "code",
            "source": [
                "%sql \\\r\n",
                "SELECT CONCAT(cust.last_name, ', ', cust.first_name) full_name \\\r\n",
                "FROM \\\r\n",
                "    (SELECT first_name, last_name, email \\\r\n",
                "     FROM customer \\\r\n",
                "     WHERE first_name = 'JESSIE' \\\r\n",
                "    ) cust;  "
            ],
            "metadata": {
                "azdata_cell_guid": "08e1db89-8548-47f0-a732-30f14df4aadf"
            },
            "outputs": [],
            "execution_count": null
        },
        {
            "cell_type": "code",
            "source": [
                "TEMPORARY TABLES"
            ],
            "metadata": {
                "azdata_cell_guid": "7288217c-de23-417e-ad77-7ee59e66d0d1"
            },
            "outputs": [],
            "execution_count": null
        },
        {
            "cell_type": "code",
            "source": [
                "%sql \\\r\n",
                "    CREATE TEMPORARY TABLE actors_j \\\r\n",
                "        (actor_id smallint(5), \\\r\n",
                "        first_name varchar(45), \\\r\n",
                "        last_name varchar(45) \\\r\n",
                "    );"
            ],
            "metadata": {
                "azdata_cell_guid": "2c7b1ed3-8440-4669-bdaf-266e80d4bbf7"
            },
            "outputs": [],
            "execution_count": null
        },
        {
            "cell_type": "code",
            "source": [
                "%sql \\\r\n",
                "    INSERT INTO actors_j \\\r\n",
                "    SELECT actor_id, first_name, last_name \\\r\n",
                "    FROM actor \\\r\n",
                "    WHERE last_name LIKE 'J%';"
            ],
            "metadata": {
                "azdata_cell_guid": "f4e4807d-110f-428a-9c1e-e863afec1a9d"
            },
            "outputs": [],
            "execution_count": null
        },
        {
            "cell_type": "code",
            "source": [
                "%sql \\\r\n",
                "    SELECT * FROM actors_j;"
            ],
            "metadata": {
                "azdata_cell_guid": "e7ee7feb-e5a3-4fe9-9be3-dc21bbb10db5"
            },
            "outputs": [],
            "execution_count": null
        },
        {
            "cell_type": "code",
            "source": [
                "%sql DROP TABLE  actors_j"
            ],
            "metadata": {
                "azdata_cell_guid": "789cdc56-2644-4849-81ff-d1d77f7aaf9e"
            },
            "outputs": [],
            "execution_count": null
        },
        {
            "cell_type": "code",
            "source": [
                "VIEWS"
            ],
            "metadata": {
                "azdata_cell_guid": "f0edb835-b385-4f85-a346-72307426e1ac"
            },
            "outputs": [],
            "execution_count": null
        },
        {
            "cell_type": "code",
            "source": [
                "%sql CREATE VIEW cust_vw AS SELECT customer_id, first_name, last_name, active FROM customer;"
            ],
            "metadata": {
                "azdata_cell_guid": "1563250a-554a-42f3-8178-a29a076c3ede"
            },
            "outputs": [],
            "execution_count": null
        },
        {
            "cell_type": "code",
            "source": [
                "%sql DROP \\\r\n",
                "VIEW cust_vw"
            ],
            "metadata": {
                "azdata_cell_guid": "89b141b8-cea5-4306-969e-356b4c2e45b5"
            },
            "outputs": [],
            "execution_count": null
        },
        {
            "cell_type": "code",
            "source": [
                "%sql \\\r\n",
                "SELECT * FROM actors_j;"
            ],
            "metadata": {
                "azdata_cell_guid": "1fac043b-de2f-483a-b3e6-656c32cc5ab5"
            },
            "outputs": [],
            "execution_count": null
        }
    ]
}