{
    "metadata": {
        "kernelspec": {
            "name": "SQL",
            "display_name": "SQL",
            "language": "sql"
        },
        "language_info": {
            "name": "sql",
            "version": ""
        },
        "orig_nbformat": 2
    },
    "nbformat_minor": 2,
    "nbformat": 4,
    "cells": [
        {
            "cell_type": "markdown",
            "source": [
                "# CHAPTER 10 - JOINS REVISITED"
            ],
            "metadata": {
                "azdata_cell_guid": "1cedfdc4-b489-46d1-b77a-6360f45ae128"
            }
        },
        {
            "cell_type": "markdown",
            "source": [
                "## OUTER JOINS"
            ],
            "metadata": {
                "azdata_cell_guid": "8d55d29a-db06-4898-80ef-f1d5e117ee37"
            }
        },
        {
            "cell_type": "code",
            "source": [
                "SELECT f.film_id, f.title, count(*) num_copyes\r\n",
                "FROM film f \r\n",
                "    INNER JOIN inventory i \r\n",
                "    ON f.film_id = i.film_id\r\n",
                "GROUP BY f.film_id, f.title"
            ],
            "metadata": {
                "azdata_cell_guid": "fba64e24-6ce8-4908-b702-6ed56ee01f45"
            },
            "outputs": [
                {
                    "output_type": "display_data",
                    "data": {
                        "text/html": "(958 rows affected)"
                    },
                    "metadata": {}
                },
                {
                    "output_type": "display_data",
                    "data": {
                        "text/html": "Total execution time: 00:00:00.029"
                    },
                    "metadata": {}
                },
                {
                    "output_type": "execute_result",
                    "metadata": {},
                    "execution_count": 2,
                    "data": {
                        "application/vnd.dataresource+json": {
                            "schema": {
                                "fields": [
                                    {
                                        "name": "film_id"
                                    },
                                    {
                                        "name": "title"
                                    },
                                    {
                                        "name": "num_copyes"
                                    }
                                ]
                            },
                            "data": [
                                {
                                    "0": "1",
                                    "1": "ACADEMY DINOSAUR",
                                    "2": "8"
                                },
                                {
                                    "0": "2",
                                    "1": "ACE GOLDFINGER",
                                    "2": "3"
                                },
                                {
                                    "0": "3",
                                    "1": "ADAPTATION HOLES",
                                    "2": "4"
                                },
                                {
                                    "0": "4",
                                    "1": "AFFAIR PREJUDICE",
                                    "2": "7"
                                },
                                {
                                    "0": "5",
                                    "1": "AFRICAN EGG",
                                    "2": "3"
                                },
                                {
                                    "0": "6",
                                    "1": "AGENT TRUMAN",
                                    "2": "6"
                                },
                                {
                                    "0": "7",
                                    "1": "AIRPLANE SIERRA",
                                    "2": "5"
                                },
                                {
                                    "0": "8",
                                    "1": "AIRPORT POLLOCK",
                                    "2": "4"
                                },
                                {
                                    "0": "9",
                                    "1": "ALABAMA DEVIL",
                                    "2": "5"
                                },
                                {
                                    "0": "10",
                                    "1": "ALADDIN CALENDAR",
                                    "2": "7"
                                },
                                {
                                    "0": "11",
                                    "1": "ALAMO VIDEOTAPE",
                                    "2": "7"
                                },
                                {
                                    "0": "12",
                                    "1": "ALASKA PHANTOM",
                                    "2": "7"
                                },
                                {
                                    "0": "13",
                                    "1": "ALI FOREVER",
                                    "2": "4"
                                },
                                {
                                    "0": "15",
                                    "1": "ALIEN CENTER",
                                    "2": "6"
                                },
                                {
                                    "0": "16",
                                    "1": "ALLEY EVOLUTION",
                                    "2": "4"
                                },
                                {
                                    "0": "17",
                                    "1": "ALONE TRIP",
                                    "2": "6"
                                },
                                {
                                    "0": "18",
                                    "1": "ALTER VICTORY",
                                    "2": "6"
                                },
                                {
                                    "0": "19",
                                    "1": "AMADEUS HOLY",
                                    "2": "6"
                                },
                                {
                                    "0": "20",
                                    "1": "AMELIE HELLFIGHTERS",
                                    "2": "3"
                                },
                                {
                                    "0": "21",
                                    "1": "AMERICAN CIRCUS",
                                    "2": "6"
                                },
                                {
                                    "0": "22",
                                    "1": "AMISTAD MIDSUMMER",
                                    "2": "7"
                                },
                                {
                                    "0": "23",
                                    "1": "ANACONDA CONFESSIONS",
                                    "2": "5"
                                },
                                {
                                    "0": "24",
                                    "1": "ANALYZE HOOSIERS",
                                    "2": "4"
                                },
                                {
                                    "0": "25",
                                    "1": "ANGELS LIFE",
                                    "2": "6"
                                },
                                {
                                    "0": "26",
                                    "1": "ANNIE IDENTITY",
                                    "2": "5"
                                },
                                {
                                    "0": "27",
                                    "1": "ANONYMOUS HUMAN",
                                    "2": "4"
                                },
                                {
                                    "0": "28",
                                    "1": "ANTHEM LUKE",
                                    "2": "3"
                                },
                                {
                                    "0": "29",
                                    "1": "ANTITRUST TOMATOES",
                                    "2": "2"
                                },
                                {
                                    "0": "30",
                                    "1": "ANYTHING SAVANNAH",
                                    "2": "2"
                                },
                                {
                                    "0": "31",
                                    "1": "APACHE DIVINE",
                                    "2": "8"
                                },
                                {
                                    "0": "32",
                                    "1": "APOCALYPSE FLAMINGOS",
                                    "2": "2"
                                },
                                {
                                    "0": "34",
                                    "1": "ARABIA DOGMA",
                                    "2": "4"
                                },
                                {
                                    "0": "35",
                                    "1": "ARACHNOPHOBIA ROLLERCOASTER",
                                    "2": "7"
                                },
                                {
                                    "0": "37",
                                    "1": "ARIZONA BANG",
                                    "2": "7"
                                },
                                {
                                    "0": "39",
                                    "1": "ARMAGEDDON LOST",
                                    "2": "7"
                                },
                                {
                                    "0": "40",
                                    "1": "ARMY FLINTSTONES",
                                    "2": "4"
                                },
                                {
                                    "0": "42",
                                    "1": "ARTIST COLDBLOODED",
                                    "2": "4"
                                },
                                {
                                    "0": "43",
                                    "1": "ATLANTIS CAUSE",
                                    "2": "7"
                                },
                                {
                                    "0": "44",
                                    "1": "ATTACKS HATE",
                                    "2": "5"
                                },
                                {
                                    "0": "45",
                                    "1": "ATTRACTION NEWTON",
                                    "2": "6"
                                },
                                {
                                    "0": "46",
                                    "1": "AUTUMN CROW",
                                    "2": "3"
                                },
                                {
                                    "0": "47",
                                    "1": "BABY HALL",
                                    "2": "2"
                                },
                                {
                                    "0": "48",
                                    "1": "BACKLASH UNDEFEATED",
                                    "2": "4"
                                },
                                {
                                    "0": "49",
                                    "1": "BADMAN DAWN",
                                    "2": "6"
                                },
                                {
                                    "0": "50",
                                    "1": "BAKED CLEOPATRA",
                                    "2": "5"
                                },
                                {
                                    "0": "51",
                                    "1": "BALLOON HOMEWARD",
                                    "2": "6"
                                },
                                {
                                    "0": "52",
                                    "1": "BALLROOM MOCKINGBIRD",
                                    "2": "2"
                                },
                                {
                                    "0": "53",
                                    "1": "BANG KWAI",
                                    "2": "2"
                                },
                                {
                                    "0": "54",
                                    "1": "BANGER PINOCCHIO",
                                    "2": "5"
                                },
                                {
                                    "0": "55",
                                    "1": "BARBARELLA STREETCAR",
                                    "2": "6"
                                },
                                {
                                    "0": "56",
                                    "1": "BAREFOOT MANCHURIAN",
                                    "2": "5"
                                },
                                {
                                    "0": "57",
                                    "1": "BASIC EASY",
                                    "2": "7"
                                },
                                {
                                    "0": "58",
                                    "1": "BEACH HEARTBREAKERS",
                                    "2": "4"
                                },
                                {
                                    "0": "59",
                                    "1": "BEAR GRACELAND",
                                    "2": "5"
                                },
                                {
                                    "0": "60",
                                    "1": "BEAST HUNCHBACK",
                                    "2": "3"
                                },
                                {
                                    "0": "61",
                                    "1": "BEAUTY GREASE",
                                    "2": "6"
                                },
                                {
                                    "0": "62",
                                    "1": "BED HIGHBALL",
                                    "2": "2"
                                },
                                {
                                    "0": "63",
                                    "1": "BEDAZZLED MARRIED",
                                    "2": "4"
                                },
                                {
                                    "0": "64",
                                    "1": "BEETHOVEN EXORCIST",
                                    "2": "3"
                                },
                                {
                                    "0": "65",
                                    "1": "BEHAVIOR RUNAWAY",
                                    "2": "4"
                                },
                                {
                                    "0": "66",
                                    "1": "BENEATH RUSH",
                                    "2": "3"
                                },
                                {
                                    "0": "67",
                                    "1": "BERETS AGENT",
                                    "2": "6"
                                },
                                {
                                    "0": "68",
                                    "1": "BETRAYED REAR",
                                    "2": "4"
                                },
                                {
                                    "0": "69",
                                    "1": "BEVERLY OUTLAW",
                                    "2": "8"
                                },
                                {
                                    "0": "70",
                                    "1": "BIKINI BORROWERS",
                                    "2": "4"
                                },
                                {
                                    "0": "71",
                                    "1": "BILKO ANONYMOUS",
                                    "2": "4"
                                },
                                {
                                    "0": "72",
                                    "1": "BILL OTHERS",
                                    "2": "6"
                                },
                                {
                                    "0": "73",
                                    "1": "BINGO TALENTED",
                                    "2": "8"
                                },
                                {
                                    "0": "74",
                                    "1": "BIRCH ANTITRUST",
                                    "2": "5"
                                },
                                {
                                    "0": "75",
                                    "1": "BIRD INDEPENDENCE",
                                    "2": "3"
                                },
                                {
                                    "0": "76",
                                    "1": "BIRDCAGE CASPER",
                                    "2": "3"
                                },
                                {
                                    "0": "77",
                                    "1": "BIRDS PERDITION",
                                    "2": "6"
                                },
                                {
                                    "0": "78",
                                    "1": "BLACKOUT PRIVATE",
                                    "2": "7"
                                },
                                {
                                    "0": "79",
                                    "1": "BLADE POLISH",
                                    "2": "6"
                                },
                                {
                                    "0": "80",
                                    "1": "BLANKET BEVERLY",
                                    "2": "4"
                                },
                                {
                                    "0": "81",
                                    "1": "BLINDNESS GUN",
                                    "2": "4"
                                },
                                {
                                    "0": "82",
                                    "1": "BLOOD ARGONAUTS",
                                    "2": "2"
                                },
                                {
                                    "0": "83",
                                    "1": "BLUES INSTINCT",
                                    "2": "5"
                                },
                                {
                                    "0": "84",
                                    "1": "BOILED DARES",
                                    "2": "4"
                                },
                                {
                                    "0": "85",
                                    "1": "BONNIE HOLOCAUST",
                                    "2": "4"
                                },
                                {
                                    "0": "86",
                                    "1": "BOOGIE AMELIE",
                                    "2": "8"
                                },
                                {
                                    "0": "88",
                                    "1": "BORN SPINAL",
                                    "2": "4"
                                },
                                {
                                    "0": "89",
                                    "1": "BORROWERS BEDAZZLED",
                                    "2": "6"
                                },
                                {
                                    "0": "90",
                                    "1": "BOULEVARD MOB",
                                    "2": "6"
                                },
                                {
                                    "0": "91",
                                    "1": "BOUND CHEAPER",
                                    "2": "8"
                                },
                                {
                                    "0": "92",
                                    "1": "BOWFINGER GABLES",
                                    "2": "4"
                                },
                                {
                                    "0": "93",
                                    "1": "BRANNIGAN SUNRISE",
                                    "2": "3"
                                },
                                {
                                    "0": "94",
                                    "1": "BRAVEHEART HUMAN",
                                    "2": "2"
                                },
                                {
                                    "0": "95",
                                    "1": "BREAKFAST GOLDFINGER",
                                    "2": "5"
                                },
                                {
                                    "0": "96",
                                    "1": "BREAKING HOME",
                                    "2": "3"
                                },
                                {
                                    "0": "97",
                                    "1": "BRIDE INTRIGUE",
                                    "2": "6"
                                },
                                {
                                    "0": "98",
                                    "1": "BRIGHT ENCOUNTERS",
                                    "2": "3"
                                },
                                {
                                    "0": "99",
                                    "1": "BRINGING HYSTERICAL",
                                    "2": "6"
                                },
                                {
                                    "0": "100",
                                    "1": "BROOKLYN DESERT",
                                    "2": "6"
                                },
                                {
                                    "0": "101",
                                    "1": "BROTHERHOOD BLANKET",
                                    "2": "6"
                                },
                                {
                                    "0": "102",
                                    "1": "BUBBLE GROSSE",
                                    "2": "2"
                                },
                                {
                                    "0": "103",
                                    "1": "BUCKET BROTHERHOOD",
                                    "2": "8"
                                },
                                {
                                    "0": "104",
                                    "1": "BUGSY SONG",
                                    "2": "3"
                                },
                                {
                                    "0": "105",
                                    "1": "BULL SHAWSHANK",
                                    "2": "5"
                                },
                                {
                                    "0": "106",
                                    "1": "BULWORTH COMMANDMENTS",
                                    "2": "2"
                                },
                                {
                                    "0": "107",
                                    "1": "BUNCH MINDS",
                                    "2": "2"
                                },
                                {
                                    "0": "109",
                                    "1": "BUTTERFLY CHOCOLAT",
                                    "2": "8"
                                },
                                {
                                    "0": "110",
                                    "1": "CABIN FLASH",
                                    "2": "4"
                                },
                                {
                                    "0": "111",
                                    "1": "CADDYSHACK JEDI",
                                    "2": "4"
                                },
                                {
                                    "0": "112",
                                    "1": "CALENDAR GUNFIGHT",
                                    "2": "7"
                                },
                                {
                                    "0": "113",
                                    "1": "CALIFORNIA BIRDS",
                                    "2": "4"
                                },
                                {
                                    "0": "114",
                                    "1": "CAMELOT VACATION",
                                    "2": "7"
                                },
                                {
                                    "0": "115",
                                    "1": "CAMPUS REMEMBER",
                                    "2": "7"
                                },
                                {
                                    "0": "116",
                                    "1": "CANDIDATE PERDITION",
                                    "2": "6"
                                },
                                {
                                    "0": "117",
                                    "1": "CANDLES GRAPES",
                                    "2": "6"
                                },
                                {
                                    "0": "118",
                                    "1": "CANYON STOCK",
                                    "2": "6"
                                },
                                {
                                    "0": "119",
                                    "1": "CAPER MOTIONS",
                                    "2": "7"
                                },
                                {
                                    "0": "120",
                                    "1": "CARIBBEAN LIBERTY",
                                    "2": "3"
                                },
                                {
                                    "0": "121",
                                    "1": "CAROL TEXAS",
                                    "2": "6"
                                },
                                {
                                    "0": "122",
                                    "1": "CARRIE BUNCH",
                                    "2": "7"
                                },
                                {
                                    "0": "123",
                                    "1": "CASABLANCA SUPER",
                                    "2": "5"
                                },
                                {
                                    "0": "124",
                                    "1": "CASPER DRAGONFLY",
                                    "2": "3"
                                },
                                {
                                    "0": "125",
                                    "1": "CASSIDY WYOMING",
                                    "2": "2"
                                },
                                {
                                    "0": "126",
                                    "1": "CASUALTIES ENCINO",
                                    "2": "3"
                                },
                                {
                                    "0": "127",
                                    "1": "CAT CONEHEADS",
                                    "2": "8"
                                },
                                {
                                    "0": "129",
                                    "1": "CAUSE DATE",
                                    "2": "6"
                                },
                                {
                                    "0": "130",
                                    "1": "CELEBRITY HORN",
                                    "2": "6"
                                },
                                {
                                    "0": "131",
                                    "1": "CENTER DINOSAUR",
                                    "2": "6"
                                },
                                {
                                    "0": "132",
                                    "1": "CHAINSAW UPTOWN",
                                    "2": "6"
                                },
                                {
                                    "0": "133",
                                    "1": "CHAMBER ITALIAN",
                                    "2": "4"
                                },
                                {
                                    "0": "134",
                                    "1": "CHAMPION FLATLINERS",
                                    "2": "3"
                                },
                                {
                                    "0": "135",
                                    "1": "CHANCE RESURRECTION",
                                    "2": "7"
                                },
                                {
                                    "0": "136",
                                    "1": "CHAPLIN LICENSE",
                                    "2": "3"
                                },
                                {
                                    "0": "137",
                                    "1": "CHARADE DUFFEL",
                                    "2": "4"
                                },
                                {
                                    "0": "138",
                                    "1": "CHARIOTS CONSPIRACY",
                                    "2": "5"
                                },
                                {
                                    "0": "139",
                                    "1": "CHASING FIGHT",
                                    "2": "6"
                                },
                                {
                                    "0": "140",
                                    "1": "CHEAPER CLYDE",
                                    "2": "5"
                                },
                                {
                                    "0": "141",
                                    "1": "CHICAGO NORTH",
                                    "2": "5"
                                },
                                {
                                    "0": "142",
                                    "1": "CHICKEN HELLFIGHTERS",
                                    "2": "5"
                                },
                                {
                                    "0": "143",
                                    "1": "CHILL LUCK",
                                    "2": "7"
                                },
                                {
                                    "0": "145",
                                    "1": "CHISUM BEHAVIOR",
                                    "2": "3"
                                },
                                {
                                    "0": "146",
                                    "1": "CHITTY LOCK",
                                    "2": "3"
                                },
                                {
                                    "0": "147",
                                    "1": "CHOCOLAT HARRY",
                                    "2": "6"
                                },
                                {
                                    "0": "149",
                                    "1": "CHRISTMAS MOONSHINE",
                                    "2": "6"
                                },
                                {
                                    "0": "150",
                                    "1": "CIDER DESIRE",
                                    "2": "6"
                                },
                                {
                                    "0": "151",
                                    "1": "CINCINATTI WHISPERER",
                                    "2": "4"
                                },
                                {
                                    "0": "152",
                                    "1": "CIRCUS YOUTH",
                                    "2": "4"
                                },
                                {
                                    "0": "153",
                                    "1": "CITIZEN SHREK",
                                    "2": "4"
                                },
                                {
                                    "0": "154",
                                    "1": "CLASH FREDDY",
                                    "2": "7"
                                },
                                {
                                    "0": "155",
                                    "1": "CLEOPATRA DEVIL",
                                    "2": "5"
                                },
                                {
                                    "0": "156",
                                    "1": "CLERKS ANGELS",
                                    "2": "2"
                                },
                                {
                                    "0": "157",
                                    "1": "CLOCKWORK PARADISE",
                                    "2": "3"
                                },
                                {
                                    "0": "158",
                                    "1": "CLONES PINOCCHIO",
                                    "2": "5"
                                },
                                {
                                    "0": "159",
                                    "1": "CLOSER BANG",
                                    "2": "7"
                                },
                                {
                                    "0": "160",
                                    "1": "CLUB GRAFFITI",
                                    "2": "5"
                                },
                                {
                                    "0": "161",
                                    "1": "CLUE GRAIL",
                                    "2": "2"
                                },
                                {
                                    "0": "162",
                                    "1": "CLUELESS BUCKET",
                                    "2": "7"
                                },
                                {
                                    "0": "163",
                                    "1": "CLYDE THEORY",
                                    "2": "3"
                                },
                                {
                                    "0": "164",
                                    "1": "COAST RAINBOW",
                                    "2": "5"
                                },
                                {
                                    "0": "165",
                                    "1": "COLDBLOODED DARLING",
                                    "2": "5"
                                },
                                {
                                    "0": "166",
                                    "1": "COLOR PHILADELPHIA",
                                    "2": "6"
                                },
                                {
                                    "0": "167",
                                    "1": "COMA HEAD",
                                    "2": "7"
                                },
                                {
                                    "0": "168",
                                    "1": "COMANCHEROS ENEMY",
                                    "2": "2"
                                },
                                {
                                    "0": "169",
                                    "1": "COMFORTS RUSH",
                                    "2": "4"
                                },
                                {
                                    "0": "170",
                                    "1": "COMMAND DARLING",
                                    "2": "6"
                                },
                                {
                                    "0": "172",
                                    "1": "CONEHEADS SMOOCHY",
                                    "2": "7"
                                },
                                {
                                    "0": "173",
                                    "1": "CONFESSIONS MAGUIRE",
                                    "2": "5"
                                },
                                {
                                    "0": "174",
                                    "1": "CONFIDENTIAL INTERVIEW",
                                    "2": "8"
                                },
                                {
                                    "0": "175",
                                    "1": "CONFUSED CANDLES",
                                    "2": "5"
                                },
                                {
                                    "0": "176",
                                    "1": "CONGENIALITY QUEST",
                                    "2": "6"
                                },
                                {
                                    "0": "177",
                                    "1": "CONNECTICUT TRAMP",
                                    "2": "3"
                                },
                                {
                                    "0": "178",
                                    "1": "CONNECTION MICROCOSMOS",
                                    "2": "2"
                                },
                                {
                                    "0": "179",
                                    "1": "CONQUERER NUTS",
                                    "2": "4"
                                },
                                {
                                    "0": "180",
                                    "1": "CONSPIRACY SPIRIT",
                                    "2": "2"
                                },
                                {
                                    "0": "181",
                                    "1": "CONTACT ANONYMOUS",
                                    "2": "7"
                                },
                                {
                                    "0": "182",
                                    "1": "CONTROL ANTHEM",
                                    "2": "2"
                                },
                                {
                                    "0": "183",
                                    "1": "CONVERSATION DOWNHILL",
                                    "2": "6"
                                },
                                {
                                    "0": "184",
                                    "1": "CORE SUIT",
                                    "2": "5"
                                },
                                {
                                    "0": "185",
                                    "1": "COWBOY DOOM",
                                    "2": "2"
                                },
                                {
                                    "0": "186",
                                    "1": "CRAFT OUTFIELD",
                                    "2": "4"
                                },
                                {
                                    "0": "187",
                                    "1": "CRANES RESERVOIR",
                                    "2": "3"
                                },
                                {
                                    "0": "188",
                                    "1": "CRAZY HOME",
                                    "2": "3"
                                },
                                {
                                    "0": "189",
                                    "1": "CREATURES SHAKESPEARE",
                                    "2": "6"
                                },
                                {
                                    "0": "190",
                                    "1": "CREEPERS KANE",
                                    "2": "4"
                                },
                                {
                                    "0": "191",
                                    "1": "CROOKED FROGMEN",
                                    "2": "6"
                                },
                                {
                                    "0": "193",
                                    "1": "CROSSROADS CASUALTIES",
                                    "2": "8"
                                },
                                {
                                    "0": "194",
                                    "1": "CROW GREASE",
                                    "2": "4"
                                },
                                {
                                    "0": "196",
                                    "1": "CRUELTY UNFORGIVEN",
                                    "2": "2"
                                },
                                {
                                    "0": "197",
                                    "1": "CRUSADE HONEY",
                                    "2": "2"
                                },
                                {
                                    "0": "199",
                                    "1": "CUPBOARD SINNERS",
                                    "2": "8"
                                },
                                {
                                    "0": "200",
                                    "1": "CURTAIN VIDEOTAPE",
                                    "2": "8"
                                },
                                {
                                    "0": "201",
                                    "1": "CYCLONE FAMILY",
                                    "2": "4"
                                },
                                {
                                    "0": "202",
                                    "1": "DADDY PITTSBURGH",
                                    "2": "3"
                                },
                                {
                                    "0": "203",
                                    "1": "DAISY MENAGERIE",
                                    "2": "4"
                                },
                                {
                                    "0": "204",
                                    "1": "DALMATIONS SWEDEN",
                                    "2": "6"
                                },
                                {
                                    "0": "205",
                                    "1": "DANCES NONE",
                                    "2": "4"
                                },
                                {
                                    "0": "206",
                                    "1": "DANCING FEVER",
                                    "2": "8"
                                },
                                {
                                    "0": "207",
                                    "1": "DANGEROUS UPTOWN",
                                    "2": "4"
                                },
                                {
                                    "0": "208",
                                    "1": "DARES PLUTO",
                                    "2": "3"
                                },
                                {
                                    "0": "209",
                                    "1": "DARKNESS WAR",
                                    "2": "4"
                                },
                                {
                                    "0": "210",
                                    "1": "DARKO DORADO",
                                    "2": "3"
                                },
                                {
                                    "0": "211",
                                    "1": "DARLING BREAKING",
                                    "2": "2"
                                },
                                {
                                    "0": "212",
                                    "1": "DARN FORRESTER",
                                    "2": "5"
                                },
                                {
                                    "0": "213",
                                    "1": "DATE SPEED",
                                    "2": "4"
                                },
                                {
                                    "0": "214",
                                    "1": "DAUGHTER MADIGAN",
                                    "2": "4"
                                },
                                {
                                    "0": "215",
                                    "1": "DAWN POND",
                                    "2": "6"
                                },
                                {
                                    "0": "216",
                                    "1": "DAY UNFAITHFUL",
                                    "2": "5"
                                },
                                {
                                    "0": "218",
                                    "1": "DECEIVER BETRAYED",
                                    "2": "7"
                                },
                                {
                                    "0": "219",
                                    "1": "DEEP CRUSADE",
                                    "2": "4"
                                },
                                {
                                    "0": "220",
                                    "1": "DEER VIRGINIAN",
                                    "2": "8"
                                },
                                {
                                    "0": "222",
                                    "1": "DESERT POSEIDON",
                                    "2": "6"
                                },
                                {
                                    "0": "223",
                                    "1": "DESIRE ALIEN",
                                    "2": "2"
                                },
                                {
                                    "0": "224",
                                    "1": "DESPERATE TRAINSPOTTING",
                                    "2": "2"
                                },
                                {
                                    "0": "225",
                                    "1": "DESTINATION JERK",
                                    "2": "3"
                                },
                                {
                                    "0": "226",
                                    "1": "DESTINY SATURDAY",
                                    "2": "5"
                                },
                                {
                                    "0": "227",
                                    "1": "DETAILS PACKER",
                                    "2": "5"
                                },
                                {
                                    "0": "228",
                                    "1": "DETECTIVE VISION",
                                    "2": "7"
                                },
                                {
                                    "0": "229",
                                    "1": "DEVIL DESIRE",
                                    "2": "4"
                                },
                                {
                                    "0": "230",
                                    "1": "DIARY PANIC",
                                    "2": "2"
                                },
                                {
                                    "0": "231",
                                    "1": "DINOSAUR SECRETARY",
                                    "2": "8"
                                },
                                {
                                    "0": "232",
                                    "1": "DIRTY ACE",
                                    "2": "5"
                                },
                                {
                                    "0": "233",
                                    "1": "DISCIPLE MOTHER",
                                    "2": "6"
                                },
                                {
                                    "0": "234",
                                    "1": "DISTURBING SCARFACE",
                                    "2": "7"
                                },
                                {
                                    "0": "235",
                                    "1": "DIVIDE MONSTER",
                                    "2": "6"
                                },
                                {
                                    "0": "236",
                                    "1": "DIVINE RESURRECTION",
                                    "2": "4"
                                },
                                {
                                    "0": "237",
                                    "1": "DIVORCE SHINING",
                                    "2": "2"
                                },
                                {
                                    "0": "238",
                                    "1": "DOCTOR GRAIL",
                                    "2": "2"
                                },
                                {
                                    "0": "239",
                                    "1": "DOGMA FAMILY",
                                    "2": "8"
                                },
                                {
                                    "0": "240",
                                    "1": "DOLLS RAGE",
                                    "2": "3"
                                },
                                {
                                    "0": "241",
                                    "1": "DONNIE ALLEY",
                                    "2": "4"
                                },
                                {
                                    "0": "242",
                                    "1": "DOOM DANCING",
                                    "2": "5"
                                },
                                {
                                    "0": "243",
                                    "1": "DOORS PRESIDENT",
                                    "2": "6"
                                },
                                {
                                    "0": "244",
                                    "1": "DORADO NOTTING",
                                    "2": "7"
                                },
                                {
                                    "0": "245",
                                    "1": "DOUBLE WRATH",
                                    "2": "7"
                                },
                                {
                                    "0": "246",
                                    "1": "DOUBTFIRE LABYRINTH",
                                    "2": "3"
                                },
                                {
                                    "0": "247",
                                    "1": "DOWNHILL ENOUGH",
                                    "2": "7"
                                },
                                {
                                    "0": "248",
                                    "1": "DOZEN LION",
                                    "2": "2"
                                },
                                {
                                    "0": "249",
                                    "1": "DRACULA CRYSTAL",
                                    "2": "6"
                                },
                                {
                                    "0": "250",
                                    "1": "DRAGON SQUAD",
                                    "2": "4"
                                },
                                {
                                    "0": "251",
                                    "1": "DRAGONFLY STRANGERS",
                                    "2": "5"
                                },
                                {
                                    "0": "252",
                                    "1": "DREAM PICKUP",
                                    "2": "6"
                                },
                                {
                                    "0": "253",
                                    "1": "DRIFTER COMMANDMENTS",
                                    "2": "6"
                                },
                                {
                                    "0": "254",
                                    "1": "DRIVER ANNIE",
                                    "2": "5"
                                },
                                {
                                    "0": "255",
                                    "1": "DRIVING POLISH",
                                    "2": "6"
                                },
                                {
                                    "0": "256",
                                    "1": "DROP WATERFRONT",
                                    "2": "3"
                                },
                                {
                                    "0": "257",
                                    "1": "DRUMLINE CYCLONE",
                                    "2": "3"
                                },
                                {
                                    "0": "258",
                                    "1": "DRUMS DYNAMITE",
                                    "2": "4"
                                },
                                {
                                    "0": "259",
                                    "1": "DUCK RACER",
                                    "2": "2"
                                },
                                {
                                    "0": "260",
                                    "1": "DUDE BLINDNESS",
                                    "2": "4"
                                },
                                {
                                    "0": "261",
                                    "1": "DUFFEL APOCALYPSE",
                                    "2": "2"
                                },
                                {
                                    "0": "262",
                                    "1": "DUMBO LUST",
                                    "2": "2"
                                },
                                {
                                    "0": "263",
                                    "1": "DURHAM PANKY",
                                    "2": "7"
                                },
                                {
                                    "0": "264",
                                    "1": "DWARFS ALTER",
                                    "2": "2"
                                },
                                {
                                    "0": "265",
                                    "1": "DYING MAKER",
                                    "2": "4"
                                },
                                {
                                    "0": "266",
                                    "1": "DYNAMITE TARZAN",
                                    "2": "8"
                                },
                                {
                                    "0": "267",
                                    "1": "EAGLES PANKY",
                                    "2": "6"
                                },
                                {
                                    "0": "268",
                                    "1": "EARLY HOME",
                                    "2": "2"
                                },
                                {
                                    "0": "269",
                                    "1": "EARRING INSTINCT",
                                    "2": "6"
                                },
                                {
                                    "0": "270",
                                    "1": "EARTH VISION",
                                    "2": "7"
                                },
                                {
                                    "0": "271",
                                    "1": "EASY GLADIATOR",
                                    "2": "5"
                                },
                                {
                                    "0": "272",
                                    "1": "EDGE KISSING",
                                    "2": "4"
                                },
                                {
                                    "0": "273",
                                    "1": "EFFECT GLADIATOR",
                                    "2": "7"
                                },
                                {
                                    "0": "274",
                                    "1": "EGG IGBY",
                                    "2": "7"
                                },
                                {
                                    "0": "275",
                                    "1": "EGYPT TENENBAUMS",
                                    "2": "5"
                                },
                                {
                                    "0": "276",
                                    "1": "ELEMENT FREDDY",
                                    "2": "4"
                                },
                                {
                                    "0": "277",
                                    "1": "ELEPHANT TROJAN",
                                    "2": "3"
                                },
                                {
                                    "0": "278",
                                    "1": "ELF MURDER",
                                    "2": "2"
                                },
                                {
                                    "0": "279",
                                    "1": "ELIZABETH SHANE",
                                    "2": "2"
                                },
                                {
                                    "0": "280",
                                    "1": "EMPIRE MALKOVICH",
                                    "2": "6"
                                },
                                {
                                    "0": "281",
                                    "1": "ENCINO ELF",
                                    "2": "6"
                                },
                                {
                                    "0": "282",
                                    "1": "ENCOUNTERS CURTAIN",
                                    "2": "6"
                                },
                                {
                                    "0": "283",
                                    "1": "ENDING CROWDS",
                                    "2": "3"
                                },
                                {
                                    "0": "284",
                                    "1": "ENEMY ODDS",
                                    "2": "7"
                                },
                                {
                                    "0": "285",
                                    "1": "ENGLISH BULWORTH",
                                    "2": "7"
                                },
                                {
                                    "0": "286",
                                    "1": "ENOUGH RAGING",
                                    "2": "5"
                                },
                                {
                                    "0": "287",
                                    "1": "ENTRAPMENT SATISFACTION",
                                    "2": "4"
                                },
                                {
                                    "0": "288",
                                    "1": "ESCAPE METROPOLIS",
                                    "2": "6"
                                },
                                {
                                    "0": "289",
                                    "1": "EVE RESURRECTION",
                                    "2": "2"
                                },
                                {
                                    "0": "290",
                                    "1": "EVERYONE CRAFT",
                                    "2": "3"
                                },
                                {
                                    "0": "291",
                                    "1": "EVOLUTION ALTER",
                                    "2": "4"
                                },
                                {
                                    "0": "292",
                                    "1": "EXCITEMENT EVE",
                                    "2": "6"
                                },
                                {
                                    "0": "293",
                                    "1": "EXORCIST STING",
                                    "2": "5"
                                },
                                {
                                    "0": "294",
                                    "1": "EXPECATIONS NATURAL",
                                    "2": "5"
                                },
                                {
                                    "0": "295",
                                    "1": "EXPENDABLE STALLION",
                                    "2": "8"
                                },
                                {
                                    "0": "296",
                                    "1": "EXPRESS LONELY",
                                    "2": "4"
                                },
                                {
                                    "0": "297",
                                    "1": "EXTRAORDINARY CONQUERER",
                                    "2": "2"
                                },
                                {
                                    "0": "298",
                                    "1": "EYES DRIVING",
                                    "2": "5"
                                },
                                {
                                    "0": "299",
                                    "1": "FACTORY DRAGON",
                                    "2": "4"
                                },
                                {
                                    "0": "300",
                                    "1": "FALCON VOLUME",
                                    "2": "6"
                                },
                                {
                                    "0": "301",
                                    "1": "FAMILY SWEET",
                                    "2": "8"
                                },
                                {
                                    "0": "302",
                                    "1": "FANTASIA PARK",
                                    "2": "6"
                                },
                                {
                                    "0": "303",
                                    "1": "FANTASY TROOPERS",
                                    "2": "6"
                                },
                                {
                                    "0": "304",
                                    "1": "FARGO GANDHI",
                                    "2": "6"
                                },
                                {
                                    "0": "305",
                                    "1": "FATAL HAUNTED",
                                    "2": "7"
                                },
                                {
                                    "0": "306",
                                    "1": "FEATHERS METAL",
                                    "2": "3"
                                },
                                {
                                    "0": "307",
                                    "1": "FELLOWSHIP AUTUMN",
                                    "2": "6"
                                },
                                {
                                    "0": "308",
                                    "1": "FERRIS MOTHER",
                                    "2": "4"
                                },
                                {
                                    "0": "309",
                                    "1": "FEUD FROGMEN",
                                    "2": "6"
                                },
                                {
                                    "0": "310",
                                    "1": "FEVER EMPIRE",
                                    "2": "2"
                                },
                                {
                                    "0": "311",
                                    "1": "FICTION CHRISTMAS",
                                    "2": "7"
                                },
                                {
                                    "0": "312",
                                    "1": "FIDDLER LOST",
                                    "2": "3"
                                },
                                {
                                    "0": "313",
                                    "1": "FIDELITY DEVIL",
                                    "2": "6"
                                },
                                {
                                    "0": "314",
                                    "1": "FIGHT JAWBREAKER",
                                    "2": "6"
                                },
                                {
                                    "0": "315",
                                    "1": "FINDING ANACONDA",
                                    "2": "3"
                                },
                                {
                                    "0": "316",
                                    "1": "FIRE WOLVES",
                                    "2": "2"
                                },
                                {
                                    "0": "317",
                                    "1": "FIREBALL PHILADELPHIA",
                                    "2": "7"
                                },
                                {
                                    "0": "319",
                                    "1": "FISH OPUS",
                                    "2": "7"
                                },
                                {
                                    "0": "320",
                                    "1": "FLAMINGOS CONNECTICUT",
                                    "2": "7"
                                },
                                {
                                    "0": "321",
                                    "1": "FLASH WARS",
                                    "2": "4"
                                },
                                {
                                    "0": "322",
                                    "1": "FLATLINERS KILLER",
                                    "2": "6"
                                },
                                {
                                    "0": "323",
                                    "1": "FLIGHT LIES",
                                    "2": "4"
                                },
                                {
                                    "0": "324",
                                    "1": "FLINTSTONES HAPPINESS",
                                    "2": "5"
                                },
                                {
                                    "0": "326",
                                    "1": "FLYING HOOK",
                                    "2": "6"
                                },
                                {
                                    "0": "327",
                                    "1": "FOOL MOCKINGBIRD",
                                    "2": "6"
                                },
                                {
                                    "0": "328",
                                    "1": "FOREVER CANDIDATE",
                                    "2": "4"
                                },
                                {
                                    "0": "329",
                                    "1": "FORREST SONS",
                                    "2": "6"
                                },
                                {
                                    "0": "330",
                                    "1": "FORRESTER COMANCHEROS",
                                    "2": "7"
                                },
                                {
                                    "0": "331",
                                    "1": "FORWARD TEMPLE",
                                    "2": "8"
                                },
                                {
                                    "0": "333",
                                    "1": "FREAKY POCUS",
                                    "2": "4"
                                },
                                {
                                    "0": "334",
                                    "1": "FREDDY STORM",
                                    "2": "6"
                                },
                                {
                                    "0": "335",
                                    "1": "FREEDOM CLEOPATRA",
                                    "2": "2"
                                },
                                {
                                    "0": "336",
                                    "1": "FRENCH HOLIDAY",
                                    "2": "5"
                                },
                                {
                                    "0": "337",
                                    "1": "FRIDA SLIPPER",
                                    "2": "4"
                                },
                                {
                                    "0": "338",
                                    "1": "FRISCO FORREST",
                                    "2": "3"
                                },
                                {
                                    "0": "339",
                                    "1": "FROGMEN BREAKING",
                                    "2": "3"
                                },
                                {
                                    "0": "340",
                                    "1": "FRONTIER CABIN",
                                    "2": "2"
                                },
                                {
                                    "0": "341",
                                    "1": "FROST HEAD",
                                    "2": "8"
                                },
                                {
                                    "0": "342",
                                    "1": "FUGITIVE MAGUIRE",
                                    "2": "4"
                                },
                                {
                                    "0": "343",
                                    "1": "FULL FLATLINERS",
                                    "2": "2"
                                },
                                {
                                    "0": "344",
                                    "1": "FURY MURDER",
                                    "2": "5"
                                },
                                {
                                    "0": "345",
                                    "1": "GABLES METROPOLIS",
                                    "2": "5"
                                },
                                {
                                    "0": "346",
                                    "1": "GALAXY SWEETHEARTS",
                                    "2": "6"
                                },
                                {
                                    "0": "347",
                                    "1": "GAMES BOWFINGER",
                                    "2": "4"
                                },
                                {
                                    "0": "348",
                                    "1": "GANDHI KWAI",
                                    "2": "4"
                                },
                                {
                                    "0": "349",
                                    "1": "GANGS PRIDE",
                                    "2": "7"
                                },
                                {
                                    "0": "350",
                                    "1": "GARDEN ISLAND",
                                    "2": "8"
                                },
                                {
                                    "0": "351",
                                    "1": "GASLIGHT CRUSADE",
                                    "2": "6"
                                },
                                {
                                    "0": "352",
                                    "1": "GATHERING CALENDAR",
                                    "2": "4"
                                },
                                {
                                    "0": "353",
                                    "1": "GENTLEMEN STAGE",
                                    "2": "6"
                                },
                                {
                                    "0": "354",
                                    "1": "GHOST GROUNDHOG",
                                    "2": "5"
                                },
                                {
                                    "0": "355",
                                    "1": "GHOSTBUSTERS ELF",
                                    "2": "2"
                                },
                                {
                                    "0": "356",
                                    "1": "GIANT TROOPERS",
                                    "2": "8"
                                },
                                {
                                    "0": "357",
                                    "1": "GILBERT PELICAN",
                                    "2": "4"
                                },
                                {
                                    "0": "358",
                                    "1": "GILMORE BOILED",
                                    "2": "8"
                                },
                                {
                                    "0": "360",
                                    "1": "GLASS DYING",
                                    "2": "4"
                                },
                                {
                                    "0": "361",
                                    "1": "GLEAMING JAWBREAKER",
                                    "2": "8"
                                },
                                {
                                    "0": "362",
                                    "1": "GLORY TRACY",
                                    "2": "2"
                                },
                                {
                                    "0": "363",
                                    "1": "GO PURPLE",
                                    "2": "6"
                                },
                                {
                                    "0": "364",
                                    "1": "GODFATHER DIARY",
                                    "2": "3"
                                },
                                {
                                    "0": "365",
                                    "1": "GOLD RIVER",
                                    "2": "4"
                                },
                                {
                                    "0": "366",
                                    "1": "GOLDFINGER SENSIBILITY",
                                    "2": "7"
                                },
                                {
                                    "0": "367",
                                    "1": "GOLDMINE TYCOON",
                                    "2": "7"
                                },
                                {
                                    "0": "368",
                                    "1": "GONE TROUBLE",
                                    "2": "2"
                                },
                                {
                                    "0": "369",
                                    "1": "GOODFELLAS SALUTE",
                                    "2": "8"
                                },
                                {
                                    "0": "370",
                                    "1": "GORGEOUS BINGO",
                                    "2": "5"
                                },
                                {
                                    "0": "371",
                                    "1": "GOSFORD DONNIE",
                                    "2": "3"
                                },
                                {
                                    "0": "372",
                                    "1": "GRACELAND DYNAMITE",
                                    "2": "2"
                                },
                                {
                                    "0": "373",
                                    "1": "GRADUATE LORD",
                                    "2": "5"
                                },
                                {
                                    "0": "374",
                                    "1": "GRAFFITI LOVE",
                                    "2": "7"
                                },
                                {
                                    "0": "375",
                                    "1": "GRAIL FRANKENSTEIN",
                                    "2": "2"
                                },
                                {
                                    "0": "376",
                                    "1": "GRAPES FURY",
                                    "2": "7"
                                },
                                {
                                    "0": "377",
                                    "1": "GREASE YOUTH",
                                    "2": "6"
                                },
                                {
                                    "0": "378",
                                    "1": "GREATEST NORTH",
                                    "2": "8"
                                },
                                {
                                    "0": "379",
                                    "1": "GREEDY ROOTS",
                                    "2": "4"
                                },
                                {
                                    "0": "380",
                                    "1": "GREEK EVERYONE",
                                    "2": "5"
                                },
                                {
                                    "0": "381",
                                    "1": "GRINCH MASSAGE",
                                    "2": "5"
                                },
                                {
                                    "0": "382",
                                    "1": "GRIT CLOCKWORK",
                                    "2": "8"
                                },
                                {
                                    "0": "383",
                                    "1": "GROOVE FICTION",
                                    "2": "5"
                                },
                                {
                                    "0": "384",
                                    "1": "GROSSE WONDERFUL",
                                    "2": "3"
                                },
                                {
                                    "0": "385",
                                    "1": "GROUNDHOG UNCUT",
                                    "2": "5"
                                },
                                {
                                    "0": "387",
                                    "1": "GUN BONNIE",
                                    "2": "6"
                                },
                                {
                                    "0": "388",
                                    "1": "GUNFIGHT MOON",
                                    "2": "6"
                                },
                                {
                                    "0": "389",
                                    "1": "GUNFIGHTER MUSSOLINI",
                                    "2": "4"
                                },
                                {
                                    "0": "390",
                                    "1": "GUYS FALCON",
                                    "2": "3"
                                },
                                {
                                    "0": "391",
                                    "1": "HALF OUTFIELD",
                                    "2": "7"
                                },
                                {
                                    "0": "392",
                                    "1": "HALL CASSIDY",
                                    "2": "6"
                                },
                                {
                                    "0": "393",
                                    "1": "HALLOWEEN NUTS",
                                    "2": "2"
                                },
                                {
                                    "0": "394",
                                    "1": "HAMLET WISDOM",
                                    "2": "4"
                                },
                                {
                                    "0": "395",
                                    "1": "HANDICAP BOONDOCK",
                                    "2": "6"
                                },
                                {
                                    "0": "396",
                                    "1": "HANGING DEEP",
                                    "2": "4"
                                },
                                {
                                    "0": "397",
                                    "1": "HANKY OCTOBER",
                                    "2": "7"
                                },
                                {
                                    "0": "398",
                                    "1": "HANOVER GALAXY",
                                    "2": "4"
                                },
                                {
                                    "0": "399",
                                    "1": "HAPPINESS UNITED",
                                    "2": "2"
                                },
                                {
                                    "0": "400",
                                    "1": "HARDLY ROBBERS",
                                    "2": "2"
                                },
                                {
                                    "0": "401",
                                    "1": "HAROLD FRENCH",
                                    "2": "2"
                                },
                                {
                                    "0": "402",
                                    "1": "HARPER DYING",
                                    "2": "6"
                                },
                                {
                                    "0": "403",
                                    "1": "HARRY IDAHO",
                                    "2": "8"
                                },
                                {
                                    "0": "405",
                                    "1": "HAUNTED ANTITRUST",
                                    "2": "2"
                                },
                                {
                                    "0": "406",
                                    "1": "HAUNTING PIANIST",
                                    "2": "6"
                                },
                                {
                                    "0": "407",
                                    "1": "HAWK CHILL",
                                    "2": "2"
                                },
                                {
                                    "0": "408",
                                    "1": "HEAD STRANGER",
                                    "2": "7"
                                },
                                {
                                    "0": "409",
                                    "1": "HEARTBREAKERS BRIGHT",
                                    "2": "7"
                                },
                                {
                                    "0": "410",
                                    "1": "HEAVEN FREEDOM",
                                    "2": "5"
                                },
                                {
                                    "0": "411",
                                    "1": "HEAVENLY GUN",
                                    "2": "2"
                                },
                                {
                                    "0": "412",
                                    "1": "HEAVYWEIGHTS BEAST",
                                    "2": "8"
                                },
                                {
                                    "0": "413",
                                    "1": "HEDWIG ALTER",
                                    "2": "3"
                                },
                                {
                                    "0": "414",
                                    "1": "HELLFIGHTERS SIERRA",
                                    "2": "6"
                                },
                                {
                                    "0": "415",
                                    "1": "HIGH ENCINO",
                                    "2": "6"
                                },
                                {
                                    "0": "416",
                                    "1": "HIGHBALL POTTER",
                                    "2": "6"
                                },
                                {
                                    "0": "417",
                                    "1": "HILLS NEIGHBORS",
                                    "2": "6"
                                },
                                {
                                    "0": "418",
                                    "1": "HOBBIT ALIEN",
                                    "2": "8"
                                },
                                {
                                    "0": "420",
                                    "1": "HOLES BRANNIGAN",
                                    "2": "5"
                                },
                                {
                                    "0": "421",
                                    "1": "HOLIDAY GAMES",
                                    "2": "4"
                                },
                                {
                                    "0": "422",
                                    "1": "HOLLOW JEOPARDY",
                                    "2": "2"
                                },
                                {
                                    "0": "423",
                                    "1": "HOLLYWOOD ANONYMOUS",
                                    "2": "4"
                                },
                                {
                                    "0": "424",
                                    "1": "HOLOCAUST HIGHBALL",
                                    "2": "5"
                                },
                                {
                                    "0": "425",
                                    "1": "HOLY TADPOLE",
                                    "2": "2"
                                },
                                {
                                    "0": "426",
                                    "1": "HOME PITY",
                                    "2": "3"
                                },
                                {
                                    "0": "427",
                                    "1": "HOMEWARD CIDER",
                                    "2": "4"
                                },
                                {
                                    "0": "428",
                                    "1": "HOMICIDE PEACH",
                                    "2": "6"
                                },
                                {
                                    "0": "429",
                                    "1": "HONEY TIES",
                                    "2": "6"
                                },
                                {
                                    "0": "430",
                                    "1": "HOOK CHARIOTS",
                                    "2": "4"
                                },
                                {
                                    "0": "431",
                                    "1": "HOOSIERS BIRDCAGE",
                                    "2": "3"
                                },
                                {
                                    "0": "432",
                                    "1": "HOPE TOOTSIE",
                                    "2": "5"
                                },
                                {
                                    "0": "433",
                                    "1": "HORN WORKING",
                                    "2": "6"
                                },
                                {
                                    "0": "434",
                                    "1": "HORROR REIGN",
                                    "2": "8"
                                },
                                {
                                    "0": "435",
                                    "1": "HOTEL HAPPINESS",
                                    "2": "2"
                                },
                                {
                                    "0": "436",
                                    "1": "HOURS RAGE",
                                    "2": "6"
                                },
                                {
                                    "0": "437",
                                    "1": "HOUSE DYNAMITE",
                                    "2": "6"
                                },
                                {
                                    "0": "438",
                                    "1": "HUMAN GRAFFITI",
                                    "2": "5"
                                },
                                {
                                    "0": "439",
                                    "1": "HUNCHBACK IMPOSSIBLE",
                                    "2": "6"
                                },
                                {
                                    "0": "440",
                                    "1": "HUNGER ROOF",
                                    "2": "4"
                                },
                                {
                                    "0": "441",
                                    "1": "HUNTER ALTER",
                                    "2": "2"
                                },
                                {
                                    "0": "442",
                                    "1": "HUNTING MUSKETEERS",
                                    "2": "3"
                                },
                                {
                                    "0": "443",
                                    "1": "HURRICANE AFFAIR",
                                    "2": "7"
                                },
                                {
                                    "0": "444",
                                    "1": "HUSTLER PARTY",
                                    "2": "8"
                                },
                                {
                                    "0": "445",
                                    "1": "HYDE DOCTOR",
                                    "2": "6"
                                },
                                {
                                    "0": "446",
                                    "1": "HYSTERICAL GRAIL",
                                    "2": "4"
                                },
                                {
                                    "0": "447",
                                    "1": "ICE CROSSING",
                                    "2": "7"
                                },
                                {
                                    "0": "448",
                                    "1": "IDAHO LOVE",
                                    "2": "5"
                                },
                                {
                                    "0": "449",
                                    "1": "IDENTITY LOVER",
                                    "2": "4"
                                },
                                {
                                    "0": "450",
                                    "1": "IDOLS SNATCHERS",
                                    "2": "7"
                                },
                                {
                                    "0": "451",
                                    "1": "IGBY MAKER",
                                    "2": "5"
                                },
                                {
                                    "0": "452",
                                    "1": "ILLUSION AMELIE",
                                    "2": "4"
                                },
                                {
                                    "0": "453",
                                    "1": "IMAGE PRINCESS",
                                    "2": "5"
                                },
                                {
                                    "0": "454",
                                    "1": "IMPACT ALADDIN",
                                    "2": "2"
                                },
                                {
                                    "0": "455",
                                    "1": "IMPOSSIBLE PREJUDICE",
                                    "2": "4"
                                },
                                {
                                    "0": "456",
                                    "1": "INCH JET",
                                    "2": "6"
                                },
                                {
                                    "0": "457",
                                    "1": "INDEPENDENCE HOTEL",
                                    "2": "6"
                                },
                                {
                                    "0": "458",
                                    "1": "INDIAN LOVE",
                                    "2": "6"
                                },
                                {
                                    "0": "459",
                                    "1": "INFORMER DOUBLE",
                                    "2": "2"
                                },
                                {
                                    "0": "460",
                                    "1": "INNOCENT USUAL",
                                    "2": "8"
                                },
                                {
                                    "0": "461",
                                    "1": "INSECTS STONE",
                                    "2": "6"
                                },
                                {
                                    "0": "462",
                                    "1": "INSIDER ARIZONA",
                                    "2": "5"
                                },
                                {
                                    "0": "463",
                                    "1": "INSTINCT AIRPORT",
                                    "2": "5"
                                },
                                {
                                    "0": "464",
                                    "1": "INTENTIONS EMPIRE",
                                    "2": "7"
                                },
                                {
                                    "0": "465",
                                    "1": "INTERVIEW LIAISONS",
                                    "2": "5"
                                },
                                {
                                    "0": "466",
                                    "1": "INTOLERABLE INTENTIONS",
                                    "2": "2"
                                },
                                {
                                    "0": "467",
                                    "1": "INTRIGUE WORST",
                                    "2": "7"
                                },
                                {
                                    "0": "468",
                                    "1": "INVASION CYCLONE",
                                    "2": "8"
                                },
                                {
                                    "0": "469",
                                    "1": "IRON MOON",
                                    "2": "3"
                                },
                                {
                                    "0": "470",
                                    "1": "ISHTAR ROCKETEER",
                                    "2": "2"
                                },
                                {
                                    "0": "471",
                                    "1": "ISLAND EXORCIST",
                                    "2": "7"
                                },
                                {
                                    "0": "472",
                                    "1": "ITALIAN AFRICAN",
                                    "2": "2"
                                },
                                {
                                    "0": "473",
                                    "1": "JACKET FRISCO",
                                    "2": "5"
                                },
                                {
                                    "0": "474",
                                    "1": "JADE BUNCH",
                                    "2": "4"
                                },
                                {
                                    "0": "475",
                                    "1": "JAPANESE RUN",
                                    "2": "2"
                                },
                                {
                                    "0": "476",
                                    "1": "JASON TRAP",
                                    "2": "7"
                                },
                                {
                                    "0": "477",
                                    "1": "JAWBREAKER BROOKLYN",
                                    "2": "3"
                                },
                                {
                                    "0": "478",
                                    "1": "JAWS HARRY",
                                    "2": "5"
                                },
                                {
                                    "0": "479",
                                    "1": "JEDI BENEATH",
                                    "2": "5"
                                },
                                {
                                    "0": "480",
                                    "1": "JEEPERS WEDDING",
                                    "2": "4"
                                },
                                {
                                    "0": "481",
                                    "1": "JEKYLL FROGMEN",
                                    "2": "6"
                                },
                                {
                                    "0": "482",
                                    "1": "JEOPARDY ENCINO",
                                    "2": "3"
                                },
                                {
                                    "0": "483",
                                    "1": "JERICHO MULAN",
                                    "2": "5"
                                },
                                {
                                    "0": "484",
                                    "1": "JERK PAYCHECK",
                                    "2": "7"
                                },
                                {
                                    "0": "485",
                                    "1": "JERSEY SASSY",
                                    "2": "3"
                                },
                                {
                                    "0": "486",
                                    "1": "JET NEIGHBORS",
                                    "2": "6"
                                },
                                {
                                    "0": "487",
                                    "1": "JINGLE SAGEBRUSH",
                                    "2": "3"
                                },
                                {
                                    "0": "488",
                                    "1": "JOON NORTHWEST",
                                    "2": "5"
                                },
                                {
                                    "0": "489",
                                    "1": "JUGGLER HARDLY",
                                    "2": "8"
                                },
                                {
                                    "0": "490",
                                    "1": "JUMANJI BLADE",
                                    "2": "2"
                                },
                                {
                                    "0": "491",
                                    "1": "JUMPING WRATH",
                                    "2": "6"
                                },
                                {
                                    "0": "492",
                                    "1": "JUNGLE CLOSER",
                                    "2": "2"
                                },
                                {
                                    "0": "493",
                                    "1": "KANE EXORCIST",
                                    "2": "3"
                                },
                                {
                                    "0": "494",
                                    "1": "KARATE MOON",
                                    "2": "6"
                                },
                                {
                                    "0": "496",
                                    "1": "KICK SAVANNAH",
                                    "2": "5"
                                },
                                {
                                    "0": "498",
                                    "1": "KILLER INNOCENT",
                                    "2": "2"
                                },
                                {
                                    "0": "499",
                                    "1": "KING EVOLUTION",
                                    "2": "2"
                                },
                                {
                                    "0": "500",
                                    "1": "KISS GLORY",
                                    "2": "8"
                                },
                                {
                                    "0": "501",
                                    "1": "KISSING DOLLS",
                                    "2": "5"
                                },
                                {
                                    "0": "502",
                                    "1": "KNOCK WARLOCK",
                                    "2": "7"
                                },
                                {
                                    "0": "503",
                                    "1": "KRAMER CHOCOLATE",
                                    "2": "3"
                                },
                                {
                                    "0": "504",
                                    "1": "KWAI HOMEWARD",
                                    "2": "6"
                                },
                                {
                                    "0": "505",
                                    "1": "LABYRINTH LEAGUE",
                                    "2": "4"
                                },
                                {
                                    "0": "506",
                                    "1": "LADY STAGE",
                                    "2": "6"
                                },
                                {
                                    "0": "507",
                                    "1": "LADYBUGS ARMAGEDDON",
                                    "2": "2"
                                },
                                {
                                    "0": "508",
                                    "1": "LAMBS CINCINATTI",
                                    "2": "3"
                                },
                                {
                                    "0": "509",
                                    "1": "LANGUAGE COWBOY",
                                    "2": "3"
                                },
                                {
                                    "0": "510",
                                    "1": "LAWLESS VISION",
                                    "2": "4"
                                },
                                {
                                    "0": "511",
                                    "1": "LAWRENCE LOVE",
                                    "2": "5"
                                },
                                {
                                    "0": "512",
                                    "1": "LEAGUE HELLFIGHTERS",
                                    "2": "6"
                                },
                                {
                                    "0": "513",
                                    "1": "LEATHERNECKS DWARFS",
                                    "2": "2"
                                },
                                {
                                    "0": "514",
                                    "1": "LEBOWSKI SOLDIERS",
                                    "2": "6"
                                },
                                {
                                    "0": "515",
                                    "1": "LEGALLY SECRETARY",
                                    "2": "2"
                                },
                                {
                                    "0": "516",
                                    "1": "LEGEND JEDI",
                                    "2": "3"
                                },
                                {
                                    "0": "517",
                                    "1": "LESSON CLEOPATRA",
                                    "2": "2"
                                },
                                {
                                    "0": "518",
                                    "1": "LIAISONS SWEET",
                                    "2": "6"
                                },
                                {
                                    "0": "519",
                                    "1": "LIBERTY MAGNIFICENT",
                                    "2": "4"
                                },
                                {
                                    "0": "520",
                                    "1": "LICENSE WEEKEND",
                                    "2": "2"
                                },
                                {
                                    "0": "521",
                                    "1": "LIES TREATMENT",
                                    "2": "7"
                                },
                                {
                                    "0": "522",
                                    "1": "LIFE TWISTED",
                                    "2": "2"
                                },
                                {
                                    "0": "523",
                                    "1": "LIGHTS DEER",
                                    "2": "2"
                                },
                                {
                                    "0": "524",
                                    "1": "LION UNCUT",
                                    "2": "6"
                                },
                                {
                                    "0": "525",
                                    "1": "LOATHING LEGALLY",
                                    "2": "8"
                                },
                                {
                                    "0": "526",
                                    "1": "LOCK REAR",
                                    "2": "4"
                                },
                                {
                                    "0": "527",
                                    "1": "LOLA AGENT",
                                    "2": "6"
                                },
                                {
                                    "0": "528",
                                    "1": "LOLITA WORLD",
                                    "2": "3"
                                },
                                {
                                    "0": "529",
                                    "1": "LONELY ELEPHANT",
                                    "2": "4"
                                },
                                {
                                    "0": "530",
                                    "1": "LORD ARIZONA",
                                    "2": "3"
                                },
                                {
                                    "0": "531",
                                    "1": "LOSE INCH",
                                    "2": "8"
                                },
                                {
                                    "0": "532",
                                    "1": "LOSER HUSTLER",
                                    "2": "4"
                                },
                                {
                                    "0": "533",
                                    "1": "LOST BIRD",
                                    "2": "3"
                                },
                                {
                                    "0": "534",
                                    "1": "LOUISIANA HARRY",
                                    "2": "5"
                                },
                                {
                                    "0": "535",
                                    "1": "LOVE SUICIDES",
                                    "2": "4"
                                },
                                {
                                    "0": "536",
                                    "1": "LOVELY JINGLE",
                                    "2": "5"
                                },
                                {
                                    "0": "537",
                                    "1": "LOVER TRUMAN",
                                    "2": "3"
                                },
                                {
                                    "0": "538",
                                    "1": "LOVERBOY ATTACKS",
                                    "2": "3"
                                },
                                {
                                    "0": "539",
                                    "1": "LUCK OPUS",
                                    "2": "2"
                                },
                                {
                                    "0": "540",
                                    "1": "LUCKY FLYING",
                                    "2": "3"
                                },
                                {
                                    "0": "541",
                                    "1": "LUKE MUMMY",
                                    "2": "2"
                                },
                                {
                                    "0": "542",
                                    "1": "LUST LOCK",
                                    "2": "6"
                                },
                                {
                                    "0": "543",
                                    "1": "MADIGAN DORADO",
                                    "2": "2"
                                },
                                {
                                    "0": "544",
                                    "1": "MADISON TRAP",
                                    "2": "4"
                                },
                                {
                                    "0": "545",
                                    "1": "MADNESS ATTACKS",
                                    "2": "6"
                                },
                                {
                                    "0": "546",
                                    "1": "MADRE GABLES",
                                    "2": "4"
                                },
                                {
                                    "0": "547",
                                    "1": "MAGIC MALLRATS",
                                    "2": "2"
                                },
                                {
                                    "0": "548",
                                    "1": "MAGNIFICENT CHITTY",
                                    "2": "2"
                                },
                                {
                                    "0": "549",
                                    "1": "MAGNOLIA FORRESTER",
                                    "2": "4"
                                },
                                {
                                    "0": "550",
                                    "1": "MAGUIRE APACHE",
                                    "2": "3"
                                },
                                {
                                    "0": "551",
                                    "1": "MAIDEN HOME",
                                    "2": "6"
                                },
                                {
                                    "0": "552",
                                    "1": "MAJESTIC FLOATS",
                                    "2": "4"
                                },
                                {
                                    "0": "553",
                                    "1": "MAKER GABLES",
                                    "2": "3"
                                },
                                {
                                    "0": "554",
                                    "1": "MALKOVICH PET",
                                    "2": "7"
                                },
                                {
                                    "0": "555",
                                    "1": "MALLRATS UNITED",
                                    "2": "7"
                                },
                                {
                                    "0": "556",
                                    "1": "MALTESE HOPE",
                                    "2": "7"
                                },
                                {
                                    "0": "557",
                                    "1": "MANCHURIAN CURTAIN",
                                    "2": "5"
                                },
                                {
                                    "0": "558",
                                    "1": "MANNEQUIN WORST",
                                    "2": "2"
                                },
                                {
                                    "0": "559",
                                    "1": "MARRIED GO",
                                    "2": "8"
                                },
                                {
                                    "0": "560",
                                    "1": "MARS ROMAN",
                                    "2": "5"
                                },
                                {
                                    "0": "561",
                                    "1": "MASK PEACH",
                                    "2": "4"
                                },
                                {
                                    "0": "562",
                                    "1": "MASKED BUBBLE",
                                    "2": "6"
                                },
                                {
                                    "0": "563",
                                    "1": "MASSACRE USUAL",
                                    "2": "7"
                                },
                                {
                                    "0": "564",
                                    "1": "MASSAGE IMAGE",
                                    "2": "3"
                                },
                                {
                                    "0": "565",
                                    "1": "MATRIX SNOWMAN",
                                    "2": "2"
                                },
                                {
                                    "0": "566",
                                    "1": "MAUDE MOD",
                                    "2": "2"
                                },
                                {
                                    "0": "567",
                                    "1": "MEET CHOCOLATE",
                                    "2": "4"
                                },
                                {
                                    "0": "568",
                                    "1": "MEMENTO ZOOLANDER",
                                    "2": "4"
                                },
                                {
                                    "0": "569",
                                    "1": "MENAGERIE RUSHMORE",
                                    "2": "2"
                                },
                                {
                                    "0": "570",
                                    "1": "MERMAID INSECTS",
                                    "2": "5"
                                },
                                {
                                    "0": "571",
                                    "1": "METAL ARMAGEDDON",
                                    "2": "6"
                                },
                                {
                                    "0": "572",
                                    "1": "METROPOLIS COMA",
                                    "2": "8"
                                },
                                {
                                    "0": "573",
                                    "1": "MICROCOSMOS PARADISE",
                                    "2": "4"
                                },
                                {
                                    "0": "574",
                                    "1": "MIDNIGHT WESTWARD",
                                    "2": "5"
                                },
                                {
                                    "0": "575",
                                    "1": "MIDSUMMER GROUNDHOG",
                                    "2": "6"
                                },
                                {
                                    "0": "576",
                                    "1": "MIGHTY LUCK",
                                    "2": "3"
                                },
                                {
                                    "0": "577",
                                    "1": "MILE MULAN",
                                    "2": "3"
                                },
                                {
                                    "0": "578",
                                    "1": "MILLION ACE",
                                    "2": "5"
                                },
                                {
                                    "0": "579",
                                    "1": "MINDS TRUMAN",
                                    "2": "7"
                                },
                                {
                                    "0": "580",
                                    "1": "MINE TITANS",
                                    "2": "6"
                                },
                                {
                                    "0": "581",
                                    "1": "MINORITY KISS",
                                    "2": "3"
                                },
                                {
                                    "0": "582",
                                    "1": "MIRACLE VIRTUAL",
                                    "2": "2"
                                },
                                {
                                    "0": "583",
                                    "1": "MISSION ZOOLANDER",
                                    "2": "5"
                                },
                                {
                                    "0": "584",
                                    "1": "MIXED DOORS",
                                    "2": "2"
                                },
                                {
                                    "0": "585",
                                    "1": "MOB DUFFEL",
                                    "2": "4"
                                },
                                {
                                    "0": "586",
                                    "1": "MOCKINGBIRD HOLLYWOOD",
                                    "2": "8"
                                },
                                {
                                    "0": "587",
                                    "1": "MOD SECRETARY",
                                    "2": "3"
                                },
                                {
                                    "0": "588",
                                    "1": "MODEL FISH",
                                    "2": "4"
                                },
                                {
                                    "0": "589",
                                    "1": "MODERN DORADO",
                                    "2": "4"
                                },
                                {
                                    "0": "590",
                                    "1": "MONEY HAROLD",
                                    "2": "7"
                                },
                                {
                                    "0": "591",
                                    "1": "MONSOON CAUSE",
                                    "2": "3"
                                },
                                {
                                    "0": "592",
                                    "1": "MONSTER SPARTACUS",
                                    "2": "4"
                                },
                                {
                                    "0": "593",
                                    "1": "MONTEREY LABYRINTH",
                                    "2": "4"
                                },
                                {
                                    "0": "594",
                                    "1": "MONTEZUMA COMMAND",
                                    "2": "3"
                                },
                                {
                                    "0": "595",
                                    "1": "MOON BUNCH",
                                    "2": "8"
                                },
                                {
                                    "0": "596",
                                    "1": "MOONSHINE CABIN",
                                    "2": "6"
                                },
                                {
                                    "0": "597",
                                    "1": "MOONWALKER FOOL",
                                    "2": "4"
                                },
                                {
                                    "0": "598",
                                    "1": "MOSQUITO ARMAGEDDON",
                                    "2": "4"
                                },
                                {
                                    "0": "599",
                                    "1": "MOTHER OLEANDER",
                                    "2": "5"
                                },
                                {
                                    "0": "600",
                                    "1": "MOTIONS DETAILS",
                                    "2": "4"
                                },
                                {
                                    "0": "601",
                                    "1": "MOULIN WAKE",
                                    "2": "5"
                                },
                                {
                                    "0": "602",
                                    "1": "MOURNING PURPLE",
                                    "2": "5"
                                },
                                {
                                    "0": "603",
                                    "1": "MOVIE SHAKESPEARE",
                                    "2": "6"
                                },
                                {
                                    "0": "604",
                                    "1": "MULAN MOON",
                                    "2": "3"
                                },
                                {
                                    "0": "605",
                                    "1": "MULHOLLAND BEAST",
                                    "2": "2"
                                },
                                {
                                    "0": "606",
                                    "1": "MUMMY CREATURES",
                                    "2": "6"
                                },
                                {
                                    "0": "608",
                                    "1": "MURDER ANTITRUST",
                                    "2": "6"
                                },
                                {
                                    "0": "609",
                                    "1": "MUSCLE BRIGHT",
                                    "2": "8"
                                },
                                {
                                    "0": "610",
                                    "1": "MUSIC BOONDOCK",
                                    "2": "5"
                                },
                                {
                                    "0": "611",
                                    "1": "MUSKETEERS WAIT",
                                    "2": "6"
                                },
                                {
                                    "0": "612",
                                    "1": "MUSSOLINI SPOILERS",
                                    "2": "2"
                                },
                                {
                                    "0": "613",
                                    "1": "MYSTIC TRUMAN",
                                    "2": "2"
                                },
                                {
                                    "0": "614",
                                    "1": "NAME DETECTIVE",
                                    "2": "6"
                                },
                                {
                                    "0": "615",
                                    "1": "NASH CHOCOLAT",
                                    "2": "4"
                                },
                                {
                                    "0": "616",
                                    "1": "NATIONAL STORY",
                                    "2": "6"
                                },
                                {
                                    "0": "617",
                                    "1": "NATURAL STOCK",
                                    "2": "3"
                                },
                                {
                                    "0": "618",
                                    "1": "NECKLACE OUTBREAK",
                                    "2": "4"
                                },
                                {
                                    "0": "619",
                                    "1": "NEIGHBORS CHARADE",
                                    "2": "6"
                                },
                                {
                                    "0": "620",
                                    "1": "NEMO CAMPUS",
                                    "2": "5"
                                },
                                {
                                    "0": "621",
                                    "1": "NETWORK PEAK",
                                    "2": "8"
                                },
                                {
                                    "0": "622",
                                    "1": "NEWSIES STORY",
                                    "2": "2"
                                },
                                {
                                    "0": "623",
                                    "1": "NEWTON LABYRINTH",
                                    "2": "5"
                                },
                                {
                                    "0": "624",
                                    "1": "NIGHTMARE CHILL",
                                    "2": "7"
                                },
                                {
                                    "0": "625",
                                    "1": "NONE SPIKING",
                                    "2": "7"
                                },
                                {
                                    "0": "626",
                                    "1": "NOON PAPI",
                                    "2": "4"
                                },
                                {
                                    "0": "627",
                                    "1": "NORTH TEQUILA",
                                    "2": "3"
                                },
                                {
                                    "0": "628",
                                    "1": "NORTHWEST POLISH",
                                    "2": "5"
                                },
                                {
                                    "0": "629",
                                    "1": "NOTORIOUS REUNION",
                                    "2": "4"
                                },
                                {
                                    "0": "630",
                                    "1": "NOTTING SPEAKEASY",
                                    "2": "3"
                                },
                                {
                                    "0": "631",
                                    "1": "NOVOCAINE FLIGHT",
                                    "2": "5"
                                },
                                {
                                    "0": "632",
                                    "1": "NUTS TIES",
                                    "2": "3"
                                },
                                {
                                    "0": "633",
                                    "1": "OCTOBER SUBMARINE",
                                    "2": "3"
                                },
                                {
                                    "0": "634",
                                    "1": "ODDS BOOGIE",
                                    "2": "4"
                                },
                                {
                                    "0": "635",
                                    "1": "OKLAHOMA JUMANJI",
                                    "2": "2"
                                },
                                {
                                    "0": "636",
                                    "1": "OLEANDER CLUE",
                                    "2": "3"
                                },
                                {
                                    "0": "637",
                                    "1": "OPEN AFRICAN",
                                    "2": "5"
                                },
                                {
                                    "0": "638",
                                    "1": "OPERATION OPERATION",
                                    "2": "8"
                                },
                                {
                                    "0": "639",
                                    "1": "OPPOSITE NECKLACE",
                                    "2": "3"
                                },
                                {
                                    "0": "640",
                                    "1": "OPUS ICE",
                                    "2": "3"
                                },
                                {
                                    "0": "641",
                                    "1": "ORANGE GRAPES",
                                    "2": "7"
                                },
                                {
                                    "0": "643",
                                    "1": "ORIENT CLOSER",
                                    "2": "6"
                                },
                                {
                                    "0": "644",
                                    "1": "OSCAR GOLD",
                                    "2": "7"
                                },
                                {
                                    "0": "645",
                                    "1": "OTHERS SOUP",
                                    "2": "6"
                                },
                                {
                                    "0": "646",
                                    "1": "OUTBREAK DIVINE",
                                    "2": "5"
                                },
                                {
                                    "0": "647",
                                    "1": "OUTFIELD MASSACRE",
                                    "2": "6"
                                },
                                {
                                    "0": "648",
                                    "1": "OUTLAW HANKY",
                                    "2": "6"
                                },
                                {
                                    "0": "649",
                                    "1": "OZ LIAISONS",
                                    "2": "6"
                                },
                                {
                                    "0": "650",
                                    "1": "PACIFIC AMISTAD",
                                    "2": "6"
                                },
                                {
                                    "0": "651",
                                    "1": "PACKER MADIGAN",
                                    "2": "6"
                                },
                                {
                                    "0": "652",
                                    "1": "PAJAMA JAWBREAKER",
                                    "2": "4"
                                },
                                {
                                    "0": "653",
                                    "1": "PANIC CLUB",
                                    "2": "2"
                                },
                                {
                                    "0": "654",
                                    "1": "PANKY SUBMARINE",
                                    "2": "4"
                                },
                                {
                                    "0": "655",
                                    "1": "PANTHER REDS",
                                    "2": "6"
                                },
                                {
                                    "0": "656",
                                    "1": "PAPI NECKLACE",
                                    "2": "2"
                                },
                                {
                                    "0": "657",
                                    "1": "PARADISE SABRINA",
                                    "2": "6"
                                },
                                {
                                    "0": "658",
                                    "1": "PARIS WEEKEND",
                                    "2": "4"
                                },
                                {
                                    "0": "659",
                                    "1": "PARK CITIZEN",
                                    "2": "2"
                                },
                                {
                                    "0": "660",
                                    "1": "PARTY KNOCK",
                                    "2": "4"
                                },
                                {
                                    "0": "661",
                                    "1": "PAST SUICIDES",
                                    "2": "4"
                                },
                                {
                                    "0": "662",
                                    "1": "PATHS CONTROL",
                                    "2": "4"
                                },
                                {
                                    "0": "663",
                                    "1": "PATIENT SISTER",
                                    "2": "5"
                                },
                                {
                                    "0": "664",
                                    "1": "PATRIOT ROMAN",
                                    "2": "5"
                                },
                                {
                                    "0": "665",
                                    "1": "PATTON INTERVIEW",
                                    "2": "7"
                                },
                                {
                                    "0": "666",
                                    "1": "PAYCHECK WAIT",
                                    "2": "5"
                                },
                                {
                                    "0": "667",
                                    "1": "PEACH INNOCENT",
                                    "2": "4"
                                },
                                {
                                    "0": "668",
                                    "1": "PEAK FOREVER",
                                    "2": "5"
                                },
                                {
                                    "0": "670",
                                    "1": "PELICAN COMFORTS",
                                    "2": "7"
                                },
                                {
                                    "0": "672",
                                    "1": "PERFECT GROOVE",
                                    "2": "6"
                                },
                                {
                                    "0": "673",
                                    "1": "PERSONAL LADYBUGS",
                                    "2": "4"
                                },
                                {
                                    "0": "674",
                                    "1": "PET HAUNTING",
                                    "2": "3"
                                },
                                {
                                    "0": "675",
                                    "1": "PHANTOM GLORY",
                                    "2": "2"
                                },
                                {
                                    "0": "676",
                                    "1": "PHILADELPHIA WIFE",
                                    "2": "6"
                                },
                                {
                                    "0": "677",
                                    "1": "PIANIST OUTFIELD",
                                    "2": "7"
                                },
                                {
                                    "0": "678",
                                    "1": "PICKUP DRIVING",
                                    "2": "4"
                                },
                                {
                                    "0": "679",
                                    "1": "PILOT HOOSIERS",
                                    "2": "4"
                                },
                                {
                                    "0": "680",
                                    "1": "PINOCCHIO SIMON",
                                    "2": "6"
                                },
                                {
                                    "0": "681",
                                    "1": "PIRATES ROXANNE",
                                    "2": "6"
                                },
                                {
                                    "0": "682",
                                    "1": "PITTSBURGH HUNCHBACK",
                                    "2": "3"
                                },
                                {
                                    "0": "683",
                                    "1": "PITY BOUND",
                                    "2": "8"
                                },
                                {
                                    "0": "684",
                                    "1": "PIZZA JUMANJI",
                                    "2": "2"
                                },
                                {
                                    "0": "685",
                                    "1": "PLATOON INSTINCT",
                                    "2": "2"
                                },
                                {
                                    "0": "686",
                                    "1": "PLUTO OLEANDER",
                                    "2": "4"
                                },
                                {
                                    "0": "687",
                                    "1": "POCUS PULP",
                                    "2": "7"
                                },
                                {
                                    "0": "688",
                                    "1": "POLISH BROOKLYN",
                                    "2": "4"
                                },
                                {
                                    "0": "689",
                                    "1": "POLLOCK DELIVERANCE",
                                    "2": "6"
                                },
                                {
                                    "0": "690",
                                    "1": "POND SEATTLE",
                                    "2": "6"
                                },
                                {
                                    "0": "691",
                                    "1": "POSEIDON FOREVER",
                                    "2": "5"
                                },
                                {
                                    "0": "692",
                                    "1": "POTLUCK MIXED",
                                    "2": "3"
                                },
                                {
                                    "0": "693",
                                    "1": "POTTER CONNECTICUT",
                                    "2": "5"
                                },
                                {
                                    "0": "694",
                                    "1": "PREJUDICE OLEANDER",
                                    "2": "6"
                                },
                                {
                                    "0": "695",
                                    "1": "PRESIDENT BANG",
                                    "2": "2"
                                },
                                {
                                    "0": "696",
                                    "1": "PRIDE ALAMO",
                                    "2": "5"
                                },
                                {
                                    "0": "697",
                                    "1": "PRIMARY GLASS",
                                    "2": "8"
                                },
                                {
                                    "0": "698",
                                    "1": "PRINCESS GIANT",
                                    "2": "7"
                                },
                                {
                                    "0": "699",
                                    "1": "PRIVATE DROP",
                                    "2": "2"
                                },
                                {
                                    "0": "700",
                                    "1": "PRIX UNDEFEATED",
                                    "2": "3"
                                },
                                {
                                    "0": "702",
                                    "1": "PULP BEVERLY",
                                    "2": "8"
                                },
                                {
                                    "0": "703",
                                    "1": "PUNK DIVORCE",
                                    "2": "2"
                                },
                                {
                                    "0": "704",
                                    "1": "PURE RUNNER",
                                    "2": "5"
                                },
                                {
                                    "0": "705",
                                    "1": "PURPLE MOVIE",
                                    "2": "4"
                                },
                                {
                                    "0": "706",
                                    "1": "QUEEN LUKE",
                                    "2": "6"
                                },
                                {
                                    "0": "707",
                                    "1": "QUEST MUSSOLINI",
                                    "2": "6"
                                },
                                {
                                    "0": "708",
                                    "1": "QUILLS BULL",
                                    "2": "4"
                                },
                                {
                                    "0": "709",
                                    "1": "RACER EGG",
                                    "2": "6"
                                },
                                {
                                    "0": "710",
                                    "1": "RAGE GAMES",
                                    "2": "6"
                                },
                                {
                                    "0": "711",
                                    "1": "RAGING AIRPLANE",
                                    "2": "4"
                                },
                                {
                                    "0": "714",
                                    "1": "RANDOM GO",
                                    "2": "3"
                                },
                                {
                                    "0": "715",
                                    "1": "RANGE MOONWALKER",
                                    "2": "7"
                                },
                                {
                                    "0": "716",
                                    "1": "REAP UNFAITHFUL",
                                    "2": "5"
                                },
                                {
                                    "0": "717",
                                    "1": "REAR TRADING",
                                    "2": "4"
                                },
                                {
                                    "0": "718",
                                    "1": "REBEL AIRPORT",
                                    "2": "2"
                                },
                                {
                                    "0": "719",
                                    "1": "RECORDS ZORRO",
                                    "2": "2"
                                },
                                {
                                    "0": "720",
                                    "1": "REDEMPTION COMFORTS",
                                    "2": "7"
                                },
                                {
                                    "0": "721",
                                    "1": "REDS POCUS",
                                    "2": "2"
                                },
                                {
                                    "0": "722",
                                    "1": "REEF SALUTE",
                                    "2": "4"
                                },
                                {
                                    "0": "723",
                                    "1": "REIGN GENTLEMEN",
                                    "2": "7"
                                },
                                {
                                    "0": "724",
                                    "1": "REMEMBER DIARY",
                                    "2": "6"
                                },
                                {
                                    "0": "725",
                                    "1": "REQUIEM TYCOON",
                                    "2": "6"
                                },
                                {
                                    "0": "726",
                                    "1": "RESERVOIR ADAPTATION",
                                    "2": "3"
                                },
                                {
                                    "0": "727",
                                    "1": "RESURRECTION SILVERADO",
                                    "2": "5"
                                },
                                {
                                    "0": "728",
                                    "1": "REUNION WITCHES",
                                    "2": "5"
                                },
                                {
                                    "0": "729",
                                    "1": "RIDER CADDYSHACK",
                                    "2": "4"
                                },
                                {
                                    "0": "730",
                                    "1": "RIDGEMONT SUBMARINE",
                                    "2": "8"
                                },
                                {
                                    "0": "731",
                                    "1": "RIGHT CRANES",
                                    "2": "3"
                                },
                                {
                                    "0": "732",
                                    "1": "RINGS HEARTBREAKERS",
                                    "2": "4"
                                },
                                {
                                    "0": "733",
                                    "1": "RIVER OUTLAW",
                                    "2": "7"
                                },
                                {
                                    "0": "734",
                                    "1": "ROAD ROXANNE",
                                    "2": "6"
                                },
                                {
                                    "0": "735",
                                    "1": "ROBBERS JOON",
                                    "2": "7"
                                },
                                {
                                    "0": "736",
                                    "1": "ROBBERY BRIGHT",
                                    "2": "4"
                                },
                                {
                                    "0": "737",
                                    "1": "ROCK INSTINCT",
                                    "2": "6"
                                },
                                {
                                    "0": "738",
                                    "1": "ROCKETEER MOTHER",
                                    "2": "8"
                                },
                                {
                                    "0": "739",
                                    "1": "ROCKY WAR",
                                    "2": "5"
                                },
                                {
                                    "0": "740",
                                    "1": "ROLLERCOASTER BRINGING",
                                    "2": "3"
                                },
                                {
                                    "0": "741",
                                    "1": "ROMAN PUNK",
                                    "2": "6"
                                },
                                {
                                    "0": "743",
                                    "1": "ROOM ROMAN",
                                    "2": "6"
                                },
                                {
                                    "0": "744",
                                    "1": "ROOTS REMEMBER",
                                    "2": "5"
                                },
                                {
                                    "0": "745",
                                    "1": "ROSES TREASURE",
                                    "2": "8"
                                },
                                {
                                    "0": "746",
                                    "1": "ROUGE SQUAD",
                                    "2": "5"
                                },
                                {
                                    "0": "747",
                                    "1": "ROXANNE REBEL",
                                    "2": "5"
                                },
                                {
                                    "0": "748",
                                    "1": "RUGRATS SHAKESPEARE",
                                    "2": "8"
                                },
                                {
                                    "0": "749",
                                    "1": "RULES HUMAN",
                                    "2": "4"
                                },
                                {
                                    "0": "750",
                                    "1": "RUN PACIFIC",
                                    "2": "3"
                                },
                                {
                                    "0": "751",
                                    "1": "RUNAWAY TENENBAUMS",
                                    "2": "2"
                                },
                                {
                                    "0": "752",
                                    "1": "RUNNER MADIGAN",
                                    "2": "3"
                                },
                                {
                                    "0": "753",
                                    "1": "RUSH GOODFELLAS",
                                    "2": "8"
                                },
                                {
                                    "0": "754",
                                    "1": "RUSHMORE MERMAID",
                                    "2": "2"
                                },
                                {
                                    "0": "755",
                                    "1": "SABRINA MIDNIGHT",
                                    "2": "7"
                                },
                                {
                                    "0": "756",
                                    "1": "SADDLE ANTITRUST",
                                    "2": "3"
                                },
                                {
                                    "0": "757",
                                    "1": "SAGEBRUSH CLUELESS",
                                    "2": "5"
                                },
                                {
                                    "0": "758",
                                    "1": "SAINTS BRIDE",
                                    "2": "3"
                                },
                                {
                                    "0": "759",
                                    "1": "SALUTE APOLLO",
                                    "2": "6"
                                },
                                {
                                    "0": "760",
                                    "1": "SAMURAI LION",
                                    "2": "7"
                                },
                                {
                                    "0": "761",
                                    "1": "SANTA PARIS",
                                    "2": "3"
                                },
                                {
                                    "0": "762",
                                    "1": "SASSY PACKER",
                                    "2": "4"
                                },
                                {
                                    "0": "763",
                                    "1": "SATISFACTION CONFIDENTIAL",
                                    "2": "5"
                                },
                                {
                                    "0": "764",
                                    "1": "SATURDAY LAMBS",
                                    "2": "8"
                                },
                                {
                                    "0": "765",
                                    "1": "SATURN NAME",
                                    "2": "4"
                                },
                                {
                                    "0": "766",
                                    "1": "SAVANNAH TOWN",
                                    "2": "3"
                                },
                                {
                                    "0": "767",
                                    "1": "SCALAWAG DUCK",
                                    "2": "8"
                                },
                                {
                                    "0": "768",
                                    "1": "SCARFACE BANG",
                                    "2": "6"
                                },
                                {
                                    "0": "769",
                                    "1": "SCHOOL JACKET",
                                    "2": "2"
                                },
                                {
                                    "0": "770",
                                    "1": "SCISSORHANDS SLUMS",
                                    "2": "3"
                                },
                                {
                                    "0": "771",
                                    "1": "SCORPION APOLLO",
                                    "2": "7"
                                },
                                {
                                    "0": "772",
                                    "1": "SEA VIRGIN",
                                    "2": "6"
                                },
                                {
                                    "0": "773",
                                    "1": "SEABISCUIT PUNK",
                                    "2": "8"
                                },
                                {
                                    "0": "774",
                                    "1": "SEARCHERS WAIT",
                                    "2": "4"
                                },
                                {
                                    "0": "775",
                                    "1": "SEATTLE EXPECATIONS",
                                    "2": "5"
                                },
                                {
                                    "0": "776",
                                    "1": "SECRET GROUNDHOG",
                                    "2": "5"
                                },
                                {
                                    "0": "777",
                                    "1": "SECRETARY ROUGE",
                                    "2": "6"
                                },
                                {
                                    "0": "778",
                                    "1": "SECRETS PARADISE",
                                    "2": "6"
                                },
                                {
                                    "0": "779",
                                    "1": "SENSE GREEK",
                                    "2": "2"
                                },
                                {
                                    "0": "780",
                                    "1": "SENSIBILITY REAR",
                                    "2": "3"
                                },
                                {
                                    "0": "781",
                                    "1": "SEVEN SWARM",
                                    "2": "2"
                                },
                                {
                                    "0": "782",
                                    "1": "SHAKESPEARE SADDLE",
                                    "2": "6"
                                },
                                {
                                    "0": "783",
                                    "1": "SHANE DARKNESS",
                                    "2": "4"
                                },
                                {
                                    "0": "784",
                                    "1": "SHANGHAI TYCOON",
                                    "2": "6"
                                },
                                {
                                    "0": "785",
                                    "1": "SHAWSHANK BUBBLE",
                                    "2": "6"
                                },
                                {
                                    "0": "786",
                                    "1": "SHEPHERD MIDSUMMER",
                                    "2": "7"
                                },
                                {
                                    "0": "787",
                                    "1": "SHINING ROSES",
                                    "2": "3"
                                },
                                {
                                    "0": "788",
                                    "1": "SHIP WONDERLAND",
                                    "2": "4"
                                },
                                {
                                    "0": "789",
                                    "1": "SHOCK CABIN",
                                    "2": "8"
                                },
                                {
                                    "0": "790",
                                    "1": "SHOOTIST SUPERFLY",
                                    "2": "7"
                                },
                                {
                                    "0": "791",
                                    "1": "SHOW LORD",
                                    "2": "6"
                                },
                                {
                                    "0": "792",
                                    "1": "SHREK LICENSE",
                                    "2": "3"
                                },
                                {
                                    "0": "793",
                                    "1": "SHRUNK DIVINE",
                                    "2": "4"
                                },
                                {
                                    "0": "794",
                                    "1": "SIDE ARK",
                                    "2": "4"
                                },
                                {
                                    "0": "795",
                                    "1": "SIEGE MADRE",
                                    "2": "4"
                                },
                                {
                                    "0": "796",
                                    "1": "SIERRA DIVIDE",
                                    "2": "5"
                                },
                                {
                                    "0": "797",
                                    "1": "SILENCE KANE",
                                    "2": "5"
                                },
                                {
                                    "0": "798",
                                    "1": "SILVERADO GOLDFINGER",
                                    "2": "4"
                                },
                                {
                                    "0": "799",
                                    "1": "SIMON NORTH",
                                    "2": "2"
                                },
                                {
                                    "0": "800",
                                    "1": "SINNERS ATLANTIS",
                                    "2": "6"
                                },
                                {
                                    "0": "803",
                                    "1": "SLACKER LIAISONS",
                                    "2": "6"
                                },
                                {
                                    "0": "804",
                                    "1": "SLEEPING SUSPECTS",
                                    "2": "7"
                                },
                                {
                                    "0": "805",
                                    "1": "SLEEPLESS MONSOON",
                                    "2": "5"
                                },
                                {
                                    "0": "806",
                                    "1": "SLEEPY JAPANESE",
                                    "2": "5"
                                },
                                {
                                    "0": "807",
                                    "1": "SLEUTH ORIENT",
                                    "2": "5"
                                },
                                {
                                    "0": "808",
                                    "1": "SLING LUKE",
                                    "2": "2"
                                },
                                {
                                    "0": "809",
                                    "1": "SLIPPER FIDELITY",
                                    "2": "4"
                                },
                                {
                                    "0": "810",
                                    "1": "SLUMS DUCK",
                                    "2": "7"
                                },
                                {
                                    "0": "811",
                                    "1": "SMILE EARRING",
                                    "2": "3"
                                },
                                {
                                    "0": "812",
                                    "1": "SMOKING BARBARELLA",
                                    "2": "6"
                                },
                                {
                                    "0": "813",
                                    "1": "SMOOCHY CONTROL",
                                    "2": "4"
                                },
                                {
                                    "0": "814",
                                    "1": "SNATCH SLIPPER",
                                    "2": "7"
                                },
                                {
                                    "0": "815",
                                    "1": "SNATCHERS MONTEZUMA",
                                    "2": "3"
                                },
                                {
                                    "0": "816",
                                    "1": "SNOWMAN ROLLERCOASTER",
                                    "2": "7"
                                },
                                {
                                    "0": "817",
                                    "1": "SOLDIERS EVOLUTION",
                                    "2": "2"
                                },
                                {
                                    "0": "818",
                                    "1": "SOMETHING DUCK",
                                    "2": "5"
                                },
                                {
                                    "0": "819",
                                    "1": "SONG HEDWIG",
                                    "2": "3"
                                },
                                {
                                    "0": "820",
                                    "1": "SONS INTERVIEW",
                                    "2": "6"
                                },
                                {
                                    "0": "821",
                                    "1": "SORORITY QUEEN",
                                    "2": "4"
                                },
                                {
                                    "0": "822",
                                    "1": "SOUP WISDOM",
                                    "2": "2"
                                },
                                {
                                    "0": "823",
                                    "1": "SOUTH WAIT",
                                    "2": "7"
                                },
                                {
                                    "0": "824",
                                    "1": "SPARTACUS CHEAPER",
                                    "2": "4"
                                },
                                {
                                    "0": "825",
                                    "1": "SPEAKEASY DATE",
                                    "2": "3"
                                },
                                {
                                    "0": "826",
                                    "1": "SPEED SUIT",
                                    "2": "2"
                                },
                                {
                                    "0": "827",
                                    "1": "SPICE SORORITY",
                                    "2": "6"
                                },
                                {
                                    "0": "828",
                                    "1": "SPIKING ELEMENT",
                                    "2": "4"
                                },
                                {
                                    "0": "829",
                                    "1": "SPINAL ROCKY",
                                    "2": "5"
                                },
                                {
                                    "0": "830",
                                    "1": "SPIRIT FLINTSTONES",
                                    "2": "4"
                                },
                                {
                                    "0": "831",
                                    "1": "SPIRITED CASUALTIES",
                                    "2": "3"
                                },
                                {
                                    "0": "832",
                                    "1": "SPLASH GUMP",
                                    "2": "4"
                                },
                                {
                                    "0": "833",
                                    "1": "SPLENDOR PATTON",
                                    "2": "7"
                                },
                                {
                                    "0": "834",
                                    "1": "SPOILERS HELLFIGHTERS",
                                    "2": "3"
                                },
                                {
                                    "0": "835",
                                    "1": "SPY MILE",
                                    "2": "8"
                                },
                                {
                                    "0": "836",
                                    "1": "SQUAD FISH",
                                    "2": "3"
                                },
                                {
                                    "0": "837",
                                    "1": "STAGE WORLD",
                                    "2": "3"
                                },
                                {
                                    "0": "838",
                                    "1": "STAGECOACH ARMAGEDDON",
                                    "2": "6"
                                },
                                {
                                    "0": "839",
                                    "1": "STALLION SUNDANCE",
                                    "2": "2"
                                },
                                {
                                    "0": "840",
                                    "1": "STAMPEDE DISTURBING",
                                    "2": "4"
                                },
                                {
                                    "0": "841",
                                    "1": "STAR OPERATION",
                                    "2": "7"
                                },
                                {
                                    "0": "842",
                                    "1": "STATE WASTELAND",
                                    "2": "4"
                                },
                                {
                                    "0": "843",
                                    "1": "STEEL SANTA",
                                    "2": "7"
                                },
                                {
                                    "0": "844",
                                    "1": "STEERS ARMAGEDDON",
                                    "2": "4"
                                },
                                {
                                    "0": "845",
                                    "1": "STEPMOM DREAM",
                                    "2": "7"
                                },
                                {
                                    "0": "846",
                                    "1": "STING PERSONAL",
                                    "2": "8"
                                },
                                {
                                    "0": "847",
                                    "1": "STOCK GLASS",
                                    "2": "4"
                                },
                                {
                                    "0": "848",
                                    "1": "STONE FIRE",
                                    "2": "3"
                                },
                                {
                                    "0": "849",
                                    "1": "STORM HAPPINESS",
                                    "2": "8"
                                },
                                {
                                    "0": "850",
                                    "1": "STORY SIDE",
                                    "2": "7"
                                },
                                {
                                    "0": "851",
                                    "1": "STRAIGHT HOURS",
                                    "2": "6"
                                },
                                {
                                    "0": "852",
                                    "1": "STRANGELOVE DESIRE",
                                    "2": "7"
                                },
                                {
                                    "0": "853",
                                    "1": "STRANGER STRANGERS",
                                    "2": "3"
                                },
                                {
                                    "0": "854",
                                    "1": "STRANGERS GRAFFITI",
                                    "2": "4"
                                },
                                {
                                    "0": "855",
                                    "1": "STREAK RIDGEMONT",
                                    "2": "4"
                                },
                                {
                                    "0": "856",
                                    "1": "STREETCAR INTENTIONS",
                                    "2": "8"
                                },
                                {
                                    "0": "857",
                                    "1": "STRICTLY SCARFACE",
                                    "2": "7"
                                },
                                {
                                    "0": "858",
                                    "1": "SUBMARINE BED",
                                    "2": "4"
                                },
                                {
                                    "0": "859",
                                    "1": "SUGAR WONKA",
                                    "2": "6"
                                },
                                {
                                    "0": "861",
                                    "1": "SUIT WALLS",
                                    "2": "6"
                                },
                                {
                                    "0": "862",
                                    "1": "SUMMER SCARFACE",
                                    "2": "5"
                                },
                                {
                                    "0": "863",
                                    "1": "SUN CONFESSIONS",
                                    "2": "7"
                                },
                                {
                                    "0": "864",
                                    "1": "SUNDANCE INVASION",
                                    "2": "6"
                                },
                                {
                                    "0": "865",
                                    "1": "SUNRISE LEAGUE",
                                    "2": "6"
                                },
                                {
                                    "0": "866",
                                    "1": "SUNSET RACER",
                                    "2": "2"
                                },
                                {
                                    "0": "867",
                                    "1": "SUPER WYOMING",
                                    "2": "4"
                                },
                                {
                                    "0": "868",
                                    "1": "SUPERFLY TRIP",
                                    "2": "3"
                                },
                                {
                                    "0": "869",
                                    "1": "SUSPECTS QUILLS",
                                    "2": "7"
                                },
                                {
                                    "0": "870",
                                    "1": "SWARM GOLD",
                                    "2": "8"
                                },
                                {
                                    "0": "871",
                                    "1": "SWEDEN SHINING",
                                    "2": "5"
                                },
                                {
                                    "0": "872",
                                    "1": "SWEET BROTHERHOOD",
                                    "2": "3"
                                },
                                {
                                    "0": "873",
                                    "1": "SWEETHEARTS SUSPECTS",
                                    "2": "8"
                                },
                                {
                                    "0": "875",
                                    "1": "TALENTED HOMICIDE",
                                    "2": "7"
                                },
                                {
                                    "0": "876",
                                    "1": "TARZAN VIDEOTAPE",
                                    "2": "2"
                                },
                                {
                                    "0": "877",
                                    "1": "TAXI KICK",
                                    "2": "5"
                                },
                                {
                                    "0": "878",
                                    "1": "TEEN APOLLO",
                                    "2": "4"
                                },
                                {
                                    "0": "879",
                                    "1": "TELEGRAPH VOYAGE",
                                    "2": "7"
                                },
                                {
                                    "0": "880",
                                    "1": "TELEMARK HEARTBREAKERS",
                                    "2": "8"
                                },
                                {
                                    "0": "881",
                                    "1": "TEMPLE ATTRACTION",
                                    "2": "4"
                                },
                                {
                                    "0": "882",
                                    "1": "TENENBAUMS COMMAND",
                                    "2": "4"
                                },
                                {
                                    "0": "883",
                                    "1": "TEQUILA PAST",
                                    "2": "2"
                                },
                                {
                                    "0": "884",
                                    "1": "TERMINATOR CLUB",
                                    "2": "3"
                                },
                                {
                                    "0": "885",
                                    "1": "TEXAS WATCH",
                                    "2": "2"
                                },
                                {
                                    "0": "886",
                                    "1": "THEORY MERMAID",
                                    "2": "4"
                                },
                                {
                                    "0": "887",
                                    "1": "THIEF PELICAN",
                                    "2": "6"
                                },
                                {
                                    "0": "888",
                                    "1": "THIN SAGEBRUSH",
                                    "2": "4"
                                },
                                {
                                    "0": "889",
                                    "1": "TIES HUNGER",
                                    "2": "3"
                                },
                                {
                                    "0": "890",
                                    "1": "TIGHTS DAWN",
                                    "2": "7"
                                },
                                {
                                    "0": "891",
                                    "1": "TIMBERLAND SKY",
                                    "2": "7"
                                },
                                {
                                    "0": "892",
                                    "1": "TITANIC BOONDOCK",
                                    "2": "7"
                                },
                                {
                                    "0": "893",
                                    "1": "TITANS JERK",
                                    "2": "8"
                                },
                                {
                                    "0": "894",
                                    "1": "TOMATOES HELLFIGHTERS",
                                    "2": "5"
                                },
                                {
                                    "0": "895",
                                    "1": "TOMORROW HUSTLER",
                                    "2": "7"
                                },
                                {
                                    "0": "896",
                                    "1": "TOOTSIE PILOT",
                                    "2": "4"
                                },
                                {
                                    "0": "897",
                                    "1": "TORQUE BOUND",
                                    "2": "8"
                                },
                                {
                                    "0": "898",
                                    "1": "TOURIST PELICAN",
                                    "2": "5"
                                },
                                {
                                    "0": "899",
                                    "1": "TOWERS HURRICANE",
                                    "2": "3"
                                },
                                {
                                    "0": "900",
                                    "1": "TOWN ARK",
                                    "2": "4"
                                },
                                {
                                    "0": "901",
                                    "1": "TRACY CIDER",
                                    "2": "7"
                                },
                                {
                                    "0": "902",
                                    "1": "TRADING PINOCCHIO",
                                    "2": "7"
                                },
                                {
                                    "0": "903",
                                    "1": "TRAFFIC HOBBIT",
                                    "2": "2"
                                },
                                {
                                    "0": "904",
                                    "1": "TRAIN BUNCH",
                                    "2": "2"
                                },
                                {
                                    "0": "905",
                                    "1": "TRAINSPOTTING STRANGERS",
                                    "2": "3"
                                },
                                {
                                    "0": "906",
                                    "1": "TRAMP OTHERS",
                                    "2": "5"
                                },
                                {
                                    "0": "907",
                                    "1": "TRANSLATION SUMMER",
                                    "2": "4"
                                },
                                {
                                    "0": "908",
                                    "1": "TRAP GUYS",
                                    "2": "4"
                                },
                                {
                                    "0": "910",
                                    "1": "TREATMENT JEKYLL",
                                    "2": "2"
                                },
                                {
                                    "0": "911",
                                    "1": "TRIP NEWTON",
                                    "2": "8"
                                },
                                {
                                    "0": "912",
                                    "1": "TROJAN TOMORROW",
                                    "2": "6"
                                },
                                {
                                    "0": "913",
                                    "1": "TROOPERS METAL",
                                    "2": "6"
                                },
                                {
                                    "0": "914",
                                    "1": "TROUBLE DATE",
                                    "2": "6"
                                },
                                {
                                    "0": "915",
                                    "1": "TRUMAN CRAZY",
                                    "2": "6"
                                },
                                {
                                    "0": "916",
                                    "1": "TURN STAR",
                                    "2": "4"
                                },
                                {
                                    "0": "917",
                                    "1": "TUXEDO MILE",
                                    "2": "5"
                                },
                                {
                                    "0": "918",
                                    "1": "TWISTED PIRATES",
                                    "2": "4"
                                },
                                {
                                    "0": "919",
                                    "1": "TYCOON GATHERING",
                                    "2": "4"
                                },
                                {
                                    "0": "920",
                                    "1": "UNBREAKABLE KARATE",
                                    "2": "5"
                                },
                                {
                                    "0": "921",
                                    "1": "UNCUT SUICIDES",
                                    "2": "4"
                                },
                                {
                                    "0": "922",
                                    "1": "UNDEFEATED DALMATIONS",
                                    "2": "7"
                                },
                                {
                                    "0": "923",
                                    "1": "UNFAITHFUL KILL",
                                    "2": "3"
                                },
                                {
                                    "0": "924",
                                    "1": "UNFORGIVEN ZOOLANDER",
                                    "2": "5"
                                },
                                {
                                    "0": "925",
                                    "1": "UNITED PILOT",
                                    "2": "5"
                                },
                                {
                                    "0": "926",
                                    "1": "UNTOUCHABLES SUNRISE",
                                    "2": "2"
                                },
                                {
                                    "0": "927",
                                    "1": "UPRISING UPTOWN",
                                    "2": "4"
                                },
                                {
                                    "0": "928",
                                    "1": "UPTOWN YOUNG",
                                    "2": "3"
                                },
                                {
                                    "0": "929",
                                    "1": "USUAL UNTOUCHABLES",
                                    "2": "4"
                                },
                                {
                                    "0": "930",
                                    "1": "VACATION BOONDOCK",
                                    "2": "6"
                                },
                                {
                                    "0": "931",
                                    "1": "VALENTINE VANISHING",
                                    "2": "3"
                                },
                                {
                                    "0": "932",
                                    "1": "VALLEY PACKER",
                                    "2": "4"
                                },
                                {
                                    "0": "933",
                                    "1": "VAMPIRE WHALE",
                                    "2": "3"
                                },
                                {
                                    "0": "934",
                                    "1": "VANILLA DAY",
                                    "2": "3"
                                },
                                {
                                    "0": "935",
                                    "1": "VANISHED GARDEN",
                                    "2": "2"
                                },
                                {
                                    "0": "936",
                                    "1": "VANISHING ROCKY",
                                    "2": "6"
                                },
                                {
                                    "0": "937",
                                    "1": "VARSITY TRIP",
                                    "2": "5"
                                },
                                {
                                    "0": "938",
                                    "1": "VELVET TERMINATOR",
                                    "2": "6"
                                },
                                {
                                    "0": "939",
                                    "1": "VERTIGO NORTHWEST",
                                    "2": "4"
                                },
                                {
                                    "0": "940",
                                    "1": "VICTORY ACADEMY",
                                    "2": "3"
                                },
                                {
                                    "0": "941",
                                    "1": "VIDEOTAPE ARSENIC",
                                    "2": "7"
                                },
                                {
                                    "0": "942",
                                    "1": "VIETNAM SMOOCHY",
                                    "2": "4"
                                },
                                {
                                    "0": "944",
                                    "1": "VIRGIN DAISY",
                                    "2": "5"
                                },
                                {
                                    "0": "945",
                                    "1": "VIRGINIAN PLUTO",
                                    "2": "8"
                                },
                                {
                                    "0": "946",
                                    "1": "VIRTUAL SPOILERS",
                                    "2": "4"
                                },
                                {
                                    "0": "947",
                                    "1": "VISION TORQUE",
                                    "2": "2"
                                },
                                {
                                    "0": "948",
                                    "1": "VOICE PEACH",
                                    "2": "6"
                                },
                                {
                                    "0": "949",
                                    "1": "VOLCANO TEXAS",
                                    "2": "6"
                                },
                                {
                                    "0": "951",
                                    "1": "VOYAGE LEGALLY",
                                    "2": "7"
                                },
                                {
                                    "0": "952",
                                    "1": "WAGON JAWS",
                                    "2": "3"
                                },
                                {
                                    "0": "953",
                                    "1": "WAIT CIDER",
                                    "2": "6"
                                },
                                {
                                    "0": "956",
                                    "1": "WANDA CHAMBER",
                                    "2": "4"
                                },
                                {
                                    "0": "957",
                                    "1": "WAR NOTTING",
                                    "2": "5"
                                },
                                {
                                    "0": "958",
                                    "1": "WARDROBE PHANTOM",
                                    "2": "6"
                                },
                                {
                                    "0": "959",
                                    "1": "WARLOCK WEREWOLF",
                                    "2": "2"
                                },
                                {
                                    "0": "960",
                                    "1": "WARS PLUTO",
                                    "2": "3"
                                },
                                {
                                    "0": "961",
                                    "1": "WASH HEAVENLY",
                                    "2": "5"
                                },
                                {
                                    "0": "962",
                                    "1": "WASTELAND DIVINE",
                                    "2": "4"
                                },
                                {
                                    "0": "963",
                                    "1": "WATCH TRACY",
                                    "2": "5"
                                },
                                {
                                    "0": "964",
                                    "1": "WATERFRONT DELIVERANCE",
                                    "2": "5"
                                },
                                {
                                    "0": "965",
                                    "1": "WATERSHIP FRONTIER",
                                    "2": "2"
                                },
                                {
                                    "0": "966",
                                    "1": "WEDDING APOLLO",
                                    "2": "6"
                                },
                                {
                                    "0": "967",
                                    "1": "WEEKEND PERSONAL",
                                    "2": "5"
                                },
                                {
                                    "0": "968",
                                    "1": "WEREWOLF LOLA",
                                    "2": "3"
                                },
                                {
                                    "0": "969",
                                    "1": "WEST LION",
                                    "2": "4"
                                },
                                {
                                    "0": "970",
                                    "1": "WESTWARD SEABISCUIT",
                                    "2": "7"
                                },
                                {
                                    "0": "971",
                                    "1": "WHALE BIKINI",
                                    "2": "4"
                                },
                                {
                                    "0": "972",
                                    "1": "WHISPERER GIANT",
                                    "2": "6"
                                },
                                {
                                    "0": "973",
                                    "1": "WIFE TURN",
                                    "2": "8"
                                },
                                {
                                    "0": "974",
                                    "1": "WILD APOLLO",
                                    "2": "2"
                                },
                                {
                                    "0": "975",
                                    "1": "WILLOW TRACY",
                                    "2": "5"
                                },
                                {
                                    "0": "976",
                                    "1": "WIND PHANTOM",
                                    "2": "6"
                                },
                                {
                                    "0": "977",
                                    "1": "WINDOW SIDE",
                                    "2": "3"
                                },
                                {
                                    "0": "978",
                                    "1": "WISDOM WORKER",
                                    "2": "3"
                                },
                                {
                                    "0": "979",
                                    "1": "WITCHES PANIC",
                                    "2": "7"
                                },
                                {
                                    "0": "980",
                                    "1": "WIZARD COLDBLOODED",
                                    "2": "5"
                                },
                                {
                                    "0": "981",
                                    "1": "WOLVES DESIRE",
                                    "2": "6"
                                },
                                {
                                    "0": "982",
                                    "1": "WOMEN DORADO",
                                    "2": "7"
                                },
                                {
                                    "0": "983",
                                    "1": "WON DARES",
                                    "2": "3"
                                },
                                {
                                    "0": "984",
                                    "1": "WONDERFUL DROP",
                                    "2": "2"
                                },
                                {
                                    "0": "985",
                                    "1": "WONDERLAND CHRISTMAS",
                                    "2": "7"
                                },
                                {
                                    "0": "986",
                                    "1": "WONKA SEA",
                                    "2": "6"
                                },
                                {
                                    "0": "987",
                                    "1": "WORDS HUNTER",
                                    "2": "4"
                                },
                                {
                                    "0": "988",
                                    "1": "WORKER TARZAN",
                                    "2": "5"
                                },
                                {
                                    "0": "989",
                                    "1": "WORKING MICROCOSMOS",
                                    "2": "6"
                                },
                                {
                                    "0": "990",
                                    "1": "WORLD LEATHERNECKS",
                                    "2": "2"
                                },
                                {
                                    "0": "991",
                                    "1": "WORST BANGER",
                                    "2": "5"
                                },
                                {
                                    "0": "992",
                                    "1": "WRATH MILE",
                                    "2": "4"
                                },
                                {
                                    "0": "993",
                                    "1": "WRONG BEHAVIOR",
                                    "2": "7"
                                },
                                {
                                    "0": "994",
                                    "1": "WYOMING STORM",
                                    "2": "3"
                                },
                                {
                                    "0": "995",
                                    "1": "YENTL IDAHO",
                                    "2": "6"
                                },
                                {
                                    "0": "996",
                                    "1": "YOUNG LANGUAGE",
                                    "2": "2"
                                },
                                {
                                    "0": "997",
                                    "1": "YOUTH KICK",
                                    "2": "2"
                                },
                                {
                                    "0": "998",
                                    "1": "ZHIVAGO CORE",
                                    "2": "2"
                                },
                                {
                                    "0": "999",
                                    "1": "ZOOLANDER FICTION",
                                    "2": "5"
                                },
                                {
                                    "0": "1000",
                                    "1": "ZORRO ARK",
                                    "2": "8"
                                }
                            ]
                        },
                        "text/html": [
                            "<table>",
                            "<tr><th>film_id</th><th>title</th><th>num_copyes</th></tr>",
                            "<tr><td>1</td><td>ACADEMY DINOSAUR</td><td>8</td></tr>",
                            "<tr><td>2</td><td>ACE GOLDFINGER</td><td>3</td></tr>",
                            "<tr><td>3</td><td>ADAPTATION HOLES</td><td>4</td></tr>",
                            "<tr><td>4</td><td>AFFAIR PREJUDICE</td><td>7</td></tr>",
                            "<tr><td>5</td><td>AFRICAN EGG</td><td>3</td></tr>",
                            "<tr><td>6</td><td>AGENT TRUMAN</td><td>6</td></tr>",
                            "<tr><td>7</td><td>AIRPLANE SIERRA</td><td>5</td></tr>",
                            "<tr><td>8</td><td>AIRPORT POLLOCK</td><td>4</td></tr>",
                            "<tr><td>9</td><td>ALABAMA DEVIL</td><td>5</td></tr>",
                            "<tr><td>10</td><td>ALADDIN CALENDAR</td><td>7</td></tr>",
                            "<tr><td>11</td><td>ALAMO VIDEOTAPE</td><td>7</td></tr>",
                            "<tr><td>12</td><td>ALASKA PHANTOM</td><td>7</td></tr>",
                            "<tr><td>13</td><td>ALI FOREVER</td><td>4</td></tr>",
                            "<tr><td>15</td><td>ALIEN CENTER</td><td>6</td></tr>",
                            "<tr><td>16</td><td>ALLEY EVOLUTION</td><td>4</td></tr>",
                            "<tr><td>17</td><td>ALONE TRIP</td><td>6</td></tr>",
                            "<tr><td>18</td><td>ALTER VICTORY</td><td>6</td></tr>",
                            "<tr><td>19</td><td>AMADEUS HOLY</td><td>6</td></tr>",
                            "<tr><td>20</td><td>AMELIE HELLFIGHTERS</td><td>3</td></tr>",
                            "<tr><td>21</td><td>AMERICAN CIRCUS</td><td>6</td></tr>",
                            "<tr><td>22</td><td>AMISTAD MIDSUMMER</td><td>7</td></tr>",
                            "<tr><td>23</td><td>ANACONDA CONFESSIONS</td><td>5</td></tr>",
                            "<tr><td>24</td><td>ANALYZE HOOSIERS</td><td>4</td></tr>",
                            "<tr><td>25</td><td>ANGELS LIFE</td><td>6</td></tr>",
                            "<tr><td>26</td><td>ANNIE IDENTITY</td><td>5</td></tr>",
                            "<tr><td>27</td><td>ANONYMOUS HUMAN</td><td>4</td></tr>",
                            "<tr><td>28</td><td>ANTHEM LUKE</td><td>3</td></tr>",
                            "<tr><td>29</td><td>ANTITRUST TOMATOES</td><td>2</td></tr>",
                            "<tr><td>30</td><td>ANYTHING SAVANNAH</td><td>2</td></tr>",
                            "<tr><td>31</td><td>APACHE DIVINE</td><td>8</td></tr>",
                            "<tr><td>32</td><td>APOCALYPSE FLAMINGOS</td><td>2</td></tr>",
                            "<tr><td>34</td><td>ARABIA DOGMA</td><td>4</td></tr>",
                            "<tr><td>35</td><td>ARACHNOPHOBIA ROLLERCOASTER</td><td>7</td></tr>",
                            "<tr><td>37</td><td>ARIZONA BANG</td><td>7</td></tr>",
                            "<tr><td>39</td><td>ARMAGEDDON LOST</td><td>7</td></tr>",
                            "<tr><td>40</td><td>ARMY FLINTSTONES</td><td>4</td></tr>",
                            "<tr><td>42</td><td>ARTIST COLDBLOODED</td><td>4</td></tr>",
                            "<tr><td>43</td><td>ATLANTIS CAUSE</td><td>7</td></tr>",
                            "<tr><td>44</td><td>ATTACKS HATE</td><td>5</td></tr>",
                            "<tr><td>45</td><td>ATTRACTION NEWTON</td><td>6</td></tr>",
                            "<tr><td>46</td><td>AUTUMN CROW</td><td>3</td></tr>",
                            "<tr><td>47</td><td>BABY HALL</td><td>2</td></tr>",
                            "<tr><td>48</td><td>BACKLASH UNDEFEATED</td><td>4</td></tr>",
                            "<tr><td>49</td><td>BADMAN DAWN</td><td>6</td></tr>",
                            "<tr><td>50</td><td>BAKED CLEOPATRA</td><td>5</td></tr>",
                            "<tr><td>51</td><td>BALLOON HOMEWARD</td><td>6</td></tr>",
                            "<tr><td>52</td><td>BALLROOM MOCKINGBIRD</td><td>2</td></tr>",
                            "<tr><td>53</td><td>BANG KWAI</td><td>2</td></tr>",
                            "<tr><td>54</td><td>BANGER PINOCCHIO</td><td>5</td></tr>",
                            "<tr><td>55</td><td>BARBARELLA STREETCAR</td><td>6</td></tr>",
                            "<tr><td>56</td><td>BAREFOOT MANCHURIAN</td><td>5</td></tr>",
                            "<tr><td>57</td><td>BASIC EASY</td><td>7</td></tr>",
                            "<tr><td>58</td><td>BEACH HEARTBREAKERS</td><td>4</td></tr>",
                            "<tr><td>59</td><td>BEAR GRACELAND</td><td>5</td></tr>",
                            "<tr><td>60</td><td>BEAST HUNCHBACK</td><td>3</td></tr>",
                            "<tr><td>61</td><td>BEAUTY GREASE</td><td>6</td></tr>",
                            "<tr><td>62</td><td>BED HIGHBALL</td><td>2</td></tr>",
                            "<tr><td>63</td><td>BEDAZZLED MARRIED</td><td>4</td></tr>",
                            "<tr><td>64</td><td>BEETHOVEN EXORCIST</td><td>3</td></tr>",
                            "<tr><td>65</td><td>BEHAVIOR RUNAWAY</td><td>4</td></tr>",
                            "<tr><td>66</td><td>BENEATH RUSH</td><td>3</td></tr>",
                            "<tr><td>67</td><td>BERETS AGENT</td><td>6</td></tr>",
                            "<tr><td>68</td><td>BETRAYED REAR</td><td>4</td></tr>",
                            "<tr><td>69</td><td>BEVERLY OUTLAW</td><td>8</td></tr>",
                            "<tr><td>70</td><td>BIKINI BORROWERS</td><td>4</td></tr>",
                            "<tr><td>71</td><td>BILKO ANONYMOUS</td><td>4</td></tr>",
                            "<tr><td>72</td><td>BILL OTHERS</td><td>6</td></tr>",
                            "<tr><td>73</td><td>BINGO TALENTED</td><td>8</td></tr>",
                            "<tr><td>74</td><td>BIRCH ANTITRUST</td><td>5</td></tr>",
                            "<tr><td>75</td><td>BIRD INDEPENDENCE</td><td>3</td></tr>",
                            "<tr><td>76</td><td>BIRDCAGE CASPER</td><td>3</td></tr>",
                            "<tr><td>77</td><td>BIRDS PERDITION</td><td>6</td></tr>",
                            "<tr><td>78</td><td>BLACKOUT PRIVATE</td><td>7</td></tr>",
                            "<tr><td>79</td><td>BLADE POLISH</td><td>6</td></tr>",
                            "<tr><td>80</td><td>BLANKET BEVERLY</td><td>4</td></tr>",
                            "<tr><td>81</td><td>BLINDNESS GUN</td><td>4</td></tr>",
                            "<tr><td>82</td><td>BLOOD ARGONAUTS</td><td>2</td></tr>",
                            "<tr><td>83</td><td>BLUES INSTINCT</td><td>5</td></tr>",
                            "<tr><td>84</td><td>BOILED DARES</td><td>4</td></tr>",
                            "<tr><td>85</td><td>BONNIE HOLOCAUST</td><td>4</td></tr>",
                            "<tr><td>86</td><td>BOOGIE AMELIE</td><td>8</td></tr>",
                            "<tr><td>88</td><td>BORN SPINAL</td><td>4</td></tr>",
                            "<tr><td>89</td><td>BORROWERS BEDAZZLED</td><td>6</td></tr>",
                            "<tr><td>90</td><td>BOULEVARD MOB</td><td>6</td></tr>",
                            "<tr><td>91</td><td>BOUND CHEAPER</td><td>8</td></tr>",
                            "<tr><td>92</td><td>BOWFINGER GABLES</td><td>4</td></tr>",
                            "<tr><td>93</td><td>BRANNIGAN SUNRISE</td><td>3</td></tr>",
                            "<tr><td>94</td><td>BRAVEHEART HUMAN</td><td>2</td></tr>",
                            "<tr><td>95</td><td>BREAKFAST GOLDFINGER</td><td>5</td></tr>",
                            "<tr><td>96</td><td>BREAKING HOME</td><td>3</td></tr>",
                            "<tr><td>97</td><td>BRIDE INTRIGUE</td><td>6</td></tr>",
                            "<tr><td>98</td><td>BRIGHT ENCOUNTERS</td><td>3</td></tr>",
                            "<tr><td>99</td><td>BRINGING HYSTERICAL</td><td>6</td></tr>",
                            "<tr><td>100</td><td>BROOKLYN DESERT</td><td>6</td></tr>",
                            "<tr><td>101</td><td>BROTHERHOOD BLANKET</td><td>6</td></tr>",
                            "<tr><td>102</td><td>BUBBLE GROSSE</td><td>2</td></tr>",
                            "<tr><td>103</td><td>BUCKET BROTHERHOOD</td><td>8</td></tr>",
                            "<tr><td>104</td><td>BUGSY SONG</td><td>3</td></tr>",
                            "<tr><td>105</td><td>BULL SHAWSHANK</td><td>5</td></tr>",
                            "<tr><td>106</td><td>BULWORTH COMMANDMENTS</td><td>2</td></tr>",
                            "<tr><td>107</td><td>BUNCH MINDS</td><td>2</td></tr>",
                            "<tr><td>109</td><td>BUTTERFLY CHOCOLAT</td><td>8</td></tr>",
                            "<tr><td>110</td><td>CABIN FLASH</td><td>4</td></tr>",
                            "<tr><td>111</td><td>CADDYSHACK JEDI</td><td>4</td></tr>",
                            "<tr><td>112</td><td>CALENDAR GUNFIGHT</td><td>7</td></tr>",
                            "<tr><td>113</td><td>CALIFORNIA BIRDS</td><td>4</td></tr>",
                            "<tr><td>114</td><td>CAMELOT VACATION</td><td>7</td></tr>",
                            "<tr><td>115</td><td>CAMPUS REMEMBER</td><td>7</td></tr>",
                            "<tr><td>116</td><td>CANDIDATE PERDITION</td><td>6</td></tr>",
                            "<tr><td>117</td><td>CANDLES GRAPES</td><td>6</td></tr>",
                            "<tr><td>118</td><td>CANYON STOCK</td><td>6</td></tr>",
                            "<tr><td>119</td><td>CAPER MOTIONS</td><td>7</td></tr>",
                            "<tr><td>120</td><td>CARIBBEAN LIBERTY</td><td>3</td></tr>",
                            "<tr><td>121</td><td>CAROL TEXAS</td><td>6</td></tr>",
                            "<tr><td>122</td><td>CARRIE BUNCH</td><td>7</td></tr>",
                            "<tr><td>123</td><td>CASABLANCA SUPER</td><td>5</td></tr>",
                            "<tr><td>124</td><td>CASPER DRAGONFLY</td><td>3</td></tr>",
                            "<tr><td>125</td><td>CASSIDY WYOMING</td><td>2</td></tr>",
                            "<tr><td>126</td><td>CASUALTIES ENCINO</td><td>3</td></tr>",
                            "<tr><td>127</td><td>CAT CONEHEADS</td><td>8</td></tr>",
                            "<tr><td>129</td><td>CAUSE DATE</td><td>6</td></tr>",
                            "<tr><td>130</td><td>CELEBRITY HORN</td><td>6</td></tr>",
                            "<tr><td>131</td><td>CENTER DINOSAUR</td><td>6</td></tr>",
                            "<tr><td>132</td><td>CHAINSAW UPTOWN</td><td>6</td></tr>",
                            "<tr><td>133</td><td>CHAMBER ITALIAN</td><td>4</td></tr>",
                            "<tr><td>134</td><td>CHAMPION FLATLINERS</td><td>3</td></tr>",
                            "<tr><td>135</td><td>CHANCE RESURRECTION</td><td>7</td></tr>",
                            "<tr><td>136</td><td>CHAPLIN LICENSE</td><td>3</td></tr>",
                            "<tr><td>137</td><td>CHARADE DUFFEL</td><td>4</td></tr>",
                            "<tr><td>138</td><td>CHARIOTS CONSPIRACY</td><td>5</td></tr>",
                            "<tr><td>139</td><td>CHASING FIGHT</td><td>6</td></tr>",
                            "<tr><td>140</td><td>CHEAPER CLYDE</td><td>5</td></tr>",
                            "<tr><td>141</td><td>CHICAGO NORTH</td><td>5</td></tr>",
                            "<tr><td>142</td><td>CHICKEN HELLFIGHTERS</td><td>5</td></tr>",
                            "<tr><td>143</td><td>CHILL LUCK</td><td>7</td></tr>",
                            "<tr><td>145</td><td>CHISUM BEHAVIOR</td><td>3</td></tr>",
                            "<tr><td>146</td><td>CHITTY LOCK</td><td>3</td></tr>",
                            "<tr><td>147</td><td>CHOCOLAT HARRY</td><td>6</td></tr>",
                            "<tr><td>149</td><td>CHRISTMAS MOONSHINE</td><td>6</td></tr>",
                            "<tr><td>150</td><td>CIDER DESIRE</td><td>6</td></tr>",
                            "<tr><td>151</td><td>CINCINATTI WHISPERER</td><td>4</td></tr>",
                            "<tr><td>152</td><td>CIRCUS YOUTH</td><td>4</td></tr>",
                            "<tr><td>153</td><td>CITIZEN SHREK</td><td>4</td></tr>",
                            "<tr><td>154</td><td>CLASH FREDDY</td><td>7</td></tr>",
                            "<tr><td>155</td><td>CLEOPATRA DEVIL</td><td>5</td></tr>",
                            "<tr><td>156</td><td>CLERKS ANGELS</td><td>2</td></tr>",
                            "<tr><td>157</td><td>CLOCKWORK PARADISE</td><td>3</td></tr>",
                            "<tr><td>158</td><td>CLONES PINOCCHIO</td><td>5</td></tr>",
                            "<tr><td>159</td><td>CLOSER BANG</td><td>7</td></tr>",
                            "<tr><td>160</td><td>CLUB GRAFFITI</td><td>5</td></tr>",
                            "<tr><td>161</td><td>CLUE GRAIL</td><td>2</td></tr>",
                            "<tr><td>162</td><td>CLUELESS BUCKET</td><td>7</td></tr>",
                            "<tr><td>163</td><td>CLYDE THEORY</td><td>3</td></tr>",
                            "<tr><td>164</td><td>COAST RAINBOW</td><td>5</td></tr>",
                            "<tr><td>165</td><td>COLDBLOODED DARLING</td><td>5</td></tr>",
                            "<tr><td>166</td><td>COLOR PHILADELPHIA</td><td>6</td></tr>",
                            "<tr><td>167</td><td>COMA HEAD</td><td>7</td></tr>",
                            "<tr><td>168</td><td>COMANCHEROS ENEMY</td><td>2</td></tr>",
                            "<tr><td>169</td><td>COMFORTS RUSH</td><td>4</td></tr>",
                            "<tr><td>170</td><td>COMMAND DARLING</td><td>6</td></tr>",
                            "<tr><td>172</td><td>CONEHEADS SMOOCHY</td><td>7</td></tr>",
                            "<tr><td>173</td><td>CONFESSIONS MAGUIRE</td><td>5</td></tr>",
                            "<tr><td>174</td><td>CONFIDENTIAL INTERVIEW</td><td>8</td></tr>",
                            "<tr><td>175</td><td>CONFUSED CANDLES</td><td>5</td></tr>",
                            "<tr><td>176</td><td>CONGENIALITY QUEST</td><td>6</td></tr>",
                            "<tr><td>177</td><td>CONNECTICUT TRAMP</td><td>3</td></tr>",
                            "<tr><td>178</td><td>CONNECTION MICROCOSMOS</td><td>2</td></tr>",
                            "<tr><td>179</td><td>CONQUERER NUTS</td><td>4</td></tr>",
                            "<tr><td>180</td><td>CONSPIRACY SPIRIT</td><td>2</td></tr>",
                            "<tr><td>181</td><td>CONTACT ANONYMOUS</td><td>7</td></tr>",
                            "<tr><td>182</td><td>CONTROL ANTHEM</td><td>2</td></tr>",
                            "<tr><td>183</td><td>CONVERSATION DOWNHILL</td><td>6</td></tr>",
                            "<tr><td>184</td><td>CORE SUIT</td><td>5</td></tr>",
                            "<tr><td>185</td><td>COWBOY DOOM</td><td>2</td></tr>",
                            "<tr><td>186</td><td>CRAFT OUTFIELD</td><td>4</td></tr>",
                            "<tr><td>187</td><td>CRANES RESERVOIR</td><td>3</td></tr>",
                            "<tr><td>188</td><td>CRAZY HOME</td><td>3</td></tr>",
                            "<tr><td>189</td><td>CREATURES SHAKESPEARE</td><td>6</td></tr>",
                            "<tr><td>190</td><td>CREEPERS KANE</td><td>4</td></tr>",
                            "<tr><td>191</td><td>CROOKED FROGMEN</td><td>6</td></tr>",
                            "<tr><td>193</td><td>CROSSROADS CASUALTIES</td><td>8</td></tr>",
                            "<tr><td>194</td><td>CROW GREASE</td><td>4</td></tr>",
                            "<tr><td>196</td><td>CRUELTY UNFORGIVEN</td><td>2</td></tr>",
                            "<tr><td>197</td><td>CRUSADE HONEY</td><td>2</td></tr>",
                            "<tr><td>199</td><td>CUPBOARD SINNERS</td><td>8</td></tr>",
                            "<tr><td>200</td><td>CURTAIN VIDEOTAPE</td><td>8</td></tr>",
                            "<tr><td>201</td><td>CYCLONE FAMILY</td><td>4</td></tr>",
                            "<tr><td>202</td><td>DADDY PITTSBURGH</td><td>3</td></tr>",
                            "<tr><td>203</td><td>DAISY MENAGERIE</td><td>4</td></tr>",
                            "<tr><td>204</td><td>DALMATIONS SWEDEN</td><td>6</td></tr>",
                            "<tr><td>205</td><td>DANCES NONE</td><td>4</td></tr>",
                            "<tr><td>206</td><td>DANCING FEVER</td><td>8</td></tr>",
                            "<tr><td>207</td><td>DANGEROUS UPTOWN</td><td>4</td></tr>",
                            "<tr><td>208</td><td>DARES PLUTO</td><td>3</td></tr>",
                            "<tr><td>209</td><td>DARKNESS WAR</td><td>4</td></tr>",
                            "<tr><td>210</td><td>DARKO DORADO</td><td>3</td></tr>",
                            "<tr><td>211</td><td>DARLING BREAKING</td><td>2</td></tr>",
                            "<tr><td>212</td><td>DARN FORRESTER</td><td>5</td></tr>",
                            "<tr><td>213</td><td>DATE SPEED</td><td>4</td></tr>",
                            "<tr><td>214</td><td>DAUGHTER MADIGAN</td><td>4</td></tr>",
                            "<tr><td>215</td><td>DAWN POND</td><td>6</td></tr>",
                            "<tr><td>216</td><td>DAY UNFAITHFUL</td><td>5</td></tr>",
                            "<tr><td>218</td><td>DECEIVER BETRAYED</td><td>7</td></tr>",
                            "<tr><td>219</td><td>DEEP CRUSADE</td><td>4</td></tr>",
                            "<tr><td>220</td><td>DEER VIRGINIAN</td><td>8</td></tr>",
                            "<tr><td>222</td><td>DESERT POSEIDON</td><td>6</td></tr>",
                            "<tr><td>223</td><td>DESIRE ALIEN</td><td>2</td></tr>",
                            "<tr><td>224</td><td>DESPERATE TRAINSPOTTING</td><td>2</td></tr>",
                            "<tr><td>225</td><td>DESTINATION JERK</td><td>3</td></tr>",
                            "<tr><td>226</td><td>DESTINY SATURDAY</td><td>5</td></tr>",
                            "<tr><td>227</td><td>DETAILS PACKER</td><td>5</td></tr>",
                            "<tr><td>228</td><td>DETECTIVE VISION</td><td>7</td></tr>",
                            "<tr><td>229</td><td>DEVIL DESIRE</td><td>4</td></tr>",
                            "<tr><td>230</td><td>DIARY PANIC</td><td>2</td></tr>",
                            "<tr><td>231</td><td>DINOSAUR SECRETARY</td><td>8</td></tr>",
                            "<tr><td>232</td><td>DIRTY ACE</td><td>5</td></tr>",
                            "<tr><td>233</td><td>DISCIPLE MOTHER</td><td>6</td></tr>",
                            "<tr><td>234</td><td>DISTURBING SCARFACE</td><td>7</td></tr>",
                            "<tr><td>235</td><td>DIVIDE MONSTER</td><td>6</td></tr>",
                            "<tr><td>236</td><td>DIVINE RESURRECTION</td><td>4</td></tr>",
                            "<tr><td>237</td><td>DIVORCE SHINING</td><td>2</td></tr>",
                            "<tr><td>238</td><td>DOCTOR GRAIL</td><td>2</td></tr>",
                            "<tr><td>239</td><td>DOGMA FAMILY</td><td>8</td></tr>",
                            "<tr><td>240</td><td>DOLLS RAGE</td><td>3</td></tr>",
                            "<tr><td>241</td><td>DONNIE ALLEY</td><td>4</td></tr>",
                            "<tr><td>242</td><td>DOOM DANCING</td><td>5</td></tr>",
                            "<tr><td>243</td><td>DOORS PRESIDENT</td><td>6</td></tr>",
                            "<tr><td>244</td><td>DORADO NOTTING</td><td>7</td></tr>",
                            "<tr><td>245</td><td>DOUBLE WRATH</td><td>7</td></tr>",
                            "<tr><td>246</td><td>DOUBTFIRE LABYRINTH</td><td>3</td></tr>",
                            "<tr><td>247</td><td>DOWNHILL ENOUGH</td><td>7</td></tr>",
                            "<tr><td>248</td><td>DOZEN LION</td><td>2</td></tr>",
                            "<tr><td>249</td><td>DRACULA CRYSTAL</td><td>6</td></tr>",
                            "<tr><td>250</td><td>DRAGON SQUAD</td><td>4</td></tr>",
                            "<tr><td>251</td><td>DRAGONFLY STRANGERS</td><td>5</td></tr>",
                            "<tr><td>252</td><td>DREAM PICKUP</td><td>6</td></tr>",
                            "<tr><td>253</td><td>DRIFTER COMMANDMENTS</td><td>6</td></tr>",
                            "<tr><td>254</td><td>DRIVER ANNIE</td><td>5</td></tr>",
                            "<tr><td>255</td><td>DRIVING POLISH</td><td>6</td></tr>",
                            "<tr><td>256</td><td>DROP WATERFRONT</td><td>3</td></tr>",
                            "<tr><td>257</td><td>DRUMLINE CYCLONE</td><td>3</td></tr>",
                            "<tr><td>258</td><td>DRUMS DYNAMITE</td><td>4</td></tr>",
                            "<tr><td>259</td><td>DUCK RACER</td><td>2</td></tr>",
                            "<tr><td>260</td><td>DUDE BLINDNESS</td><td>4</td></tr>",
                            "<tr><td>261</td><td>DUFFEL APOCALYPSE</td><td>2</td></tr>",
                            "<tr><td>262</td><td>DUMBO LUST</td><td>2</td></tr>",
                            "<tr><td>263</td><td>DURHAM PANKY</td><td>7</td></tr>",
                            "<tr><td>264</td><td>DWARFS ALTER</td><td>2</td></tr>",
                            "<tr><td>265</td><td>DYING MAKER</td><td>4</td></tr>",
                            "<tr><td>266</td><td>DYNAMITE TARZAN</td><td>8</td></tr>",
                            "<tr><td>267</td><td>EAGLES PANKY</td><td>6</td></tr>",
                            "<tr><td>268</td><td>EARLY HOME</td><td>2</td></tr>",
                            "<tr><td>269</td><td>EARRING INSTINCT</td><td>6</td></tr>",
                            "<tr><td>270</td><td>EARTH VISION</td><td>7</td></tr>",
                            "<tr><td>271</td><td>EASY GLADIATOR</td><td>5</td></tr>",
                            "<tr><td>272</td><td>EDGE KISSING</td><td>4</td></tr>",
                            "<tr><td>273</td><td>EFFECT GLADIATOR</td><td>7</td></tr>",
                            "<tr><td>274</td><td>EGG IGBY</td><td>7</td></tr>",
                            "<tr><td>275</td><td>EGYPT TENENBAUMS</td><td>5</td></tr>",
                            "<tr><td>276</td><td>ELEMENT FREDDY</td><td>4</td></tr>",
                            "<tr><td>277</td><td>ELEPHANT TROJAN</td><td>3</td></tr>",
                            "<tr><td>278</td><td>ELF MURDER</td><td>2</td></tr>",
                            "<tr><td>279</td><td>ELIZABETH SHANE</td><td>2</td></tr>",
                            "<tr><td>280</td><td>EMPIRE MALKOVICH</td><td>6</td></tr>",
                            "<tr><td>281</td><td>ENCINO ELF</td><td>6</td></tr>",
                            "<tr><td>282</td><td>ENCOUNTERS CURTAIN</td><td>6</td></tr>",
                            "<tr><td>283</td><td>ENDING CROWDS</td><td>3</td></tr>",
                            "<tr><td>284</td><td>ENEMY ODDS</td><td>7</td></tr>",
                            "<tr><td>285</td><td>ENGLISH BULWORTH</td><td>7</td></tr>",
                            "<tr><td>286</td><td>ENOUGH RAGING</td><td>5</td></tr>",
                            "<tr><td>287</td><td>ENTRAPMENT SATISFACTION</td><td>4</td></tr>",
                            "<tr><td>288</td><td>ESCAPE METROPOLIS</td><td>6</td></tr>",
                            "<tr><td>289</td><td>EVE RESURRECTION</td><td>2</td></tr>",
                            "<tr><td>290</td><td>EVERYONE CRAFT</td><td>3</td></tr>",
                            "<tr><td>291</td><td>EVOLUTION ALTER</td><td>4</td></tr>",
                            "<tr><td>292</td><td>EXCITEMENT EVE</td><td>6</td></tr>",
                            "<tr><td>293</td><td>EXORCIST STING</td><td>5</td></tr>",
                            "<tr><td>294</td><td>EXPECATIONS NATURAL</td><td>5</td></tr>",
                            "<tr><td>295</td><td>EXPENDABLE STALLION</td><td>8</td></tr>",
                            "<tr><td>296</td><td>EXPRESS LONELY</td><td>4</td></tr>",
                            "<tr><td>297</td><td>EXTRAORDINARY CONQUERER</td><td>2</td></tr>",
                            "<tr><td>298</td><td>EYES DRIVING</td><td>5</td></tr>",
                            "<tr><td>299</td><td>FACTORY DRAGON</td><td>4</td></tr>",
                            "<tr><td>300</td><td>FALCON VOLUME</td><td>6</td></tr>",
                            "<tr><td>301</td><td>FAMILY SWEET</td><td>8</td></tr>",
                            "<tr><td>302</td><td>FANTASIA PARK</td><td>6</td></tr>",
                            "<tr><td>303</td><td>FANTASY TROOPERS</td><td>6</td></tr>",
                            "<tr><td>304</td><td>FARGO GANDHI</td><td>6</td></tr>",
                            "<tr><td>305</td><td>FATAL HAUNTED</td><td>7</td></tr>",
                            "<tr><td>306</td><td>FEATHERS METAL</td><td>3</td></tr>",
                            "<tr><td>307</td><td>FELLOWSHIP AUTUMN</td><td>6</td></tr>",
                            "<tr><td>308</td><td>FERRIS MOTHER</td><td>4</td></tr>",
                            "<tr><td>309</td><td>FEUD FROGMEN</td><td>6</td></tr>",
                            "<tr><td>310</td><td>FEVER EMPIRE</td><td>2</td></tr>",
                            "<tr><td>311</td><td>FICTION CHRISTMAS</td><td>7</td></tr>",
                            "<tr><td>312</td><td>FIDDLER LOST</td><td>3</td></tr>",
                            "<tr><td>313</td><td>FIDELITY DEVIL</td><td>6</td></tr>",
                            "<tr><td>314</td><td>FIGHT JAWBREAKER</td><td>6</td></tr>",
                            "<tr><td>315</td><td>FINDING ANACONDA</td><td>3</td></tr>",
                            "<tr><td>316</td><td>FIRE WOLVES</td><td>2</td></tr>",
                            "<tr><td>317</td><td>FIREBALL PHILADELPHIA</td><td>7</td></tr>",
                            "<tr><td>319</td><td>FISH OPUS</td><td>7</td></tr>",
                            "<tr><td>320</td><td>FLAMINGOS CONNECTICUT</td><td>7</td></tr>",
                            "<tr><td>321</td><td>FLASH WARS</td><td>4</td></tr>",
                            "<tr><td>322</td><td>FLATLINERS KILLER</td><td>6</td></tr>",
                            "<tr><td>323</td><td>FLIGHT LIES</td><td>4</td></tr>",
                            "<tr><td>324</td><td>FLINTSTONES HAPPINESS</td><td>5</td></tr>",
                            "<tr><td>326</td><td>FLYING HOOK</td><td>6</td></tr>",
                            "<tr><td>327</td><td>FOOL MOCKINGBIRD</td><td>6</td></tr>",
                            "<tr><td>328</td><td>FOREVER CANDIDATE</td><td>4</td></tr>",
                            "<tr><td>329</td><td>FORREST SONS</td><td>6</td></tr>",
                            "<tr><td>330</td><td>FORRESTER COMANCHEROS</td><td>7</td></tr>",
                            "<tr><td>331</td><td>FORWARD TEMPLE</td><td>8</td></tr>",
                            "<tr><td>333</td><td>FREAKY POCUS</td><td>4</td></tr>",
                            "<tr><td>334</td><td>FREDDY STORM</td><td>6</td></tr>",
                            "<tr><td>335</td><td>FREEDOM CLEOPATRA</td><td>2</td></tr>",
                            "<tr><td>336</td><td>FRENCH HOLIDAY</td><td>5</td></tr>",
                            "<tr><td>337</td><td>FRIDA SLIPPER</td><td>4</td></tr>",
                            "<tr><td>338</td><td>FRISCO FORREST</td><td>3</td></tr>",
                            "<tr><td>339</td><td>FROGMEN BREAKING</td><td>3</td></tr>",
                            "<tr><td>340</td><td>FRONTIER CABIN</td><td>2</td></tr>",
                            "<tr><td>341</td><td>FROST HEAD</td><td>8</td></tr>",
                            "<tr><td>342</td><td>FUGITIVE MAGUIRE</td><td>4</td></tr>",
                            "<tr><td>343</td><td>FULL FLATLINERS</td><td>2</td></tr>",
                            "<tr><td>344</td><td>FURY MURDER</td><td>5</td></tr>",
                            "<tr><td>345</td><td>GABLES METROPOLIS</td><td>5</td></tr>",
                            "<tr><td>346</td><td>GALAXY SWEETHEARTS</td><td>6</td></tr>",
                            "<tr><td>347</td><td>GAMES BOWFINGER</td><td>4</td></tr>",
                            "<tr><td>348</td><td>GANDHI KWAI</td><td>4</td></tr>",
                            "<tr><td>349</td><td>GANGS PRIDE</td><td>7</td></tr>",
                            "<tr><td>350</td><td>GARDEN ISLAND</td><td>8</td></tr>",
                            "<tr><td>351</td><td>GASLIGHT CRUSADE</td><td>6</td></tr>",
                            "<tr><td>352</td><td>GATHERING CALENDAR</td><td>4</td></tr>",
                            "<tr><td>353</td><td>GENTLEMEN STAGE</td><td>6</td></tr>",
                            "<tr><td>354</td><td>GHOST GROUNDHOG</td><td>5</td></tr>",
                            "<tr><td>355</td><td>GHOSTBUSTERS ELF</td><td>2</td></tr>",
                            "<tr><td>356</td><td>GIANT TROOPERS</td><td>8</td></tr>",
                            "<tr><td>357</td><td>GILBERT PELICAN</td><td>4</td></tr>",
                            "<tr><td>358</td><td>GILMORE BOILED</td><td>8</td></tr>",
                            "<tr><td>360</td><td>GLASS DYING</td><td>4</td></tr>",
                            "<tr><td>361</td><td>GLEAMING JAWBREAKER</td><td>8</td></tr>",
                            "<tr><td>362</td><td>GLORY TRACY</td><td>2</td></tr>",
                            "<tr><td>363</td><td>GO PURPLE</td><td>6</td></tr>",
                            "<tr><td>364</td><td>GODFATHER DIARY</td><td>3</td></tr>",
                            "<tr><td>365</td><td>GOLD RIVER</td><td>4</td></tr>",
                            "<tr><td>366</td><td>GOLDFINGER SENSIBILITY</td><td>7</td></tr>",
                            "<tr><td>367</td><td>GOLDMINE TYCOON</td><td>7</td></tr>",
                            "<tr><td>368</td><td>GONE TROUBLE</td><td>2</td></tr>",
                            "<tr><td>369</td><td>GOODFELLAS SALUTE</td><td>8</td></tr>",
                            "<tr><td>370</td><td>GORGEOUS BINGO</td><td>5</td></tr>",
                            "<tr><td>371</td><td>GOSFORD DONNIE</td><td>3</td></tr>",
                            "<tr><td>372</td><td>GRACELAND DYNAMITE</td><td>2</td></tr>",
                            "<tr><td>373</td><td>GRADUATE LORD</td><td>5</td></tr>",
                            "<tr><td>374</td><td>GRAFFITI LOVE</td><td>7</td></tr>",
                            "<tr><td>375</td><td>GRAIL FRANKENSTEIN</td><td>2</td></tr>",
                            "<tr><td>376</td><td>GRAPES FURY</td><td>7</td></tr>",
                            "<tr><td>377</td><td>GREASE YOUTH</td><td>6</td></tr>",
                            "<tr><td>378</td><td>GREATEST NORTH</td><td>8</td></tr>",
                            "<tr><td>379</td><td>GREEDY ROOTS</td><td>4</td></tr>",
                            "<tr><td>380</td><td>GREEK EVERYONE</td><td>5</td></tr>",
                            "<tr><td>381</td><td>GRINCH MASSAGE</td><td>5</td></tr>",
                            "<tr><td>382</td><td>GRIT CLOCKWORK</td><td>8</td></tr>",
                            "<tr><td>383</td><td>GROOVE FICTION</td><td>5</td></tr>",
                            "<tr><td>384</td><td>GROSSE WONDERFUL</td><td>3</td></tr>",
                            "<tr><td>385</td><td>GROUNDHOG UNCUT</td><td>5</td></tr>",
                            "<tr><td>387</td><td>GUN BONNIE</td><td>6</td></tr>",
                            "<tr><td>388</td><td>GUNFIGHT MOON</td><td>6</td></tr>",
                            "<tr><td>389</td><td>GUNFIGHTER MUSSOLINI</td><td>4</td></tr>",
                            "<tr><td>390</td><td>GUYS FALCON</td><td>3</td></tr>",
                            "<tr><td>391</td><td>HALF OUTFIELD</td><td>7</td></tr>",
                            "<tr><td>392</td><td>HALL CASSIDY</td><td>6</td></tr>",
                            "<tr><td>393</td><td>HALLOWEEN NUTS</td><td>2</td></tr>",
                            "<tr><td>394</td><td>HAMLET WISDOM</td><td>4</td></tr>",
                            "<tr><td>395</td><td>HANDICAP BOONDOCK</td><td>6</td></tr>",
                            "<tr><td>396</td><td>HANGING DEEP</td><td>4</td></tr>",
                            "<tr><td>397</td><td>HANKY OCTOBER</td><td>7</td></tr>",
                            "<tr><td>398</td><td>HANOVER GALAXY</td><td>4</td></tr>",
                            "<tr><td>399</td><td>HAPPINESS UNITED</td><td>2</td></tr>",
                            "<tr><td>400</td><td>HARDLY ROBBERS</td><td>2</td></tr>",
                            "<tr><td>401</td><td>HAROLD FRENCH</td><td>2</td></tr>",
                            "<tr><td>402</td><td>HARPER DYING</td><td>6</td></tr>",
                            "<tr><td>403</td><td>HARRY IDAHO</td><td>8</td></tr>",
                            "<tr><td>405</td><td>HAUNTED ANTITRUST</td><td>2</td></tr>",
                            "<tr><td>406</td><td>HAUNTING PIANIST</td><td>6</td></tr>",
                            "<tr><td>407</td><td>HAWK CHILL</td><td>2</td></tr>",
                            "<tr><td>408</td><td>HEAD STRANGER</td><td>7</td></tr>",
                            "<tr><td>409</td><td>HEARTBREAKERS BRIGHT</td><td>7</td></tr>",
                            "<tr><td>410</td><td>HEAVEN FREEDOM</td><td>5</td></tr>",
                            "<tr><td>411</td><td>HEAVENLY GUN</td><td>2</td></tr>",
                            "<tr><td>412</td><td>HEAVYWEIGHTS BEAST</td><td>8</td></tr>",
                            "<tr><td>413</td><td>HEDWIG ALTER</td><td>3</td></tr>",
                            "<tr><td>414</td><td>HELLFIGHTERS SIERRA</td><td>6</td></tr>",
                            "<tr><td>415</td><td>HIGH ENCINO</td><td>6</td></tr>",
                            "<tr><td>416</td><td>HIGHBALL POTTER</td><td>6</td></tr>",
                            "<tr><td>417</td><td>HILLS NEIGHBORS</td><td>6</td></tr>",
                            "<tr><td>418</td><td>HOBBIT ALIEN</td><td>8</td></tr>",
                            "<tr><td>420</td><td>HOLES BRANNIGAN</td><td>5</td></tr>",
                            "<tr><td>421</td><td>HOLIDAY GAMES</td><td>4</td></tr>",
                            "<tr><td>422</td><td>HOLLOW JEOPARDY</td><td>2</td></tr>",
                            "<tr><td>423</td><td>HOLLYWOOD ANONYMOUS</td><td>4</td></tr>",
                            "<tr><td>424</td><td>HOLOCAUST HIGHBALL</td><td>5</td></tr>",
                            "<tr><td>425</td><td>HOLY TADPOLE</td><td>2</td></tr>",
                            "<tr><td>426</td><td>HOME PITY</td><td>3</td></tr>",
                            "<tr><td>427</td><td>HOMEWARD CIDER</td><td>4</td></tr>",
                            "<tr><td>428</td><td>HOMICIDE PEACH</td><td>6</td></tr>",
                            "<tr><td>429</td><td>HONEY TIES</td><td>6</td></tr>",
                            "<tr><td>430</td><td>HOOK CHARIOTS</td><td>4</td></tr>",
                            "<tr><td>431</td><td>HOOSIERS BIRDCAGE</td><td>3</td></tr>",
                            "<tr><td>432</td><td>HOPE TOOTSIE</td><td>5</td></tr>",
                            "<tr><td>433</td><td>HORN WORKING</td><td>6</td></tr>",
                            "<tr><td>434</td><td>HORROR REIGN</td><td>8</td></tr>",
                            "<tr><td>435</td><td>HOTEL HAPPINESS</td><td>2</td></tr>",
                            "<tr><td>436</td><td>HOURS RAGE</td><td>6</td></tr>",
                            "<tr><td>437</td><td>HOUSE DYNAMITE</td><td>6</td></tr>",
                            "<tr><td>438</td><td>HUMAN GRAFFITI</td><td>5</td></tr>",
                            "<tr><td>439</td><td>HUNCHBACK IMPOSSIBLE</td><td>6</td></tr>",
                            "<tr><td>440</td><td>HUNGER ROOF</td><td>4</td></tr>",
                            "<tr><td>441</td><td>HUNTER ALTER</td><td>2</td></tr>",
                            "<tr><td>442</td><td>HUNTING MUSKETEERS</td><td>3</td></tr>",
                            "<tr><td>443</td><td>HURRICANE AFFAIR</td><td>7</td></tr>",
                            "<tr><td>444</td><td>HUSTLER PARTY</td><td>8</td></tr>",
                            "<tr><td>445</td><td>HYDE DOCTOR</td><td>6</td></tr>",
                            "<tr><td>446</td><td>HYSTERICAL GRAIL</td><td>4</td></tr>",
                            "<tr><td>447</td><td>ICE CROSSING</td><td>7</td></tr>",
                            "<tr><td>448</td><td>IDAHO LOVE</td><td>5</td></tr>",
                            "<tr><td>449</td><td>IDENTITY LOVER</td><td>4</td></tr>",
                            "<tr><td>450</td><td>IDOLS SNATCHERS</td><td>7</td></tr>",
                            "<tr><td>451</td><td>IGBY MAKER</td><td>5</td></tr>",
                            "<tr><td>452</td><td>ILLUSION AMELIE</td><td>4</td></tr>",
                            "<tr><td>453</td><td>IMAGE PRINCESS</td><td>5</td></tr>",
                            "<tr><td>454</td><td>IMPACT ALADDIN</td><td>2</td></tr>",
                            "<tr><td>455</td><td>IMPOSSIBLE PREJUDICE</td><td>4</td></tr>",
                            "<tr><td>456</td><td>INCH JET</td><td>6</td></tr>",
                            "<tr><td>457</td><td>INDEPENDENCE HOTEL</td><td>6</td></tr>",
                            "<tr><td>458</td><td>INDIAN LOVE</td><td>6</td></tr>",
                            "<tr><td>459</td><td>INFORMER DOUBLE</td><td>2</td></tr>",
                            "<tr><td>460</td><td>INNOCENT USUAL</td><td>8</td></tr>",
                            "<tr><td>461</td><td>INSECTS STONE</td><td>6</td></tr>",
                            "<tr><td>462</td><td>INSIDER ARIZONA</td><td>5</td></tr>",
                            "<tr><td>463</td><td>INSTINCT AIRPORT</td><td>5</td></tr>",
                            "<tr><td>464</td><td>INTENTIONS EMPIRE</td><td>7</td></tr>",
                            "<tr><td>465</td><td>INTERVIEW LIAISONS</td><td>5</td></tr>",
                            "<tr><td>466</td><td>INTOLERABLE INTENTIONS</td><td>2</td></tr>",
                            "<tr><td>467</td><td>INTRIGUE WORST</td><td>7</td></tr>",
                            "<tr><td>468</td><td>INVASION CYCLONE</td><td>8</td></tr>",
                            "<tr><td>469</td><td>IRON MOON</td><td>3</td></tr>",
                            "<tr><td>470</td><td>ISHTAR ROCKETEER</td><td>2</td></tr>",
                            "<tr><td>471</td><td>ISLAND EXORCIST</td><td>7</td></tr>",
                            "<tr><td>472</td><td>ITALIAN AFRICAN</td><td>2</td></tr>",
                            "<tr><td>473</td><td>JACKET FRISCO</td><td>5</td></tr>",
                            "<tr><td>474</td><td>JADE BUNCH</td><td>4</td></tr>",
                            "<tr><td>475</td><td>JAPANESE RUN</td><td>2</td></tr>",
                            "<tr><td>476</td><td>JASON TRAP</td><td>7</td></tr>",
                            "<tr><td>477</td><td>JAWBREAKER BROOKLYN</td><td>3</td></tr>",
                            "<tr><td>478</td><td>JAWS HARRY</td><td>5</td></tr>",
                            "<tr><td>479</td><td>JEDI BENEATH</td><td>5</td></tr>",
                            "<tr><td>480</td><td>JEEPERS WEDDING</td><td>4</td></tr>",
                            "<tr><td>481</td><td>JEKYLL FROGMEN</td><td>6</td></tr>",
                            "<tr><td>482</td><td>JEOPARDY ENCINO</td><td>3</td></tr>",
                            "<tr><td>483</td><td>JERICHO MULAN</td><td>5</td></tr>",
                            "<tr><td>484</td><td>JERK PAYCHECK</td><td>7</td></tr>",
                            "<tr><td>485</td><td>JERSEY SASSY</td><td>3</td></tr>",
                            "<tr><td>486</td><td>JET NEIGHBORS</td><td>6</td></tr>",
                            "<tr><td>487</td><td>JINGLE SAGEBRUSH</td><td>3</td></tr>",
                            "<tr><td>488</td><td>JOON NORTHWEST</td><td>5</td></tr>",
                            "<tr><td>489</td><td>JUGGLER HARDLY</td><td>8</td></tr>",
                            "<tr><td>490</td><td>JUMANJI BLADE</td><td>2</td></tr>",
                            "<tr><td>491</td><td>JUMPING WRATH</td><td>6</td></tr>",
                            "<tr><td>492</td><td>JUNGLE CLOSER</td><td>2</td></tr>",
                            "<tr><td>493</td><td>KANE EXORCIST</td><td>3</td></tr>",
                            "<tr><td>494</td><td>KARATE MOON</td><td>6</td></tr>",
                            "<tr><td>496</td><td>KICK SAVANNAH</td><td>5</td></tr>",
                            "<tr><td>498</td><td>KILLER INNOCENT</td><td>2</td></tr>",
                            "<tr><td>499</td><td>KING EVOLUTION</td><td>2</td></tr>",
                            "<tr><td>500</td><td>KISS GLORY</td><td>8</td></tr>",
                            "<tr><td>501</td><td>KISSING DOLLS</td><td>5</td></tr>",
                            "<tr><td>502</td><td>KNOCK WARLOCK</td><td>7</td></tr>",
                            "<tr><td>503</td><td>KRAMER CHOCOLATE</td><td>3</td></tr>",
                            "<tr><td>504</td><td>KWAI HOMEWARD</td><td>6</td></tr>",
                            "<tr><td>505</td><td>LABYRINTH LEAGUE</td><td>4</td></tr>",
                            "<tr><td>506</td><td>LADY STAGE</td><td>6</td></tr>",
                            "<tr><td>507</td><td>LADYBUGS ARMAGEDDON</td><td>2</td></tr>",
                            "<tr><td>508</td><td>LAMBS CINCINATTI</td><td>3</td></tr>",
                            "<tr><td>509</td><td>LANGUAGE COWBOY</td><td>3</td></tr>",
                            "<tr><td>510</td><td>LAWLESS VISION</td><td>4</td></tr>",
                            "<tr><td>511</td><td>LAWRENCE LOVE</td><td>5</td></tr>",
                            "<tr><td>512</td><td>LEAGUE HELLFIGHTERS</td><td>6</td></tr>",
                            "<tr><td>513</td><td>LEATHERNECKS DWARFS</td><td>2</td></tr>",
                            "<tr><td>514</td><td>LEBOWSKI SOLDIERS</td><td>6</td></tr>",
                            "<tr><td>515</td><td>LEGALLY SECRETARY</td><td>2</td></tr>",
                            "<tr><td>516</td><td>LEGEND JEDI</td><td>3</td></tr>",
                            "<tr><td>517</td><td>LESSON CLEOPATRA</td><td>2</td></tr>",
                            "<tr><td>518</td><td>LIAISONS SWEET</td><td>6</td></tr>",
                            "<tr><td>519</td><td>LIBERTY MAGNIFICENT</td><td>4</td></tr>",
                            "<tr><td>520</td><td>LICENSE WEEKEND</td><td>2</td></tr>",
                            "<tr><td>521</td><td>LIES TREATMENT</td><td>7</td></tr>",
                            "<tr><td>522</td><td>LIFE TWISTED</td><td>2</td></tr>",
                            "<tr><td>523</td><td>LIGHTS DEER</td><td>2</td></tr>",
                            "<tr><td>524</td><td>LION UNCUT</td><td>6</td></tr>",
                            "<tr><td>525</td><td>LOATHING LEGALLY</td><td>8</td></tr>",
                            "<tr><td>526</td><td>LOCK REAR</td><td>4</td></tr>",
                            "<tr><td>527</td><td>LOLA AGENT</td><td>6</td></tr>",
                            "<tr><td>528</td><td>LOLITA WORLD</td><td>3</td></tr>",
                            "<tr><td>529</td><td>LONELY ELEPHANT</td><td>4</td></tr>",
                            "<tr><td>530</td><td>LORD ARIZONA</td><td>3</td></tr>",
                            "<tr><td>531</td><td>LOSE INCH</td><td>8</td></tr>",
                            "<tr><td>532</td><td>LOSER HUSTLER</td><td>4</td></tr>",
                            "<tr><td>533</td><td>LOST BIRD</td><td>3</td></tr>",
                            "<tr><td>534</td><td>LOUISIANA HARRY</td><td>5</td></tr>",
                            "<tr><td>535</td><td>LOVE SUICIDES</td><td>4</td></tr>",
                            "<tr><td>536</td><td>LOVELY JINGLE</td><td>5</td></tr>",
                            "<tr><td>537</td><td>LOVER TRUMAN</td><td>3</td></tr>",
                            "<tr><td>538</td><td>LOVERBOY ATTACKS</td><td>3</td></tr>",
                            "<tr><td>539</td><td>LUCK OPUS</td><td>2</td></tr>",
                            "<tr><td>540</td><td>LUCKY FLYING</td><td>3</td></tr>",
                            "<tr><td>541</td><td>LUKE MUMMY</td><td>2</td></tr>",
                            "<tr><td>542</td><td>LUST LOCK</td><td>6</td></tr>",
                            "<tr><td>543</td><td>MADIGAN DORADO</td><td>2</td></tr>",
                            "<tr><td>544</td><td>MADISON TRAP</td><td>4</td></tr>",
                            "<tr><td>545</td><td>MADNESS ATTACKS</td><td>6</td></tr>",
                            "<tr><td>546</td><td>MADRE GABLES</td><td>4</td></tr>",
                            "<tr><td>547</td><td>MAGIC MALLRATS</td><td>2</td></tr>",
                            "<tr><td>548</td><td>MAGNIFICENT CHITTY</td><td>2</td></tr>",
                            "<tr><td>549</td><td>MAGNOLIA FORRESTER</td><td>4</td></tr>",
                            "<tr><td>550</td><td>MAGUIRE APACHE</td><td>3</td></tr>",
                            "<tr><td>551</td><td>MAIDEN HOME</td><td>6</td></tr>",
                            "<tr><td>552</td><td>MAJESTIC FLOATS</td><td>4</td></tr>",
                            "<tr><td>553</td><td>MAKER GABLES</td><td>3</td></tr>",
                            "<tr><td>554</td><td>MALKOVICH PET</td><td>7</td></tr>",
                            "<tr><td>555</td><td>MALLRATS UNITED</td><td>7</td></tr>",
                            "<tr><td>556</td><td>MALTESE HOPE</td><td>7</td></tr>",
                            "<tr><td>557</td><td>MANCHURIAN CURTAIN</td><td>5</td></tr>",
                            "<tr><td>558</td><td>MANNEQUIN WORST</td><td>2</td></tr>",
                            "<tr><td>559</td><td>MARRIED GO</td><td>8</td></tr>",
                            "<tr><td>560</td><td>MARS ROMAN</td><td>5</td></tr>",
                            "<tr><td>561</td><td>MASK PEACH</td><td>4</td></tr>",
                            "<tr><td>562</td><td>MASKED BUBBLE</td><td>6</td></tr>",
                            "<tr><td>563</td><td>MASSACRE USUAL</td><td>7</td></tr>",
                            "<tr><td>564</td><td>MASSAGE IMAGE</td><td>3</td></tr>",
                            "<tr><td>565</td><td>MATRIX SNOWMAN</td><td>2</td></tr>",
                            "<tr><td>566</td><td>MAUDE MOD</td><td>2</td></tr>",
                            "<tr><td>567</td><td>MEET CHOCOLATE</td><td>4</td></tr>",
                            "<tr><td>568</td><td>MEMENTO ZOOLANDER</td><td>4</td></tr>",
                            "<tr><td>569</td><td>MENAGERIE RUSHMORE</td><td>2</td></tr>",
                            "<tr><td>570</td><td>MERMAID INSECTS</td><td>5</td></tr>",
                            "<tr><td>571</td><td>METAL ARMAGEDDON</td><td>6</td></tr>",
                            "<tr><td>572</td><td>METROPOLIS COMA</td><td>8</td></tr>",
                            "<tr><td>573</td><td>MICROCOSMOS PARADISE</td><td>4</td></tr>",
                            "<tr><td>574</td><td>MIDNIGHT WESTWARD</td><td>5</td></tr>",
                            "<tr><td>575</td><td>MIDSUMMER GROUNDHOG</td><td>6</td></tr>",
                            "<tr><td>576</td><td>MIGHTY LUCK</td><td>3</td></tr>",
                            "<tr><td>577</td><td>MILE MULAN</td><td>3</td></tr>",
                            "<tr><td>578</td><td>MILLION ACE</td><td>5</td></tr>",
                            "<tr><td>579</td><td>MINDS TRUMAN</td><td>7</td></tr>",
                            "<tr><td>580</td><td>MINE TITANS</td><td>6</td></tr>",
                            "<tr><td>581</td><td>MINORITY KISS</td><td>3</td></tr>",
                            "<tr><td>582</td><td>MIRACLE VIRTUAL</td><td>2</td></tr>",
                            "<tr><td>583</td><td>MISSION ZOOLANDER</td><td>5</td></tr>",
                            "<tr><td>584</td><td>MIXED DOORS</td><td>2</td></tr>",
                            "<tr><td>585</td><td>MOB DUFFEL</td><td>4</td></tr>",
                            "<tr><td>586</td><td>MOCKINGBIRD HOLLYWOOD</td><td>8</td></tr>",
                            "<tr><td>587</td><td>MOD SECRETARY</td><td>3</td></tr>",
                            "<tr><td>588</td><td>MODEL FISH</td><td>4</td></tr>",
                            "<tr><td>589</td><td>MODERN DORADO</td><td>4</td></tr>",
                            "<tr><td>590</td><td>MONEY HAROLD</td><td>7</td></tr>",
                            "<tr><td>591</td><td>MONSOON CAUSE</td><td>3</td></tr>",
                            "<tr><td>592</td><td>MONSTER SPARTACUS</td><td>4</td></tr>",
                            "<tr><td>593</td><td>MONTEREY LABYRINTH</td><td>4</td></tr>",
                            "<tr><td>594</td><td>MONTEZUMA COMMAND</td><td>3</td></tr>",
                            "<tr><td>595</td><td>MOON BUNCH</td><td>8</td></tr>",
                            "<tr><td>596</td><td>MOONSHINE CABIN</td><td>6</td></tr>",
                            "<tr><td>597</td><td>MOONWALKER FOOL</td><td>4</td></tr>",
                            "<tr><td>598</td><td>MOSQUITO ARMAGEDDON</td><td>4</td></tr>",
                            "<tr><td>599</td><td>MOTHER OLEANDER</td><td>5</td></tr>",
                            "<tr><td>600</td><td>MOTIONS DETAILS</td><td>4</td></tr>",
                            "<tr><td>601</td><td>MOULIN WAKE</td><td>5</td></tr>",
                            "<tr><td>602</td><td>MOURNING PURPLE</td><td>5</td></tr>",
                            "<tr><td>603</td><td>MOVIE SHAKESPEARE</td><td>6</td></tr>",
                            "<tr><td>604</td><td>MULAN MOON</td><td>3</td></tr>",
                            "<tr><td>605</td><td>MULHOLLAND BEAST</td><td>2</td></tr>",
                            "<tr><td>606</td><td>MUMMY CREATURES</td><td>6</td></tr>",
                            "<tr><td>608</td><td>MURDER ANTITRUST</td><td>6</td></tr>",
                            "<tr><td>609</td><td>MUSCLE BRIGHT</td><td>8</td></tr>",
                            "<tr><td>610</td><td>MUSIC BOONDOCK</td><td>5</td></tr>",
                            "<tr><td>611</td><td>MUSKETEERS WAIT</td><td>6</td></tr>",
                            "<tr><td>612</td><td>MUSSOLINI SPOILERS</td><td>2</td></tr>",
                            "<tr><td>613</td><td>MYSTIC TRUMAN</td><td>2</td></tr>",
                            "<tr><td>614</td><td>NAME DETECTIVE</td><td>6</td></tr>",
                            "<tr><td>615</td><td>NASH CHOCOLAT</td><td>4</td></tr>",
                            "<tr><td>616</td><td>NATIONAL STORY</td><td>6</td></tr>",
                            "<tr><td>617</td><td>NATURAL STOCK</td><td>3</td></tr>",
                            "<tr><td>618</td><td>NECKLACE OUTBREAK</td><td>4</td></tr>",
                            "<tr><td>619</td><td>NEIGHBORS CHARADE</td><td>6</td></tr>",
                            "<tr><td>620</td><td>NEMO CAMPUS</td><td>5</td></tr>",
                            "<tr><td>621</td><td>NETWORK PEAK</td><td>8</td></tr>",
                            "<tr><td>622</td><td>NEWSIES STORY</td><td>2</td></tr>",
                            "<tr><td>623</td><td>NEWTON LABYRINTH</td><td>5</td></tr>",
                            "<tr><td>624</td><td>NIGHTMARE CHILL</td><td>7</td></tr>",
                            "<tr><td>625</td><td>NONE SPIKING</td><td>7</td></tr>",
                            "<tr><td>626</td><td>NOON PAPI</td><td>4</td></tr>",
                            "<tr><td>627</td><td>NORTH TEQUILA</td><td>3</td></tr>",
                            "<tr><td>628</td><td>NORTHWEST POLISH</td><td>5</td></tr>",
                            "<tr><td>629</td><td>NOTORIOUS REUNION</td><td>4</td></tr>",
                            "<tr><td>630</td><td>NOTTING SPEAKEASY</td><td>3</td></tr>",
                            "<tr><td>631</td><td>NOVOCAINE FLIGHT</td><td>5</td></tr>",
                            "<tr><td>632</td><td>NUTS TIES</td><td>3</td></tr>",
                            "<tr><td>633</td><td>OCTOBER SUBMARINE</td><td>3</td></tr>",
                            "<tr><td>634</td><td>ODDS BOOGIE</td><td>4</td></tr>",
                            "<tr><td>635</td><td>OKLAHOMA JUMANJI</td><td>2</td></tr>",
                            "<tr><td>636</td><td>OLEANDER CLUE</td><td>3</td></tr>",
                            "<tr><td>637</td><td>OPEN AFRICAN</td><td>5</td></tr>",
                            "<tr><td>638</td><td>OPERATION OPERATION</td><td>8</td></tr>",
                            "<tr><td>639</td><td>OPPOSITE NECKLACE</td><td>3</td></tr>",
                            "<tr><td>640</td><td>OPUS ICE</td><td>3</td></tr>",
                            "<tr><td>641</td><td>ORANGE GRAPES</td><td>7</td></tr>",
                            "<tr><td>643</td><td>ORIENT CLOSER</td><td>6</td></tr>",
                            "<tr><td>644</td><td>OSCAR GOLD</td><td>7</td></tr>",
                            "<tr><td>645</td><td>OTHERS SOUP</td><td>6</td></tr>",
                            "<tr><td>646</td><td>OUTBREAK DIVINE</td><td>5</td></tr>",
                            "<tr><td>647</td><td>OUTFIELD MASSACRE</td><td>6</td></tr>",
                            "<tr><td>648</td><td>OUTLAW HANKY</td><td>6</td></tr>",
                            "<tr><td>649</td><td>OZ LIAISONS</td><td>6</td></tr>",
                            "<tr><td>650</td><td>PACIFIC AMISTAD</td><td>6</td></tr>",
                            "<tr><td>651</td><td>PACKER MADIGAN</td><td>6</td></tr>",
                            "<tr><td>652</td><td>PAJAMA JAWBREAKER</td><td>4</td></tr>",
                            "<tr><td>653</td><td>PANIC CLUB</td><td>2</td></tr>",
                            "<tr><td>654</td><td>PANKY SUBMARINE</td><td>4</td></tr>",
                            "<tr><td>655</td><td>PANTHER REDS</td><td>6</td></tr>",
                            "<tr><td>656</td><td>PAPI NECKLACE</td><td>2</td></tr>",
                            "<tr><td>657</td><td>PARADISE SABRINA</td><td>6</td></tr>",
                            "<tr><td>658</td><td>PARIS WEEKEND</td><td>4</td></tr>",
                            "<tr><td>659</td><td>PARK CITIZEN</td><td>2</td></tr>",
                            "<tr><td>660</td><td>PARTY KNOCK</td><td>4</td></tr>",
                            "<tr><td>661</td><td>PAST SUICIDES</td><td>4</td></tr>",
                            "<tr><td>662</td><td>PATHS CONTROL</td><td>4</td></tr>",
                            "<tr><td>663</td><td>PATIENT SISTER</td><td>5</td></tr>",
                            "<tr><td>664</td><td>PATRIOT ROMAN</td><td>5</td></tr>",
                            "<tr><td>665</td><td>PATTON INTERVIEW</td><td>7</td></tr>",
                            "<tr><td>666</td><td>PAYCHECK WAIT</td><td>5</td></tr>",
                            "<tr><td>667</td><td>PEACH INNOCENT</td><td>4</td></tr>",
                            "<tr><td>668</td><td>PEAK FOREVER</td><td>5</td></tr>",
                            "<tr><td>670</td><td>PELICAN COMFORTS</td><td>7</td></tr>",
                            "<tr><td>672</td><td>PERFECT GROOVE</td><td>6</td></tr>",
                            "<tr><td>673</td><td>PERSONAL LADYBUGS</td><td>4</td></tr>",
                            "<tr><td>674</td><td>PET HAUNTING</td><td>3</td></tr>",
                            "<tr><td>675</td><td>PHANTOM GLORY</td><td>2</td></tr>",
                            "<tr><td>676</td><td>PHILADELPHIA WIFE</td><td>6</td></tr>",
                            "<tr><td>677</td><td>PIANIST OUTFIELD</td><td>7</td></tr>",
                            "<tr><td>678</td><td>PICKUP DRIVING</td><td>4</td></tr>",
                            "<tr><td>679</td><td>PILOT HOOSIERS</td><td>4</td></tr>",
                            "<tr><td>680</td><td>PINOCCHIO SIMON</td><td>6</td></tr>",
                            "<tr><td>681</td><td>PIRATES ROXANNE</td><td>6</td></tr>",
                            "<tr><td>682</td><td>PITTSBURGH HUNCHBACK</td><td>3</td></tr>",
                            "<tr><td>683</td><td>PITY BOUND</td><td>8</td></tr>",
                            "<tr><td>684</td><td>PIZZA JUMANJI</td><td>2</td></tr>",
                            "<tr><td>685</td><td>PLATOON INSTINCT</td><td>2</td></tr>",
                            "<tr><td>686</td><td>PLUTO OLEANDER</td><td>4</td></tr>",
                            "<tr><td>687</td><td>POCUS PULP</td><td>7</td></tr>",
                            "<tr><td>688</td><td>POLISH BROOKLYN</td><td>4</td></tr>",
                            "<tr><td>689</td><td>POLLOCK DELIVERANCE</td><td>6</td></tr>",
                            "<tr><td>690</td><td>POND SEATTLE</td><td>6</td></tr>",
                            "<tr><td>691</td><td>POSEIDON FOREVER</td><td>5</td></tr>",
                            "<tr><td>692</td><td>POTLUCK MIXED</td><td>3</td></tr>",
                            "<tr><td>693</td><td>POTTER CONNECTICUT</td><td>5</td></tr>",
                            "<tr><td>694</td><td>PREJUDICE OLEANDER</td><td>6</td></tr>",
                            "<tr><td>695</td><td>PRESIDENT BANG</td><td>2</td></tr>",
                            "<tr><td>696</td><td>PRIDE ALAMO</td><td>5</td></tr>",
                            "<tr><td>697</td><td>PRIMARY GLASS</td><td>8</td></tr>",
                            "<tr><td>698</td><td>PRINCESS GIANT</td><td>7</td></tr>",
                            "<tr><td>699</td><td>PRIVATE DROP</td><td>2</td></tr>",
                            "<tr><td>700</td><td>PRIX UNDEFEATED</td><td>3</td></tr>",
                            "<tr><td>702</td><td>PULP BEVERLY</td><td>8</td></tr>",
                            "<tr><td>703</td><td>PUNK DIVORCE</td><td>2</td></tr>",
                            "<tr><td>704</td><td>PURE RUNNER</td><td>5</td></tr>",
                            "<tr><td>705</td><td>PURPLE MOVIE</td><td>4</td></tr>",
                            "<tr><td>706</td><td>QUEEN LUKE</td><td>6</td></tr>",
                            "<tr><td>707</td><td>QUEST MUSSOLINI</td><td>6</td></tr>",
                            "<tr><td>708</td><td>QUILLS BULL</td><td>4</td></tr>",
                            "<tr><td>709</td><td>RACER EGG</td><td>6</td></tr>",
                            "<tr><td>710</td><td>RAGE GAMES</td><td>6</td></tr>",
                            "<tr><td>711</td><td>RAGING AIRPLANE</td><td>4</td></tr>",
                            "<tr><td>714</td><td>RANDOM GO</td><td>3</td></tr>",
                            "<tr><td>715</td><td>RANGE MOONWALKER</td><td>7</td></tr>",
                            "<tr><td>716</td><td>REAP UNFAITHFUL</td><td>5</td></tr>",
                            "<tr><td>717</td><td>REAR TRADING</td><td>4</td></tr>",
                            "<tr><td>718</td><td>REBEL AIRPORT</td><td>2</td></tr>",
                            "<tr><td>719</td><td>RECORDS ZORRO</td><td>2</td></tr>",
                            "<tr><td>720</td><td>REDEMPTION COMFORTS</td><td>7</td></tr>",
                            "<tr><td>721</td><td>REDS POCUS</td><td>2</td></tr>",
                            "<tr><td>722</td><td>REEF SALUTE</td><td>4</td></tr>",
                            "<tr><td>723</td><td>REIGN GENTLEMEN</td><td>7</td></tr>",
                            "<tr><td>724</td><td>REMEMBER DIARY</td><td>6</td></tr>",
                            "<tr><td>725</td><td>REQUIEM TYCOON</td><td>6</td></tr>",
                            "<tr><td>726</td><td>RESERVOIR ADAPTATION</td><td>3</td></tr>",
                            "<tr><td>727</td><td>RESURRECTION SILVERADO</td><td>5</td></tr>",
                            "<tr><td>728</td><td>REUNION WITCHES</td><td>5</td></tr>",
                            "<tr><td>729</td><td>RIDER CADDYSHACK</td><td>4</td></tr>",
                            "<tr><td>730</td><td>RIDGEMONT SUBMARINE</td><td>8</td></tr>",
                            "<tr><td>731</td><td>RIGHT CRANES</td><td>3</td></tr>",
                            "<tr><td>732</td><td>RINGS HEARTBREAKERS</td><td>4</td></tr>",
                            "<tr><td>733</td><td>RIVER OUTLAW</td><td>7</td></tr>",
                            "<tr><td>734</td><td>ROAD ROXANNE</td><td>6</td></tr>",
                            "<tr><td>735</td><td>ROBBERS JOON</td><td>7</td></tr>",
                            "<tr><td>736</td><td>ROBBERY BRIGHT</td><td>4</td></tr>",
                            "<tr><td>737</td><td>ROCK INSTINCT</td><td>6</td></tr>",
                            "<tr><td>738</td><td>ROCKETEER MOTHER</td><td>8</td></tr>",
                            "<tr><td>739</td><td>ROCKY WAR</td><td>5</td></tr>",
                            "<tr><td>740</td><td>ROLLERCOASTER BRINGING</td><td>3</td></tr>",
                            "<tr><td>741</td><td>ROMAN PUNK</td><td>6</td></tr>",
                            "<tr><td>743</td><td>ROOM ROMAN</td><td>6</td></tr>",
                            "<tr><td>744</td><td>ROOTS REMEMBER</td><td>5</td></tr>",
                            "<tr><td>745</td><td>ROSES TREASURE</td><td>8</td></tr>",
                            "<tr><td>746</td><td>ROUGE SQUAD</td><td>5</td></tr>",
                            "<tr><td>747</td><td>ROXANNE REBEL</td><td>5</td></tr>",
                            "<tr><td>748</td><td>RUGRATS SHAKESPEARE</td><td>8</td></tr>",
                            "<tr><td>749</td><td>RULES HUMAN</td><td>4</td></tr>",
                            "<tr><td>750</td><td>RUN PACIFIC</td><td>3</td></tr>",
                            "<tr><td>751</td><td>RUNAWAY TENENBAUMS</td><td>2</td></tr>",
                            "<tr><td>752</td><td>RUNNER MADIGAN</td><td>3</td></tr>",
                            "<tr><td>753</td><td>RUSH GOODFELLAS</td><td>8</td></tr>",
                            "<tr><td>754</td><td>RUSHMORE MERMAID</td><td>2</td></tr>",
                            "<tr><td>755</td><td>SABRINA MIDNIGHT</td><td>7</td></tr>",
                            "<tr><td>756</td><td>SADDLE ANTITRUST</td><td>3</td></tr>",
                            "<tr><td>757</td><td>SAGEBRUSH CLUELESS</td><td>5</td></tr>",
                            "<tr><td>758</td><td>SAINTS BRIDE</td><td>3</td></tr>",
                            "<tr><td>759</td><td>SALUTE APOLLO</td><td>6</td></tr>",
                            "<tr><td>760</td><td>SAMURAI LION</td><td>7</td></tr>",
                            "<tr><td>761</td><td>SANTA PARIS</td><td>3</td></tr>",
                            "<tr><td>762</td><td>SASSY PACKER</td><td>4</td></tr>",
                            "<tr><td>763</td><td>SATISFACTION CONFIDENTIAL</td><td>5</td></tr>",
                            "<tr><td>764</td><td>SATURDAY LAMBS</td><td>8</td></tr>",
                            "<tr><td>765</td><td>SATURN NAME</td><td>4</td></tr>",
                            "<tr><td>766</td><td>SAVANNAH TOWN</td><td>3</td></tr>",
                            "<tr><td>767</td><td>SCALAWAG DUCK</td><td>8</td></tr>",
                            "<tr><td>768</td><td>SCARFACE BANG</td><td>6</td></tr>",
                            "<tr><td>769</td><td>SCHOOL JACKET</td><td>2</td></tr>",
                            "<tr><td>770</td><td>SCISSORHANDS SLUMS</td><td>3</td></tr>",
                            "<tr><td>771</td><td>SCORPION APOLLO</td><td>7</td></tr>",
                            "<tr><td>772</td><td>SEA VIRGIN</td><td>6</td></tr>",
                            "<tr><td>773</td><td>SEABISCUIT PUNK</td><td>8</td></tr>",
                            "<tr><td>774</td><td>SEARCHERS WAIT</td><td>4</td></tr>",
                            "<tr><td>775</td><td>SEATTLE EXPECATIONS</td><td>5</td></tr>",
                            "<tr><td>776</td><td>SECRET GROUNDHOG</td><td>5</td></tr>",
                            "<tr><td>777</td><td>SECRETARY ROUGE</td><td>6</td></tr>",
                            "<tr><td>778</td><td>SECRETS PARADISE</td><td>6</td></tr>",
                            "<tr><td>779</td><td>SENSE GREEK</td><td>2</td></tr>",
                            "<tr><td>780</td><td>SENSIBILITY REAR</td><td>3</td></tr>",
                            "<tr><td>781</td><td>SEVEN SWARM</td><td>2</td></tr>",
                            "<tr><td>782</td><td>SHAKESPEARE SADDLE</td><td>6</td></tr>",
                            "<tr><td>783</td><td>SHANE DARKNESS</td><td>4</td></tr>",
                            "<tr><td>784</td><td>SHANGHAI TYCOON</td><td>6</td></tr>",
                            "<tr><td>785</td><td>SHAWSHANK BUBBLE</td><td>6</td></tr>",
                            "<tr><td>786</td><td>SHEPHERD MIDSUMMER</td><td>7</td></tr>",
                            "<tr><td>787</td><td>SHINING ROSES</td><td>3</td></tr>",
                            "<tr><td>788</td><td>SHIP WONDERLAND</td><td>4</td></tr>",
                            "<tr><td>789</td><td>SHOCK CABIN</td><td>8</td></tr>",
                            "<tr><td>790</td><td>SHOOTIST SUPERFLY</td><td>7</td></tr>",
                            "<tr><td>791</td><td>SHOW LORD</td><td>6</td></tr>",
                            "<tr><td>792</td><td>SHREK LICENSE</td><td>3</td></tr>",
                            "<tr><td>793</td><td>SHRUNK DIVINE</td><td>4</td></tr>",
                            "<tr><td>794</td><td>SIDE ARK</td><td>4</td></tr>",
                            "<tr><td>795</td><td>SIEGE MADRE</td><td>4</td></tr>",
                            "<tr><td>796</td><td>SIERRA DIVIDE</td><td>5</td></tr>",
                            "<tr><td>797</td><td>SILENCE KANE</td><td>5</td></tr>",
                            "<tr><td>798</td><td>SILVERADO GOLDFINGER</td><td>4</td></tr>",
                            "<tr><td>799</td><td>SIMON NORTH</td><td>2</td></tr>",
                            "<tr><td>800</td><td>SINNERS ATLANTIS</td><td>6</td></tr>",
                            "<tr><td>803</td><td>SLACKER LIAISONS</td><td>6</td></tr>",
                            "<tr><td>804</td><td>SLEEPING SUSPECTS</td><td>7</td></tr>",
                            "<tr><td>805</td><td>SLEEPLESS MONSOON</td><td>5</td></tr>",
                            "<tr><td>806</td><td>SLEEPY JAPANESE</td><td>5</td></tr>",
                            "<tr><td>807</td><td>SLEUTH ORIENT</td><td>5</td></tr>",
                            "<tr><td>808</td><td>SLING LUKE</td><td>2</td></tr>",
                            "<tr><td>809</td><td>SLIPPER FIDELITY</td><td>4</td></tr>",
                            "<tr><td>810</td><td>SLUMS DUCK</td><td>7</td></tr>",
                            "<tr><td>811</td><td>SMILE EARRING</td><td>3</td></tr>",
                            "<tr><td>812</td><td>SMOKING BARBARELLA</td><td>6</td></tr>",
                            "<tr><td>813</td><td>SMOOCHY CONTROL</td><td>4</td></tr>",
                            "<tr><td>814</td><td>SNATCH SLIPPER</td><td>7</td></tr>",
                            "<tr><td>815</td><td>SNATCHERS MONTEZUMA</td><td>3</td></tr>",
                            "<tr><td>816</td><td>SNOWMAN ROLLERCOASTER</td><td>7</td></tr>",
                            "<tr><td>817</td><td>SOLDIERS EVOLUTION</td><td>2</td></tr>",
                            "<tr><td>818</td><td>SOMETHING DUCK</td><td>5</td></tr>",
                            "<tr><td>819</td><td>SONG HEDWIG</td><td>3</td></tr>",
                            "<tr><td>820</td><td>SONS INTERVIEW</td><td>6</td></tr>",
                            "<tr><td>821</td><td>SORORITY QUEEN</td><td>4</td></tr>",
                            "<tr><td>822</td><td>SOUP WISDOM</td><td>2</td></tr>",
                            "<tr><td>823</td><td>SOUTH WAIT</td><td>7</td></tr>",
                            "<tr><td>824</td><td>SPARTACUS CHEAPER</td><td>4</td></tr>",
                            "<tr><td>825</td><td>SPEAKEASY DATE</td><td>3</td></tr>",
                            "<tr><td>826</td><td>SPEED SUIT</td><td>2</td></tr>",
                            "<tr><td>827</td><td>SPICE SORORITY</td><td>6</td></tr>",
                            "<tr><td>828</td><td>SPIKING ELEMENT</td><td>4</td></tr>",
                            "<tr><td>829</td><td>SPINAL ROCKY</td><td>5</td></tr>",
                            "<tr><td>830</td><td>SPIRIT FLINTSTONES</td><td>4</td></tr>",
                            "<tr><td>831</td><td>SPIRITED CASUALTIES</td><td>3</td></tr>",
                            "<tr><td>832</td><td>SPLASH GUMP</td><td>4</td></tr>",
                            "<tr><td>833</td><td>SPLENDOR PATTON</td><td>7</td></tr>",
                            "<tr><td>834</td><td>SPOILERS HELLFIGHTERS</td><td>3</td></tr>",
                            "<tr><td>835</td><td>SPY MILE</td><td>8</td></tr>",
                            "<tr><td>836</td><td>SQUAD FISH</td><td>3</td></tr>",
                            "<tr><td>837</td><td>STAGE WORLD</td><td>3</td></tr>",
                            "<tr><td>838</td><td>STAGECOACH ARMAGEDDON</td><td>6</td></tr>",
                            "<tr><td>839</td><td>STALLION SUNDANCE</td><td>2</td></tr>",
                            "<tr><td>840</td><td>STAMPEDE DISTURBING</td><td>4</td></tr>",
                            "<tr><td>841</td><td>STAR OPERATION</td><td>7</td></tr>",
                            "<tr><td>842</td><td>STATE WASTELAND</td><td>4</td></tr>",
                            "<tr><td>843</td><td>STEEL SANTA</td><td>7</td></tr>",
                            "<tr><td>844</td><td>STEERS ARMAGEDDON</td><td>4</td></tr>",
                            "<tr><td>845</td><td>STEPMOM DREAM</td><td>7</td></tr>",
                            "<tr><td>846</td><td>STING PERSONAL</td><td>8</td></tr>",
                            "<tr><td>847</td><td>STOCK GLASS</td><td>4</td></tr>",
                            "<tr><td>848</td><td>STONE FIRE</td><td>3</td></tr>",
                            "<tr><td>849</td><td>STORM HAPPINESS</td><td>8</td></tr>",
                            "<tr><td>850</td><td>STORY SIDE</td><td>7</td></tr>",
                            "<tr><td>851</td><td>STRAIGHT HOURS</td><td>6</td></tr>",
                            "<tr><td>852</td><td>STRANGELOVE DESIRE</td><td>7</td></tr>",
                            "<tr><td>853</td><td>STRANGER STRANGERS</td><td>3</td></tr>",
                            "<tr><td>854</td><td>STRANGERS GRAFFITI</td><td>4</td></tr>",
                            "<tr><td>855</td><td>STREAK RIDGEMONT</td><td>4</td></tr>",
                            "<tr><td>856</td><td>STREETCAR INTENTIONS</td><td>8</td></tr>",
                            "<tr><td>857</td><td>STRICTLY SCARFACE</td><td>7</td></tr>",
                            "<tr><td>858</td><td>SUBMARINE BED</td><td>4</td></tr>",
                            "<tr><td>859</td><td>SUGAR WONKA</td><td>6</td></tr>",
                            "<tr><td>861</td><td>SUIT WALLS</td><td>6</td></tr>",
                            "<tr><td>862</td><td>SUMMER SCARFACE</td><td>5</td></tr>",
                            "<tr><td>863</td><td>SUN CONFESSIONS</td><td>7</td></tr>",
                            "<tr><td>864</td><td>SUNDANCE INVASION</td><td>6</td></tr>",
                            "<tr><td>865</td><td>SUNRISE LEAGUE</td><td>6</td></tr>",
                            "<tr><td>866</td><td>SUNSET RACER</td><td>2</td></tr>",
                            "<tr><td>867</td><td>SUPER WYOMING</td><td>4</td></tr>",
                            "<tr><td>868</td><td>SUPERFLY TRIP</td><td>3</td></tr>",
                            "<tr><td>869</td><td>SUSPECTS QUILLS</td><td>7</td></tr>",
                            "<tr><td>870</td><td>SWARM GOLD</td><td>8</td></tr>",
                            "<tr><td>871</td><td>SWEDEN SHINING</td><td>5</td></tr>",
                            "<tr><td>872</td><td>SWEET BROTHERHOOD</td><td>3</td></tr>",
                            "<tr><td>873</td><td>SWEETHEARTS SUSPECTS</td><td>8</td></tr>",
                            "<tr><td>875</td><td>TALENTED HOMICIDE</td><td>7</td></tr>",
                            "<tr><td>876</td><td>TARZAN VIDEOTAPE</td><td>2</td></tr>",
                            "<tr><td>877</td><td>TAXI KICK</td><td>5</td></tr>",
                            "<tr><td>878</td><td>TEEN APOLLO</td><td>4</td></tr>",
                            "<tr><td>879</td><td>TELEGRAPH VOYAGE</td><td>7</td></tr>",
                            "<tr><td>880</td><td>TELEMARK HEARTBREAKERS</td><td>8</td></tr>",
                            "<tr><td>881</td><td>TEMPLE ATTRACTION</td><td>4</td></tr>",
                            "<tr><td>882</td><td>TENENBAUMS COMMAND</td><td>4</td></tr>",
                            "<tr><td>883</td><td>TEQUILA PAST</td><td>2</td></tr>",
                            "<tr><td>884</td><td>TERMINATOR CLUB</td><td>3</td></tr>",
                            "<tr><td>885</td><td>TEXAS WATCH</td><td>2</td></tr>",
                            "<tr><td>886</td><td>THEORY MERMAID</td><td>4</td></tr>",
                            "<tr><td>887</td><td>THIEF PELICAN</td><td>6</td></tr>",
                            "<tr><td>888</td><td>THIN SAGEBRUSH</td><td>4</td></tr>",
                            "<tr><td>889</td><td>TIES HUNGER</td><td>3</td></tr>",
                            "<tr><td>890</td><td>TIGHTS DAWN</td><td>7</td></tr>",
                            "<tr><td>891</td><td>TIMBERLAND SKY</td><td>7</td></tr>",
                            "<tr><td>892</td><td>TITANIC BOONDOCK</td><td>7</td></tr>",
                            "<tr><td>893</td><td>TITANS JERK</td><td>8</td></tr>",
                            "<tr><td>894</td><td>TOMATOES HELLFIGHTERS</td><td>5</td></tr>",
                            "<tr><td>895</td><td>TOMORROW HUSTLER</td><td>7</td></tr>",
                            "<tr><td>896</td><td>TOOTSIE PILOT</td><td>4</td></tr>",
                            "<tr><td>897</td><td>TORQUE BOUND</td><td>8</td></tr>",
                            "<tr><td>898</td><td>TOURIST PELICAN</td><td>5</td></tr>",
                            "<tr><td>899</td><td>TOWERS HURRICANE</td><td>3</td></tr>",
                            "<tr><td>900</td><td>TOWN ARK</td><td>4</td></tr>",
                            "<tr><td>901</td><td>TRACY CIDER</td><td>7</td></tr>",
                            "<tr><td>902</td><td>TRADING PINOCCHIO</td><td>7</td></tr>",
                            "<tr><td>903</td><td>TRAFFIC HOBBIT</td><td>2</td></tr>",
                            "<tr><td>904</td><td>TRAIN BUNCH</td><td>2</td></tr>",
                            "<tr><td>905</td><td>TRAINSPOTTING STRANGERS</td><td>3</td></tr>",
                            "<tr><td>906</td><td>TRAMP OTHERS</td><td>5</td></tr>",
                            "<tr><td>907</td><td>TRANSLATION SUMMER</td><td>4</td></tr>",
                            "<tr><td>908</td><td>TRAP GUYS</td><td>4</td></tr>",
                            "<tr><td>910</td><td>TREATMENT JEKYLL</td><td>2</td></tr>",
                            "<tr><td>911</td><td>TRIP NEWTON</td><td>8</td></tr>",
                            "<tr><td>912</td><td>TROJAN TOMORROW</td><td>6</td></tr>",
                            "<tr><td>913</td><td>TROOPERS METAL</td><td>6</td></tr>",
                            "<tr><td>914</td><td>TROUBLE DATE</td><td>6</td></tr>",
                            "<tr><td>915</td><td>TRUMAN CRAZY</td><td>6</td></tr>",
                            "<tr><td>916</td><td>TURN STAR</td><td>4</td></tr>",
                            "<tr><td>917</td><td>TUXEDO MILE</td><td>5</td></tr>",
                            "<tr><td>918</td><td>TWISTED PIRATES</td><td>4</td></tr>",
                            "<tr><td>919</td><td>TYCOON GATHERING</td><td>4</td></tr>",
                            "<tr><td>920</td><td>UNBREAKABLE KARATE</td><td>5</td></tr>",
                            "<tr><td>921</td><td>UNCUT SUICIDES</td><td>4</td></tr>",
                            "<tr><td>922</td><td>UNDEFEATED DALMATIONS</td><td>7</td></tr>",
                            "<tr><td>923</td><td>UNFAITHFUL KILL</td><td>3</td></tr>",
                            "<tr><td>924</td><td>UNFORGIVEN ZOOLANDER</td><td>5</td></tr>",
                            "<tr><td>925</td><td>UNITED PILOT</td><td>5</td></tr>",
                            "<tr><td>926</td><td>UNTOUCHABLES SUNRISE</td><td>2</td></tr>",
                            "<tr><td>927</td><td>UPRISING UPTOWN</td><td>4</td></tr>",
                            "<tr><td>928</td><td>UPTOWN YOUNG</td><td>3</td></tr>",
                            "<tr><td>929</td><td>USUAL UNTOUCHABLES</td><td>4</td></tr>",
                            "<tr><td>930</td><td>VACATION BOONDOCK</td><td>6</td></tr>",
                            "<tr><td>931</td><td>VALENTINE VANISHING</td><td>3</td></tr>",
                            "<tr><td>932</td><td>VALLEY PACKER</td><td>4</td></tr>",
                            "<tr><td>933</td><td>VAMPIRE WHALE</td><td>3</td></tr>",
                            "<tr><td>934</td><td>VANILLA DAY</td><td>3</td></tr>",
                            "<tr><td>935</td><td>VANISHED GARDEN</td><td>2</td></tr>",
                            "<tr><td>936</td><td>VANISHING ROCKY</td><td>6</td></tr>",
                            "<tr><td>937</td><td>VARSITY TRIP</td><td>5</td></tr>",
                            "<tr><td>938</td><td>VELVET TERMINATOR</td><td>6</td></tr>",
                            "<tr><td>939</td><td>VERTIGO NORTHWEST</td><td>4</td></tr>",
                            "<tr><td>940</td><td>VICTORY ACADEMY</td><td>3</td></tr>",
                            "<tr><td>941</td><td>VIDEOTAPE ARSENIC</td><td>7</td></tr>",
                            "<tr><td>942</td><td>VIETNAM SMOOCHY</td><td>4</td></tr>",
                            "<tr><td>944</td><td>VIRGIN DAISY</td><td>5</td></tr>",
                            "<tr><td>945</td><td>VIRGINIAN PLUTO</td><td>8</td></tr>",
                            "<tr><td>946</td><td>VIRTUAL SPOILERS</td><td>4</td></tr>",
                            "<tr><td>947</td><td>VISION TORQUE</td><td>2</td></tr>",
                            "<tr><td>948</td><td>VOICE PEACH</td><td>6</td></tr>",
                            "<tr><td>949</td><td>VOLCANO TEXAS</td><td>6</td></tr>",
                            "<tr><td>951</td><td>VOYAGE LEGALLY</td><td>7</td></tr>",
                            "<tr><td>952</td><td>WAGON JAWS</td><td>3</td></tr>",
                            "<tr><td>953</td><td>WAIT CIDER</td><td>6</td></tr>",
                            "<tr><td>956</td><td>WANDA CHAMBER</td><td>4</td></tr>",
                            "<tr><td>957</td><td>WAR NOTTING</td><td>5</td></tr>",
                            "<tr><td>958</td><td>WARDROBE PHANTOM</td><td>6</td></tr>",
                            "<tr><td>959</td><td>WARLOCK WEREWOLF</td><td>2</td></tr>",
                            "<tr><td>960</td><td>WARS PLUTO</td><td>3</td></tr>",
                            "<tr><td>961</td><td>WASH HEAVENLY</td><td>5</td></tr>",
                            "<tr><td>962</td><td>WASTELAND DIVINE</td><td>4</td></tr>",
                            "<tr><td>963</td><td>WATCH TRACY</td><td>5</td></tr>",
                            "<tr><td>964</td><td>WATERFRONT DELIVERANCE</td><td>5</td></tr>",
                            "<tr><td>965</td><td>WATERSHIP FRONTIER</td><td>2</td></tr>",
                            "<tr><td>966</td><td>WEDDING APOLLO</td><td>6</td></tr>",
                            "<tr><td>967</td><td>WEEKEND PERSONAL</td><td>5</td></tr>",
                            "<tr><td>968</td><td>WEREWOLF LOLA</td><td>3</td></tr>",
                            "<tr><td>969</td><td>WEST LION</td><td>4</td></tr>",
                            "<tr><td>970</td><td>WESTWARD SEABISCUIT</td><td>7</td></tr>",
                            "<tr><td>971</td><td>WHALE BIKINI</td><td>4</td></tr>",
                            "<tr><td>972</td><td>WHISPERER GIANT</td><td>6</td></tr>",
                            "<tr><td>973</td><td>WIFE TURN</td><td>8</td></tr>",
                            "<tr><td>974</td><td>WILD APOLLO</td><td>2</td></tr>",
                            "<tr><td>975</td><td>WILLOW TRACY</td><td>5</td></tr>",
                            "<tr><td>976</td><td>WIND PHANTOM</td><td>6</td></tr>",
                            "<tr><td>977</td><td>WINDOW SIDE</td><td>3</td></tr>",
                            "<tr><td>978</td><td>WISDOM WORKER</td><td>3</td></tr>",
                            "<tr><td>979</td><td>WITCHES PANIC</td><td>7</td></tr>",
                            "<tr><td>980</td><td>WIZARD COLDBLOODED</td><td>5</td></tr>",
                            "<tr><td>981</td><td>WOLVES DESIRE</td><td>6</td></tr>",
                            "<tr><td>982</td><td>WOMEN DORADO</td><td>7</td></tr>",
                            "<tr><td>983</td><td>WON DARES</td><td>3</td></tr>",
                            "<tr><td>984</td><td>WONDERFUL DROP</td><td>2</td></tr>",
                            "<tr><td>985</td><td>WONDERLAND CHRISTMAS</td><td>7</td></tr>",
                            "<tr><td>986</td><td>WONKA SEA</td><td>6</td></tr>",
                            "<tr><td>987</td><td>WORDS HUNTER</td><td>4</td></tr>",
                            "<tr><td>988</td><td>WORKER TARZAN</td><td>5</td></tr>",
                            "<tr><td>989</td><td>WORKING MICROCOSMOS</td><td>6</td></tr>",
                            "<tr><td>990</td><td>WORLD LEATHERNECKS</td><td>2</td></tr>",
                            "<tr><td>991</td><td>WORST BANGER</td><td>5</td></tr>",
                            "<tr><td>992</td><td>WRATH MILE</td><td>4</td></tr>",
                            "<tr><td>993</td><td>WRONG BEHAVIOR</td><td>7</td></tr>",
                            "<tr><td>994</td><td>WYOMING STORM</td><td>3</td></tr>",
                            "<tr><td>995</td><td>YENTL IDAHO</td><td>6</td></tr>",
                            "<tr><td>996</td><td>YOUNG LANGUAGE</td><td>2</td></tr>",
                            "<tr><td>997</td><td>YOUTH KICK</td><td>2</td></tr>",
                            "<tr><td>998</td><td>ZHIVAGO CORE</td><td>2</td></tr>",
                            "<tr><td>999</td><td>ZOOLANDER FICTION</td><td>5</td></tr>",
                            "<tr><td>1000</td><td>ZORRO ARK</td><td>8</td></tr>",
                            "</table>"
                        ]
                    }
                }
            ],
            "execution_count": 2
        },
        {
            "cell_type": "code",
            "source": [
                "SELECT f.film_id, f.title, COUNT(i.inventory_id)  num_copies\r\n",
                "FROM film f\r\n",
                "    LEFT OUTER JOIN inventory i \r\n",
                "    ON f.film_id = i.film_id\r\n",
                "GROUP BY f.film_id, f.title;"
            ],
            "metadata": {
                "azdata_cell_guid": "34a3f88c-1336-4a9e-a5e0-5fa695078263"
            },
            "outputs": [
                {
                    "output_type": "display_data",
                    "data": {
                        "text/html": "(1000 rows affected)"
                    },
                    "metadata": {}
                },
                {
                    "output_type": "display_data",
                    "data": {
                        "text/html": "Total execution time: 00:00:00.026"
                    },
                    "metadata": {}
                },
                {
                    "output_type": "execute_result",
                    "metadata": {},
                    "execution_count": 4,
                    "data": {
                        "application/vnd.dataresource+json": {
                            "schema": {
                                "fields": [
                                    {
                                        "name": "film_id"
                                    },
                                    {
                                        "name": "title"
                                    },
                                    {
                                        "name": "num_copies"
                                    }
                                ]
                            },
                            "data": [
                                {
                                    "0": "1",
                                    "1": "ACADEMY DINOSAUR",
                                    "2": "8"
                                },
                                {
                                    "0": "2",
                                    "1": "ACE GOLDFINGER",
                                    "2": "3"
                                },
                                {
                                    "0": "3",
                                    "1": "ADAPTATION HOLES",
                                    "2": "4"
                                },
                                {
                                    "0": "4",
                                    "1": "AFFAIR PREJUDICE",
                                    "2": "7"
                                },
                                {
                                    "0": "5",
                                    "1": "AFRICAN EGG",
                                    "2": "3"
                                },
                                {
                                    "0": "6",
                                    "1": "AGENT TRUMAN",
                                    "2": "6"
                                },
                                {
                                    "0": "7",
                                    "1": "AIRPLANE SIERRA",
                                    "2": "5"
                                },
                                {
                                    "0": "8",
                                    "1": "AIRPORT POLLOCK",
                                    "2": "4"
                                },
                                {
                                    "0": "9",
                                    "1": "ALABAMA DEVIL",
                                    "2": "5"
                                },
                                {
                                    "0": "10",
                                    "1": "ALADDIN CALENDAR",
                                    "2": "7"
                                },
                                {
                                    "0": "11",
                                    "1": "ALAMO VIDEOTAPE",
                                    "2": "7"
                                },
                                {
                                    "0": "12",
                                    "1": "ALASKA PHANTOM",
                                    "2": "7"
                                },
                                {
                                    "0": "13",
                                    "1": "ALI FOREVER",
                                    "2": "4"
                                },
                                {
                                    "0": "14",
                                    "1": "ALICE FANTASIA",
                                    "2": "0"
                                },
                                {
                                    "0": "15",
                                    "1": "ALIEN CENTER",
                                    "2": "6"
                                },
                                {
                                    "0": "16",
                                    "1": "ALLEY EVOLUTION",
                                    "2": "4"
                                },
                                {
                                    "0": "17",
                                    "1": "ALONE TRIP",
                                    "2": "6"
                                },
                                {
                                    "0": "18",
                                    "1": "ALTER VICTORY",
                                    "2": "6"
                                },
                                {
                                    "0": "19",
                                    "1": "AMADEUS HOLY",
                                    "2": "6"
                                },
                                {
                                    "0": "20",
                                    "1": "AMELIE HELLFIGHTERS",
                                    "2": "3"
                                },
                                {
                                    "0": "21",
                                    "1": "AMERICAN CIRCUS",
                                    "2": "6"
                                },
                                {
                                    "0": "22",
                                    "1": "AMISTAD MIDSUMMER",
                                    "2": "7"
                                },
                                {
                                    "0": "23",
                                    "1": "ANACONDA CONFESSIONS",
                                    "2": "5"
                                },
                                {
                                    "0": "24",
                                    "1": "ANALYZE HOOSIERS",
                                    "2": "4"
                                },
                                {
                                    "0": "25",
                                    "1": "ANGELS LIFE",
                                    "2": "6"
                                },
                                {
                                    "0": "26",
                                    "1": "ANNIE IDENTITY",
                                    "2": "5"
                                },
                                {
                                    "0": "27",
                                    "1": "ANONYMOUS HUMAN",
                                    "2": "4"
                                },
                                {
                                    "0": "28",
                                    "1": "ANTHEM LUKE",
                                    "2": "3"
                                },
                                {
                                    "0": "29",
                                    "1": "ANTITRUST TOMATOES",
                                    "2": "2"
                                },
                                {
                                    "0": "30",
                                    "1": "ANYTHING SAVANNAH",
                                    "2": "2"
                                },
                                {
                                    "0": "31",
                                    "1": "APACHE DIVINE",
                                    "2": "8"
                                },
                                {
                                    "0": "32",
                                    "1": "APOCALYPSE FLAMINGOS",
                                    "2": "2"
                                },
                                {
                                    "0": "33",
                                    "1": "APOLLO TEEN",
                                    "2": "0"
                                },
                                {
                                    "0": "34",
                                    "1": "ARABIA DOGMA",
                                    "2": "4"
                                },
                                {
                                    "0": "35",
                                    "1": "ARACHNOPHOBIA ROLLERCOASTER",
                                    "2": "7"
                                },
                                {
                                    "0": "36",
                                    "1": "ARGONAUTS TOWN",
                                    "2": "0"
                                },
                                {
                                    "0": "37",
                                    "1": "ARIZONA BANG",
                                    "2": "7"
                                },
                                {
                                    "0": "38",
                                    "1": "ARK RIDGEMONT",
                                    "2": "0"
                                },
                                {
                                    "0": "39",
                                    "1": "ARMAGEDDON LOST",
                                    "2": "7"
                                },
                                {
                                    "0": "40",
                                    "1": "ARMY FLINTSTONES",
                                    "2": "4"
                                },
                                {
                                    "0": "41",
                                    "1": "ARSENIC INDEPENDENCE",
                                    "2": "0"
                                },
                                {
                                    "0": "42",
                                    "1": "ARTIST COLDBLOODED",
                                    "2": "4"
                                },
                                {
                                    "0": "43",
                                    "1": "ATLANTIS CAUSE",
                                    "2": "7"
                                },
                                {
                                    "0": "44",
                                    "1": "ATTACKS HATE",
                                    "2": "5"
                                },
                                {
                                    "0": "45",
                                    "1": "ATTRACTION NEWTON",
                                    "2": "6"
                                },
                                {
                                    "0": "46",
                                    "1": "AUTUMN CROW",
                                    "2": "3"
                                },
                                {
                                    "0": "47",
                                    "1": "BABY HALL",
                                    "2": "2"
                                },
                                {
                                    "0": "48",
                                    "1": "BACKLASH UNDEFEATED",
                                    "2": "4"
                                },
                                {
                                    "0": "49",
                                    "1": "BADMAN DAWN",
                                    "2": "6"
                                },
                                {
                                    "0": "50",
                                    "1": "BAKED CLEOPATRA",
                                    "2": "5"
                                },
                                {
                                    "0": "51",
                                    "1": "BALLOON HOMEWARD",
                                    "2": "6"
                                },
                                {
                                    "0": "52",
                                    "1": "BALLROOM MOCKINGBIRD",
                                    "2": "2"
                                },
                                {
                                    "0": "53",
                                    "1": "BANG KWAI",
                                    "2": "2"
                                },
                                {
                                    "0": "54",
                                    "1": "BANGER PINOCCHIO",
                                    "2": "5"
                                },
                                {
                                    "0": "55",
                                    "1": "BARBARELLA STREETCAR",
                                    "2": "6"
                                },
                                {
                                    "0": "56",
                                    "1": "BAREFOOT MANCHURIAN",
                                    "2": "5"
                                },
                                {
                                    "0": "57",
                                    "1": "BASIC EASY",
                                    "2": "7"
                                },
                                {
                                    "0": "58",
                                    "1": "BEACH HEARTBREAKERS",
                                    "2": "4"
                                },
                                {
                                    "0": "59",
                                    "1": "BEAR GRACELAND",
                                    "2": "5"
                                },
                                {
                                    "0": "60",
                                    "1": "BEAST HUNCHBACK",
                                    "2": "3"
                                },
                                {
                                    "0": "61",
                                    "1": "BEAUTY GREASE",
                                    "2": "6"
                                },
                                {
                                    "0": "62",
                                    "1": "BED HIGHBALL",
                                    "2": "2"
                                },
                                {
                                    "0": "63",
                                    "1": "BEDAZZLED MARRIED",
                                    "2": "4"
                                },
                                {
                                    "0": "64",
                                    "1": "BEETHOVEN EXORCIST",
                                    "2": "3"
                                },
                                {
                                    "0": "65",
                                    "1": "BEHAVIOR RUNAWAY",
                                    "2": "4"
                                },
                                {
                                    "0": "66",
                                    "1": "BENEATH RUSH",
                                    "2": "3"
                                },
                                {
                                    "0": "67",
                                    "1": "BERETS AGENT",
                                    "2": "6"
                                },
                                {
                                    "0": "68",
                                    "1": "BETRAYED REAR",
                                    "2": "4"
                                },
                                {
                                    "0": "69",
                                    "1": "BEVERLY OUTLAW",
                                    "2": "8"
                                },
                                {
                                    "0": "70",
                                    "1": "BIKINI BORROWERS",
                                    "2": "4"
                                },
                                {
                                    "0": "71",
                                    "1": "BILKO ANONYMOUS",
                                    "2": "4"
                                },
                                {
                                    "0": "72",
                                    "1": "BILL OTHERS",
                                    "2": "6"
                                },
                                {
                                    "0": "73",
                                    "1": "BINGO TALENTED",
                                    "2": "8"
                                },
                                {
                                    "0": "74",
                                    "1": "BIRCH ANTITRUST",
                                    "2": "5"
                                },
                                {
                                    "0": "75",
                                    "1": "BIRD INDEPENDENCE",
                                    "2": "3"
                                },
                                {
                                    "0": "76",
                                    "1": "BIRDCAGE CASPER",
                                    "2": "3"
                                },
                                {
                                    "0": "77",
                                    "1": "BIRDS PERDITION",
                                    "2": "6"
                                },
                                {
                                    "0": "78",
                                    "1": "BLACKOUT PRIVATE",
                                    "2": "7"
                                },
                                {
                                    "0": "79",
                                    "1": "BLADE POLISH",
                                    "2": "6"
                                },
                                {
                                    "0": "80",
                                    "1": "BLANKET BEVERLY",
                                    "2": "4"
                                },
                                {
                                    "0": "81",
                                    "1": "BLINDNESS GUN",
                                    "2": "4"
                                },
                                {
                                    "0": "82",
                                    "1": "BLOOD ARGONAUTS",
                                    "2": "2"
                                },
                                {
                                    "0": "83",
                                    "1": "BLUES INSTINCT",
                                    "2": "5"
                                },
                                {
                                    "0": "84",
                                    "1": "BOILED DARES",
                                    "2": "4"
                                },
                                {
                                    "0": "85",
                                    "1": "BONNIE HOLOCAUST",
                                    "2": "4"
                                },
                                {
                                    "0": "86",
                                    "1": "BOOGIE AMELIE",
                                    "2": "8"
                                },
                                {
                                    "0": "87",
                                    "1": "BOONDOCK BALLROOM",
                                    "2": "0"
                                },
                                {
                                    "0": "88",
                                    "1": "BORN SPINAL",
                                    "2": "4"
                                },
                                {
                                    "0": "89",
                                    "1": "BORROWERS BEDAZZLED",
                                    "2": "6"
                                },
                                {
                                    "0": "90",
                                    "1": "BOULEVARD MOB",
                                    "2": "6"
                                },
                                {
                                    "0": "91",
                                    "1": "BOUND CHEAPER",
                                    "2": "8"
                                },
                                {
                                    "0": "92",
                                    "1": "BOWFINGER GABLES",
                                    "2": "4"
                                },
                                {
                                    "0": "93",
                                    "1": "BRANNIGAN SUNRISE",
                                    "2": "3"
                                },
                                {
                                    "0": "94",
                                    "1": "BRAVEHEART HUMAN",
                                    "2": "2"
                                },
                                {
                                    "0": "95",
                                    "1": "BREAKFAST GOLDFINGER",
                                    "2": "5"
                                },
                                {
                                    "0": "96",
                                    "1": "BREAKING HOME",
                                    "2": "3"
                                },
                                {
                                    "0": "97",
                                    "1": "BRIDE INTRIGUE",
                                    "2": "6"
                                },
                                {
                                    "0": "98",
                                    "1": "BRIGHT ENCOUNTERS",
                                    "2": "3"
                                },
                                {
                                    "0": "99",
                                    "1": "BRINGING HYSTERICAL",
                                    "2": "6"
                                },
                                {
                                    "0": "100",
                                    "1": "BROOKLYN DESERT",
                                    "2": "6"
                                },
                                {
                                    "0": "101",
                                    "1": "BROTHERHOOD BLANKET",
                                    "2": "6"
                                },
                                {
                                    "0": "102",
                                    "1": "BUBBLE GROSSE",
                                    "2": "2"
                                },
                                {
                                    "0": "103",
                                    "1": "BUCKET BROTHERHOOD",
                                    "2": "8"
                                },
                                {
                                    "0": "104",
                                    "1": "BUGSY SONG",
                                    "2": "3"
                                },
                                {
                                    "0": "105",
                                    "1": "BULL SHAWSHANK",
                                    "2": "5"
                                },
                                {
                                    "0": "106",
                                    "1": "BULWORTH COMMANDMENTS",
                                    "2": "2"
                                },
                                {
                                    "0": "107",
                                    "1": "BUNCH MINDS",
                                    "2": "2"
                                },
                                {
                                    "0": "108",
                                    "1": "BUTCH PANTHER",
                                    "2": "0"
                                },
                                {
                                    "0": "109",
                                    "1": "BUTTERFLY CHOCOLAT",
                                    "2": "8"
                                },
                                {
                                    "0": "110",
                                    "1": "CABIN FLASH",
                                    "2": "4"
                                },
                                {
                                    "0": "111",
                                    "1": "CADDYSHACK JEDI",
                                    "2": "4"
                                },
                                {
                                    "0": "112",
                                    "1": "CALENDAR GUNFIGHT",
                                    "2": "7"
                                },
                                {
                                    "0": "113",
                                    "1": "CALIFORNIA BIRDS",
                                    "2": "4"
                                },
                                {
                                    "0": "114",
                                    "1": "CAMELOT VACATION",
                                    "2": "7"
                                },
                                {
                                    "0": "115",
                                    "1": "CAMPUS REMEMBER",
                                    "2": "7"
                                },
                                {
                                    "0": "116",
                                    "1": "CANDIDATE PERDITION",
                                    "2": "6"
                                },
                                {
                                    "0": "117",
                                    "1": "CANDLES GRAPES",
                                    "2": "6"
                                },
                                {
                                    "0": "118",
                                    "1": "CANYON STOCK",
                                    "2": "6"
                                },
                                {
                                    "0": "119",
                                    "1": "CAPER MOTIONS",
                                    "2": "7"
                                },
                                {
                                    "0": "120",
                                    "1": "CARIBBEAN LIBERTY",
                                    "2": "3"
                                },
                                {
                                    "0": "121",
                                    "1": "CAROL TEXAS",
                                    "2": "6"
                                },
                                {
                                    "0": "122",
                                    "1": "CARRIE BUNCH",
                                    "2": "7"
                                },
                                {
                                    "0": "123",
                                    "1": "CASABLANCA SUPER",
                                    "2": "5"
                                },
                                {
                                    "0": "124",
                                    "1": "CASPER DRAGONFLY",
                                    "2": "3"
                                },
                                {
                                    "0": "125",
                                    "1": "CASSIDY WYOMING",
                                    "2": "2"
                                },
                                {
                                    "0": "126",
                                    "1": "CASUALTIES ENCINO",
                                    "2": "3"
                                },
                                {
                                    "0": "127",
                                    "1": "CAT CONEHEADS",
                                    "2": "8"
                                },
                                {
                                    "0": "128",
                                    "1": "CATCH AMISTAD",
                                    "2": "0"
                                },
                                {
                                    "0": "129",
                                    "1": "CAUSE DATE",
                                    "2": "6"
                                },
                                {
                                    "0": "130",
                                    "1": "CELEBRITY HORN",
                                    "2": "6"
                                },
                                {
                                    "0": "131",
                                    "1": "CENTER DINOSAUR",
                                    "2": "6"
                                },
                                {
                                    "0": "132",
                                    "1": "CHAINSAW UPTOWN",
                                    "2": "6"
                                },
                                {
                                    "0": "133",
                                    "1": "CHAMBER ITALIAN",
                                    "2": "4"
                                },
                                {
                                    "0": "134",
                                    "1": "CHAMPION FLATLINERS",
                                    "2": "3"
                                },
                                {
                                    "0": "135",
                                    "1": "CHANCE RESURRECTION",
                                    "2": "7"
                                },
                                {
                                    "0": "136",
                                    "1": "CHAPLIN LICENSE",
                                    "2": "3"
                                },
                                {
                                    "0": "137",
                                    "1": "CHARADE DUFFEL",
                                    "2": "4"
                                },
                                {
                                    "0": "138",
                                    "1": "CHARIOTS CONSPIRACY",
                                    "2": "5"
                                },
                                {
                                    "0": "139",
                                    "1": "CHASING FIGHT",
                                    "2": "6"
                                },
                                {
                                    "0": "140",
                                    "1": "CHEAPER CLYDE",
                                    "2": "5"
                                },
                                {
                                    "0": "141",
                                    "1": "CHICAGO NORTH",
                                    "2": "5"
                                },
                                {
                                    "0": "142",
                                    "1": "CHICKEN HELLFIGHTERS",
                                    "2": "5"
                                },
                                {
                                    "0": "143",
                                    "1": "CHILL LUCK",
                                    "2": "7"
                                },
                                {
                                    "0": "144",
                                    "1": "CHINATOWN GLADIATOR",
                                    "2": "0"
                                },
                                {
                                    "0": "145",
                                    "1": "CHISUM BEHAVIOR",
                                    "2": "3"
                                },
                                {
                                    "0": "146",
                                    "1": "CHITTY LOCK",
                                    "2": "3"
                                },
                                {
                                    "0": "147",
                                    "1": "CHOCOLAT HARRY",
                                    "2": "6"
                                },
                                {
                                    "0": "148",
                                    "1": "CHOCOLATE DUCK",
                                    "2": "0"
                                },
                                {
                                    "0": "149",
                                    "1": "CHRISTMAS MOONSHINE",
                                    "2": "6"
                                },
                                {
                                    "0": "150",
                                    "1": "CIDER DESIRE",
                                    "2": "6"
                                },
                                {
                                    "0": "151",
                                    "1": "CINCINATTI WHISPERER",
                                    "2": "4"
                                },
                                {
                                    "0": "152",
                                    "1": "CIRCUS YOUTH",
                                    "2": "4"
                                },
                                {
                                    "0": "153",
                                    "1": "CITIZEN SHREK",
                                    "2": "4"
                                },
                                {
                                    "0": "154",
                                    "1": "CLASH FREDDY",
                                    "2": "7"
                                },
                                {
                                    "0": "155",
                                    "1": "CLEOPATRA DEVIL",
                                    "2": "5"
                                },
                                {
                                    "0": "156",
                                    "1": "CLERKS ANGELS",
                                    "2": "2"
                                },
                                {
                                    "0": "157",
                                    "1": "CLOCKWORK PARADISE",
                                    "2": "3"
                                },
                                {
                                    "0": "158",
                                    "1": "CLONES PINOCCHIO",
                                    "2": "5"
                                },
                                {
                                    "0": "159",
                                    "1": "CLOSER BANG",
                                    "2": "7"
                                },
                                {
                                    "0": "160",
                                    "1": "CLUB GRAFFITI",
                                    "2": "5"
                                },
                                {
                                    "0": "161",
                                    "1": "CLUE GRAIL",
                                    "2": "2"
                                },
                                {
                                    "0": "162",
                                    "1": "CLUELESS BUCKET",
                                    "2": "7"
                                },
                                {
                                    "0": "163",
                                    "1": "CLYDE THEORY",
                                    "2": "3"
                                },
                                {
                                    "0": "164",
                                    "1": "COAST RAINBOW",
                                    "2": "5"
                                },
                                {
                                    "0": "165",
                                    "1": "COLDBLOODED DARLING",
                                    "2": "5"
                                },
                                {
                                    "0": "166",
                                    "1": "COLOR PHILADELPHIA",
                                    "2": "6"
                                },
                                {
                                    "0": "167",
                                    "1": "COMA HEAD",
                                    "2": "7"
                                },
                                {
                                    "0": "168",
                                    "1": "COMANCHEROS ENEMY",
                                    "2": "2"
                                },
                                {
                                    "0": "169",
                                    "1": "COMFORTS RUSH",
                                    "2": "4"
                                },
                                {
                                    "0": "170",
                                    "1": "COMMAND DARLING",
                                    "2": "6"
                                },
                                {
                                    "0": "171",
                                    "1": "COMMANDMENTS EXPRESS",
                                    "2": "0"
                                },
                                {
                                    "0": "172",
                                    "1": "CONEHEADS SMOOCHY",
                                    "2": "7"
                                },
                                {
                                    "0": "173",
                                    "1": "CONFESSIONS MAGUIRE",
                                    "2": "5"
                                },
                                {
                                    "0": "174",
                                    "1": "CONFIDENTIAL INTERVIEW",
                                    "2": "8"
                                },
                                {
                                    "0": "175",
                                    "1": "CONFUSED CANDLES",
                                    "2": "5"
                                },
                                {
                                    "0": "176",
                                    "1": "CONGENIALITY QUEST",
                                    "2": "6"
                                },
                                {
                                    "0": "177",
                                    "1": "CONNECTICUT TRAMP",
                                    "2": "3"
                                },
                                {
                                    "0": "178",
                                    "1": "CONNECTION MICROCOSMOS",
                                    "2": "2"
                                },
                                {
                                    "0": "179",
                                    "1": "CONQUERER NUTS",
                                    "2": "4"
                                },
                                {
                                    "0": "180",
                                    "1": "CONSPIRACY SPIRIT",
                                    "2": "2"
                                },
                                {
                                    "0": "181",
                                    "1": "CONTACT ANONYMOUS",
                                    "2": "7"
                                },
                                {
                                    "0": "182",
                                    "1": "CONTROL ANTHEM",
                                    "2": "2"
                                },
                                {
                                    "0": "183",
                                    "1": "CONVERSATION DOWNHILL",
                                    "2": "6"
                                },
                                {
                                    "0": "184",
                                    "1": "CORE SUIT",
                                    "2": "5"
                                },
                                {
                                    "0": "185",
                                    "1": "COWBOY DOOM",
                                    "2": "2"
                                },
                                {
                                    "0": "186",
                                    "1": "CRAFT OUTFIELD",
                                    "2": "4"
                                },
                                {
                                    "0": "187",
                                    "1": "CRANES RESERVOIR",
                                    "2": "3"
                                },
                                {
                                    "0": "188",
                                    "1": "CRAZY HOME",
                                    "2": "3"
                                },
                                {
                                    "0": "189",
                                    "1": "CREATURES SHAKESPEARE",
                                    "2": "6"
                                },
                                {
                                    "0": "190",
                                    "1": "CREEPERS KANE",
                                    "2": "4"
                                },
                                {
                                    "0": "191",
                                    "1": "CROOKED FROGMEN",
                                    "2": "6"
                                },
                                {
                                    "0": "192",
                                    "1": "CROSSING DIVORCE",
                                    "2": "0"
                                },
                                {
                                    "0": "193",
                                    "1": "CROSSROADS CASUALTIES",
                                    "2": "8"
                                },
                                {
                                    "0": "194",
                                    "1": "CROW GREASE",
                                    "2": "4"
                                },
                                {
                                    "0": "195",
                                    "1": "CROWDS TELEMARK",
                                    "2": "0"
                                },
                                {
                                    "0": "196",
                                    "1": "CRUELTY UNFORGIVEN",
                                    "2": "2"
                                },
                                {
                                    "0": "197",
                                    "1": "CRUSADE HONEY",
                                    "2": "2"
                                },
                                {
                                    "0": "198",
                                    "1": "CRYSTAL BREAKING",
                                    "2": "0"
                                },
                                {
                                    "0": "199",
                                    "1": "CUPBOARD SINNERS",
                                    "2": "8"
                                },
                                {
                                    "0": "200",
                                    "1": "CURTAIN VIDEOTAPE",
                                    "2": "8"
                                },
                                {
                                    "0": "201",
                                    "1": "CYCLONE FAMILY",
                                    "2": "4"
                                },
                                {
                                    "0": "202",
                                    "1": "DADDY PITTSBURGH",
                                    "2": "3"
                                },
                                {
                                    "0": "203",
                                    "1": "DAISY MENAGERIE",
                                    "2": "4"
                                },
                                {
                                    "0": "204",
                                    "1": "DALMATIONS SWEDEN",
                                    "2": "6"
                                },
                                {
                                    "0": "205",
                                    "1": "DANCES NONE",
                                    "2": "4"
                                },
                                {
                                    "0": "206",
                                    "1": "DANCING FEVER",
                                    "2": "8"
                                },
                                {
                                    "0": "207",
                                    "1": "DANGEROUS UPTOWN",
                                    "2": "4"
                                },
                                {
                                    "0": "208",
                                    "1": "DARES PLUTO",
                                    "2": "3"
                                },
                                {
                                    "0": "209",
                                    "1": "DARKNESS WAR",
                                    "2": "4"
                                },
                                {
                                    "0": "210",
                                    "1": "DARKO DORADO",
                                    "2": "3"
                                },
                                {
                                    "0": "211",
                                    "1": "DARLING BREAKING",
                                    "2": "2"
                                },
                                {
                                    "0": "212",
                                    "1": "DARN FORRESTER",
                                    "2": "5"
                                },
                                {
                                    "0": "213",
                                    "1": "DATE SPEED",
                                    "2": "4"
                                },
                                {
                                    "0": "214",
                                    "1": "DAUGHTER MADIGAN",
                                    "2": "4"
                                },
                                {
                                    "0": "215",
                                    "1": "DAWN POND",
                                    "2": "6"
                                },
                                {
                                    "0": "216",
                                    "1": "DAY UNFAITHFUL",
                                    "2": "5"
                                },
                                {
                                    "0": "217",
                                    "1": "DAZED PUNK",
                                    "2": "0"
                                },
                                {
                                    "0": "218",
                                    "1": "DECEIVER BETRAYED",
                                    "2": "7"
                                },
                                {
                                    "0": "219",
                                    "1": "DEEP CRUSADE",
                                    "2": "4"
                                },
                                {
                                    "0": "220",
                                    "1": "DEER VIRGINIAN",
                                    "2": "8"
                                },
                                {
                                    "0": "221",
                                    "1": "DELIVERANCE MULHOLLAND",
                                    "2": "0"
                                },
                                {
                                    "0": "222",
                                    "1": "DESERT POSEIDON",
                                    "2": "6"
                                },
                                {
                                    "0": "223",
                                    "1": "DESIRE ALIEN",
                                    "2": "2"
                                },
                                {
                                    "0": "224",
                                    "1": "DESPERATE TRAINSPOTTING",
                                    "2": "2"
                                },
                                {
                                    "0": "225",
                                    "1": "DESTINATION JERK",
                                    "2": "3"
                                },
                                {
                                    "0": "226",
                                    "1": "DESTINY SATURDAY",
                                    "2": "5"
                                },
                                {
                                    "0": "227",
                                    "1": "DETAILS PACKER",
                                    "2": "5"
                                },
                                {
                                    "0": "228",
                                    "1": "DETECTIVE VISION",
                                    "2": "7"
                                },
                                {
                                    "0": "229",
                                    "1": "DEVIL DESIRE",
                                    "2": "4"
                                },
                                {
                                    "0": "230",
                                    "1": "DIARY PANIC",
                                    "2": "2"
                                },
                                {
                                    "0": "231",
                                    "1": "DINOSAUR SECRETARY",
                                    "2": "8"
                                },
                                {
                                    "0": "232",
                                    "1": "DIRTY ACE",
                                    "2": "5"
                                },
                                {
                                    "0": "233",
                                    "1": "DISCIPLE MOTHER",
                                    "2": "6"
                                },
                                {
                                    "0": "234",
                                    "1": "DISTURBING SCARFACE",
                                    "2": "7"
                                },
                                {
                                    "0": "235",
                                    "1": "DIVIDE MONSTER",
                                    "2": "6"
                                },
                                {
                                    "0": "236",
                                    "1": "DIVINE RESURRECTION",
                                    "2": "4"
                                },
                                {
                                    "0": "237",
                                    "1": "DIVORCE SHINING",
                                    "2": "2"
                                },
                                {
                                    "0": "238",
                                    "1": "DOCTOR GRAIL",
                                    "2": "2"
                                },
                                {
                                    "0": "239",
                                    "1": "DOGMA FAMILY",
                                    "2": "8"
                                },
                                {
                                    "0": "240",
                                    "1": "DOLLS RAGE",
                                    "2": "3"
                                },
                                {
                                    "0": "241",
                                    "1": "DONNIE ALLEY",
                                    "2": "4"
                                },
                                {
                                    "0": "242",
                                    "1": "DOOM DANCING",
                                    "2": "5"
                                },
                                {
                                    "0": "243",
                                    "1": "DOORS PRESIDENT",
                                    "2": "6"
                                },
                                {
                                    "0": "244",
                                    "1": "DORADO NOTTING",
                                    "2": "7"
                                },
                                {
                                    "0": "245",
                                    "1": "DOUBLE WRATH",
                                    "2": "7"
                                },
                                {
                                    "0": "246",
                                    "1": "DOUBTFIRE LABYRINTH",
                                    "2": "3"
                                },
                                {
                                    "0": "247",
                                    "1": "DOWNHILL ENOUGH",
                                    "2": "7"
                                },
                                {
                                    "0": "248",
                                    "1": "DOZEN LION",
                                    "2": "2"
                                },
                                {
                                    "0": "249",
                                    "1": "DRACULA CRYSTAL",
                                    "2": "6"
                                },
                                {
                                    "0": "250",
                                    "1": "DRAGON SQUAD",
                                    "2": "4"
                                },
                                {
                                    "0": "251",
                                    "1": "DRAGONFLY STRANGERS",
                                    "2": "5"
                                },
                                {
                                    "0": "252",
                                    "1": "DREAM PICKUP",
                                    "2": "6"
                                },
                                {
                                    "0": "253",
                                    "1": "DRIFTER COMMANDMENTS",
                                    "2": "6"
                                },
                                {
                                    "0": "254",
                                    "1": "DRIVER ANNIE",
                                    "2": "5"
                                },
                                {
                                    "0": "255",
                                    "1": "DRIVING POLISH",
                                    "2": "6"
                                },
                                {
                                    "0": "256",
                                    "1": "DROP WATERFRONT",
                                    "2": "3"
                                },
                                {
                                    "0": "257",
                                    "1": "DRUMLINE CYCLONE",
                                    "2": "3"
                                },
                                {
                                    "0": "258",
                                    "1": "DRUMS DYNAMITE",
                                    "2": "4"
                                },
                                {
                                    "0": "259",
                                    "1": "DUCK RACER",
                                    "2": "2"
                                },
                                {
                                    "0": "260",
                                    "1": "DUDE BLINDNESS",
                                    "2": "4"
                                },
                                {
                                    "0": "261",
                                    "1": "DUFFEL APOCALYPSE",
                                    "2": "2"
                                },
                                {
                                    "0": "262",
                                    "1": "DUMBO LUST",
                                    "2": "2"
                                },
                                {
                                    "0": "263",
                                    "1": "DURHAM PANKY",
                                    "2": "7"
                                },
                                {
                                    "0": "264",
                                    "1": "DWARFS ALTER",
                                    "2": "2"
                                },
                                {
                                    "0": "265",
                                    "1": "DYING MAKER",
                                    "2": "4"
                                },
                                {
                                    "0": "266",
                                    "1": "DYNAMITE TARZAN",
                                    "2": "8"
                                },
                                {
                                    "0": "267",
                                    "1": "EAGLES PANKY",
                                    "2": "6"
                                },
                                {
                                    "0": "268",
                                    "1": "EARLY HOME",
                                    "2": "2"
                                },
                                {
                                    "0": "269",
                                    "1": "EARRING INSTINCT",
                                    "2": "6"
                                },
                                {
                                    "0": "270",
                                    "1": "EARTH VISION",
                                    "2": "7"
                                },
                                {
                                    "0": "271",
                                    "1": "EASY GLADIATOR",
                                    "2": "5"
                                },
                                {
                                    "0": "272",
                                    "1": "EDGE KISSING",
                                    "2": "4"
                                },
                                {
                                    "0": "273",
                                    "1": "EFFECT GLADIATOR",
                                    "2": "7"
                                },
                                {
                                    "0": "274",
                                    "1": "EGG IGBY",
                                    "2": "7"
                                },
                                {
                                    "0": "275",
                                    "1": "EGYPT TENENBAUMS",
                                    "2": "5"
                                },
                                {
                                    "0": "276",
                                    "1": "ELEMENT FREDDY",
                                    "2": "4"
                                },
                                {
                                    "0": "277",
                                    "1": "ELEPHANT TROJAN",
                                    "2": "3"
                                },
                                {
                                    "0": "278",
                                    "1": "ELF MURDER",
                                    "2": "2"
                                },
                                {
                                    "0": "279",
                                    "1": "ELIZABETH SHANE",
                                    "2": "2"
                                },
                                {
                                    "0": "280",
                                    "1": "EMPIRE MALKOVICH",
                                    "2": "6"
                                },
                                {
                                    "0": "281",
                                    "1": "ENCINO ELF",
                                    "2": "6"
                                },
                                {
                                    "0": "282",
                                    "1": "ENCOUNTERS CURTAIN",
                                    "2": "6"
                                },
                                {
                                    "0": "283",
                                    "1": "ENDING CROWDS",
                                    "2": "3"
                                },
                                {
                                    "0": "284",
                                    "1": "ENEMY ODDS",
                                    "2": "7"
                                },
                                {
                                    "0": "285",
                                    "1": "ENGLISH BULWORTH",
                                    "2": "7"
                                },
                                {
                                    "0": "286",
                                    "1": "ENOUGH RAGING",
                                    "2": "5"
                                },
                                {
                                    "0": "287",
                                    "1": "ENTRAPMENT SATISFACTION",
                                    "2": "4"
                                },
                                {
                                    "0": "288",
                                    "1": "ESCAPE METROPOLIS",
                                    "2": "6"
                                },
                                {
                                    "0": "289",
                                    "1": "EVE RESURRECTION",
                                    "2": "2"
                                },
                                {
                                    "0": "290",
                                    "1": "EVERYONE CRAFT",
                                    "2": "3"
                                },
                                {
                                    "0": "291",
                                    "1": "EVOLUTION ALTER",
                                    "2": "4"
                                },
                                {
                                    "0": "292",
                                    "1": "EXCITEMENT EVE",
                                    "2": "6"
                                },
                                {
                                    "0": "293",
                                    "1": "EXORCIST STING",
                                    "2": "5"
                                },
                                {
                                    "0": "294",
                                    "1": "EXPECATIONS NATURAL",
                                    "2": "5"
                                },
                                {
                                    "0": "295",
                                    "1": "EXPENDABLE STALLION",
                                    "2": "8"
                                },
                                {
                                    "0": "296",
                                    "1": "EXPRESS LONELY",
                                    "2": "4"
                                },
                                {
                                    "0": "297",
                                    "1": "EXTRAORDINARY CONQUERER",
                                    "2": "2"
                                },
                                {
                                    "0": "298",
                                    "1": "EYES DRIVING",
                                    "2": "5"
                                },
                                {
                                    "0": "299",
                                    "1": "FACTORY DRAGON",
                                    "2": "4"
                                },
                                {
                                    "0": "300",
                                    "1": "FALCON VOLUME",
                                    "2": "6"
                                },
                                {
                                    "0": "301",
                                    "1": "FAMILY SWEET",
                                    "2": "8"
                                },
                                {
                                    "0": "302",
                                    "1": "FANTASIA PARK",
                                    "2": "6"
                                },
                                {
                                    "0": "303",
                                    "1": "FANTASY TROOPERS",
                                    "2": "6"
                                },
                                {
                                    "0": "304",
                                    "1": "FARGO GANDHI",
                                    "2": "6"
                                },
                                {
                                    "0": "305",
                                    "1": "FATAL HAUNTED",
                                    "2": "7"
                                },
                                {
                                    "0": "306",
                                    "1": "FEATHERS METAL",
                                    "2": "3"
                                },
                                {
                                    "0": "307",
                                    "1": "FELLOWSHIP AUTUMN",
                                    "2": "6"
                                },
                                {
                                    "0": "308",
                                    "1": "FERRIS MOTHER",
                                    "2": "4"
                                },
                                {
                                    "0": "309",
                                    "1": "FEUD FROGMEN",
                                    "2": "6"
                                },
                                {
                                    "0": "310",
                                    "1": "FEVER EMPIRE",
                                    "2": "2"
                                },
                                {
                                    "0": "311",
                                    "1": "FICTION CHRISTMAS",
                                    "2": "7"
                                },
                                {
                                    "0": "312",
                                    "1": "FIDDLER LOST",
                                    "2": "3"
                                },
                                {
                                    "0": "313",
                                    "1": "FIDELITY DEVIL",
                                    "2": "6"
                                },
                                {
                                    "0": "314",
                                    "1": "FIGHT JAWBREAKER",
                                    "2": "6"
                                },
                                {
                                    "0": "315",
                                    "1": "FINDING ANACONDA",
                                    "2": "3"
                                },
                                {
                                    "0": "316",
                                    "1": "FIRE WOLVES",
                                    "2": "2"
                                },
                                {
                                    "0": "317",
                                    "1": "FIREBALL PHILADELPHIA",
                                    "2": "7"
                                },
                                {
                                    "0": "318",
                                    "1": "FIREHOUSE VIETNAM",
                                    "2": "0"
                                },
                                {
                                    "0": "319",
                                    "1": "FISH OPUS",
                                    "2": "7"
                                },
                                {
                                    "0": "320",
                                    "1": "FLAMINGOS CONNECTICUT",
                                    "2": "7"
                                },
                                {
                                    "0": "321",
                                    "1": "FLASH WARS",
                                    "2": "4"
                                },
                                {
                                    "0": "322",
                                    "1": "FLATLINERS KILLER",
                                    "2": "6"
                                },
                                {
                                    "0": "323",
                                    "1": "FLIGHT LIES",
                                    "2": "4"
                                },
                                {
                                    "0": "324",
                                    "1": "FLINTSTONES HAPPINESS",
                                    "2": "5"
                                },
                                {
                                    "0": "325",
                                    "1": "FLOATS GARDEN",
                                    "2": "0"
                                },
                                {
                                    "0": "326",
                                    "1": "FLYING HOOK",
                                    "2": "6"
                                },
                                {
                                    "0": "327",
                                    "1": "FOOL MOCKINGBIRD",
                                    "2": "6"
                                },
                                {
                                    "0": "328",
                                    "1": "FOREVER CANDIDATE",
                                    "2": "4"
                                },
                                {
                                    "0": "329",
                                    "1": "FORREST SONS",
                                    "2": "6"
                                },
                                {
                                    "0": "330",
                                    "1": "FORRESTER COMANCHEROS",
                                    "2": "7"
                                },
                                {
                                    "0": "331",
                                    "1": "FORWARD TEMPLE",
                                    "2": "8"
                                },
                                {
                                    "0": "332",
                                    "1": "FRANKENSTEIN STRANGER",
                                    "2": "0"
                                },
                                {
                                    "0": "333",
                                    "1": "FREAKY POCUS",
                                    "2": "4"
                                },
                                {
                                    "0": "334",
                                    "1": "FREDDY STORM",
                                    "2": "6"
                                },
                                {
                                    "0": "335",
                                    "1": "FREEDOM CLEOPATRA",
                                    "2": "2"
                                },
                                {
                                    "0": "336",
                                    "1": "FRENCH HOLIDAY",
                                    "2": "5"
                                },
                                {
                                    "0": "337",
                                    "1": "FRIDA SLIPPER",
                                    "2": "4"
                                },
                                {
                                    "0": "338",
                                    "1": "FRISCO FORREST",
                                    "2": "3"
                                },
                                {
                                    "0": "339",
                                    "1": "FROGMEN BREAKING",
                                    "2": "3"
                                },
                                {
                                    "0": "340",
                                    "1": "FRONTIER CABIN",
                                    "2": "2"
                                },
                                {
                                    "0": "341",
                                    "1": "FROST HEAD",
                                    "2": "8"
                                },
                                {
                                    "0": "342",
                                    "1": "FUGITIVE MAGUIRE",
                                    "2": "4"
                                },
                                {
                                    "0": "343",
                                    "1": "FULL FLATLINERS",
                                    "2": "2"
                                },
                                {
                                    "0": "344",
                                    "1": "FURY MURDER",
                                    "2": "5"
                                },
                                {
                                    "0": "345",
                                    "1": "GABLES METROPOLIS",
                                    "2": "5"
                                },
                                {
                                    "0": "346",
                                    "1": "GALAXY SWEETHEARTS",
                                    "2": "6"
                                },
                                {
                                    "0": "347",
                                    "1": "GAMES BOWFINGER",
                                    "2": "4"
                                },
                                {
                                    "0": "348",
                                    "1": "GANDHI KWAI",
                                    "2": "4"
                                },
                                {
                                    "0": "349",
                                    "1": "GANGS PRIDE",
                                    "2": "7"
                                },
                                {
                                    "0": "350",
                                    "1": "GARDEN ISLAND",
                                    "2": "8"
                                },
                                {
                                    "0": "351",
                                    "1": "GASLIGHT CRUSADE",
                                    "2": "6"
                                },
                                {
                                    "0": "352",
                                    "1": "GATHERING CALENDAR",
                                    "2": "4"
                                },
                                {
                                    "0": "353",
                                    "1": "GENTLEMEN STAGE",
                                    "2": "6"
                                },
                                {
                                    "0": "354",
                                    "1": "GHOST GROUNDHOG",
                                    "2": "5"
                                },
                                {
                                    "0": "355",
                                    "1": "GHOSTBUSTERS ELF",
                                    "2": "2"
                                },
                                {
                                    "0": "356",
                                    "1": "GIANT TROOPERS",
                                    "2": "8"
                                },
                                {
                                    "0": "357",
                                    "1": "GILBERT PELICAN",
                                    "2": "4"
                                },
                                {
                                    "0": "358",
                                    "1": "GILMORE BOILED",
                                    "2": "8"
                                },
                                {
                                    "0": "359",
                                    "1": "GLADIATOR WESTWARD",
                                    "2": "0"
                                },
                                {
                                    "0": "360",
                                    "1": "GLASS DYING",
                                    "2": "4"
                                },
                                {
                                    "0": "361",
                                    "1": "GLEAMING JAWBREAKER",
                                    "2": "8"
                                },
                                {
                                    "0": "362",
                                    "1": "GLORY TRACY",
                                    "2": "2"
                                },
                                {
                                    "0": "363",
                                    "1": "GO PURPLE",
                                    "2": "6"
                                },
                                {
                                    "0": "364",
                                    "1": "GODFATHER DIARY",
                                    "2": "3"
                                },
                                {
                                    "0": "365",
                                    "1": "GOLD RIVER",
                                    "2": "4"
                                },
                                {
                                    "0": "366",
                                    "1": "GOLDFINGER SENSIBILITY",
                                    "2": "7"
                                },
                                {
                                    "0": "367",
                                    "1": "GOLDMINE TYCOON",
                                    "2": "7"
                                },
                                {
                                    "0": "368",
                                    "1": "GONE TROUBLE",
                                    "2": "2"
                                },
                                {
                                    "0": "369",
                                    "1": "GOODFELLAS SALUTE",
                                    "2": "8"
                                },
                                {
                                    "0": "370",
                                    "1": "GORGEOUS BINGO",
                                    "2": "5"
                                },
                                {
                                    "0": "371",
                                    "1": "GOSFORD DONNIE",
                                    "2": "3"
                                },
                                {
                                    "0": "372",
                                    "1": "GRACELAND DYNAMITE",
                                    "2": "2"
                                },
                                {
                                    "0": "373",
                                    "1": "GRADUATE LORD",
                                    "2": "5"
                                },
                                {
                                    "0": "374",
                                    "1": "GRAFFITI LOVE",
                                    "2": "7"
                                },
                                {
                                    "0": "375",
                                    "1": "GRAIL FRANKENSTEIN",
                                    "2": "2"
                                },
                                {
                                    "0": "376",
                                    "1": "GRAPES FURY",
                                    "2": "7"
                                },
                                {
                                    "0": "377",
                                    "1": "GREASE YOUTH",
                                    "2": "6"
                                },
                                {
                                    "0": "378",
                                    "1": "GREATEST NORTH",
                                    "2": "8"
                                },
                                {
                                    "0": "379",
                                    "1": "GREEDY ROOTS",
                                    "2": "4"
                                },
                                {
                                    "0": "380",
                                    "1": "GREEK EVERYONE",
                                    "2": "5"
                                },
                                {
                                    "0": "381",
                                    "1": "GRINCH MASSAGE",
                                    "2": "5"
                                },
                                {
                                    "0": "382",
                                    "1": "GRIT CLOCKWORK",
                                    "2": "8"
                                },
                                {
                                    "0": "383",
                                    "1": "GROOVE FICTION",
                                    "2": "5"
                                },
                                {
                                    "0": "384",
                                    "1": "GROSSE WONDERFUL",
                                    "2": "3"
                                },
                                {
                                    "0": "385",
                                    "1": "GROUNDHOG UNCUT",
                                    "2": "5"
                                },
                                {
                                    "0": "386",
                                    "1": "GUMP DATE",
                                    "2": "0"
                                },
                                {
                                    "0": "387",
                                    "1": "GUN BONNIE",
                                    "2": "6"
                                },
                                {
                                    "0": "388",
                                    "1": "GUNFIGHT MOON",
                                    "2": "6"
                                },
                                {
                                    "0": "389",
                                    "1": "GUNFIGHTER MUSSOLINI",
                                    "2": "4"
                                },
                                {
                                    "0": "390",
                                    "1": "GUYS FALCON",
                                    "2": "3"
                                },
                                {
                                    "0": "391",
                                    "1": "HALF OUTFIELD",
                                    "2": "7"
                                },
                                {
                                    "0": "392",
                                    "1": "HALL CASSIDY",
                                    "2": "6"
                                },
                                {
                                    "0": "393",
                                    "1": "HALLOWEEN NUTS",
                                    "2": "2"
                                },
                                {
                                    "0": "394",
                                    "1": "HAMLET WISDOM",
                                    "2": "4"
                                },
                                {
                                    "0": "395",
                                    "1": "HANDICAP BOONDOCK",
                                    "2": "6"
                                },
                                {
                                    "0": "396",
                                    "1": "HANGING DEEP",
                                    "2": "4"
                                },
                                {
                                    "0": "397",
                                    "1": "HANKY OCTOBER",
                                    "2": "7"
                                },
                                {
                                    "0": "398",
                                    "1": "HANOVER GALAXY",
                                    "2": "4"
                                },
                                {
                                    "0": "399",
                                    "1": "HAPPINESS UNITED",
                                    "2": "2"
                                },
                                {
                                    "0": "400",
                                    "1": "HARDLY ROBBERS",
                                    "2": "2"
                                },
                                {
                                    "0": "401",
                                    "1": "HAROLD FRENCH",
                                    "2": "2"
                                },
                                {
                                    "0": "402",
                                    "1": "HARPER DYING",
                                    "2": "6"
                                },
                                {
                                    "0": "403",
                                    "1": "HARRY IDAHO",
                                    "2": "8"
                                },
                                {
                                    "0": "404",
                                    "1": "HATE HANDICAP",
                                    "2": "0"
                                },
                                {
                                    "0": "405",
                                    "1": "HAUNTED ANTITRUST",
                                    "2": "2"
                                },
                                {
                                    "0": "406",
                                    "1": "HAUNTING PIANIST",
                                    "2": "6"
                                },
                                {
                                    "0": "407",
                                    "1": "HAWK CHILL",
                                    "2": "2"
                                },
                                {
                                    "0": "408",
                                    "1": "HEAD STRANGER",
                                    "2": "7"
                                },
                                {
                                    "0": "409",
                                    "1": "HEARTBREAKERS BRIGHT",
                                    "2": "7"
                                },
                                {
                                    "0": "410",
                                    "1": "HEAVEN FREEDOM",
                                    "2": "5"
                                },
                                {
                                    "0": "411",
                                    "1": "HEAVENLY GUN",
                                    "2": "2"
                                },
                                {
                                    "0": "412",
                                    "1": "HEAVYWEIGHTS BEAST",
                                    "2": "8"
                                },
                                {
                                    "0": "413",
                                    "1": "HEDWIG ALTER",
                                    "2": "3"
                                },
                                {
                                    "0": "414",
                                    "1": "HELLFIGHTERS SIERRA",
                                    "2": "6"
                                },
                                {
                                    "0": "415",
                                    "1": "HIGH ENCINO",
                                    "2": "6"
                                },
                                {
                                    "0": "416",
                                    "1": "HIGHBALL POTTER",
                                    "2": "6"
                                },
                                {
                                    "0": "417",
                                    "1": "HILLS NEIGHBORS",
                                    "2": "6"
                                },
                                {
                                    "0": "418",
                                    "1": "HOBBIT ALIEN",
                                    "2": "8"
                                },
                                {
                                    "0": "419",
                                    "1": "HOCUS FRIDA",
                                    "2": "0"
                                },
                                {
                                    "0": "420",
                                    "1": "HOLES BRANNIGAN",
                                    "2": "5"
                                },
                                {
                                    "0": "421",
                                    "1": "HOLIDAY GAMES",
                                    "2": "4"
                                },
                                {
                                    "0": "422",
                                    "1": "HOLLOW JEOPARDY",
                                    "2": "2"
                                },
                                {
                                    "0": "423",
                                    "1": "HOLLYWOOD ANONYMOUS",
                                    "2": "4"
                                },
                                {
                                    "0": "424",
                                    "1": "HOLOCAUST HIGHBALL",
                                    "2": "5"
                                },
                                {
                                    "0": "425",
                                    "1": "HOLY TADPOLE",
                                    "2": "2"
                                },
                                {
                                    "0": "426",
                                    "1": "HOME PITY",
                                    "2": "3"
                                },
                                {
                                    "0": "427",
                                    "1": "HOMEWARD CIDER",
                                    "2": "4"
                                },
                                {
                                    "0": "428",
                                    "1": "HOMICIDE PEACH",
                                    "2": "6"
                                },
                                {
                                    "0": "429",
                                    "1": "HONEY TIES",
                                    "2": "6"
                                },
                                {
                                    "0": "430",
                                    "1": "HOOK CHARIOTS",
                                    "2": "4"
                                },
                                {
                                    "0": "431",
                                    "1": "HOOSIERS BIRDCAGE",
                                    "2": "3"
                                },
                                {
                                    "0": "432",
                                    "1": "HOPE TOOTSIE",
                                    "2": "5"
                                },
                                {
                                    "0": "433",
                                    "1": "HORN WORKING",
                                    "2": "6"
                                },
                                {
                                    "0": "434",
                                    "1": "HORROR REIGN",
                                    "2": "8"
                                },
                                {
                                    "0": "435",
                                    "1": "HOTEL HAPPINESS",
                                    "2": "2"
                                },
                                {
                                    "0": "436",
                                    "1": "HOURS RAGE",
                                    "2": "6"
                                },
                                {
                                    "0": "437",
                                    "1": "HOUSE DYNAMITE",
                                    "2": "6"
                                },
                                {
                                    "0": "438",
                                    "1": "HUMAN GRAFFITI",
                                    "2": "5"
                                },
                                {
                                    "0": "439",
                                    "1": "HUNCHBACK IMPOSSIBLE",
                                    "2": "6"
                                },
                                {
                                    "0": "440",
                                    "1": "HUNGER ROOF",
                                    "2": "4"
                                },
                                {
                                    "0": "441",
                                    "1": "HUNTER ALTER",
                                    "2": "2"
                                },
                                {
                                    "0": "442",
                                    "1": "HUNTING MUSKETEERS",
                                    "2": "3"
                                },
                                {
                                    "0": "443",
                                    "1": "HURRICANE AFFAIR",
                                    "2": "7"
                                },
                                {
                                    "0": "444",
                                    "1": "HUSTLER PARTY",
                                    "2": "8"
                                },
                                {
                                    "0": "445",
                                    "1": "HYDE DOCTOR",
                                    "2": "6"
                                },
                                {
                                    "0": "446",
                                    "1": "HYSTERICAL GRAIL",
                                    "2": "4"
                                },
                                {
                                    "0": "447",
                                    "1": "ICE CROSSING",
                                    "2": "7"
                                },
                                {
                                    "0": "448",
                                    "1": "IDAHO LOVE",
                                    "2": "5"
                                },
                                {
                                    "0": "449",
                                    "1": "IDENTITY LOVER",
                                    "2": "4"
                                },
                                {
                                    "0": "450",
                                    "1": "IDOLS SNATCHERS",
                                    "2": "7"
                                },
                                {
                                    "0": "451",
                                    "1": "IGBY MAKER",
                                    "2": "5"
                                },
                                {
                                    "0": "452",
                                    "1": "ILLUSION AMELIE",
                                    "2": "4"
                                },
                                {
                                    "0": "453",
                                    "1": "IMAGE PRINCESS",
                                    "2": "5"
                                },
                                {
                                    "0": "454",
                                    "1": "IMPACT ALADDIN",
                                    "2": "2"
                                },
                                {
                                    "0": "455",
                                    "1": "IMPOSSIBLE PREJUDICE",
                                    "2": "4"
                                },
                                {
                                    "0": "456",
                                    "1": "INCH JET",
                                    "2": "6"
                                },
                                {
                                    "0": "457",
                                    "1": "INDEPENDENCE HOTEL",
                                    "2": "6"
                                },
                                {
                                    "0": "458",
                                    "1": "INDIAN LOVE",
                                    "2": "6"
                                },
                                {
                                    "0": "459",
                                    "1": "INFORMER DOUBLE",
                                    "2": "2"
                                },
                                {
                                    "0": "460",
                                    "1": "INNOCENT USUAL",
                                    "2": "8"
                                },
                                {
                                    "0": "461",
                                    "1": "INSECTS STONE",
                                    "2": "6"
                                },
                                {
                                    "0": "462",
                                    "1": "INSIDER ARIZONA",
                                    "2": "5"
                                },
                                {
                                    "0": "463",
                                    "1": "INSTINCT AIRPORT",
                                    "2": "5"
                                },
                                {
                                    "0": "464",
                                    "1": "INTENTIONS EMPIRE",
                                    "2": "7"
                                },
                                {
                                    "0": "465",
                                    "1": "INTERVIEW LIAISONS",
                                    "2": "5"
                                },
                                {
                                    "0": "466",
                                    "1": "INTOLERABLE INTENTIONS",
                                    "2": "2"
                                },
                                {
                                    "0": "467",
                                    "1": "INTRIGUE WORST",
                                    "2": "7"
                                },
                                {
                                    "0": "468",
                                    "1": "INVASION CYCLONE",
                                    "2": "8"
                                },
                                {
                                    "0": "469",
                                    "1": "IRON MOON",
                                    "2": "3"
                                },
                                {
                                    "0": "470",
                                    "1": "ISHTAR ROCKETEER",
                                    "2": "2"
                                },
                                {
                                    "0": "471",
                                    "1": "ISLAND EXORCIST",
                                    "2": "7"
                                },
                                {
                                    "0": "472",
                                    "1": "ITALIAN AFRICAN",
                                    "2": "2"
                                },
                                {
                                    "0": "473",
                                    "1": "JACKET FRISCO",
                                    "2": "5"
                                },
                                {
                                    "0": "474",
                                    "1": "JADE BUNCH",
                                    "2": "4"
                                },
                                {
                                    "0": "475",
                                    "1": "JAPANESE RUN",
                                    "2": "2"
                                },
                                {
                                    "0": "476",
                                    "1": "JASON TRAP",
                                    "2": "7"
                                },
                                {
                                    "0": "477",
                                    "1": "JAWBREAKER BROOKLYN",
                                    "2": "3"
                                },
                                {
                                    "0": "478",
                                    "1": "JAWS HARRY",
                                    "2": "5"
                                },
                                {
                                    "0": "479",
                                    "1": "JEDI BENEATH",
                                    "2": "5"
                                },
                                {
                                    "0": "480",
                                    "1": "JEEPERS WEDDING",
                                    "2": "4"
                                },
                                {
                                    "0": "481",
                                    "1": "JEKYLL FROGMEN",
                                    "2": "6"
                                },
                                {
                                    "0": "482",
                                    "1": "JEOPARDY ENCINO",
                                    "2": "3"
                                },
                                {
                                    "0": "483",
                                    "1": "JERICHO MULAN",
                                    "2": "5"
                                },
                                {
                                    "0": "484",
                                    "1": "JERK PAYCHECK",
                                    "2": "7"
                                },
                                {
                                    "0": "485",
                                    "1": "JERSEY SASSY",
                                    "2": "3"
                                },
                                {
                                    "0": "486",
                                    "1": "JET NEIGHBORS",
                                    "2": "6"
                                },
                                {
                                    "0": "487",
                                    "1": "JINGLE SAGEBRUSH",
                                    "2": "3"
                                },
                                {
                                    "0": "488",
                                    "1": "JOON NORTHWEST",
                                    "2": "5"
                                },
                                {
                                    "0": "489",
                                    "1": "JUGGLER HARDLY",
                                    "2": "8"
                                },
                                {
                                    "0": "490",
                                    "1": "JUMANJI BLADE",
                                    "2": "2"
                                },
                                {
                                    "0": "491",
                                    "1": "JUMPING WRATH",
                                    "2": "6"
                                },
                                {
                                    "0": "492",
                                    "1": "JUNGLE CLOSER",
                                    "2": "2"
                                },
                                {
                                    "0": "493",
                                    "1": "KANE EXORCIST",
                                    "2": "3"
                                },
                                {
                                    "0": "494",
                                    "1": "KARATE MOON",
                                    "2": "6"
                                },
                                {
                                    "0": "495",
                                    "1": "KENTUCKIAN GIANT",
                                    "2": "0"
                                },
                                {
                                    "0": "496",
                                    "1": "KICK SAVANNAH",
                                    "2": "5"
                                },
                                {
                                    "0": "497",
                                    "1": "KILL BROTHERHOOD",
                                    "2": "0"
                                },
                                {
                                    "0": "498",
                                    "1": "KILLER INNOCENT",
                                    "2": "2"
                                },
                                {
                                    "0": "499",
                                    "1": "KING EVOLUTION",
                                    "2": "2"
                                },
                                {
                                    "0": "500",
                                    "1": "KISS GLORY",
                                    "2": "8"
                                },
                                {
                                    "0": "501",
                                    "1": "KISSING DOLLS",
                                    "2": "5"
                                },
                                {
                                    "0": "502",
                                    "1": "KNOCK WARLOCK",
                                    "2": "7"
                                },
                                {
                                    "0": "503",
                                    "1": "KRAMER CHOCOLATE",
                                    "2": "3"
                                },
                                {
                                    "0": "504",
                                    "1": "KWAI HOMEWARD",
                                    "2": "6"
                                },
                                {
                                    "0": "505",
                                    "1": "LABYRINTH LEAGUE",
                                    "2": "4"
                                },
                                {
                                    "0": "506",
                                    "1": "LADY STAGE",
                                    "2": "6"
                                },
                                {
                                    "0": "507",
                                    "1": "LADYBUGS ARMAGEDDON",
                                    "2": "2"
                                },
                                {
                                    "0": "508",
                                    "1": "LAMBS CINCINATTI",
                                    "2": "3"
                                },
                                {
                                    "0": "509",
                                    "1": "LANGUAGE COWBOY",
                                    "2": "3"
                                },
                                {
                                    "0": "510",
                                    "1": "LAWLESS VISION",
                                    "2": "4"
                                },
                                {
                                    "0": "511",
                                    "1": "LAWRENCE LOVE",
                                    "2": "5"
                                },
                                {
                                    "0": "512",
                                    "1": "LEAGUE HELLFIGHTERS",
                                    "2": "6"
                                },
                                {
                                    "0": "513",
                                    "1": "LEATHERNECKS DWARFS",
                                    "2": "2"
                                },
                                {
                                    "0": "514",
                                    "1": "LEBOWSKI SOLDIERS",
                                    "2": "6"
                                },
                                {
                                    "0": "515",
                                    "1": "LEGALLY SECRETARY",
                                    "2": "2"
                                },
                                {
                                    "0": "516",
                                    "1": "LEGEND JEDI",
                                    "2": "3"
                                },
                                {
                                    "0": "517",
                                    "1": "LESSON CLEOPATRA",
                                    "2": "2"
                                },
                                {
                                    "0": "518",
                                    "1": "LIAISONS SWEET",
                                    "2": "6"
                                },
                                {
                                    "0": "519",
                                    "1": "LIBERTY MAGNIFICENT",
                                    "2": "4"
                                },
                                {
                                    "0": "520",
                                    "1": "LICENSE WEEKEND",
                                    "2": "2"
                                },
                                {
                                    "0": "521",
                                    "1": "LIES TREATMENT",
                                    "2": "7"
                                },
                                {
                                    "0": "522",
                                    "1": "LIFE TWISTED",
                                    "2": "2"
                                },
                                {
                                    "0": "523",
                                    "1": "LIGHTS DEER",
                                    "2": "2"
                                },
                                {
                                    "0": "524",
                                    "1": "LION UNCUT",
                                    "2": "6"
                                },
                                {
                                    "0": "525",
                                    "1": "LOATHING LEGALLY",
                                    "2": "8"
                                },
                                {
                                    "0": "526",
                                    "1": "LOCK REAR",
                                    "2": "4"
                                },
                                {
                                    "0": "527",
                                    "1": "LOLA AGENT",
                                    "2": "6"
                                },
                                {
                                    "0": "528",
                                    "1": "LOLITA WORLD",
                                    "2": "3"
                                },
                                {
                                    "0": "529",
                                    "1": "LONELY ELEPHANT",
                                    "2": "4"
                                },
                                {
                                    "0": "530",
                                    "1": "LORD ARIZONA",
                                    "2": "3"
                                },
                                {
                                    "0": "531",
                                    "1": "LOSE INCH",
                                    "2": "8"
                                },
                                {
                                    "0": "532",
                                    "1": "LOSER HUSTLER",
                                    "2": "4"
                                },
                                {
                                    "0": "533",
                                    "1": "LOST BIRD",
                                    "2": "3"
                                },
                                {
                                    "0": "534",
                                    "1": "LOUISIANA HARRY",
                                    "2": "5"
                                },
                                {
                                    "0": "535",
                                    "1": "LOVE SUICIDES",
                                    "2": "4"
                                },
                                {
                                    "0": "536",
                                    "1": "LOVELY JINGLE",
                                    "2": "5"
                                },
                                {
                                    "0": "537",
                                    "1": "LOVER TRUMAN",
                                    "2": "3"
                                },
                                {
                                    "0": "538",
                                    "1": "LOVERBOY ATTACKS",
                                    "2": "3"
                                },
                                {
                                    "0": "539",
                                    "1": "LUCK OPUS",
                                    "2": "2"
                                },
                                {
                                    "0": "540",
                                    "1": "LUCKY FLYING",
                                    "2": "3"
                                },
                                {
                                    "0": "541",
                                    "1": "LUKE MUMMY",
                                    "2": "2"
                                },
                                {
                                    "0": "542",
                                    "1": "LUST LOCK",
                                    "2": "6"
                                },
                                {
                                    "0": "543",
                                    "1": "MADIGAN DORADO",
                                    "2": "2"
                                },
                                {
                                    "0": "544",
                                    "1": "MADISON TRAP",
                                    "2": "4"
                                },
                                {
                                    "0": "545",
                                    "1": "MADNESS ATTACKS",
                                    "2": "6"
                                },
                                {
                                    "0": "546",
                                    "1": "MADRE GABLES",
                                    "2": "4"
                                },
                                {
                                    "0": "547",
                                    "1": "MAGIC MALLRATS",
                                    "2": "2"
                                },
                                {
                                    "0": "548",
                                    "1": "MAGNIFICENT CHITTY",
                                    "2": "2"
                                },
                                {
                                    "0": "549",
                                    "1": "MAGNOLIA FORRESTER",
                                    "2": "4"
                                },
                                {
                                    "0": "550",
                                    "1": "MAGUIRE APACHE",
                                    "2": "3"
                                },
                                {
                                    "0": "551",
                                    "1": "MAIDEN HOME",
                                    "2": "6"
                                },
                                {
                                    "0": "552",
                                    "1": "MAJESTIC FLOATS",
                                    "2": "4"
                                },
                                {
                                    "0": "553",
                                    "1": "MAKER GABLES",
                                    "2": "3"
                                },
                                {
                                    "0": "554",
                                    "1": "MALKOVICH PET",
                                    "2": "7"
                                },
                                {
                                    "0": "555",
                                    "1": "MALLRATS UNITED",
                                    "2": "7"
                                },
                                {
                                    "0": "556",
                                    "1": "MALTESE HOPE",
                                    "2": "7"
                                },
                                {
                                    "0": "557",
                                    "1": "MANCHURIAN CURTAIN",
                                    "2": "5"
                                },
                                {
                                    "0": "558",
                                    "1": "MANNEQUIN WORST",
                                    "2": "2"
                                },
                                {
                                    "0": "559",
                                    "1": "MARRIED GO",
                                    "2": "8"
                                },
                                {
                                    "0": "560",
                                    "1": "MARS ROMAN",
                                    "2": "5"
                                },
                                {
                                    "0": "561",
                                    "1": "MASK PEACH",
                                    "2": "4"
                                },
                                {
                                    "0": "562",
                                    "1": "MASKED BUBBLE",
                                    "2": "6"
                                },
                                {
                                    "0": "563",
                                    "1": "MASSACRE USUAL",
                                    "2": "7"
                                },
                                {
                                    "0": "564",
                                    "1": "MASSAGE IMAGE",
                                    "2": "3"
                                },
                                {
                                    "0": "565",
                                    "1": "MATRIX SNOWMAN",
                                    "2": "2"
                                },
                                {
                                    "0": "566",
                                    "1": "MAUDE MOD",
                                    "2": "2"
                                },
                                {
                                    "0": "567",
                                    "1": "MEET CHOCOLATE",
                                    "2": "4"
                                },
                                {
                                    "0": "568",
                                    "1": "MEMENTO ZOOLANDER",
                                    "2": "4"
                                },
                                {
                                    "0": "569",
                                    "1": "MENAGERIE RUSHMORE",
                                    "2": "2"
                                },
                                {
                                    "0": "570",
                                    "1": "MERMAID INSECTS",
                                    "2": "5"
                                },
                                {
                                    "0": "571",
                                    "1": "METAL ARMAGEDDON",
                                    "2": "6"
                                },
                                {
                                    "0": "572",
                                    "1": "METROPOLIS COMA",
                                    "2": "8"
                                },
                                {
                                    "0": "573",
                                    "1": "MICROCOSMOS PARADISE",
                                    "2": "4"
                                },
                                {
                                    "0": "574",
                                    "1": "MIDNIGHT WESTWARD",
                                    "2": "5"
                                },
                                {
                                    "0": "575",
                                    "1": "MIDSUMMER GROUNDHOG",
                                    "2": "6"
                                },
                                {
                                    "0": "576",
                                    "1": "MIGHTY LUCK",
                                    "2": "3"
                                },
                                {
                                    "0": "577",
                                    "1": "MILE MULAN",
                                    "2": "3"
                                },
                                {
                                    "0": "578",
                                    "1": "MILLION ACE",
                                    "2": "5"
                                },
                                {
                                    "0": "579",
                                    "1": "MINDS TRUMAN",
                                    "2": "7"
                                },
                                {
                                    "0": "580",
                                    "1": "MINE TITANS",
                                    "2": "6"
                                },
                                {
                                    "0": "581",
                                    "1": "MINORITY KISS",
                                    "2": "3"
                                },
                                {
                                    "0": "582",
                                    "1": "MIRACLE VIRTUAL",
                                    "2": "2"
                                },
                                {
                                    "0": "583",
                                    "1": "MISSION ZOOLANDER",
                                    "2": "5"
                                },
                                {
                                    "0": "584",
                                    "1": "MIXED DOORS",
                                    "2": "2"
                                },
                                {
                                    "0": "585",
                                    "1": "MOB DUFFEL",
                                    "2": "4"
                                },
                                {
                                    "0": "586",
                                    "1": "MOCKINGBIRD HOLLYWOOD",
                                    "2": "8"
                                },
                                {
                                    "0": "587",
                                    "1": "MOD SECRETARY",
                                    "2": "3"
                                },
                                {
                                    "0": "588",
                                    "1": "MODEL FISH",
                                    "2": "4"
                                },
                                {
                                    "0": "589",
                                    "1": "MODERN DORADO",
                                    "2": "4"
                                },
                                {
                                    "0": "590",
                                    "1": "MONEY HAROLD",
                                    "2": "7"
                                },
                                {
                                    "0": "591",
                                    "1": "MONSOON CAUSE",
                                    "2": "3"
                                },
                                {
                                    "0": "592",
                                    "1": "MONSTER SPARTACUS",
                                    "2": "4"
                                },
                                {
                                    "0": "593",
                                    "1": "MONTEREY LABYRINTH",
                                    "2": "4"
                                },
                                {
                                    "0": "594",
                                    "1": "MONTEZUMA COMMAND",
                                    "2": "3"
                                },
                                {
                                    "0": "595",
                                    "1": "MOON BUNCH",
                                    "2": "8"
                                },
                                {
                                    "0": "596",
                                    "1": "MOONSHINE CABIN",
                                    "2": "6"
                                },
                                {
                                    "0": "597",
                                    "1": "MOONWALKER FOOL",
                                    "2": "4"
                                },
                                {
                                    "0": "598",
                                    "1": "MOSQUITO ARMAGEDDON",
                                    "2": "4"
                                },
                                {
                                    "0": "599",
                                    "1": "MOTHER OLEANDER",
                                    "2": "5"
                                },
                                {
                                    "0": "600",
                                    "1": "MOTIONS DETAILS",
                                    "2": "4"
                                },
                                {
                                    "0": "601",
                                    "1": "MOULIN WAKE",
                                    "2": "5"
                                },
                                {
                                    "0": "602",
                                    "1": "MOURNING PURPLE",
                                    "2": "5"
                                },
                                {
                                    "0": "603",
                                    "1": "MOVIE SHAKESPEARE",
                                    "2": "6"
                                },
                                {
                                    "0": "604",
                                    "1": "MULAN MOON",
                                    "2": "3"
                                },
                                {
                                    "0": "605",
                                    "1": "MULHOLLAND BEAST",
                                    "2": "2"
                                },
                                {
                                    "0": "606",
                                    "1": "MUMMY CREATURES",
                                    "2": "6"
                                },
                                {
                                    "0": "607",
                                    "1": "MUPPET MILE",
                                    "2": "0"
                                },
                                {
                                    "0": "608",
                                    "1": "MURDER ANTITRUST",
                                    "2": "6"
                                },
                                {
                                    "0": "609",
                                    "1": "MUSCLE BRIGHT",
                                    "2": "8"
                                },
                                {
                                    "0": "610",
                                    "1": "MUSIC BOONDOCK",
                                    "2": "5"
                                },
                                {
                                    "0": "611",
                                    "1": "MUSKETEERS WAIT",
                                    "2": "6"
                                },
                                {
                                    "0": "612",
                                    "1": "MUSSOLINI SPOILERS",
                                    "2": "2"
                                },
                                {
                                    "0": "613",
                                    "1": "MYSTIC TRUMAN",
                                    "2": "2"
                                },
                                {
                                    "0": "614",
                                    "1": "NAME DETECTIVE",
                                    "2": "6"
                                },
                                {
                                    "0": "615",
                                    "1": "NASH CHOCOLAT",
                                    "2": "4"
                                },
                                {
                                    "0": "616",
                                    "1": "NATIONAL STORY",
                                    "2": "6"
                                },
                                {
                                    "0": "617",
                                    "1": "NATURAL STOCK",
                                    "2": "3"
                                },
                                {
                                    "0": "618",
                                    "1": "NECKLACE OUTBREAK",
                                    "2": "4"
                                },
                                {
                                    "0": "619",
                                    "1": "NEIGHBORS CHARADE",
                                    "2": "6"
                                },
                                {
                                    "0": "620",
                                    "1": "NEMO CAMPUS",
                                    "2": "5"
                                },
                                {
                                    "0": "621",
                                    "1": "NETWORK PEAK",
                                    "2": "8"
                                },
                                {
                                    "0": "622",
                                    "1": "NEWSIES STORY",
                                    "2": "2"
                                },
                                {
                                    "0": "623",
                                    "1": "NEWTON LABYRINTH",
                                    "2": "5"
                                },
                                {
                                    "0": "624",
                                    "1": "NIGHTMARE CHILL",
                                    "2": "7"
                                },
                                {
                                    "0": "625",
                                    "1": "NONE SPIKING",
                                    "2": "7"
                                },
                                {
                                    "0": "626",
                                    "1": "NOON PAPI",
                                    "2": "4"
                                },
                                {
                                    "0": "627",
                                    "1": "NORTH TEQUILA",
                                    "2": "3"
                                },
                                {
                                    "0": "628",
                                    "1": "NORTHWEST POLISH",
                                    "2": "5"
                                },
                                {
                                    "0": "629",
                                    "1": "NOTORIOUS REUNION",
                                    "2": "4"
                                },
                                {
                                    "0": "630",
                                    "1": "NOTTING SPEAKEASY",
                                    "2": "3"
                                },
                                {
                                    "0": "631",
                                    "1": "NOVOCAINE FLIGHT",
                                    "2": "5"
                                },
                                {
                                    "0": "632",
                                    "1": "NUTS TIES",
                                    "2": "3"
                                },
                                {
                                    "0": "633",
                                    "1": "OCTOBER SUBMARINE",
                                    "2": "3"
                                },
                                {
                                    "0": "634",
                                    "1": "ODDS BOOGIE",
                                    "2": "4"
                                },
                                {
                                    "0": "635",
                                    "1": "OKLAHOMA JUMANJI",
                                    "2": "2"
                                },
                                {
                                    "0": "636",
                                    "1": "OLEANDER CLUE",
                                    "2": "3"
                                },
                                {
                                    "0": "637",
                                    "1": "OPEN AFRICAN",
                                    "2": "5"
                                },
                                {
                                    "0": "638",
                                    "1": "OPERATION OPERATION",
                                    "2": "8"
                                },
                                {
                                    "0": "639",
                                    "1": "OPPOSITE NECKLACE",
                                    "2": "3"
                                },
                                {
                                    "0": "640",
                                    "1": "OPUS ICE",
                                    "2": "3"
                                },
                                {
                                    "0": "641",
                                    "1": "ORANGE GRAPES",
                                    "2": "7"
                                },
                                {
                                    "0": "642",
                                    "1": "ORDER BETRAYED",
                                    "2": "0"
                                },
                                {
                                    "0": "643",
                                    "1": "ORIENT CLOSER",
                                    "2": "6"
                                },
                                {
                                    "0": "644",
                                    "1": "OSCAR GOLD",
                                    "2": "7"
                                },
                                {
                                    "0": "645",
                                    "1": "OTHERS SOUP",
                                    "2": "6"
                                },
                                {
                                    "0": "646",
                                    "1": "OUTBREAK DIVINE",
                                    "2": "5"
                                },
                                {
                                    "0": "647",
                                    "1": "OUTFIELD MASSACRE",
                                    "2": "6"
                                },
                                {
                                    "0": "648",
                                    "1": "OUTLAW HANKY",
                                    "2": "6"
                                },
                                {
                                    "0": "649",
                                    "1": "OZ LIAISONS",
                                    "2": "6"
                                },
                                {
                                    "0": "650",
                                    "1": "PACIFIC AMISTAD",
                                    "2": "6"
                                },
                                {
                                    "0": "651",
                                    "1": "PACKER MADIGAN",
                                    "2": "6"
                                },
                                {
                                    "0": "652",
                                    "1": "PAJAMA JAWBREAKER",
                                    "2": "4"
                                },
                                {
                                    "0": "653",
                                    "1": "PANIC CLUB",
                                    "2": "2"
                                },
                                {
                                    "0": "654",
                                    "1": "PANKY SUBMARINE",
                                    "2": "4"
                                },
                                {
                                    "0": "655",
                                    "1": "PANTHER REDS",
                                    "2": "6"
                                },
                                {
                                    "0": "656",
                                    "1": "PAPI NECKLACE",
                                    "2": "2"
                                },
                                {
                                    "0": "657",
                                    "1": "PARADISE SABRINA",
                                    "2": "6"
                                },
                                {
                                    "0": "658",
                                    "1": "PARIS WEEKEND",
                                    "2": "4"
                                },
                                {
                                    "0": "659",
                                    "1": "PARK CITIZEN",
                                    "2": "2"
                                },
                                {
                                    "0": "660",
                                    "1": "PARTY KNOCK",
                                    "2": "4"
                                },
                                {
                                    "0": "661",
                                    "1": "PAST SUICIDES",
                                    "2": "4"
                                },
                                {
                                    "0": "662",
                                    "1": "PATHS CONTROL",
                                    "2": "4"
                                },
                                {
                                    "0": "663",
                                    "1": "PATIENT SISTER",
                                    "2": "5"
                                },
                                {
                                    "0": "664",
                                    "1": "PATRIOT ROMAN",
                                    "2": "5"
                                },
                                {
                                    "0": "665",
                                    "1": "PATTON INTERVIEW",
                                    "2": "7"
                                },
                                {
                                    "0": "666",
                                    "1": "PAYCHECK WAIT",
                                    "2": "5"
                                },
                                {
                                    "0": "667",
                                    "1": "PEACH INNOCENT",
                                    "2": "4"
                                },
                                {
                                    "0": "668",
                                    "1": "PEAK FOREVER",
                                    "2": "5"
                                },
                                {
                                    "0": "669",
                                    "1": "PEARL DESTINY",
                                    "2": "0"
                                },
                                {
                                    "0": "670",
                                    "1": "PELICAN COMFORTS",
                                    "2": "7"
                                },
                                {
                                    "0": "671",
                                    "1": "PERDITION FARGO",
                                    "2": "0"
                                },
                                {
                                    "0": "672",
                                    "1": "PERFECT GROOVE",
                                    "2": "6"
                                },
                                {
                                    "0": "673",
                                    "1": "PERSONAL LADYBUGS",
                                    "2": "4"
                                },
                                {
                                    "0": "674",
                                    "1": "PET HAUNTING",
                                    "2": "3"
                                },
                                {
                                    "0": "675",
                                    "1": "PHANTOM GLORY",
                                    "2": "2"
                                },
                                {
                                    "0": "676",
                                    "1": "PHILADELPHIA WIFE",
                                    "2": "6"
                                },
                                {
                                    "0": "677",
                                    "1": "PIANIST OUTFIELD",
                                    "2": "7"
                                },
                                {
                                    "0": "678",
                                    "1": "PICKUP DRIVING",
                                    "2": "4"
                                },
                                {
                                    "0": "679",
                                    "1": "PILOT HOOSIERS",
                                    "2": "4"
                                },
                                {
                                    "0": "680",
                                    "1": "PINOCCHIO SIMON",
                                    "2": "6"
                                },
                                {
                                    "0": "681",
                                    "1": "PIRATES ROXANNE",
                                    "2": "6"
                                },
                                {
                                    "0": "682",
                                    "1": "PITTSBURGH HUNCHBACK",
                                    "2": "3"
                                },
                                {
                                    "0": "683",
                                    "1": "PITY BOUND",
                                    "2": "8"
                                },
                                {
                                    "0": "684",
                                    "1": "PIZZA JUMANJI",
                                    "2": "2"
                                },
                                {
                                    "0": "685",
                                    "1": "PLATOON INSTINCT",
                                    "2": "2"
                                },
                                {
                                    "0": "686",
                                    "1": "PLUTO OLEANDER",
                                    "2": "4"
                                },
                                {
                                    "0": "687",
                                    "1": "POCUS PULP",
                                    "2": "7"
                                },
                                {
                                    "0": "688",
                                    "1": "POLISH BROOKLYN",
                                    "2": "4"
                                },
                                {
                                    "0": "689",
                                    "1": "POLLOCK DELIVERANCE",
                                    "2": "6"
                                },
                                {
                                    "0": "690",
                                    "1": "POND SEATTLE",
                                    "2": "6"
                                },
                                {
                                    "0": "691",
                                    "1": "POSEIDON FOREVER",
                                    "2": "5"
                                },
                                {
                                    "0": "692",
                                    "1": "POTLUCK MIXED",
                                    "2": "3"
                                },
                                {
                                    "0": "693",
                                    "1": "POTTER CONNECTICUT",
                                    "2": "5"
                                },
                                {
                                    "0": "694",
                                    "1": "PREJUDICE OLEANDER",
                                    "2": "6"
                                },
                                {
                                    "0": "695",
                                    "1": "PRESIDENT BANG",
                                    "2": "2"
                                },
                                {
                                    "0": "696",
                                    "1": "PRIDE ALAMO",
                                    "2": "5"
                                },
                                {
                                    "0": "697",
                                    "1": "PRIMARY GLASS",
                                    "2": "8"
                                },
                                {
                                    "0": "698",
                                    "1": "PRINCESS GIANT",
                                    "2": "7"
                                },
                                {
                                    "0": "699",
                                    "1": "PRIVATE DROP",
                                    "2": "2"
                                },
                                {
                                    "0": "700",
                                    "1": "PRIX UNDEFEATED",
                                    "2": "3"
                                },
                                {
                                    "0": "701",
                                    "1": "PSYCHO SHRUNK",
                                    "2": "0"
                                },
                                {
                                    "0": "702",
                                    "1": "PULP BEVERLY",
                                    "2": "8"
                                },
                                {
                                    "0": "703",
                                    "1": "PUNK DIVORCE",
                                    "2": "2"
                                },
                                {
                                    "0": "704",
                                    "1": "PURE RUNNER",
                                    "2": "5"
                                },
                                {
                                    "0": "705",
                                    "1": "PURPLE MOVIE",
                                    "2": "4"
                                },
                                {
                                    "0": "706",
                                    "1": "QUEEN LUKE",
                                    "2": "6"
                                },
                                {
                                    "0": "707",
                                    "1": "QUEST MUSSOLINI",
                                    "2": "6"
                                },
                                {
                                    "0": "708",
                                    "1": "QUILLS BULL",
                                    "2": "4"
                                },
                                {
                                    "0": "709",
                                    "1": "RACER EGG",
                                    "2": "6"
                                },
                                {
                                    "0": "710",
                                    "1": "RAGE GAMES",
                                    "2": "6"
                                },
                                {
                                    "0": "711",
                                    "1": "RAGING AIRPLANE",
                                    "2": "4"
                                },
                                {
                                    "0": "712",
                                    "1": "RAIDERS ANTITRUST",
                                    "2": "0"
                                },
                                {
                                    "0": "713",
                                    "1": "RAINBOW SHOCK",
                                    "2": "0"
                                },
                                {
                                    "0": "714",
                                    "1": "RANDOM GO",
                                    "2": "3"
                                },
                                {
                                    "0": "715",
                                    "1": "RANGE MOONWALKER",
                                    "2": "7"
                                },
                                {
                                    "0": "716",
                                    "1": "REAP UNFAITHFUL",
                                    "2": "5"
                                },
                                {
                                    "0": "717",
                                    "1": "REAR TRADING",
                                    "2": "4"
                                },
                                {
                                    "0": "718",
                                    "1": "REBEL AIRPORT",
                                    "2": "2"
                                },
                                {
                                    "0": "719",
                                    "1": "RECORDS ZORRO",
                                    "2": "2"
                                },
                                {
                                    "0": "720",
                                    "1": "REDEMPTION COMFORTS",
                                    "2": "7"
                                },
                                {
                                    "0": "721",
                                    "1": "REDS POCUS",
                                    "2": "2"
                                },
                                {
                                    "0": "722",
                                    "1": "REEF SALUTE",
                                    "2": "4"
                                },
                                {
                                    "0": "723",
                                    "1": "REIGN GENTLEMEN",
                                    "2": "7"
                                },
                                {
                                    "0": "724",
                                    "1": "REMEMBER DIARY",
                                    "2": "6"
                                },
                                {
                                    "0": "725",
                                    "1": "REQUIEM TYCOON",
                                    "2": "6"
                                },
                                {
                                    "0": "726",
                                    "1": "RESERVOIR ADAPTATION",
                                    "2": "3"
                                },
                                {
                                    "0": "727",
                                    "1": "RESURRECTION SILVERADO",
                                    "2": "5"
                                },
                                {
                                    "0": "728",
                                    "1": "REUNION WITCHES",
                                    "2": "5"
                                },
                                {
                                    "0": "729",
                                    "1": "RIDER CADDYSHACK",
                                    "2": "4"
                                },
                                {
                                    "0": "730",
                                    "1": "RIDGEMONT SUBMARINE",
                                    "2": "8"
                                },
                                {
                                    "0": "731",
                                    "1": "RIGHT CRANES",
                                    "2": "3"
                                },
                                {
                                    "0": "732",
                                    "1": "RINGS HEARTBREAKERS",
                                    "2": "4"
                                },
                                {
                                    "0": "733",
                                    "1": "RIVER OUTLAW",
                                    "2": "7"
                                },
                                {
                                    "0": "734",
                                    "1": "ROAD ROXANNE",
                                    "2": "6"
                                },
                                {
                                    "0": "735",
                                    "1": "ROBBERS JOON",
                                    "2": "7"
                                },
                                {
                                    "0": "736",
                                    "1": "ROBBERY BRIGHT",
                                    "2": "4"
                                },
                                {
                                    "0": "737",
                                    "1": "ROCK INSTINCT",
                                    "2": "6"
                                },
                                {
                                    "0": "738",
                                    "1": "ROCKETEER MOTHER",
                                    "2": "8"
                                },
                                {
                                    "0": "739",
                                    "1": "ROCKY WAR",
                                    "2": "5"
                                },
                                {
                                    "0": "740",
                                    "1": "ROLLERCOASTER BRINGING",
                                    "2": "3"
                                },
                                {
                                    "0": "741",
                                    "1": "ROMAN PUNK",
                                    "2": "6"
                                },
                                {
                                    "0": "742",
                                    "1": "ROOF CHAMPION",
                                    "2": "0"
                                },
                                {
                                    "0": "743",
                                    "1": "ROOM ROMAN",
                                    "2": "6"
                                },
                                {
                                    "0": "744",
                                    "1": "ROOTS REMEMBER",
                                    "2": "5"
                                },
                                {
                                    "0": "745",
                                    "1": "ROSES TREASURE",
                                    "2": "8"
                                },
                                {
                                    "0": "746",
                                    "1": "ROUGE SQUAD",
                                    "2": "5"
                                },
                                {
                                    "0": "747",
                                    "1": "ROXANNE REBEL",
                                    "2": "5"
                                },
                                {
                                    "0": "748",
                                    "1": "RUGRATS SHAKESPEARE",
                                    "2": "8"
                                },
                                {
                                    "0": "749",
                                    "1": "RULES HUMAN",
                                    "2": "4"
                                },
                                {
                                    "0": "750",
                                    "1": "RUN PACIFIC",
                                    "2": "3"
                                },
                                {
                                    "0": "751",
                                    "1": "RUNAWAY TENENBAUMS",
                                    "2": "2"
                                },
                                {
                                    "0": "752",
                                    "1": "RUNNER MADIGAN",
                                    "2": "3"
                                },
                                {
                                    "0": "753",
                                    "1": "RUSH GOODFELLAS",
                                    "2": "8"
                                },
                                {
                                    "0": "754",
                                    "1": "RUSHMORE MERMAID",
                                    "2": "2"
                                },
                                {
                                    "0": "755",
                                    "1": "SABRINA MIDNIGHT",
                                    "2": "7"
                                },
                                {
                                    "0": "756",
                                    "1": "SADDLE ANTITRUST",
                                    "2": "3"
                                },
                                {
                                    "0": "757",
                                    "1": "SAGEBRUSH CLUELESS",
                                    "2": "5"
                                },
                                {
                                    "0": "758",
                                    "1": "SAINTS BRIDE",
                                    "2": "3"
                                },
                                {
                                    "0": "759",
                                    "1": "SALUTE APOLLO",
                                    "2": "6"
                                },
                                {
                                    "0": "760",
                                    "1": "SAMURAI LION",
                                    "2": "7"
                                },
                                {
                                    "0": "761",
                                    "1": "SANTA PARIS",
                                    "2": "3"
                                },
                                {
                                    "0": "762",
                                    "1": "SASSY PACKER",
                                    "2": "4"
                                },
                                {
                                    "0": "763",
                                    "1": "SATISFACTION CONFIDENTIAL",
                                    "2": "5"
                                },
                                {
                                    "0": "764",
                                    "1": "SATURDAY LAMBS",
                                    "2": "8"
                                },
                                {
                                    "0": "765",
                                    "1": "SATURN NAME",
                                    "2": "4"
                                },
                                {
                                    "0": "766",
                                    "1": "SAVANNAH TOWN",
                                    "2": "3"
                                },
                                {
                                    "0": "767",
                                    "1": "SCALAWAG DUCK",
                                    "2": "8"
                                },
                                {
                                    "0": "768",
                                    "1": "SCARFACE BANG",
                                    "2": "6"
                                },
                                {
                                    "0": "769",
                                    "1": "SCHOOL JACKET",
                                    "2": "2"
                                },
                                {
                                    "0": "770",
                                    "1": "SCISSORHANDS SLUMS",
                                    "2": "3"
                                },
                                {
                                    "0": "771",
                                    "1": "SCORPION APOLLO",
                                    "2": "7"
                                },
                                {
                                    "0": "772",
                                    "1": "SEA VIRGIN",
                                    "2": "6"
                                },
                                {
                                    "0": "773",
                                    "1": "SEABISCUIT PUNK",
                                    "2": "8"
                                },
                                {
                                    "0": "774",
                                    "1": "SEARCHERS WAIT",
                                    "2": "4"
                                },
                                {
                                    "0": "775",
                                    "1": "SEATTLE EXPECATIONS",
                                    "2": "5"
                                },
                                {
                                    "0": "776",
                                    "1": "SECRET GROUNDHOG",
                                    "2": "5"
                                },
                                {
                                    "0": "777",
                                    "1": "SECRETARY ROUGE",
                                    "2": "6"
                                },
                                {
                                    "0": "778",
                                    "1": "SECRETS PARADISE",
                                    "2": "6"
                                },
                                {
                                    "0": "779",
                                    "1": "SENSE GREEK",
                                    "2": "2"
                                },
                                {
                                    "0": "780",
                                    "1": "SENSIBILITY REAR",
                                    "2": "3"
                                },
                                {
                                    "0": "781",
                                    "1": "SEVEN SWARM",
                                    "2": "2"
                                },
                                {
                                    "0": "782",
                                    "1": "SHAKESPEARE SADDLE",
                                    "2": "6"
                                },
                                {
                                    "0": "783",
                                    "1": "SHANE DARKNESS",
                                    "2": "4"
                                },
                                {
                                    "0": "784",
                                    "1": "SHANGHAI TYCOON",
                                    "2": "6"
                                },
                                {
                                    "0": "785",
                                    "1": "SHAWSHANK BUBBLE",
                                    "2": "6"
                                },
                                {
                                    "0": "786",
                                    "1": "SHEPHERD MIDSUMMER",
                                    "2": "7"
                                },
                                {
                                    "0": "787",
                                    "1": "SHINING ROSES",
                                    "2": "3"
                                },
                                {
                                    "0": "788",
                                    "1": "SHIP WONDERLAND",
                                    "2": "4"
                                },
                                {
                                    "0": "789",
                                    "1": "SHOCK CABIN",
                                    "2": "8"
                                },
                                {
                                    "0": "790",
                                    "1": "SHOOTIST SUPERFLY",
                                    "2": "7"
                                },
                                {
                                    "0": "791",
                                    "1": "SHOW LORD",
                                    "2": "6"
                                },
                                {
                                    "0": "792",
                                    "1": "SHREK LICENSE",
                                    "2": "3"
                                },
                                {
                                    "0": "793",
                                    "1": "SHRUNK DIVINE",
                                    "2": "4"
                                },
                                {
                                    "0": "794",
                                    "1": "SIDE ARK",
                                    "2": "4"
                                },
                                {
                                    "0": "795",
                                    "1": "SIEGE MADRE",
                                    "2": "4"
                                },
                                {
                                    "0": "796",
                                    "1": "SIERRA DIVIDE",
                                    "2": "5"
                                },
                                {
                                    "0": "797",
                                    "1": "SILENCE KANE",
                                    "2": "5"
                                },
                                {
                                    "0": "798",
                                    "1": "SILVERADO GOLDFINGER",
                                    "2": "4"
                                },
                                {
                                    "0": "799",
                                    "1": "SIMON NORTH",
                                    "2": "2"
                                },
                                {
                                    "0": "800",
                                    "1": "SINNERS ATLANTIS",
                                    "2": "6"
                                },
                                {
                                    "0": "801",
                                    "1": "SISTER FREDDY",
                                    "2": "0"
                                },
                                {
                                    "0": "802",
                                    "1": "SKY MIRACLE",
                                    "2": "0"
                                },
                                {
                                    "0": "803",
                                    "1": "SLACKER LIAISONS",
                                    "2": "6"
                                },
                                {
                                    "0": "804",
                                    "1": "SLEEPING SUSPECTS",
                                    "2": "7"
                                },
                                {
                                    "0": "805",
                                    "1": "SLEEPLESS MONSOON",
                                    "2": "5"
                                },
                                {
                                    "0": "806",
                                    "1": "SLEEPY JAPANESE",
                                    "2": "5"
                                },
                                {
                                    "0": "807",
                                    "1": "SLEUTH ORIENT",
                                    "2": "5"
                                },
                                {
                                    "0": "808",
                                    "1": "SLING LUKE",
                                    "2": "2"
                                },
                                {
                                    "0": "809",
                                    "1": "SLIPPER FIDELITY",
                                    "2": "4"
                                },
                                {
                                    "0": "810",
                                    "1": "SLUMS DUCK",
                                    "2": "7"
                                },
                                {
                                    "0": "811",
                                    "1": "SMILE EARRING",
                                    "2": "3"
                                },
                                {
                                    "0": "812",
                                    "1": "SMOKING BARBARELLA",
                                    "2": "6"
                                },
                                {
                                    "0": "813",
                                    "1": "SMOOCHY CONTROL",
                                    "2": "4"
                                },
                                {
                                    "0": "814",
                                    "1": "SNATCH SLIPPER",
                                    "2": "7"
                                },
                                {
                                    "0": "815",
                                    "1": "SNATCHERS MONTEZUMA",
                                    "2": "3"
                                },
                                {
                                    "0": "816",
                                    "1": "SNOWMAN ROLLERCOASTER",
                                    "2": "7"
                                },
                                {
                                    "0": "817",
                                    "1": "SOLDIERS EVOLUTION",
                                    "2": "2"
                                },
                                {
                                    "0": "818",
                                    "1": "SOMETHING DUCK",
                                    "2": "5"
                                },
                                {
                                    "0": "819",
                                    "1": "SONG HEDWIG",
                                    "2": "3"
                                },
                                {
                                    "0": "820",
                                    "1": "SONS INTERVIEW",
                                    "2": "6"
                                },
                                {
                                    "0": "821",
                                    "1": "SORORITY QUEEN",
                                    "2": "4"
                                },
                                {
                                    "0": "822",
                                    "1": "SOUP WISDOM",
                                    "2": "2"
                                },
                                {
                                    "0": "823",
                                    "1": "SOUTH WAIT",
                                    "2": "7"
                                },
                                {
                                    "0": "824",
                                    "1": "SPARTACUS CHEAPER",
                                    "2": "4"
                                },
                                {
                                    "0": "825",
                                    "1": "SPEAKEASY DATE",
                                    "2": "3"
                                },
                                {
                                    "0": "826",
                                    "1": "SPEED SUIT",
                                    "2": "2"
                                },
                                {
                                    "0": "827",
                                    "1": "SPICE SORORITY",
                                    "2": "6"
                                },
                                {
                                    "0": "828",
                                    "1": "SPIKING ELEMENT",
                                    "2": "4"
                                },
                                {
                                    "0": "829",
                                    "1": "SPINAL ROCKY",
                                    "2": "5"
                                },
                                {
                                    "0": "830",
                                    "1": "SPIRIT FLINTSTONES",
                                    "2": "4"
                                },
                                {
                                    "0": "831",
                                    "1": "SPIRITED CASUALTIES",
                                    "2": "3"
                                },
                                {
                                    "0": "832",
                                    "1": "SPLASH GUMP",
                                    "2": "4"
                                },
                                {
                                    "0": "833",
                                    "1": "SPLENDOR PATTON",
                                    "2": "7"
                                },
                                {
                                    "0": "834",
                                    "1": "SPOILERS HELLFIGHTERS",
                                    "2": "3"
                                },
                                {
                                    "0": "835",
                                    "1": "SPY MILE",
                                    "2": "8"
                                },
                                {
                                    "0": "836",
                                    "1": "SQUAD FISH",
                                    "2": "3"
                                },
                                {
                                    "0": "837",
                                    "1": "STAGE WORLD",
                                    "2": "3"
                                },
                                {
                                    "0": "838",
                                    "1": "STAGECOACH ARMAGEDDON",
                                    "2": "6"
                                },
                                {
                                    "0": "839",
                                    "1": "STALLION SUNDANCE",
                                    "2": "2"
                                },
                                {
                                    "0": "840",
                                    "1": "STAMPEDE DISTURBING",
                                    "2": "4"
                                },
                                {
                                    "0": "841",
                                    "1": "STAR OPERATION",
                                    "2": "7"
                                },
                                {
                                    "0": "842",
                                    "1": "STATE WASTELAND",
                                    "2": "4"
                                },
                                {
                                    "0": "843",
                                    "1": "STEEL SANTA",
                                    "2": "7"
                                },
                                {
                                    "0": "844",
                                    "1": "STEERS ARMAGEDDON",
                                    "2": "4"
                                },
                                {
                                    "0": "845",
                                    "1": "STEPMOM DREAM",
                                    "2": "7"
                                },
                                {
                                    "0": "846",
                                    "1": "STING PERSONAL",
                                    "2": "8"
                                },
                                {
                                    "0": "847",
                                    "1": "STOCK GLASS",
                                    "2": "4"
                                },
                                {
                                    "0": "848",
                                    "1": "STONE FIRE",
                                    "2": "3"
                                },
                                {
                                    "0": "849",
                                    "1": "STORM HAPPINESS",
                                    "2": "8"
                                },
                                {
                                    "0": "850",
                                    "1": "STORY SIDE",
                                    "2": "7"
                                },
                                {
                                    "0": "851",
                                    "1": "STRAIGHT HOURS",
                                    "2": "6"
                                },
                                {
                                    "0": "852",
                                    "1": "STRANGELOVE DESIRE",
                                    "2": "7"
                                },
                                {
                                    "0": "853",
                                    "1": "STRANGER STRANGERS",
                                    "2": "3"
                                },
                                {
                                    "0": "854",
                                    "1": "STRANGERS GRAFFITI",
                                    "2": "4"
                                },
                                {
                                    "0": "855",
                                    "1": "STREAK RIDGEMONT",
                                    "2": "4"
                                },
                                {
                                    "0": "856",
                                    "1": "STREETCAR INTENTIONS",
                                    "2": "8"
                                },
                                {
                                    "0": "857",
                                    "1": "STRICTLY SCARFACE",
                                    "2": "7"
                                },
                                {
                                    "0": "858",
                                    "1": "SUBMARINE BED",
                                    "2": "4"
                                },
                                {
                                    "0": "859",
                                    "1": "SUGAR WONKA",
                                    "2": "6"
                                },
                                {
                                    "0": "860",
                                    "1": "SUICIDES SILENCE",
                                    "2": "0"
                                },
                                {
                                    "0": "861",
                                    "1": "SUIT WALLS",
                                    "2": "6"
                                },
                                {
                                    "0": "862",
                                    "1": "SUMMER SCARFACE",
                                    "2": "5"
                                },
                                {
                                    "0": "863",
                                    "1": "SUN CONFESSIONS",
                                    "2": "7"
                                },
                                {
                                    "0": "864",
                                    "1": "SUNDANCE INVASION",
                                    "2": "6"
                                },
                                {
                                    "0": "865",
                                    "1": "SUNRISE LEAGUE",
                                    "2": "6"
                                },
                                {
                                    "0": "866",
                                    "1": "SUNSET RACER",
                                    "2": "2"
                                },
                                {
                                    "0": "867",
                                    "1": "SUPER WYOMING",
                                    "2": "4"
                                },
                                {
                                    "0": "868",
                                    "1": "SUPERFLY TRIP",
                                    "2": "3"
                                },
                                {
                                    "0": "869",
                                    "1": "SUSPECTS QUILLS",
                                    "2": "7"
                                },
                                {
                                    "0": "870",
                                    "1": "SWARM GOLD",
                                    "2": "8"
                                },
                                {
                                    "0": "871",
                                    "1": "SWEDEN SHINING",
                                    "2": "5"
                                },
                                {
                                    "0": "872",
                                    "1": "SWEET BROTHERHOOD",
                                    "2": "3"
                                },
                                {
                                    "0": "873",
                                    "1": "SWEETHEARTS SUSPECTS",
                                    "2": "8"
                                },
                                {
                                    "0": "874",
                                    "1": "TADPOLE PARK",
                                    "2": "0"
                                },
                                {
                                    "0": "875",
                                    "1": "TALENTED HOMICIDE",
                                    "2": "7"
                                },
                                {
                                    "0": "876",
                                    "1": "TARZAN VIDEOTAPE",
                                    "2": "2"
                                },
                                {
                                    "0": "877",
                                    "1": "TAXI KICK",
                                    "2": "5"
                                },
                                {
                                    "0": "878",
                                    "1": "TEEN APOLLO",
                                    "2": "4"
                                },
                                {
                                    "0": "879",
                                    "1": "TELEGRAPH VOYAGE",
                                    "2": "7"
                                },
                                {
                                    "0": "880",
                                    "1": "TELEMARK HEARTBREAKERS",
                                    "2": "8"
                                },
                                {
                                    "0": "881",
                                    "1": "TEMPLE ATTRACTION",
                                    "2": "4"
                                },
                                {
                                    "0": "882",
                                    "1": "TENENBAUMS COMMAND",
                                    "2": "4"
                                },
                                {
                                    "0": "883",
                                    "1": "TEQUILA PAST",
                                    "2": "2"
                                },
                                {
                                    "0": "884",
                                    "1": "TERMINATOR CLUB",
                                    "2": "3"
                                },
                                {
                                    "0": "885",
                                    "1": "TEXAS WATCH",
                                    "2": "2"
                                },
                                {
                                    "0": "886",
                                    "1": "THEORY MERMAID",
                                    "2": "4"
                                },
                                {
                                    "0": "887",
                                    "1": "THIEF PELICAN",
                                    "2": "6"
                                },
                                {
                                    "0": "888",
                                    "1": "THIN SAGEBRUSH",
                                    "2": "4"
                                },
                                {
                                    "0": "889",
                                    "1": "TIES HUNGER",
                                    "2": "3"
                                },
                                {
                                    "0": "890",
                                    "1": "TIGHTS DAWN",
                                    "2": "7"
                                },
                                {
                                    "0": "891",
                                    "1": "TIMBERLAND SKY",
                                    "2": "7"
                                },
                                {
                                    "0": "892",
                                    "1": "TITANIC BOONDOCK",
                                    "2": "7"
                                },
                                {
                                    "0": "893",
                                    "1": "TITANS JERK",
                                    "2": "8"
                                },
                                {
                                    "0": "894",
                                    "1": "TOMATOES HELLFIGHTERS",
                                    "2": "5"
                                },
                                {
                                    "0": "895",
                                    "1": "TOMORROW HUSTLER",
                                    "2": "7"
                                },
                                {
                                    "0": "896",
                                    "1": "TOOTSIE PILOT",
                                    "2": "4"
                                },
                                {
                                    "0": "897",
                                    "1": "TORQUE BOUND",
                                    "2": "8"
                                },
                                {
                                    "0": "898",
                                    "1": "TOURIST PELICAN",
                                    "2": "5"
                                },
                                {
                                    "0": "899",
                                    "1": "TOWERS HURRICANE",
                                    "2": "3"
                                },
                                {
                                    "0": "900",
                                    "1": "TOWN ARK",
                                    "2": "4"
                                },
                                {
                                    "0": "901",
                                    "1": "TRACY CIDER",
                                    "2": "7"
                                },
                                {
                                    "0": "902",
                                    "1": "TRADING PINOCCHIO",
                                    "2": "7"
                                },
                                {
                                    "0": "903",
                                    "1": "TRAFFIC HOBBIT",
                                    "2": "2"
                                },
                                {
                                    "0": "904",
                                    "1": "TRAIN BUNCH",
                                    "2": "2"
                                },
                                {
                                    "0": "905",
                                    "1": "TRAINSPOTTING STRANGERS",
                                    "2": "3"
                                },
                                {
                                    "0": "906",
                                    "1": "TRAMP OTHERS",
                                    "2": "5"
                                },
                                {
                                    "0": "907",
                                    "1": "TRANSLATION SUMMER",
                                    "2": "4"
                                },
                                {
                                    "0": "908",
                                    "1": "TRAP GUYS",
                                    "2": "4"
                                },
                                {
                                    "0": "909",
                                    "1": "TREASURE COMMAND",
                                    "2": "0"
                                },
                                {
                                    "0": "910",
                                    "1": "TREATMENT JEKYLL",
                                    "2": "2"
                                },
                                {
                                    "0": "911",
                                    "1": "TRIP NEWTON",
                                    "2": "8"
                                },
                                {
                                    "0": "912",
                                    "1": "TROJAN TOMORROW",
                                    "2": "6"
                                },
                                {
                                    "0": "913",
                                    "1": "TROOPERS METAL",
                                    "2": "6"
                                },
                                {
                                    "0": "914",
                                    "1": "TROUBLE DATE",
                                    "2": "6"
                                },
                                {
                                    "0": "915",
                                    "1": "TRUMAN CRAZY",
                                    "2": "6"
                                },
                                {
                                    "0": "916",
                                    "1": "TURN STAR",
                                    "2": "4"
                                },
                                {
                                    "0": "917",
                                    "1": "TUXEDO MILE",
                                    "2": "5"
                                },
                                {
                                    "0": "918",
                                    "1": "TWISTED PIRATES",
                                    "2": "4"
                                },
                                {
                                    "0": "919",
                                    "1": "TYCOON GATHERING",
                                    "2": "4"
                                },
                                {
                                    "0": "920",
                                    "1": "UNBREAKABLE KARATE",
                                    "2": "5"
                                },
                                {
                                    "0": "921",
                                    "1": "UNCUT SUICIDES",
                                    "2": "4"
                                },
                                {
                                    "0": "922",
                                    "1": "UNDEFEATED DALMATIONS",
                                    "2": "7"
                                },
                                {
                                    "0": "923",
                                    "1": "UNFAITHFUL KILL",
                                    "2": "3"
                                },
                                {
                                    "0": "924",
                                    "1": "UNFORGIVEN ZOOLANDER",
                                    "2": "5"
                                },
                                {
                                    "0": "925",
                                    "1": "UNITED PILOT",
                                    "2": "5"
                                },
                                {
                                    "0": "926",
                                    "1": "UNTOUCHABLES SUNRISE",
                                    "2": "2"
                                },
                                {
                                    "0": "927",
                                    "1": "UPRISING UPTOWN",
                                    "2": "4"
                                },
                                {
                                    "0": "928",
                                    "1": "UPTOWN YOUNG",
                                    "2": "3"
                                },
                                {
                                    "0": "929",
                                    "1": "USUAL UNTOUCHABLES",
                                    "2": "4"
                                },
                                {
                                    "0": "930",
                                    "1": "VACATION BOONDOCK",
                                    "2": "6"
                                },
                                {
                                    "0": "931",
                                    "1": "VALENTINE VANISHING",
                                    "2": "3"
                                },
                                {
                                    "0": "932",
                                    "1": "VALLEY PACKER",
                                    "2": "4"
                                },
                                {
                                    "0": "933",
                                    "1": "VAMPIRE WHALE",
                                    "2": "3"
                                },
                                {
                                    "0": "934",
                                    "1": "VANILLA DAY",
                                    "2": "3"
                                },
                                {
                                    "0": "935",
                                    "1": "VANISHED GARDEN",
                                    "2": "2"
                                },
                                {
                                    "0": "936",
                                    "1": "VANISHING ROCKY",
                                    "2": "6"
                                },
                                {
                                    "0": "937",
                                    "1": "VARSITY TRIP",
                                    "2": "5"
                                },
                                {
                                    "0": "938",
                                    "1": "VELVET TERMINATOR",
                                    "2": "6"
                                },
                                {
                                    "0": "939",
                                    "1": "VERTIGO NORTHWEST",
                                    "2": "4"
                                },
                                {
                                    "0": "940",
                                    "1": "VICTORY ACADEMY",
                                    "2": "3"
                                },
                                {
                                    "0": "941",
                                    "1": "VIDEOTAPE ARSENIC",
                                    "2": "7"
                                },
                                {
                                    "0": "942",
                                    "1": "VIETNAM SMOOCHY",
                                    "2": "4"
                                },
                                {
                                    "0": "943",
                                    "1": "VILLAIN DESPERATE",
                                    "2": "0"
                                },
                                {
                                    "0": "944",
                                    "1": "VIRGIN DAISY",
                                    "2": "5"
                                },
                                {
                                    "0": "945",
                                    "1": "VIRGINIAN PLUTO",
                                    "2": "8"
                                },
                                {
                                    "0": "946",
                                    "1": "VIRTUAL SPOILERS",
                                    "2": "4"
                                },
                                {
                                    "0": "947",
                                    "1": "VISION TORQUE",
                                    "2": "2"
                                },
                                {
                                    "0": "948",
                                    "1": "VOICE PEACH",
                                    "2": "6"
                                },
                                {
                                    "0": "949",
                                    "1": "VOLCANO TEXAS",
                                    "2": "6"
                                },
                                {
                                    "0": "950",
                                    "1": "VOLUME HOUSE",
                                    "2": "0"
                                },
                                {
                                    "0": "951",
                                    "1": "VOYAGE LEGALLY",
                                    "2": "7"
                                },
                                {
                                    "0": "952",
                                    "1": "WAGON JAWS",
                                    "2": "3"
                                },
                                {
                                    "0": "953",
                                    "1": "WAIT CIDER",
                                    "2": "6"
                                },
                                {
                                    "0": "954",
                                    "1": "WAKE JAWS",
                                    "2": "0"
                                },
                                {
                                    "0": "955",
                                    "1": "WALLS ARTIST",
                                    "2": "0"
                                },
                                {
                                    "0": "956",
                                    "1": "WANDA CHAMBER",
                                    "2": "4"
                                },
                                {
                                    "0": "957",
                                    "1": "WAR NOTTING",
                                    "2": "5"
                                },
                                {
                                    "0": "958",
                                    "1": "WARDROBE PHANTOM",
                                    "2": "6"
                                },
                                {
                                    "0": "959",
                                    "1": "WARLOCK WEREWOLF",
                                    "2": "2"
                                },
                                {
                                    "0": "960",
                                    "1": "WARS PLUTO",
                                    "2": "3"
                                },
                                {
                                    "0": "961",
                                    "1": "WASH HEAVENLY",
                                    "2": "5"
                                },
                                {
                                    "0": "962",
                                    "1": "WASTELAND DIVINE",
                                    "2": "4"
                                },
                                {
                                    "0": "963",
                                    "1": "WATCH TRACY",
                                    "2": "5"
                                },
                                {
                                    "0": "964",
                                    "1": "WATERFRONT DELIVERANCE",
                                    "2": "5"
                                },
                                {
                                    "0": "965",
                                    "1": "WATERSHIP FRONTIER",
                                    "2": "2"
                                },
                                {
                                    "0": "966",
                                    "1": "WEDDING APOLLO",
                                    "2": "6"
                                },
                                {
                                    "0": "967",
                                    "1": "WEEKEND PERSONAL",
                                    "2": "5"
                                },
                                {
                                    "0": "968",
                                    "1": "WEREWOLF LOLA",
                                    "2": "3"
                                },
                                {
                                    "0": "969",
                                    "1": "WEST LION",
                                    "2": "4"
                                },
                                {
                                    "0": "970",
                                    "1": "WESTWARD SEABISCUIT",
                                    "2": "7"
                                },
                                {
                                    "0": "971",
                                    "1": "WHALE BIKINI",
                                    "2": "4"
                                },
                                {
                                    "0": "972",
                                    "1": "WHISPERER GIANT",
                                    "2": "6"
                                },
                                {
                                    "0": "973",
                                    "1": "WIFE TURN",
                                    "2": "8"
                                },
                                {
                                    "0": "974",
                                    "1": "WILD APOLLO",
                                    "2": "2"
                                },
                                {
                                    "0": "975",
                                    "1": "WILLOW TRACY",
                                    "2": "5"
                                },
                                {
                                    "0": "976",
                                    "1": "WIND PHANTOM",
                                    "2": "6"
                                },
                                {
                                    "0": "977",
                                    "1": "WINDOW SIDE",
                                    "2": "3"
                                },
                                {
                                    "0": "978",
                                    "1": "WISDOM WORKER",
                                    "2": "3"
                                },
                                {
                                    "0": "979",
                                    "1": "WITCHES PANIC",
                                    "2": "7"
                                },
                                {
                                    "0": "980",
                                    "1": "WIZARD COLDBLOODED",
                                    "2": "5"
                                },
                                {
                                    "0": "981",
                                    "1": "WOLVES DESIRE",
                                    "2": "6"
                                },
                                {
                                    "0": "982",
                                    "1": "WOMEN DORADO",
                                    "2": "7"
                                },
                                {
                                    "0": "983",
                                    "1": "WON DARES",
                                    "2": "3"
                                },
                                {
                                    "0": "984",
                                    "1": "WONDERFUL DROP",
                                    "2": "2"
                                },
                                {
                                    "0": "985",
                                    "1": "WONDERLAND CHRISTMAS",
                                    "2": "7"
                                },
                                {
                                    "0": "986",
                                    "1": "WONKA SEA",
                                    "2": "6"
                                },
                                {
                                    "0": "987",
                                    "1": "WORDS HUNTER",
                                    "2": "4"
                                },
                                {
                                    "0": "988",
                                    "1": "WORKER TARZAN",
                                    "2": "5"
                                },
                                {
                                    "0": "989",
                                    "1": "WORKING MICROCOSMOS",
                                    "2": "6"
                                },
                                {
                                    "0": "990",
                                    "1": "WORLD LEATHERNECKS",
                                    "2": "2"
                                },
                                {
                                    "0": "991",
                                    "1": "WORST BANGER",
                                    "2": "5"
                                },
                                {
                                    "0": "992",
                                    "1": "WRATH MILE",
                                    "2": "4"
                                },
                                {
                                    "0": "993",
                                    "1": "WRONG BEHAVIOR",
                                    "2": "7"
                                },
                                {
                                    "0": "994",
                                    "1": "WYOMING STORM",
                                    "2": "3"
                                },
                                {
                                    "0": "995",
                                    "1": "YENTL IDAHO",
                                    "2": "6"
                                },
                                {
                                    "0": "996",
                                    "1": "YOUNG LANGUAGE",
                                    "2": "2"
                                },
                                {
                                    "0": "997",
                                    "1": "YOUTH KICK",
                                    "2": "2"
                                },
                                {
                                    "0": "998",
                                    "1": "ZHIVAGO CORE",
                                    "2": "2"
                                },
                                {
                                    "0": "999",
                                    "1": "ZOOLANDER FICTION",
                                    "2": "5"
                                },
                                {
                                    "0": "1000",
                                    "1": "ZORRO ARK",
                                    "2": "8"
                                }
                            ]
                        },
                        "text/html": [
                            "<table>",
                            "<tr><th>film_id</th><th>title</th><th>num_copies</th></tr>",
                            "<tr><td>1</td><td>ACADEMY DINOSAUR</td><td>8</td></tr>",
                            "<tr><td>2</td><td>ACE GOLDFINGER</td><td>3</td></tr>",
                            "<tr><td>3</td><td>ADAPTATION HOLES</td><td>4</td></tr>",
                            "<tr><td>4</td><td>AFFAIR PREJUDICE</td><td>7</td></tr>",
                            "<tr><td>5</td><td>AFRICAN EGG</td><td>3</td></tr>",
                            "<tr><td>6</td><td>AGENT TRUMAN</td><td>6</td></tr>",
                            "<tr><td>7</td><td>AIRPLANE SIERRA</td><td>5</td></tr>",
                            "<tr><td>8</td><td>AIRPORT POLLOCK</td><td>4</td></tr>",
                            "<tr><td>9</td><td>ALABAMA DEVIL</td><td>5</td></tr>",
                            "<tr><td>10</td><td>ALADDIN CALENDAR</td><td>7</td></tr>",
                            "<tr><td>11</td><td>ALAMO VIDEOTAPE</td><td>7</td></tr>",
                            "<tr><td>12</td><td>ALASKA PHANTOM</td><td>7</td></tr>",
                            "<tr><td>13</td><td>ALI FOREVER</td><td>4</td></tr>",
                            "<tr><td>14</td><td>ALICE FANTASIA</td><td>0</td></tr>",
                            "<tr><td>15</td><td>ALIEN CENTER</td><td>6</td></tr>",
                            "<tr><td>16</td><td>ALLEY EVOLUTION</td><td>4</td></tr>",
                            "<tr><td>17</td><td>ALONE TRIP</td><td>6</td></tr>",
                            "<tr><td>18</td><td>ALTER VICTORY</td><td>6</td></tr>",
                            "<tr><td>19</td><td>AMADEUS HOLY</td><td>6</td></tr>",
                            "<tr><td>20</td><td>AMELIE HELLFIGHTERS</td><td>3</td></tr>",
                            "<tr><td>21</td><td>AMERICAN CIRCUS</td><td>6</td></tr>",
                            "<tr><td>22</td><td>AMISTAD MIDSUMMER</td><td>7</td></tr>",
                            "<tr><td>23</td><td>ANACONDA CONFESSIONS</td><td>5</td></tr>",
                            "<tr><td>24</td><td>ANALYZE HOOSIERS</td><td>4</td></tr>",
                            "<tr><td>25</td><td>ANGELS LIFE</td><td>6</td></tr>",
                            "<tr><td>26</td><td>ANNIE IDENTITY</td><td>5</td></tr>",
                            "<tr><td>27</td><td>ANONYMOUS HUMAN</td><td>4</td></tr>",
                            "<tr><td>28</td><td>ANTHEM LUKE</td><td>3</td></tr>",
                            "<tr><td>29</td><td>ANTITRUST TOMATOES</td><td>2</td></tr>",
                            "<tr><td>30</td><td>ANYTHING SAVANNAH</td><td>2</td></tr>",
                            "<tr><td>31</td><td>APACHE DIVINE</td><td>8</td></tr>",
                            "<tr><td>32</td><td>APOCALYPSE FLAMINGOS</td><td>2</td></tr>",
                            "<tr><td>33</td><td>APOLLO TEEN</td><td>0</td></tr>",
                            "<tr><td>34</td><td>ARABIA DOGMA</td><td>4</td></tr>",
                            "<tr><td>35</td><td>ARACHNOPHOBIA ROLLERCOASTER</td><td>7</td></tr>",
                            "<tr><td>36</td><td>ARGONAUTS TOWN</td><td>0</td></tr>",
                            "<tr><td>37</td><td>ARIZONA BANG</td><td>7</td></tr>",
                            "<tr><td>38</td><td>ARK RIDGEMONT</td><td>0</td></tr>",
                            "<tr><td>39</td><td>ARMAGEDDON LOST</td><td>7</td></tr>",
                            "<tr><td>40</td><td>ARMY FLINTSTONES</td><td>4</td></tr>",
                            "<tr><td>41</td><td>ARSENIC INDEPENDENCE</td><td>0</td></tr>",
                            "<tr><td>42</td><td>ARTIST COLDBLOODED</td><td>4</td></tr>",
                            "<tr><td>43</td><td>ATLANTIS CAUSE</td><td>7</td></tr>",
                            "<tr><td>44</td><td>ATTACKS HATE</td><td>5</td></tr>",
                            "<tr><td>45</td><td>ATTRACTION NEWTON</td><td>6</td></tr>",
                            "<tr><td>46</td><td>AUTUMN CROW</td><td>3</td></tr>",
                            "<tr><td>47</td><td>BABY HALL</td><td>2</td></tr>",
                            "<tr><td>48</td><td>BACKLASH UNDEFEATED</td><td>4</td></tr>",
                            "<tr><td>49</td><td>BADMAN DAWN</td><td>6</td></tr>",
                            "<tr><td>50</td><td>BAKED CLEOPATRA</td><td>5</td></tr>",
                            "<tr><td>51</td><td>BALLOON HOMEWARD</td><td>6</td></tr>",
                            "<tr><td>52</td><td>BALLROOM MOCKINGBIRD</td><td>2</td></tr>",
                            "<tr><td>53</td><td>BANG KWAI</td><td>2</td></tr>",
                            "<tr><td>54</td><td>BANGER PINOCCHIO</td><td>5</td></tr>",
                            "<tr><td>55</td><td>BARBARELLA STREETCAR</td><td>6</td></tr>",
                            "<tr><td>56</td><td>BAREFOOT MANCHURIAN</td><td>5</td></tr>",
                            "<tr><td>57</td><td>BASIC EASY</td><td>7</td></tr>",
                            "<tr><td>58</td><td>BEACH HEARTBREAKERS</td><td>4</td></tr>",
                            "<tr><td>59</td><td>BEAR GRACELAND</td><td>5</td></tr>",
                            "<tr><td>60</td><td>BEAST HUNCHBACK</td><td>3</td></tr>",
                            "<tr><td>61</td><td>BEAUTY GREASE</td><td>6</td></tr>",
                            "<tr><td>62</td><td>BED HIGHBALL</td><td>2</td></tr>",
                            "<tr><td>63</td><td>BEDAZZLED MARRIED</td><td>4</td></tr>",
                            "<tr><td>64</td><td>BEETHOVEN EXORCIST</td><td>3</td></tr>",
                            "<tr><td>65</td><td>BEHAVIOR RUNAWAY</td><td>4</td></tr>",
                            "<tr><td>66</td><td>BENEATH RUSH</td><td>3</td></tr>",
                            "<tr><td>67</td><td>BERETS AGENT</td><td>6</td></tr>",
                            "<tr><td>68</td><td>BETRAYED REAR</td><td>4</td></tr>",
                            "<tr><td>69</td><td>BEVERLY OUTLAW</td><td>8</td></tr>",
                            "<tr><td>70</td><td>BIKINI BORROWERS</td><td>4</td></tr>",
                            "<tr><td>71</td><td>BILKO ANONYMOUS</td><td>4</td></tr>",
                            "<tr><td>72</td><td>BILL OTHERS</td><td>6</td></tr>",
                            "<tr><td>73</td><td>BINGO TALENTED</td><td>8</td></tr>",
                            "<tr><td>74</td><td>BIRCH ANTITRUST</td><td>5</td></tr>",
                            "<tr><td>75</td><td>BIRD INDEPENDENCE</td><td>3</td></tr>",
                            "<tr><td>76</td><td>BIRDCAGE CASPER</td><td>3</td></tr>",
                            "<tr><td>77</td><td>BIRDS PERDITION</td><td>6</td></tr>",
                            "<tr><td>78</td><td>BLACKOUT PRIVATE</td><td>7</td></tr>",
                            "<tr><td>79</td><td>BLADE POLISH</td><td>6</td></tr>",
                            "<tr><td>80</td><td>BLANKET BEVERLY</td><td>4</td></tr>",
                            "<tr><td>81</td><td>BLINDNESS GUN</td><td>4</td></tr>",
                            "<tr><td>82</td><td>BLOOD ARGONAUTS</td><td>2</td></tr>",
                            "<tr><td>83</td><td>BLUES INSTINCT</td><td>5</td></tr>",
                            "<tr><td>84</td><td>BOILED DARES</td><td>4</td></tr>",
                            "<tr><td>85</td><td>BONNIE HOLOCAUST</td><td>4</td></tr>",
                            "<tr><td>86</td><td>BOOGIE AMELIE</td><td>8</td></tr>",
                            "<tr><td>87</td><td>BOONDOCK BALLROOM</td><td>0</td></tr>",
                            "<tr><td>88</td><td>BORN SPINAL</td><td>4</td></tr>",
                            "<tr><td>89</td><td>BORROWERS BEDAZZLED</td><td>6</td></tr>",
                            "<tr><td>90</td><td>BOULEVARD MOB</td><td>6</td></tr>",
                            "<tr><td>91</td><td>BOUND CHEAPER</td><td>8</td></tr>",
                            "<tr><td>92</td><td>BOWFINGER GABLES</td><td>4</td></tr>",
                            "<tr><td>93</td><td>BRANNIGAN SUNRISE</td><td>3</td></tr>",
                            "<tr><td>94</td><td>BRAVEHEART HUMAN</td><td>2</td></tr>",
                            "<tr><td>95</td><td>BREAKFAST GOLDFINGER</td><td>5</td></tr>",
                            "<tr><td>96</td><td>BREAKING HOME</td><td>3</td></tr>",
                            "<tr><td>97</td><td>BRIDE INTRIGUE</td><td>6</td></tr>",
                            "<tr><td>98</td><td>BRIGHT ENCOUNTERS</td><td>3</td></tr>",
                            "<tr><td>99</td><td>BRINGING HYSTERICAL</td><td>6</td></tr>",
                            "<tr><td>100</td><td>BROOKLYN DESERT</td><td>6</td></tr>",
                            "<tr><td>101</td><td>BROTHERHOOD BLANKET</td><td>6</td></tr>",
                            "<tr><td>102</td><td>BUBBLE GROSSE</td><td>2</td></tr>",
                            "<tr><td>103</td><td>BUCKET BROTHERHOOD</td><td>8</td></tr>",
                            "<tr><td>104</td><td>BUGSY SONG</td><td>3</td></tr>",
                            "<tr><td>105</td><td>BULL SHAWSHANK</td><td>5</td></tr>",
                            "<tr><td>106</td><td>BULWORTH COMMANDMENTS</td><td>2</td></tr>",
                            "<tr><td>107</td><td>BUNCH MINDS</td><td>2</td></tr>",
                            "<tr><td>108</td><td>BUTCH PANTHER</td><td>0</td></tr>",
                            "<tr><td>109</td><td>BUTTERFLY CHOCOLAT</td><td>8</td></tr>",
                            "<tr><td>110</td><td>CABIN FLASH</td><td>4</td></tr>",
                            "<tr><td>111</td><td>CADDYSHACK JEDI</td><td>4</td></tr>",
                            "<tr><td>112</td><td>CALENDAR GUNFIGHT</td><td>7</td></tr>",
                            "<tr><td>113</td><td>CALIFORNIA BIRDS</td><td>4</td></tr>",
                            "<tr><td>114</td><td>CAMELOT VACATION</td><td>7</td></tr>",
                            "<tr><td>115</td><td>CAMPUS REMEMBER</td><td>7</td></tr>",
                            "<tr><td>116</td><td>CANDIDATE PERDITION</td><td>6</td></tr>",
                            "<tr><td>117</td><td>CANDLES GRAPES</td><td>6</td></tr>",
                            "<tr><td>118</td><td>CANYON STOCK</td><td>6</td></tr>",
                            "<tr><td>119</td><td>CAPER MOTIONS</td><td>7</td></tr>",
                            "<tr><td>120</td><td>CARIBBEAN LIBERTY</td><td>3</td></tr>",
                            "<tr><td>121</td><td>CAROL TEXAS</td><td>6</td></tr>",
                            "<tr><td>122</td><td>CARRIE BUNCH</td><td>7</td></tr>",
                            "<tr><td>123</td><td>CASABLANCA SUPER</td><td>5</td></tr>",
                            "<tr><td>124</td><td>CASPER DRAGONFLY</td><td>3</td></tr>",
                            "<tr><td>125</td><td>CASSIDY WYOMING</td><td>2</td></tr>",
                            "<tr><td>126</td><td>CASUALTIES ENCINO</td><td>3</td></tr>",
                            "<tr><td>127</td><td>CAT CONEHEADS</td><td>8</td></tr>",
                            "<tr><td>128</td><td>CATCH AMISTAD</td><td>0</td></tr>",
                            "<tr><td>129</td><td>CAUSE DATE</td><td>6</td></tr>",
                            "<tr><td>130</td><td>CELEBRITY HORN</td><td>6</td></tr>",
                            "<tr><td>131</td><td>CENTER DINOSAUR</td><td>6</td></tr>",
                            "<tr><td>132</td><td>CHAINSAW UPTOWN</td><td>6</td></tr>",
                            "<tr><td>133</td><td>CHAMBER ITALIAN</td><td>4</td></tr>",
                            "<tr><td>134</td><td>CHAMPION FLATLINERS</td><td>3</td></tr>",
                            "<tr><td>135</td><td>CHANCE RESURRECTION</td><td>7</td></tr>",
                            "<tr><td>136</td><td>CHAPLIN LICENSE</td><td>3</td></tr>",
                            "<tr><td>137</td><td>CHARADE DUFFEL</td><td>4</td></tr>",
                            "<tr><td>138</td><td>CHARIOTS CONSPIRACY</td><td>5</td></tr>",
                            "<tr><td>139</td><td>CHASING FIGHT</td><td>6</td></tr>",
                            "<tr><td>140</td><td>CHEAPER CLYDE</td><td>5</td></tr>",
                            "<tr><td>141</td><td>CHICAGO NORTH</td><td>5</td></tr>",
                            "<tr><td>142</td><td>CHICKEN HELLFIGHTERS</td><td>5</td></tr>",
                            "<tr><td>143</td><td>CHILL LUCK</td><td>7</td></tr>",
                            "<tr><td>144</td><td>CHINATOWN GLADIATOR</td><td>0</td></tr>",
                            "<tr><td>145</td><td>CHISUM BEHAVIOR</td><td>3</td></tr>",
                            "<tr><td>146</td><td>CHITTY LOCK</td><td>3</td></tr>",
                            "<tr><td>147</td><td>CHOCOLAT HARRY</td><td>6</td></tr>",
                            "<tr><td>148</td><td>CHOCOLATE DUCK</td><td>0</td></tr>",
                            "<tr><td>149</td><td>CHRISTMAS MOONSHINE</td><td>6</td></tr>",
                            "<tr><td>150</td><td>CIDER DESIRE</td><td>6</td></tr>",
                            "<tr><td>151</td><td>CINCINATTI WHISPERER</td><td>4</td></tr>",
                            "<tr><td>152</td><td>CIRCUS YOUTH</td><td>4</td></tr>",
                            "<tr><td>153</td><td>CITIZEN SHREK</td><td>4</td></tr>",
                            "<tr><td>154</td><td>CLASH FREDDY</td><td>7</td></tr>",
                            "<tr><td>155</td><td>CLEOPATRA DEVIL</td><td>5</td></tr>",
                            "<tr><td>156</td><td>CLERKS ANGELS</td><td>2</td></tr>",
                            "<tr><td>157</td><td>CLOCKWORK PARADISE</td><td>3</td></tr>",
                            "<tr><td>158</td><td>CLONES PINOCCHIO</td><td>5</td></tr>",
                            "<tr><td>159</td><td>CLOSER BANG</td><td>7</td></tr>",
                            "<tr><td>160</td><td>CLUB GRAFFITI</td><td>5</td></tr>",
                            "<tr><td>161</td><td>CLUE GRAIL</td><td>2</td></tr>",
                            "<tr><td>162</td><td>CLUELESS BUCKET</td><td>7</td></tr>",
                            "<tr><td>163</td><td>CLYDE THEORY</td><td>3</td></tr>",
                            "<tr><td>164</td><td>COAST RAINBOW</td><td>5</td></tr>",
                            "<tr><td>165</td><td>COLDBLOODED DARLING</td><td>5</td></tr>",
                            "<tr><td>166</td><td>COLOR PHILADELPHIA</td><td>6</td></tr>",
                            "<tr><td>167</td><td>COMA HEAD</td><td>7</td></tr>",
                            "<tr><td>168</td><td>COMANCHEROS ENEMY</td><td>2</td></tr>",
                            "<tr><td>169</td><td>COMFORTS RUSH</td><td>4</td></tr>",
                            "<tr><td>170</td><td>COMMAND DARLING</td><td>6</td></tr>",
                            "<tr><td>171</td><td>COMMANDMENTS EXPRESS</td><td>0</td></tr>",
                            "<tr><td>172</td><td>CONEHEADS SMOOCHY</td><td>7</td></tr>",
                            "<tr><td>173</td><td>CONFESSIONS MAGUIRE</td><td>5</td></tr>",
                            "<tr><td>174</td><td>CONFIDENTIAL INTERVIEW</td><td>8</td></tr>",
                            "<tr><td>175</td><td>CONFUSED CANDLES</td><td>5</td></tr>",
                            "<tr><td>176</td><td>CONGENIALITY QUEST</td><td>6</td></tr>",
                            "<tr><td>177</td><td>CONNECTICUT TRAMP</td><td>3</td></tr>",
                            "<tr><td>178</td><td>CONNECTION MICROCOSMOS</td><td>2</td></tr>",
                            "<tr><td>179</td><td>CONQUERER NUTS</td><td>4</td></tr>",
                            "<tr><td>180</td><td>CONSPIRACY SPIRIT</td><td>2</td></tr>",
                            "<tr><td>181</td><td>CONTACT ANONYMOUS</td><td>7</td></tr>",
                            "<tr><td>182</td><td>CONTROL ANTHEM</td><td>2</td></tr>",
                            "<tr><td>183</td><td>CONVERSATION DOWNHILL</td><td>6</td></tr>",
                            "<tr><td>184</td><td>CORE SUIT</td><td>5</td></tr>",
                            "<tr><td>185</td><td>COWBOY DOOM</td><td>2</td></tr>",
                            "<tr><td>186</td><td>CRAFT OUTFIELD</td><td>4</td></tr>",
                            "<tr><td>187</td><td>CRANES RESERVOIR</td><td>3</td></tr>",
                            "<tr><td>188</td><td>CRAZY HOME</td><td>3</td></tr>",
                            "<tr><td>189</td><td>CREATURES SHAKESPEARE</td><td>6</td></tr>",
                            "<tr><td>190</td><td>CREEPERS KANE</td><td>4</td></tr>",
                            "<tr><td>191</td><td>CROOKED FROGMEN</td><td>6</td></tr>",
                            "<tr><td>192</td><td>CROSSING DIVORCE</td><td>0</td></tr>",
                            "<tr><td>193</td><td>CROSSROADS CASUALTIES</td><td>8</td></tr>",
                            "<tr><td>194</td><td>CROW GREASE</td><td>4</td></tr>",
                            "<tr><td>195</td><td>CROWDS TELEMARK</td><td>0</td></tr>",
                            "<tr><td>196</td><td>CRUELTY UNFORGIVEN</td><td>2</td></tr>",
                            "<tr><td>197</td><td>CRUSADE HONEY</td><td>2</td></tr>",
                            "<tr><td>198</td><td>CRYSTAL BREAKING</td><td>0</td></tr>",
                            "<tr><td>199</td><td>CUPBOARD SINNERS</td><td>8</td></tr>",
                            "<tr><td>200</td><td>CURTAIN VIDEOTAPE</td><td>8</td></tr>",
                            "<tr><td>201</td><td>CYCLONE FAMILY</td><td>4</td></tr>",
                            "<tr><td>202</td><td>DADDY PITTSBURGH</td><td>3</td></tr>",
                            "<tr><td>203</td><td>DAISY MENAGERIE</td><td>4</td></tr>",
                            "<tr><td>204</td><td>DALMATIONS SWEDEN</td><td>6</td></tr>",
                            "<tr><td>205</td><td>DANCES NONE</td><td>4</td></tr>",
                            "<tr><td>206</td><td>DANCING FEVER</td><td>8</td></tr>",
                            "<tr><td>207</td><td>DANGEROUS UPTOWN</td><td>4</td></tr>",
                            "<tr><td>208</td><td>DARES PLUTO</td><td>3</td></tr>",
                            "<tr><td>209</td><td>DARKNESS WAR</td><td>4</td></tr>",
                            "<tr><td>210</td><td>DARKO DORADO</td><td>3</td></tr>",
                            "<tr><td>211</td><td>DARLING BREAKING</td><td>2</td></tr>",
                            "<tr><td>212</td><td>DARN FORRESTER</td><td>5</td></tr>",
                            "<tr><td>213</td><td>DATE SPEED</td><td>4</td></tr>",
                            "<tr><td>214</td><td>DAUGHTER MADIGAN</td><td>4</td></tr>",
                            "<tr><td>215</td><td>DAWN POND</td><td>6</td></tr>",
                            "<tr><td>216</td><td>DAY UNFAITHFUL</td><td>5</td></tr>",
                            "<tr><td>217</td><td>DAZED PUNK</td><td>0</td></tr>",
                            "<tr><td>218</td><td>DECEIVER BETRAYED</td><td>7</td></tr>",
                            "<tr><td>219</td><td>DEEP CRUSADE</td><td>4</td></tr>",
                            "<tr><td>220</td><td>DEER VIRGINIAN</td><td>8</td></tr>",
                            "<tr><td>221</td><td>DELIVERANCE MULHOLLAND</td><td>0</td></tr>",
                            "<tr><td>222</td><td>DESERT POSEIDON</td><td>6</td></tr>",
                            "<tr><td>223</td><td>DESIRE ALIEN</td><td>2</td></tr>",
                            "<tr><td>224</td><td>DESPERATE TRAINSPOTTING</td><td>2</td></tr>",
                            "<tr><td>225</td><td>DESTINATION JERK</td><td>3</td></tr>",
                            "<tr><td>226</td><td>DESTINY SATURDAY</td><td>5</td></tr>",
                            "<tr><td>227</td><td>DETAILS PACKER</td><td>5</td></tr>",
                            "<tr><td>228</td><td>DETECTIVE VISION</td><td>7</td></tr>",
                            "<tr><td>229</td><td>DEVIL DESIRE</td><td>4</td></tr>",
                            "<tr><td>230</td><td>DIARY PANIC</td><td>2</td></tr>",
                            "<tr><td>231</td><td>DINOSAUR SECRETARY</td><td>8</td></tr>",
                            "<tr><td>232</td><td>DIRTY ACE</td><td>5</td></tr>",
                            "<tr><td>233</td><td>DISCIPLE MOTHER</td><td>6</td></tr>",
                            "<tr><td>234</td><td>DISTURBING SCARFACE</td><td>7</td></tr>",
                            "<tr><td>235</td><td>DIVIDE MONSTER</td><td>6</td></tr>",
                            "<tr><td>236</td><td>DIVINE RESURRECTION</td><td>4</td></tr>",
                            "<tr><td>237</td><td>DIVORCE SHINING</td><td>2</td></tr>",
                            "<tr><td>238</td><td>DOCTOR GRAIL</td><td>2</td></tr>",
                            "<tr><td>239</td><td>DOGMA FAMILY</td><td>8</td></tr>",
                            "<tr><td>240</td><td>DOLLS RAGE</td><td>3</td></tr>",
                            "<tr><td>241</td><td>DONNIE ALLEY</td><td>4</td></tr>",
                            "<tr><td>242</td><td>DOOM DANCING</td><td>5</td></tr>",
                            "<tr><td>243</td><td>DOORS PRESIDENT</td><td>6</td></tr>",
                            "<tr><td>244</td><td>DORADO NOTTING</td><td>7</td></tr>",
                            "<tr><td>245</td><td>DOUBLE WRATH</td><td>7</td></tr>",
                            "<tr><td>246</td><td>DOUBTFIRE LABYRINTH</td><td>3</td></tr>",
                            "<tr><td>247</td><td>DOWNHILL ENOUGH</td><td>7</td></tr>",
                            "<tr><td>248</td><td>DOZEN LION</td><td>2</td></tr>",
                            "<tr><td>249</td><td>DRACULA CRYSTAL</td><td>6</td></tr>",
                            "<tr><td>250</td><td>DRAGON SQUAD</td><td>4</td></tr>",
                            "<tr><td>251</td><td>DRAGONFLY STRANGERS</td><td>5</td></tr>",
                            "<tr><td>252</td><td>DREAM PICKUP</td><td>6</td></tr>",
                            "<tr><td>253</td><td>DRIFTER COMMANDMENTS</td><td>6</td></tr>",
                            "<tr><td>254</td><td>DRIVER ANNIE</td><td>5</td></tr>",
                            "<tr><td>255</td><td>DRIVING POLISH</td><td>6</td></tr>",
                            "<tr><td>256</td><td>DROP WATERFRONT</td><td>3</td></tr>",
                            "<tr><td>257</td><td>DRUMLINE CYCLONE</td><td>3</td></tr>",
                            "<tr><td>258</td><td>DRUMS DYNAMITE</td><td>4</td></tr>",
                            "<tr><td>259</td><td>DUCK RACER</td><td>2</td></tr>",
                            "<tr><td>260</td><td>DUDE BLINDNESS</td><td>4</td></tr>",
                            "<tr><td>261</td><td>DUFFEL APOCALYPSE</td><td>2</td></tr>",
                            "<tr><td>262</td><td>DUMBO LUST</td><td>2</td></tr>",
                            "<tr><td>263</td><td>DURHAM PANKY</td><td>7</td></tr>",
                            "<tr><td>264</td><td>DWARFS ALTER</td><td>2</td></tr>",
                            "<tr><td>265</td><td>DYING MAKER</td><td>4</td></tr>",
                            "<tr><td>266</td><td>DYNAMITE TARZAN</td><td>8</td></tr>",
                            "<tr><td>267</td><td>EAGLES PANKY</td><td>6</td></tr>",
                            "<tr><td>268</td><td>EARLY HOME</td><td>2</td></tr>",
                            "<tr><td>269</td><td>EARRING INSTINCT</td><td>6</td></tr>",
                            "<tr><td>270</td><td>EARTH VISION</td><td>7</td></tr>",
                            "<tr><td>271</td><td>EASY GLADIATOR</td><td>5</td></tr>",
                            "<tr><td>272</td><td>EDGE KISSING</td><td>4</td></tr>",
                            "<tr><td>273</td><td>EFFECT GLADIATOR</td><td>7</td></tr>",
                            "<tr><td>274</td><td>EGG IGBY</td><td>7</td></tr>",
                            "<tr><td>275</td><td>EGYPT TENENBAUMS</td><td>5</td></tr>",
                            "<tr><td>276</td><td>ELEMENT FREDDY</td><td>4</td></tr>",
                            "<tr><td>277</td><td>ELEPHANT TROJAN</td><td>3</td></tr>",
                            "<tr><td>278</td><td>ELF MURDER</td><td>2</td></tr>",
                            "<tr><td>279</td><td>ELIZABETH SHANE</td><td>2</td></tr>",
                            "<tr><td>280</td><td>EMPIRE MALKOVICH</td><td>6</td></tr>",
                            "<tr><td>281</td><td>ENCINO ELF</td><td>6</td></tr>",
                            "<tr><td>282</td><td>ENCOUNTERS CURTAIN</td><td>6</td></tr>",
                            "<tr><td>283</td><td>ENDING CROWDS</td><td>3</td></tr>",
                            "<tr><td>284</td><td>ENEMY ODDS</td><td>7</td></tr>",
                            "<tr><td>285</td><td>ENGLISH BULWORTH</td><td>7</td></tr>",
                            "<tr><td>286</td><td>ENOUGH RAGING</td><td>5</td></tr>",
                            "<tr><td>287</td><td>ENTRAPMENT SATISFACTION</td><td>4</td></tr>",
                            "<tr><td>288</td><td>ESCAPE METROPOLIS</td><td>6</td></tr>",
                            "<tr><td>289</td><td>EVE RESURRECTION</td><td>2</td></tr>",
                            "<tr><td>290</td><td>EVERYONE CRAFT</td><td>3</td></tr>",
                            "<tr><td>291</td><td>EVOLUTION ALTER</td><td>4</td></tr>",
                            "<tr><td>292</td><td>EXCITEMENT EVE</td><td>6</td></tr>",
                            "<tr><td>293</td><td>EXORCIST STING</td><td>5</td></tr>",
                            "<tr><td>294</td><td>EXPECATIONS NATURAL</td><td>5</td></tr>",
                            "<tr><td>295</td><td>EXPENDABLE STALLION</td><td>8</td></tr>",
                            "<tr><td>296</td><td>EXPRESS LONELY</td><td>4</td></tr>",
                            "<tr><td>297</td><td>EXTRAORDINARY CONQUERER</td><td>2</td></tr>",
                            "<tr><td>298</td><td>EYES DRIVING</td><td>5</td></tr>",
                            "<tr><td>299</td><td>FACTORY DRAGON</td><td>4</td></tr>",
                            "<tr><td>300</td><td>FALCON VOLUME</td><td>6</td></tr>",
                            "<tr><td>301</td><td>FAMILY SWEET</td><td>8</td></tr>",
                            "<tr><td>302</td><td>FANTASIA PARK</td><td>6</td></tr>",
                            "<tr><td>303</td><td>FANTASY TROOPERS</td><td>6</td></tr>",
                            "<tr><td>304</td><td>FARGO GANDHI</td><td>6</td></tr>",
                            "<tr><td>305</td><td>FATAL HAUNTED</td><td>7</td></tr>",
                            "<tr><td>306</td><td>FEATHERS METAL</td><td>3</td></tr>",
                            "<tr><td>307</td><td>FELLOWSHIP AUTUMN</td><td>6</td></tr>",
                            "<tr><td>308</td><td>FERRIS MOTHER</td><td>4</td></tr>",
                            "<tr><td>309</td><td>FEUD FROGMEN</td><td>6</td></tr>",
                            "<tr><td>310</td><td>FEVER EMPIRE</td><td>2</td></tr>",
                            "<tr><td>311</td><td>FICTION CHRISTMAS</td><td>7</td></tr>",
                            "<tr><td>312</td><td>FIDDLER LOST</td><td>3</td></tr>",
                            "<tr><td>313</td><td>FIDELITY DEVIL</td><td>6</td></tr>",
                            "<tr><td>314</td><td>FIGHT JAWBREAKER</td><td>6</td></tr>",
                            "<tr><td>315</td><td>FINDING ANACONDA</td><td>3</td></tr>",
                            "<tr><td>316</td><td>FIRE WOLVES</td><td>2</td></tr>",
                            "<tr><td>317</td><td>FIREBALL PHILADELPHIA</td><td>7</td></tr>",
                            "<tr><td>318</td><td>FIREHOUSE VIETNAM</td><td>0</td></tr>",
                            "<tr><td>319</td><td>FISH OPUS</td><td>7</td></tr>",
                            "<tr><td>320</td><td>FLAMINGOS CONNECTICUT</td><td>7</td></tr>",
                            "<tr><td>321</td><td>FLASH WARS</td><td>4</td></tr>",
                            "<tr><td>322</td><td>FLATLINERS KILLER</td><td>6</td></tr>",
                            "<tr><td>323</td><td>FLIGHT LIES</td><td>4</td></tr>",
                            "<tr><td>324</td><td>FLINTSTONES HAPPINESS</td><td>5</td></tr>",
                            "<tr><td>325</td><td>FLOATS GARDEN</td><td>0</td></tr>",
                            "<tr><td>326</td><td>FLYING HOOK</td><td>6</td></tr>",
                            "<tr><td>327</td><td>FOOL MOCKINGBIRD</td><td>6</td></tr>",
                            "<tr><td>328</td><td>FOREVER CANDIDATE</td><td>4</td></tr>",
                            "<tr><td>329</td><td>FORREST SONS</td><td>6</td></tr>",
                            "<tr><td>330</td><td>FORRESTER COMANCHEROS</td><td>7</td></tr>",
                            "<tr><td>331</td><td>FORWARD TEMPLE</td><td>8</td></tr>",
                            "<tr><td>332</td><td>FRANKENSTEIN STRANGER</td><td>0</td></tr>",
                            "<tr><td>333</td><td>FREAKY POCUS</td><td>4</td></tr>",
                            "<tr><td>334</td><td>FREDDY STORM</td><td>6</td></tr>",
                            "<tr><td>335</td><td>FREEDOM CLEOPATRA</td><td>2</td></tr>",
                            "<tr><td>336</td><td>FRENCH HOLIDAY</td><td>5</td></tr>",
                            "<tr><td>337</td><td>FRIDA SLIPPER</td><td>4</td></tr>",
                            "<tr><td>338</td><td>FRISCO FORREST</td><td>3</td></tr>",
                            "<tr><td>339</td><td>FROGMEN BREAKING</td><td>3</td></tr>",
                            "<tr><td>340</td><td>FRONTIER CABIN</td><td>2</td></tr>",
                            "<tr><td>341</td><td>FROST HEAD</td><td>8</td></tr>",
                            "<tr><td>342</td><td>FUGITIVE MAGUIRE</td><td>4</td></tr>",
                            "<tr><td>343</td><td>FULL FLATLINERS</td><td>2</td></tr>",
                            "<tr><td>344</td><td>FURY MURDER</td><td>5</td></tr>",
                            "<tr><td>345</td><td>GABLES METROPOLIS</td><td>5</td></tr>",
                            "<tr><td>346</td><td>GALAXY SWEETHEARTS</td><td>6</td></tr>",
                            "<tr><td>347</td><td>GAMES BOWFINGER</td><td>4</td></tr>",
                            "<tr><td>348</td><td>GANDHI KWAI</td><td>4</td></tr>",
                            "<tr><td>349</td><td>GANGS PRIDE</td><td>7</td></tr>",
                            "<tr><td>350</td><td>GARDEN ISLAND</td><td>8</td></tr>",
                            "<tr><td>351</td><td>GASLIGHT CRUSADE</td><td>6</td></tr>",
                            "<tr><td>352</td><td>GATHERING CALENDAR</td><td>4</td></tr>",
                            "<tr><td>353</td><td>GENTLEMEN STAGE</td><td>6</td></tr>",
                            "<tr><td>354</td><td>GHOST GROUNDHOG</td><td>5</td></tr>",
                            "<tr><td>355</td><td>GHOSTBUSTERS ELF</td><td>2</td></tr>",
                            "<tr><td>356</td><td>GIANT TROOPERS</td><td>8</td></tr>",
                            "<tr><td>357</td><td>GILBERT PELICAN</td><td>4</td></tr>",
                            "<tr><td>358</td><td>GILMORE BOILED</td><td>8</td></tr>",
                            "<tr><td>359</td><td>GLADIATOR WESTWARD</td><td>0</td></tr>",
                            "<tr><td>360</td><td>GLASS DYING</td><td>4</td></tr>",
                            "<tr><td>361</td><td>GLEAMING JAWBREAKER</td><td>8</td></tr>",
                            "<tr><td>362</td><td>GLORY TRACY</td><td>2</td></tr>",
                            "<tr><td>363</td><td>GO PURPLE</td><td>6</td></tr>",
                            "<tr><td>364</td><td>GODFATHER DIARY</td><td>3</td></tr>",
                            "<tr><td>365</td><td>GOLD RIVER</td><td>4</td></tr>",
                            "<tr><td>366</td><td>GOLDFINGER SENSIBILITY</td><td>7</td></tr>",
                            "<tr><td>367</td><td>GOLDMINE TYCOON</td><td>7</td></tr>",
                            "<tr><td>368</td><td>GONE TROUBLE</td><td>2</td></tr>",
                            "<tr><td>369</td><td>GOODFELLAS SALUTE</td><td>8</td></tr>",
                            "<tr><td>370</td><td>GORGEOUS BINGO</td><td>5</td></tr>",
                            "<tr><td>371</td><td>GOSFORD DONNIE</td><td>3</td></tr>",
                            "<tr><td>372</td><td>GRACELAND DYNAMITE</td><td>2</td></tr>",
                            "<tr><td>373</td><td>GRADUATE LORD</td><td>5</td></tr>",
                            "<tr><td>374</td><td>GRAFFITI LOVE</td><td>7</td></tr>",
                            "<tr><td>375</td><td>GRAIL FRANKENSTEIN</td><td>2</td></tr>",
                            "<tr><td>376</td><td>GRAPES FURY</td><td>7</td></tr>",
                            "<tr><td>377</td><td>GREASE YOUTH</td><td>6</td></tr>",
                            "<tr><td>378</td><td>GREATEST NORTH</td><td>8</td></tr>",
                            "<tr><td>379</td><td>GREEDY ROOTS</td><td>4</td></tr>",
                            "<tr><td>380</td><td>GREEK EVERYONE</td><td>5</td></tr>",
                            "<tr><td>381</td><td>GRINCH MASSAGE</td><td>5</td></tr>",
                            "<tr><td>382</td><td>GRIT CLOCKWORK</td><td>8</td></tr>",
                            "<tr><td>383</td><td>GROOVE FICTION</td><td>5</td></tr>",
                            "<tr><td>384</td><td>GROSSE WONDERFUL</td><td>3</td></tr>",
                            "<tr><td>385</td><td>GROUNDHOG UNCUT</td><td>5</td></tr>",
                            "<tr><td>386</td><td>GUMP DATE</td><td>0</td></tr>",
                            "<tr><td>387</td><td>GUN BONNIE</td><td>6</td></tr>",
                            "<tr><td>388</td><td>GUNFIGHT MOON</td><td>6</td></tr>",
                            "<tr><td>389</td><td>GUNFIGHTER MUSSOLINI</td><td>4</td></tr>",
                            "<tr><td>390</td><td>GUYS FALCON</td><td>3</td></tr>",
                            "<tr><td>391</td><td>HALF OUTFIELD</td><td>7</td></tr>",
                            "<tr><td>392</td><td>HALL CASSIDY</td><td>6</td></tr>",
                            "<tr><td>393</td><td>HALLOWEEN NUTS</td><td>2</td></tr>",
                            "<tr><td>394</td><td>HAMLET WISDOM</td><td>4</td></tr>",
                            "<tr><td>395</td><td>HANDICAP BOONDOCK</td><td>6</td></tr>",
                            "<tr><td>396</td><td>HANGING DEEP</td><td>4</td></tr>",
                            "<tr><td>397</td><td>HANKY OCTOBER</td><td>7</td></tr>",
                            "<tr><td>398</td><td>HANOVER GALAXY</td><td>4</td></tr>",
                            "<tr><td>399</td><td>HAPPINESS UNITED</td><td>2</td></tr>",
                            "<tr><td>400</td><td>HARDLY ROBBERS</td><td>2</td></tr>",
                            "<tr><td>401</td><td>HAROLD FRENCH</td><td>2</td></tr>",
                            "<tr><td>402</td><td>HARPER DYING</td><td>6</td></tr>",
                            "<tr><td>403</td><td>HARRY IDAHO</td><td>8</td></tr>",
                            "<tr><td>404</td><td>HATE HANDICAP</td><td>0</td></tr>",
                            "<tr><td>405</td><td>HAUNTED ANTITRUST</td><td>2</td></tr>",
                            "<tr><td>406</td><td>HAUNTING PIANIST</td><td>6</td></tr>",
                            "<tr><td>407</td><td>HAWK CHILL</td><td>2</td></tr>",
                            "<tr><td>408</td><td>HEAD STRANGER</td><td>7</td></tr>",
                            "<tr><td>409</td><td>HEARTBREAKERS BRIGHT</td><td>7</td></tr>",
                            "<tr><td>410</td><td>HEAVEN FREEDOM</td><td>5</td></tr>",
                            "<tr><td>411</td><td>HEAVENLY GUN</td><td>2</td></tr>",
                            "<tr><td>412</td><td>HEAVYWEIGHTS BEAST</td><td>8</td></tr>",
                            "<tr><td>413</td><td>HEDWIG ALTER</td><td>3</td></tr>",
                            "<tr><td>414</td><td>HELLFIGHTERS SIERRA</td><td>6</td></tr>",
                            "<tr><td>415</td><td>HIGH ENCINO</td><td>6</td></tr>",
                            "<tr><td>416</td><td>HIGHBALL POTTER</td><td>6</td></tr>",
                            "<tr><td>417</td><td>HILLS NEIGHBORS</td><td>6</td></tr>",
                            "<tr><td>418</td><td>HOBBIT ALIEN</td><td>8</td></tr>",
                            "<tr><td>419</td><td>HOCUS FRIDA</td><td>0</td></tr>",
                            "<tr><td>420</td><td>HOLES BRANNIGAN</td><td>5</td></tr>",
                            "<tr><td>421</td><td>HOLIDAY GAMES</td><td>4</td></tr>",
                            "<tr><td>422</td><td>HOLLOW JEOPARDY</td><td>2</td></tr>",
                            "<tr><td>423</td><td>HOLLYWOOD ANONYMOUS</td><td>4</td></tr>",
                            "<tr><td>424</td><td>HOLOCAUST HIGHBALL</td><td>5</td></tr>",
                            "<tr><td>425</td><td>HOLY TADPOLE</td><td>2</td></tr>",
                            "<tr><td>426</td><td>HOME PITY</td><td>3</td></tr>",
                            "<tr><td>427</td><td>HOMEWARD CIDER</td><td>4</td></tr>",
                            "<tr><td>428</td><td>HOMICIDE PEACH</td><td>6</td></tr>",
                            "<tr><td>429</td><td>HONEY TIES</td><td>6</td></tr>",
                            "<tr><td>430</td><td>HOOK CHARIOTS</td><td>4</td></tr>",
                            "<tr><td>431</td><td>HOOSIERS BIRDCAGE</td><td>3</td></tr>",
                            "<tr><td>432</td><td>HOPE TOOTSIE</td><td>5</td></tr>",
                            "<tr><td>433</td><td>HORN WORKING</td><td>6</td></tr>",
                            "<tr><td>434</td><td>HORROR REIGN</td><td>8</td></tr>",
                            "<tr><td>435</td><td>HOTEL HAPPINESS</td><td>2</td></tr>",
                            "<tr><td>436</td><td>HOURS RAGE</td><td>6</td></tr>",
                            "<tr><td>437</td><td>HOUSE DYNAMITE</td><td>6</td></tr>",
                            "<tr><td>438</td><td>HUMAN GRAFFITI</td><td>5</td></tr>",
                            "<tr><td>439</td><td>HUNCHBACK IMPOSSIBLE</td><td>6</td></tr>",
                            "<tr><td>440</td><td>HUNGER ROOF</td><td>4</td></tr>",
                            "<tr><td>441</td><td>HUNTER ALTER</td><td>2</td></tr>",
                            "<tr><td>442</td><td>HUNTING MUSKETEERS</td><td>3</td></tr>",
                            "<tr><td>443</td><td>HURRICANE AFFAIR</td><td>7</td></tr>",
                            "<tr><td>444</td><td>HUSTLER PARTY</td><td>8</td></tr>",
                            "<tr><td>445</td><td>HYDE DOCTOR</td><td>6</td></tr>",
                            "<tr><td>446</td><td>HYSTERICAL GRAIL</td><td>4</td></tr>",
                            "<tr><td>447</td><td>ICE CROSSING</td><td>7</td></tr>",
                            "<tr><td>448</td><td>IDAHO LOVE</td><td>5</td></tr>",
                            "<tr><td>449</td><td>IDENTITY LOVER</td><td>4</td></tr>",
                            "<tr><td>450</td><td>IDOLS SNATCHERS</td><td>7</td></tr>",
                            "<tr><td>451</td><td>IGBY MAKER</td><td>5</td></tr>",
                            "<tr><td>452</td><td>ILLUSION AMELIE</td><td>4</td></tr>",
                            "<tr><td>453</td><td>IMAGE PRINCESS</td><td>5</td></tr>",
                            "<tr><td>454</td><td>IMPACT ALADDIN</td><td>2</td></tr>",
                            "<tr><td>455</td><td>IMPOSSIBLE PREJUDICE</td><td>4</td></tr>",
                            "<tr><td>456</td><td>INCH JET</td><td>6</td></tr>",
                            "<tr><td>457</td><td>INDEPENDENCE HOTEL</td><td>6</td></tr>",
                            "<tr><td>458</td><td>INDIAN LOVE</td><td>6</td></tr>",
                            "<tr><td>459</td><td>INFORMER DOUBLE</td><td>2</td></tr>",
                            "<tr><td>460</td><td>INNOCENT USUAL</td><td>8</td></tr>",
                            "<tr><td>461</td><td>INSECTS STONE</td><td>6</td></tr>",
                            "<tr><td>462</td><td>INSIDER ARIZONA</td><td>5</td></tr>",
                            "<tr><td>463</td><td>INSTINCT AIRPORT</td><td>5</td></tr>",
                            "<tr><td>464</td><td>INTENTIONS EMPIRE</td><td>7</td></tr>",
                            "<tr><td>465</td><td>INTERVIEW LIAISONS</td><td>5</td></tr>",
                            "<tr><td>466</td><td>INTOLERABLE INTENTIONS</td><td>2</td></tr>",
                            "<tr><td>467</td><td>INTRIGUE WORST</td><td>7</td></tr>",
                            "<tr><td>468</td><td>INVASION CYCLONE</td><td>8</td></tr>",
                            "<tr><td>469</td><td>IRON MOON</td><td>3</td></tr>",
                            "<tr><td>470</td><td>ISHTAR ROCKETEER</td><td>2</td></tr>",
                            "<tr><td>471</td><td>ISLAND EXORCIST</td><td>7</td></tr>",
                            "<tr><td>472</td><td>ITALIAN AFRICAN</td><td>2</td></tr>",
                            "<tr><td>473</td><td>JACKET FRISCO</td><td>5</td></tr>",
                            "<tr><td>474</td><td>JADE BUNCH</td><td>4</td></tr>",
                            "<tr><td>475</td><td>JAPANESE RUN</td><td>2</td></tr>",
                            "<tr><td>476</td><td>JASON TRAP</td><td>7</td></tr>",
                            "<tr><td>477</td><td>JAWBREAKER BROOKLYN</td><td>3</td></tr>",
                            "<tr><td>478</td><td>JAWS HARRY</td><td>5</td></tr>",
                            "<tr><td>479</td><td>JEDI BENEATH</td><td>5</td></tr>",
                            "<tr><td>480</td><td>JEEPERS WEDDING</td><td>4</td></tr>",
                            "<tr><td>481</td><td>JEKYLL FROGMEN</td><td>6</td></tr>",
                            "<tr><td>482</td><td>JEOPARDY ENCINO</td><td>3</td></tr>",
                            "<tr><td>483</td><td>JERICHO MULAN</td><td>5</td></tr>",
                            "<tr><td>484</td><td>JERK PAYCHECK</td><td>7</td></tr>",
                            "<tr><td>485</td><td>JERSEY SASSY</td><td>3</td></tr>",
                            "<tr><td>486</td><td>JET NEIGHBORS</td><td>6</td></tr>",
                            "<tr><td>487</td><td>JINGLE SAGEBRUSH</td><td>3</td></tr>",
                            "<tr><td>488</td><td>JOON NORTHWEST</td><td>5</td></tr>",
                            "<tr><td>489</td><td>JUGGLER HARDLY</td><td>8</td></tr>",
                            "<tr><td>490</td><td>JUMANJI BLADE</td><td>2</td></tr>",
                            "<tr><td>491</td><td>JUMPING WRATH</td><td>6</td></tr>",
                            "<tr><td>492</td><td>JUNGLE CLOSER</td><td>2</td></tr>",
                            "<tr><td>493</td><td>KANE EXORCIST</td><td>3</td></tr>",
                            "<tr><td>494</td><td>KARATE MOON</td><td>6</td></tr>",
                            "<tr><td>495</td><td>KENTUCKIAN GIANT</td><td>0</td></tr>",
                            "<tr><td>496</td><td>KICK SAVANNAH</td><td>5</td></tr>",
                            "<tr><td>497</td><td>KILL BROTHERHOOD</td><td>0</td></tr>",
                            "<tr><td>498</td><td>KILLER INNOCENT</td><td>2</td></tr>",
                            "<tr><td>499</td><td>KING EVOLUTION</td><td>2</td></tr>",
                            "<tr><td>500</td><td>KISS GLORY</td><td>8</td></tr>",
                            "<tr><td>501</td><td>KISSING DOLLS</td><td>5</td></tr>",
                            "<tr><td>502</td><td>KNOCK WARLOCK</td><td>7</td></tr>",
                            "<tr><td>503</td><td>KRAMER CHOCOLATE</td><td>3</td></tr>",
                            "<tr><td>504</td><td>KWAI HOMEWARD</td><td>6</td></tr>",
                            "<tr><td>505</td><td>LABYRINTH LEAGUE</td><td>4</td></tr>",
                            "<tr><td>506</td><td>LADY STAGE</td><td>6</td></tr>",
                            "<tr><td>507</td><td>LADYBUGS ARMAGEDDON</td><td>2</td></tr>",
                            "<tr><td>508</td><td>LAMBS CINCINATTI</td><td>3</td></tr>",
                            "<tr><td>509</td><td>LANGUAGE COWBOY</td><td>3</td></tr>",
                            "<tr><td>510</td><td>LAWLESS VISION</td><td>4</td></tr>",
                            "<tr><td>511</td><td>LAWRENCE LOVE</td><td>5</td></tr>",
                            "<tr><td>512</td><td>LEAGUE HELLFIGHTERS</td><td>6</td></tr>",
                            "<tr><td>513</td><td>LEATHERNECKS DWARFS</td><td>2</td></tr>",
                            "<tr><td>514</td><td>LEBOWSKI SOLDIERS</td><td>6</td></tr>",
                            "<tr><td>515</td><td>LEGALLY SECRETARY</td><td>2</td></tr>",
                            "<tr><td>516</td><td>LEGEND JEDI</td><td>3</td></tr>",
                            "<tr><td>517</td><td>LESSON CLEOPATRA</td><td>2</td></tr>",
                            "<tr><td>518</td><td>LIAISONS SWEET</td><td>6</td></tr>",
                            "<tr><td>519</td><td>LIBERTY MAGNIFICENT</td><td>4</td></tr>",
                            "<tr><td>520</td><td>LICENSE WEEKEND</td><td>2</td></tr>",
                            "<tr><td>521</td><td>LIES TREATMENT</td><td>7</td></tr>",
                            "<tr><td>522</td><td>LIFE TWISTED</td><td>2</td></tr>",
                            "<tr><td>523</td><td>LIGHTS DEER</td><td>2</td></tr>",
                            "<tr><td>524</td><td>LION UNCUT</td><td>6</td></tr>",
                            "<tr><td>525</td><td>LOATHING LEGALLY</td><td>8</td></tr>",
                            "<tr><td>526</td><td>LOCK REAR</td><td>4</td></tr>",
                            "<tr><td>527</td><td>LOLA AGENT</td><td>6</td></tr>",
                            "<tr><td>528</td><td>LOLITA WORLD</td><td>3</td></tr>",
                            "<tr><td>529</td><td>LONELY ELEPHANT</td><td>4</td></tr>",
                            "<tr><td>530</td><td>LORD ARIZONA</td><td>3</td></tr>",
                            "<tr><td>531</td><td>LOSE INCH</td><td>8</td></tr>",
                            "<tr><td>532</td><td>LOSER HUSTLER</td><td>4</td></tr>",
                            "<tr><td>533</td><td>LOST BIRD</td><td>3</td></tr>",
                            "<tr><td>534</td><td>LOUISIANA HARRY</td><td>5</td></tr>",
                            "<tr><td>535</td><td>LOVE SUICIDES</td><td>4</td></tr>",
                            "<tr><td>536</td><td>LOVELY JINGLE</td><td>5</td></tr>",
                            "<tr><td>537</td><td>LOVER TRUMAN</td><td>3</td></tr>",
                            "<tr><td>538</td><td>LOVERBOY ATTACKS</td><td>3</td></tr>",
                            "<tr><td>539</td><td>LUCK OPUS</td><td>2</td></tr>",
                            "<tr><td>540</td><td>LUCKY FLYING</td><td>3</td></tr>",
                            "<tr><td>541</td><td>LUKE MUMMY</td><td>2</td></tr>",
                            "<tr><td>542</td><td>LUST LOCK</td><td>6</td></tr>",
                            "<tr><td>543</td><td>MADIGAN DORADO</td><td>2</td></tr>",
                            "<tr><td>544</td><td>MADISON TRAP</td><td>4</td></tr>",
                            "<tr><td>545</td><td>MADNESS ATTACKS</td><td>6</td></tr>",
                            "<tr><td>546</td><td>MADRE GABLES</td><td>4</td></tr>",
                            "<tr><td>547</td><td>MAGIC MALLRATS</td><td>2</td></tr>",
                            "<tr><td>548</td><td>MAGNIFICENT CHITTY</td><td>2</td></tr>",
                            "<tr><td>549</td><td>MAGNOLIA FORRESTER</td><td>4</td></tr>",
                            "<tr><td>550</td><td>MAGUIRE APACHE</td><td>3</td></tr>",
                            "<tr><td>551</td><td>MAIDEN HOME</td><td>6</td></tr>",
                            "<tr><td>552</td><td>MAJESTIC FLOATS</td><td>4</td></tr>",
                            "<tr><td>553</td><td>MAKER GABLES</td><td>3</td></tr>",
                            "<tr><td>554</td><td>MALKOVICH PET</td><td>7</td></tr>",
                            "<tr><td>555</td><td>MALLRATS UNITED</td><td>7</td></tr>",
                            "<tr><td>556</td><td>MALTESE HOPE</td><td>7</td></tr>",
                            "<tr><td>557</td><td>MANCHURIAN CURTAIN</td><td>5</td></tr>",
                            "<tr><td>558</td><td>MANNEQUIN WORST</td><td>2</td></tr>",
                            "<tr><td>559</td><td>MARRIED GO</td><td>8</td></tr>",
                            "<tr><td>560</td><td>MARS ROMAN</td><td>5</td></tr>",
                            "<tr><td>561</td><td>MASK PEACH</td><td>4</td></tr>",
                            "<tr><td>562</td><td>MASKED BUBBLE</td><td>6</td></tr>",
                            "<tr><td>563</td><td>MASSACRE USUAL</td><td>7</td></tr>",
                            "<tr><td>564</td><td>MASSAGE IMAGE</td><td>3</td></tr>",
                            "<tr><td>565</td><td>MATRIX SNOWMAN</td><td>2</td></tr>",
                            "<tr><td>566</td><td>MAUDE MOD</td><td>2</td></tr>",
                            "<tr><td>567</td><td>MEET CHOCOLATE</td><td>4</td></tr>",
                            "<tr><td>568</td><td>MEMENTO ZOOLANDER</td><td>4</td></tr>",
                            "<tr><td>569</td><td>MENAGERIE RUSHMORE</td><td>2</td></tr>",
                            "<tr><td>570</td><td>MERMAID INSECTS</td><td>5</td></tr>",
                            "<tr><td>571</td><td>METAL ARMAGEDDON</td><td>6</td></tr>",
                            "<tr><td>572</td><td>METROPOLIS COMA</td><td>8</td></tr>",
                            "<tr><td>573</td><td>MICROCOSMOS PARADISE</td><td>4</td></tr>",
                            "<tr><td>574</td><td>MIDNIGHT WESTWARD</td><td>5</td></tr>",
                            "<tr><td>575</td><td>MIDSUMMER GROUNDHOG</td><td>6</td></tr>",
                            "<tr><td>576</td><td>MIGHTY LUCK</td><td>3</td></tr>",
                            "<tr><td>577</td><td>MILE MULAN</td><td>3</td></tr>",
                            "<tr><td>578</td><td>MILLION ACE</td><td>5</td></tr>",
                            "<tr><td>579</td><td>MINDS TRUMAN</td><td>7</td></tr>",
                            "<tr><td>580</td><td>MINE TITANS</td><td>6</td></tr>",
                            "<tr><td>581</td><td>MINORITY KISS</td><td>3</td></tr>",
                            "<tr><td>582</td><td>MIRACLE VIRTUAL</td><td>2</td></tr>",
                            "<tr><td>583</td><td>MISSION ZOOLANDER</td><td>5</td></tr>",
                            "<tr><td>584</td><td>MIXED DOORS</td><td>2</td></tr>",
                            "<tr><td>585</td><td>MOB DUFFEL</td><td>4</td></tr>",
                            "<tr><td>586</td><td>MOCKINGBIRD HOLLYWOOD</td><td>8</td></tr>",
                            "<tr><td>587</td><td>MOD SECRETARY</td><td>3</td></tr>",
                            "<tr><td>588</td><td>MODEL FISH</td><td>4</td></tr>",
                            "<tr><td>589</td><td>MODERN DORADO</td><td>4</td></tr>",
                            "<tr><td>590</td><td>MONEY HAROLD</td><td>7</td></tr>",
                            "<tr><td>591</td><td>MONSOON CAUSE</td><td>3</td></tr>",
                            "<tr><td>592</td><td>MONSTER SPARTACUS</td><td>4</td></tr>",
                            "<tr><td>593</td><td>MONTEREY LABYRINTH</td><td>4</td></tr>",
                            "<tr><td>594</td><td>MONTEZUMA COMMAND</td><td>3</td></tr>",
                            "<tr><td>595</td><td>MOON BUNCH</td><td>8</td></tr>",
                            "<tr><td>596</td><td>MOONSHINE CABIN</td><td>6</td></tr>",
                            "<tr><td>597</td><td>MOONWALKER FOOL</td><td>4</td></tr>",
                            "<tr><td>598</td><td>MOSQUITO ARMAGEDDON</td><td>4</td></tr>",
                            "<tr><td>599</td><td>MOTHER OLEANDER</td><td>5</td></tr>",
                            "<tr><td>600</td><td>MOTIONS DETAILS</td><td>4</td></tr>",
                            "<tr><td>601</td><td>MOULIN WAKE</td><td>5</td></tr>",
                            "<tr><td>602</td><td>MOURNING PURPLE</td><td>5</td></tr>",
                            "<tr><td>603</td><td>MOVIE SHAKESPEARE</td><td>6</td></tr>",
                            "<tr><td>604</td><td>MULAN MOON</td><td>3</td></tr>",
                            "<tr><td>605</td><td>MULHOLLAND BEAST</td><td>2</td></tr>",
                            "<tr><td>606</td><td>MUMMY CREATURES</td><td>6</td></tr>",
                            "<tr><td>607</td><td>MUPPET MILE</td><td>0</td></tr>",
                            "<tr><td>608</td><td>MURDER ANTITRUST</td><td>6</td></tr>",
                            "<tr><td>609</td><td>MUSCLE BRIGHT</td><td>8</td></tr>",
                            "<tr><td>610</td><td>MUSIC BOONDOCK</td><td>5</td></tr>",
                            "<tr><td>611</td><td>MUSKETEERS WAIT</td><td>6</td></tr>",
                            "<tr><td>612</td><td>MUSSOLINI SPOILERS</td><td>2</td></tr>",
                            "<tr><td>613</td><td>MYSTIC TRUMAN</td><td>2</td></tr>",
                            "<tr><td>614</td><td>NAME DETECTIVE</td><td>6</td></tr>",
                            "<tr><td>615</td><td>NASH CHOCOLAT</td><td>4</td></tr>",
                            "<tr><td>616</td><td>NATIONAL STORY</td><td>6</td></tr>",
                            "<tr><td>617</td><td>NATURAL STOCK</td><td>3</td></tr>",
                            "<tr><td>618</td><td>NECKLACE OUTBREAK</td><td>4</td></tr>",
                            "<tr><td>619</td><td>NEIGHBORS CHARADE</td><td>6</td></tr>",
                            "<tr><td>620</td><td>NEMO CAMPUS</td><td>5</td></tr>",
                            "<tr><td>621</td><td>NETWORK PEAK</td><td>8</td></tr>",
                            "<tr><td>622</td><td>NEWSIES STORY</td><td>2</td></tr>",
                            "<tr><td>623</td><td>NEWTON LABYRINTH</td><td>5</td></tr>",
                            "<tr><td>624</td><td>NIGHTMARE CHILL</td><td>7</td></tr>",
                            "<tr><td>625</td><td>NONE SPIKING</td><td>7</td></tr>",
                            "<tr><td>626</td><td>NOON PAPI</td><td>4</td></tr>",
                            "<tr><td>627</td><td>NORTH TEQUILA</td><td>3</td></tr>",
                            "<tr><td>628</td><td>NORTHWEST POLISH</td><td>5</td></tr>",
                            "<tr><td>629</td><td>NOTORIOUS REUNION</td><td>4</td></tr>",
                            "<tr><td>630</td><td>NOTTING SPEAKEASY</td><td>3</td></tr>",
                            "<tr><td>631</td><td>NOVOCAINE FLIGHT</td><td>5</td></tr>",
                            "<tr><td>632</td><td>NUTS TIES</td><td>3</td></tr>",
                            "<tr><td>633</td><td>OCTOBER SUBMARINE</td><td>3</td></tr>",
                            "<tr><td>634</td><td>ODDS BOOGIE</td><td>4</td></tr>",
                            "<tr><td>635</td><td>OKLAHOMA JUMANJI</td><td>2</td></tr>",
                            "<tr><td>636</td><td>OLEANDER CLUE</td><td>3</td></tr>",
                            "<tr><td>637</td><td>OPEN AFRICAN</td><td>5</td></tr>",
                            "<tr><td>638</td><td>OPERATION OPERATION</td><td>8</td></tr>",
                            "<tr><td>639</td><td>OPPOSITE NECKLACE</td><td>3</td></tr>",
                            "<tr><td>640</td><td>OPUS ICE</td><td>3</td></tr>",
                            "<tr><td>641</td><td>ORANGE GRAPES</td><td>7</td></tr>",
                            "<tr><td>642</td><td>ORDER BETRAYED</td><td>0</td></tr>",
                            "<tr><td>643</td><td>ORIENT CLOSER</td><td>6</td></tr>",
                            "<tr><td>644</td><td>OSCAR GOLD</td><td>7</td></tr>",
                            "<tr><td>645</td><td>OTHERS SOUP</td><td>6</td></tr>",
                            "<tr><td>646</td><td>OUTBREAK DIVINE</td><td>5</td></tr>",
                            "<tr><td>647</td><td>OUTFIELD MASSACRE</td><td>6</td></tr>",
                            "<tr><td>648</td><td>OUTLAW HANKY</td><td>6</td></tr>",
                            "<tr><td>649</td><td>OZ LIAISONS</td><td>6</td></tr>",
                            "<tr><td>650</td><td>PACIFIC AMISTAD</td><td>6</td></tr>",
                            "<tr><td>651</td><td>PACKER MADIGAN</td><td>6</td></tr>",
                            "<tr><td>652</td><td>PAJAMA JAWBREAKER</td><td>4</td></tr>",
                            "<tr><td>653</td><td>PANIC CLUB</td><td>2</td></tr>",
                            "<tr><td>654</td><td>PANKY SUBMARINE</td><td>4</td></tr>",
                            "<tr><td>655</td><td>PANTHER REDS</td><td>6</td></tr>",
                            "<tr><td>656</td><td>PAPI NECKLACE</td><td>2</td></tr>",
                            "<tr><td>657</td><td>PARADISE SABRINA</td><td>6</td></tr>",
                            "<tr><td>658</td><td>PARIS WEEKEND</td><td>4</td></tr>",
                            "<tr><td>659</td><td>PARK CITIZEN</td><td>2</td></tr>",
                            "<tr><td>660</td><td>PARTY KNOCK</td><td>4</td></tr>",
                            "<tr><td>661</td><td>PAST SUICIDES</td><td>4</td></tr>",
                            "<tr><td>662</td><td>PATHS CONTROL</td><td>4</td></tr>",
                            "<tr><td>663</td><td>PATIENT SISTER</td><td>5</td></tr>",
                            "<tr><td>664</td><td>PATRIOT ROMAN</td><td>5</td></tr>",
                            "<tr><td>665</td><td>PATTON INTERVIEW</td><td>7</td></tr>",
                            "<tr><td>666</td><td>PAYCHECK WAIT</td><td>5</td></tr>",
                            "<tr><td>667</td><td>PEACH INNOCENT</td><td>4</td></tr>",
                            "<tr><td>668</td><td>PEAK FOREVER</td><td>5</td></tr>",
                            "<tr><td>669</td><td>PEARL DESTINY</td><td>0</td></tr>",
                            "<tr><td>670</td><td>PELICAN COMFORTS</td><td>7</td></tr>",
                            "<tr><td>671</td><td>PERDITION FARGO</td><td>0</td></tr>",
                            "<tr><td>672</td><td>PERFECT GROOVE</td><td>6</td></tr>",
                            "<tr><td>673</td><td>PERSONAL LADYBUGS</td><td>4</td></tr>",
                            "<tr><td>674</td><td>PET HAUNTING</td><td>3</td></tr>",
                            "<tr><td>675</td><td>PHANTOM GLORY</td><td>2</td></tr>",
                            "<tr><td>676</td><td>PHILADELPHIA WIFE</td><td>6</td></tr>",
                            "<tr><td>677</td><td>PIANIST OUTFIELD</td><td>7</td></tr>",
                            "<tr><td>678</td><td>PICKUP DRIVING</td><td>4</td></tr>",
                            "<tr><td>679</td><td>PILOT HOOSIERS</td><td>4</td></tr>",
                            "<tr><td>680</td><td>PINOCCHIO SIMON</td><td>6</td></tr>",
                            "<tr><td>681</td><td>PIRATES ROXANNE</td><td>6</td></tr>",
                            "<tr><td>682</td><td>PITTSBURGH HUNCHBACK</td><td>3</td></tr>",
                            "<tr><td>683</td><td>PITY BOUND</td><td>8</td></tr>",
                            "<tr><td>684</td><td>PIZZA JUMANJI</td><td>2</td></tr>",
                            "<tr><td>685</td><td>PLATOON INSTINCT</td><td>2</td></tr>",
                            "<tr><td>686</td><td>PLUTO OLEANDER</td><td>4</td></tr>",
                            "<tr><td>687</td><td>POCUS PULP</td><td>7</td></tr>",
                            "<tr><td>688</td><td>POLISH BROOKLYN</td><td>4</td></tr>",
                            "<tr><td>689</td><td>POLLOCK DELIVERANCE</td><td>6</td></tr>",
                            "<tr><td>690</td><td>POND SEATTLE</td><td>6</td></tr>",
                            "<tr><td>691</td><td>POSEIDON FOREVER</td><td>5</td></tr>",
                            "<tr><td>692</td><td>POTLUCK MIXED</td><td>3</td></tr>",
                            "<tr><td>693</td><td>POTTER CONNECTICUT</td><td>5</td></tr>",
                            "<tr><td>694</td><td>PREJUDICE OLEANDER</td><td>6</td></tr>",
                            "<tr><td>695</td><td>PRESIDENT BANG</td><td>2</td></tr>",
                            "<tr><td>696</td><td>PRIDE ALAMO</td><td>5</td></tr>",
                            "<tr><td>697</td><td>PRIMARY GLASS</td><td>8</td></tr>",
                            "<tr><td>698</td><td>PRINCESS GIANT</td><td>7</td></tr>",
                            "<tr><td>699</td><td>PRIVATE DROP</td><td>2</td></tr>",
                            "<tr><td>700</td><td>PRIX UNDEFEATED</td><td>3</td></tr>",
                            "<tr><td>701</td><td>PSYCHO SHRUNK</td><td>0</td></tr>",
                            "<tr><td>702</td><td>PULP BEVERLY</td><td>8</td></tr>",
                            "<tr><td>703</td><td>PUNK DIVORCE</td><td>2</td></tr>",
                            "<tr><td>704</td><td>PURE RUNNER</td><td>5</td></tr>",
                            "<tr><td>705</td><td>PURPLE MOVIE</td><td>4</td></tr>",
                            "<tr><td>706</td><td>QUEEN LUKE</td><td>6</td></tr>",
                            "<tr><td>707</td><td>QUEST MUSSOLINI</td><td>6</td></tr>",
                            "<tr><td>708</td><td>QUILLS BULL</td><td>4</td></tr>",
                            "<tr><td>709</td><td>RACER EGG</td><td>6</td></tr>",
                            "<tr><td>710</td><td>RAGE GAMES</td><td>6</td></tr>",
                            "<tr><td>711</td><td>RAGING AIRPLANE</td><td>4</td></tr>",
                            "<tr><td>712</td><td>RAIDERS ANTITRUST</td><td>0</td></tr>",
                            "<tr><td>713</td><td>RAINBOW SHOCK</td><td>0</td></tr>",
                            "<tr><td>714</td><td>RANDOM GO</td><td>3</td></tr>",
                            "<tr><td>715</td><td>RANGE MOONWALKER</td><td>7</td></tr>",
                            "<tr><td>716</td><td>REAP UNFAITHFUL</td><td>5</td></tr>",
                            "<tr><td>717</td><td>REAR TRADING</td><td>4</td></tr>",
                            "<tr><td>718</td><td>REBEL AIRPORT</td><td>2</td></tr>",
                            "<tr><td>719</td><td>RECORDS ZORRO</td><td>2</td></tr>",
                            "<tr><td>720</td><td>REDEMPTION COMFORTS</td><td>7</td></tr>",
                            "<tr><td>721</td><td>REDS POCUS</td><td>2</td></tr>",
                            "<tr><td>722</td><td>REEF SALUTE</td><td>4</td></tr>",
                            "<tr><td>723</td><td>REIGN GENTLEMEN</td><td>7</td></tr>",
                            "<tr><td>724</td><td>REMEMBER DIARY</td><td>6</td></tr>",
                            "<tr><td>725</td><td>REQUIEM TYCOON</td><td>6</td></tr>",
                            "<tr><td>726</td><td>RESERVOIR ADAPTATION</td><td>3</td></tr>",
                            "<tr><td>727</td><td>RESURRECTION SILVERADO</td><td>5</td></tr>",
                            "<tr><td>728</td><td>REUNION WITCHES</td><td>5</td></tr>",
                            "<tr><td>729</td><td>RIDER CADDYSHACK</td><td>4</td></tr>",
                            "<tr><td>730</td><td>RIDGEMONT SUBMARINE</td><td>8</td></tr>",
                            "<tr><td>731</td><td>RIGHT CRANES</td><td>3</td></tr>",
                            "<tr><td>732</td><td>RINGS HEARTBREAKERS</td><td>4</td></tr>",
                            "<tr><td>733</td><td>RIVER OUTLAW</td><td>7</td></tr>",
                            "<tr><td>734</td><td>ROAD ROXANNE</td><td>6</td></tr>",
                            "<tr><td>735</td><td>ROBBERS JOON</td><td>7</td></tr>",
                            "<tr><td>736</td><td>ROBBERY BRIGHT</td><td>4</td></tr>",
                            "<tr><td>737</td><td>ROCK INSTINCT</td><td>6</td></tr>",
                            "<tr><td>738</td><td>ROCKETEER MOTHER</td><td>8</td></tr>",
                            "<tr><td>739</td><td>ROCKY WAR</td><td>5</td></tr>",
                            "<tr><td>740</td><td>ROLLERCOASTER BRINGING</td><td>3</td></tr>",
                            "<tr><td>741</td><td>ROMAN PUNK</td><td>6</td></tr>",
                            "<tr><td>742</td><td>ROOF CHAMPION</td><td>0</td></tr>",
                            "<tr><td>743</td><td>ROOM ROMAN</td><td>6</td></tr>",
                            "<tr><td>744</td><td>ROOTS REMEMBER</td><td>5</td></tr>",
                            "<tr><td>745</td><td>ROSES TREASURE</td><td>8</td></tr>",
                            "<tr><td>746</td><td>ROUGE SQUAD</td><td>5</td></tr>",
                            "<tr><td>747</td><td>ROXANNE REBEL</td><td>5</td></tr>",
                            "<tr><td>748</td><td>RUGRATS SHAKESPEARE</td><td>8</td></tr>",
                            "<tr><td>749</td><td>RULES HUMAN</td><td>4</td></tr>",
                            "<tr><td>750</td><td>RUN PACIFIC</td><td>3</td></tr>",
                            "<tr><td>751</td><td>RUNAWAY TENENBAUMS</td><td>2</td></tr>",
                            "<tr><td>752</td><td>RUNNER MADIGAN</td><td>3</td></tr>",
                            "<tr><td>753</td><td>RUSH GOODFELLAS</td><td>8</td></tr>",
                            "<tr><td>754</td><td>RUSHMORE MERMAID</td><td>2</td></tr>",
                            "<tr><td>755</td><td>SABRINA MIDNIGHT</td><td>7</td></tr>",
                            "<tr><td>756</td><td>SADDLE ANTITRUST</td><td>3</td></tr>",
                            "<tr><td>757</td><td>SAGEBRUSH CLUELESS</td><td>5</td></tr>",
                            "<tr><td>758</td><td>SAINTS BRIDE</td><td>3</td></tr>",
                            "<tr><td>759</td><td>SALUTE APOLLO</td><td>6</td></tr>",
                            "<tr><td>760</td><td>SAMURAI LION</td><td>7</td></tr>",
                            "<tr><td>761</td><td>SANTA PARIS</td><td>3</td></tr>",
                            "<tr><td>762</td><td>SASSY PACKER</td><td>4</td></tr>",
                            "<tr><td>763</td><td>SATISFACTION CONFIDENTIAL</td><td>5</td></tr>",
                            "<tr><td>764</td><td>SATURDAY LAMBS</td><td>8</td></tr>",
                            "<tr><td>765</td><td>SATURN NAME</td><td>4</td></tr>",
                            "<tr><td>766</td><td>SAVANNAH TOWN</td><td>3</td></tr>",
                            "<tr><td>767</td><td>SCALAWAG DUCK</td><td>8</td></tr>",
                            "<tr><td>768</td><td>SCARFACE BANG</td><td>6</td></tr>",
                            "<tr><td>769</td><td>SCHOOL JACKET</td><td>2</td></tr>",
                            "<tr><td>770</td><td>SCISSORHANDS SLUMS</td><td>3</td></tr>",
                            "<tr><td>771</td><td>SCORPION APOLLO</td><td>7</td></tr>",
                            "<tr><td>772</td><td>SEA VIRGIN</td><td>6</td></tr>",
                            "<tr><td>773</td><td>SEABISCUIT PUNK</td><td>8</td></tr>",
                            "<tr><td>774</td><td>SEARCHERS WAIT</td><td>4</td></tr>",
                            "<tr><td>775</td><td>SEATTLE EXPECATIONS</td><td>5</td></tr>",
                            "<tr><td>776</td><td>SECRET GROUNDHOG</td><td>5</td></tr>",
                            "<tr><td>777</td><td>SECRETARY ROUGE</td><td>6</td></tr>",
                            "<tr><td>778</td><td>SECRETS PARADISE</td><td>6</td></tr>",
                            "<tr><td>779</td><td>SENSE GREEK</td><td>2</td></tr>",
                            "<tr><td>780</td><td>SENSIBILITY REAR</td><td>3</td></tr>",
                            "<tr><td>781</td><td>SEVEN SWARM</td><td>2</td></tr>",
                            "<tr><td>782</td><td>SHAKESPEARE SADDLE</td><td>6</td></tr>",
                            "<tr><td>783</td><td>SHANE DARKNESS</td><td>4</td></tr>",
                            "<tr><td>784</td><td>SHANGHAI TYCOON</td><td>6</td></tr>",
                            "<tr><td>785</td><td>SHAWSHANK BUBBLE</td><td>6</td></tr>",
                            "<tr><td>786</td><td>SHEPHERD MIDSUMMER</td><td>7</td></tr>",
                            "<tr><td>787</td><td>SHINING ROSES</td><td>3</td></tr>",
                            "<tr><td>788</td><td>SHIP WONDERLAND</td><td>4</td></tr>",
                            "<tr><td>789</td><td>SHOCK CABIN</td><td>8</td></tr>",
                            "<tr><td>790</td><td>SHOOTIST SUPERFLY</td><td>7</td></tr>",
                            "<tr><td>791</td><td>SHOW LORD</td><td>6</td></tr>",
                            "<tr><td>792</td><td>SHREK LICENSE</td><td>3</td></tr>",
                            "<tr><td>793</td><td>SHRUNK DIVINE</td><td>4</td></tr>",
                            "<tr><td>794</td><td>SIDE ARK</td><td>4</td></tr>",
                            "<tr><td>795</td><td>SIEGE MADRE</td><td>4</td></tr>",
                            "<tr><td>796</td><td>SIERRA DIVIDE</td><td>5</td></tr>",
                            "<tr><td>797</td><td>SILENCE KANE</td><td>5</td></tr>",
                            "<tr><td>798</td><td>SILVERADO GOLDFINGER</td><td>4</td></tr>",
                            "<tr><td>799</td><td>SIMON NORTH</td><td>2</td></tr>",
                            "<tr><td>800</td><td>SINNERS ATLANTIS</td><td>6</td></tr>",
                            "<tr><td>801</td><td>SISTER FREDDY</td><td>0</td></tr>",
                            "<tr><td>802</td><td>SKY MIRACLE</td><td>0</td></tr>",
                            "<tr><td>803</td><td>SLACKER LIAISONS</td><td>6</td></tr>",
                            "<tr><td>804</td><td>SLEEPING SUSPECTS</td><td>7</td></tr>",
                            "<tr><td>805</td><td>SLEEPLESS MONSOON</td><td>5</td></tr>",
                            "<tr><td>806</td><td>SLEEPY JAPANESE</td><td>5</td></tr>",
                            "<tr><td>807</td><td>SLEUTH ORIENT</td><td>5</td></tr>",
                            "<tr><td>808</td><td>SLING LUKE</td><td>2</td></tr>",
                            "<tr><td>809</td><td>SLIPPER FIDELITY</td><td>4</td></tr>",
                            "<tr><td>810</td><td>SLUMS DUCK</td><td>7</td></tr>",
                            "<tr><td>811</td><td>SMILE EARRING</td><td>3</td></tr>",
                            "<tr><td>812</td><td>SMOKING BARBARELLA</td><td>6</td></tr>",
                            "<tr><td>813</td><td>SMOOCHY CONTROL</td><td>4</td></tr>",
                            "<tr><td>814</td><td>SNATCH SLIPPER</td><td>7</td></tr>",
                            "<tr><td>815</td><td>SNATCHERS MONTEZUMA</td><td>3</td></tr>",
                            "<tr><td>816</td><td>SNOWMAN ROLLERCOASTER</td><td>7</td></tr>",
                            "<tr><td>817</td><td>SOLDIERS EVOLUTION</td><td>2</td></tr>",
                            "<tr><td>818</td><td>SOMETHING DUCK</td><td>5</td></tr>",
                            "<tr><td>819</td><td>SONG HEDWIG</td><td>3</td></tr>",
                            "<tr><td>820</td><td>SONS INTERVIEW</td><td>6</td></tr>",
                            "<tr><td>821</td><td>SORORITY QUEEN</td><td>4</td></tr>",
                            "<tr><td>822</td><td>SOUP WISDOM</td><td>2</td></tr>",
                            "<tr><td>823</td><td>SOUTH WAIT</td><td>7</td></tr>",
                            "<tr><td>824</td><td>SPARTACUS CHEAPER</td><td>4</td></tr>",
                            "<tr><td>825</td><td>SPEAKEASY DATE</td><td>3</td></tr>",
                            "<tr><td>826</td><td>SPEED SUIT</td><td>2</td></tr>",
                            "<tr><td>827</td><td>SPICE SORORITY</td><td>6</td></tr>",
                            "<tr><td>828</td><td>SPIKING ELEMENT</td><td>4</td></tr>",
                            "<tr><td>829</td><td>SPINAL ROCKY</td><td>5</td></tr>",
                            "<tr><td>830</td><td>SPIRIT FLINTSTONES</td><td>4</td></tr>",
                            "<tr><td>831</td><td>SPIRITED CASUALTIES</td><td>3</td></tr>",
                            "<tr><td>832</td><td>SPLASH GUMP</td><td>4</td></tr>",
                            "<tr><td>833</td><td>SPLENDOR PATTON</td><td>7</td></tr>",
                            "<tr><td>834</td><td>SPOILERS HELLFIGHTERS</td><td>3</td></tr>",
                            "<tr><td>835</td><td>SPY MILE</td><td>8</td></tr>",
                            "<tr><td>836</td><td>SQUAD FISH</td><td>3</td></tr>",
                            "<tr><td>837</td><td>STAGE WORLD</td><td>3</td></tr>",
                            "<tr><td>838</td><td>STAGECOACH ARMAGEDDON</td><td>6</td></tr>",
                            "<tr><td>839</td><td>STALLION SUNDANCE</td><td>2</td></tr>",
                            "<tr><td>840</td><td>STAMPEDE DISTURBING</td><td>4</td></tr>",
                            "<tr><td>841</td><td>STAR OPERATION</td><td>7</td></tr>",
                            "<tr><td>842</td><td>STATE WASTELAND</td><td>4</td></tr>",
                            "<tr><td>843</td><td>STEEL SANTA</td><td>7</td></tr>",
                            "<tr><td>844</td><td>STEERS ARMAGEDDON</td><td>4</td></tr>",
                            "<tr><td>845</td><td>STEPMOM DREAM</td><td>7</td></tr>",
                            "<tr><td>846</td><td>STING PERSONAL</td><td>8</td></tr>",
                            "<tr><td>847</td><td>STOCK GLASS</td><td>4</td></tr>",
                            "<tr><td>848</td><td>STONE FIRE</td><td>3</td></tr>",
                            "<tr><td>849</td><td>STORM HAPPINESS</td><td>8</td></tr>",
                            "<tr><td>850</td><td>STORY SIDE</td><td>7</td></tr>",
                            "<tr><td>851</td><td>STRAIGHT HOURS</td><td>6</td></tr>",
                            "<tr><td>852</td><td>STRANGELOVE DESIRE</td><td>7</td></tr>",
                            "<tr><td>853</td><td>STRANGER STRANGERS</td><td>3</td></tr>",
                            "<tr><td>854</td><td>STRANGERS GRAFFITI</td><td>4</td></tr>",
                            "<tr><td>855</td><td>STREAK RIDGEMONT</td><td>4</td></tr>",
                            "<tr><td>856</td><td>STREETCAR INTENTIONS</td><td>8</td></tr>",
                            "<tr><td>857</td><td>STRICTLY SCARFACE</td><td>7</td></tr>",
                            "<tr><td>858</td><td>SUBMARINE BED</td><td>4</td></tr>",
                            "<tr><td>859</td><td>SUGAR WONKA</td><td>6</td></tr>",
                            "<tr><td>860</td><td>SUICIDES SILENCE</td><td>0</td></tr>",
                            "<tr><td>861</td><td>SUIT WALLS</td><td>6</td></tr>",
                            "<tr><td>862</td><td>SUMMER SCARFACE</td><td>5</td></tr>",
                            "<tr><td>863</td><td>SUN CONFESSIONS</td><td>7</td></tr>",
                            "<tr><td>864</td><td>SUNDANCE INVASION</td><td>6</td></tr>",
                            "<tr><td>865</td><td>SUNRISE LEAGUE</td><td>6</td></tr>",
                            "<tr><td>866</td><td>SUNSET RACER</td><td>2</td></tr>",
                            "<tr><td>867</td><td>SUPER WYOMING</td><td>4</td></tr>",
                            "<tr><td>868</td><td>SUPERFLY TRIP</td><td>3</td></tr>",
                            "<tr><td>869</td><td>SUSPECTS QUILLS</td><td>7</td></tr>",
                            "<tr><td>870</td><td>SWARM GOLD</td><td>8</td></tr>",
                            "<tr><td>871</td><td>SWEDEN SHINING</td><td>5</td></tr>",
                            "<tr><td>872</td><td>SWEET BROTHERHOOD</td><td>3</td></tr>",
                            "<tr><td>873</td><td>SWEETHEARTS SUSPECTS</td><td>8</td></tr>",
                            "<tr><td>874</td><td>TADPOLE PARK</td><td>0</td></tr>",
                            "<tr><td>875</td><td>TALENTED HOMICIDE</td><td>7</td></tr>",
                            "<tr><td>876</td><td>TARZAN VIDEOTAPE</td><td>2</td></tr>",
                            "<tr><td>877</td><td>TAXI KICK</td><td>5</td></tr>",
                            "<tr><td>878</td><td>TEEN APOLLO</td><td>4</td></tr>",
                            "<tr><td>879</td><td>TELEGRAPH VOYAGE</td><td>7</td></tr>",
                            "<tr><td>880</td><td>TELEMARK HEARTBREAKERS</td><td>8</td></tr>",
                            "<tr><td>881</td><td>TEMPLE ATTRACTION</td><td>4</td></tr>",
                            "<tr><td>882</td><td>TENENBAUMS COMMAND</td><td>4</td></tr>",
                            "<tr><td>883</td><td>TEQUILA PAST</td><td>2</td></tr>",
                            "<tr><td>884</td><td>TERMINATOR CLUB</td><td>3</td></tr>",
                            "<tr><td>885</td><td>TEXAS WATCH</td><td>2</td></tr>",
                            "<tr><td>886</td><td>THEORY MERMAID</td><td>4</td></tr>",
                            "<tr><td>887</td><td>THIEF PELICAN</td><td>6</td></tr>",
                            "<tr><td>888</td><td>THIN SAGEBRUSH</td><td>4</td></tr>",
                            "<tr><td>889</td><td>TIES HUNGER</td><td>3</td></tr>",
                            "<tr><td>890</td><td>TIGHTS DAWN</td><td>7</td></tr>",
                            "<tr><td>891</td><td>TIMBERLAND SKY</td><td>7</td></tr>",
                            "<tr><td>892</td><td>TITANIC BOONDOCK</td><td>7</td></tr>",
                            "<tr><td>893</td><td>TITANS JERK</td><td>8</td></tr>",
                            "<tr><td>894</td><td>TOMATOES HELLFIGHTERS</td><td>5</td></tr>",
                            "<tr><td>895</td><td>TOMORROW HUSTLER</td><td>7</td></tr>",
                            "<tr><td>896</td><td>TOOTSIE PILOT</td><td>4</td></tr>",
                            "<tr><td>897</td><td>TORQUE BOUND</td><td>8</td></tr>",
                            "<tr><td>898</td><td>TOURIST PELICAN</td><td>5</td></tr>",
                            "<tr><td>899</td><td>TOWERS HURRICANE</td><td>3</td></tr>",
                            "<tr><td>900</td><td>TOWN ARK</td><td>4</td></tr>",
                            "<tr><td>901</td><td>TRACY CIDER</td><td>7</td></tr>",
                            "<tr><td>902</td><td>TRADING PINOCCHIO</td><td>7</td></tr>",
                            "<tr><td>903</td><td>TRAFFIC HOBBIT</td><td>2</td></tr>",
                            "<tr><td>904</td><td>TRAIN BUNCH</td><td>2</td></tr>",
                            "<tr><td>905</td><td>TRAINSPOTTING STRANGERS</td><td>3</td></tr>",
                            "<tr><td>906</td><td>TRAMP OTHERS</td><td>5</td></tr>",
                            "<tr><td>907</td><td>TRANSLATION SUMMER</td><td>4</td></tr>",
                            "<tr><td>908</td><td>TRAP GUYS</td><td>4</td></tr>",
                            "<tr><td>909</td><td>TREASURE COMMAND</td><td>0</td></tr>",
                            "<tr><td>910</td><td>TREATMENT JEKYLL</td><td>2</td></tr>",
                            "<tr><td>911</td><td>TRIP NEWTON</td><td>8</td></tr>",
                            "<tr><td>912</td><td>TROJAN TOMORROW</td><td>6</td></tr>",
                            "<tr><td>913</td><td>TROOPERS METAL</td><td>6</td></tr>",
                            "<tr><td>914</td><td>TROUBLE DATE</td><td>6</td></tr>",
                            "<tr><td>915</td><td>TRUMAN CRAZY</td><td>6</td></tr>",
                            "<tr><td>916</td><td>TURN STAR</td><td>4</td></tr>",
                            "<tr><td>917</td><td>TUXEDO MILE</td><td>5</td></tr>",
                            "<tr><td>918</td><td>TWISTED PIRATES</td><td>4</td></tr>",
                            "<tr><td>919</td><td>TYCOON GATHERING</td><td>4</td></tr>",
                            "<tr><td>920</td><td>UNBREAKABLE KARATE</td><td>5</td></tr>",
                            "<tr><td>921</td><td>UNCUT SUICIDES</td><td>4</td></tr>",
                            "<tr><td>922</td><td>UNDEFEATED DALMATIONS</td><td>7</td></tr>",
                            "<tr><td>923</td><td>UNFAITHFUL KILL</td><td>3</td></tr>",
                            "<tr><td>924</td><td>UNFORGIVEN ZOOLANDER</td><td>5</td></tr>",
                            "<tr><td>925</td><td>UNITED PILOT</td><td>5</td></tr>",
                            "<tr><td>926</td><td>UNTOUCHABLES SUNRISE</td><td>2</td></tr>",
                            "<tr><td>927</td><td>UPRISING UPTOWN</td><td>4</td></tr>",
                            "<tr><td>928</td><td>UPTOWN YOUNG</td><td>3</td></tr>",
                            "<tr><td>929</td><td>USUAL UNTOUCHABLES</td><td>4</td></tr>",
                            "<tr><td>930</td><td>VACATION BOONDOCK</td><td>6</td></tr>",
                            "<tr><td>931</td><td>VALENTINE VANISHING</td><td>3</td></tr>",
                            "<tr><td>932</td><td>VALLEY PACKER</td><td>4</td></tr>",
                            "<tr><td>933</td><td>VAMPIRE WHALE</td><td>3</td></tr>",
                            "<tr><td>934</td><td>VANILLA DAY</td><td>3</td></tr>",
                            "<tr><td>935</td><td>VANISHED GARDEN</td><td>2</td></tr>",
                            "<tr><td>936</td><td>VANISHING ROCKY</td><td>6</td></tr>",
                            "<tr><td>937</td><td>VARSITY TRIP</td><td>5</td></tr>",
                            "<tr><td>938</td><td>VELVET TERMINATOR</td><td>6</td></tr>",
                            "<tr><td>939</td><td>VERTIGO NORTHWEST</td><td>4</td></tr>",
                            "<tr><td>940</td><td>VICTORY ACADEMY</td><td>3</td></tr>",
                            "<tr><td>941</td><td>VIDEOTAPE ARSENIC</td><td>7</td></tr>",
                            "<tr><td>942</td><td>VIETNAM SMOOCHY</td><td>4</td></tr>",
                            "<tr><td>943</td><td>VILLAIN DESPERATE</td><td>0</td></tr>",
                            "<tr><td>944</td><td>VIRGIN DAISY</td><td>5</td></tr>",
                            "<tr><td>945</td><td>VIRGINIAN PLUTO</td><td>8</td></tr>",
                            "<tr><td>946</td><td>VIRTUAL SPOILERS</td><td>4</td></tr>",
                            "<tr><td>947</td><td>VISION TORQUE</td><td>2</td></tr>",
                            "<tr><td>948</td><td>VOICE PEACH</td><td>6</td></tr>",
                            "<tr><td>949</td><td>VOLCANO TEXAS</td><td>6</td></tr>",
                            "<tr><td>950</td><td>VOLUME HOUSE</td><td>0</td></tr>",
                            "<tr><td>951</td><td>VOYAGE LEGALLY</td><td>7</td></tr>",
                            "<tr><td>952</td><td>WAGON JAWS</td><td>3</td></tr>",
                            "<tr><td>953</td><td>WAIT CIDER</td><td>6</td></tr>",
                            "<tr><td>954</td><td>WAKE JAWS</td><td>0</td></tr>",
                            "<tr><td>955</td><td>WALLS ARTIST</td><td>0</td></tr>",
                            "<tr><td>956</td><td>WANDA CHAMBER</td><td>4</td></tr>",
                            "<tr><td>957</td><td>WAR NOTTING</td><td>5</td></tr>",
                            "<tr><td>958</td><td>WARDROBE PHANTOM</td><td>6</td></tr>",
                            "<tr><td>959</td><td>WARLOCK WEREWOLF</td><td>2</td></tr>",
                            "<tr><td>960</td><td>WARS PLUTO</td><td>3</td></tr>",
                            "<tr><td>961</td><td>WASH HEAVENLY</td><td>5</td></tr>",
                            "<tr><td>962</td><td>WASTELAND DIVINE</td><td>4</td></tr>",
                            "<tr><td>963</td><td>WATCH TRACY</td><td>5</td></tr>",
                            "<tr><td>964</td><td>WATERFRONT DELIVERANCE</td><td>5</td></tr>",
                            "<tr><td>965</td><td>WATERSHIP FRONTIER</td><td>2</td></tr>",
                            "<tr><td>966</td><td>WEDDING APOLLO</td><td>6</td></tr>",
                            "<tr><td>967</td><td>WEEKEND PERSONAL</td><td>5</td></tr>",
                            "<tr><td>968</td><td>WEREWOLF LOLA</td><td>3</td></tr>",
                            "<tr><td>969</td><td>WEST LION</td><td>4</td></tr>",
                            "<tr><td>970</td><td>WESTWARD SEABISCUIT</td><td>7</td></tr>",
                            "<tr><td>971</td><td>WHALE BIKINI</td><td>4</td></tr>",
                            "<tr><td>972</td><td>WHISPERER GIANT</td><td>6</td></tr>",
                            "<tr><td>973</td><td>WIFE TURN</td><td>8</td></tr>",
                            "<tr><td>974</td><td>WILD APOLLO</td><td>2</td></tr>",
                            "<tr><td>975</td><td>WILLOW TRACY</td><td>5</td></tr>",
                            "<tr><td>976</td><td>WIND PHANTOM</td><td>6</td></tr>",
                            "<tr><td>977</td><td>WINDOW SIDE</td><td>3</td></tr>",
                            "<tr><td>978</td><td>WISDOM WORKER</td><td>3</td></tr>",
                            "<tr><td>979</td><td>WITCHES PANIC</td><td>7</td></tr>",
                            "<tr><td>980</td><td>WIZARD COLDBLOODED</td><td>5</td></tr>",
                            "<tr><td>981</td><td>WOLVES DESIRE</td><td>6</td></tr>",
                            "<tr><td>982</td><td>WOMEN DORADO</td><td>7</td></tr>",
                            "<tr><td>983</td><td>WON DARES</td><td>3</td></tr>",
                            "<tr><td>984</td><td>WONDERFUL DROP</td><td>2</td></tr>",
                            "<tr><td>985</td><td>WONDERLAND CHRISTMAS</td><td>7</td></tr>",
                            "<tr><td>986</td><td>WONKA SEA</td><td>6</td></tr>",
                            "<tr><td>987</td><td>WORDS HUNTER</td><td>4</td></tr>",
                            "<tr><td>988</td><td>WORKER TARZAN</td><td>5</td></tr>",
                            "<tr><td>989</td><td>WORKING MICROCOSMOS</td><td>6</td></tr>",
                            "<tr><td>990</td><td>WORLD LEATHERNECKS</td><td>2</td></tr>",
                            "<tr><td>991</td><td>WORST BANGER</td><td>5</td></tr>",
                            "<tr><td>992</td><td>WRATH MILE</td><td>4</td></tr>",
                            "<tr><td>993</td><td>WRONG BEHAVIOR</td><td>7</td></tr>",
                            "<tr><td>994</td><td>WYOMING STORM</td><td>3</td></tr>",
                            "<tr><td>995</td><td>YENTL IDAHO</td><td>6</td></tr>",
                            "<tr><td>996</td><td>YOUNG LANGUAGE</td><td>2</td></tr>",
                            "<tr><td>997</td><td>YOUTH KICK</td><td>2</td></tr>",
                            "<tr><td>998</td><td>ZHIVAGO CORE</td><td>2</td></tr>",
                            "<tr><td>999</td><td>ZOOLANDER FICTION</td><td>5</td></tr>",
                            "<tr><td>1000</td><td>ZORRO ARK</td><td>8</td></tr>",
                            "</table>"
                        ]
                    }
                }
            ],
            "execution_count": 4
        },
        {
            "cell_type": "code",
            "source": [
                "SELECT f.film_id, f.title, i.inventory_id \r\n",
                "FROM film f \r\n",
                "    INNER JOIN inventory i \r\n",
                "    ON f.film_id = i.film_id\r\n",
                "WHERE f.film_id BETWEEN 13 AND 15;"
            ],
            "metadata": {
                "azdata_cell_guid": "baca4f47-a3b9-442e-8ce3-f3cbce77e21d"
            },
            "outputs": [
                {
                    "output_type": "display_data",
                    "data": {
                        "text/html": "(10 rows affected)"
                    },
                    "metadata": {}
                },
                {
                    "output_type": "display_data",
                    "data": {
                        "text/html": "Total execution time: 00:00:00.019"
                    },
                    "metadata": {}
                },
                {
                    "output_type": "execute_result",
                    "metadata": {},
                    "execution_count": 5,
                    "data": {
                        "application/vnd.dataresource+json": {
                            "schema": {
                                "fields": [
                                    {
                                        "name": "film_id"
                                    },
                                    {
                                        "name": "title"
                                    },
                                    {
                                        "name": "inventory_id"
                                    }
                                ]
                            },
                            "data": [
                                {
                                    "0": "13",
                                    "1": "ALI FOREVER",
                                    "2": "67"
                                },
                                {
                                    "0": "13",
                                    "1": "ALI FOREVER",
                                    "2": "68"
                                },
                                {
                                    "0": "13",
                                    "1": "ALI FOREVER",
                                    "2": "69"
                                },
                                {
                                    "0": "13",
                                    "1": "ALI FOREVER",
                                    "2": "70"
                                },
                                {
                                    "0": "15",
                                    "1": "ALIEN CENTER",
                                    "2": "71"
                                },
                                {
                                    "0": "15",
                                    "1": "ALIEN CENTER",
                                    "2": "72"
                                },
                                {
                                    "0": "15",
                                    "1": "ALIEN CENTER",
                                    "2": "73"
                                },
                                {
                                    "0": "15",
                                    "1": "ALIEN CENTER",
                                    "2": "74"
                                },
                                {
                                    "0": "15",
                                    "1": "ALIEN CENTER",
                                    "2": "75"
                                },
                                {
                                    "0": "15",
                                    "1": "ALIEN CENTER",
                                    "2": "76"
                                }
                            ]
                        },
                        "text/html": [
                            "<table>",
                            "<tr><th>film_id</th><th>title</th><th>inventory_id</th></tr>",
                            "<tr><td>13</td><td>ALI FOREVER</td><td>67</td></tr>",
                            "<tr><td>13</td><td>ALI FOREVER</td><td>68</td></tr>",
                            "<tr><td>13</td><td>ALI FOREVER</td><td>69</td></tr>",
                            "<tr><td>13</td><td>ALI FOREVER</td><td>70</td></tr>",
                            "<tr><td>15</td><td>ALIEN CENTER</td><td>71</td></tr>",
                            "<tr><td>15</td><td>ALIEN CENTER</td><td>72</td></tr>",
                            "<tr><td>15</td><td>ALIEN CENTER</td><td>73</td></tr>",
                            "<tr><td>15</td><td>ALIEN CENTER</td><td>74</td></tr>",
                            "<tr><td>15</td><td>ALIEN CENTER</td><td>75</td></tr>",
                            "<tr><td>15</td><td>ALIEN CENTER</td><td>76</td></tr>",
                            "</table>"
                        ]
                    }
                }
            ],
            "execution_count": 5
        },
        {
            "cell_type": "code",
            "source": [
                "SELECT f.film_id, f.title, i.inventory_id \r\n",
                "FROM film f \r\n",
                "    LEFT OUTER JOIN inventory i \r\n",
                "    ON f.film_id = i.film_id\r\n",
                "WHERE f.film_id BETWEEN 13 AND 15;"
            ],
            "metadata": {
                "azdata_cell_guid": "a34eee3c-d725-41ee-b63e-e084eeb36165"
            },
            "outputs": [
                {
                    "output_type": "display_data",
                    "data": {
                        "text/html": "(11 rows affected)"
                    },
                    "metadata": {}
                },
                {
                    "output_type": "display_data",
                    "data": {
                        "text/html": "Total execution time: 00:00:00.006"
                    },
                    "metadata": {}
                },
                {
                    "output_type": "execute_result",
                    "metadata": {},
                    "execution_count": 8,
                    "data": {
                        "application/vnd.dataresource+json": {
                            "schema": {
                                "fields": [
                                    {
                                        "name": "film_id"
                                    },
                                    {
                                        "name": "title"
                                    },
                                    {
                                        "name": "inventory_id"
                                    }
                                ]
                            },
                            "data": [
                                {
                                    "0": "13",
                                    "1": "ALI FOREVER",
                                    "2": "67"
                                },
                                {
                                    "0": "13",
                                    "1": "ALI FOREVER",
                                    "2": "68"
                                },
                                {
                                    "0": "13",
                                    "1": "ALI FOREVER",
                                    "2": "69"
                                },
                                {
                                    "0": "13",
                                    "1": "ALI FOREVER",
                                    "2": "70"
                                },
                                {
                                    "0": "14",
                                    "1": "ALICE FANTASIA",
                                    "2": "NULL"
                                },
                                {
                                    "0": "15",
                                    "1": "ALIEN CENTER",
                                    "2": "71"
                                },
                                {
                                    "0": "15",
                                    "1": "ALIEN CENTER",
                                    "2": "72"
                                },
                                {
                                    "0": "15",
                                    "1": "ALIEN CENTER",
                                    "2": "73"
                                },
                                {
                                    "0": "15",
                                    "1": "ALIEN CENTER",
                                    "2": "74"
                                },
                                {
                                    "0": "15",
                                    "1": "ALIEN CENTER",
                                    "2": "75"
                                },
                                {
                                    "0": "15",
                                    "1": "ALIEN CENTER",
                                    "2": "76"
                                }
                            ]
                        },
                        "text/html": [
                            "<table>",
                            "<tr><th>film_id</th><th>title</th><th>inventory_id</th></tr>",
                            "<tr><td>13</td><td>ALI FOREVER</td><td>67</td></tr>",
                            "<tr><td>13</td><td>ALI FOREVER</td><td>68</td></tr>",
                            "<tr><td>13</td><td>ALI FOREVER</td><td>69</td></tr>",
                            "<tr><td>13</td><td>ALI FOREVER</td><td>70</td></tr>",
                            "<tr><td>14</td><td>ALICE FANTASIA</td><td>NULL</td></tr>",
                            "<tr><td>15</td><td>ALIEN CENTER</td><td>71</td></tr>",
                            "<tr><td>15</td><td>ALIEN CENTER</td><td>72</td></tr>",
                            "<tr><td>15</td><td>ALIEN CENTER</td><td>73</td></tr>",
                            "<tr><td>15</td><td>ALIEN CENTER</td><td>74</td></tr>",
                            "<tr><td>15</td><td>ALIEN CENTER</td><td>75</td></tr>",
                            "<tr><td>15</td><td>ALIEN CENTER</td><td>76</td></tr>",
                            "</table>"
                        ]
                    }
                }
            ],
            "execution_count": 8
        },
        {
            "cell_type": "markdown",
            "source": [
                "## LEFT VERSUS RIGHT OUTER JOINS"
            ],
            "metadata": {
                "azdata_cell_guid": "3cd3a58b-2a55-429c-9f9c-3d1ce0367c58"
            }
        },
        {
            "cell_type": "code",
            "source": [
                "SELECT f.film_id, f.title, i.inventory_id \r\n",
                "FROM film f \r\n",
                "    RIGHT OUTER JOIN inventory i \r\n",
                "    ON f.film_id = i.film_id\r\n",
                "WHERE f.film_id BETWEEN 13 AND 15;"
            ],
            "metadata": {
                "azdata_cell_guid": "d25db9ce-0580-464b-a68f-c7ad5d0be832"
            },
            "outputs": [
                {
                    "output_type": "display_data",
                    "data": {
                        "text/html": "(10 rows affected)"
                    },
                    "metadata": {}
                },
                {
                    "output_type": "display_data",
                    "data": {
                        "text/html": "Total execution time: 00:00:00.008"
                    },
                    "metadata": {}
                },
                {
                    "output_type": "execute_result",
                    "metadata": {},
                    "execution_count": 9,
                    "data": {
                        "application/vnd.dataresource+json": {
                            "schema": {
                                "fields": [
                                    {
                                        "name": "film_id"
                                    },
                                    {
                                        "name": "title"
                                    },
                                    {
                                        "name": "inventory_id"
                                    }
                                ]
                            },
                            "data": [
                                {
                                    "0": "13",
                                    "1": "ALI FOREVER",
                                    "2": "67"
                                },
                                {
                                    "0": "13",
                                    "1": "ALI FOREVER",
                                    "2": "68"
                                },
                                {
                                    "0": "13",
                                    "1": "ALI FOREVER",
                                    "2": "69"
                                },
                                {
                                    "0": "13",
                                    "1": "ALI FOREVER",
                                    "2": "70"
                                },
                                {
                                    "0": "15",
                                    "1": "ALIEN CENTER",
                                    "2": "71"
                                },
                                {
                                    "0": "15",
                                    "1": "ALIEN CENTER",
                                    "2": "72"
                                },
                                {
                                    "0": "15",
                                    "1": "ALIEN CENTER",
                                    "2": "73"
                                },
                                {
                                    "0": "15",
                                    "1": "ALIEN CENTER",
                                    "2": "74"
                                },
                                {
                                    "0": "15",
                                    "1": "ALIEN CENTER",
                                    "2": "75"
                                },
                                {
                                    "0": "15",
                                    "1": "ALIEN CENTER",
                                    "2": "76"
                                }
                            ]
                        },
                        "text/html": [
                            "<table>",
                            "<tr><th>film_id</th><th>title</th><th>inventory_id</th></tr>",
                            "<tr><td>13</td><td>ALI FOREVER</td><td>67</td></tr>",
                            "<tr><td>13</td><td>ALI FOREVER</td><td>68</td></tr>",
                            "<tr><td>13</td><td>ALI FOREVER</td><td>69</td></tr>",
                            "<tr><td>13</td><td>ALI FOREVER</td><td>70</td></tr>",
                            "<tr><td>15</td><td>ALIEN CENTER</td><td>71</td></tr>",
                            "<tr><td>15</td><td>ALIEN CENTER</td><td>72</td></tr>",
                            "<tr><td>15</td><td>ALIEN CENTER</td><td>73</td></tr>",
                            "<tr><td>15</td><td>ALIEN CENTER</td><td>74</td></tr>",
                            "<tr><td>15</td><td>ALIEN CENTER</td><td>75</td></tr>",
                            "<tr><td>15</td><td>ALIEN CENTER</td><td>76</td></tr>",
                            "</table>"
                        ]
                    }
                }
            ],
            "execution_count": 9
        },
        {
            "cell_type": "markdown",
            "source": [
                "## THREE-WAY OUTER JOINS"
            ],
            "metadata": {
                "azdata_cell_guid": "2fef702b-52fb-4b78-9803-307c7bd54a76"
            }
        },
        {
            "cell_type": "code",
            "source": [
                "SELECT f.film_id, f.title, i.inventory_id, r.rental_date\r\n",
                "FROM film f \r\n",
                "    LEFT OUTER JOIN inventory i \r\n",
                "    ON f.film_id = i.film_id \r\n",
                "    LEFT OUTER JOIN rental r \r\n",
                "    ON i.inventory_id = r.inventory_id \r\n",
                "WHERE f.film_id BETWEEN 13 and 15;"
            ],
            "metadata": {
                "azdata_cell_guid": "1d402051-dffd-4612-839f-fcaba9aba9fe"
            },
            "outputs": [
                {
                    "output_type": "display_data",
                    "data": {
                        "text/html": "(32 rows affected)"
                    },
                    "metadata": {}
                },
                {
                    "output_type": "display_data",
                    "data": {
                        "text/html": "Total execution time: 00:00:00.025"
                    },
                    "metadata": {}
                },
                {
                    "output_type": "execute_result",
                    "metadata": {},
                    "execution_count": 10,
                    "data": {
                        "application/vnd.dataresource+json": {
                            "schema": {
                                "fields": [
                                    {
                                        "name": "film_id"
                                    },
                                    {
                                        "name": "title"
                                    },
                                    {
                                        "name": "inventory_id"
                                    },
                                    {
                                        "name": "rental_date"
                                    }
                                ]
                            },
                            "data": [
                                {
                                    "0": "13",
                                    "1": "ALI FOREVER",
                                    "2": "67",
                                    "3": "2005-07-31 18:11:17.000"
                                },
                                {
                                    "0": "13",
                                    "1": "ALI FOREVER",
                                    "2": "67",
                                    "3": "2005-08-22 21:59:29.000"
                                },
                                {
                                    "0": "13",
                                    "1": "ALI FOREVER",
                                    "2": "68",
                                    "3": "2005-07-28 15:26:20.000"
                                },
                                {
                                    "0": "13",
                                    "1": "ALI FOREVER",
                                    "2": "68",
                                    "3": "2005-08-23 05:02:31.000"
                                },
                                {
                                    "0": "13",
                                    "1": "ALI FOREVER",
                                    "2": "69",
                                    "3": "2005-08-01 23:36:10.000"
                                },
                                {
                                    "0": "13",
                                    "1": "ALI FOREVER",
                                    "2": "69",
                                    "3": "2005-08-22 02:12:44.000"
                                },
                                {
                                    "0": "13",
                                    "1": "ALI FOREVER",
                                    "2": "70",
                                    "3": "2005-07-12 10:51:09.000"
                                },
                                {
                                    "0": "13",
                                    "1": "ALI FOREVER",
                                    "2": "70",
                                    "3": "2005-07-29 01:29:51.000"
                                },
                                {
                                    "0": "13",
                                    "1": "ALI FOREVER",
                                    "2": "70",
                                    "3": "2006-02-14 15:16:03.000"
                                },
                                {
                                    "0": "14",
                                    "1": "ALICE FANTASIA",
                                    "2": "NULL",
                                    "3": "NULL"
                                },
                                {
                                    "0": "15",
                                    "1": "ALIEN CENTER",
                                    "2": "71",
                                    "3": "2005-07-11 05:47:08.000"
                                },
                                {
                                    "0": "15",
                                    "1": "ALIEN CENTER",
                                    "2": "71",
                                    "3": "2005-05-28 02:06:37.000"
                                },
                                {
                                    "0": "15",
                                    "1": "ALIEN CENTER",
                                    "2": "71",
                                    "3": "2005-08-02 13:58:55.000"
                                },
                                {
                                    "0": "15",
                                    "1": "ALIEN CENTER",
                                    "2": "71",
                                    "3": "2005-06-17 16:40:03.000"
                                },
                                {
                                    "0": "15",
                                    "1": "ALIEN CENTER",
                                    "2": "71",
                                    "3": "2005-08-23 05:13:09.000"
                                },
                                {
                                    "0": "15",
                                    "1": "ALIEN CENTER",
                                    "2": "72",
                                    "3": "2005-08-01 05:55:13.000"
                                },
                                {
                                    "0": "15",
                                    "1": "ALIEN CENTER",
                                    "2": "72",
                                    "3": "2005-05-27 22:49:27.000"
                                },
                                {
                                    "0": "15",
                                    "1": "ALIEN CENTER",
                                    "2": "72",
                                    "3": "2005-08-20 15:11:48.000"
                                },
                                {
                                    "0": "15",
                                    "1": "ALIEN CENTER",
                                    "2": "72",
                                    "3": "2005-06-19 13:29:28.000"
                                },
                                {
                                    "0": "15",
                                    "1": "ALIEN CENTER",
                                    "2": "72",
                                    "3": "2005-07-07 23:05:53.000"
                                },
                                {
                                    "0": "15",
                                    "1": "ALIEN CENTER",
                                    "2": "73",
                                    "3": "2005-07-30 14:48:24.000"
                                },
                                {
                                    "0": "15",
                                    "1": "ALIEN CENTER",
                                    "2": "73",
                                    "3": "2005-08-20 22:32:11.000"
                                },
                                {
                                    "0": "15",
                                    "1": "ALIEN CENTER",
                                    "2": "73",
                                    "3": "2005-07-06 15:51:58.000"
                                },
                                {
                                    "0": "15",
                                    "1": "ALIEN CENTER",
                                    "2": "74",
                                    "3": "2005-07-27 00:15:18.000"
                                },
                                {
                                    "0": "15",
                                    "1": "ALIEN CENTER",
                                    "2": "74",
                                    "3": "2005-08-23 19:21:22.000"
                                },
                                {
                                    "0": "15",
                                    "1": "ALIEN CENTER",
                                    "2": "75",
                                    "3": "2005-07-29 23:52:01.000"
                                },
                                {
                                    "0": "15",
                                    "1": "ALIEN CENTER",
                                    "2": "75",
                                    "3": "2005-08-18 21:55:01.000"
                                },
                                {
                                    "0": "15",
                                    "1": "ALIEN CENTER",
                                    "2": "75",
                                    "3": "2005-07-09 02:58:41.000"
                                },
                                {
                                    "0": "15",
                                    "1": "ALIEN CENTER",
                                    "2": "76",
                                    "3": "2005-08-01 01:49:36.000"
                                },
                                {
                                    "0": "15",
                                    "1": "ALIEN CENTER",
                                    "2": "76",
                                    "3": "2005-08-17 07:26:47.000"
                                },
                                {
                                    "0": "15",
                                    "1": "ALIEN CENTER",
                                    "2": "76",
                                    "3": "2005-06-15 08:01:29.000"
                                },
                                {
                                    "0": "15",
                                    "1": "ALIEN CENTER",
                                    "2": "76",
                                    "3": "2005-07-07 18:31:50.000"
                                }
                            ]
                        },
                        "text/html": [
                            "<table>",
                            "<tr><th>film_id</th><th>title</th><th>inventory_id</th><th>rental_date</th></tr>",
                            "<tr><td>13</td><td>ALI FOREVER</td><td>67</td><td>2005-07-31 18:11:17.000</td></tr>",
                            "<tr><td>13</td><td>ALI FOREVER</td><td>67</td><td>2005-08-22 21:59:29.000</td></tr>",
                            "<tr><td>13</td><td>ALI FOREVER</td><td>68</td><td>2005-07-28 15:26:20.000</td></tr>",
                            "<tr><td>13</td><td>ALI FOREVER</td><td>68</td><td>2005-08-23 05:02:31.000</td></tr>",
                            "<tr><td>13</td><td>ALI FOREVER</td><td>69</td><td>2005-08-01 23:36:10.000</td></tr>",
                            "<tr><td>13</td><td>ALI FOREVER</td><td>69</td><td>2005-08-22 02:12:44.000</td></tr>",
                            "<tr><td>13</td><td>ALI FOREVER</td><td>70</td><td>2005-07-12 10:51:09.000</td></tr>",
                            "<tr><td>13</td><td>ALI FOREVER</td><td>70</td><td>2005-07-29 01:29:51.000</td></tr>",
                            "<tr><td>13</td><td>ALI FOREVER</td><td>70</td><td>2006-02-14 15:16:03.000</td></tr>",
                            "<tr><td>14</td><td>ALICE FANTASIA</td><td>NULL</td><td>NULL</td></tr>",
                            "<tr><td>15</td><td>ALIEN CENTER</td><td>71</td><td>2005-07-11 05:47:08.000</td></tr>",
                            "<tr><td>15</td><td>ALIEN CENTER</td><td>71</td><td>2005-05-28 02:06:37.000</td></tr>",
                            "<tr><td>15</td><td>ALIEN CENTER</td><td>71</td><td>2005-08-02 13:58:55.000</td></tr>",
                            "<tr><td>15</td><td>ALIEN CENTER</td><td>71</td><td>2005-06-17 16:40:03.000</td></tr>",
                            "<tr><td>15</td><td>ALIEN CENTER</td><td>71</td><td>2005-08-23 05:13:09.000</td></tr>",
                            "<tr><td>15</td><td>ALIEN CENTER</td><td>72</td><td>2005-08-01 05:55:13.000</td></tr>",
                            "<tr><td>15</td><td>ALIEN CENTER</td><td>72</td><td>2005-05-27 22:49:27.000</td></tr>",
                            "<tr><td>15</td><td>ALIEN CENTER</td><td>72</td><td>2005-08-20 15:11:48.000</td></tr>",
                            "<tr><td>15</td><td>ALIEN CENTER</td><td>72</td><td>2005-06-19 13:29:28.000</td></tr>",
                            "<tr><td>15</td><td>ALIEN CENTER</td><td>72</td><td>2005-07-07 23:05:53.000</td></tr>",
                            "<tr><td>15</td><td>ALIEN CENTER</td><td>73</td><td>2005-07-30 14:48:24.000</td></tr>",
                            "<tr><td>15</td><td>ALIEN CENTER</td><td>73</td><td>2005-08-20 22:32:11.000</td></tr>",
                            "<tr><td>15</td><td>ALIEN CENTER</td><td>73</td><td>2005-07-06 15:51:58.000</td></tr>",
                            "<tr><td>15</td><td>ALIEN CENTER</td><td>74</td><td>2005-07-27 00:15:18.000</td></tr>",
                            "<tr><td>15</td><td>ALIEN CENTER</td><td>74</td><td>2005-08-23 19:21:22.000</td></tr>",
                            "<tr><td>15</td><td>ALIEN CENTER</td><td>75</td><td>2005-07-29 23:52:01.000</td></tr>",
                            "<tr><td>15</td><td>ALIEN CENTER</td><td>75</td><td>2005-08-18 21:55:01.000</td></tr>",
                            "<tr><td>15</td><td>ALIEN CENTER</td><td>75</td><td>2005-07-09 02:58:41.000</td></tr>",
                            "<tr><td>15</td><td>ALIEN CENTER</td><td>76</td><td>2005-08-01 01:49:36.000</td></tr>",
                            "<tr><td>15</td><td>ALIEN CENTER</td><td>76</td><td>2005-08-17 07:26:47.000</td></tr>",
                            "<tr><td>15</td><td>ALIEN CENTER</td><td>76</td><td>2005-06-15 08:01:29.000</td></tr>",
                            "<tr><td>15</td><td>ALIEN CENTER</td><td>76</td><td>2005-07-07 18:31:50.000</td></tr>",
                            "</table>"
                        ]
                    }
                }
            ],
            "execution_count": 10
        },
        {
            "cell_type": "markdown",
            "source": [
                "## CROSS JOINS"
            ],
            "metadata": {
                "azdata_cell_guid": "7eff09c7-7102-4a39-8adc-7ec5c1af6028"
            }
        },
        {
            "cell_type": "code",
            "source": [
                "SELECT c.name category_name, l.name language_name\r\n",
                "FROM category c \r\n",
                "    CROSS join [language] l;"
            ],
            "metadata": {
                "azdata_cell_guid": "4eabb4a3-b9f2-48d1-ae7c-2e2bdff0187a"
            },
            "outputs": [
                {
                    "output_type": "display_data",
                    "data": {
                        "text/html": "(96 rows affected)"
                    },
                    "metadata": {}
                },
                {
                    "output_type": "display_data",
                    "data": {
                        "text/html": "Total execution time: 00:00:00.013"
                    },
                    "metadata": {}
                },
                {
                    "output_type": "execute_result",
                    "metadata": {},
                    "execution_count": 11,
                    "data": {
                        "application/vnd.dataresource+json": {
                            "schema": {
                                "fields": [
                                    {
                                        "name": "category_name"
                                    },
                                    {
                                        "name": "language_name"
                                    }
                                ]
                            },
                            "data": [
                                {
                                    "0": "Action",
                                    "1": "English             "
                                },
                                {
                                    "0": "Animation",
                                    "1": "English             "
                                },
                                {
                                    "0": "Children",
                                    "1": "English             "
                                },
                                {
                                    "0": "Classics",
                                    "1": "English             "
                                },
                                {
                                    "0": "Comedy",
                                    "1": "English             "
                                },
                                {
                                    "0": "Documentary",
                                    "1": "English             "
                                },
                                {
                                    "0": "Drama",
                                    "1": "English             "
                                },
                                {
                                    "0": "Family",
                                    "1": "English             "
                                },
                                {
                                    "0": "Foreign",
                                    "1": "English             "
                                },
                                {
                                    "0": "Games",
                                    "1": "English             "
                                },
                                {
                                    "0": "Horror",
                                    "1": "English             "
                                },
                                {
                                    "0": "Music",
                                    "1": "English             "
                                },
                                {
                                    "0": "New",
                                    "1": "English             "
                                },
                                {
                                    "0": "Sci-Fi",
                                    "1": "English             "
                                },
                                {
                                    "0": "Sports",
                                    "1": "English             "
                                },
                                {
                                    "0": "Travel",
                                    "1": "English             "
                                },
                                {
                                    "0": "Action",
                                    "1": "Italian             "
                                },
                                {
                                    "0": "Animation",
                                    "1": "Italian             "
                                },
                                {
                                    "0": "Children",
                                    "1": "Italian             "
                                },
                                {
                                    "0": "Classics",
                                    "1": "Italian             "
                                },
                                {
                                    "0": "Comedy",
                                    "1": "Italian             "
                                },
                                {
                                    "0": "Documentary",
                                    "1": "Italian             "
                                },
                                {
                                    "0": "Drama",
                                    "1": "Italian             "
                                },
                                {
                                    "0": "Family",
                                    "1": "Italian             "
                                },
                                {
                                    "0": "Foreign",
                                    "1": "Italian             "
                                },
                                {
                                    "0": "Games",
                                    "1": "Italian             "
                                },
                                {
                                    "0": "Horror",
                                    "1": "Italian             "
                                },
                                {
                                    "0": "Music",
                                    "1": "Italian             "
                                },
                                {
                                    "0": "New",
                                    "1": "Italian             "
                                },
                                {
                                    "0": "Sci-Fi",
                                    "1": "Italian             "
                                },
                                {
                                    "0": "Sports",
                                    "1": "Italian             "
                                },
                                {
                                    "0": "Travel",
                                    "1": "Italian             "
                                },
                                {
                                    "0": "Action",
                                    "1": "Japanese            "
                                },
                                {
                                    "0": "Animation",
                                    "1": "Japanese            "
                                },
                                {
                                    "0": "Children",
                                    "1": "Japanese            "
                                },
                                {
                                    "0": "Classics",
                                    "1": "Japanese            "
                                },
                                {
                                    "0": "Comedy",
                                    "1": "Japanese            "
                                },
                                {
                                    "0": "Documentary",
                                    "1": "Japanese            "
                                },
                                {
                                    "0": "Drama",
                                    "1": "Japanese            "
                                },
                                {
                                    "0": "Family",
                                    "1": "Japanese            "
                                },
                                {
                                    "0": "Foreign",
                                    "1": "Japanese            "
                                },
                                {
                                    "0": "Games",
                                    "1": "Japanese            "
                                },
                                {
                                    "0": "Horror",
                                    "1": "Japanese            "
                                },
                                {
                                    "0": "Music",
                                    "1": "Japanese            "
                                },
                                {
                                    "0": "New",
                                    "1": "Japanese            "
                                },
                                {
                                    "0": "Sci-Fi",
                                    "1": "Japanese            "
                                },
                                {
                                    "0": "Sports",
                                    "1": "Japanese            "
                                },
                                {
                                    "0": "Travel",
                                    "1": "Japanese            "
                                },
                                {
                                    "0": "Action",
                                    "1": "Mandarin            "
                                },
                                {
                                    "0": "Animation",
                                    "1": "Mandarin            "
                                },
                                {
                                    "0": "Children",
                                    "1": "Mandarin            "
                                },
                                {
                                    "0": "Classics",
                                    "1": "Mandarin            "
                                },
                                {
                                    "0": "Comedy",
                                    "1": "Mandarin            "
                                },
                                {
                                    "0": "Documentary",
                                    "1": "Mandarin            "
                                },
                                {
                                    "0": "Drama",
                                    "1": "Mandarin            "
                                },
                                {
                                    "0": "Family",
                                    "1": "Mandarin            "
                                },
                                {
                                    "0": "Foreign",
                                    "1": "Mandarin            "
                                },
                                {
                                    "0": "Games",
                                    "1": "Mandarin            "
                                },
                                {
                                    "0": "Horror",
                                    "1": "Mandarin            "
                                },
                                {
                                    "0": "Music",
                                    "1": "Mandarin            "
                                },
                                {
                                    "0": "New",
                                    "1": "Mandarin            "
                                },
                                {
                                    "0": "Sci-Fi",
                                    "1": "Mandarin            "
                                },
                                {
                                    "0": "Sports",
                                    "1": "Mandarin            "
                                },
                                {
                                    "0": "Travel",
                                    "1": "Mandarin            "
                                },
                                {
                                    "0": "Action",
                                    "1": "French              "
                                },
                                {
                                    "0": "Animation",
                                    "1": "French              "
                                },
                                {
                                    "0": "Children",
                                    "1": "French              "
                                },
                                {
                                    "0": "Classics",
                                    "1": "French              "
                                },
                                {
                                    "0": "Comedy",
                                    "1": "French              "
                                },
                                {
                                    "0": "Documentary",
                                    "1": "French              "
                                },
                                {
                                    "0": "Drama",
                                    "1": "French              "
                                },
                                {
                                    "0": "Family",
                                    "1": "French              "
                                },
                                {
                                    "0": "Foreign",
                                    "1": "French              "
                                },
                                {
                                    "0": "Games",
                                    "1": "French              "
                                },
                                {
                                    "0": "Horror",
                                    "1": "French              "
                                },
                                {
                                    "0": "Music",
                                    "1": "French              "
                                },
                                {
                                    "0": "New",
                                    "1": "French              "
                                },
                                {
                                    "0": "Sci-Fi",
                                    "1": "French              "
                                },
                                {
                                    "0": "Sports",
                                    "1": "French              "
                                },
                                {
                                    "0": "Travel",
                                    "1": "French              "
                                },
                                {
                                    "0": "Action",
                                    "1": "German              "
                                },
                                {
                                    "0": "Animation",
                                    "1": "German              "
                                },
                                {
                                    "0": "Children",
                                    "1": "German              "
                                },
                                {
                                    "0": "Classics",
                                    "1": "German              "
                                },
                                {
                                    "0": "Comedy",
                                    "1": "German              "
                                },
                                {
                                    "0": "Documentary",
                                    "1": "German              "
                                },
                                {
                                    "0": "Drama",
                                    "1": "German              "
                                },
                                {
                                    "0": "Family",
                                    "1": "German              "
                                },
                                {
                                    "0": "Foreign",
                                    "1": "German              "
                                },
                                {
                                    "0": "Games",
                                    "1": "German              "
                                },
                                {
                                    "0": "Horror",
                                    "1": "German              "
                                },
                                {
                                    "0": "Music",
                                    "1": "German              "
                                },
                                {
                                    "0": "New",
                                    "1": "German              "
                                },
                                {
                                    "0": "Sci-Fi",
                                    "1": "German              "
                                },
                                {
                                    "0": "Sports",
                                    "1": "German              "
                                },
                                {
                                    "0": "Travel",
                                    "1": "German              "
                                }
                            ]
                        },
                        "text/html": [
                            "<table>",
                            "<tr><th>category_name</th><th>language_name</th></tr>",
                            "<tr><td>Action</td><td>English             </td></tr>",
                            "<tr><td>Animation</td><td>English             </td></tr>",
                            "<tr><td>Children</td><td>English             </td></tr>",
                            "<tr><td>Classics</td><td>English             </td></tr>",
                            "<tr><td>Comedy</td><td>English             </td></tr>",
                            "<tr><td>Documentary</td><td>English             </td></tr>",
                            "<tr><td>Drama</td><td>English             </td></tr>",
                            "<tr><td>Family</td><td>English             </td></tr>",
                            "<tr><td>Foreign</td><td>English             </td></tr>",
                            "<tr><td>Games</td><td>English             </td></tr>",
                            "<tr><td>Horror</td><td>English             </td></tr>",
                            "<tr><td>Music</td><td>English             </td></tr>",
                            "<tr><td>New</td><td>English             </td></tr>",
                            "<tr><td>Sci-Fi</td><td>English             </td></tr>",
                            "<tr><td>Sports</td><td>English             </td></tr>",
                            "<tr><td>Travel</td><td>English             </td></tr>",
                            "<tr><td>Action</td><td>Italian             </td></tr>",
                            "<tr><td>Animation</td><td>Italian             </td></tr>",
                            "<tr><td>Children</td><td>Italian             </td></tr>",
                            "<tr><td>Classics</td><td>Italian             </td></tr>",
                            "<tr><td>Comedy</td><td>Italian             </td></tr>",
                            "<tr><td>Documentary</td><td>Italian             </td></tr>",
                            "<tr><td>Drama</td><td>Italian             </td></tr>",
                            "<tr><td>Family</td><td>Italian             </td></tr>",
                            "<tr><td>Foreign</td><td>Italian             </td></tr>",
                            "<tr><td>Games</td><td>Italian             </td></tr>",
                            "<tr><td>Horror</td><td>Italian             </td></tr>",
                            "<tr><td>Music</td><td>Italian             </td></tr>",
                            "<tr><td>New</td><td>Italian             </td></tr>",
                            "<tr><td>Sci-Fi</td><td>Italian             </td></tr>",
                            "<tr><td>Sports</td><td>Italian             </td></tr>",
                            "<tr><td>Travel</td><td>Italian             </td></tr>",
                            "<tr><td>Action</td><td>Japanese            </td></tr>",
                            "<tr><td>Animation</td><td>Japanese            </td></tr>",
                            "<tr><td>Children</td><td>Japanese            </td></tr>",
                            "<tr><td>Classics</td><td>Japanese            </td></tr>",
                            "<tr><td>Comedy</td><td>Japanese            </td></tr>",
                            "<tr><td>Documentary</td><td>Japanese            </td></tr>",
                            "<tr><td>Drama</td><td>Japanese            </td></tr>",
                            "<tr><td>Family</td><td>Japanese            </td></tr>",
                            "<tr><td>Foreign</td><td>Japanese            </td></tr>",
                            "<tr><td>Games</td><td>Japanese            </td></tr>",
                            "<tr><td>Horror</td><td>Japanese            </td></tr>",
                            "<tr><td>Music</td><td>Japanese            </td></tr>",
                            "<tr><td>New</td><td>Japanese            </td></tr>",
                            "<tr><td>Sci-Fi</td><td>Japanese            </td></tr>",
                            "<tr><td>Sports</td><td>Japanese            </td></tr>",
                            "<tr><td>Travel</td><td>Japanese            </td></tr>",
                            "<tr><td>Action</td><td>Mandarin            </td></tr>",
                            "<tr><td>Animation</td><td>Mandarin            </td></tr>",
                            "<tr><td>Children</td><td>Mandarin            </td></tr>",
                            "<tr><td>Classics</td><td>Mandarin            </td></tr>",
                            "<tr><td>Comedy</td><td>Mandarin            </td></tr>",
                            "<tr><td>Documentary</td><td>Mandarin            </td></tr>",
                            "<tr><td>Drama</td><td>Mandarin            </td></tr>",
                            "<tr><td>Family</td><td>Mandarin            </td></tr>",
                            "<tr><td>Foreign</td><td>Mandarin            </td></tr>",
                            "<tr><td>Games</td><td>Mandarin            </td></tr>",
                            "<tr><td>Horror</td><td>Mandarin            </td></tr>",
                            "<tr><td>Music</td><td>Mandarin            </td></tr>",
                            "<tr><td>New</td><td>Mandarin            </td></tr>",
                            "<tr><td>Sci-Fi</td><td>Mandarin            </td></tr>",
                            "<tr><td>Sports</td><td>Mandarin            </td></tr>",
                            "<tr><td>Travel</td><td>Mandarin            </td></tr>",
                            "<tr><td>Action</td><td>French              </td></tr>",
                            "<tr><td>Animation</td><td>French              </td></tr>",
                            "<tr><td>Children</td><td>French              </td></tr>",
                            "<tr><td>Classics</td><td>French              </td></tr>",
                            "<tr><td>Comedy</td><td>French              </td></tr>",
                            "<tr><td>Documentary</td><td>French              </td></tr>",
                            "<tr><td>Drama</td><td>French              </td></tr>",
                            "<tr><td>Family</td><td>French              </td></tr>",
                            "<tr><td>Foreign</td><td>French              </td></tr>",
                            "<tr><td>Games</td><td>French              </td></tr>",
                            "<tr><td>Horror</td><td>French              </td></tr>",
                            "<tr><td>Music</td><td>French              </td></tr>",
                            "<tr><td>New</td><td>French              </td></tr>",
                            "<tr><td>Sci-Fi</td><td>French              </td></tr>",
                            "<tr><td>Sports</td><td>French              </td></tr>",
                            "<tr><td>Travel</td><td>French              </td></tr>",
                            "<tr><td>Action</td><td>German              </td></tr>",
                            "<tr><td>Animation</td><td>German              </td></tr>",
                            "<tr><td>Children</td><td>German              </td></tr>",
                            "<tr><td>Classics</td><td>German              </td></tr>",
                            "<tr><td>Comedy</td><td>German              </td></tr>",
                            "<tr><td>Documentary</td><td>German              </td></tr>",
                            "<tr><td>Drama</td><td>German              </td></tr>",
                            "<tr><td>Family</td><td>German              </td></tr>",
                            "<tr><td>Foreign</td><td>German              </td></tr>",
                            "<tr><td>Games</td><td>German              </td></tr>",
                            "<tr><td>Horror</td><td>German              </td></tr>",
                            "<tr><td>Music</td><td>German              </td></tr>",
                            "<tr><td>New</td><td>German              </td></tr>",
                            "<tr><td>Sci-Fi</td><td>German              </td></tr>",
                            "<tr><td>Sports</td><td>German              </td></tr>",
                            "<tr><td>Travel</td><td>German              </td></tr>",
                            "</table>"
                        ]
                    }
                }
            ],
            "execution_count": 11
        },
        {
            "cell_type": "code",
            "source": [
                "SELECT 'Small Fry' name, 0 low_limit, 74.99 high_limit\r\n",
                "UNION ALL\r\n",
                "SELECT 'Average Joes' name, 75 low_limit, 149.99 high_limit\r\n",
                "UNION ALL\r\n",
                "SELECT 'Heavy Hitters' name, 150 low_limit, 9999999.99 high_limit;"
            ],
            "metadata": {
                "azdata_cell_guid": "a7640c4e-bbd0-441a-b6d0-580e1333fcb4"
            },
            "outputs": [
                {
                    "output_type": "display_data",
                    "data": {
                        "text/html": "(3 rows affected)"
                    },
                    "metadata": {}
                },
                {
                    "output_type": "display_data",
                    "data": {
                        "text/html": "Total execution time: 00:00:00.011"
                    },
                    "metadata": {}
                },
                {
                    "output_type": "execute_result",
                    "metadata": {},
                    "execution_count": 12,
                    "data": {
                        "application/vnd.dataresource+json": {
                            "schema": {
                                "fields": [
                                    {
                                        "name": "name"
                                    },
                                    {
                                        "name": "low_limit"
                                    },
                                    {
                                        "name": "high_limit"
                                    }
                                ]
                            },
                            "data": [
                                {
                                    "0": "Small Fry",
                                    "1": "0",
                                    "2": "74,99"
                                },
                                {
                                    "0": "Average Joes",
                                    "1": "75",
                                    "2": "149,99"
                                },
                                {
                                    "0": "Heavy Hitters",
                                    "1": "150",
                                    "2": "9999999,99"
                                }
                            ]
                        },
                        "text/html": [
                            "<table>",
                            "<tr><th>name</th><th>low_limit</th><th>high_limit</th></tr>",
                            "<tr><td>Small Fry</td><td>0</td><td>74,99</td></tr>",
                            "<tr><td>Average Joes</td><td>75</td><td>149,99</td></tr>",
                            "<tr><td>Heavy Hitters</td><td>150</td><td>9999999,99</td></tr>",
                            "</table>"
                        ]
                    }
                }
            ],
            "execution_count": 12
        },
        {
            "cell_type": "code",
            "source": [
                "SELECT CONVERT(DATE, rental_date) date, COUNT(*) rentals\r\n",
                "FROM rental\r\n",
                "GROUP BY CONVERT(DATE, rental_date)"
            ],
            "metadata": {
                "azdata_cell_guid": "b0c257e7-8df8-41f2-9c39-526c61e5bff5"
            },
            "outputs": [
                {
                    "output_type": "display_data",
                    "data": {
                        "text/html": "(41 rows affected)"
                    },
                    "metadata": {}
                },
                {
                    "output_type": "display_data",
                    "data": {
                        "text/html": "Total execution time: 00:00:00.028"
                    },
                    "metadata": {}
                },
                {
                    "output_type": "execute_result",
                    "metadata": {},
                    "execution_count": 23,
                    "data": {
                        "application/vnd.dataresource+json": {
                            "schema": {
                                "fields": [
                                    {
                                        "name": "date"
                                    },
                                    {
                                        "name": "rentals"
                                    }
                                ]
                            },
                            "data": [
                                {
                                    "0": "2005-07-12",
                                    "1": "495"
                                },
                                {
                                    "0": "2005-08-21",
                                    "1": "659"
                                },
                                {
                                    "0": "2005-05-30",
                                    "1": "158"
                                },
                                {
                                    "0": "2005-08-01",
                                    "1": "671"
                                },
                                {
                                    "0": "2005-06-14",
                                    "1": "16"
                                },
                                {
                                    "0": "2005-05-25",
                                    "1": "137"
                                },
                                {
                                    "0": "2005-07-10",
                                    "1": "480"
                                },
                                {
                                    "0": "2005-08-19",
                                    "1": "628"
                                },
                                {
                                    "0": "2005-05-28",
                                    "1": "196"
                                },
                                {
                                    "0": "2005-06-17",
                                    "1": "325"
                                },
                                {
                                    "0": "2005-07-30",
                                    "1": "634"
                                },
                                {
                                    "0": "2005-07-07",
                                    "1": "461"
                                },
                                {
                                    "0": "2005-08-16",
                                    "1": "23"
                                },
                                {
                                    "0": "2005-08-22",
                                    "1": "626"
                                },
                                {
                                    "0": "2005-05-31",
                                    "1": "163"
                                },
                                {
                                    "0": "2005-06-20",
                                    "1": "331"
                                },
                                {
                                    "0": "2005-07-27",
                                    "1": "649"
                                },
                                {
                                    "0": "2005-08-02",
                                    "1": "643"
                                },
                                {
                                    "0": "2005-08-23",
                                    "1": "598"
                                },
                                {
                                    "0": "2005-07-31",
                                    "1": "679"
                                },
                                {
                                    "0": "2005-07-08",
                                    "1": "512"
                                },
                                {
                                    "0": "2005-06-15",
                                    "1": "348"
                                },
                                {
                                    "0": "2005-08-17",
                                    "1": "593"
                                },
                                {
                                    "0": "2005-06-21",
                                    "1": "275"
                                },
                                {
                                    "0": "2005-07-28",
                                    "1": "620"
                                },
                                {
                                    "0": "2005-05-26",
                                    "1": "174"
                                },
                                {
                                    "0": "2005-07-11",
                                    "1": "461"
                                },
                                {
                                    "0": "2005-08-20",
                                    "1": "624"
                                },
                                {
                                    "0": "2005-07-05",
                                    "1": "27"
                                },
                                {
                                    "0": "2005-05-29",
                                    "1": "154"
                                },
                                {
                                    "0": "2005-06-18",
                                    "1": "344"
                                },
                                {
                                    "0": "2005-07-06",
                                    "1": "504"
                                },
                                {
                                    "0": "2005-06-19",
                                    "1": "348"
                                },
                                {
                                    "0": "2005-07-26",
                                    "1": "33"
                                },
                                {
                                    "0": "2005-07-09",
                                    "1": "513"
                                },
                                {
                                    "0": "2005-06-16",
                                    "1": "324"
                                },
                                {
                                    "0": "2005-05-24",
                                    "1": "8"
                                },
                                {
                                    "0": "2005-08-18",
                                    "1": "621"
                                },
                                {
                                    "0": "2005-05-27",
                                    "1": "166"
                                },
                                {
                                    "0": "2006-02-14",
                                    "1": "182"
                                },
                                {
                                    "0": "2005-07-29",
                                    "1": "641"
                                }
                            ]
                        },
                        "text/html": [
                            "<table>",
                            "<tr><th>date</th><th>rentals</th></tr>",
                            "<tr><td>2005-07-12</td><td>495</td></tr>",
                            "<tr><td>2005-08-21</td><td>659</td></tr>",
                            "<tr><td>2005-05-30</td><td>158</td></tr>",
                            "<tr><td>2005-08-01</td><td>671</td></tr>",
                            "<tr><td>2005-06-14</td><td>16</td></tr>",
                            "<tr><td>2005-05-25</td><td>137</td></tr>",
                            "<tr><td>2005-07-10</td><td>480</td></tr>",
                            "<tr><td>2005-08-19</td><td>628</td></tr>",
                            "<tr><td>2005-05-28</td><td>196</td></tr>",
                            "<tr><td>2005-06-17</td><td>325</td></tr>",
                            "<tr><td>2005-07-30</td><td>634</td></tr>",
                            "<tr><td>2005-07-07</td><td>461</td></tr>",
                            "<tr><td>2005-08-16</td><td>23</td></tr>",
                            "<tr><td>2005-08-22</td><td>626</td></tr>",
                            "<tr><td>2005-05-31</td><td>163</td></tr>",
                            "<tr><td>2005-06-20</td><td>331</td></tr>",
                            "<tr><td>2005-07-27</td><td>649</td></tr>",
                            "<tr><td>2005-08-02</td><td>643</td></tr>",
                            "<tr><td>2005-08-23</td><td>598</td></tr>",
                            "<tr><td>2005-07-31</td><td>679</td></tr>",
                            "<tr><td>2005-07-08</td><td>512</td></tr>",
                            "<tr><td>2005-06-15</td><td>348</td></tr>",
                            "<tr><td>2005-08-17</td><td>593</td></tr>",
                            "<tr><td>2005-06-21</td><td>275</td></tr>",
                            "<tr><td>2005-07-28</td><td>620</td></tr>",
                            "<tr><td>2005-05-26</td><td>174</td></tr>",
                            "<tr><td>2005-07-11</td><td>461</td></tr>",
                            "<tr><td>2005-08-20</td><td>624</td></tr>",
                            "<tr><td>2005-07-05</td><td>27</td></tr>",
                            "<tr><td>2005-05-29</td><td>154</td></tr>",
                            "<tr><td>2005-06-18</td><td>344</td></tr>",
                            "<tr><td>2005-07-06</td><td>504</td></tr>",
                            "<tr><td>2005-06-19</td><td>348</td></tr>",
                            "<tr><td>2005-07-26</td><td>33</td></tr>",
                            "<tr><td>2005-07-09</td><td>513</td></tr>",
                            "<tr><td>2005-06-16</td><td>324</td></tr>",
                            "<tr><td>2005-05-24</td><td>8</td></tr>",
                            "<tr><td>2005-08-18</td><td>621</td></tr>",
                            "<tr><td>2005-05-27</td><td>166</td></tr>",
                            "<tr><td>2006-02-14</td><td>182</td></tr>",
                            "<tr><td>2005-07-29</td><td>641</td></tr>",
                            "</table>"
                        ]
                    }
                }
            ],
            "execution_count": 23
        },
        {
            "cell_type": "markdown",
            "source": [
                "## TEST YOUR KNOWLEDGE"
            ],
            "metadata": {
                "azdata_cell_guid": "2391aeae-d453-439a-921b-1b01b6bc3d67"
            }
        },
        {
            "cell_type": "markdown",
            "source": [
                "## Exercise 10-1\n",
                "\n",
                "Write a query that returns each customer name along with their total payments:"
            ],
            "metadata": {
                "azdata_cell_guid": "fe6b3aac-a5c1-489a-a11d-4ea6b3009eb0"
            }
        },
        {
            "cell_type": "code",
            "source": [
                "SELECT c.first_name, c.last_name, SUM(p.amount) total_payments\r\n",
                "FROM customer c \r\n",
                "LEFT OUTER JOIN payment p \r\n",
                "    ON c.customer_id = p.customer_id\r\n",
                "GROUP BY c.first_name, c.last_name\r\n",
                "ORDER BY total_payments DESC;"
            ],
            "metadata": {
                "azdata_cell_guid": "e9cbf4c0-67e9-4287-864d-1bee613137ea"
            },
            "outputs": [
                {
                    "output_type": "display_data",
                    "data": {
                        "text/html": "(599 rows affected)"
                    },
                    "metadata": {}
                },
                {
                    "output_type": "display_data",
                    "data": {
                        "text/html": "Total execution time: 00:00:00.028"
                    },
                    "metadata": {}
                },
                {
                    "output_type": "execute_result",
                    "metadata": {},
                    "execution_count": 32,
                    "data": {
                        "application/vnd.dataresource+json": {
                            "schema": {
                                "fields": [
                                    {
                                        "name": "first_name"
                                    },
                                    {
                                        "name": "last_name"
                                    },
                                    {
                                        "name": "total_payments"
                                    }
                                ]
                            },
                            "data": [
                                {
                                    "0": "KARL",
                                    "1": "SEAL",
                                    "2": "221,55"
                                },
                                {
                                    "0": "ELEANOR",
                                    "1": "HUNT",
                                    "2": "216,54"
                                },
                                {
                                    "0": "CLARA",
                                    "1": "SHAW",
                                    "2": "195,58"
                                },
                                {
                                    "0": "MARION",
                                    "1": "SNYDER",
                                    "2": "194,61"
                                },
                                {
                                    "0": "RHONDA",
                                    "1": "KENNEDY",
                                    "2": "194,61"
                                },
                                {
                                    "0": "TOMMY",
                                    "1": "COLLAZO",
                                    "2": "186,62"
                                },
                                {
                                    "0": "WESLEY",
                                    "1": "BULL",
                                    "2": "177,60"
                                },
                                {
                                    "0": "TIM",
                                    "1": "CARY",
                                    "2": "175,61"
                                },
                                {
                                    "0": "MARCIA",
                                    "1": "DEAN",
                                    "2": "175,58"
                                },
                                {
                                    "0": "ANA",
                                    "1": "BRADLEY",
                                    "2": "174,66"
                                },
                                {
                                    "0": "JUNE",
                                    "1": "CARROLL",
                                    "2": "173,63"
                                },
                                {
                                    "0": "LENA",
                                    "1": "JENSEN",
                                    "2": "170,67"
                                },
                                {
                                    "0": "DIANE",
                                    "1": "COLLINS",
                                    "2": "169,65"
                                },
                                {
                                    "0": "ARNOLD",
                                    "1": "HAVENS",
                                    "2": "167,67"
                                },
                                {
                                    "0": "CURTIS",
                                    "1": "IRBY",
                                    "2": "167,62"
                                },
                                {
                                    "0": "MIKE",
                                    "1": "WAY",
                                    "2": "166,65"
                                },
                                {
                                    "0": "DAISY",
                                    "1": "BATES",
                                    "2": "162,62"
                                },
                                {
                                    "0": "TONYA",
                                    "1": "CHAPMAN",
                                    "2": "161,68"
                                },
                                {
                                    "0": "LOUIS",
                                    "1": "LEONE",
                                    "2": "161,65"
                                },
                                {
                                    "0": "GORDON",
                                    "1": "ALLARD",
                                    "2": "160,68"
                                },
                                {
                                    "0": "BRITTANY",
                                    "1": "RILEY",
                                    "2": "159,72"
                                },
                                {
                                    "0": "GUY",
                                    "1": "BROWNLEE",
                                    "2": "159,68"
                                },
                                {
                                    "0": "WARREN",
                                    "1": "SHERROD",
                                    "2": "159,67"
                                },
                                {
                                    "0": "MARGIE",
                                    "1": "WADE",
                                    "2": "159,64"
                                },
                                {
                                    "0": "MAE",
                                    "1": "FLETCHER",
                                    "2": "158,69"
                                },
                                {
                                    "0": "STEVE",
                                    "1": "MACKENZIE",
                                    "2": "158,66"
                                },
                                {
                                    "0": "PRISCILLA",
                                    "1": "LOWE",
                                    "2": "157,65"
                                },
                                {
                                    "0": "HARRY",
                                    "1": "ARCE",
                                    "2": "157,65"
                                },
                                {
                                    "0": "ARTHUR",
                                    "1": "SIMPKINS",
                                    "2": "155,68"
                                },
                                {
                                    "0": "MICHELLE",
                                    "1": "CLARK",
                                    "2": "155,65"
                                },
                                {
                                    "0": "TAMMY",
                                    "1": "SANDERS",
                                    "2": "155,59"
                                },
                                {
                                    "0": "SUE",
                                    "1": "PETERS",
                                    "2": "154,60"
                                },
                                {
                                    "0": "SHERRY",
                                    "1": "MARSHALL",
                                    "2": "153,66"
                                },
                                {
                                    "0": "NEIL",
                                    "1": "RENNER",
                                    "2": "152,68"
                                },
                                {
                                    "0": "SHAWN",
                                    "1": "HEATON",
                                    "2": "152,67"
                                },
                                {
                                    "0": "JESSICA",
                                    "1": "HALL",
                                    "2": "152,66"
                                },
                                {
                                    "0": "LESLIE",
                                    "1": "SEWARD",
                                    "2": "152,65"
                                },
                                {
                                    "0": "NAOMI",
                                    "1": "JENNINGS",
                                    "2": "152,65"
                                },
                                {
                                    "0": "BRANDON",
                                    "1": "HUEY",
                                    "2": "152,63"
                                },
                                {
                                    "0": "ALEX",
                                    "1": "GRESHAM",
                                    "2": "151,67"
                                },
                                {
                                    "0": "MARIA",
                                    "1": "MILLER",
                                    "2": "151,67"
                                },
                                {
                                    "0": "STACEY",
                                    "1": "MONTGOMERY",
                                    "2": "151,66"
                                },
                                {
                                    "0": "ALMA",
                                    "1": "AUSTIN",
                                    "2": "151,65"
                                },
                                {
                                    "0": "ALEXANDER",
                                    "1": "FENNELL",
                                    "2": "151,64"
                                },
                                {
                                    "0": "MARSHA",
                                    "1": "DOUGLAS",
                                    "2": "151,63"
                                },
                                {
                                    "0": "RALPH",
                                    "1": "MADRIGAL",
                                    "2": "150,66"
                                },
                                {
                                    "0": "BILLY",
                                    "1": "POULIN",
                                    "2": "149,65"
                                },
                                {
                                    "0": "DUANE",
                                    "1": "TUBBS",
                                    "2": "148,69"
                                },
                                {
                                    "0": "JACQUELINE",
                                    "1": "LONG",
                                    "2": "148,67"
                                },
                                {
                                    "0": "CHRISTOPHER",
                                    "1": "GRECO",
                                    "2": "147,69"
                                },
                                {
                                    "0": "ROSEMARY",
                                    "1": "SCHMIDT",
                                    "2": "147,65"
                                },
                                {
                                    "0": "ZACHARY",
                                    "1": "HITE",
                                    "2": "146,69"
                                },
                                {
                                    "0": "GLADYS",
                                    "1": "HAMILTON",
                                    "2": "146,69"
                                },
                                {
                                    "0": "ROGER",
                                    "1": "QUINTANILLA",
                                    "2": "146,64"
                                },
                                {
                                    "0": "WANDA",
                                    "1": "PATTERSON",
                                    "2": "145,70"
                                },
                                {
                                    "0": "NICHOLAS",
                                    "1": "BARFIELD",
                                    "2": "145,68"
                                },
                                {
                                    "0": "BERNICE",
                                    "1": "WILLIS",
                                    "2": "145,67"
                                },
                                {
                                    "0": "TROY",
                                    "1": "QUIGLEY",
                                    "2": "144,70"
                                },
                                {
                                    "0": "OLGA",
                                    "1": "JIMENEZ",
                                    "2": "144,68"
                                },
                                {
                                    "0": "TANYA",
                                    "1": "GILBERT",
                                    "2": "144,67"
                                },
                                {
                                    "0": "JANICE",
                                    "1": "WARD",
                                    "2": "144,66"
                                },
                                {
                                    "0": "ELIZABETH",
                                    "1": "BROWN",
                                    "2": "144,62"
                                },
                                {
                                    "0": "JERRY",
                                    "1": "JORDON",
                                    "2": "143,71"
                                },
                                {
                                    "0": "ROY",
                                    "1": "WHITING",
                                    "2": "143,71"
                                },
                                {
                                    "0": "SYLVIA",
                                    "1": "ORTIZ",
                                    "2": "143,68"
                                },
                                {
                                    "0": "VIOLET",
                                    "1": "RODRIQUEZ",
                                    "2": "142,70"
                                },
                                {
                                    "0": "RYAN",
                                    "1": "SALISBURY",
                                    "2": "142,70"
                                },
                                {
                                    "0": "MINNIE",
                                    "1": "ROMERO",
                                    "2": "142,66"
                                },
                                {
                                    "0": "CATHERINE",
                                    "1": "CAMPBELL",
                                    "2": "142,66"
                                },
                                {
                                    "0": "DEBRA",
                                    "1": "NELSON",
                                    "2": "141,71"
                                },
                                {
                                    "0": "GREG",
                                    "1": "ROBINS",
                                    "2": "141,70"
                                },
                                {
                                    "0": "LORI",
                                    "1": "WOOD",
                                    "2": "141,69"
                                },
                                {
                                    "0": "SARA",
                                    "1": "PERRY",
                                    "2": "141,67"
                                },
                                {
                                    "0": "JESSIE",
                                    "1": "MILAM",
                                    "2": "141,67"
                                },
                                {
                                    "0": "CASEY",
                                    "1": "MENA",
                                    "2": "141,66"
                                },
                                {
                                    "0": "ELSIE",
                                    "1": "KELLEY",
                                    "2": "141,63"
                                },
                                {
                                    "0": "RAMON",
                                    "1": "CHOATE",
                                    "2": "140,69"
                                },
                                {
                                    "0": "GLENDA",
                                    "1": "FRAZIER",
                                    "2": "140,68"
                                },
                                {
                                    "0": "ANGELA",
                                    "1": "HERNANDEZ",
                                    "2": "140,64"
                                },
                                {
                                    "0": "ALVIN",
                                    "1": "DELOACH",
                                    "2": "139,71"
                                },
                                {
                                    "0": "JAMIE",
                                    "1": "RICE",
                                    "2": "139,71"
                                },
                                {
                                    "0": "STANLEY",
                                    "1": "SCROGGINS",
                                    "2": "139,70"
                                },
                                {
                                    "0": "ROBERTO",
                                    "1": "VU",
                                    "2": "139,70"
                                },
                                {
                                    "0": "GRACE",
                                    "1": "ELLIS",
                                    "2": "139,67"
                                },
                                {
                                    "0": "MORRIS",
                                    "1": "MCCARTER",
                                    "2": "139,66"
                                },
                                {
                                    "0": "MAURICE",
                                    "1": "CRAWLEY",
                                    "2": "138,71"
                                },
                                {
                                    "0": "JOE",
                                    "1": "GILLILAND",
                                    "2": "138,71"
                                },
                                {
                                    "0": "CHARLES",
                                    "1": "KOWALSKI",
                                    "2": "138,68"
                                },
                                {
                                    "0": "ALICE",
                                    "1": "STEWART",
                                    "2": "138,67"
                                },
                                {
                                    "0": "BRETT",
                                    "1": "CORNWELL",
                                    "2": "138,66"
                                },
                                {
                                    "0": "MARILYN",
                                    "1": "ROSS",
                                    "2": "137,70"
                                },
                                {
                                    "0": "ELLA",
                                    "1": "OLIVER",
                                    "2": "137,69"
                                },
                                {
                                    "0": "JOHN",
                                    "1": "FARNSWORTH",
                                    "2": "137,69"
                                },
                                {
                                    "0": "CRYSTAL",
                                    "1": "FORD",
                                    "2": "137,67"
                                },
                                {
                                    "0": "GERTRUDE",
                                    "1": "CASTILLO",
                                    "2": "137,66"
                                },
                                {
                                    "0": "JEANNE",
                                    "1": "LAWSON",
                                    "2": "136,73"
                                },
                                {
                                    "0": "RUSSELL",
                                    "1": "BRINSON",
                                    "2": "136,64"
                                },
                                {
                                    "0": "MIRIAM",
                                    "1": "MCKINNEY",
                                    "2": "135,74"
                                },
                                {
                                    "0": "LINDA",
                                    "1": "WILLIAMS",
                                    "2": "135,74"
                                },
                                {
                                    "0": "JIMMIE",
                                    "1": "EGGLESTON",
                                    "2": "135,72"
                                },
                                {
                                    "0": "MIGUEL",
                                    "1": "BETANCOURT",
                                    "2": "135,71"
                                },
                                {
                                    "0": "RAYMOND",
                                    "1": "MCWHORTER",
                                    "2": "135,70"
                                },
                                {
                                    "0": "GLORIA",
                                    "1": "COOK",
                                    "2": "135,70"
                                },
                                {
                                    "0": "DIANNE",
                                    "1": "SHELTON",
                                    "2": "135,69"
                                },
                                {
                                    "0": "JAVIER",
                                    "1": "ELROD",
                                    "2": "135,68"
                                },
                                {
                                    "0": "ETHEL",
                                    "1": "WEBB",
                                    "2": "135,68"
                                },
                                {
                                    "0": "REGINA",
                                    "1": "BERRY",
                                    "2": "135,66"
                                },
                                {
                                    "0": "KENT",
                                    "1": "ARSENAULT",
                                    "2": "134,73"
                                },
                                {
                                    "0": "JOSEPH",
                                    "1": "JOY",
                                    "2": "134,70"
                                },
                                {
                                    "0": "DAVE",
                                    "1": "GARDINER",
                                    "2": "134,68"
                                },
                                {
                                    "0": "JULIA",
                                    "1": "FLORES",
                                    "2": "134,68"
                                },
                                {
                                    "0": "MITCHELL",
                                    "1": "WESTMORELAND",
                                    "2": "134,68"
                                },
                                {
                                    "0": "HELEN",
                                    "1": "HARRIS",
                                    "2": "134,68"
                                },
                                {
                                    "0": "BARRY",
                                    "1": "LOVELACE",
                                    "2": "134,67"
                                },
                                {
                                    "0": "JORGE",
                                    "1": "OLIVARES",
                                    "2": "134,66"
                                },
                                {
                                    "0": "DON",
                                    "1": "BONE",
                                    "2": "133,75"
                                },
                                {
                                    "0": "CHERYL",
                                    "1": "MURPHY",
                                    "2": "133,73"
                                },
                                {
                                    "0": "TINA",
                                    "1": "SIMMONS",
                                    "2": "133,72"
                                },
                                {
                                    "0": "NATHANIEL",
                                    "1": "ADAM",
                                    "2": "133,72"
                                },
                                {
                                    "0": "JENNIE",
                                    "1": "TERRY",
                                    "2": "133,71"
                                },
                                {
                                    "0": "DANA",
                                    "1": "HART",
                                    "2": "133,71"
                                },
                                {
                                    "0": "ROSA",
                                    "1": "REYNOLDS",
                                    "2": "133,70"
                                },
                                {
                                    "0": "BESSIE",
                                    "1": "MORRISON",
                                    "2": "132,72"
                                },
                                {
                                    "0": "STEVEN",
                                    "1": "CURLEY",
                                    "2": "132,71"
                                },
                                {
                                    "0": "TRACY",
                                    "1": "COLE",
                                    "2": "132,70"
                                },
                                {
                                    "0": "RONALD",
                                    "1": "WEINER",
                                    "2": "132,70"
                                },
                                {
                                    "0": "JORDAN",
                                    "1": "ARCHULETA",
                                    "2": "132,70"
                                },
                                {
                                    "0": "COURTNEY",
                                    "1": "DAY",
                                    "2": "132,68"
                                },
                                {
                                    "0": "KAREN",
                                    "1": "JACKSON",
                                    "2": "131,73"
                                },
                                {
                                    "0": "JAMES",
                                    "1": "GANNON",
                                    "2": "131,70"
                                },
                                {
                                    "0": "GEORGE",
                                    "1": "LINTON",
                                    "2": "131,67"
                                },
                                {
                                    "0": "KATHRYN",
                                    "1": "COLEMAN",
                                    "2": "130,74"
                                },
                                {
                                    "0": "EDUARDO",
                                    "1": "HIATT",
                                    "2": "130,73"
                                },
                                {
                                    "0": "JOYCE",
                                    "1": "EDWARDS",
                                    "2": "130,72"
                                },
                                {
                                    "0": "MICHELE",
                                    "1": "GRANT",
                                    "2": "130,70"
                                },
                                {
                                    "0": "DEBBIE",
                                    "1": "REYES",
                                    "2": "130,68"
                                },
                                {
                                    "0": "HAROLD",
                                    "1": "MARTINO",
                                    "2": "130,68"
                                },
                                {
                                    "0": "TRACY",
                                    "1": "HERRMANN",
                                    "2": "129,72"
                                },
                                {
                                    "0": "GILBERT",
                                    "1": "SLEDGE",
                                    "2": "129,72"
                                },
                                {
                                    "0": "SALVADOR",
                                    "1": "TEEL",
                                    "2": "129,70"
                                },
                                {
                                    "0": "CASSANDRA",
                                    "1": "WALTERS",
                                    "2": "129,70"
                                },
                                {
                                    "0": "RAMONA",
                                    "1": "HALE",
                                    "2": "129,70"
                                },
                                {
                                    "0": "KATHY",
                                    "1": "JAMES",
                                    "2": "129,70"
                                },
                                {
                                    "0": "VIOLA",
                                    "1": "HANSON",
                                    "2": "129,68"
                                },
                                {
                                    "0": "VIRGINIA",
                                    "1": "GREEN",
                                    "2": "129,68"
                                },
                                {
                                    "0": "JUSTIN",
                                    "1": "NGO",
                                    "2": "129,64"
                                },
                                {
                                    "0": "EDDIE",
                                    "1": "TOMLIN",
                                    "2": "128,73"
                                },
                                {
                                    "0": "PATRICIA",
                                    "1": "JOHNSON",
                                    "2": "128,73"
                                },
                                {
                                    "0": "JASON",
                                    "1": "MORRISSEY",
                                    "2": "128,72"
                                },
                                {
                                    "0": "TERESA",
                                    "1": "ROGERS",
                                    "2": "128,71"
                                },
                                {
                                    "0": "MONICA",
                                    "1": "HICKS",
                                    "2": "128,70"
                                },
                                {
                                    "0": "JIM",
                                    "1": "REA",
                                    "2": "128,67"
                                },
                                {
                                    "0": "SHERRI",
                                    "1": "RHODES",
                                    "2": "128,67"
                                },
                                {
                                    "0": "MILTON",
                                    "1": "HOWLAND",
                                    "2": "127,75"
                                },
                                {
                                    "0": "JANET",
                                    "1": "PHILLIPS",
                                    "2": "127,73"
                                },
                                {
                                    "0": "MICHAEL",
                                    "1": "SILVERMAN",
                                    "2": "127,71"
                                },
                                {
                                    "0": "TERRY",
                                    "1": "CARLSON",
                                    "2": "127,71"
                                },
                                {
                                    "0": "AMY",
                                    "1": "LOPEZ",
                                    "2": "127,71"
                                },
                                {
                                    "0": "WALTER",
                                    "1": "PERRYMAN",
                                    "2": "127,70"
                                },
                                {
                                    "0": "MARJORIE",
                                    "1": "TUCKER",
                                    "2": "127,68"
                                },
                                {
                                    "0": "FRANK",
                                    "1": "WAGGONER",
                                    "2": "127,68"
                                },
                                {
                                    "0": "MARTHA",
                                    "1": "GONZALEZ",
                                    "2": "127,66"
                                },
                                {
                                    "0": "JOANNE",
                                    "1": "ROBERTSON",
                                    "2": "127,66"
                                },
                                {
                                    "0": "TERRI",
                                    "1": "VASQUEZ",
                                    "2": "126,73"
                                },
                                {
                                    "0": "BRADLEY",
                                    "1": "MOTLEY",
                                    "2": "126,73"
                                },
                                {
                                    "0": "SONIA",
                                    "1": "GREGORY",
                                    "2": "126,72"
                                },
                                {
                                    "0": "ANDRE",
                                    "1": "RAPP",
                                    "2": "126,72"
                                },
                                {
                                    "0": "ISAAC",
                                    "1": "OGLESBY",
                                    "2": "126,71"
                                },
                                {
                                    "0": "JAIME",
                                    "1": "NETTLES",
                                    "2": "126,71"
                                },
                                {
                                    "0": "FLORENCE",
                                    "1": "WOODS",
                                    "2": "126,70"
                                },
                                {
                                    "0": "SHIRLEY",
                                    "1": "ALLEN",
                                    "2": "126,69"
                                },
                                {
                                    "0": "VERONICA",
                                    "1": "STONE",
                                    "2": "126,68"
                                },
                                {
                                    "0": "THELMA",
                                    "1": "MURRAY",
                                    "2": "126,68"
                                },
                                {
                                    "0": "RUTH",
                                    "1": "MARTINEZ",
                                    "2": "125,76"
                                },
                                {
                                    "0": "ALAN",
                                    "1": "KAHN",
                                    "2": "124,74"
                                },
                                {
                                    "0": "RICK",
                                    "1": "MATTOX",
                                    "2": "124,73"
                                },
                                {
                                    "0": "BRYAN",
                                    "1": "HARDISON",
                                    "2": "124,72"
                                },
                                {
                                    "0": "CRAIG",
                                    "1": "MORRELL",
                                    "2": "124,70"
                                },
                                {
                                    "0": "JOY",
                                    "1": "GEORGE",
                                    "2": "124,67"
                                },
                                {
                                    "0": "CARRIE",
                                    "1": "PORTER",
                                    "2": "124,66"
                                },
                                {
                                    "0": "LYNN",
                                    "1": "PAYNE",
                                    "2": "123,72"
                                },
                                {
                                    "0": "NINA",
                                    "1": "SOTO",
                                    "2": "123,71"
                                },
                                {
                                    "0": "MARC",
                                    "1": "OUTLAW",
                                    "2": "123,70"
                                },
                                {
                                    "0": "MELISSA",
                                    "1": "KING",
                                    "2": "123,66"
                                },
                                {
                                    "0": "BEN",
                                    "1": "EASTER",
                                    "2": "122,74"
                                },
                                {
                                    "0": "ERIC",
                                    "1": "ROBERT",
                                    "2": "122,73"
                                },
                                {
                                    "0": "BRANDY",
                                    "1": "GRAVES",
                                    "2": "122,72"
                                },
                                {
                                    "0": "CATHY",
                                    "1": "SPENCER",
                                    "2": "122,71"
                                },
                                {
                                    "0": "HILDA",
                                    "1": "HOPKINS",
                                    "2": "122,71"
                                },
                                {
                                    "0": "CHRISTY",
                                    "1": "VARGAS",
                                    "2": "122,69"
                                },
                                {
                                    "0": "NATHAN",
                                    "1": "RUNYON",
                                    "2": "122,68"
                                },
                                {
                                    "0": "HEIDI",
                                    "1": "LARSON",
                                    "2": "122,66"
                                },
                                {
                                    "0": "JOHNNIE",
                                    "1": "CHISHOLM",
                                    "2": "121,76"
                                },
                                {
                                    "0": "VALERIE",
                                    "1": "BLACK",
                                    "2": "121,74"
                                },
                                {
                                    "0": "GERALD",
                                    "1": "FULTZ",
                                    "2": "121,70"
                                },
                                {
                                    "0": "PHILIP",
                                    "1": "CAUSEY",
                                    "2": "121,69"
                                },
                                {
                                    "0": "JEFFERY",
                                    "1": "PINSON",
                                    "2": "121,69"
                                },
                                {
                                    "0": "PAUL",
                                    "1": "TROUT",
                                    "2": "120,77"
                                },
                                {
                                    "0": "ALFRED",
                                    "1": "CASILLAS",
                                    "2": "120,74"
                                },
                                {
                                    "0": "DAWN",
                                    "1": "SULLIVAN",
                                    "2": "120,74"
                                },
                                {
                                    "0": "CHARLIE",
                                    "1": "BESS",
                                    "2": "120,74"
                                },
                                {
                                    "0": "ARLENE",
                                    "1": "HARVEY",
                                    "2": "120,74"
                                },
                                {
                                    "0": "BYRON",
                                    "1": "BOX",
                                    "2": "120,71"
                                },
                                {
                                    "0": "SANDRA",
                                    "1": "MARTIN",
                                    "2": "120,71"
                                },
                                {
                                    "0": "VICKIE",
                                    "1": "BREWER",
                                    "2": "120,69"
                                },
                                {
                                    "0": "HECTOR",
                                    "1": "POINDEXTER",
                                    "2": "119,74"
                                },
                                {
                                    "0": "BEATRICE",
                                    "1": "ARNOLD",
                                    "2": "119,74"
                                },
                                {
                                    "0": "LEE",
                                    "1": "HAWKS",
                                    "2": "119,73"
                                },
                                {
                                    "0": "PATSY",
                                    "1": "DAVIDSON",
                                    "2": "119,72"
                                },
                                {
                                    "0": "AUDREY",
                                    "1": "RAY",
                                    "2": "119,71"
                                },
                                {
                                    "0": "JOSHUA",
                                    "1": "MARK",
                                    "2": "119,70"
                                },
                                {
                                    "0": "SARAH",
                                    "1": "LEWIS",
                                    "2": "119,70"
                                },
                                {
                                    "0": "PATRICK",
                                    "1": "NEWSOM",
                                    "2": "119,69"
                                },
                                {
                                    "0": "SALLY",
                                    "1": "PIERCE",
                                    "2": "119,68"
                                },
                                {
                                    "0": "STEPHANIE",
                                    "1": "MITCHELL",
                                    "2": "118,75"
                                },
                                {
                                    "0": "JAMIE",
                                    "1": "WAUGH",
                                    "2": "118,75"
                                },
                                {
                                    "0": "MISTY",
                                    "1": "LAMBERT",
                                    "2": "118,73"
                                },
                                {
                                    "0": "TRACEY",
                                    "1": "BARRETT",
                                    "2": "118,73"
                                },
                                {
                                    "0": "STEPHEN",
                                    "1": "QUALLS",
                                    "2": "118,72"
                                },
                                {
                                    "0": "CLIFTON",
                                    "1": "MALCOLM",
                                    "2": "118,72"
                                },
                                {
                                    "0": "NORA",
                                    "1": "HERRERA",
                                    "2": "118,72"
                                },
                                {
                                    "0": "ERIK",
                                    "1": "GUILLEN",
                                    "2": "118,71"
                                },
                                {
                                    "0": "LEROY",
                                    "1": "BUSTAMANTE",
                                    "2": "118,68"
                                },
                                {
                                    "0": "MARY",
                                    "1": "SMITH",
                                    "2": "118,68"
                                },
                                {
                                    "0": "MARSHALL",
                                    "1": "THORN",
                                    "2": "117,77"
                                },
                                {
                                    "0": "PERRY",
                                    "1": "SWAFFORD",
                                    "2": "117,76"
                                },
                                {
                                    "0": "SAM",
                                    "1": "MCDUFFIE",
                                    "2": "117,76"
                                },
                                {
                                    "0": "FERNANDO",
                                    "1": "CHURCHILL",
                                    "2": "117,75"
                                },
                                {
                                    "0": "MARLENE",
                                    "1": "WELCH",
                                    "2": "117,74"
                                },
                                {
                                    "0": "VELMA",
                                    "1": "LUCAS",
                                    "2": "117,73"
                                },
                                {
                                    "0": "BETTY",
                                    "1": "WHITE",
                                    "2": "117,72"
                                },
                                {
                                    "0": "ELLEN",
                                    "1": "SIMPSON",
                                    "2": "117,72"
                                },
                                {
                                    "0": "TODD",
                                    "1": "TAN",
                                    "2": "117,71"
                                },
                                {
                                    "0": "TED",
                                    "1": "BREAUX",
                                    "2": "117,71"
                                },
                                {
                                    "0": "CAROLYN",
                                    "1": "PEREZ",
                                    "2": "117,70"
                                },
                                {
                                    "0": "TERRENCE",
                                    "1": "GUNDERSON",
                                    "2": "117,70"
                                },
                                {
                                    "0": "KEVIN",
                                    "1": "SCHULER",
                                    "2": "116,78"
                                },
                                {
                                    "0": "EDWIN",
                                    "1": "BURK",
                                    "2": "116,77"
                                },
                                {
                                    "0": "MANUEL",
                                    "1": "MURRELL",
                                    "2": "116,70"
                                },
                                {
                                    "0": "THEODORE",
                                    "1": "CULP",
                                    "2": "116,69"
                                },
                                {
                                    "0": "KRISTIN",
                                    "1": "JOHNSTON",
                                    "2": "116,69"
                                },
                                {
                                    "0": "MAXINE",
                                    "1": "SILVA",
                                    "2": "116,68"
                                },
                                {
                                    "0": "CECIL",
                                    "1": "VINES",
                                    "2": "115,74"
                                },
                                {
                                    "0": "DAVID",
                                    "1": "ROYAL",
                                    "2": "115,74"
                                },
                                {
                                    "0": "JEAN",
                                    "1": "BELL",
                                    "2": "115,73"
                                },
                                {
                                    "0": "REGINALD",
                                    "1": "KINDER",
                                    "2": "115,72"
                                },
                                {
                                    "0": "HERMAN",
                                    "1": "DEVORE",
                                    "2": "115,71"
                                },
                                {
                                    "0": "MARION",
                                    "1": "OCAMPO",
                                    "2": "115,71"
                                },
                                {
                                    "0": "BECKY",
                                    "1": "MILES",
                                    "2": "115,71"
                                },
                                {
                                    "0": "DEBORAH",
                                    "1": "WALKER",
                                    "2": "115,71"
                                },
                                {
                                    "0": "CLYDE",
                                    "1": "TOBIAS",
                                    "2": "115,71"
                                },
                                {
                                    "0": "MARCUS",
                                    "1": "HIDALGO",
                                    "2": "115,70"
                                },
                                {
                                    "0": "SHARON",
                                    "1": "ROBINSON",
                                    "2": "115,70"
                                },
                                {
                                    "0": "HEATHER",
                                    "1": "MORRIS",
                                    "2": "115,70"
                                },
                                {
                                    "0": "ANGEL",
                                    "1": "BARCLAY",
                                    "2": "115,68"
                                },
                                {
                                    "0": "JESUS",
                                    "1": "MCCARTNEY",
                                    "2": "114,76"
                                },
                                {
                                    "0": "DOUGLAS",
                                    "1": "GRAF",
                                    "2": "114,75"
                                },
                                {
                                    "0": "DOLORES",
                                    "1": "WAGNER",
                                    "2": "114,74"
                                },
                                {
                                    "0": "MARIE",
                                    "1": "TURNER",
                                    "2": "114,74"
                                },
                                {
                                    "0": "CHARLENE",
                                    "1": "ALVAREZ",
                                    "2": "114,73"
                                },
                                {
                                    "0": "DENNIS",
                                    "1": "GILMAN",
                                    "2": "114,72"
                                },
                                {
                                    "0": "BILL",
                                    "1": "GAVIN",
                                    "2": "114,72"
                                },
                                {
                                    "0": "EVELYN",
                                    "1": "MORGAN",
                                    "2": "114,72"
                                },
                                {
                                    "0": "EDWARD",
                                    "1": "BAUGH",
                                    "2": "114,72"
                                },
                                {
                                    "0": "HOLLY",
                                    "1": "FOX",
                                    "2": "114,69"
                                },
                                {
                                    "0": "MATTHEW",
                                    "1": "MAHAN",
                                    "2": "114,69"
                                },
                                {
                                    "0": "LAURA",
                                    "1": "RODRIGUEZ",
                                    "2": "113,78"
                                },
                                {
                                    "0": "ANDY",
                                    "1": "VANHORN",
                                    "2": "113,75"
                                },
                                {
                                    "0": "GLEN",
                                    "1": "TALBERT",
                                    "2": "113,74"
                                },
                                {
                                    "0": "RENE",
                                    "1": "MCALISTER",
                                    "2": "113,74"
                                },
                                {
                                    "0": "SHELLY",
                                    "1": "WATTS",
                                    "2": "113,74"
                                },
                                {
                                    "0": "AMBER",
                                    "1": "DIXON",
                                    "2": "113,73"
                                },
                                {
                                    "0": "CINDY",
                                    "1": "FISHER",
                                    "2": "113,71"
                                },
                                {
                                    "0": "CLIFFORD",
                                    "1": "BOWENS",
                                    "2": "113,71"
                                },
                                {
                                    "0": "DARLENE",
                                    "1": "ROSE",
                                    "2": "113,69"
                                },
                                {
                                    "0": "LOIS",
                                    "1": "BUTLER",
                                    "2": "113,65"
                                },
                                {
                                    "0": "BRENT",
                                    "1": "HARKINS",
                                    "2": "112,77"
                                },
                                {
                                    "0": "TYRONE",
                                    "1": "ASHER",
                                    "2": "112,76"
                                },
                                {
                                    "0": "SETH",
                                    "1": "HANNON",
                                    "2": "112,75"
                                },
                                {
                                    "0": "ASHLEY",
                                    "1": "RICHARDSON",
                                    "2": "112,75"
                                },
                                {
                                    "0": "LARRY",
                                    "1": "THRASHER",
                                    "2": "112,74"
                                },
                                {
                                    "0": "DALE",
                                    "1": "RATCLIFF",
                                    "2": "112,73"
                                },
                                {
                                    "0": "MARIO",
                                    "1": "CHEATHAM",
                                    "2": "112,72"
                                },
                                {
                                    "0": "GERALDINE",
                                    "1": "PERKINS",
                                    "2": "112,70"
                                },
                                {
                                    "0": "MABEL",
                                    "1": "HOLLAND",
                                    "2": "112,70"
                                },
                                {
                                    "0": "CALVIN",
                                    "1": "MARTEL",
                                    "2": "111,77"
                                },
                                {
                                    "0": "CLAUDE",
                                    "1": "HERZOG",
                                    "2": "111,75"
                                },
                                {
                                    "0": "CLAUDIA",
                                    "1": "FULLER",
                                    "2": "111,74"
                                },
                                {
                                    "0": "GABRIEL",
                                    "1": "HARDER",
                                    "2": "111,74"
                                },
                                {
                                    "0": "EARL",
                                    "1": "SHANKS",
                                    "2": "111,73"
                                },
                                {
                                    "0": "DARYL",
                                    "1": "LARUE",
                                    "2": "111,73"
                                },
                                {
                                    "0": "VICTORIA",
                                    "1": "GIBSON",
                                    "2": "111,73"
                                },
                                {
                                    "0": "GINA",
                                    "1": "WILLIAMSON",
                                    "2": "111,72"
                                },
                                {
                                    "0": "TERRANCE",
                                    "1": "ROUSH",
                                    "2": "111,71"
                                },
                                {
                                    "0": "CYNTHIA",
                                    "1": "YOUNG",
                                    "2": "111,68"
                                },
                                {
                                    "0": "MYRTLE",
                                    "1": "FLEMING",
                                    "2": "110,76"
                                },
                                {
                                    "0": "AARON",
                                    "1": "SELBY",
                                    "2": "110,76"
                                },
                                {
                                    "0": "TRAVIS",
                                    "1": "ESTEP",
                                    "2": "110,75"
                                },
                                {
                                    "0": "GEORGIA",
                                    "1": "JACOBS",
                                    "2": "110,74"
                                },
                                {
                                    "0": "AMANDA",
                                    "1": "CARTER",
                                    "2": "110,73"
                                },
                                {
                                    "0": "YOLANDA",
                                    "1": "WEAVER",
                                    "2": "110,73"
                                },
                                {
                                    "0": "EVERETT",
                                    "1": "BANDA",
                                    "2": "110,72"
                                },
                                {
                                    "0": "RUBY",
                                    "1": "WASHINGTON",
                                    "2": "110,72"
                                },
                                {
                                    "0": "RANDY",
                                    "1": "GAITHER",
                                    "2": "110,72"
                                },
                                {
                                    "0": "KEN",
                                    "1": "PREWITT",
                                    "2": "110,71"
                                },
                                {
                                    "0": "JUANITA",
                                    "1": "MASON",
                                    "2": "110,70"
                                },
                                {
                                    "0": "KYLE",
                                    "1": "SPURLOCK",
                                    "2": "110,70"
                                },
                                {
                                    "0": "HAZEL",
                                    "1": "WARREN",
                                    "2": "110,66"
                                },
                                {
                                    "0": "DAN",
                                    "1": "PAINE",
                                    "2": "109,78"
                                },
                                {
                                    "0": "LEON",
                                    "1": "BOSTIC",
                                    "2": "109,75"
                                },
                                {
                                    "0": "KATIE",
                                    "1": "ELLIOTT",
                                    "2": "109,75"
                                },
                                {
                                    "0": "RICHARD",
                                    "1": "MCCRARY",
                                    "2": "109,75"
                                },
                                {
                                    "0": "GAIL",
                                    "1": "KNIGHT",
                                    "2": "109,75"
                                },
                                {
                                    "0": "WALLACE",
                                    "1": "SLONE",
                                    "2": "109,75"
                                },
                                {
                                    "0": "JOSEPHINE",
                                    "1": "GOMEZ",
                                    "2": "109,74"
                                },
                                {
                                    "0": "DEAN",
                                    "1": "SAUER",
                                    "2": "109,73"
                                },
                                {
                                    "0": "ANDREW",
                                    "1": "PURDY",
                                    "2": "109,73"
                                },
                                {
                                    "0": "JULIAN",
                                    "1": "VEST",
                                    "2": "109,72"
                                },
                                {
                                    "0": "KRISTINA",
                                    "1": "CHAMBERS",
                                    "2": "109,72"
                                },
                                {
                                    "0": "LEONARD",
                                    "1": "SCHOFIELD",
                                    "2": "109,68"
                                },
                                {
                                    "0": "FRANCES",
                                    "1": "PARKER",
                                    "2": "108,78"
                                },
                                {
                                    "0": "DARREN",
                                    "1": "WINDHAM",
                                    "2": "108,76"
                                },
                                {
                                    "0": "VICKI",
                                    "1": "FIELDS",
                                    "2": "108,75"
                                },
                                {
                                    "0": "SIDNEY",
                                    "1": "BURLESON",
                                    "2": "108,75"
                                },
                                {
                                    "0": "SERGIO",
                                    "1": "STANFIELD",
                                    "2": "108,74"
                                },
                                {
                                    "0": "LUCILLE",
                                    "1": "HOLMES",
                                    "2": "108,72"
                                },
                                {
                                    "0": "CAROLE",
                                    "1": "BARNETT",
                                    "2": "108,70"
                                },
                                {
                                    "0": "DORA",
                                    "1": "MEDINA",
                                    "2": "107,77"
                                },
                                {
                                    "0": "MARIAN",
                                    "1": "MENDOZA",
                                    "2": "107,77"
                                },
                                {
                                    "0": "MAX",
                                    "1": "PITT",
                                    "2": "107,76"
                                },
                                {
                                    "0": "ELAINE",
                                    "1": "STEVENS",
                                    "2": "107,76"
                                },
                                {
                                    "0": "KELLY",
                                    "1": "KNOTT",
                                    "2": "107,74"
                                },
                                {
                                    "0": "DEANNA",
                                    "1": "BYRD",
                                    "2": "107,74"
                                },
                                {
                                    "0": "EDNA",
                                    "1": "WEST",
                                    "2": "107,74"
                                },
                                {
                                    "0": "VIRGIL",
                                    "1": "WOFFORD",
                                    "2": "107,73"
                                },
                                {
                                    "0": "JULIE",
                                    "1": "SANCHEZ",
                                    "2": "107,71"
                                },
                                {
                                    "0": "JEFF",
                                    "1": "EAST",
                                    "2": "107,70"
                                },
                                {
                                    "0": "TOM",
                                    "1": "MILNER",
                                    "2": "107,68"
                                },
                                {
                                    "0": "PETER",
                                    "1": "MENARD",
                                    "2": "106,77"
                                },
                                {
                                    "0": "CARLOS",
                                    "1": "COUGHLIN",
                                    "2": "106,77"
                                },
                                {
                                    "0": "CARL",
                                    "1": "ARTIS",
                                    "2": "106,77"
                                },
                                {
                                    "0": "LISA",
                                    "1": "ANDERSON",
                                    "2": "106,76"
                                },
                                {
                                    "0": "LILLIAN",
                                    "1": "GRIFFIN",
                                    "2": "106,75"
                                },
                                {
                                    "0": "ERIN",
                                    "1": "DUNN",
                                    "2": "106,73"
                                },
                                {
                                    "0": "BOBBY",
                                    "1": "BOUDREAU",
                                    "2": "106,65"
                                },
                                {
                                    "0": "FREDERICK",
                                    "1": "ISBELL",
                                    "2": "105,79"
                                },
                                {
                                    "0": "THOMAS",
                                    "1": "GRIGSBY",
                                    "2": "105,75"
                                },
                                {
                                    "0": "DANIELLE",
                                    "1": "DANIELS",
                                    "2": "105,75"
                                },
                                {
                                    "0": "BRAD",
                                    "1": "MCCURDY",
                                    "2": "105,75"
                                },
                                {
                                    "0": "VINCENT",
                                    "1": "RALSTON",
                                    "2": "105,75"
                                },
                                {
                                    "0": "DIANA",
                                    "1": "ALEXANDER",
                                    "2": "105,73"
                                },
                                {
                                    "0": "JIMMY",
                                    "1": "SCHRADER",
                                    "2": "105,71"
                                },
                                {
                                    "0": "STELLA",
                                    "1": "MORENO",
                                    "2": "104,78"
                                },
                                {
                                    "0": "LEO",
                                    "1": "EBERT",
                                    "2": "104,77"
                                },
                                {
                                    "0": "RODNEY",
                                    "1": "MOELLER",
                                    "2": "104,77"
                                },
                                {
                                    "0": "LEAH",
                                    "1": "CURTIS",
                                    "2": "104,75"
                                },
                                {
                                    "0": "FRANCIS",
                                    "1": "SIKES",
                                    "2": "104,74"
                                },
                                {
                                    "0": "BRENDA",
                                    "1": "WRIGHT",
                                    "2": "104,74"
                                },
                                {
                                    "0": "MARK",
                                    "1": "RINEHART",
                                    "2": "104,74"
                                },
                                {
                                    "0": "CLARENCE",
                                    "1": "GAMEZ",
                                    "2": "104,70"
                                },
                                {
                                    "0": "ROSE",
                                    "1": "HOWARD",
                                    "2": "103,78"
                                },
                                {
                                    "0": "BRUCE",
                                    "1": "SCHWARZ",
                                    "2": "103,77"
                                },
                                {
                                    "0": "RON",
                                    "1": "DELUCA",
                                    "2": "103,77"
                                },
                                {
                                    "0": "PEDRO",
                                    "1": "CHESTNUT",
                                    "2": "103,76"
                                },
                                {
                                    "0": "CLINTON",
                                    "1": "BUFORD",
                                    "2": "103,75"
                                },
                                {
                                    "0": "BETH",
                                    "1": "FRANKLIN",
                                    "2": "103,75"
                                },
                                {
                                    "0": "GARY",
                                    "1": "COY",
                                    "2": "103,75"
                                },
                                {
                                    "0": "CARLA",
                                    "1": "GUTIERREZ",
                                    "2": "103,74"
                                },
                                {
                                    "0": "JENNY",
                                    "1": "CASTRO",
                                    "2": "103,73"
                                },
                                {
                                    "0": "DENISE",
                                    "1": "KELLY",
                                    "2": "103,73"
                                },
                                {
                                    "0": "MARTIN",
                                    "1": "BALES",
                                    "2": "103,73"
                                },
                                {
                                    "0": "JEREMY",
                                    "1": "HURTADO",
                                    "2": "103,72"
                                },
                                {
                                    "0": "NANCY",
                                    "1": "THOMAS",
                                    "2": "103,72"
                                },
                                {
                                    "0": "ROBIN",
                                    "1": "HAYES",
                                    "2": "102,76"
                                },
                                {
                                    "0": "MICHEAL",
                                    "1": "FORMAN",
                                    "2": "102,74"
                                },
                                {
                                    "0": "DWAYNE",
                                    "1": "OLVERA",
                                    "2": "101,78"
                                },
                                {
                                    "0": "ADAM",
                                    "1": "GOOCH",
                                    "2": "101,78"
                                },
                                {
                                    "0": "COREY",
                                    "1": "HAUSER",
                                    "2": "101,78"
                                },
                                {
                                    "0": "LOUISE",
                                    "1": "JENKINS",
                                    "2": "101,75"
                                },
                                {
                                    "0": "WILLIE",
                                    "1": "MARKHAM",
                                    "2": "101,75"
                                },
                                {
                                    "0": "BERTHA",
                                    "1": "FERGUSON",
                                    "2": "101,75"
                                },
                                {
                                    "0": "WILLIE",
                                    "1": "HOWELL",
                                    "2": "101,74"
                                },
                                {
                                    "0": "ERIKA",
                                    "1": "PENA",
                                    "2": "101,74"
                                },
                                {
                                    "0": "PHILLIP",
                                    "1": "HOLM",
                                    "2": "101,74"
                                },
                                {
                                    "0": "JESSE",
                                    "1": "SCHILLING",
                                    "2": "101,74"
                                },
                                {
                                    "0": "RAUL",
                                    "1": "FORTIER",
                                    "2": "100,80"
                                },
                                {
                                    "0": "DORIS",
                                    "1": "REED",
                                    "2": "100,78"
                                },
                                {
                                    "0": "CONNIE",
                                    "1": "WALLACE",
                                    "2": "100,77"
                                },
                                {
                                    "0": "SHANNON",
                                    "1": "FREEMAN",
                                    "2": "100,76"
                                },
                                {
                                    "0": "RONNIE",
                                    "1": "RICKETTS",
                                    "2": "100,75"
                                },
                                {
                                    "0": "WILLIAM",
                                    "1": "SATTERFIELD",
                                    "2": "100,74"
                                },
                                {
                                    "0": "DUSTIN",
                                    "1": "GILLETTE",
                                    "2": "100,74"
                                },
                                {
                                    "0": "JANE",
                                    "1": "BENNETT",
                                    "2": "100,72"
                                },
                                {
                                    "0": "LAWRENCE",
                                    "1": "LAWTON",
                                    "2": "100,69"
                                },
                                {
                                    "0": "JUDITH",
                                    "1": "COX",
                                    "2": "100,67"
                                },
                                {
                                    "0": "OSCAR",
                                    "1": "AQUINO",
                                    "2": "99,80"
                                },
                                {
                                    "0": "RICARDO",
                                    "1": "MEADOR",
                                    "2": "99,79"
                                },
                                {
                                    "0": "KELLY",
                                    "1": "TORRES",
                                    "2": "99,78"
                                },
                                {
                                    "0": "LAURIE",
                                    "1": "LAWRENCE",
                                    "2": "99,77"
                                },
                                {
                                    "0": "ALBERT",
                                    "1": "CROUSE",
                                    "2": "99,77"
                                },
                                {
                                    "0": "KURT",
                                    "1": "EMMONS",
                                    "2": "99,77"
                                },
                                {
                                    "0": "RANDALL",
                                    "1": "NEUMANN",
                                    "2": "99,77"
                                },
                                {
                                    "0": "CHRISTINE",
                                    "1": "ROBERTS",
                                    "2": "99,76"
                                },
                                {
                                    "0": "CHESTER",
                                    "1": "BENNER",
                                    "2": "99,76"
                                },
                                {
                                    "0": "FREDDIE",
                                    "1": "DUGGAN",
                                    "2": "99,75"
                                },
                                {
                                    "0": "DOROTHY",
                                    "1": "TAYLOR",
                                    "2": "99,75"
                                },
                                {
                                    "0": "IVAN",
                                    "1": "CROMWELL",
                                    "2": "99,74"
                                },
                                {
                                    "0": "ROSS",
                                    "1": "GREY",
                                    "2": "99,73"
                                },
                                {
                                    "0": "THERESA",
                                    "1": "WATSON",
                                    "2": "99,70"
                                },
                                {
                                    "0": "KAY",
                                    "1": "CALDWELL",
                                    "2": "98,80"
                                },
                                {
                                    "0": "DONNA",
                                    "1": "THOMPSON",
                                    "2": "98,79"
                                },
                                {
                                    "0": "CODY",
                                    "1": "NOLEN",
                                    "2": "98,78"
                                },
                                {
                                    "0": "FRANCISCO",
                                    "1": "SKIDMORE",
                                    "2": "98,78"
                                },
                                {
                                    "0": "STACY",
                                    "1": "CUNNINGHAM",
                                    "2": "98,77"
                                },
                                {
                                    "0": "AGNES",
                                    "1": "BISHOP",
                                    "2": "98,77"
                                },
                                {
                                    "0": "ANNETTE",
                                    "1": "OLSON",
                                    "2": "98,76"
                                },
                                {
                                    "0": "GWENDOLYN",
                                    "1": "MAY",
                                    "2": "98,75"
                                },
                                {
                                    "0": "MILDRED",
                                    "1": "BAILEY",
                                    "2": "98,75"
                                },
                                {
                                    "0": "ELMER",
                                    "1": "NOE",
                                    "2": "98,74"
                                },
                                {
                                    "0": "PAULINE",
                                    "1": "HENRY",
                                    "2": "98,73"
                                },
                                {
                                    "0": "DANIEL",
                                    "1": "CABRAL",
                                    "2": "97,80"
                                },
                                {
                                    "0": "RAFAEL",
                                    "1": "ABNEY",
                                    "2": "97,79"
                                },
                                {
                                    "0": "BEVERLY",
                                    "1": "BROOKS",
                                    "2": "97,76"
                                },
                                {
                                    "0": "RENEE",
                                    "1": "LANE",
                                    "2": "97,74"
                                },
                                {
                                    "0": "CARMEN",
                                    "1": "OWENS",
                                    "2": "97,74"
                                },
                                {
                                    "0": "MELVIN",
                                    "1": "ELLINGTON",
                                    "2": "97,74"
                                },
                                {
                                    "0": "GENE",
                                    "1": "SANBORN",
                                    "2": "97,73"
                                },
                                {
                                    "0": "DEREK",
                                    "1": "BLAKELY",
                                    "2": "97,72"
                                },
                                {
                                    "0": "WILLARD",
                                    "1": "LUMPKIN",
                                    "2": "96,78"
                                },
                                {
                                    "0": "PEGGY",
                                    "1": "MYERS",
                                    "2": "96,76"
                                },
                                {
                                    "0": "JUDY",
                                    "1": "GRAY",
                                    "2": "96,75"
                                },
                                {
                                    "0": "JOSE",
                                    "1": "ANDREW",
                                    "2": "96,75"
                                },
                                {
                                    "0": "CLAYTON",
                                    "1": "BARBEE",
                                    "2": "96,74"
                                },
                                {
                                    "0": "IAN",
                                    "1": "STILL",
                                    "2": "96,73"
                                },
                                {
                                    "0": "ENRIQUE",
                                    "1": "FORSYTHE",
                                    "2": "96,72"
                                },
                                {
                                    "0": "ERICA",
                                    "1": "MATTHEWS",
                                    "2": "95,78"
                                },
                                {
                                    "0": "SHANE",
                                    "1": "MILLARD",
                                    "2": "95,78"
                                },
                                {
                                    "0": "DERRICK",
                                    "1": "BOURQUE",
                                    "2": "95,78"
                                },
                                {
                                    "0": "BENJAMIN",
                                    "1": "VARNEY",
                                    "2": "95,77"
                                },
                                {
                                    "0": "PAMELA",
                                    "1": "BAKER",
                                    "2": "95,77"
                                },
                                {
                                    "0": "NATALIE",
                                    "1": "MEYER",
                                    "2": "95,77"
                                },
                                {
                                    "0": "TONI",
                                    "1": "HOLT",
                                    "2": "95,77"
                                },
                                {
                                    "0": "JOEL",
                                    "1": "FRANCISCO",
                                    "2": "95,77"
                                },
                                {
                                    "0": "KIMBERLY",
                                    "1": "LEE",
                                    "2": "95,75"
                                },
                                {
                                    "0": "EDGAR",
                                    "1": "RHOADS",
                                    "2": "95,75"
                                },
                                {
                                    "0": "CONSTANCE",
                                    "1": "REID",
                                    "2": "95,75"
                                },
                                {
                                    "0": "ESTHER",
                                    "1": "CRAWFORD",
                                    "2": "95,72"
                                },
                                {
                                    "0": "LONNIE",
                                    "1": "TIRADO",
                                    "2": "94,82"
                                },
                                {
                                    "0": "NELLIE",
                                    "1": "GARRETT",
                                    "2": "94,79"
                                },
                                {
                                    "0": "NICOLE",
                                    "1": "PETERSON",
                                    "2": "94,78"
                                },
                                {
                                    "0": "EMMA",
                                    "1": "BOYD",
                                    "2": "94,77"
                                },
                                {
                                    "0": "SUZANNE",
                                    "1": "NICHOLS",
                                    "2": "94,76"
                                },
                                {
                                    "0": "SCOTT",
                                    "1": "SHELLEY",
                                    "2": "94,75"
                                },
                                {
                                    "0": "APRIL",
                                    "1": "BURNS",
                                    "2": "94,74"
                                },
                                {
                                    "0": "LORETTA",
                                    "1": "CARPENTER",
                                    "2": "93,78"
                                },
                                {
                                    "0": "HARVEY",
                                    "1": "GUAJARDO",
                                    "2": "93,78"
                                },
                                {
                                    "0": "ANDREA",
                                    "1": "HENDERSON",
                                    "2": "93,78"
                                },
                                {
                                    "0": "GLENN",
                                    "1": "PULLEN",
                                    "2": "93,77"
                                },
                                {
                                    "0": "CHARLOTTE",
                                    "1": "HUNTER",
                                    "2": "93,76"
                                },
                                {
                                    "0": "JACKIE",
                                    "1": "LYNCH",
                                    "2": "93,75"
                                },
                                {
                                    "0": "TAMARA",
                                    "1": "NGUYEN",
                                    "2": "93,75"
                                },
                                {
                                    "0": "HOWARD",
                                    "1": "FORTNER",
                                    "2": "93,74"
                                },
                                {
                                    "0": "JENNIFER",
                                    "1": "DAVIS",
                                    "2": "93,72"
                                },
                                {
                                    "0": "YVONNE",
                                    "1": "WATKINS",
                                    "2": "92,79"
                                },
                                {
                                    "0": "ROBERT",
                                    "1": "BAUGHMAN",
                                    "2": "92,79"
                                },
                                {
                                    "0": "SUSAN",
                                    "1": "WILSON",
                                    "2": "92,76"
                                },
                                {
                                    "0": "RITA",
                                    "1": "GRAHAM",
                                    "2": "92,76"
                                },
                                {
                                    "0": "MELANIE",
                                    "1": "ARMSTRONG",
                                    "2": "92,75"
                                },
                                {
                                    "0": "KATHLEEN",
                                    "1": "ADAMS",
                                    "2": "92,73"
                                },
                                {
                                    "0": "ALLISON",
                                    "1": "STANLEY",
                                    "2": "92,73"
                                },
                                {
                                    "0": "MEGAN",
                                    "1": "PALMER",
                                    "2": "92,73"
                                },
                                {
                                    "0": "WILMA",
                                    "1": "RICHARDS",
                                    "2": "91,80"
                                },
                                {
                                    "0": "ANNA",
                                    "1": "HILL",
                                    "2": "91,79"
                                },
                                {
                                    "0": "DELORES",
                                    "1": "HANSEN",
                                    "2": "91,79"
                                },
                                {
                                    "0": "DANNY",
                                    "1": "ISOM",
                                    "2": "91,79"
                                },
                                {
                                    "0": "CAROL",
                                    "1": "GARCIA",
                                    "2": "91,78"
                                },
                                {
                                    "0": "TIMOTHY",
                                    "1": "BUNN",
                                    "2": "91,78"
                                },
                                {
                                    "0": "SEAN",
                                    "1": "DOUGLASS",
                                    "2": "91,77"
                                },
                                {
                                    "0": "PHYLLIS",
                                    "1": "FOSTER",
                                    "2": "91,77"
                                },
                                {
                                    "0": "EMILY",
                                    "1": "DIAZ",
                                    "2": "91,76"
                                },
                                {
                                    "0": "BOB",
                                    "1": "PFEIFFER",
                                    "2": "91,76"
                                },
                                {
                                    "0": "VICTOR",
                                    "1": "BARKLEY",
                                    "2": "91,76"
                                },
                                {
                                    "0": "RICKY",
                                    "1": "SHELBY",
                                    "2": "91,75"
                                },
                                {
                                    "0": "DARRELL",
                                    "1": "POWER",
                                    "2": "91,75"
                                },
                                {
                                    "0": "JESSIE",
                                    "1": "BANKS",
                                    "2": "91,74"
                                },
                                {
                                    "0": "LUCY",
                                    "1": "WHEELER",
                                    "2": "91,74"
                                },
                                {
                                    "0": "WENDY",
                                    "1": "HARRISON",
                                    "2": "91,70"
                                },
                                {
                                    "0": "HUGH",
                                    "1": "WALDROP",
                                    "2": "90,79"
                                },
                                {
                                    "0": "MATHEW",
                                    "1": "BOLIN",
                                    "2": "90,78"
                                },
                                {
                                    "0": "VIVIAN",
                                    "1": "RUIZ",
                                    "2": "90,77"
                                },
                                {
                                    "0": "JEFFREY",
                                    "1": "SPEAR",
                                    "2": "90,77"
                                },
                                {
                                    "0": "RUBEN",
                                    "1": "GEARY",
                                    "2": "89,79"
                                },
                                {
                                    "0": "JULIO",
                                    "1": "NOLAND",
                                    "2": "89,79"
                                },
                                {
                                    "0": "LESLIE",
                                    "1": "GORDON",
                                    "2": "89,78"
                                },
                                {
                                    "0": "MARGARET",
                                    "1": "MOORE",
                                    "2": "89,77"
                                },
                                {
                                    "0": "LILLIE",
                                    "1": "KIM",
                                    "2": "89,77"
                                },
                                {
                                    "0": "DONALD",
                                    "1": "MAHON",
                                    "2": "89,77"
                                },
                                {
                                    "0": "JACK",
                                    "1": "FOUST",
                                    "2": "89,76"
                                },
                                {
                                    "0": "REBECCA",
                                    "1": "SCOTT",
                                    "2": "89,76"
                                },
                                {
                                    "0": "CHAD",
                                    "1": "CARBONE",
                                    "2": "89,75"
                                },
                                {
                                    "0": "ERNEST",
                                    "1": "STEPP",
                                    "2": "89,75"
                                },
                                {
                                    "0": "JAY",
                                    "1": "ROBB",
                                    "2": "89,74"
                                },
                                {
                                    "0": "KEITH",
                                    "1": "RICO",
                                    "2": "89,74"
                                },
                                {
                                    "0": "VERNON",
                                    "1": "CHAPA",
                                    "2": "88,82"
                                },
                                {
                                    "0": "TARA",
                                    "1": "RYAN",
                                    "2": "88,80"
                                },
                                {
                                    "0": "TYLER",
                                    "1": "WREN",
                                    "2": "88,79"
                                },
                                {
                                    "0": "BERNARD",
                                    "1": "COLBY",
                                    "2": "88,78"
                                },
                                {
                                    "0": "CHRISTIAN",
                                    "1": "JUNG",
                                    "2": "88,76"
                                },
                                {
                                    "0": "FRED",
                                    "1": "WHEAT",
                                    "2": "88,75"
                                },
                                {
                                    "0": "BILLIE",
                                    "1": "HORTON",
                                    "2": "88,74"
                                },
                                {
                                    "0": "KRISTEN",
                                    "1": "CHAVEZ",
                                    "2": "87,82"
                                },
                                {
                                    "0": "JARED",
                                    "1": "ELY",
                                    "2": "87,81"
                                },
                                {
                                    "0": "BONNIE",
                                    "1": "HUGHES",
                                    "2": "87,79"
                                },
                                {
                                    "0": "MAUREEN",
                                    "1": "LITTLE",
                                    "2": "87,79"
                                },
                                {
                                    "0": "ANNE",
                                    "1": "POWELL",
                                    "2": "87,77"
                                },
                                {
                                    "0": "COLLEEN",
                                    "1": "BURTON",
                                    "2": "87,76"
                                },
                                {
                                    "0": "JON",
                                    "1": "WILES",
                                    "2": "87,76"
                                },
                                {
                                    "0": "VANESSA",
                                    "1": "SIMS",
                                    "2": "86,81"
                                },
                                {
                                    "0": "LEWIS",
                                    "1": "LYMAN",
                                    "2": "86,81"
                                },
                                {
                                    "0": "LORRAINE",
                                    "1": "STEPHENS",
                                    "2": "86,79"
                                },
                                {
                                    "0": "FELICIA",
                                    "1": "SUTTON",
                                    "2": "86,72"
                                },
                                {
                                    "0": "ALFREDO",
                                    "1": "MCADAMS",
                                    "2": "85,80"
                                },
                                {
                                    "0": "ALLEN",
                                    "1": "BUTTERFIELD",
                                    "2": "85,79"
                                },
                                {
                                    "0": "KENNETH",
                                    "1": "GOODEN",
                                    "2": "84,83"
                                },
                                {
                                    "0": "CHRIS",
                                    "1": "BROTHERS",
                                    "2": "84,78"
                                },
                                {
                                    "0": "RACHEL",
                                    "1": "BARNES",
                                    "2": "84,78"
                                },
                                {
                                    "0": "JOAN",
                                    "1": "COOPER",
                                    "2": "84,77"
                                },
                                {
                                    "0": "ROBERTA",
                                    "1": "HARPER",
                                    "2": "84,77"
                                },
                                {
                                    "0": "EVA",
                                    "1": "RAMOS",
                                    "2": "83,82"
                                },
                                {
                                    "0": "AUSTIN",
                                    "1": "CINTRON",
                                    "2": "83,81"
                                },
                                {
                                    "0": "ALICIA",
                                    "1": "MILLS",
                                    "2": "83,79"
                                },
                                {
                                    "0": "ARMANDO",
                                    "1": "GRUBER",
                                    "2": "83,79"
                                },
                                {
                                    "0": "WADE",
                                    "1": "DELVALLE",
                                    "2": "83,78"
                                },
                                {
                                    "0": "KIM",
                                    "1": "CRUZ",
                                    "2": "82,79"
                                },
                                {
                                    "0": "LANCE",
                                    "1": "PEMBERTON",
                                    "2": "82,78"
                                },
                                {
                                    "0": "LYDIA",
                                    "1": "BURKE",
                                    "2": "82,76"
                                },
                                {
                                    "0": "BARBARA",
                                    "1": "JONES",
                                    "2": "81,78"
                                },
                                {
                                    "0": "CORY",
                                    "1": "MEEHAN",
                                    "2": "81,76"
                                },
                                {
                                    "0": "MELINDA",
                                    "1": "FERNANDEZ",
                                    "2": "80,83"
                                },
                                {
                                    "0": "CHRISTINA",
                                    "1": "RAMIREZ",
                                    "2": "80,82"
                                },
                                {
                                    "0": "EILEEN",
                                    "1": "CARR",
                                    "2": "80,82"
                                },
                                {
                                    "0": "SAMUEL",
                                    "1": "MARLOW",
                                    "2": "80,79"
                                },
                                {
                                    "0": "ROLAND",
                                    "1": "SOUTH",
                                    "2": "80,77"
                                },
                                {
                                    "0": "BOBBIE",
                                    "1": "CRAIG",
                                    "2": "80,76"
                                },
                                {
                                    "0": "NORMAN",
                                    "1": "CURRIER",
                                    "2": "80,74"
                                },
                                {
                                    "0": "ALLAN",
                                    "1": "CORNISH",
                                    "2": "79,81"
                                },
                                {
                                    "0": "LUIS",
                                    "1": "YANEZ",
                                    "2": "79,80"
                                },
                                {
                                    "0": "NORMA",
                                    "1": "GONZALES",
                                    "2": "79,79"
                                },
                                {
                                    "0": "JACOB",
                                    "1": "LANCE",
                                    "2": "79,79"
                                },
                                {
                                    "0": "RAY",
                                    "1": "HOULE",
                                    "2": "79,78"
                                },
                                {
                                    "0": "ANTONIO",
                                    "1": "MEEK",
                                    "2": "78,84"
                                },
                                {
                                    "0": "HERBERT",
                                    "1": "KRUGER",
                                    "2": "78,80"
                                },
                                {
                                    "0": "GREGORY",
                                    "1": "MAULDIN",
                                    "2": "78,77"
                                },
                                {
                                    "0": "PAULA",
                                    "1": "BRYANT",
                                    "2": "77,82"
                                },
                                {
                                    "0": "NELSON",
                                    "1": "CHRISTENSON",
                                    "2": "77,80"
                                },
                                {
                                    "0": "IRENE",
                                    "1": "PRICE",
                                    "2": "77,77"
                                },
                                {
                                    "0": "ANN",
                                    "1": "EVANS",
                                    "2": "76,83"
                                },
                                {
                                    "0": "PEARL",
                                    "1": "GARZA",
                                    "2": "76,78"
                                },
                                {
                                    "0": "IDA",
                                    "1": "ANDREWS",
                                    "2": "76,77"
                                },
                                {
                                    "0": "DARRYL",
                                    "1": "ASHCRAFT",
                                    "2": "76,77"
                                },
                                {
                                    "0": "MARVIN",
                                    "1": "YEE",
                                    "2": "75,79"
                                },
                                {
                                    "0": "DWIGHT",
                                    "1": "LOMBARDI",
                                    "2": "74,83"
                                },
                                {
                                    "0": "ADRIAN",
                                    "1": "CLARY",
                                    "2": "74,81"
                                },
                                {
                                    "0": "JEANETTE",
                                    "1": "GREENE",
                                    "2": "74,80"
                                },
                                {
                                    "0": "FRANKLIN",
                                    "1": "TROUTMAN",
                                    "2": "74,78"
                                },
                                {
                                    "0": "TONY",
                                    "1": "CARRANZA",
                                    "2": "74,78"
                                },
                                {
                                    "0": "JEROME",
                                    "1": "KENYON",
                                    "2": "73,84"
                                },
                                {
                                    "0": "SHEILA",
                                    "1": "WELLS",
                                    "2": "73,82"
                                },
                                {
                                    "0": "HENRY",
                                    "1": "BILLINGSLEY",
                                    "2": "73,82"
                                },
                                {
                                    "0": "JO",
                                    "1": "FOWLER",
                                    "2": "73,80"
                                },
                                {
                                    "0": "JUAN",
                                    "1": "FRALEY",
                                    "2": "73,77"
                                },
                                {
                                    "0": "FELIX",
                                    "1": "GAFFNEY",
                                    "2": "73,76"
                                },
                                {
                                    "0": "JONATHAN",
                                    "1": "SCARBOROUGH",
                                    "2": "72,82"
                                },
                                {
                                    "0": "TERRY",
                                    "1": "GRISSOM",
                                    "2": "72,80"
                                },
                                {
                                    "0": "EUGENE",
                                    "1": "CULPEPPER",
                                    "2": "71,81"
                                },
                                {
                                    "0": "EDITH",
                                    "1": "MCDONALD",
                                    "2": "71,81"
                                },
                                {
                                    "0": "LAUREN",
                                    "1": "HUDSON",
                                    "2": "71,80"
                                },
                                {
                                    "0": "ANTHONY",
                                    "1": "SCHWAB",
                                    "2": "71,80"
                                },
                                {
                                    "0": "SAMANTHA",
                                    "1": "DUNCAN",
                                    "2": "71,77"
                                },
                                {
                                    "0": "IRMA",
                                    "1": "PEARSON",
                                    "2": "70,82"
                                },
                                {
                                    "0": "WAYNE",
                                    "1": "TRUONG",
                                    "2": "70,81"
                                },
                                {
                                    "0": "FLOYD",
                                    "1": "GANDY",
                                    "2": "69,83"
                                },
                                {
                                    "0": "PENNY",
                                    "1": "NEAL",
                                    "2": "68,82"
                                },
                                {
                                    "0": "JILL",
                                    "1": "HAWKINS",
                                    "2": "68,79"
                                },
                                {
                                    "0": "VERA",
                                    "1": "MCCOY",
                                    "2": "67,82"
                                },
                                {
                                    "0": "JOANN",
                                    "1": "GARDNER",
                                    "2": "66,84"
                                },
                                {
                                    "0": "LLOYD",
                                    "1": "DOWD",
                                    "2": "66,81"
                                },
                                {
                                    "0": "ALBERTO",
                                    "1": "HENNING",
                                    "2": "66,79"
                                },
                                {
                                    "0": "LESTER",
                                    "1": "KRAUS",
                                    "2": "65,84"
                                },
                                {
                                    "0": "KIRK",
                                    "1": "STCLAIR",
                                    "2": "64,81"
                                },
                                {
                                    "0": "MATTIE",
                                    "1": "HOFFMAN",
                                    "2": "64,78"
                                },
                                {
                                    "0": "ANITA",
                                    "1": "MORALES",
                                    "2": "62,85"
                                },
                                {
                                    "0": "TIFFANY",
                                    "1": "JORDAN",
                                    "2": "59,86"
                                },
                                {
                                    "0": "KATHERINE",
                                    "1": "RIVERA",
                                    "2": "58,86"
                                },
                                {
                                    "0": "ANNIE",
                                    "1": "RUSSELL",
                                    "2": "58,82"
                                },
                                {
                                    "0": "JOHNNY",
                                    "1": "TURPIN",
                                    "2": "57,81"
                                },
                                {
                                    "0": "BRIAN",
                                    "1": "WYMAN",
                                    "2": "52,88"
                                },
                                {
                                    "0": "LEONA",
                                    "1": "OBRIEN",
                                    "2": "50,86"
                                },
                                {
                                    "0": "CAROLINE",
                                    "1": "BOWMAN",
                                    "2": "50,85"
                                }
                            ]
                        },
                        "text/html": [
                            "<table>",
                            "<tr><th>first_name</th><th>last_name</th><th>total_payments</th></tr>",
                            "<tr><td>KARL</td><td>SEAL</td><td>221,55</td></tr>",
                            "<tr><td>ELEANOR</td><td>HUNT</td><td>216,54</td></tr>",
                            "<tr><td>CLARA</td><td>SHAW</td><td>195,58</td></tr>",
                            "<tr><td>MARION</td><td>SNYDER</td><td>194,61</td></tr>",
                            "<tr><td>RHONDA</td><td>KENNEDY</td><td>194,61</td></tr>",
                            "<tr><td>TOMMY</td><td>COLLAZO</td><td>186,62</td></tr>",
                            "<tr><td>WESLEY</td><td>BULL</td><td>177,60</td></tr>",
                            "<tr><td>TIM</td><td>CARY</td><td>175,61</td></tr>",
                            "<tr><td>MARCIA</td><td>DEAN</td><td>175,58</td></tr>",
                            "<tr><td>ANA</td><td>BRADLEY</td><td>174,66</td></tr>",
                            "<tr><td>JUNE</td><td>CARROLL</td><td>173,63</td></tr>",
                            "<tr><td>LENA</td><td>JENSEN</td><td>170,67</td></tr>",
                            "<tr><td>DIANE</td><td>COLLINS</td><td>169,65</td></tr>",
                            "<tr><td>ARNOLD</td><td>HAVENS</td><td>167,67</td></tr>",
                            "<tr><td>CURTIS</td><td>IRBY</td><td>167,62</td></tr>",
                            "<tr><td>MIKE</td><td>WAY</td><td>166,65</td></tr>",
                            "<tr><td>DAISY</td><td>BATES</td><td>162,62</td></tr>",
                            "<tr><td>TONYA</td><td>CHAPMAN</td><td>161,68</td></tr>",
                            "<tr><td>LOUIS</td><td>LEONE</td><td>161,65</td></tr>",
                            "<tr><td>GORDON</td><td>ALLARD</td><td>160,68</td></tr>",
                            "<tr><td>BRITTANY</td><td>RILEY</td><td>159,72</td></tr>",
                            "<tr><td>GUY</td><td>BROWNLEE</td><td>159,68</td></tr>",
                            "<tr><td>WARREN</td><td>SHERROD</td><td>159,67</td></tr>",
                            "<tr><td>MARGIE</td><td>WADE</td><td>159,64</td></tr>",
                            "<tr><td>MAE</td><td>FLETCHER</td><td>158,69</td></tr>",
                            "<tr><td>STEVE</td><td>MACKENZIE</td><td>158,66</td></tr>",
                            "<tr><td>PRISCILLA</td><td>LOWE</td><td>157,65</td></tr>",
                            "<tr><td>HARRY</td><td>ARCE</td><td>157,65</td></tr>",
                            "<tr><td>ARTHUR</td><td>SIMPKINS</td><td>155,68</td></tr>",
                            "<tr><td>MICHELLE</td><td>CLARK</td><td>155,65</td></tr>",
                            "<tr><td>TAMMY</td><td>SANDERS</td><td>155,59</td></tr>",
                            "<tr><td>SUE</td><td>PETERS</td><td>154,60</td></tr>",
                            "<tr><td>SHERRY</td><td>MARSHALL</td><td>153,66</td></tr>",
                            "<tr><td>NEIL</td><td>RENNER</td><td>152,68</td></tr>",
                            "<tr><td>SHAWN</td><td>HEATON</td><td>152,67</td></tr>",
                            "<tr><td>JESSICA</td><td>HALL</td><td>152,66</td></tr>",
                            "<tr><td>LESLIE</td><td>SEWARD</td><td>152,65</td></tr>",
                            "<tr><td>NAOMI</td><td>JENNINGS</td><td>152,65</td></tr>",
                            "<tr><td>BRANDON</td><td>HUEY</td><td>152,63</td></tr>",
                            "<tr><td>ALEX</td><td>GRESHAM</td><td>151,67</td></tr>",
                            "<tr><td>MARIA</td><td>MILLER</td><td>151,67</td></tr>",
                            "<tr><td>STACEY</td><td>MONTGOMERY</td><td>151,66</td></tr>",
                            "<tr><td>ALMA</td><td>AUSTIN</td><td>151,65</td></tr>",
                            "<tr><td>ALEXANDER</td><td>FENNELL</td><td>151,64</td></tr>",
                            "<tr><td>MARSHA</td><td>DOUGLAS</td><td>151,63</td></tr>",
                            "<tr><td>RALPH</td><td>MADRIGAL</td><td>150,66</td></tr>",
                            "<tr><td>BILLY</td><td>POULIN</td><td>149,65</td></tr>",
                            "<tr><td>DUANE</td><td>TUBBS</td><td>148,69</td></tr>",
                            "<tr><td>JACQUELINE</td><td>LONG</td><td>148,67</td></tr>",
                            "<tr><td>CHRISTOPHER</td><td>GRECO</td><td>147,69</td></tr>",
                            "<tr><td>ROSEMARY</td><td>SCHMIDT</td><td>147,65</td></tr>",
                            "<tr><td>ZACHARY</td><td>HITE</td><td>146,69</td></tr>",
                            "<tr><td>GLADYS</td><td>HAMILTON</td><td>146,69</td></tr>",
                            "<tr><td>ROGER</td><td>QUINTANILLA</td><td>146,64</td></tr>",
                            "<tr><td>WANDA</td><td>PATTERSON</td><td>145,70</td></tr>",
                            "<tr><td>NICHOLAS</td><td>BARFIELD</td><td>145,68</td></tr>",
                            "<tr><td>BERNICE</td><td>WILLIS</td><td>145,67</td></tr>",
                            "<tr><td>TROY</td><td>QUIGLEY</td><td>144,70</td></tr>",
                            "<tr><td>OLGA</td><td>JIMENEZ</td><td>144,68</td></tr>",
                            "<tr><td>TANYA</td><td>GILBERT</td><td>144,67</td></tr>",
                            "<tr><td>JANICE</td><td>WARD</td><td>144,66</td></tr>",
                            "<tr><td>ELIZABETH</td><td>BROWN</td><td>144,62</td></tr>",
                            "<tr><td>JERRY</td><td>JORDON</td><td>143,71</td></tr>",
                            "<tr><td>ROY</td><td>WHITING</td><td>143,71</td></tr>",
                            "<tr><td>SYLVIA</td><td>ORTIZ</td><td>143,68</td></tr>",
                            "<tr><td>VIOLET</td><td>RODRIQUEZ</td><td>142,70</td></tr>",
                            "<tr><td>RYAN</td><td>SALISBURY</td><td>142,70</td></tr>",
                            "<tr><td>MINNIE</td><td>ROMERO</td><td>142,66</td></tr>",
                            "<tr><td>CATHERINE</td><td>CAMPBELL</td><td>142,66</td></tr>",
                            "<tr><td>DEBRA</td><td>NELSON</td><td>141,71</td></tr>",
                            "<tr><td>GREG</td><td>ROBINS</td><td>141,70</td></tr>",
                            "<tr><td>LORI</td><td>WOOD</td><td>141,69</td></tr>",
                            "<tr><td>SARA</td><td>PERRY</td><td>141,67</td></tr>",
                            "<tr><td>JESSIE</td><td>MILAM</td><td>141,67</td></tr>",
                            "<tr><td>CASEY</td><td>MENA</td><td>141,66</td></tr>",
                            "<tr><td>ELSIE</td><td>KELLEY</td><td>141,63</td></tr>",
                            "<tr><td>RAMON</td><td>CHOATE</td><td>140,69</td></tr>",
                            "<tr><td>GLENDA</td><td>FRAZIER</td><td>140,68</td></tr>",
                            "<tr><td>ANGELA</td><td>HERNANDEZ</td><td>140,64</td></tr>",
                            "<tr><td>ALVIN</td><td>DELOACH</td><td>139,71</td></tr>",
                            "<tr><td>JAMIE</td><td>RICE</td><td>139,71</td></tr>",
                            "<tr><td>STANLEY</td><td>SCROGGINS</td><td>139,70</td></tr>",
                            "<tr><td>ROBERTO</td><td>VU</td><td>139,70</td></tr>",
                            "<tr><td>GRACE</td><td>ELLIS</td><td>139,67</td></tr>",
                            "<tr><td>MORRIS</td><td>MCCARTER</td><td>139,66</td></tr>",
                            "<tr><td>MAURICE</td><td>CRAWLEY</td><td>138,71</td></tr>",
                            "<tr><td>JOE</td><td>GILLILAND</td><td>138,71</td></tr>",
                            "<tr><td>CHARLES</td><td>KOWALSKI</td><td>138,68</td></tr>",
                            "<tr><td>ALICE</td><td>STEWART</td><td>138,67</td></tr>",
                            "<tr><td>BRETT</td><td>CORNWELL</td><td>138,66</td></tr>",
                            "<tr><td>MARILYN</td><td>ROSS</td><td>137,70</td></tr>",
                            "<tr><td>ELLA</td><td>OLIVER</td><td>137,69</td></tr>",
                            "<tr><td>JOHN</td><td>FARNSWORTH</td><td>137,69</td></tr>",
                            "<tr><td>CRYSTAL</td><td>FORD</td><td>137,67</td></tr>",
                            "<tr><td>GERTRUDE</td><td>CASTILLO</td><td>137,66</td></tr>",
                            "<tr><td>JEANNE</td><td>LAWSON</td><td>136,73</td></tr>",
                            "<tr><td>RUSSELL</td><td>BRINSON</td><td>136,64</td></tr>",
                            "<tr><td>MIRIAM</td><td>MCKINNEY</td><td>135,74</td></tr>",
                            "<tr><td>LINDA</td><td>WILLIAMS</td><td>135,74</td></tr>",
                            "<tr><td>JIMMIE</td><td>EGGLESTON</td><td>135,72</td></tr>",
                            "<tr><td>MIGUEL</td><td>BETANCOURT</td><td>135,71</td></tr>",
                            "<tr><td>RAYMOND</td><td>MCWHORTER</td><td>135,70</td></tr>",
                            "<tr><td>GLORIA</td><td>COOK</td><td>135,70</td></tr>",
                            "<tr><td>DIANNE</td><td>SHELTON</td><td>135,69</td></tr>",
                            "<tr><td>JAVIER</td><td>ELROD</td><td>135,68</td></tr>",
                            "<tr><td>ETHEL</td><td>WEBB</td><td>135,68</td></tr>",
                            "<tr><td>REGINA</td><td>BERRY</td><td>135,66</td></tr>",
                            "<tr><td>KENT</td><td>ARSENAULT</td><td>134,73</td></tr>",
                            "<tr><td>JOSEPH</td><td>JOY</td><td>134,70</td></tr>",
                            "<tr><td>DAVE</td><td>GARDINER</td><td>134,68</td></tr>",
                            "<tr><td>JULIA</td><td>FLORES</td><td>134,68</td></tr>",
                            "<tr><td>MITCHELL</td><td>WESTMORELAND</td><td>134,68</td></tr>",
                            "<tr><td>HELEN</td><td>HARRIS</td><td>134,68</td></tr>",
                            "<tr><td>BARRY</td><td>LOVELACE</td><td>134,67</td></tr>",
                            "<tr><td>JORGE</td><td>OLIVARES</td><td>134,66</td></tr>",
                            "<tr><td>DON</td><td>BONE</td><td>133,75</td></tr>",
                            "<tr><td>CHERYL</td><td>MURPHY</td><td>133,73</td></tr>",
                            "<tr><td>TINA</td><td>SIMMONS</td><td>133,72</td></tr>",
                            "<tr><td>NATHANIEL</td><td>ADAM</td><td>133,72</td></tr>",
                            "<tr><td>JENNIE</td><td>TERRY</td><td>133,71</td></tr>",
                            "<tr><td>DANA</td><td>HART</td><td>133,71</td></tr>",
                            "<tr><td>ROSA</td><td>REYNOLDS</td><td>133,70</td></tr>",
                            "<tr><td>BESSIE</td><td>MORRISON</td><td>132,72</td></tr>",
                            "<tr><td>STEVEN</td><td>CURLEY</td><td>132,71</td></tr>",
                            "<tr><td>TRACY</td><td>COLE</td><td>132,70</td></tr>",
                            "<tr><td>RONALD</td><td>WEINER</td><td>132,70</td></tr>",
                            "<tr><td>JORDAN</td><td>ARCHULETA</td><td>132,70</td></tr>",
                            "<tr><td>COURTNEY</td><td>DAY</td><td>132,68</td></tr>",
                            "<tr><td>KAREN</td><td>JACKSON</td><td>131,73</td></tr>",
                            "<tr><td>JAMES</td><td>GANNON</td><td>131,70</td></tr>",
                            "<tr><td>GEORGE</td><td>LINTON</td><td>131,67</td></tr>",
                            "<tr><td>KATHRYN</td><td>COLEMAN</td><td>130,74</td></tr>",
                            "<tr><td>EDUARDO</td><td>HIATT</td><td>130,73</td></tr>",
                            "<tr><td>JOYCE</td><td>EDWARDS</td><td>130,72</td></tr>",
                            "<tr><td>MICHELE</td><td>GRANT</td><td>130,70</td></tr>",
                            "<tr><td>DEBBIE</td><td>REYES</td><td>130,68</td></tr>",
                            "<tr><td>HAROLD</td><td>MARTINO</td><td>130,68</td></tr>",
                            "<tr><td>TRACY</td><td>HERRMANN</td><td>129,72</td></tr>",
                            "<tr><td>GILBERT</td><td>SLEDGE</td><td>129,72</td></tr>",
                            "<tr><td>SALVADOR</td><td>TEEL</td><td>129,70</td></tr>",
                            "<tr><td>CASSANDRA</td><td>WALTERS</td><td>129,70</td></tr>",
                            "<tr><td>RAMONA</td><td>HALE</td><td>129,70</td></tr>",
                            "<tr><td>KATHY</td><td>JAMES</td><td>129,70</td></tr>",
                            "<tr><td>VIOLA</td><td>HANSON</td><td>129,68</td></tr>",
                            "<tr><td>VIRGINIA</td><td>GREEN</td><td>129,68</td></tr>",
                            "<tr><td>JUSTIN</td><td>NGO</td><td>129,64</td></tr>",
                            "<tr><td>EDDIE</td><td>TOMLIN</td><td>128,73</td></tr>",
                            "<tr><td>PATRICIA</td><td>JOHNSON</td><td>128,73</td></tr>",
                            "<tr><td>JASON</td><td>MORRISSEY</td><td>128,72</td></tr>",
                            "<tr><td>TERESA</td><td>ROGERS</td><td>128,71</td></tr>",
                            "<tr><td>MONICA</td><td>HICKS</td><td>128,70</td></tr>",
                            "<tr><td>JIM</td><td>REA</td><td>128,67</td></tr>",
                            "<tr><td>SHERRI</td><td>RHODES</td><td>128,67</td></tr>",
                            "<tr><td>MILTON</td><td>HOWLAND</td><td>127,75</td></tr>",
                            "<tr><td>JANET</td><td>PHILLIPS</td><td>127,73</td></tr>",
                            "<tr><td>MICHAEL</td><td>SILVERMAN</td><td>127,71</td></tr>",
                            "<tr><td>TERRY</td><td>CARLSON</td><td>127,71</td></tr>",
                            "<tr><td>AMY</td><td>LOPEZ</td><td>127,71</td></tr>",
                            "<tr><td>WALTER</td><td>PERRYMAN</td><td>127,70</td></tr>",
                            "<tr><td>MARJORIE</td><td>TUCKER</td><td>127,68</td></tr>",
                            "<tr><td>FRANK</td><td>WAGGONER</td><td>127,68</td></tr>",
                            "<tr><td>MARTHA</td><td>GONZALEZ</td><td>127,66</td></tr>",
                            "<tr><td>JOANNE</td><td>ROBERTSON</td><td>127,66</td></tr>",
                            "<tr><td>TERRI</td><td>VASQUEZ</td><td>126,73</td></tr>",
                            "<tr><td>BRADLEY</td><td>MOTLEY</td><td>126,73</td></tr>",
                            "<tr><td>SONIA</td><td>GREGORY</td><td>126,72</td></tr>",
                            "<tr><td>ANDRE</td><td>RAPP</td><td>126,72</td></tr>",
                            "<tr><td>ISAAC</td><td>OGLESBY</td><td>126,71</td></tr>",
                            "<tr><td>JAIME</td><td>NETTLES</td><td>126,71</td></tr>",
                            "<tr><td>FLORENCE</td><td>WOODS</td><td>126,70</td></tr>",
                            "<tr><td>SHIRLEY</td><td>ALLEN</td><td>126,69</td></tr>",
                            "<tr><td>VERONICA</td><td>STONE</td><td>126,68</td></tr>",
                            "<tr><td>THELMA</td><td>MURRAY</td><td>126,68</td></tr>",
                            "<tr><td>RUTH</td><td>MARTINEZ</td><td>125,76</td></tr>",
                            "<tr><td>ALAN</td><td>KAHN</td><td>124,74</td></tr>",
                            "<tr><td>RICK</td><td>MATTOX</td><td>124,73</td></tr>",
                            "<tr><td>BRYAN</td><td>HARDISON</td><td>124,72</td></tr>",
                            "<tr><td>CRAIG</td><td>MORRELL</td><td>124,70</td></tr>",
                            "<tr><td>JOY</td><td>GEORGE</td><td>124,67</td></tr>",
                            "<tr><td>CARRIE</td><td>PORTER</td><td>124,66</td></tr>",
                            "<tr><td>LYNN</td><td>PAYNE</td><td>123,72</td></tr>",
                            "<tr><td>NINA</td><td>SOTO</td><td>123,71</td></tr>",
                            "<tr><td>MARC</td><td>OUTLAW</td><td>123,70</td></tr>",
                            "<tr><td>MELISSA</td><td>KING</td><td>123,66</td></tr>",
                            "<tr><td>BEN</td><td>EASTER</td><td>122,74</td></tr>",
                            "<tr><td>ERIC</td><td>ROBERT</td><td>122,73</td></tr>",
                            "<tr><td>BRANDY</td><td>GRAVES</td><td>122,72</td></tr>",
                            "<tr><td>CATHY</td><td>SPENCER</td><td>122,71</td></tr>",
                            "<tr><td>HILDA</td><td>HOPKINS</td><td>122,71</td></tr>",
                            "<tr><td>CHRISTY</td><td>VARGAS</td><td>122,69</td></tr>",
                            "<tr><td>NATHAN</td><td>RUNYON</td><td>122,68</td></tr>",
                            "<tr><td>HEIDI</td><td>LARSON</td><td>122,66</td></tr>",
                            "<tr><td>JOHNNIE</td><td>CHISHOLM</td><td>121,76</td></tr>",
                            "<tr><td>VALERIE</td><td>BLACK</td><td>121,74</td></tr>",
                            "<tr><td>GERALD</td><td>FULTZ</td><td>121,70</td></tr>",
                            "<tr><td>PHILIP</td><td>CAUSEY</td><td>121,69</td></tr>",
                            "<tr><td>JEFFERY</td><td>PINSON</td><td>121,69</td></tr>",
                            "<tr><td>PAUL</td><td>TROUT</td><td>120,77</td></tr>",
                            "<tr><td>ALFRED</td><td>CASILLAS</td><td>120,74</td></tr>",
                            "<tr><td>DAWN</td><td>SULLIVAN</td><td>120,74</td></tr>",
                            "<tr><td>CHARLIE</td><td>BESS</td><td>120,74</td></tr>",
                            "<tr><td>ARLENE</td><td>HARVEY</td><td>120,74</td></tr>",
                            "<tr><td>BYRON</td><td>BOX</td><td>120,71</td></tr>",
                            "<tr><td>SANDRA</td><td>MARTIN</td><td>120,71</td></tr>",
                            "<tr><td>VICKIE</td><td>BREWER</td><td>120,69</td></tr>",
                            "<tr><td>HECTOR</td><td>POINDEXTER</td><td>119,74</td></tr>",
                            "<tr><td>BEATRICE</td><td>ARNOLD</td><td>119,74</td></tr>",
                            "<tr><td>LEE</td><td>HAWKS</td><td>119,73</td></tr>",
                            "<tr><td>PATSY</td><td>DAVIDSON</td><td>119,72</td></tr>",
                            "<tr><td>AUDREY</td><td>RAY</td><td>119,71</td></tr>",
                            "<tr><td>JOSHUA</td><td>MARK</td><td>119,70</td></tr>",
                            "<tr><td>SARAH</td><td>LEWIS</td><td>119,70</td></tr>",
                            "<tr><td>PATRICK</td><td>NEWSOM</td><td>119,69</td></tr>",
                            "<tr><td>SALLY</td><td>PIERCE</td><td>119,68</td></tr>",
                            "<tr><td>STEPHANIE</td><td>MITCHELL</td><td>118,75</td></tr>",
                            "<tr><td>JAMIE</td><td>WAUGH</td><td>118,75</td></tr>",
                            "<tr><td>MISTY</td><td>LAMBERT</td><td>118,73</td></tr>",
                            "<tr><td>TRACEY</td><td>BARRETT</td><td>118,73</td></tr>",
                            "<tr><td>STEPHEN</td><td>QUALLS</td><td>118,72</td></tr>",
                            "<tr><td>CLIFTON</td><td>MALCOLM</td><td>118,72</td></tr>",
                            "<tr><td>NORA</td><td>HERRERA</td><td>118,72</td></tr>",
                            "<tr><td>ERIK</td><td>GUILLEN</td><td>118,71</td></tr>",
                            "<tr><td>LEROY</td><td>BUSTAMANTE</td><td>118,68</td></tr>",
                            "<tr><td>MARY</td><td>SMITH</td><td>118,68</td></tr>",
                            "<tr><td>MARSHALL</td><td>THORN</td><td>117,77</td></tr>",
                            "<tr><td>PERRY</td><td>SWAFFORD</td><td>117,76</td></tr>",
                            "<tr><td>SAM</td><td>MCDUFFIE</td><td>117,76</td></tr>",
                            "<tr><td>FERNANDO</td><td>CHURCHILL</td><td>117,75</td></tr>",
                            "<tr><td>MARLENE</td><td>WELCH</td><td>117,74</td></tr>",
                            "<tr><td>VELMA</td><td>LUCAS</td><td>117,73</td></tr>",
                            "<tr><td>BETTY</td><td>WHITE</td><td>117,72</td></tr>",
                            "<tr><td>ELLEN</td><td>SIMPSON</td><td>117,72</td></tr>",
                            "<tr><td>TODD</td><td>TAN</td><td>117,71</td></tr>",
                            "<tr><td>TED</td><td>BREAUX</td><td>117,71</td></tr>",
                            "<tr><td>CAROLYN</td><td>PEREZ</td><td>117,70</td></tr>",
                            "<tr><td>TERRENCE</td><td>GUNDERSON</td><td>117,70</td></tr>",
                            "<tr><td>KEVIN</td><td>SCHULER</td><td>116,78</td></tr>",
                            "<tr><td>EDWIN</td><td>BURK</td><td>116,77</td></tr>",
                            "<tr><td>MANUEL</td><td>MURRELL</td><td>116,70</td></tr>",
                            "<tr><td>THEODORE</td><td>CULP</td><td>116,69</td></tr>",
                            "<tr><td>KRISTIN</td><td>JOHNSTON</td><td>116,69</td></tr>",
                            "<tr><td>MAXINE</td><td>SILVA</td><td>116,68</td></tr>",
                            "<tr><td>CECIL</td><td>VINES</td><td>115,74</td></tr>",
                            "<tr><td>DAVID</td><td>ROYAL</td><td>115,74</td></tr>",
                            "<tr><td>JEAN</td><td>BELL</td><td>115,73</td></tr>",
                            "<tr><td>REGINALD</td><td>KINDER</td><td>115,72</td></tr>",
                            "<tr><td>HERMAN</td><td>DEVORE</td><td>115,71</td></tr>",
                            "<tr><td>MARION</td><td>OCAMPO</td><td>115,71</td></tr>",
                            "<tr><td>BECKY</td><td>MILES</td><td>115,71</td></tr>",
                            "<tr><td>DEBORAH</td><td>WALKER</td><td>115,71</td></tr>",
                            "<tr><td>CLYDE</td><td>TOBIAS</td><td>115,71</td></tr>",
                            "<tr><td>MARCUS</td><td>HIDALGO</td><td>115,70</td></tr>",
                            "<tr><td>SHARON</td><td>ROBINSON</td><td>115,70</td></tr>",
                            "<tr><td>HEATHER</td><td>MORRIS</td><td>115,70</td></tr>",
                            "<tr><td>ANGEL</td><td>BARCLAY</td><td>115,68</td></tr>",
                            "<tr><td>JESUS</td><td>MCCARTNEY</td><td>114,76</td></tr>",
                            "<tr><td>DOUGLAS</td><td>GRAF</td><td>114,75</td></tr>",
                            "<tr><td>DOLORES</td><td>WAGNER</td><td>114,74</td></tr>",
                            "<tr><td>MARIE</td><td>TURNER</td><td>114,74</td></tr>",
                            "<tr><td>CHARLENE</td><td>ALVAREZ</td><td>114,73</td></tr>",
                            "<tr><td>DENNIS</td><td>GILMAN</td><td>114,72</td></tr>",
                            "<tr><td>BILL</td><td>GAVIN</td><td>114,72</td></tr>",
                            "<tr><td>EVELYN</td><td>MORGAN</td><td>114,72</td></tr>",
                            "<tr><td>EDWARD</td><td>BAUGH</td><td>114,72</td></tr>",
                            "<tr><td>HOLLY</td><td>FOX</td><td>114,69</td></tr>",
                            "<tr><td>MATTHEW</td><td>MAHAN</td><td>114,69</td></tr>",
                            "<tr><td>LAURA</td><td>RODRIGUEZ</td><td>113,78</td></tr>",
                            "<tr><td>ANDY</td><td>VANHORN</td><td>113,75</td></tr>",
                            "<tr><td>GLEN</td><td>TALBERT</td><td>113,74</td></tr>",
                            "<tr><td>RENE</td><td>MCALISTER</td><td>113,74</td></tr>",
                            "<tr><td>SHELLY</td><td>WATTS</td><td>113,74</td></tr>",
                            "<tr><td>AMBER</td><td>DIXON</td><td>113,73</td></tr>",
                            "<tr><td>CINDY</td><td>FISHER</td><td>113,71</td></tr>",
                            "<tr><td>CLIFFORD</td><td>BOWENS</td><td>113,71</td></tr>",
                            "<tr><td>DARLENE</td><td>ROSE</td><td>113,69</td></tr>",
                            "<tr><td>LOIS</td><td>BUTLER</td><td>113,65</td></tr>",
                            "<tr><td>BRENT</td><td>HARKINS</td><td>112,77</td></tr>",
                            "<tr><td>TYRONE</td><td>ASHER</td><td>112,76</td></tr>",
                            "<tr><td>SETH</td><td>HANNON</td><td>112,75</td></tr>",
                            "<tr><td>ASHLEY</td><td>RICHARDSON</td><td>112,75</td></tr>",
                            "<tr><td>LARRY</td><td>THRASHER</td><td>112,74</td></tr>",
                            "<tr><td>DALE</td><td>RATCLIFF</td><td>112,73</td></tr>",
                            "<tr><td>MARIO</td><td>CHEATHAM</td><td>112,72</td></tr>",
                            "<tr><td>GERALDINE</td><td>PERKINS</td><td>112,70</td></tr>",
                            "<tr><td>MABEL</td><td>HOLLAND</td><td>112,70</td></tr>",
                            "<tr><td>CALVIN</td><td>MARTEL</td><td>111,77</td></tr>",
                            "<tr><td>CLAUDE</td><td>HERZOG</td><td>111,75</td></tr>",
                            "<tr><td>CLAUDIA</td><td>FULLER</td><td>111,74</td></tr>",
                            "<tr><td>GABRIEL</td><td>HARDER</td><td>111,74</td></tr>",
                            "<tr><td>EARL</td><td>SHANKS</td><td>111,73</td></tr>",
                            "<tr><td>DARYL</td><td>LARUE</td><td>111,73</td></tr>",
                            "<tr><td>VICTORIA</td><td>GIBSON</td><td>111,73</td></tr>",
                            "<tr><td>GINA</td><td>WILLIAMSON</td><td>111,72</td></tr>",
                            "<tr><td>TERRANCE</td><td>ROUSH</td><td>111,71</td></tr>",
                            "<tr><td>CYNTHIA</td><td>YOUNG</td><td>111,68</td></tr>",
                            "<tr><td>MYRTLE</td><td>FLEMING</td><td>110,76</td></tr>",
                            "<tr><td>AARON</td><td>SELBY</td><td>110,76</td></tr>",
                            "<tr><td>TRAVIS</td><td>ESTEP</td><td>110,75</td></tr>",
                            "<tr><td>GEORGIA</td><td>JACOBS</td><td>110,74</td></tr>",
                            "<tr><td>AMANDA</td><td>CARTER</td><td>110,73</td></tr>",
                            "<tr><td>YOLANDA</td><td>WEAVER</td><td>110,73</td></tr>",
                            "<tr><td>EVERETT</td><td>BANDA</td><td>110,72</td></tr>",
                            "<tr><td>RUBY</td><td>WASHINGTON</td><td>110,72</td></tr>",
                            "<tr><td>RANDY</td><td>GAITHER</td><td>110,72</td></tr>",
                            "<tr><td>KEN</td><td>PREWITT</td><td>110,71</td></tr>",
                            "<tr><td>JUANITA</td><td>MASON</td><td>110,70</td></tr>",
                            "<tr><td>KYLE</td><td>SPURLOCK</td><td>110,70</td></tr>",
                            "<tr><td>HAZEL</td><td>WARREN</td><td>110,66</td></tr>",
                            "<tr><td>DAN</td><td>PAINE</td><td>109,78</td></tr>",
                            "<tr><td>LEON</td><td>BOSTIC</td><td>109,75</td></tr>",
                            "<tr><td>KATIE</td><td>ELLIOTT</td><td>109,75</td></tr>",
                            "<tr><td>RICHARD</td><td>MCCRARY</td><td>109,75</td></tr>",
                            "<tr><td>GAIL</td><td>KNIGHT</td><td>109,75</td></tr>",
                            "<tr><td>WALLACE</td><td>SLONE</td><td>109,75</td></tr>",
                            "<tr><td>JOSEPHINE</td><td>GOMEZ</td><td>109,74</td></tr>",
                            "<tr><td>DEAN</td><td>SAUER</td><td>109,73</td></tr>",
                            "<tr><td>ANDREW</td><td>PURDY</td><td>109,73</td></tr>",
                            "<tr><td>JULIAN</td><td>VEST</td><td>109,72</td></tr>",
                            "<tr><td>KRISTINA</td><td>CHAMBERS</td><td>109,72</td></tr>",
                            "<tr><td>LEONARD</td><td>SCHOFIELD</td><td>109,68</td></tr>",
                            "<tr><td>FRANCES</td><td>PARKER</td><td>108,78</td></tr>",
                            "<tr><td>DARREN</td><td>WINDHAM</td><td>108,76</td></tr>",
                            "<tr><td>VICKI</td><td>FIELDS</td><td>108,75</td></tr>",
                            "<tr><td>SIDNEY</td><td>BURLESON</td><td>108,75</td></tr>",
                            "<tr><td>SERGIO</td><td>STANFIELD</td><td>108,74</td></tr>",
                            "<tr><td>LUCILLE</td><td>HOLMES</td><td>108,72</td></tr>",
                            "<tr><td>CAROLE</td><td>BARNETT</td><td>108,70</td></tr>",
                            "<tr><td>DORA</td><td>MEDINA</td><td>107,77</td></tr>",
                            "<tr><td>MARIAN</td><td>MENDOZA</td><td>107,77</td></tr>",
                            "<tr><td>MAX</td><td>PITT</td><td>107,76</td></tr>",
                            "<tr><td>ELAINE</td><td>STEVENS</td><td>107,76</td></tr>",
                            "<tr><td>KELLY</td><td>KNOTT</td><td>107,74</td></tr>",
                            "<tr><td>DEANNA</td><td>BYRD</td><td>107,74</td></tr>",
                            "<tr><td>EDNA</td><td>WEST</td><td>107,74</td></tr>",
                            "<tr><td>VIRGIL</td><td>WOFFORD</td><td>107,73</td></tr>",
                            "<tr><td>JULIE</td><td>SANCHEZ</td><td>107,71</td></tr>",
                            "<tr><td>JEFF</td><td>EAST</td><td>107,70</td></tr>",
                            "<tr><td>TOM</td><td>MILNER</td><td>107,68</td></tr>",
                            "<tr><td>PETER</td><td>MENARD</td><td>106,77</td></tr>",
                            "<tr><td>CARLOS</td><td>COUGHLIN</td><td>106,77</td></tr>",
                            "<tr><td>CARL</td><td>ARTIS</td><td>106,77</td></tr>",
                            "<tr><td>LISA</td><td>ANDERSON</td><td>106,76</td></tr>",
                            "<tr><td>LILLIAN</td><td>GRIFFIN</td><td>106,75</td></tr>",
                            "<tr><td>ERIN</td><td>DUNN</td><td>106,73</td></tr>",
                            "<tr><td>BOBBY</td><td>BOUDREAU</td><td>106,65</td></tr>",
                            "<tr><td>FREDERICK</td><td>ISBELL</td><td>105,79</td></tr>",
                            "<tr><td>THOMAS</td><td>GRIGSBY</td><td>105,75</td></tr>",
                            "<tr><td>DANIELLE</td><td>DANIELS</td><td>105,75</td></tr>",
                            "<tr><td>BRAD</td><td>MCCURDY</td><td>105,75</td></tr>",
                            "<tr><td>VINCENT</td><td>RALSTON</td><td>105,75</td></tr>",
                            "<tr><td>DIANA</td><td>ALEXANDER</td><td>105,73</td></tr>",
                            "<tr><td>JIMMY</td><td>SCHRADER</td><td>105,71</td></tr>",
                            "<tr><td>STELLA</td><td>MORENO</td><td>104,78</td></tr>",
                            "<tr><td>LEO</td><td>EBERT</td><td>104,77</td></tr>",
                            "<tr><td>RODNEY</td><td>MOELLER</td><td>104,77</td></tr>",
                            "<tr><td>LEAH</td><td>CURTIS</td><td>104,75</td></tr>",
                            "<tr><td>FRANCIS</td><td>SIKES</td><td>104,74</td></tr>",
                            "<tr><td>BRENDA</td><td>WRIGHT</td><td>104,74</td></tr>",
                            "<tr><td>MARK</td><td>RINEHART</td><td>104,74</td></tr>",
                            "<tr><td>CLARENCE</td><td>GAMEZ</td><td>104,70</td></tr>",
                            "<tr><td>ROSE</td><td>HOWARD</td><td>103,78</td></tr>",
                            "<tr><td>BRUCE</td><td>SCHWARZ</td><td>103,77</td></tr>",
                            "<tr><td>RON</td><td>DELUCA</td><td>103,77</td></tr>",
                            "<tr><td>PEDRO</td><td>CHESTNUT</td><td>103,76</td></tr>",
                            "<tr><td>CLINTON</td><td>BUFORD</td><td>103,75</td></tr>",
                            "<tr><td>BETH</td><td>FRANKLIN</td><td>103,75</td></tr>",
                            "<tr><td>GARY</td><td>COY</td><td>103,75</td></tr>",
                            "<tr><td>CARLA</td><td>GUTIERREZ</td><td>103,74</td></tr>",
                            "<tr><td>JENNY</td><td>CASTRO</td><td>103,73</td></tr>",
                            "<tr><td>DENISE</td><td>KELLY</td><td>103,73</td></tr>",
                            "<tr><td>MARTIN</td><td>BALES</td><td>103,73</td></tr>",
                            "<tr><td>JEREMY</td><td>HURTADO</td><td>103,72</td></tr>",
                            "<tr><td>NANCY</td><td>THOMAS</td><td>103,72</td></tr>",
                            "<tr><td>ROBIN</td><td>HAYES</td><td>102,76</td></tr>",
                            "<tr><td>MICHEAL</td><td>FORMAN</td><td>102,74</td></tr>",
                            "<tr><td>DWAYNE</td><td>OLVERA</td><td>101,78</td></tr>",
                            "<tr><td>ADAM</td><td>GOOCH</td><td>101,78</td></tr>",
                            "<tr><td>COREY</td><td>HAUSER</td><td>101,78</td></tr>",
                            "<tr><td>LOUISE</td><td>JENKINS</td><td>101,75</td></tr>",
                            "<tr><td>WILLIE</td><td>MARKHAM</td><td>101,75</td></tr>",
                            "<tr><td>BERTHA</td><td>FERGUSON</td><td>101,75</td></tr>",
                            "<tr><td>WILLIE</td><td>HOWELL</td><td>101,74</td></tr>",
                            "<tr><td>ERIKA</td><td>PENA</td><td>101,74</td></tr>",
                            "<tr><td>PHILLIP</td><td>HOLM</td><td>101,74</td></tr>",
                            "<tr><td>JESSE</td><td>SCHILLING</td><td>101,74</td></tr>",
                            "<tr><td>RAUL</td><td>FORTIER</td><td>100,80</td></tr>",
                            "<tr><td>DORIS</td><td>REED</td><td>100,78</td></tr>",
                            "<tr><td>CONNIE</td><td>WALLACE</td><td>100,77</td></tr>",
                            "<tr><td>SHANNON</td><td>FREEMAN</td><td>100,76</td></tr>",
                            "<tr><td>RONNIE</td><td>RICKETTS</td><td>100,75</td></tr>",
                            "<tr><td>WILLIAM</td><td>SATTERFIELD</td><td>100,74</td></tr>",
                            "<tr><td>DUSTIN</td><td>GILLETTE</td><td>100,74</td></tr>",
                            "<tr><td>JANE</td><td>BENNETT</td><td>100,72</td></tr>",
                            "<tr><td>LAWRENCE</td><td>LAWTON</td><td>100,69</td></tr>",
                            "<tr><td>JUDITH</td><td>COX</td><td>100,67</td></tr>",
                            "<tr><td>OSCAR</td><td>AQUINO</td><td>99,80</td></tr>",
                            "<tr><td>RICARDO</td><td>MEADOR</td><td>99,79</td></tr>",
                            "<tr><td>KELLY</td><td>TORRES</td><td>99,78</td></tr>",
                            "<tr><td>LAURIE</td><td>LAWRENCE</td><td>99,77</td></tr>",
                            "<tr><td>ALBERT</td><td>CROUSE</td><td>99,77</td></tr>",
                            "<tr><td>KURT</td><td>EMMONS</td><td>99,77</td></tr>",
                            "<tr><td>RANDALL</td><td>NEUMANN</td><td>99,77</td></tr>",
                            "<tr><td>CHRISTINE</td><td>ROBERTS</td><td>99,76</td></tr>",
                            "<tr><td>CHESTER</td><td>BENNER</td><td>99,76</td></tr>",
                            "<tr><td>FREDDIE</td><td>DUGGAN</td><td>99,75</td></tr>",
                            "<tr><td>DOROTHY</td><td>TAYLOR</td><td>99,75</td></tr>",
                            "<tr><td>IVAN</td><td>CROMWELL</td><td>99,74</td></tr>",
                            "<tr><td>ROSS</td><td>GREY</td><td>99,73</td></tr>",
                            "<tr><td>THERESA</td><td>WATSON</td><td>99,70</td></tr>",
                            "<tr><td>KAY</td><td>CALDWELL</td><td>98,80</td></tr>",
                            "<tr><td>DONNA</td><td>THOMPSON</td><td>98,79</td></tr>",
                            "<tr><td>CODY</td><td>NOLEN</td><td>98,78</td></tr>",
                            "<tr><td>FRANCISCO</td><td>SKIDMORE</td><td>98,78</td></tr>",
                            "<tr><td>STACY</td><td>CUNNINGHAM</td><td>98,77</td></tr>",
                            "<tr><td>AGNES</td><td>BISHOP</td><td>98,77</td></tr>",
                            "<tr><td>ANNETTE</td><td>OLSON</td><td>98,76</td></tr>",
                            "<tr><td>GWENDOLYN</td><td>MAY</td><td>98,75</td></tr>",
                            "<tr><td>MILDRED</td><td>BAILEY</td><td>98,75</td></tr>",
                            "<tr><td>ELMER</td><td>NOE</td><td>98,74</td></tr>",
                            "<tr><td>PAULINE</td><td>HENRY</td><td>98,73</td></tr>",
                            "<tr><td>DANIEL</td><td>CABRAL</td><td>97,80</td></tr>",
                            "<tr><td>RAFAEL</td><td>ABNEY</td><td>97,79</td></tr>",
                            "<tr><td>BEVERLY</td><td>BROOKS</td><td>97,76</td></tr>",
                            "<tr><td>RENEE</td><td>LANE</td><td>97,74</td></tr>",
                            "<tr><td>CARMEN</td><td>OWENS</td><td>97,74</td></tr>",
                            "<tr><td>MELVIN</td><td>ELLINGTON</td><td>97,74</td></tr>",
                            "<tr><td>GENE</td><td>SANBORN</td><td>97,73</td></tr>",
                            "<tr><td>DEREK</td><td>BLAKELY</td><td>97,72</td></tr>",
                            "<tr><td>WILLARD</td><td>LUMPKIN</td><td>96,78</td></tr>",
                            "<tr><td>PEGGY</td><td>MYERS</td><td>96,76</td></tr>",
                            "<tr><td>JUDY</td><td>GRAY</td><td>96,75</td></tr>",
                            "<tr><td>JOSE</td><td>ANDREW</td><td>96,75</td></tr>",
                            "<tr><td>CLAYTON</td><td>BARBEE</td><td>96,74</td></tr>",
                            "<tr><td>IAN</td><td>STILL</td><td>96,73</td></tr>",
                            "<tr><td>ENRIQUE</td><td>FORSYTHE</td><td>96,72</td></tr>",
                            "<tr><td>ERICA</td><td>MATTHEWS</td><td>95,78</td></tr>",
                            "<tr><td>SHANE</td><td>MILLARD</td><td>95,78</td></tr>",
                            "<tr><td>DERRICK</td><td>BOURQUE</td><td>95,78</td></tr>",
                            "<tr><td>BENJAMIN</td><td>VARNEY</td><td>95,77</td></tr>",
                            "<tr><td>PAMELA</td><td>BAKER</td><td>95,77</td></tr>",
                            "<tr><td>NATALIE</td><td>MEYER</td><td>95,77</td></tr>",
                            "<tr><td>TONI</td><td>HOLT</td><td>95,77</td></tr>",
                            "<tr><td>JOEL</td><td>FRANCISCO</td><td>95,77</td></tr>",
                            "<tr><td>KIMBERLY</td><td>LEE</td><td>95,75</td></tr>",
                            "<tr><td>EDGAR</td><td>RHOADS</td><td>95,75</td></tr>",
                            "<tr><td>CONSTANCE</td><td>REID</td><td>95,75</td></tr>",
                            "<tr><td>ESTHER</td><td>CRAWFORD</td><td>95,72</td></tr>",
                            "<tr><td>LONNIE</td><td>TIRADO</td><td>94,82</td></tr>",
                            "<tr><td>NELLIE</td><td>GARRETT</td><td>94,79</td></tr>",
                            "<tr><td>NICOLE</td><td>PETERSON</td><td>94,78</td></tr>",
                            "<tr><td>EMMA</td><td>BOYD</td><td>94,77</td></tr>",
                            "<tr><td>SUZANNE</td><td>NICHOLS</td><td>94,76</td></tr>",
                            "<tr><td>SCOTT</td><td>SHELLEY</td><td>94,75</td></tr>",
                            "<tr><td>APRIL</td><td>BURNS</td><td>94,74</td></tr>",
                            "<tr><td>LORETTA</td><td>CARPENTER</td><td>93,78</td></tr>",
                            "<tr><td>HARVEY</td><td>GUAJARDO</td><td>93,78</td></tr>",
                            "<tr><td>ANDREA</td><td>HENDERSON</td><td>93,78</td></tr>",
                            "<tr><td>GLENN</td><td>PULLEN</td><td>93,77</td></tr>",
                            "<tr><td>CHARLOTTE</td><td>HUNTER</td><td>93,76</td></tr>",
                            "<tr><td>JACKIE</td><td>LYNCH</td><td>93,75</td></tr>",
                            "<tr><td>TAMARA</td><td>NGUYEN</td><td>93,75</td></tr>",
                            "<tr><td>HOWARD</td><td>FORTNER</td><td>93,74</td></tr>",
                            "<tr><td>JENNIFER</td><td>DAVIS</td><td>93,72</td></tr>",
                            "<tr><td>YVONNE</td><td>WATKINS</td><td>92,79</td></tr>",
                            "<tr><td>ROBERT</td><td>BAUGHMAN</td><td>92,79</td></tr>",
                            "<tr><td>SUSAN</td><td>WILSON</td><td>92,76</td></tr>",
                            "<tr><td>RITA</td><td>GRAHAM</td><td>92,76</td></tr>",
                            "<tr><td>MELANIE</td><td>ARMSTRONG</td><td>92,75</td></tr>",
                            "<tr><td>KATHLEEN</td><td>ADAMS</td><td>92,73</td></tr>",
                            "<tr><td>ALLISON</td><td>STANLEY</td><td>92,73</td></tr>",
                            "<tr><td>MEGAN</td><td>PALMER</td><td>92,73</td></tr>",
                            "<tr><td>WILMA</td><td>RICHARDS</td><td>91,80</td></tr>",
                            "<tr><td>ANNA</td><td>HILL</td><td>91,79</td></tr>",
                            "<tr><td>DELORES</td><td>HANSEN</td><td>91,79</td></tr>",
                            "<tr><td>DANNY</td><td>ISOM</td><td>91,79</td></tr>",
                            "<tr><td>CAROL</td><td>GARCIA</td><td>91,78</td></tr>",
                            "<tr><td>TIMOTHY</td><td>BUNN</td><td>91,78</td></tr>",
                            "<tr><td>SEAN</td><td>DOUGLASS</td><td>91,77</td></tr>",
                            "<tr><td>PHYLLIS</td><td>FOSTER</td><td>91,77</td></tr>",
                            "<tr><td>EMILY</td><td>DIAZ</td><td>91,76</td></tr>",
                            "<tr><td>BOB</td><td>PFEIFFER</td><td>91,76</td></tr>",
                            "<tr><td>VICTOR</td><td>BARKLEY</td><td>91,76</td></tr>",
                            "<tr><td>RICKY</td><td>SHELBY</td><td>91,75</td></tr>",
                            "<tr><td>DARRELL</td><td>POWER</td><td>91,75</td></tr>",
                            "<tr><td>JESSIE</td><td>BANKS</td><td>91,74</td></tr>",
                            "<tr><td>LUCY</td><td>WHEELER</td><td>91,74</td></tr>",
                            "<tr><td>WENDY</td><td>HARRISON</td><td>91,70</td></tr>",
                            "<tr><td>HUGH</td><td>WALDROP</td><td>90,79</td></tr>",
                            "<tr><td>MATHEW</td><td>BOLIN</td><td>90,78</td></tr>",
                            "<tr><td>VIVIAN</td><td>RUIZ</td><td>90,77</td></tr>",
                            "<tr><td>JEFFREY</td><td>SPEAR</td><td>90,77</td></tr>",
                            "<tr><td>RUBEN</td><td>GEARY</td><td>89,79</td></tr>",
                            "<tr><td>JULIO</td><td>NOLAND</td><td>89,79</td></tr>",
                            "<tr><td>LESLIE</td><td>GORDON</td><td>89,78</td></tr>",
                            "<tr><td>MARGARET</td><td>MOORE</td><td>89,77</td></tr>",
                            "<tr><td>LILLIE</td><td>KIM</td><td>89,77</td></tr>",
                            "<tr><td>DONALD</td><td>MAHON</td><td>89,77</td></tr>",
                            "<tr><td>JACK</td><td>FOUST</td><td>89,76</td></tr>",
                            "<tr><td>REBECCA</td><td>SCOTT</td><td>89,76</td></tr>",
                            "<tr><td>CHAD</td><td>CARBONE</td><td>89,75</td></tr>",
                            "<tr><td>ERNEST</td><td>STEPP</td><td>89,75</td></tr>",
                            "<tr><td>JAY</td><td>ROBB</td><td>89,74</td></tr>",
                            "<tr><td>KEITH</td><td>RICO</td><td>89,74</td></tr>",
                            "<tr><td>VERNON</td><td>CHAPA</td><td>88,82</td></tr>",
                            "<tr><td>TARA</td><td>RYAN</td><td>88,80</td></tr>",
                            "<tr><td>TYLER</td><td>WREN</td><td>88,79</td></tr>",
                            "<tr><td>BERNARD</td><td>COLBY</td><td>88,78</td></tr>",
                            "<tr><td>CHRISTIAN</td><td>JUNG</td><td>88,76</td></tr>",
                            "<tr><td>FRED</td><td>WHEAT</td><td>88,75</td></tr>",
                            "<tr><td>BILLIE</td><td>HORTON</td><td>88,74</td></tr>",
                            "<tr><td>KRISTEN</td><td>CHAVEZ</td><td>87,82</td></tr>",
                            "<tr><td>JARED</td><td>ELY</td><td>87,81</td></tr>",
                            "<tr><td>BONNIE</td><td>HUGHES</td><td>87,79</td></tr>",
                            "<tr><td>MAUREEN</td><td>LITTLE</td><td>87,79</td></tr>",
                            "<tr><td>ANNE</td><td>POWELL</td><td>87,77</td></tr>",
                            "<tr><td>COLLEEN</td><td>BURTON</td><td>87,76</td></tr>",
                            "<tr><td>JON</td><td>WILES</td><td>87,76</td></tr>",
                            "<tr><td>VANESSA</td><td>SIMS</td><td>86,81</td></tr>",
                            "<tr><td>LEWIS</td><td>LYMAN</td><td>86,81</td></tr>",
                            "<tr><td>LORRAINE</td><td>STEPHENS</td><td>86,79</td></tr>",
                            "<tr><td>FELICIA</td><td>SUTTON</td><td>86,72</td></tr>",
                            "<tr><td>ALFREDO</td><td>MCADAMS</td><td>85,80</td></tr>",
                            "<tr><td>ALLEN</td><td>BUTTERFIELD</td><td>85,79</td></tr>",
                            "<tr><td>KENNETH</td><td>GOODEN</td><td>84,83</td></tr>",
                            "<tr><td>CHRIS</td><td>BROTHERS</td><td>84,78</td></tr>",
                            "<tr><td>RACHEL</td><td>BARNES</td><td>84,78</td></tr>",
                            "<tr><td>JOAN</td><td>COOPER</td><td>84,77</td></tr>",
                            "<tr><td>ROBERTA</td><td>HARPER</td><td>84,77</td></tr>",
                            "<tr><td>EVA</td><td>RAMOS</td><td>83,82</td></tr>",
                            "<tr><td>AUSTIN</td><td>CINTRON</td><td>83,81</td></tr>",
                            "<tr><td>ALICIA</td><td>MILLS</td><td>83,79</td></tr>",
                            "<tr><td>ARMANDO</td><td>GRUBER</td><td>83,79</td></tr>",
                            "<tr><td>WADE</td><td>DELVALLE</td><td>83,78</td></tr>",
                            "<tr><td>KIM</td><td>CRUZ</td><td>82,79</td></tr>",
                            "<tr><td>LANCE</td><td>PEMBERTON</td><td>82,78</td></tr>",
                            "<tr><td>LYDIA</td><td>BURKE</td><td>82,76</td></tr>",
                            "<tr><td>BARBARA</td><td>JONES</td><td>81,78</td></tr>",
                            "<tr><td>CORY</td><td>MEEHAN</td><td>81,76</td></tr>",
                            "<tr><td>MELINDA</td><td>FERNANDEZ</td><td>80,83</td></tr>",
                            "<tr><td>CHRISTINA</td><td>RAMIREZ</td><td>80,82</td></tr>",
                            "<tr><td>EILEEN</td><td>CARR</td><td>80,82</td></tr>",
                            "<tr><td>SAMUEL</td><td>MARLOW</td><td>80,79</td></tr>",
                            "<tr><td>ROLAND</td><td>SOUTH</td><td>80,77</td></tr>",
                            "<tr><td>BOBBIE</td><td>CRAIG</td><td>80,76</td></tr>",
                            "<tr><td>NORMAN</td><td>CURRIER</td><td>80,74</td></tr>",
                            "<tr><td>ALLAN</td><td>CORNISH</td><td>79,81</td></tr>",
                            "<tr><td>LUIS</td><td>YANEZ</td><td>79,80</td></tr>",
                            "<tr><td>NORMA</td><td>GONZALES</td><td>79,79</td></tr>",
                            "<tr><td>JACOB</td><td>LANCE</td><td>79,79</td></tr>",
                            "<tr><td>RAY</td><td>HOULE</td><td>79,78</td></tr>",
                            "<tr><td>ANTONIO</td><td>MEEK</td><td>78,84</td></tr>",
                            "<tr><td>HERBERT</td><td>KRUGER</td><td>78,80</td></tr>",
                            "<tr><td>GREGORY</td><td>MAULDIN</td><td>78,77</td></tr>",
                            "<tr><td>PAULA</td><td>BRYANT</td><td>77,82</td></tr>",
                            "<tr><td>NELSON</td><td>CHRISTENSON</td><td>77,80</td></tr>",
                            "<tr><td>IRENE</td><td>PRICE</td><td>77,77</td></tr>",
                            "<tr><td>ANN</td><td>EVANS</td><td>76,83</td></tr>",
                            "<tr><td>PEARL</td><td>GARZA</td><td>76,78</td></tr>",
                            "<tr><td>IDA</td><td>ANDREWS</td><td>76,77</td></tr>",
                            "<tr><td>DARRYL</td><td>ASHCRAFT</td><td>76,77</td></tr>",
                            "<tr><td>MARVIN</td><td>YEE</td><td>75,79</td></tr>",
                            "<tr><td>DWIGHT</td><td>LOMBARDI</td><td>74,83</td></tr>",
                            "<tr><td>ADRIAN</td><td>CLARY</td><td>74,81</td></tr>",
                            "<tr><td>JEANETTE</td><td>GREENE</td><td>74,80</td></tr>",
                            "<tr><td>FRANKLIN</td><td>TROUTMAN</td><td>74,78</td></tr>",
                            "<tr><td>TONY</td><td>CARRANZA</td><td>74,78</td></tr>",
                            "<tr><td>JEROME</td><td>KENYON</td><td>73,84</td></tr>",
                            "<tr><td>SHEILA</td><td>WELLS</td><td>73,82</td></tr>",
                            "<tr><td>HENRY</td><td>BILLINGSLEY</td><td>73,82</td></tr>",
                            "<tr><td>JO</td><td>FOWLER</td><td>73,80</td></tr>",
                            "<tr><td>JUAN</td><td>FRALEY</td><td>73,77</td></tr>",
                            "<tr><td>FELIX</td><td>GAFFNEY</td><td>73,76</td></tr>",
                            "<tr><td>JONATHAN</td><td>SCARBOROUGH</td><td>72,82</td></tr>",
                            "<tr><td>TERRY</td><td>GRISSOM</td><td>72,80</td></tr>",
                            "<tr><td>EUGENE</td><td>CULPEPPER</td><td>71,81</td></tr>",
                            "<tr><td>EDITH</td><td>MCDONALD</td><td>71,81</td></tr>",
                            "<tr><td>LAUREN</td><td>HUDSON</td><td>71,80</td></tr>",
                            "<tr><td>ANTHONY</td><td>SCHWAB</td><td>71,80</td></tr>",
                            "<tr><td>SAMANTHA</td><td>DUNCAN</td><td>71,77</td></tr>",
                            "<tr><td>IRMA</td><td>PEARSON</td><td>70,82</td></tr>",
                            "<tr><td>WAYNE</td><td>TRUONG</td><td>70,81</td></tr>",
                            "<tr><td>FLOYD</td><td>GANDY</td><td>69,83</td></tr>",
                            "<tr><td>PENNY</td><td>NEAL</td><td>68,82</td></tr>",
                            "<tr><td>JILL</td><td>HAWKINS</td><td>68,79</td></tr>",
                            "<tr><td>VERA</td><td>MCCOY</td><td>67,82</td></tr>",
                            "<tr><td>JOANN</td><td>GARDNER</td><td>66,84</td></tr>",
                            "<tr><td>LLOYD</td><td>DOWD</td><td>66,81</td></tr>",
                            "<tr><td>ALBERTO</td><td>HENNING</td><td>66,79</td></tr>",
                            "<tr><td>LESTER</td><td>KRAUS</td><td>65,84</td></tr>",
                            "<tr><td>KIRK</td><td>STCLAIR</td><td>64,81</td></tr>",
                            "<tr><td>MATTIE</td><td>HOFFMAN</td><td>64,78</td></tr>",
                            "<tr><td>ANITA</td><td>MORALES</td><td>62,85</td></tr>",
                            "<tr><td>TIFFANY</td><td>JORDAN</td><td>59,86</td></tr>",
                            "<tr><td>KATHERINE</td><td>RIVERA</td><td>58,86</td></tr>",
                            "<tr><td>ANNIE</td><td>RUSSELL</td><td>58,82</td></tr>",
                            "<tr><td>JOHNNY</td><td>TURPIN</td><td>57,81</td></tr>",
                            "<tr><td>BRIAN</td><td>WYMAN</td><td>52,88</td></tr>",
                            "<tr><td>LEONA</td><td>OBRIEN</td><td>50,86</td></tr>",
                            "<tr><td>CAROLINE</td><td>BOWMAN</td><td>50,85</td></tr>",
                            "</table>"
                        ]
                    }
                }
            ],
            "execution_count": 32
        }
    ]
}