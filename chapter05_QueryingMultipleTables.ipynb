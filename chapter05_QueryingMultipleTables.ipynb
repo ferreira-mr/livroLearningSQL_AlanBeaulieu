{
    "metadata": {
        "kernelspec": {
            "name": "SQL",
            "display_name": "SQL",
            "language": "sql"
        },
        "language_info": {
            "name": "sql",
            "version": ""
        }
    },
    "nbformat_minor": 2,
    "nbformat": 4,
    "cells": [
        {
            "cell_type": "markdown",
            "source": [
                "# CHAPTER 05 - QUERYING MULTIPLE TABLES"
            ],
            "metadata": {
                "azdata_cell_guid": "6b77ad45-4e9a-49cc-beec-1c2140ae62c4"
            }
        },
        {
            "cell_type": "code",
            "source": [
                ""
            ],
            "metadata": {
                "azdata_cell_guid": "76d41aa2-9cca-4169-9717-cc52c1a0e258"
            },
            "outputs": [],
            "execution_count": null
        }
    ]
}