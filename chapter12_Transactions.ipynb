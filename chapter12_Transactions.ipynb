{
    "metadata": {
        "kernelspec": {
            "name": "SQL",
            "display_name": "SQL",
            "language": "sql"
        },
        "language_info": {
            "name": "sql",
            "version": ""
        }
    },
    "nbformat_minor": 2,
    "nbformat": 4,
    "cells": [
        {
            "cell_type": "markdown",
            "source": [
                "# CHAPTER 12 - TRANSACTIONS"
            ],
            "metadata": {
                "azdata_cell_guid": "4d22eefd-295c-4799-b35e-23074f30d848"
            }
        },
        {
            "cell_type": "markdown",
            "source": [
                "Only theoretical explanations."
            ],
            "metadata": {
                "azdata_cell_guid": "1f892a21-c230-40c9-8459-7bf404a79e37"
            }
        }
    ]
}