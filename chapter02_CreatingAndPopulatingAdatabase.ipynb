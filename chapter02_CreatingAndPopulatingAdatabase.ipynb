{
    "metadata": {
        "kernelspec": {
            "name": "SQL",
            "display_name": "SQL",
            "language": "sql"
        },
        "language_info": {
            "name": "sql",
            "version": ""
        }
    },
    "nbformat_minor": 2,
    "nbformat": 4,
    "cells": [
        {
            "cell_type": "markdown",
            "source": [
                "# CHAPTER 02 - CREATING AND POPULATING A DATABASE"
            ],
            "metadata": {
                "azdata_cell_guid": "f0f7de04-f612-4971-9044-a95c8b118321"
            }
        },
        {
            "cell_type": "code",
            "source": [
                "SELECT GETDATE()"
            ],
            "metadata": {
                "azdata_cell_guid": "a3c43a13-5d02-4e1e-8ee3-e34671d34787"
            },
            "outputs": [
                {
                    "output_type": "display_data",
                    "data": {
                        "text/html": "(1 row affected)"
                    },
                    "metadata": {}
                },
                {
                    "output_type": "display_data",
                    "data": {
                        "text/html": "Total execution time: 00:00:00.044"
                    },
                    "metadata": {}
                },
                {
                    "output_type": "execute_result",
                    "metadata": {},
                    "execution_count": 101,
                    "data": {
                        "application/vnd.dataresource+json": {
                            "schema": {
                                "fields": [
                                    {
                                        "name": "(No column name)"
                                    }
                                ]
                            },
                            "data": [
                                {
                                    "0": "2021-03-04 05:08:21.057"
                                }
                            ]
                        },
                        "text/html": [
                            "<table>",
                            "<tr><th>(No column name)</th></tr>",
                            "<tr><td>2021-03-04 05:08:21.057</td></tr>",
                            "</table>"
                        ]
                    }
                }
            ],
            "execution_count": 101
        },
        {
            "cell_type": "code",
            "source": [
                "SELECT name, database_id, create_date  \r\n",
                "FROM sys.databases ;  "
            ],
            "metadata": {
                "azdata_cell_guid": "468acb33-080b-4f49-aa30-661712d71845"
            },
            "outputs": [
                {
                    "output_type": "display_data",
                    "data": {
                        "text/html": "(7 rows affected)"
                    },
                    "metadata": {}
                },
                {
                    "output_type": "display_data",
                    "data": {
                        "text/html": "Total execution time: 00:00:00.004"
                    },
                    "metadata": {}
                },
                {
                    "output_type": "execute_result",
                    "metadata": {},
                    "execution_count": 102,
                    "data": {
                        "application/vnd.dataresource+json": {
                            "schema": {
                                "fields": [
                                    {
                                        "name": "name"
                                    },
                                    {
                                        "name": "database_id"
                                    },
                                    {
                                        "name": "create_date"
                                    }
                                ]
                            },
                            "data": [
                                {
                                    "0": "master",
                                    "1": "1",
                                    "2": "2003-04-08 09:13:36.390"
                                },
                                {
                                    "0": "tempdb",
                                    "1": "2",
                                    "2": "2021-03-04 02:58:24.587"
                                },
                                {
                                    "0": "model",
                                    "1": "3",
                                    "2": "2003-04-08 09:13:36.390"
                                },
                                {
                                    "0": "msdb",
                                    "1": "4",
                                    "2": "2019-09-24 14:21:42.270"
                                },
                                {
                                    "0": "DW_SAKILA",
                                    "1": "5",
                                    "2": "2021-02-28 09:31:50.937"
                                },
                                {
                                    "0": "DB_SAKILA",
                                    "1": "6",
                                    "2": "2021-03-02 04:44:19.030"
                                },
                                {
                                    "0": "sakila",
                                    "1": "7",
                                    "2": "2021-03-02 05:06:09.640"
                                }
                            ]
                        },
                        "text/html": [
                            "<table>",
                            "<tr><th>name</th><th>database_id</th><th>create_date</th></tr>",
                            "<tr><td>master</td><td>1</td><td>2003-04-08 09:13:36.390</td></tr>",
                            "<tr><td>tempdb</td><td>2</td><td>2021-03-04 02:58:24.587</td></tr>",
                            "<tr><td>model</td><td>3</td><td>2003-04-08 09:13:36.390</td></tr>",
                            "<tr><td>msdb</td><td>4</td><td>2019-09-24 14:21:42.270</td></tr>",
                            "<tr><td>DW_SAKILA</td><td>5</td><td>2021-02-28 09:31:50.937</td></tr>",
                            "<tr><td>DB_SAKILA</td><td>6</td><td>2021-03-02 04:44:19.030</td></tr>",
                            "<tr><td>sakila</td><td>7</td><td>2021-03-02 05:06:09.640</td></tr>",
                            "</table>"
                        ]
                    }
                }
            ],
            "execution_count": 102
        },
        {
            "cell_type": "markdown",
            "source": [
                "## TABLE CREATION"
            ],
            "metadata": {
                "azdata_cell_guid": "3a22a57d-bb2c-4899-b491-9f6c88264e6d"
            }
        },
        {
            "cell_type": "code",
            "source": [
                "-- Create a new table called '[person]' in schema '[dbo]'\r\n",
                "-- Drop the table if it already exists\r\n",
                "IF OBJECT_ID('[dbo].[person]', 'U') IS NOT NULL\r\n",
                "DROP TABLE [dbo].[person]\r\n",
                "GO\r\n",
                "-- Create the table in the specified schema\r\n",
                "CREATE TABLE [dbo].[person]\r\n",
                "(\r\n",
                "    [person_id] INT IDENTITY(1,1) NOT NULL PRIMARY KEY,\r\n",
                "    -- Primary Key column\r\n",
                "    [fname] varchar(20) NOT NULL,\r\n",
                "    [lname] varchar(20) NOT NULL,\r\n",
                "    [eye_color] varchar (2),\r\n",
                "    [birth_data] date,\r\n",
                "    [street] varchar(30),\r\n",
                "    [state] varchar(20),\r\n",
                "    [country] varchar(20),\r\n",
                "    [postal_code] varchar(20),\r\n",
                ");\r\n",
                "GO"
            ],
            "metadata": {
                "azdata_cell_guid": "a35fed2f-db38-4ba4-9837-343568036923"
            },
            "outputs": [
                {
                    "output_type": "display_data",
                    "data": {
                        "text/html": "Commands completed successfully."
                    },
                    "metadata": {}
                },
                {
                    "output_type": "display_data",
                    "data": {
                        "text/html": "Commands completed successfully."
                    },
                    "metadata": {}
                },
                {
                    "output_type": "display_data",
                    "data": {
                        "text/html": "Total execution time: 00:00:00.002"
                    },
                    "metadata": {}
                }
            ],
            "execution_count": 103
        },
        {
            "cell_type": "code",
            "source": [
                "-- Create a new table called '[favorite_food]' in schema '[dbo]'\r\n",
                "-- Drop the table if it already exists\r\n",
                "IF OBJECT_ID('[dbo].[favorite_food]', 'U') IS NOT NULL\r\n",
                "DROP TABLE [dbo].[favorite_food]\r\n",
                "GO\r\n",
                "-- Create the table in the specified schema\r\n",
                "CREATE TABLE [dbo].[favorite_food]\r\n",
                "(\r\n",
                "    [person_id] INT NOT NULL,\r\n",
                "    -- Primary Key column\r\n",
                "    [food] varchar(50) NOT NULL,\r\n",
                "    CONSTRAINT fk_fav_food_person_id FOREIGN KEY ([person_id])\r\n",
                "    REFERENCES [dbo].[person] ([person_id])\r\n",
                "    -- Specify more columns here\r\n",
                ");\r\n",
                "GO"
            ],
            "metadata": {
                "azdata_cell_guid": "3aae2f86-f9a1-4473-94e0-c02e36736f05",
                "tags": []
            },
            "outputs": [
                {
                    "output_type": "display_data",
                    "data": {
                        "text/html": "Commands completed successfully."
                    },
                    "metadata": {}
                },
                {
                    "output_type": "display_data",
                    "data": {
                        "text/html": "Commands completed successfully."
                    },
                    "metadata": {}
                },
                {
                    "output_type": "display_data",
                    "data": {
                        "text/html": "Total execution time: 00:00:00.002"
                    },
                    "metadata": {}
                }
            ],
            "execution_count": 104
        },
        {
            "cell_type": "code",
            "source": [
                "-- Insert rows into table 'person' in schema '[dbo]'\r\n",
                "INSERT INTO [dbo].[person]\r\n",
                "( -- Columns to insert data into\r\n",
                " [fname], [lname], [eye_color], [birth_data]\r\n",
                ")\r\n",
                "VALUES\r\n",
                "( -- First row: values for the columns in the list above\r\n",
                " 'William', 'Turner', 'BR', '1972-05-27'\r\n",
                ");\r\n",
                "-- Add more rows here\r\n",
                "GO"
            ],
            "metadata": {
                "azdata_cell_guid": "be930720-a402-4add-9504-14f285391fdc",
                "tags": []
            },
            "outputs": [
                {
                    "output_type": "display_data",
                    "data": {
                        "text/html": "(1 row affected)"
                    },
                    "metadata": {}
                },
                {
                    "output_type": "display_data",
                    "data": {
                        "text/html": "Total execution time: 00:00:00.002"
                    },
                    "metadata": {}
                }
            ],
            "execution_count": 105
        },
        {
            "cell_type": "code",
            "source": [
                "-- Select rows from a Table or View '[person_id]' in schema '[dbo]'\r\n",
                "SELECT person_id, fname, lname, birth_data\r\n",
                "FROM [dbo].[person]\r\n",
                "GO"
            ],
            "metadata": {
                "azdata_cell_guid": "372fe810-40cd-4df0-8e1f-aeee8c4da818"
            },
            "outputs": [
                {
                    "output_type": "display_data",
                    "data": {
                        "text/html": "(1 row affected)"
                    },
                    "metadata": {}
                },
                {
                    "output_type": "display_data",
                    "data": {
                        "text/html": "Total execution time: 00:00:00.010"
                    },
                    "metadata": {}
                },
                {
                    "output_type": "execute_result",
                    "metadata": {},
                    "execution_count": 106,
                    "data": {
                        "application/vnd.dataresource+json": {
                            "schema": {
                                "fields": [
                                    {
                                        "name": "person_id"
                                    },
                                    {
                                        "name": "fname"
                                    },
                                    {
                                        "name": "lname"
                                    },
                                    {
                                        "name": "birth_data"
                                    }
                                ]
                            },
                            "data": [
                                {
                                    "0": "1",
                                    "1": "William",
                                    "2": "Turner",
                                    "3": "1972-05-27"
                                }
                            ]
                        },
                        "text/html": [
                            "<table>",
                            "<tr><th>person_id</th><th>fname</th><th>lname</th><th>birth_data</th></tr>",
                            "<tr><td>1</td><td>William</td><td>Turner</td><td>1972-05-27</td></tr>",
                            "</table>"
                        ]
                    }
                }
            ],
            "execution_count": 106
        },
        {
            "cell_type": "code",
            "source": [
                "-- Select rows from a Table or View '[person_id]' in schema '[dbo]'\r\n",
                "SELECT person_id, fname, lname, birth_data\r\n",
                "FROM [dbo].[person]\r\n",
                "WHERE [lname] = 'Turner'\r\n",
                "GO"
            ],
            "metadata": {
                "azdata_cell_guid": "acc2d6ed-3d78-44bc-b333-a7fc4577c15f"
            },
            "outputs": [
                {
                    "output_type": "display_data",
                    "data": {
                        "text/html": "(1 row affected)"
                    },
                    "metadata": {}
                },
                {
                    "output_type": "display_data",
                    "data": {
                        "text/html": "Total execution time: 00:00:00.007"
                    },
                    "metadata": {}
                },
                {
                    "output_type": "execute_result",
                    "metadata": {},
                    "execution_count": 107,
                    "data": {
                        "application/vnd.dataresource+json": {
                            "schema": {
                                "fields": [
                                    {
                                        "name": "person_id"
                                    },
                                    {
                                        "name": "fname"
                                    },
                                    {
                                        "name": "lname"
                                    },
                                    {
                                        "name": "birth_data"
                                    }
                                ]
                            },
                            "data": [
                                {
                                    "0": "1",
                                    "1": "William",
                                    "2": "Turner",
                                    "3": "1972-05-27"
                                }
                            ]
                        },
                        "text/html": [
                            "<table>",
                            "<tr><th>person_id</th><th>fname</th><th>lname</th><th>birth_data</th></tr>",
                            "<tr><td>1</td><td>William</td><td>Turner</td><td>1972-05-27</td></tr>",
                            "</table>"
                        ]
                    }
                }
            ],
            "execution_count": 107
        },
        {
            "cell_type": "code",
            "source": [
                "-- Insert rows into table 'favorite_food' in schema '[dbo]'\r\n",
                "INSERT INTO [dbo].[favorite_food]\r\n",
                "( -- Columns to insert data into\r\n",
                " [person_id], [food]\r\n",
                ")\r\n",
                "VALUES\r\n",
                "( -- First row: values for the columns in the list above\r\n",
                "    1, 'pizza'\r\n",
                "),\r\n",
                "(\r\n",
                "    1, 'cookies'\r\n",
                "),\r\n",
                "(\r\n",
                "    1, 'nachos'\r\n",
                ");\r\n",
                "GO"
            ],
            "metadata": {
                "azdata_cell_guid": "bb4f1314-b2f6-4327-9ba5-1051bd2c28bc"
            },
            "outputs": [
                {
                    "output_type": "display_data",
                    "data": {
                        "text/html": "(3 rows affected)"
                    },
                    "metadata": {}
                },
                {
                    "output_type": "display_data",
                    "data": {
                        "text/html": "Total execution time: 00:00:00.004"
                    },
                    "metadata": {}
                }
            ],
            "execution_count": 108
        },
        {
            "cell_type": "code",
            "source": [
                "-- Select rows from a Table or View '[favorite_food]' in schema '[dbo]'\r\n",
                "SELECT food\r\n",
                "FROM [dbo].[favorite_food]\r\n",
                "WHERE person_id = 1\r\n",
                "ORDER BY food\r\n",
                "GO"
            ],
            "metadata": {
                "azdata_cell_guid": "25002a80-2432-40b5-b04f-ebafaaea0e61"
            },
            "outputs": [
                {
                    "output_type": "display_data",
                    "data": {
                        "text/html": "(3 rows affected)"
                    },
                    "metadata": {}
                },
                {
                    "output_type": "display_data",
                    "data": {
                        "text/html": "Total execution time: 00:00:00.011"
                    },
                    "metadata": {}
                },
                {
                    "output_type": "execute_result",
                    "metadata": {},
                    "execution_count": 131,
                    "data": {
                        "application/vnd.dataresource+json": {
                            "schema": {
                                "fields": [
                                    {
                                        "name": "food"
                                    }
                                ]
                            },
                            "data": [
                                {
                                    "0": "cookies"
                                },
                                {
                                    "0": "nachos"
                                },
                                {
                                    "0": "pizza"
                                }
                            ]
                        },
                        "text/html": [
                            "<table>",
                            "<tr><th>food</th></tr>",
                            "<tr><td>cookies</td></tr>",
                            "<tr><td>nachos</td></tr>",
                            "<tr><td>pizza</td></tr>",
                            "</table>"
                        ]
                    }
                }
            ],
            "execution_count": 131
        },
        {
            "cell_type": "code",
            "source": [
                "INSERT INTO person\r\n",
                "    (person_id, fname, lname, eye_color, birth_date, street, city, state, country, postal_code)\r\n",
                "VALUES\r\n",
                "    (NULL, 'Susan', 'Smith', 'BL', '1975-11-02', '23 Maple St.', 'Arlington', 'VA', 'USA', '20220');"
            ],
            "metadata": {
                "azdata_cell_guid": "bb75f62c-586d-46ec-8a24-227910a8a7b4",
                "tags": []
            },
            "outputs": [
                {
                    "output_type": "error",
                    "evalue": "Msg 207, Level 16, State 1, Line 1\r\nNome de coluna 'birth_date' inválido.",
                    "ename": "",
                    "traceback": []
                },
                {
                    "output_type": "error",
                    "evalue": "Msg 207, Level 16, State 1, Line 1\r\nNome de coluna 'city' inválido.",
                    "ename": "",
                    "traceback": []
                },
                {
                    "output_type": "display_data",
                    "data": {
                        "text/html": "Total execution time: 00:00:00"
                    },
                    "metadata": {}
                }
            ],
            "execution_count": 133
        },
        {
            "cell_type": "code",
            "source": [
                "SELECT person_id, fname, lname, birth_data\r\n",
                "FROM person;"
            ],
            "metadata": {
                "azdata_cell_guid": "9445ce81-7c03-4246-86fd-f9d424e7a7b7",
                "tags": []
            },
            "outputs": [
{
    "output_type": "display_data",
    "data": {
        "text/html": "(1 row affected)"
    },
    "metadata": {}
}, {
    "output_type": "display_data",
    "data": {
        "text/html": "Total execution time: 00:00:00.003"
    },
    "metadata": {}
}, {
    "output_type": "execute_result",
    "metadata": {},
    "execution_count": 135,
    "data": {
        "application/vnd.dataresource+json": {
            "schema": {
                "fields": [
                    {
                        "name": "person_id"
                    },
                    {
                        "name": "fname"
                    },
                    {
                        "name": "lname"
                    },
                    {
                        "name": "birth_data"
                    }
                ]
            },
            "data": [
                {
                    "0": "1",
                    "1": "William",
                    "2": "Turner",
                    "3": "1972-05-27"
                }
            ]
        },
        "text/html": [
            "<table>",
            "<tr><th>person_id</th><th>fname</th><th>lname</th><th>birth_data</th></tr>",
            "<tr><td>1</td><td>William</td><td>Turner</td><td>1972-05-27</td></tr>",
            "</table>"
        ]
    }
}
],
            "execution_count": 134
        },
        {
            "cell_type": "code",
            "source": [
                ""
            ],
            "metadata": {
                "azdata_cell_guid": "fb2a94bd-737b-4480-9b1e-4da3815c975d"
            },
            "outputs": [
                {
                    "output_type": "display_data",
                    "data": {
                        "text/html": "Commands completed successfully."
                    },
                    "metadata": {}
                },
                {
                    "output_type": "display_data",
                    "data": {
                        "text/html": "Total execution time: 00:00:00"
                    },
                    "metadata": {}
                }
            ],
            "execution_count": 112
        },
        {
            "cell_type": "code",
            "source": [
                ""
            ],
            "metadata": {
                "azdata_cell_guid": "f70384e1-23c6-4011-87bd-ebd4e2ff647d"
            },
            "outputs": [
                {
                    "output_type": "display_data",
                    "data": {
                        "text/html": "Commands completed successfully."
                    },
                    "metadata": {}
                },
                {
                    "output_type": "display_data",
                    "data": {
                        "text/html": "Total execution time: 00:00:00"
                    },
                    "metadata": {}
                }
            ],
            "execution_count": 113
        },
        {
            "cell_type": "code",
            "source": [
                ""
            ],
            "metadata": {
                "azdata_cell_guid": "a528e064-0af2-46be-9998-cfa82bf99849"
            },
            "outputs": [
                {
                    "output_type": "display_data",
                    "data": {
                        "text/html": "Commands completed successfully."
                    },
                    "metadata": {}
                },
                {
                    "output_type": "display_data",
                    "data": {
                        "text/html": "Total execution time: 00:00:00"
                    },
                    "metadata": {}
                }
            ],
            "execution_count": 114
        },
        {
            "cell_type": "code",
            "source": [
                ""
            ],
            "metadata": {
                "azdata_cell_guid": "c6d576fa-d1e9-4cd2-a156-59aee116ac9e"
            },
            "outputs": [
                {
                    "output_type": "display_data",
                    "data": {
                        "text/html": "Commands completed successfully."
                    },
                    "metadata": {}
                },
                {
                    "output_type": "display_data",
                    "data": {
                        "text/html": "Total execution time: 00:00:00"
                    },
                    "metadata": {}
                }
            ],
            "execution_count": 115
        },
        {
            "cell_type": "code",
            "source": [
                ""
            ],
            "metadata": {
                "azdata_cell_guid": "cf93649c-6b67-4c8b-afe6-632d92908fed"
            },
            "outputs": [
                {
                    "output_type": "display_data",
                    "data": {
                        "text/html": "Commands completed successfully."
                    },
                    "metadata": {}
                },
                {
                    "output_type": "display_data",
                    "data": {
                        "text/html": "Total execution time: 00:00:00"
                    },
                    "metadata": {}
                }
            ],
            "execution_count": 116
        },
        {
            "cell_type": "code",
            "source": [
                ""
            ],
            "metadata": {
                "azdata_cell_guid": "26d7157b-f5f4-499c-b185-33e851a5be8e"
            },
            "outputs": [
                {
                    "output_type": "display_data",
                    "data": {
                        "text/html": "Commands completed successfully."
                    },
                    "metadata": {}
                },
                {
                    "output_type": "display_data",
                    "data": {
                        "text/html": "Total execution time: 00:00:00"
                    },
                    "metadata": {}
                }
            ],
            "execution_count": 117
        },
        {
            "cell_type": "code",
            "source": [
                ""
            ],
            "metadata": {
                "azdata_cell_guid": "604d6d23-d6c2-4a5c-8f91-56af16f6e35b"
            },
            "outputs": [
                {
                    "output_type": "display_data",
                    "data": {
                        "text/html": "Commands completed successfully."
                    },
                    "metadata": {}
                },
                {
                    "output_type": "display_data",
                    "data": {
                        "text/html": "Total execution time: 00:00:00"
                    },
                    "metadata": {}
                }
            ],
            "execution_count": 118
        },
        {
            "cell_type": "code",
            "source": [
                ""
            ],
            "metadata": {
                "azdata_cell_guid": "c6690c0c-2195-4646-b8d8-82aba937340c"
            },
            "outputs": [
                {
                    "output_type": "display_data",
                    "data": {
                        "text/html": "Commands completed successfully."
                    },
                    "metadata": {}
                },
                {
                    "output_type": "display_data",
                    "data": {
                        "text/html": "Total execution time: 00:00:00"
                    },
                    "metadata": {}
                }
            ],
            "execution_count": 119
        },
        {
            "cell_type": "code",
            "source": [
                ""
            ],
            "metadata": {
                "azdata_cell_guid": "99c086de-84f2-47ba-89dd-35a6732b409d"
            },
            "outputs": [
                {
                    "output_type": "display_data",
                    "data": {
                        "text/html": "Commands completed successfully."
                    },
                    "metadata": {}
                },
                {
                    "output_type": "display_data",
                    "data": {
                        "text/html": "Total execution time: 00:00:00"
                    },
                    "metadata": {}
                }
            ],
            "execution_count": 120
        },
        {
            "cell_type": "code",
            "source": [
                ""
            ],
            "metadata": {
                "azdata_cell_guid": "c7123e30-c726-4631-84fc-6eee49bb1dbf"
            },
            "outputs": [
                {
                    "output_type": "display_data",
                    "data": {
                        "text/html": "Commands completed successfully."
                    },
                    "metadata": {}
                },
                {
                    "output_type": "display_data",
                    "data": {
                        "text/html": "Total execution time: 00:00:00"
                    },
                    "metadata": {}
                }
            ],
            "execution_count": 121
        },
        {
            "cell_type": "code",
            "source": [
                ""
            ],
            "metadata": {
                "azdata_cell_guid": "d343d06f-5b68-4c3f-84ca-e0eaa7bdf315"
            },
            "outputs": [
                {
                    "output_type": "display_data",
                    "data": {
                        "text/html": "Commands completed successfully."
                    },
                    "metadata": {}
                },
                {
                    "output_type": "display_data",
                    "data": {
                        "text/html": "Total execution time: 00:00:00"
                    },
                    "metadata": {}
                }
            ],
            "execution_count": 122
        },
        {
            "cell_type": "code",
            "source": [
                ""
            ],
            "metadata": {
                "azdata_cell_guid": "ac9f9644-8850-4c9f-9f49-169f52360ef8"
            },
            "outputs": [
                {
                    "output_type": "display_data",
                    "data": {
                        "text/html": "Commands completed successfully."
                    },
                    "metadata": {}
                },
                {
                    "output_type": "display_data",
                    "data": {
                        "text/html": "Total execution time: 00:00:00"
                    },
                    "metadata": {}
                }
            ],
            "execution_count": 123
        },
        {
            "cell_type": "code",
            "source": [
                ""
            ],
            "metadata": {
                "azdata_cell_guid": "f5f3bcee-7f04-4326-9cc6-397347eee75e"
            },
            "outputs": [
                {
                    "output_type": "display_data",
                    "data": {
                        "text/html": "Commands completed successfully."
                    },
                    "metadata": {}
                },
                {
                    "output_type": "display_data",
                    "data": {
                        "text/html": "Total execution time: 00:00:00"
                    },
                    "metadata": {}
                }
            ],
            "execution_count": 124
        },
        {
            "cell_type": "code",
            "source": [
                ""
            ],
            "metadata": {
                "azdata_cell_guid": "85a47e11-0d35-42cc-a7b6-9e1a8da20236"
            },
            "outputs": [
                {
                    "output_type": "display_data",
                    "data": {
                        "text/html": "Commands completed successfully."
                    },
                    "metadata": {}
                },
                {
                    "output_type": "display_data",
                    "data": {
                        "text/html": "Total execution time: 00:00:00"
                    },
                    "metadata": {}
                }
            ],
            "execution_count": 125
        },
        {
            "cell_type": "code",
            "source": [
                ""
            ],
            "metadata": {
                "azdata_cell_guid": "aee5ed93-7cd2-4725-a3fb-cc8e262ff96d"
            },
            "outputs": [
                {
                    "output_type": "display_data",
                    "data": {
                        "text/html": "Commands completed successfully."
                    },
                    "metadata": {}
                },
                {
                    "output_type": "display_data",
                    "data": {
                        "text/html": "Total execution time: 00:00:00"
                    },
                    "metadata": {}
                }
            ],
            "execution_count": 126
        },
        {
            "cell_type": "code",
            "source": [
                ""
            ],
            "metadata": {
                "azdata_cell_guid": "be6b5d45-7d76-48c5-a46a-2a4dce02243c"
            },
            "outputs": [
                {
                    "output_type": "display_data",
                    "data": {
                        "text/html": "Commands completed successfully."
                    },
                    "metadata": {}
                },
                {
                    "output_type": "display_data",
                    "data": {
                        "text/html": "Total execution time: 00:00:00"
                    },
                    "metadata": {}
                }
            ],
            "execution_count": 127
        },
        {
            "cell_type": "code",
            "source": [
                ""
            ],
            "metadata": {
                "azdata_cell_guid": "8813d5f3-06af-4bac-95b5-700258a29cfc"
            },
            "outputs": [
                {
                    "output_type": "display_data",
                    "data": {
                        "text/html": "Commands completed successfully."
                    },
                    "metadata": {}
                },
                {
                    "output_type": "display_data",
                    "data": {
                        "text/html": "Total execution time: 00:00:00"
                    },
                    "metadata": {}
                }
            ],
            "execution_count": 128
        },
        {
            "cell_type": "code",
            "source": [
                ""
            ],
            "metadata": {
                "azdata_cell_guid": "89686a38-0270-4a33-96b3-13434838e192"
            },
            "outputs": [
                {
                    "output_type": "display_data",
                    "data": {
                        "text/html": "Commands completed successfully."
                    },
                    "metadata": {}
                },
                {
                    "output_type": "display_data",
                    "data": {
                        "text/html": "Total execution time: 00:00:00"
                    },
                    "metadata": {}
                }
            ],
            "execution_count": 129
        },
        {
            "cell_type": "code",
            "source": [
                ""
            ],
            "metadata": {
                "azdata_cell_guid": "76b671a1-e862-4dd0-a886-ba2a6b4521b7"
            },
            "outputs": [
                {
                    "output_type": "display_data",
                    "data": {
                        "text/html": "Commands completed successfully."
                    },
                    "metadata": {}
                },
                {
                    "output_type": "display_data",
                    "data": {
                        "text/html": "Total execution time: 00:00:00"
                    },
                    "metadata": {}
                }
            ],
            "execution_count": 130
        },
        {
            "cell_type": "markdown",
            "source": [
                ""
            ],
            "metadata": {
                "azdata_cell_guid": "582eee45-3932-417d-b59f-4cb1712748e7"
            }
        }
    ]
}