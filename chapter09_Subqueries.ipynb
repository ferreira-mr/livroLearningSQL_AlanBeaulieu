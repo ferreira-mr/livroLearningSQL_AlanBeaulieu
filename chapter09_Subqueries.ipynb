{
    "metadata": {
        "kernelspec": {
            "name": "SQL",
            "display_name": "SQL",
            "language": "sql"
        },
        "language_info": {
            "name": "sql",
            "version": ""
        }
    },
    "nbformat_minor": 2,
    "nbformat": 4,
    "cells": [
        {
            "cell_type": "markdown",
            "source": [
                "# CHAPTER 09 - SUBQUERIES"
            ],
            "metadata": {
                "azdata_cell_guid": "0e5a7523-e34e-4188-a140-1933868b1172",
                "language": ""
            }
        },
        {
            "cell_type": "code",
            "source": [
                "SELECT customer_id, first_name, last_name\n",
                "FROM customer \n",
                "WHERE customer_id = (\n",
                "    SELECT MAX(customer_id) FROM customer\n",
                "    );"
            ],
            "metadata": {
                "azdata_cell_guid": "f191178a-f6c4-4288-bdd5-d94427cf5e6b"
            },
            "outputs": [
                {
                    "output_type": "display_data",
                    "data": {
                        "text/html": "(1 row affected)"
                    },
                    "metadata": {}
                },
                {
                    "output_type": "display_data",
                    "data": {
                        "text/html": "Total execution time: 00:00:00.011"
                    },
                    "metadata": {}
                },
                {
                    "output_type": "execute_result",
                    "metadata": {},
                    "execution_count": 1,
                    "data": {
                        "application/vnd.dataresource+json": {
                            "schema": {
                                "fields": [
                                    {
                                        "name": "customer_id"
                                    },
                                    {
                                        "name": "first_name"
                                    },
                                    {
                                        "name": "last_name"
                                    }
                                ]
                            },
                            "data": [
                                {
                                    "0": "599",
                                    "1": "AUSTIN",
                                    "2": "CINTRON"
                                }
                            ]
                        },
                        "text/html": [
                            "<table>",
                            "<tr><th>customer_id</th><th>first_name</th><th>last_name</th></tr>",
                            "<tr><td>599</td><td>AUSTIN</td><td>CINTRON</td></tr>",
                            "</table>"
                        ]
                    }
                }
            ],
            "execution_count": 1
        },
        {
            "cell_type": "markdown",
            "source": [
                "## NONCORRELATED SUBQUERIES"
            ],
            "metadata": {
                "azdata_cell_guid": "c71c6fd7-6d35-42cb-bcc8-ba2880ee0b5c"
            }
        },
        {
            "cell_type": "code",
            "source": [
                "SELECT city_id ,city\n",
                "FROM city\n",
                "WHERE country_id <> (\n",
                "    SELECT country_id\n",
                "    FROM country\n",
                "    WHERE country = 'India'\n",
                ")"
            ],
            "metadata": {
                "azdata_cell_guid": "a4a8a8b6-125f-4365-af15-681827924038"
            },
            "outputs": [
                {
                    "output_type": "display_data",
                    "data": {
                        "text/html": "(540 rows affected)"
                    },
                    "metadata": {}
                },
                {
                    "output_type": "display_data",
                    "data": {
                        "text/html": "Total execution time: 00:00:00.005"
                    },
                    "metadata": {}
                },
                {
                    "output_type": "execute_result",
                    "metadata": {},
                    "execution_count": 4,
                    "data": {
                        "application/vnd.dataresource+json": {
                            "schema": {
                                "fields": [
                                    {
                                        "name": "city_id"
                                    },
                                    {
                                        "name": "city"
                                    }
                                ]
                            },
                            "data": [
                                {
                                    "0": "1",
                                    "1": "A Corua (La Corua)"
                                },
                                {
                                    "0": "2",
                                    "1": "Abha"
                                },
                                {
                                    "0": "3",
                                    "1": "Abu Dhabi"
                                },
                                {
                                    "0": "4",
                                    "1": "Acua"
                                },
                                {
                                    "0": "5",
                                    "1": "Adana"
                                },
                                {
                                    "0": "6",
                                    "1": "Addis Abeba"
                                },
                                {
                                    "0": "7",
                                    "1": "Aden"
                                },
                                {
                                    "0": "10",
                                    "1": "Akishima"
                                },
                                {
                                    "0": "11",
                                    "1": "Akron"
                                },
                                {
                                    "0": "12",
                                    "1": "al-Ayn"
                                },
                                {
                                    "0": "13",
                                    "1": "al-Hawiya"
                                },
                                {
                                    "0": "14",
                                    "1": "al-Manama"
                                },
                                {
                                    "0": "15",
                                    "1": "al-Qadarif"
                                },
                                {
                                    "0": "16",
                                    "1": "al-Qatif"
                                },
                                {
                                    "0": "17",
                                    "1": "Alessandria"
                                },
                                {
                                    "0": "19",
                                    "1": "Allende"
                                },
                                {
                                    "0": "20",
                                    "1": "Almirante Brown"
                                },
                                {
                                    "0": "21",
                                    "1": "Alvorada"
                                },
                                {
                                    "0": "23",
                                    "1": "Amersfoort"
                                },
                                {
                                    "0": "25",
                                    "1": "Angra dos Reis"
                                },
                                {
                                    "0": "26",
                                    "1": "Anpolis"
                                },
                                {
                                    "0": "27",
                                    "1": "Antofagasta"
                                },
                                {
                                    "0": "28",
                                    "1": "Aparecida de Goinia"
                                },
                                {
                                    "0": "29",
                                    "1": "Apeldoorn"
                                },
                                {
                                    "0": "30",
                                    "1": "Araatuba"
                                },
                                {
                                    "0": "31",
                                    "1": "Arak"
                                },
                                {
                                    "0": "32",
                                    "1": "Arecibo"
                                },
                                {
                                    "0": "33",
                                    "1": "Arlington"
                                },
                                {
                                    "0": "34",
                                    "1": "Ashdod"
                                },
                                {
                                    "0": "35",
                                    "1": "Ashgabat"
                                },
                                {
                                    "0": "36",
                                    "1": "Ashqelon"
                                },
                                {
                                    "0": "37",
                                    "1": "Asuncin"
                                },
                                {
                                    "0": "38",
                                    "1": "Athenai"
                                },
                                {
                                    "0": "39",
                                    "1": "Atinsk"
                                },
                                {
                                    "0": "40",
                                    "1": "Atlixco"
                                },
                                {
                                    "0": "41",
                                    "1": "Augusta-Richmond County"
                                },
                                {
                                    "0": "42",
                                    "1": "Aurora"
                                },
                                {
                                    "0": "43",
                                    "1": "Avellaneda"
                                },
                                {
                                    "0": "44",
                                    "1": "Bag"
                                },
                                {
                                    "0": "45",
                                    "1": "Baha Blanca"
                                },
                                {
                                    "0": "46",
                                    "1": "Baicheng"
                                },
                                {
                                    "0": "47",
                                    "1": "Baiyin"
                                },
                                {
                                    "0": "48",
                                    "1": "Baku"
                                },
                                {
                                    "0": "49",
                                    "1": "Balaiha"
                                },
                                {
                                    "0": "50",
                                    "1": "Balikesir"
                                },
                                {
                                    "0": "52",
                                    "1": "Bamenda"
                                },
                                {
                                    "0": "53",
                                    "1": "Bandar Seri Begawan"
                                },
                                {
                                    "0": "54",
                                    "1": "Banjul"
                                },
                                {
                                    "0": "55",
                                    "1": "Barcelona"
                                },
                                {
                                    "0": "56",
                                    "1": "Basel"
                                },
                                {
                                    "0": "57",
                                    "1": "Bat Yam"
                                },
                                {
                                    "0": "58",
                                    "1": "Batman"
                                },
                                {
                                    "0": "59",
                                    "1": "Batna"
                                },
                                {
                                    "0": "60",
                                    "1": "Battambang"
                                },
                                {
                                    "0": "61",
                                    "1": "Baybay"
                                },
                                {
                                    "0": "62",
                                    "1": "Bayugan"
                                },
                                {
                                    "0": "63",
                                    "1": "Bchar"
                                },
                                {
                                    "0": "64",
                                    "1": "Beira"
                                },
                                {
                                    "0": "65",
                                    "1": "Bellevue"
                                },
                                {
                                    "0": "66",
                                    "1": "Belm"
                                },
                                {
                                    "0": "67",
                                    "1": "Benguela"
                                },
                                {
                                    "0": "68",
                                    "1": "Beni-Mellal"
                                },
                                {
                                    "0": "69",
                                    "1": "Benin City"
                                },
                                {
                                    "0": "70",
                                    "1": "Bergamo"
                                },
                                {
                                    "0": "72",
                                    "1": "Bern"
                                },
                                {
                                    "0": "79",
                                    "1": "Bilbays"
                                },
                                {
                                    "0": "80",
                                    "1": "Binzhou"
                                },
                                {
                                    "0": "81",
                                    "1": "Birgunj"
                                },
                                {
                                    "0": "82",
                                    "1": "Bislig"
                                },
                                {
                                    "0": "83",
                                    "1": "Blumenau"
                                },
                                {
                                    "0": "84",
                                    "1": "Boa Vista"
                                },
                                {
                                    "0": "85",
                                    "1": "Boksburg"
                                },
                                {
                                    "0": "86",
                                    "1": "Botosani"
                                },
                                {
                                    "0": "87",
                                    "1": "Botshabelo"
                                },
                                {
                                    "0": "88",
                                    "1": "Bradford"
                                },
                                {
                                    "0": "89",
                                    "1": "Braslia"
                                },
                                {
                                    "0": "90",
                                    "1": "Bratislava"
                                },
                                {
                                    "0": "91",
                                    "1": "Brescia"
                                },
                                {
                                    "0": "92",
                                    "1": "Brest"
                                },
                                {
                                    "0": "93",
                                    "1": "Brindisi"
                                },
                                {
                                    "0": "94",
                                    "1": "Brockton"
                                },
                                {
                                    "0": "95",
                                    "1": "Bucuresti"
                                },
                                {
                                    "0": "96",
                                    "1": "Buenaventura"
                                },
                                {
                                    "0": "97",
                                    "1": "Bydgoszcz"
                                },
                                {
                                    "0": "98",
                                    "1": "Cabuyao"
                                },
                                {
                                    "0": "99",
                                    "1": "Callao"
                                },
                                {
                                    "0": "100",
                                    "1": "Cam Ranh"
                                },
                                {
                                    "0": "101",
                                    "1": "Cape Coral"
                                },
                                {
                                    "0": "102",
                                    "1": "Caracas"
                                },
                                {
                                    "0": "103",
                                    "1": "Carmen"
                                },
                                {
                                    "0": "104",
                                    "1": "Cavite"
                                },
                                {
                                    "0": "105",
                                    "1": "Cayenne"
                                },
                                {
                                    "0": "106",
                                    "1": "Celaya"
                                },
                                {
                                    "0": "108",
                                    "1": "Changhwa"
                                },
                                {
                                    "0": "109",
                                    "1": "Changzhou"
                                },
                                {
                                    "0": "111",
                                    "1": "Charlotte Amalie"
                                },
                                {
                                    "0": "112",
                                    "1": "Chatsworth"
                                },
                                {
                                    "0": "113",
                                    "1": "Cheju"
                                },
                                {
                                    "0": "114",
                                    "1": "Chiayi"
                                },
                                {
                                    "0": "115",
                                    "1": "Chisinau"
                                },
                                {
                                    "0": "116",
                                    "1": "Chungho"
                                },
                                {
                                    "0": "117",
                                    "1": "Cianjur"
                                },
                                {
                                    "0": "118",
                                    "1": "Ciomas"
                                },
                                {
                                    "0": "119",
                                    "1": "Ciparay"
                                },
                                {
                                    "0": "120",
                                    "1": "Citrus Heights"
                                },
                                {
                                    "0": "121",
                                    "1": "Citt del Vaticano"
                                },
                                {
                                    "0": "122",
                                    "1": "Ciudad del Este"
                                },
                                {
                                    "0": "123",
                                    "1": "Clarksville"
                                },
                                {
                                    "0": "124",
                                    "1": "Coacalco de Berriozbal"
                                },
                                {
                                    "0": "125",
                                    "1": "Coatzacoalcos"
                                },
                                {
                                    "0": "126",
                                    "1": "Compton"
                                },
                                {
                                    "0": "127",
                                    "1": "Coquimbo"
                                },
                                {
                                    "0": "128",
                                    "1": "Crdoba"
                                },
                                {
                                    "0": "129",
                                    "1": "Cuauhtmoc"
                                },
                                {
                                    "0": "130",
                                    "1": "Cuautla"
                                },
                                {
                                    "0": "131",
                                    "1": "Cuernavaca"
                                },
                                {
                                    "0": "132",
                                    "1": "Cuman"
                                },
                                {
                                    "0": "133",
                                    "1": "Czestochowa"
                                },
                                {
                                    "0": "134",
                                    "1": "Dadu"
                                },
                                {
                                    "0": "135",
                                    "1": "Dallas"
                                },
                                {
                                    "0": "136",
                                    "1": "Datong"
                                },
                                {
                                    "0": "137",
                                    "1": "Daugavpils"
                                },
                                {
                                    "0": "138",
                                    "1": "Davao"
                                },
                                {
                                    "0": "139",
                                    "1": "Daxian"
                                },
                                {
                                    "0": "140",
                                    "1": "Dayton"
                                },
                                {
                                    "0": "141",
                                    "1": "Deba Habe"
                                },
                                {
                                    "0": "142",
                                    "1": "Denizli"
                                },
                                {
                                    "0": "143",
                                    "1": "Dhaka"
                                },
                                {
                                    "0": "145",
                                    "1": "Dongying"
                                },
                                {
                                    "0": "146",
                                    "1": "Donostia-San Sebastin"
                                },
                                {
                                    "0": "147",
                                    "1": "Dos Quebradas"
                                },
                                {
                                    "0": "148",
                                    "1": "Duisburg"
                                },
                                {
                                    "0": "149",
                                    "1": "Dundee"
                                },
                                {
                                    "0": "150",
                                    "1": "Dzerzinsk"
                                },
                                {
                                    "0": "151",
                                    "1": "Ede"
                                },
                                {
                                    "0": "152",
                                    "1": "Effon-Alaiye"
                                },
                                {
                                    "0": "153",
                                    "1": "El Alto"
                                },
                                {
                                    "0": "154",
                                    "1": "El Fuerte"
                                },
                                {
                                    "0": "155",
                                    "1": "El Monte"
                                },
                                {
                                    "0": "156",
                                    "1": "Elista"
                                },
                                {
                                    "0": "157",
                                    "1": "Emeishan"
                                },
                                {
                                    "0": "158",
                                    "1": "Emmen"
                                },
                                {
                                    "0": "159",
                                    "1": "Enshi"
                                },
                                {
                                    "0": "160",
                                    "1": "Erlangen"
                                },
                                {
                                    "0": "161",
                                    "1": "Escobar"
                                },
                                {
                                    "0": "162",
                                    "1": "Esfahan"
                                },
                                {
                                    "0": "163",
                                    "1": "Eskisehir"
                                },
                                {
                                    "0": "165",
                                    "1": "Ezeiza"
                                },
                                {
                                    "0": "166",
                                    "1": "Ezhou"
                                },
                                {
                                    "0": "167",
                                    "1": "Faaa"
                                },
                                {
                                    "0": "168",
                                    "1": "Fengshan"
                                },
                                {
                                    "0": "170",
                                    "1": "Florencia"
                                },
                                {
                                    "0": "171",
                                    "1": "Fontana"
                                },
                                {
                                    "0": "172",
                                    "1": "Fukuyama"
                                },
                                {
                                    "0": "173",
                                    "1": "Funafuti"
                                },
                                {
                                    "0": "174",
                                    "1": "Fuyu"
                                },
                                {
                                    "0": "175",
                                    "1": "Fuzhou"
                                },
                                {
                                    "0": "177",
                                    "1": "Garden Grove"
                                },
                                {
                                    "0": "178",
                                    "1": "Garland"
                                },
                                {
                                    "0": "179",
                                    "1": "Gatineau"
                                },
                                {
                                    "0": "180",
                                    "1": "Gaziantep"
                                },
                                {
                                    "0": "181",
                                    "1": "Gijn"
                                },
                                {
                                    "0": "182",
                                    "1": "Gingoog"
                                },
                                {
                                    "0": "183",
                                    "1": "Goinia"
                                },
                                {
                                    "0": "184",
                                    "1": "Gorontalo"
                                },
                                {
                                    "0": "185",
                                    "1": "Grand Prairie"
                                },
                                {
                                    "0": "186",
                                    "1": "Graz"
                                },
                                {
                                    "0": "187",
                                    "1": "Greensboro"
                                },
                                {
                                    "0": "188",
                                    "1": "Guadalajara"
                                },
                                {
                                    "0": "189",
                                    "1": "Guaruj"
                                },
                                {
                                    "0": "190",
                                    "1": "guas Lindas de Gois"
                                },
                                {
                                    "0": "192",
                                    "1": "Hagonoy"
                                },
                                {
                                    "0": "193",
                                    "1": "Haining"
                                },
                                {
                                    "0": "194",
                                    "1": "Haiphong"
                                },
                                {
                                    "0": "196",
                                    "1": "Halifax"
                                },
                                {
                                    "0": "198",
                                    "1": "Halle/Saale"
                                },
                                {
                                    "0": "199",
                                    "1": "Hami"
                                },
                                {
                                    "0": "200",
                                    "1": "Hamilton"
                                },
                                {
                                    "0": "201",
                                    "1": "Hanoi"
                                },
                                {
                                    "0": "202",
                                    "1": "Hidalgo"
                                },
                                {
                                    "0": "203",
                                    "1": "Higashiosaka"
                                },
                                {
                                    "0": "204",
                                    "1": "Hino"
                                },
                                {
                                    "0": "205",
                                    "1": "Hiroshima"
                                },
                                {
                                    "0": "206",
                                    "1": "Hodeida"
                                },
                                {
                                    "0": "207",
                                    "1": "Hohhot"
                                },
                                {
                                    "0": "209",
                                    "1": "Hsichuh"
                                },
                                {
                                    "0": "210",
                                    "1": "Huaian"
                                },
                                {
                                    "0": "212",
                                    "1": "Huejutla de Reyes"
                                },
                                {
                                    "0": "213",
                                    "1": "Huixquilucan"
                                },
                                {
                                    "0": "214",
                                    "1": "Hunuco"
                                },
                                {
                                    "0": "215",
                                    "1": "Ibirit"
                                },
                                {
                                    "0": "216",
                                    "1": "Idfu"
                                },
                                {
                                    "0": "217",
                                    "1": "Ife"
                                },
                                {
                                    "0": "218",
                                    "1": "Ikerre"
                                },
                                {
                                    "0": "219",
                                    "1": "Iligan"
                                },
                                {
                                    "0": "220",
                                    "1": "Ilorin"
                                },
                                {
                                    "0": "221",
                                    "1": "Imus"
                                },
                                {
                                    "0": "222",
                                    "1": "Inegl"
                                },
                                {
                                    "0": "223",
                                    "1": "Ipoh"
                                },
                                {
                                    "0": "224",
                                    "1": "Isesaki"
                                },
                                {
                                    "0": "225",
                                    "1": "Ivanovo"
                                },
                                {
                                    "0": "226",
                                    "1": "Iwaki"
                                },
                                {
                                    "0": "227",
                                    "1": "Iwakuni"
                                },
                                {
                                    "0": "228",
                                    "1": "Iwatsuki"
                                },
                                {
                                    "0": "229",
                                    "1": "Izumisano"
                                },
                                {
                                    "0": "230",
                                    "1": "Jaffna"
                                },
                                {
                                    "0": "232",
                                    "1": "Jakarta"
                                },
                                {
                                    "0": "233",
                                    "1": "Jalib al-Shuyukh"
                                },
                                {
                                    "0": "234",
                                    "1": "Jamalpur"
                                },
                                {
                                    "0": "235",
                                    "1": "Jaroslavl"
                                },
                                {
                                    "0": "236",
                                    "1": "Jastrzebie-Zdrj"
                                },
                                {
                                    "0": "237",
                                    "1": "Jedda"
                                },
                                {
                                    "0": "238",
                                    "1": "Jelets"
                                },
                                {
                                    "0": "240",
                                    "1": "Jinchang"
                                },
                                {
                                    "0": "241",
                                    "1": "Jining"
                                },
                                {
                                    "0": "242",
                                    "1": "Jinzhou"
                                },
                                {
                                    "0": "244",
                                    "1": "Johannesburg"
                                },
                                {
                                    "0": "245",
                                    "1": "Joliet"
                                },
                                {
                                    "0": "246",
                                    "1": "Jos Azueta"
                                },
                                {
                                    "0": "247",
                                    "1": "Juazeiro do Norte"
                                },
                                {
                                    "0": "248",
                                    "1": "Juiz de Fora"
                                },
                                {
                                    "0": "249",
                                    "1": "Junan"
                                },
                                {
                                    "0": "250",
                                    "1": "Jurez"
                                },
                                {
                                    "0": "251",
                                    "1": "Kabul"
                                },
                                {
                                    "0": "252",
                                    "1": "Kaduna"
                                },
                                {
                                    "0": "253",
                                    "1": "Kakamigahara"
                                },
                                {
                                    "0": "254",
                                    "1": "Kaliningrad"
                                },
                                {
                                    "0": "255",
                                    "1": "Kalisz"
                                },
                                {
                                    "0": "256",
                                    "1": "Kamakura"
                                },
                                {
                                    "0": "258",
                                    "1": "Kamjanets-Podilskyi"
                                },
                                {
                                    "0": "259",
                                    "1": "Kamyin"
                                },
                                {
                                    "0": "260",
                                    "1": "Kanazawa"
                                },
                                {
                                    "0": "262",
                                    "1": "Kansas City"
                                },
                                {
                                    "0": "265",
                                    "1": "Kermanshah"
                                },
                                {
                                    "0": "266",
                                    "1": "Kilis"
                                },
                                {
                                    "0": "267",
                                    "1": "Kimberley"
                                },
                                {
                                    "0": "268",
                                    "1": "Kimchon"
                                },
                                {
                                    "0": "269",
                                    "1": "Kingstown"
                                },
                                {
                                    "0": "270",
                                    "1": "Kirovo-Tepetsk"
                                },
                                {
                                    "0": "271",
                                    "1": "Kisumu"
                                },
                                {
                                    "0": "272",
                                    "1": "Kitwe"
                                },
                                {
                                    "0": "273",
                                    "1": "Klerksdorp"
                                },
                                {
                                    "0": "274",
                                    "1": "Kolpino"
                                },
                                {
                                    "0": "275",
                                    "1": "Konotop"
                                },
                                {
                                    "0": "276",
                                    "1": "Koriyama"
                                },
                                {
                                    "0": "277",
                                    "1": "Korla"
                                },
                                {
                                    "0": "278",
                                    "1": "Korolev"
                                },
                                {
                                    "0": "279",
                                    "1": "Kowloon and New Kowloon"
                                },
                                {
                                    "0": "280",
                                    "1": "Kragujevac"
                                },
                                {
                                    "0": "281",
                                    "1": "Ktahya"
                                },
                                {
                                    "0": "282",
                                    "1": "Kuching"
                                },
                                {
                                    "0": "284",
                                    "1": "Kurashiki"
                                },
                                {
                                    "0": "285",
                                    "1": "Kurgan"
                                },
                                {
                                    "0": "286",
                                    "1": "Kursk"
                                },
                                {
                                    "0": "287",
                                    "1": "Kuwana"
                                },
                                {
                                    "0": "288",
                                    "1": "La Paz"
                                },
                                {
                                    "0": "289",
                                    "1": "La Plata"
                                },
                                {
                                    "0": "290",
                                    "1": "La Romana"
                                },
                                {
                                    "0": "291",
                                    "1": "Laiwu"
                                },
                                {
                                    "0": "292",
                                    "1": "Lancaster"
                                },
                                {
                                    "0": "293",
                                    "1": "Laohekou"
                                },
                                {
                                    "0": "294",
                                    "1": "Lapu-Lapu"
                                },
                                {
                                    "0": "295",
                                    "1": "Laredo"
                                },
                                {
                                    "0": "296",
                                    "1": "Lausanne"
                                },
                                {
                                    "0": "297",
                                    "1": "Le Mans"
                                },
                                {
                                    "0": "298",
                                    "1": "Lengshuijiang"
                                },
                                {
                                    "0": "299",
                                    "1": "Leshan"
                                },
                                {
                                    "0": "300",
                                    "1": "Lethbridge"
                                },
                                {
                                    "0": "301",
                                    "1": "Lhokseumawe"
                                },
                                {
                                    "0": "302",
                                    "1": "Liaocheng"
                                },
                                {
                                    "0": "303",
                                    "1": "Liepaja"
                                },
                                {
                                    "0": "304",
                                    "1": "Lilongwe"
                                },
                                {
                                    "0": "305",
                                    "1": "Lima"
                                },
                                {
                                    "0": "306",
                                    "1": "Lincoln"
                                },
                                {
                                    "0": "307",
                                    "1": "Linz"
                                },
                                {
                                    "0": "308",
                                    "1": "Lipetsk"
                                },
                                {
                                    "0": "309",
                                    "1": "Livorno"
                                },
                                {
                                    "0": "310",
                                    "1": "Ljubertsy"
                                },
                                {
                                    "0": "311",
                                    "1": "Loja"
                                },
                                {
                                    "0": "312",
                                    "1": "London"
                                },
                                {
                                    "0": "313",
                                    "1": "London"
                                },
                                {
                                    "0": "314",
                                    "1": "Lublin"
                                },
                                {
                                    "0": "315",
                                    "1": "Lubumbashi"
                                },
                                {
                                    "0": "316",
                                    "1": "Lungtan"
                                },
                                {
                                    "0": "317",
                                    "1": "Luzinia"
                                },
                                {
                                    "0": "318",
                                    "1": "Madiun"
                                },
                                {
                                    "0": "319",
                                    "1": "Mahajanga"
                                },
                                {
                                    "0": "320",
                                    "1": "Maikop"
                                },
                                {
                                    "0": "321",
                                    "1": "Malm"
                                },
                                {
                                    "0": "322",
                                    "1": "Manchester"
                                },
                                {
                                    "0": "323",
                                    "1": "Mandaluyong"
                                },
                                {
                                    "0": "324",
                                    "1": "Mandi Bahauddin"
                                },
                                {
                                    "0": "325",
                                    "1": "Mannheim"
                                },
                                {
                                    "0": "326",
                                    "1": "Maracabo"
                                },
                                {
                                    "0": "327",
                                    "1": "Mardan"
                                },
                                {
                                    "0": "328",
                                    "1": "Maring"
                                },
                                {
                                    "0": "329",
                                    "1": "Masqat"
                                },
                                {
                                    "0": "330",
                                    "1": "Matamoros"
                                },
                                {
                                    "0": "331",
                                    "1": "Matsue"
                                },
                                {
                                    "0": "332",
                                    "1": "Meixian"
                                },
                                {
                                    "0": "333",
                                    "1": "Memphis"
                                },
                                {
                                    "0": "334",
                                    "1": "Merlo"
                                },
                                {
                                    "0": "335",
                                    "1": "Mexicali"
                                },
                                {
                                    "0": "337",
                                    "1": "Mit Ghamr"
                                },
                                {
                                    "0": "338",
                                    "1": "Miyakonojo"
                                },
                                {
                                    "0": "339",
                                    "1": "Mogiljov"
                                },
                                {
                                    "0": "340",
                                    "1": "Molodetno"
                                },
                                {
                                    "0": "341",
                                    "1": "Monclova"
                                },
                                {
                                    "0": "342",
                                    "1": "Monywa"
                                },
                                {
                                    "0": "343",
                                    "1": "Moscow"
                                },
                                {
                                    "0": "344",
                                    "1": "Mosul"
                                },
                                {
                                    "0": "345",
                                    "1": "Mukateve"
                                },
                                {
                                    "0": "347",
                                    "1": "Mwanza"
                                },
                                {
                                    "0": "348",
                                    "1": "Mwene-Ditu"
                                },
                                {
                                    "0": "349",
                                    "1": "Myingyan"
                                },
                                {
                                    "0": "351",
                                    "1": "Naala-Porto"
                                },
                                {
                                    "0": "352",
                                    "1": "Nabereznyje Telny"
                                },
                                {
                                    "0": "353",
                                    "1": "Nador"
                                },
                                {
                                    "0": "355",
                                    "1": "Nagareyama"
                                },
                                {
                                    "0": "356",
                                    "1": "Najafabad"
                                },
                                {
                                    "0": "357",
                                    "1": "Naju"
                                },
                                {
                                    "0": "358",
                                    "1": "Nakhon Sawan"
                                },
                                {
                                    "0": "359",
                                    "1": "Nam Dinh"
                                },
                                {
                                    "0": "360",
                                    "1": "Namibe"
                                },
                                {
                                    "0": "361",
                                    "1": "Nantou"
                                },
                                {
                                    "0": "362",
                                    "1": "Nanyang"
                                },
                                {
                                    "0": "363",
                                    "1": "NDjamna"
                                },
                                {
                                    "0": "364",
                                    "1": "Newcastle"
                                },
                                {
                                    "0": "365",
                                    "1": "Nezahualcyotl"
                                },
                                {
                                    "0": "366",
                                    "1": "Nha Trang"
                                },
                                {
                                    "0": "367",
                                    "1": "Niznekamsk"
                                },
                                {
                                    "0": "368",
                                    "1": "Novi Sad"
                                },
                                {
                                    "0": "369",
                                    "1": "Novoterkassk"
                                },
                                {
                                    "0": "370",
                                    "1": "Nukualofa"
                                },
                                {
                                    "0": "371",
                                    "1": "Nuuk"
                                },
                                {
                                    "0": "372",
                                    "1": "Nyeri"
                                },
                                {
                                    "0": "373",
                                    "1": "Ocumare del Tuy"
                                },
                                {
                                    "0": "374",
                                    "1": "Ogbomosho"
                                },
                                {
                                    "0": "375",
                                    "1": "Okara"
                                },
                                {
                                    "0": "376",
                                    "1": "Okayama"
                                },
                                {
                                    "0": "377",
                                    "1": "Okinawa"
                                },
                                {
                                    "0": "378",
                                    "1": "Olomouc"
                                },
                                {
                                    "0": "379",
                                    "1": "Omdurman"
                                },
                                {
                                    "0": "380",
                                    "1": "Omiya"
                                },
                                {
                                    "0": "381",
                                    "1": "Ondo"
                                },
                                {
                                    "0": "382",
                                    "1": "Onomichi"
                                },
                                {
                                    "0": "383",
                                    "1": "Oshawa"
                                },
                                {
                                    "0": "384",
                                    "1": "Osmaniye"
                                },
                                {
                                    "0": "385",
                                    "1": "ostka"
                                },
                                {
                                    "0": "386",
                                    "1": "Otsu"
                                },
                                {
                                    "0": "387",
                                    "1": "Oulu"
                                },
                                {
                                    "0": "388",
                                    "1": "Ourense (Orense)"
                                },
                                {
                                    "0": "389",
                                    "1": "Owo"
                                },
                                {
                                    "0": "390",
                                    "1": "Oyo"
                                },
                                {
                                    "0": "391",
                                    "1": "Ozamis"
                                },
                                {
                                    "0": "392",
                                    "1": "Paarl"
                                },
                                {
                                    "0": "393",
                                    "1": "Pachuca de Soto"
                                },
                                {
                                    "0": "394",
                                    "1": "Pak Kret"
                                },
                                {
                                    "0": "396",
                                    "1": "Pangkal Pinang"
                                },
                                {
                                    "0": "397",
                                    "1": "Papeete"
                                },
                                {
                                    "0": "401",
                                    "1": "Patras"
                                },
                                {
                                    "0": "402",
                                    "1": "Pavlodar"
                                },
                                {
                                    "0": "403",
                                    "1": "Pemalang"
                                },
                                {
                                    "0": "404",
                                    "1": "Peoria"
                                },
                                {
                                    "0": "405",
                                    "1": "Pereira"
                                },
                                {
                                    "0": "406",
                                    "1": "Phnom Penh"
                                },
                                {
                                    "0": "407",
                                    "1": "Pingxiang"
                                },
                                {
                                    "0": "408",
                                    "1": "Pjatigorsk"
                                },
                                {
                                    "0": "409",
                                    "1": "Plock"
                                },
                                {
                                    "0": "410",
                                    "1": "Po"
                                },
                                {
                                    "0": "411",
                                    "1": "Ponce"
                                },
                                {
                                    "0": "412",
                                    "1": "Pontianak"
                                },
                                {
                                    "0": "413",
                                    "1": "Poos de Caldas"
                                },
                                {
                                    "0": "414",
                                    "1": "Portoviejo"
                                },
                                {
                                    "0": "415",
                                    "1": "Probolinggo"
                                },
                                {
                                    "0": "419",
                                    "1": "Purwakarta"
                                },
                                {
                                    "0": "420",
                                    "1": "Pyongyang"
                                },
                                {
                                    "0": "421",
                                    "1": "Qalyub"
                                },
                                {
                                    "0": "422",
                                    "1": "Qinhuangdao"
                                },
                                {
                                    "0": "423",
                                    "1": "Qomsheh"
                                },
                                {
                                    "0": "424",
                                    "1": "Quilmes"
                                },
                                {
                                    "0": "428",
                                    "1": "Rancagua"
                                },
                                {
                                    "0": "430",
                                    "1": "Richmond Hill"
                                },
                                {
                                    "0": "431",
                                    "1": "Rio Claro"
                                },
                                {
                                    "0": "432",
                                    "1": "Rizhao"
                                },
                                {
                                    "0": "433",
                                    "1": "Roanoke"
                                },
                                {
                                    "0": "434",
                                    "1": "Robamba"
                                },
                                {
                                    "0": "435",
                                    "1": "Rockford"
                                },
                                {
                                    "0": "436",
                                    "1": "Ruse"
                                },
                                {
                                    "0": "437",
                                    "1": "Rustenburg"
                                },
                                {
                                    "0": "438",
                                    "1": "s-Hertogenbosch"
                                },
                                {
                                    "0": "439",
                                    "1": "Saarbrcken"
                                },
                                {
                                    "0": "440",
                                    "1": "Sagamihara"
                                },
                                {
                                    "0": "441",
                                    "1": "Saint Louis"
                                },
                                {
                                    "0": "442",
                                    "1": "Saint-Denis"
                                },
                                {
                                    "0": "443",
                                    "1": "Sal"
                                },
                                {
                                    "0": "444",
                                    "1": "Salala"
                                },
                                {
                                    "0": "445",
                                    "1": "Salamanca"
                                },
                                {
                                    "0": "446",
                                    "1": "Salinas"
                                },
                                {
                                    "0": "447",
                                    "1": "Salzburg"
                                },
                                {
                                    "0": "449",
                                    "1": "San Bernardino"
                                },
                                {
                                    "0": "450",
                                    "1": "San Felipe de Puerto Plata"
                                },
                                {
                                    "0": "451",
                                    "1": "San Felipe del Progreso"
                                },
                                {
                                    "0": "452",
                                    "1": "San Juan Bautista Tuxtepec"
                                },
                                {
                                    "0": "453",
                                    "1": "San Lorenzo"
                                },
                                {
                                    "0": "454",
                                    "1": "San Miguel de Tucumn"
                                },
                                {
                                    "0": "455",
                                    "1": "Sanaa"
                                },
                                {
                                    "0": "456",
                                    "1": "Santa Brbara dOeste"
                                },
                                {
                                    "0": "457",
                                    "1": "Santa F"
                                },
                                {
                                    "0": "458",
                                    "1": "Santa Rosa"
                                },
                                {
                                    "0": "459",
                                    "1": "Santiago de Compostela"
                                },
                                {
                                    "0": "460",
                                    "1": "Santiago de los Caballeros"
                                },
                                {
                                    "0": "461",
                                    "1": "Santo Andr"
                                },
                                {
                                    "0": "462",
                                    "1": "Sanya"
                                },
                                {
                                    "0": "463",
                                    "1": "Sasebo"
                                },
                                {
                                    "0": "465",
                                    "1": "Sawhaj"
                                },
                                {
                                    "0": "466",
                                    "1": "Serpuhov"
                                },
                                {
                                    "0": "467",
                                    "1": "Shahr-e Kord"
                                },
                                {
                                    "0": "468",
                                    "1": "Shanwei"
                                },
                                {
                                    "0": "469",
                                    "1": "Shaoguan"
                                },
                                {
                                    "0": "470",
                                    "1": "Sharja"
                                },
                                {
                                    "0": "471",
                                    "1": "Shenzhen"
                                },
                                {
                                    "0": "472",
                                    "1": "Shikarpur"
                                },
                                {
                                    "0": "474",
                                    "1": "Shimonoseki"
                                },
                                {
                                    "0": "476",
                                    "1": "Shubra al-Khayma"
                                },
                                {
                                    "0": "477",
                                    "1": "Siegen"
                                },
                                {
                                    "0": "479",
                                    "1": "Simferopol"
                                },
                                {
                                    "0": "480",
                                    "1": "Sincelejo"
                                },
                                {
                                    "0": "481",
                                    "1": "Sirjan"
                                },
                                {
                                    "0": "482",
                                    "1": "Sivas"
                                },
                                {
                                    "0": "483",
                                    "1": "Skikda"
                                },
                                {
                                    "0": "484",
                                    "1": "Smolensk"
                                },
                                {
                                    "0": "485",
                                    "1": "So Bernardo do Campo"
                                },
                                {
                                    "0": "486",
                                    "1": "So Leopoldo"
                                },
                                {
                                    "0": "487",
                                    "1": "Sogamoso"
                                },
                                {
                                    "0": "488",
                                    "1": "Sokoto"
                                },
                                {
                                    "0": "489",
                                    "1": "Songkhla"
                                },
                                {
                                    "0": "490",
                                    "1": "Sorocaba"
                                },
                                {
                                    "0": "491",
                                    "1": "Soshanguve"
                                },
                                {
                                    "0": "492",
                                    "1": "Sousse"
                                },
                                {
                                    "0": "493",
                                    "1": "South Hill"
                                },
                                {
                                    "0": "494",
                                    "1": "Southampton"
                                },
                                {
                                    "0": "495",
                                    "1": "Southend-on-Sea"
                                },
                                {
                                    "0": "496",
                                    "1": "Southport"
                                },
                                {
                                    "0": "497",
                                    "1": "Springs"
                                },
                                {
                                    "0": "498",
                                    "1": "Stara Zagora"
                                },
                                {
                                    "0": "499",
                                    "1": "Sterling Heights"
                                },
                                {
                                    "0": "500",
                                    "1": "Stockport"
                                },
                                {
                                    "0": "501",
                                    "1": "Sucre"
                                },
                                {
                                    "0": "502",
                                    "1": "Suihua"
                                },
                                {
                                    "0": "503",
                                    "1": "Sullana"
                                },
                                {
                                    "0": "504",
                                    "1": "Sultanbeyli"
                                },
                                {
                                    "0": "505",
                                    "1": "Sumqayit"
                                },
                                {
                                    "0": "506",
                                    "1": "Sumy"
                                },
                                {
                                    "0": "507",
                                    "1": "Sungai Petani"
                                },
                                {
                                    "0": "508",
                                    "1": "Sunnyvale"
                                },
                                {
                                    "0": "509",
                                    "1": "Surakarta"
                                },
                                {
                                    "0": "510",
                                    "1": "Syktyvkar"
                                },
                                {
                                    "0": "511",
                                    "1": "Syrakusa"
                                },
                                {
                                    "0": "512",
                                    "1": "Szkesfehrvr"
                                },
                                {
                                    "0": "513",
                                    "1": "Tabora"
                                },
                                {
                                    "0": "514",
                                    "1": "Tabriz"
                                },
                                {
                                    "0": "515",
                                    "1": "Tabuk"
                                },
                                {
                                    "0": "516",
                                    "1": "Tafuna"
                                },
                                {
                                    "0": "517",
                                    "1": "Taguig"
                                },
                                {
                                    "0": "518",
                                    "1": "Taizz"
                                },
                                {
                                    "0": "519",
                                    "1": "Talavera"
                                },
                                {
                                    "0": "520",
                                    "1": "Tallahassee"
                                },
                                {
                                    "0": "521",
                                    "1": "Tama"
                                },
                                {
                                    "0": "523",
                                    "1": "Tanauan"
                                },
                                {
                                    "0": "524",
                                    "1": "Tandil"
                                },
                                {
                                    "0": "525",
                                    "1": "Tangail"
                                },
                                {
                                    "0": "526",
                                    "1": "Tanshui"
                                },
                                {
                                    "0": "527",
                                    "1": "Tanza"
                                },
                                {
                                    "0": "528",
                                    "1": "Tarlac"
                                },
                                {
                                    "0": "529",
                                    "1": "Tarsus"
                                },
                                {
                                    "0": "530",
                                    "1": "Tartu"
                                },
                                {
                                    "0": "531",
                                    "1": "Teboksary"
                                },
                                {
                                    "0": "532",
                                    "1": "Tegal"
                                },
                                {
                                    "0": "533",
                                    "1": "Tel Aviv-Jaffa"
                                },
                                {
                                    "0": "534",
                                    "1": "Tete"
                                },
                                {
                                    "0": "535",
                                    "1": "Tianjin"
                                },
                                {
                                    "0": "536",
                                    "1": "Tiefa"
                                },
                                {
                                    "0": "537",
                                    "1": "Tieli"
                                },
                                {
                                    "0": "538",
                                    "1": "Tokat"
                                },
                                {
                                    "0": "539",
                                    "1": "Tonghae"
                                },
                                {
                                    "0": "540",
                                    "1": "Tongliao"
                                },
                                {
                                    "0": "541",
                                    "1": "Torren"
                                },
                                {
                                    "0": "542",
                                    "1": "Touliu"
                                },
                                {
                                    "0": "543",
                                    "1": "Toulon"
                                },
                                {
                                    "0": "544",
                                    "1": "Toulouse"
                                },
                                {
                                    "0": "545",
                                    "1": "Trshavn"
                                },
                                {
                                    "0": "546",
                                    "1": "Tsaotun"
                                },
                                {
                                    "0": "547",
                                    "1": "Tsuyama"
                                },
                                {
                                    "0": "548",
                                    "1": "Tuguegarao"
                                },
                                {
                                    "0": "549",
                                    "1": "Tychy"
                                },
                                {
                                    "0": "551",
                                    "1": "Udine"
                                },
                                {
                                    "0": "552",
                                    "1": "Ueda"
                                },
                                {
                                    "0": "553",
                                    "1": "Uijongbu"
                                },
                                {
                                    "0": "555",
                                    "1": "Urawa"
                                },
                                {
                                    "0": "556",
                                    "1": "Uruapan"
                                },
                                {
                                    "0": "557",
                                    "1": "Usak"
                                },
                                {
                                    "0": "558",
                                    "1": "Usolje-Sibirskoje"
                                },
                                {
                                    "0": "560",
                                    "1": "Vaduz"
                                },
                                {
                                    "0": "561",
                                    "1": "Valencia"
                                },
                                {
                                    "0": "562",
                                    "1": "Valle de la Pascua"
                                },
                                {
                                    "0": "563",
                                    "1": "Valle de Santiago"
                                },
                                {
                                    "0": "565",
                                    "1": "Vancouver"
                                },
                                {
                                    "0": "567",
                                    "1": "Vicente Lpez"
                                },
                                {
                                    "0": "569",
                                    "1": "Vila Velha"
                                },
                                {
                                    "0": "570",
                                    "1": "Vilnius"
                                },
                                {
                                    "0": "571",
                                    "1": "Vinh"
                                },
                                {
                                    "0": "572",
                                    "1": "Vitria de Santo Anto"
                                },
                                {
                                    "0": "573",
                                    "1": "Warren"
                                },
                                {
                                    "0": "574",
                                    "1": "Weifang"
                                },
                                {
                                    "0": "575",
                                    "1": "Witten"
                                },
                                {
                                    "0": "576",
                                    "1": "Woodridge"
                                },
                                {
                                    "0": "577",
                                    "1": "Wroclaw"
                                },
                                {
                                    "0": "578",
                                    "1": "Xiangfan"
                                },
                                {
                                    "0": "579",
                                    "1": "Xiangtan"
                                },
                                {
                                    "0": "580",
                                    "1": "Xintai"
                                },
                                {
                                    "0": "581",
                                    "1": "Xinxiang"
                                },
                                {
                                    "0": "583",
                                    "1": "Yangor"
                                },
                                {
                                    "0": "584",
                                    "1": "Yantai"
                                },
                                {
                                    "0": "585",
                                    "1": "Yaound"
                                },
                                {
                                    "0": "586",
                                    "1": "Yerevan"
                                },
                                {
                                    "0": "587",
                                    "1": "Yinchuan"
                                },
                                {
                                    "0": "588",
                                    "1": "Yingkou"
                                },
                                {
                                    "0": "589",
                                    "1": "York"
                                },
                                {
                                    "0": "590",
                                    "1": "Yuncheng"
                                },
                                {
                                    "0": "591",
                                    "1": "Yuzhou"
                                },
                                {
                                    "0": "592",
                                    "1": "Zalantun"
                                },
                                {
                                    "0": "593",
                                    "1": "Zanzibar"
                                },
                                {
                                    "0": "594",
                                    "1": "Zaoyang"
                                },
                                {
                                    "0": "595",
                                    "1": "Zapopan"
                                },
                                {
                                    "0": "596",
                                    "1": "Zaria"
                                },
                                {
                                    "0": "597",
                                    "1": "Zeleznogorsk"
                                },
                                {
                                    "0": "598",
                                    "1": "Zhezqazghan"
                                },
                                {
                                    "0": "599",
                                    "1": "Zhoushan"
                                },
                                {
                                    "0": "600",
                                    "1": "Ziguinchor"
                                }
                            ]
                        },
                        "text/html": [
                            "<table>",
                            "<tr><th>city_id</th><th>city</th></tr>",
                            "<tr><td>1</td><td>A Corua (La Corua)</td></tr>",
                            "<tr><td>2</td><td>Abha</td></tr>",
                            "<tr><td>3</td><td>Abu Dhabi</td></tr>",
                            "<tr><td>4</td><td>Acua</td></tr>",
                            "<tr><td>5</td><td>Adana</td></tr>",
                            "<tr><td>6</td><td>Addis Abeba</td></tr>",
                            "<tr><td>7</td><td>Aden</td></tr>",
                            "<tr><td>10</td><td>Akishima</td></tr>",
                            "<tr><td>11</td><td>Akron</td></tr>",
                            "<tr><td>12</td><td>al-Ayn</td></tr>",
                            "<tr><td>13</td><td>al-Hawiya</td></tr>",
                            "<tr><td>14</td><td>al-Manama</td></tr>",
                            "<tr><td>15</td><td>al-Qadarif</td></tr>",
                            "<tr><td>16</td><td>al-Qatif</td></tr>",
                            "<tr><td>17</td><td>Alessandria</td></tr>",
                            "<tr><td>19</td><td>Allende</td></tr>",
                            "<tr><td>20</td><td>Almirante Brown</td></tr>",
                            "<tr><td>21</td><td>Alvorada</td></tr>",
                            "<tr><td>23</td><td>Amersfoort</td></tr>",
                            "<tr><td>25</td><td>Angra dos Reis</td></tr>",
                            "<tr><td>26</td><td>Anpolis</td></tr>",
                            "<tr><td>27</td><td>Antofagasta</td></tr>",
                            "<tr><td>28</td><td>Aparecida de Goinia</td></tr>",
                            "<tr><td>29</td><td>Apeldoorn</td></tr>",
                            "<tr><td>30</td><td>Araatuba</td></tr>",
                            "<tr><td>31</td><td>Arak</td></tr>",
                            "<tr><td>32</td><td>Arecibo</td></tr>",
                            "<tr><td>33</td><td>Arlington</td></tr>",
                            "<tr><td>34</td><td>Ashdod</td></tr>",
                            "<tr><td>35</td><td>Ashgabat</td></tr>",
                            "<tr><td>36</td><td>Ashqelon</td></tr>",
                            "<tr><td>37</td><td>Asuncin</td></tr>",
                            "<tr><td>38</td><td>Athenai</td></tr>",
                            "<tr><td>39</td><td>Atinsk</td></tr>",
                            "<tr><td>40</td><td>Atlixco</td></tr>",
                            "<tr><td>41</td><td>Augusta-Richmond County</td></tr>",
                            "<tr><td>42</td><td>Aurora</td></tr>",
                            "<tr><td>43</td><td>Avellaneda</td></tr>",
                            "<tr><td>44</td><td>Bag</td></tr>",
                            "<tr><td>45</td><td>Baha Blanca</td></tr>",
                            "<tr><td>46</td><td>Baicheng</td></tr>",
                            "<tr><td>47</td><td>Baiyin</td></tr>",
                            "<tr><td>48</td><td>Baku</td></tr>",
                            "<tr><td>49</td><td>Balaiha</td></tr>",
                            "<tr><td>50</td><td>Balikesir</td></tr>",
                            "<tr><td>52</td><td>Bamenda</td></tr>",
                            "<tr><td>53</td><td>Bandar Seri Begawan</td></tr>",
                            "<tr><td>54</td><td>Banjul</td></tr>",
                            "<tr><td>55</td><td>Barcelona</td></tr>",
                            "<tr><td>56</td><td>Basel</td></tr>",
                            "<tr><td>57</td><td>Bat Yam</td></tr>",
                            "<tr><td>58</td><td>Batman</td></tr>",
                            "<tr><td>59</td><td>Batna</td></tr>",
                            "<tr><td>60</td><td>Battambang</td></tr>",
                            "<tr><td>61</td><td>Baybay</td></tr>",
                            "<tr><td>62</td><td>Bayugan</td></tr>",
                            "<tr><td>63</td><td>Bchar</td></tr>",
                            "<tr><td>64</td><td>Beira</td></tr>",
                            "<tr><td>65</td><td>Bellevue</td></tr>",
                            "<tr><td>66</td><td>Belm</td></tr>",
                            "<tr><td>67</td><td>Benguela</td></tr>",
                            "<tr><td>68</td><td>Beni-Mellal</td></tr>",
                            "<tr><td>69</td><td>Benin City</td></tr>",
                            "<tr><td>70</td><td>Bergamo</td></tr>",
                            "<tr><td>72</td><td>Bern</td></tr>",
                            "<tr><td>79</td><td>Bilbays</td></tr>",
                            "<tr><td>80</td><td>Binzhou</td></tr>",
                            "<tr><td>81</td><td>Birgunj</td></tr>",
                            "<tr><td>82</td><td>Bislig</td></tr>",
                            "<tr><td>83</td><td>Blumenau</td></tr>",
                            "<tr><td>84</td><td>Boa Vista</td></tr>",
                            "<tr><td>85</td><td>Boksburg</td></tr>",
                            "<tr><td>86</td><td>Botosani</td></tr>",
                            "<tr><td>87</td><td>Botshabelo</td></tr>",
                            "<tr><td>88</td><td>Bradford</td></tr>",
                            "<tr><td>89</td><td>Braslia</td></tr>",
                            "<tr><td>90</td><td>Bratislava</td></tr>",
                            "<tr><td>91</td><td>Brescia</td></tr>",
                            "<tr><td>92</td><td>Brest</td></tr>",
                            "<tr><td>93</td><td>Brindisi</td></tr>",
                            "<tr><td>94</td><td>Brockton</td></tr>",
                            "<tr><td>95</td><td>Bucuresti</td></tr>",
                            "<tr><td>96</td><td>Buenaventura</td></tr>",
                            "<tr><td>97</td><td>Bydgoszcz</td></tr>",
                            "<tr><td>98</td><td>Cabuyao</td></tr>",
                            "<tr><td>99</td><td>Callao</td></tr>",
                            "<tr><td>100</td><td>Cam Ranh</td></tr>",
                            "<tr><td>101</td><td>Cape Coral</td></tr>",
                            "<tr><td>102</td><td>Caracas</td></tr>",
                            "<tr><td>103</td><td>Carmen</td></tr>",
                            "<tr><td>104</td><td>Cavite</td></tr>",
                            "<tr><td>105</td><td>Cayenne</td></tr>",
                            "<tr><td>106</td><td>Celaya</td></tr>",
                            "<tr><td>108</td><td>Changhwa</td></tr>",
                            "<tr><td>109</td><td>Changzhou</td></tr>",
                            "<tr><td>111</td><td>Charlotte Amalie</td></tr>",
                            "<tr><td>112</td><td>Chatsworth</td></tr>",
                            "<tr><td>113</td><td>Cheju</td></tr>",
                            "<tr><td>114</td><td>Chiayi</td></tr>",
                            "<tr><td>115</td><td>Chisinau</td></tr>",
                            "<tr><td>116</td><td>Chungho</td></tr>",
                            "<tr><td>117</td><td>Cianjur</td></tr>",
                            "<tr><td>118</td><td>Ciomas</td></tr>",
                            "<tr><td>119</td><td>Ciparay</td></tr>",
                            "<tr><td>120</td><td>Citrus Heights</td></tr>",
                            "<tr><td>121</td><td>Citt del Vaticano</td></tr>",
                            "<tr><td>122</td><td>Ciudad del Este</td></tr>",
                            "<tr><td>123</td><td>Clarksville</td></tr>",
                            "<tr><td>124</td><td>Coacalco de Berriozbal</td></tr>",
                            "<tr><td>125</td><td>Coatzacoalcos</td></tr>",
                            "<tr><td>126</td><td>Compton</td></tr>",
                            "<tr><td>127</td><td>Coquimbo</td></tr>",
                            "<tr><td>128</td><td>Crdoba</td></tr>",
                            "<tr><td>129</td><td>Cuauhtmoc</td></tr>",
                            "<tr><td>130</td><td>Cuautla</td></tr>",
                            "<tr><td>131</td><td>Cuernavaca</td></tr>",
                            "<tr><td>132</td><td>Cuman</td></tr>",
                            "<tr><td>133</td><td>Czestochowa</td></tr>",
                            "<tr><td>134</td><td>Dadu</td></tr>",
                            "<tr><td>135</td><td>Dallas</td></tr>",
                            "<tr><td>136</td><td>Datong</td></tr>",
                            "<tr><td>137</td><td>Daugavpils</td></tr>",
                            "<tr><td>138</td><td>Davao</td></tr>",
                            "<tr><td>139</td><td>Daxian</td></tr>",
                            "<tr><td>140</td><td>Dayton</td></tr>",
                            "<tr><td>141</td><td>Deba Habe</td></tr>",
                            "<tr><td>142</td><td>Denizli</td></tr>",
                            "<tr><td>143</td><td>Dhaka</td></tr>",
                            "<tr><td>145</td><td>Dongying</td></tr>",
                            "<tr><td>146</td><td>Donostia-San Sebastin</td></tr>",
                            "<tr><td>147</td><td>Dos Quebradas</td></tr>",
                            "<tr><td>148</td><td>Duisburg</td></tr>",
                            "<tr><td>149</td><td>Dundee</td></tr>",
                            "<tr><td>150</td><td>Dzerzinsk</td></tr>",
                            "<tr><td>151</td><td>Ede</td></tr>",
                            "<tr><td>152</td><td>Effon-Alaiye</td></tr>",
                            "<tr><td>153</td><td>El Alto</td></tr>",
                            "<tr><td>154</td><td>El Fuerte</td></tr>",
                            "<tr><td>155</td><td>El Monte</td></tr>",
                            "<tr><td>156</td><td>Elista</td></tr>",
                            "<tr><td>157</td><td>Emeishan</td></tr>",
                            "<tr><td>158</td><td>Emmen</td></tr>",
                            "<tr><td>159</td><td>Enshi</td></tr>",
                            "<tr><td>160</td><td>Erlangen</td></tr>",
                            "<tr><td>161</td><td>Escobar</td></tr>",
                            "<tr><td>162</td><td>Esfahan</td></tr>",
                            "<tr><td>163</td><td>Eskisehir</td></tr>",
                            "<tr><td>165</td><td>Ezeiza</td></tr>",
                            "<tr><td>166</td><td>Ezhou</td></tr>",
                            "<tr><td>167</td><td>Faaa</td></tr>",
                            "<tr><td>168</td><td>Fengshan</td></tr>",
                            "<tr><td>170</td><td>Florencia</td></tr>",
                            "<tr><td>171</td><td>Fontana</td></tr>",
                            "<tr><td>172</td><td>Fukuyama</td></tr>",
                            "<tr><td>173</td><td>Funafuti</td></tr>",
                            "<tr><td>174</td><td>Fuyu</td></tr>",
                            "<tr><td>175</td><td>Fuzhou</td></tr>",
                            "<tr><td>177</td><td>Garden Grove</td></tr>",
                            "<tr><td>178</td><td>Garland</td></tr>",
                            "<tr><td>179</td><td>Gatineau</td></tr>",
                            "<tr><td>180</td><td>Gaziantep</td></tr>",
                            "<tr><td>181</td><td>Gijn</td></tr>",
                            "<tr><td>182</td><td>Gingoog</td></tr>",
                            "<tr><td>183</td><td>Goinia</td></tr>",
                            "<tr><td>184</td><td>Gorontalo</td></tr>",
                            "<tr><td>185</td><td>Grand Prairie</td></tr>",
                            "<tr><td>186</td><td>Graz</td></tr>",
                            "<tr><td>187</td><td>Greensboro</td></tr>",
                            "<tr><td>188</td><td>Guadalajara</td></tr>",
                            "<tr><td>189</td><td>Guaruj</td></tr>",
                            "<tr><td>190</td><td>guas Lindas de Gois</td></tr>",
                            "<tr><td>192</td><td>Hagonoy</td></tr>",
                            "<tr><td>193</td><td>Haining</td></tr>",
                            "<tr><td>194</td><td>Haiphong</td></tr>",
                            "<tr><td>196</td><td>Halifax</td></tr>",
                            "<tr><td>198</td><td>Halle/Saale</td></tr>",
                            "<tr><td>199</td><td>Hami</td></tr>",
                            "<tr><td>200</td><td>Hamilton</td></tr>",
                            "<tr><td>201</td><td>Hanoi</td></tr>",
                            "<tr><td>202</td><td>Hidalgo</td></tr>",
                            "<tr><td>203</td><td>Higashiosaka</td></tr>",
                            "<tr><td>204</td><td>Hino</td></tr>",
                            "<tr><td>205</td><td>Hiroshima</td></tr>",
                            "<tr><td>206</td><td>Hodeida</td></tr>",
                            "<tr><td>207</td><td>Hohhot</td></tr>",
                            "<tr><td>209</td><td>Hsichuh</td></tr>",
                            "<tr><td>210</td><td>Huaian</td></tr>",
                            "<tr><td>212</td><td>Huejutla de Reyes</td></tr>",
                            "<tr><td>213</td><td>Huixquilucan</td></tr>",
                            "<tr><td>214</td><td>Hunuco</td></tr>",
                            "<tr><td>215</td><td>Ibirit</td></tr>",
                            "<tr><td>216</td><td>Idfu</td></tr>",
                            "<tr><td>217</td><td>Ife</td></tr>",
                            "<tr><td>218</td><td>Ikerre</td></tr>",
                            "<tr><td>219</td><td>Iligan</td></tr>",
                            "<tr><td>220</td><td>Ilorin</td></tr>",
                            "<tr><td>221</td><td>Imus</td></tr>",
                            "<tr><td>222</td><td>Inegl</td></tr>",
                            "<tr><td>223</td><td>Ipoh</td></tr>",
                            "<tr><td>224</td><td>Isesaki</td></tr>",
                            "<tr><td>225</td><td>Ivanovo</td></tr>",
                            "<tr><td>226</td><td>Iwaki</td></tr>",
                            "<tr><td>227</td><td>Iwakuni</td></tr>",
                            "<tr><td>228</td><td>Iwatsuki</td></tr>",
                            "<tr><td>229</td><td>Izumisano</td></tr>",
                            "<tr><td>230</td><td>Jaffna</td></tr>",
                            "<tr><td>232</td><td>Jakarta</td></tr>",
                            "<tr><td>233</td><td>Jalib al-Shuyukh</td></tr>",
                            "<tr><td>234</td><td>Jamalpur</td></tr>",
                            "<tr><td>235</td><td>Jaroslavl</td></tr>",
                            "<tr><td>236</td><td>Jastrzebie-Zdrj</td></tr>",
                            "<tr><td>237</td><td>Jedda</td></tr>",
                            "<tr><td>238</td><td>Jelets</td></tr>",
                            "<tr><td>240</td><td>Jinchang</td></tr>",
                            "<tr><td>241</td><td>Jining</td></tr>",
                            "<tr><td>242</td><td>Jinzhou</td></tr>",
                            "<tr><td>244</td><td>Johannesburg</td></tr>",
                            "<tr><td>245</td><td>Joliet</td></tr>",
                            "<tr><td>246</td><td>Jos Azueta</td></tr>",
                            "<tr><td>247</td><td>Juazeiro do Norte</td></tr>",
                            "<tr><td>248</td><td>Juiz de Fora</td></tr>",
                            "<tr><td>249</td><td>Junan</td></tr>",
                            "<tr><td>250</td><td>Jurez</td></tr>",
                            "<tr><td>251</td><td>Kabul</td></tr>",
                            "<tr><td>252</td><td>Kaduna</td></tr>",
                            "<tr><td>253</td><td>Kakamigahara</td></tr>",
                            "<tr><td>254</td><td>Kaliningrad</td></tr>",
                            "<tr><td>255</td><td>Kalisz</td></tr>",
                            "<tr><td>256</td><td>Kamakura</td></tr>",
                            "<tr><td>258</td><td>Kamjanets-Podilskyi</td></tr>",
                            "<tr><td>259</td><td>Kamyin</td></tr>",
                            "<tr><td>260</td><td>Kanazawa</td></tr>",
                            "<tr><td>262</td><td>Kansas City</td></tr>",
                            "<tr><td>265</td><td>Kermanshah</td></tr>",
                            "<tr><td>266</td><td>Kilis</td></tr>",
                            "<tr><td>267</td><td>Kimberley</td></tr>",
                            "<tr><td>268</td><td>Kimchon</td></tr>",
                            "<tr><td>269</td><td>Kingstown</td></tr>",
                            "<tr><td>270</td><td>Kirovo-Tepetsk</td></tr>",
                            "<tr><td>271</td><td>Kisumu</td></tr>",
                            "<tr><td>272</td><td>Kitwe</td></tr>",
                            "<tr><td>273</td><td>Klerksdorp</td></tr>",
                            "<tr><td>274</td><td>Kolpino</td></tr>",
                            "<tr><td>275</td><td>Konotop</td></tr>",
                            "<tr><td>276</td><td>Koriyama</td></tr>",
                            "<tr><td>277</td><td>Korla</td></tr>",
                            "<tr><td>278</td><td>Korolev</td></tr>",
                            "<tr><td>279</td><td>Kowloon and New Kowloon</td></tr>",
                            "<tr><td>280</td><td>Kragujevac</td></tr>",
                            "<tr><td>281</td><td>Ktahya</td></tr>",
                            "<tr><td>282</td><td>Kuching</td></tr>",
                            "<tr><td>284</td><td>Kurashiki</td></tr>",
                            "<tr><td>285</td><td>Kurgan</td></tr>",
                            "<tr><td>286</td><td>Kursk</td></tr>",
                            "<tr><td>287</td><td>Kuwana</td></tr>",
                            "<tr><td>288</td><td>La Paz</td></tr>",
                            "<tr><td>289</td><td>La Plata</td></tr>",
                            "<tr><td>290</td><td>La Romana</td></tr>",
                            "<tr><td>291</td><td>Laiwu</td></tr>",
                            "<tr><td>292</td><td>Lancaster</td></tr>",
                            "<tr><td>293</td><td>Laohekou</td></tr>",
                            "<tr><td>294</td><td>Lapu-Lapu</td></tr>",
                            "<tr><td>295</td><td>Laredo</td></tr>",
                            "<tr><td>296</td><td>Lausanne</td></tr>",
                            "<tr><td>297</td><td>Le Mans</td></tr>",
                            "<tr><td>298</td><td>Lengshuijiang</td></tr>",
                            "<tr><td>299</td><td>Leshan</td></tr>",
                            "<tr><td>300</td><td>Lethbridge</td></tr>",
                            "<tr><td>301</td><td>Lhokseumawe</td></tr>",
                            "<tr><td>302</td><td>Liaocheng</td></tr>",
                            "<tr><td>303</td><td>Liepaja</td></tr>",
                            "<tr><td>304</td><td>Lilongwe</td></tr>",
                            "<tr><td>305</td><td>Lima</td></tr>",
                            "<tr><td>306</td><td>Lincoln</td></tr>",
                            "<tr><td>307</td><td>Linz</td></tr>",
                            "<tr><td>308</td><td>Lipetsk</td></tr>",
                            "<tr><td>309</td><td>Livorno</td></tr>",
                            "<tr><td>310</td><td>Ljubertsy</td></tr>",
                            "<tr><td>311</td><td>Loja</td></tr>",
                            "<tr><td>312</td><td>London</td></tr>",
                            "<tr><td>313</td><td>London</td></tr>",
                            "<tr><td>314</td><td>Lublin</td></tr>",
                            "<tr><td>315</td><td>Lubumbashi</td></tr>",
                            "<tr><td>316</td><td>Lungtan</td></tr>",
                            "<tr><td>317</td><td>Luzinia</td></tr>",
                            "<tr><td>318</td><td>Madiun</td></tr>",
                            "<tr><td>319</td><td>Mahajanga</td></tr>",
                            "<tr><td>320</td><td>Maikop</td></tr>",
                            "<tr><td>321</td><td>Malm</td></tr>",
                            "<tr><td>322</td><td>Manchester</td></tr>",
                            "<tr><td>323</td><td>Mandaluyong</td></tr>",
                            "<tr><td>324</td><td>Mandi Bahauddin</td></tr>",
                            "<tr><td>325</td><td>Mannheim</td></tr>",
                            "<tr><td>326</td><td>Maracabo</td></tr>",
                            "<tr><td>327</td><td>Mardan</td></tr>",
                            "<tr><td>328</td><td>Maring</td></tr>",
                            "<tr><td>329</td><td>Masqat</td></tr>",
                            "<tr><td>330</td><td>Matamoros</td></tr>",
                            "<tr><td>331</td><td>Matsue</td></tr>",
                            "<tr><td>332</td><td>Meixian</td></tr>",
                            "<tr><td>333</td><td>Memphis</td></tr>",
                            "<tr><td>334</td><td>Merlo</td></tr>",
                            "<tr><td>335</td><td>Mexicali</td></tr>",
                            "<tr><td>337</td><td>Mit Ghamr</td></tr>",
                            "<tr><td>338</td><td>Miyakonojo</td></tr>",
                            "<tr><td>339</td><td>Mogiljov</td></tr>",
                            "<tr><td>340</td><td>Molodetno</td></tr>",
                            "<tr><td>341</td><td>Monclova</td></tr>",
                            "<tr><td>342</td><td>Monywa</td></tr>",
                            "<tr><td>343</td><td>Moscow</td></tr>",
                            "<tr><td>344</td><td>Mosul</td></tr>",
                            "<tr><td>345</td><td>Mukateve</td></tr>",
                            "<tr><td>347</td><td>Mwanza</td></tr>",
                            "<tr><td>348</td><td>Mwene-Ditu</td></tr>",
                            "<tr><td>349</td><td>Myingyan</td></tr>",
                            "<tr><td>351</td><td>Naala-Porto</td></tr>",
                            "<tr><td>352</td><td>Nabereznyje Telny</td></tr>",
                            "<tr><td>353</td><td>Nador</td></tr>",
                            "<tr><td>355</td><td>Nagareyama</td></tr>",
                            "<tr><td>356</td><td>Najafabad</td></tr>",
                            "<tr><td>357</td><td>Naju</td></tr>",
                            "<tr><td>358</td><td>Nakhon Sawan</td></tr>",
                            "<tr><td>359</td><td>Nam Dinh</td></tr>",
                            "<tr><td>360</td><td>Namibe</td></tr>",
                            "<tr><td>361</td><td>Nantou</td></tr>",
                            "<tr><td>362</td><td>Nanyang</td></tr>",
                            "<tr><td>363</td><td>NDjamna</td></tr>",
                            "<tr><td>364</td><td>Newcastle</td></tr>",
                            "<tr><td>365</td><td>Nezahualcyotl</td></tr>",
                            "<tr><td>366</td><td>Nha Trang</td></tr>",
                            "<tr><td>367</td><td>Niznekamsk</td></tr>",
                            "<tr><td>368</td><td>Novi Sad</td></tr>",
                            "<tr><td>369</td><td>Novoterkassk</td></tr>",
                            "<tr><td>370</td><td>Nukualofa</td></tr>",
                            "<tr><td>371</td><td>Nuuk</td></tr>",
                            "<tr><td>372</td><td>Nyeri</td></tr>",
                            "<tr><td>373</td><td>Ocumare del Tuy</td></tr>",
                            "<tr><td>374</td><td>Ogbomosho</td></tr>",
                            "<tr><td>375</td><td>Okara</td></tr>",
                            "<tr><td>376</td><td>Okayama</td></tr>",
                            "<tr><td>377</td><td>Okinawa</td></tr>",
                            "<tr><td>378</td><td>Olomouc</td></tr>",
                            "<tr><td>379</td><td>Omdurman</td></tr>",
                            "<tr><td>380</td><td>Omiya</td></tr>",
                            "<tr><td>381</td><td>Ondo</td></tr>",
                            "<tr><td>382</td><td>Onomichi</td></tr>",
                            "<tr><td>383</td><td>Oshawa</td></tr>",
                            "<tr><td>384</td><td>Osmaniye</td></tr>",
                            "<tr><td>385</td><td>ostka</td></tr>",
                            "<tr><td>386</td><td>Otsu</td></tr>",
                            "<tr><td>387</td><td>Oulu</td></tr>",
                            "<tr><td>388</td><td>Ourense (Orense)</td></tr>",
                            "<tr><td>389</td><td>Owo</td></tr>",
                            "<tr><td>390</td><td>Oyo</td></tr>",
                            "<tr><td>391</td><td>Ozamis</td></tr>",
                            "<tr><td>392</td><td>Paarl</td></tr>",
                            "<tr><td>393</td><td>Pachuca de Soto</td></tr>",
                            "<tr><td>394</td><td>Pak Kret</td></tr>",
                            "<tr><td>396</td><td>Pangkal Pinang</td></tr>",
                            "<tr><td>397</td><td>Papeete</td></tr>",
                            "<tr><td>401</td><td>Patras</td></tr>",
                            "<tr><td>402</td><td>Pavlodar</td></tr>",
                            "<tr><td>403</td><td>Pemalang</td></tr>",
                            "<tr><td>404</td><td>Peoria</td></tr>",
                            "<tr><td>405</td><td>Pereira</td></tr>",
                            "<tr><td>406</td><td>Phnom Penh</td></tr>",
                            "<tr><td>407</td><td>Pingxiang</td></tr>",
                            "<tr><td>408</td><td>Pjatigorsk</td></tr>",
                            "<tr><td>409</td><td>Plock</td></tr>",
                            "<tr><td>410</td><td>Po</td></tr>",
                            "<tr><td>411</td><td>Ponce</td></tr>",
                            "<tr><td>412</td><td>Pontianak</td></tr>",
                            "<tr><td>413</td><td>Poos de Caldas</td></tr>",
                            "<tr><td>414</td><td>Portoviejo</td></tr>",
                            "<tr><td>415</td><td>Probolinggo</td></tr>",
                            "<tr><td>419</td><td>Purwakarta</td></tr>",
                            "<tr><td>420</td><td>Pyongyang</td></tr>",
                            "<tr><td>421</td><td>Qalyub</td></tr>",
                            "<tr><td>422</td><td>Qinhuangdao</td></tr>",
                            "<tr><td>423</td><td>Qomsheh</td></tr>",
                            "<tr><td>424</td><td>Quilmes</td></tr>",
                            "<tr><td>428</td><td>Rancagua</td></tr>",
                            "<tr><td>430</td><td>Richmond Hill</td></tr>",
                            "<tr><td>431</td><td>Rio Claro</td></tr>",
                            "<tr><td>432</td><td>Rizhao</td></tr>",
                            "<tr><td>433</td><td>Roanoke</td></tr>",
                            "<tr><td>434</td><td>Robamba</td></tr>",
                            "<tr><td>435</td><td>Rockford</td></tr>",
                            "<tr><td>436</td><td>Ruse</td></tr>",
                            "<tr><td>437</td><td>Rustenburg</td></tr>",
                            "<tr><td>438</td><td>s-Hertogenbosch</td></tr>",
                            "<tr><td>439</td><td>Saarbrcken</td></tr>",
                            "<tr><td>440</td><td>Sagamihara</td></tr>",
                            "<tr><td>441</td><td>Saint Louis</td></tr>",
                            "<tr><td>442</td><td>Saint-Denis</td></tr>",
                            "<tr><td>443</td><td>Sal</td></tr>",
                            "<tr><td>444</td><td>Salala</td></tr>",
                            "<tr><td>445</td><td>Salamanca</td></tr>",
                            "<tr><td>446</td><td>Salinas</td></tr>",
                            "<tr><td>447</td><td>Salzburg</td></tr>",
                            "<tr><td>449</td><td>San Bernardino</td></tr>",
                            "<tr><td>450</td><td>San Felipe de Puerto Plata</td></tr>",
                            "<tr><td>451</td><td>San Felipe del Progreso</td></tr>",
                            "<tr><td>452</td><td>San Juan Bautista Tuxtepec</td></tr>",
                            "<tr><td>453</td><td>San Lorenzo</td></tr>",
                            "<tr><td>454</td><td>San Miguel de Tucumn</td></tr>",
                            "<tr><td>455</td><td>Sanaa</td></tr>",
                            "<tr><td>456</td><td>Santa Brbara dOeste</td></tr>",
                            "<tr><td>457</td><td>Santa F</td></tr>",
                            "<tr><td>458</td><td>Santa Rosa</td></tr>",
                            "<tr><td>459</td><td>Santiago de Compostela</td></tr>",
                            "<tr><td>460</td><td>Santiago de los Caballeros</td></tr>",
                            "<tr><td>461</td><td>Santo Andr</td></tr>",
                            "<tr><td>462</td><td>Sanya</td></tr>",
                            "<tr><td>463</td><td>Sasebo</td></tr>",
                            "<tr><td>465</td><td>Sawhaj</td></tr>",
                            "<tr><td>466</td><td>Serpuhov</td></tr>",
                            "<tr><td>467</td><td>Shahr-e Kord</td></tr>",
                            "<tr><td>468</td><td>Shanwei</td></tr>",
                            "<tr><td>469</td><td>Shaoguan</td></tr>",
                            "<tr><td>470</td><td>Sharja</td></tr>",
                            "<tr><td>471</td><td>Shenzhen</td></tr>",
                            "<tr><td>472</td><td>Shikarpur</td></tr>",
                            "<tr><td>474</td><td>Shimonoseki</td></tr>",
                            "<tr><td>476</td><td>Shubra al-Khayma</td></tr>",
                            "<tr><td>477</td><td>Siegen</td></tr>",
                            "<tr><td>479</td><td>Simferopol</td></tr>",
                            "<tr><td>480</td><td>Sincelejo</td></tr>",
                            "<tr><td>481</td><td>Sirjan</td></tr>",
                            "<tr><td>482</td><td>Sivas</td></tr>",
                            "<tr><td>483</td><td>Skikda</td></tr>",
                            "<tr><td>484</td><td>Smolensk</td></tr>",
                            "<tr><td>485</td><td>So Bernardo do Campo</td></tr>",
                            "<tr><td>486</td><td>So Leopoldo</td></tr>",
                            "<tr><td>487</td><td>Sogamoso</td></tr>",
                            "<tr><td>488</td><td>Sokoto</td></tr>",
                            "<tr><td>489</td><td>Songkhla</td></tr>",
                            "<tr><td>490</td><td>Sorocaba</td></tr>",
                            "<tr><td>491</td><td>Soshanguve</td></tr>",
                            "<tr><td>492</td><td>Sousse</td></tr>",
                            "<tr><td>493</td><td>South Hill</td></tr>",
                            "<tr><td>494</td><td>Southampton</td></tr>",
                            "<tr><td>495</td><td>Southend-on-Sea</td></tr>",
                            "<tr><td>496</td><td>Southport</td></tr>",
                            "<tr><td>497</td><td>Springs</td></tr>",
                            "<tr><td>498</td><td>Stara Zagora</td></tr>",
                            "<tr><td>499</td><td>Sterling Heights</td></tr>",
                            "<tr><td>500</td><td>Stockport</td></tr>",
                            "<tr><td>501</td><td>Sucre</td></tr>",
                            "<tr><td>502</td><td>Suihua</td></tr>",
                            "<tr><td>503</td><td>Sullana</td></tr>",
                            "<tr><td>504</td><td>Sultanbeyli</td></tr>",
                            "<tr><td>505</td><td>Sumqayit</td></tr>",
                            "<tr><td>506</td><td>Sumy</td></tr>",
                            "<tr><td>507</td><td>Sungai Petani</td></tr>",
                            "<tr><td>508</td><td>Sunnyvale</td></tr>",
                            "<tr><td>509</td><td>Surakarta</td></tr>",
                            "<tr><td>510</td><td>Syktyvkar</td></tr>",
                            "<tr><td>511</td><td>Syrakusa</td></tr>",
                            "<tr><td>512</td><td>Szkesfehrvr</td></tr>",
                            "<tr><td>513</td><td>Tabora</td></tr>",
                            "<tr><td>514</td><td>Tabriz</td></tr>",
                            "<tr><td>515</td><td>Tabuk</td></tr>",
                            "<tr><td>516</td><td>Tafuna</td></tr>",
                            "<tr><td>517</td><td>Taguig</td></tr>",
                            "<tr><td>518</td><td>Taizz</td></tr>",
                            "<tr><td>519</td><td>Talavera</td></tr>",
                            "<tr><td>520</td><td>Tallahassee</td></tr>",
                            "<tr><td>521</td><td>Tama</td></tr>",
                            "<tr><td>523</td><td>Tanauan</td></tr>",
                            "<tr><td>524</td><td>Tandil</td></tr>",
                            "<tr><td>525</td><td>Tangail</td></tr>",
                            "<tr><td>526</td><td>Tanshui</td></tr>",
                            "<tr><td>527</td><td>Tanza</td></tr>",
                            "<tr><td>528</td><td>Tarlac</td></tr>",
                            "<tr><td>529</td><td>Tarsus</td></tr>",
                            "<tr><td>530</td><td>Tartu</td></tr>",
                            "<tr><td>531</td><td>Teboksary</td></tr>",
                            "<tr><td>532</td><td>Tegal</td></tr>",
                            "<tr><td>533</td><td>Tel Aviv-Jaffa</td></tr>",
                            "<tr><td>534</td><td>Tete</td></tr>",
                            "<tr><td>535</td><td>Tianjin</td></tr>",
                            "<tr><td>536</td><td>Tiefa</td></tr>",
                            "<tr><td>537</td><td>Tieli</td></tr>",
                            "<tr><td>538</td><td>Tokat</td></tr>",
                            "<tr><td>539</td><td>Tonghae</td></tr>",
                            "<tr><td>540</td><td>Tongliao</td></tr>",
                            "<tr><td>541</td><td>Torren</td></tr>",
                            "<tr><td>542</td><td>Touliu</td></tr>",
                            "<tr><td>543</td><td>Toulon</td></tr>",
                            "<tr><td>544</td><td>Toulouse</td></tr>",
                            "<tr><td>545</td><td>Trshavn</td></tr>",
                            "<tr><td>546</td><td>Tsaotun</td></tr>",
                            "<tr><td>547</td><td>Tsuyama</td></tr>",
                            "<tr><td>548</td><td>Tuguegarao</td></tr>",
                            "<tr><td>549</td><td>Tychy</td></tr>",
                            "<tr><td>551</td><td>Udine</td></tr>",
                            "<tr><td>552</td><td>Ueda</td></tr>",
                            "<tr><td>553</td><td>Uijongbu</td></tr>",
                            "<tr><td>555</td><td>Urawa</td></tr>",
                            "<tr><td>556</td><td>Uruapan</td></tr>",
                            "<tr><td>557</td><td>Usak</td></tr>",
                            "<tr><td>558</td><td>Usolje-Sibirskoje</td></tr>",
                            "<tr><td>560</td><td>Vaduz</td></tr>",
                            "<tr><td>561</td><td>Valencia</td></tr>",
                            "<tr><td>562</td><td>Valle de la Pascua</td></tr>",
                            "<tr><td>563</td><td>Valle de Santiago</td></tr>",
                            "<tr><td>565</td><td>Vancouver</td></tr>",
                            "<tr><td>567</td><td>Vicente Lpez</td></tr>",
                            "<tr><td>569</td><td>Vila Velha</td></tr>",
                            "<tr><td>570</td><td>Vilnius</td></tr>",
                            "<tr><td>571</td><td>Vinh</td></tr>",
                            "<tr><td>572</td><td>Vitria de Santo Anto</td></tr>",
                            "<tr><td>573</td><td>Warren</td></tr>",
                            "<tr><td>574</td><td>Weifang</td></tr>",
                            "<tr><td>575</td><td>Witten</td></tr>",
                            "<tr><td>576</td><td>Woodridge</td></tr>",
                            "<tr><td>577</td><td>Wroclaw</td></tr>",
                            "<tr><td>578</td><td>Xiangfan</td></tr>",
                            "<tr><td>579</td><td>Xiangtan</td></tr>",
                            "<tr><td>580</td><td>Xintai</td></tr>",
                            "<tr><td>581</td><td>Xinxiang</td></tr>",
                            "<tr><td>583</td><td>Yangor</td></tr>",
                            "<tr><td>584</td><td>Yantai</td></tr>",
                            "<tr><td>585</td><td>Yaound</td></tr>",
                            "<tr><td>586</td><td>Yerevan</td></tr>",
                            "<tr><td>587</td><td>Yinchuan</td></tr>",
                            "<tr><td>588</td><td>Yingkou</td></tr>",
                            "<tr><td>589</td><td>York</td></tr>",
                            "<tr><td>590</td><td>Yuncheng</td></tr>",
                            "<tr><td>591</td><td>Yuzhou</td></tr>",
                            "<tr><td>592</td><td>Zalantun</td></tr>",
                            "<tr><td>593</td><td>Zanzibar</td></tr>",
                            "<tr><td>594</td><td>Zaoyang</td></tr>",
                            "<tr><td>595</td><td>Zapopan</td></tr>",
                            "<tr><td>596</td><td>Zaria</td></tr>",
                            "<tr><td>597</td><td>Zeleznogorsk</td></tr>",
                            "<tr><td>598</td><td>Zhezqazghan</td></tr>",
                            "<tr><td>599</td><td>Zhoushan</td></tr>",
                            "<tr><td>600</td><td>Ziguinchor</td></tr>",
                            "</table>"
                        ]
                    }
                }
            ],
            "execution_count": 4
        },
        {
            "cell_type": "code",
            "source": [
                "SELECT country_id\n",
                "    FROM country\n",
                "    WHERE country = 'India'"
            ],
            "metadata": {
                "azdata_cell_guid": "07216d78-8ddb-4ff3-b2b3-e483e3271c56"
            },
            "outputs": [
                {
                    "output_type": "display_data",
                    "data": {
                        "text/html": "(1 row affected)"
                    },
                    "metadata": {}
                },
                {
                    "output_type": "display_data",
                    "data": {
                        "text/html": "Total execution time: 00:00:00.005"
                    },
                    "metadata": {}
                },
                {
                    "output_type": "execute_result",
                    "metadata": {},
                    "execution_count": 5,
                    "data": {
                        "application/vnd.dataresource+json": {
                            "schema": {
                                "fields": [
                                    {
                                        "name": "country_id"
                                    }
                                ]
                            },
                            "data": [
                                {
                                    "0": "44"
                                }
                            ]
                        },
                        "text/html": [
                            "<table>",
                            "<tr><th>country_id</th></tr>",
                            "<tr><td>44</td></tr>",
                            "</table>"
                        ]
                    }
                }
            ],
            "execution_count": 5
        },
        {
            "cell_type": "code",
            "source": [
                "SELECT city_id ,city\n",
                "FROM city\n",
                "WHERE country_id <> (\n",
                "    SELECT country_id\n",
                "    FROM country\n",
                "    WHERE country <> 'India'\n",
                ")"
            ],
            "metadata": {
                "azdata_cell_guid": "d89cf89a-76cc-422e-8bfe-80453f48dab5"
            },
            "outputs": [
                {
                    "output_type": "display_data",
                    "data": {
                        "text/html": "Total execution time: 00:00:00.005"
                    },
                    "metadata": {}
                },
                {
                    "output_type": "execute_result",
                    "metadata": {},
                    "execution_count": 6,
                    "data": {
                        "application/vnd.dataresource+json": {
                            "schema": {
                                "fields": [
                                    {
                                        "name": "city_id"
                                    },
                                    {
                                        "name": "city"
                                    }
                                ]
                            },
                            "data": []
                        },
                        "text/html": [
                            "<table>",
                            "<tr><th>city_id</th><th>city</th></tr>",
                            "</table>"
                        ]
                    }
                },
                {
                    "output_type": "error",
                    "evalue": "Msg 512, Level 16, State 1, Line 1\nSubquery returned more than 1 value. This is not permitted when the subquery follows =, !=, <, <= , >, >= or when the subquery is used as an expression.",
                    "ename": "",
                    "traceback": []
                }
            ],
            "execution_count": 6
        },
        {
            "cell_type": "code",
            "source": [
                "SELECT country_id\n",
                "FROM country\n",
                "WHERE country <> 'India'"
            ],
            "metadata": {
                "azdata_cell_guid": "8a2d37d7-fc52-4f32-88d4-04377f3ae678"
            },
            "outputs": [
                {
                    "output_type": "display_data",
                    "data": {
                        "text/html": "(108 rows affected)"
                    },
                    "metadata": {}
                },
                {
                    "output_type": "display_data",
                    "data": {
                        "text/html": "Total execution time: 00:00:00.003"
                    },
                    "metadata": {}
                },
                {
                    "output_type": "execute_result",
                    "metadata": {},
                    "execution_count": 8,
                    "data": {
                        "application/vnd.dataresource+json": {
                            "schema": {
                                "fields": [
                                    {
                                        "name": "country_id"
                                    }
                                ]
                            },
                            "data": [
                                {
                                    "0": "1"
                                },
                                {
                                    "0": "2"
                                },
                                {
                                    "0": "3"
                                },
                                {
                                    "0": "4"
                                },
                                {
                                    "0": "5"
                                },
                                {
                                    "0": "6"
                                },
                                {
                                    "0": "7"
                                },
                                {
                                    "0": "8"
                                },
                                {
                                    "0": "9"
                                },
                                {
                                    "0": "10"
                                },
                                {
                                    "0": "11"
                                },
                                {
                                    "0": "12"
                                },
                                {
                                    "0": "13"
                                },
                                {
                                    "0": "14"
                                },
                                {
                                    "0": "15"
                                },
                                {
                                    "0": "16"
                                },
                                {
                                    "0": "17"
                                },
                                {
                                    "0": "18"
                                },
                                {
                                    "0": "19"
                                },
                                {
                                    "0": "20"
                                },
                                {
                                    "0": "21"
                                },
                                {
                                    "0": "22"
                                },
                                {
                                    "0": "23"
                                },
                                {
                                    "0": "24"
                                },
                                {
                                    "0": "25"
                                },
                                {
                                    "0": "26"
                                },
                                {
                                    "0": "27"
                                },
                                {
                                    "0": "28"
                                },
                                {
                                    "0": "29"
                                },
                                {
                                    "0": "30"
                                },
                                {
                                    "0": "31"
                                },
                                {
                                    "0": "32"
                                },
                                {
                                    "0": "33"
                                },
                                {
                                    "0": "34"
                                },
                                {
                                    "0": "35"
                                },
                                {
                                    "0": "36"
                                },
                                {
                                    "0": "37"
                                },
                                {
                                    "0": "38"
                                },
                                {
                                    "0": "39"
                                },
                                {
                                    "0": "40"
                                },
                                {
                                    "0": "41"
                                },
                                {
                                    "0": "42"
                                },
                                {
                                    "0": "43"
                                },
                                {
                                    "0": "45"
                                },
                                {
                                    "0": "46"
                                },
                                {
                                    "0": "47"
                                },
                                {
                                    "0": "48"
                                },
                                {
                                    "0": "49"
                                },
                                {
                                    "0": "50"
                                },
                                {
                                    "0": "51"
                                },
                                {
                                    "0": "52"
                                },
                                {
                                    "0": "53"
                                },
                                {
                                    "0": "54"
                                },
                                {
                                    "0": "55"
                                },
                                {
                                    "0": "56"
                                },
                                {
                                    "0": "57"
                                },
                                {
                                    "0": "58"
                                },
                                {
                                    "0": "59"
                                },
                                {
                                    "0": "60"
                                },
                                {
                                    "0": "61"
                                },
                                {
                                    "0": "62"
                                },
                                {
                                    "0": "63"
                                },
                                {
                                    "0": "64"
                                },
                                {
                                    "0": "65"
                                },
                                {
                                    "0": "66"
                                },
                                {
                                    "0": "67"
                                },
                                {
                                    "0": "68"
                                },
                                {
                                    "0": "69"
                                },
                                {
                                    "0": "70"
                                },
                                {
                                    "0": "71"
                                },
                                {
                                    "0": "72"
                                },
                                {
                                    "0": "73"
                                },
                                {
                                    "0": "74"
                                },
                                {
                                    "0": "75"
                                },
                                {
                                    "0": "76"
                                },
                                {
                                    "0": "77"
                                },
                                {
                                    "0": "78"
                                },
                                {
                                    "0": "79"
                                },
                                {
                                    "0": "80"
                                },
                                {
                                    "0": "81"
                                },
                                {
                                    "0": "82"
                                },
                                {
                                    "0": "83"
                                },
                                {
                                    "0": "84"
                                },
                                {
                                    "0": "85"
                                },
                                {
                                    "0": "86"
                                },
                                {
                                    "0": "87"
                                },
                                {
                                    "0": "88"
                                },
                                {
                                    "0": "89"
                                },
                                {
                                    "0": "90"
                                },
                                {
                                    "0": "91"
                                },
                                {
                                    "0": "92"
                                },
                                {
                                    "0": "93"
                                },
                                {
                                    "0": "94"
                                },
                                {
                                    "0": "95"
                                },
                                {
                                    "0": "96"
                                },
                                {
                                    "0": "97"
                                },
                                {
                                    "0": "98"
                                },
                                {
                                    "0": "99"
                                },
                                {
                                    "0": "100"
                                },
                                {
                                    "0": "101"
                                },
                                {
                                    "0": "102"
                                },
                                {
                                    "0": "103"
                                },
                                {
                                    "0": "104"
                                },
                                {
                                    "0": "105"
                                },
                                {
                                    "0": "106"
                                },
                                {
                                    "0": "107"
                                },
                                {
                                    "0": "108"
                                },
                                {
                                    "0": "109"
                                }
                            ]
                        },
                        "text/html": [
                            "<table>",
                            "<tr><th>country_id</th></tr>",
                            "<tr><td>1</td></tr>",
                            "<tr><td>2</td></tr>",
                            "<tr><td>3</td></tr>",
                            "<tr><td>4</td></tr>",
                            "<tr><td>5</td></tr>",
                            "<tr><td>6</td></tr>",
                            "<tr><td>7</td></tr>",
                            "<tr><td>8</td></tr>",
                            "<tr><td>9</td></tr>",
                            "<tr><td>10</td></tr>",
                            "<tr><td>11</td></tr>",
                            "<tr><td>12</td></tr>",
                            "<tr><td>13</td></tr>",
                            "<tr><td>14</td></tr>",
                            "<tr><td>15</td></tr>",
                            "<tr><td>16</td></tr>",
                            "<tr><td>17</td></tr>",
                            "<tr><td>18</td></tr>",
                            "<tr><td>19</td></tr>",
                            "<tr><td>20</td></tr>",
                            "<tr><td>21</td></tr>",
                            "<tr><td>22</td></tr>",
                            "<tr><td>23</td></tr>",
                            "<tr><td>24</td></tr>",
                            "<tr><td>25</td></tr>",
                            "<tr><td>26</td></tr>",
                            "<tr><td>27</td></tr>",
                            "<tr><td>28</td></tr>",
                            "<tr><td>29</td></tr>",
                            "<tr><td>30</td></tr>",
                            "<tr><td>31</td></tr>",
                            "<tr><td>32</td></tr>",
                            "<tr><td>33</td></tr>",
                            "<tr><td>34</td></tr>",
                            "<tr><td>35</td></tr>",
                            "<tr><td>36</td></tr>",
                            "<tr><td>37</td></tr>",
                            "<tr><td>38</td></tr>",
                            "<tr><td>39</td></tr>",
                            "<tr><td>40</td></tr>",
                            "<tr><td>41</td></tr>",
                            "<tr><td>42</td></tr>",
                            "<tr><td>43</td></tr>",
                            "<tr><td>45</td></tr>",
                            "<tr><td>46</td></tr>",
                            "<tr><td>47</td></tr>",
                            "<tr><td>48</td></tr>",
                            "<tr><td>49</td></tr>",
                            "<tr><td>50</td></tr>",
                            "<tr><td>51</td></tr>",
                            "<tr><td>52</td></tr>",
                            "<tr><td>53</td></tr>",
                            "<tr><td>54</td></tr>",
                            "<tr><td>55</td></tr>",
                            "<tr><td>56</td></tr>",
                            "<tr><td>57</td></tr>",
                            "<tr><td>58</td></tr>",
                            "<tr><td>59</td></tr>",
                            "<tr><td>60</td></tr>",
                            "<tr><td>61</td></tr>",
                            "<tr><td>62</td></tr>",
                            "<tr><td>63</td></tr>",
                            "<tr><td>64</td></tr>",
                            "<tr><td>65</td></tr>",
                            "<tr><td>66</td></tr>",
                            "<tr><td>67</td></tr>",
                            "<tr><td>68</td></tr>",
                            "<tr><td>69</td></tr>",
                            "<tr><td>70</td></tr>",
                            "<tr><td>71</td></tr>",
                            "<tr><td>72</td></tr>",
                            "<tr><td>73</td></tr>",
                            "<tr><td>74</td></tr>",
                            "<tr><td>75</td></tr>",
                            "<tr><td>76</td></tr>",
                            "<tr><td>77</td></tr>",
                            "<tr><td>78</td></tr>",
                            "<tr><td>79</td></tr>",
                            "<tr><td>80</td></tr>",
                            "<tr><td>81</td></tr>",
                            "<tr><td>82</td></tr>",
                            "<tr><td>83</td></tr>",
                            "<tr><td>84</td></tr>",
                            "<tr><td>85</td></tr>",
                            "<tr><td>86</td></tr>",
                            "<tr><td>87</td></tr>",
                            "<tr><td>88</td></tr>",
                            "<tr><td>89</td></tr>",
                            "<tr><td>90</td></tr>",
                            "<tr><td>91</td></tr>",
                            "<tr><td>92</td></tr>",
                            "<tr><td>93</td></tr>",
                            "<tr><td>94</td></tr>",
                            "<tr><td>95</td></tr>",
                            "<tr><td>96</td></tr>",
                            "<tr><td>97</td></tr>",
                            "<tr><td>98</td></tr>",
                            "<tr><td>99</td></tr>",
                            "<tr><td>100</td></tr>",
                            "<tr><td>101</td></tr>",
                            "<tr><td>102</td></tr>",
                            "<tr><td>103</td></tr>",
                            "<tr><td>104</td></tr>",
                            "<tr><td>105</td></tr>",
                            "<tr><td>106</td></tr>",
                            "<tr><td>107</td></tr>",
                            "<tr><td>108</td></tr>",
                            "<tr><td>109</td></tr>",
                            "</table>"
                        ]
                    }
                }
            ],
            "execution_count": 8
        },
        {
            "cell_type": "markdown",
            "source": [
                "## MULTIPLE-ROW, SINGLE-COLUMN SUBQUERIES"
            ],
            "metadata": {
                "azdata_cell_guid": "c1a28116-908b-4370-9356-f3b20899f8a0"
            }
        },
        {
            "cell_type": "code",
            "source": [
                "SELECT country_id\n",
                "FROM country\n",
                "WHERE country IN ('Canada','Mexico');"
            ],
            "metadata": {
                "azdata_cell_guid": "f9af79a3-3c7b-4e55-a027-c2d33930a619",
                "tags": []
            },
            "outputs": [
                {
                    "output_type": "display_data",
                    "data": {
                        "text/html": "(2 rows affected)"
                    },
                    "metadata": {}
                },
                {
                    "output_type": "display_data",
                    "data": {
                        "text/html": "Total execution time: 00:00:00.004"
                    },
                    "metadata": {}
                },
                {
                    "output_type": "execute_result",
                    "metadata": {},
                    "execution_count": 9,
                    "data": {
                        "application/vnd.dataresource+json": {
                            "schema": {
                                "fields": [
                                    {
                                        "name": "country_id"
                                    }
                                ]
                            },
                            "data": [
                                {
                                    "0": "20"
                                },
                                {
                                    "0": "60"
                                }
                            ]
                        },
                        "text/html": [
                            "<table>",
                            "<tr><th>country_id</th></tr>",
                            "<tr><td>20</td></tr>",
                            "<tr><td>60</td></tr>",
                            "</table>"
                        ]
                    }
                }
            ],
            "execution_count": 9
        },
        {
            "cell_type": "code",
            "source": [
                "SELECT country_id\n",
                "FROM country\n",
                "WHERE country = 'Canada' OR country = 'Mexico';"
            ],
            "metadata": {
                "azdata_cell_guid": "9f927fce-615e-4da4-925d-a436af54fb47"
            },
            "outputs": [
                {
                    "output_type": "display_data",
                    "data": {
                        "text/html": "(2 rows affected)"
                    },
                    "metadata": {}
                },
                {
                    "output_type": "display_data",
                    "data": {
                        "text/html": "Total execution time: 00:00:00.005"
                    },
                    "metadata": {}
                },
                {
                    "output_type": "execute_result",
                    "metadata": {},
                    "execution_count": 10,
                    "data": {
                        "application/vnd.dataresource+json": {
                            "schema": {
                                "fields": [
                                    {
                                        "name": "country_id"
                                    }
                                ]
                            },
                            "data": [
                                {
                                    "0": "20"
                                },
                                {
                                    "0": "60"
                                }
                            ]
                        },
                        "text/html": [
                            "<table>",
                            "<tr><th>country_id</th></tr>",
                            "<tr><td>20</td></tr>",
                            "<tr><td>60</td></tr>",
                            "</table>"
                        ]
                    }
                }
            ],
            "execution_count": 10
        },
        {
            "cell_type": "code",
            "source": [
                "SELECT city_id,city\n",
                "FROM city\n",
                "WHERE country_id IN (\n",
                "    SELECT country_id\n",
                "    FROM country\n",
                "    WHERE country IN ('Canada', 'Mexico')\n",
                ")"
            ],
            "metadata": {
                "azdata_cell_guid": "93beb19b-39cb-45ad-abc9-4970a336444a"
            },
            "outputs": [
                {
                    "output_type": "display_data",
                    "data": {
                        "text/html": "(37 rows affected)"
                    },
                    "metadata": {}
                },
                {
                    "output_type": "display_data",
                    "data": {
                        "text/html": "Total execution time: 00:00:00.061"
                    },
                    "metadata": {}
                },
                {
                    "output_type": "execute_result",
                    "metadata": {},
                    "execution_count": 11,
                    "data": {
                        "application/vnd.dataresource+json": {
                            "schema": {
                                "fields": [
                                    {
                                        "name": "city_id"
                                    },
                                    {
                                        "name": "city"
                                    }
                                ]
                            },
                            "data": [
                                {
                                    "0": "179",
                                    "1": "Gatineau"
                                },
                                {
                                    "0": "196",
                                    "1": "Halifax"
                                },
                                {
                                    "0": "300",
                                    "1": "Lethbridge"
                                },
                                {
                                    "0": "313",
                                    "1": "London"
                                },
                                {
                                    "0": "383",
                                    "1": "Oshawa"
                                },
                                {
                                    "0": "430",
                                    "1": "Richmond Hill"
                                },
                                {
                                    "0": "565",
                                    "1": "Vancouver"
                                },
                                {
                                    "0": "4",
                                    "1": "Acua"
                                },
                                {
                                    "0": "19",
                                    "1": "Allende"
                                },
                                {
                                    "0": "40",
                                    "1": "Atlixco"
                                },
                                {
                                    "0": "103",
                                    "1": "Carmen"
                                },
                                {
                                    "0": "106",
                                    "1": "Celaya"
                                },
                                {
                                    "0": "124",
                                    "1": "Coacalco de Berriozbal"
                                },
                                {
                                    "0": "125",
                                    "1": "Coatzacoalcos"
                                },
                                {
                                    "0": "129",
                                    "1": "Cuauhtmoc"
                                },
                                {
                                    "0": "130",
                                    "1": "Cuautla"
                                },
                                {
                                    "0": "131",
                                    "1": "Cuernavaca"
                                },
                                {
                                    "0": "154",
                                    "1": "El Fuerte"
                                },
                                {
                                    "0": "188",
                                    "1": "Guadalajara"
                                },
                                {
                                    "0": "202",
                                    "1": "Hidalgo"
                                },
                                {
                                    "0": "212",
                                    "1": "Huejutla de Reyes"
                                },
                                {
                                    "0": "213",
                                    "1": "Huixquilucan"
                                },
                                {
                                    "0": "246",
                                    "1": "Jos Azueta"
                                },
                                {
                                    "0": "250",
                                    "1": "Jurez"
                                },
                                {
                                    "0": "288",
                                    "1": "La Paz"
                                },
                                {
                                    "0": "330",
                                    "1": "Matamoros"
                                },
                                {
                                    "0": "335",
                                    "1": "Mexicali"
                                },
                                {
                                    "0": "341",
                                    "1": "Monclova"
                                },
                                {
                                    "0": "365",
                                    "1": "Nezahualcyotl"
                                },
                                {
                                    "0": "393",
                                    "1": "Pachuca de Soto"
                                },
                                {
                                    "0": "445",
                                    "1": "Salamanca"
                                },
                                {
                                    "0": "451",
                                    "1": "San Felipe del Progreso"
                                },
                                {
                                    "0": "452",
                                    "1": "San Juan Bautista Tuxtepec"
                                },
                                {
                                    "0": "541",
                                    "1": "Torren"
                                },
                                {
                                    "0": "556",
                                    "1": "Uruapan"
                                },
                                {
                                    "0": "563",
                                    "1": "Valle de Santiago"
                                },
                                {
                                    "0": "595",
                                    "1": "Zapopan"
                                }
                            ]
                        },
                        "text/html": [
                            "<table>",
                            "<tr><th>city_id</th><th>city</th></tr>",
                            "<tr><td>179</td><td>Gatineau</td></tr>",
                            "<tr><td>196</td><td>Halifax</td></tr>",
                            "<tr><td>300</td><td>Lethbridge</td></tr>",
                            "<tr><td>313</td><td>London</td></tr>",
                            "<tr><td>383</td><td>Oshawa</td></tr>",
                            "<tr><td>430</td><td>Richmond Hill</td></tr>",
                            "<tr><td>565</td><td>Vancouver</td></tr>",
                            "<tr><td>4</td><td>Acua</td></tr>",
                            "<tr><td>19</td><td>Allende</td></tr>",
                            "<tr><td>40</td><td>Atlixco</td></tr>",
                            "<tr><td>103</td><td>Carmen</td></tr>",
                            "<tr><td>106</td><td>Celaya</td></tr>",
                            "<tr><td>124</td><td>Coacalco de Berriozbal</td></tr>",
                            "<tr><td>125</td><td>Coatzacoalcos</td></tr>",
                            "<tr><td>129</td><td>Cuauhtmoc</td></tr>",
                            "<tr><td>130</td><td>Cuautla</td></tr>",
                            "<tr><td>131</td><td>Cuernavaca</td></tr>",
                            "<tr><td>154</td><td>El Fuerte</td></tr>",
                            "<tr><td>188</td><td>Guadalajara</td></tr>",
                            "<tr><td>202</td><td>Hidalgo</td></tr>",
                            "<tr><td>212</td><td>Huejutla de Reyes</td></tr>",
                            "<tr><td>213</td><td>Huixquilucan</td></tr>",
                            "<tr><td>246</td><td>Jos Azueta</td></tr>",
                            "<tr><td>250</td><td>Jurez</td></tr>",
                            "<tr><td>288</td><td>La Paz</td></tr>",
                            "<tr><td>330</td><td>Matamoros</td></tr>",
                            "<tr><td>335</td><td>Mexicali</td></tr>",
                            "<tr><td>341</td><td>Monclova</td></tr>",
                            "<tr><td>365</td><td>Nezahualcyotl</td></tr>",
                            "<tr><td>393</td><td>Pachuca de Soto</td></tr>",
                            "<tr><td>445</td><td>Salamanca</td></tr>",
                            "<tr><td>451</td><td>San Felipe del Progreso</td></tr>",
                            "<tr><td>452</td><td>San Juan Bautista Tuxtepec</td></tr>",
                            "<tr><td>541</td><td>Torren</td></tr>",
                            "<tr><td>556</td><td>Uruapan</td></tr>",
                            "<tr><td>563</td><td>Valle de Santiago</td></tr>",
                            "<tr><td>595</td><td>Zapopan</td></tr>",
                            "</table>"
                        ]
                    }
                }
            ],
            "execution_count": 11
        },
        {
            "cell_type": "code",
            "source": [
                "SELECT city_id,city\n",
                "FROM city\n",
                "WHERE country_id NOT IN (\n",
                "    SELECT country_id\n",
                "    FROM country\n",
                "    WHERE country IN ('Canada', 'Mexico')\n",
                ")"
            ],
            "metadata": {
                "azdata_cell_guid": "6726b45c-3c8b-4399-8de2-af69f50845a8"
            },
            "outputs": [
                {
                    "output_type": "display_data",
                    "data": {
                        "text/html": "(563 rows affected)"
                    },
                    "metadata": {}
                },
                {
                    "output_type": "display_data",
                    "data": {
                        "text/html": "Total execution time: 00:00:00.008"
                    },
                    "metadata": {}
                },
                {
                    "output_type": "execute_result",
                    "metadata": {},
                    "execution_count": 12,
                    "data": {
                        "application/vnd.dataresource+json": {
                            "schema": {
                                "fields": [
                                    {
                                        "name": "city_id"
                                    },
                                    {
                                        "name": "city"
                                    }
                                ]
                            },
                            "data": [
                                {
                                    "0": "1",
                                    "1": "A Corua (La Corua)"
                                },
                                {
                                    "0": "2",
                                    "1": "Abha"
                                },
                                {
                                    "0": "3",
                                    "1": "Abu Dhabi"
                                },
                                {
                                    "0": "5",
                                    "1": "Adana"
                                },
                                {
                                    "0": "6",
                                    "1": "Addis Abeba"
                                },
                                {
                                    "0": "7",
                                    "1": "Aden"
                                },
                                {
                                    "0": "8",
                                    "1": "Adoni"
                                },
                                {
                                    "0": "9",
                                    "1": "Ahmadnagar"
                                },
                                {
                                    "0": "10",
                                    "1": "Akishima"
                                },
                                {
                                    "0": "11",
                                    "1": "Akron"
                                },
                                {
                                    "0": "12",
                                    "1": "al-Ayn"
                                },
                                {
                                    "0": "13",
                                    "1": "al-Hawiya"
                                },
                                {
                                    "0": "14",
                                    "1": "al-Manama"
                                },
                                {
                                    "0": "15",
                                    "1": "al-Qadarif"
                                },
                                {
                                    "0": "16",
                                    "1": "al-Qatif"
                                },
                                {
                                    "0": "17",
                                    "1": "Alessandria"
                                },
                                {
                                    "0": "18",
                                    "1": "Allappuzha (Alleppey)"
                                },
                                {
                                    "0": "20",
                                    "1": "Almirante Brown"
                                },
                                {
                                    "0": "21",
                                    "1": "Alvorada"
                                },
                                {
                                    "0": "22",
                                    "1": "Ambattur"
                                },
                                {
                                    "0": "23",
                                    "1": "Amersfoort"
                                },
                                {
                                    "0": "24",
                                    "1": "Amroha"
                                },
                                {
                                    "0": "25",
                                    "1": "Angra dos Reis"
                                },
                                {
                                    "0": "26",
                                    "1": "Anpolis"
                                },
                                {
                                    "0": "27",
                                    "1": "Antofagasta"
                                },
                                {
                                    "0": "28",
                                    "1": "Aparecida de Goinia"
                                },
                                {
                                    "0": "29",
                                    "1": "Apeldoorn"
                                },
                                {
                                    "0": "30",
                                    "1": "Araatuba"
                                },
                                {
                                    "0": "31",
                                    "1": "Arak"
                                },
                                {
                                    "0": "32",
                                    "1": "Arecibo"
                                },
                                {
                                    "0": "33",
                                    "1": "Arlington"
                                },
                                {
                                    "0": "34",
                                    "1": "Ashdod"
                                },
                                {
                                    "0": "35",
                                    "1": "Ashgabat"
                                },
                                {
                                    "0": "36",
                                    "1": "Ashqelon"
                                },
                                {
                                    "0": "37",
                                    "1": "Asuncin"
                                },
                                {
                                    "0": "38",
                                    "1": "Athenai"
                                },
                                {
                                    "0": "39",
                                    "1": "Atinsk"
                                },
                                {
                                    "0": "41",
                                    "1": "Augusta-Richmond County"
                                },
                                {
                                    "0": "42",
                                    "1": "Aurora"
                                },
                                {
                                    "0": "43",
                                    "1": "Avellaneda"
                                },
                                {
                                    "0": "44",
                                    "1": "Bag"
                                },
                                {
                                    "0": "45",
                                    "1": "Baha Blanca"
                                },
                                {
                                    "0": "46",
                                    "1": "Baicheng"
                                },
                                {
                                    "0": "47",
                                    "1": "Baiyin"
                                },
                                {
                                    "0": "48",
                                    "1": "Baku"
                                },
                                {
                                    "0": "49",
                                    "1": "Balaiha"
                                },
                                {
                                    "0": "50",
                                    "1": "Balikesir"
                                },
                                {
                                    "0": "51",
                                    "1": "Balurghat"
                                },
                                {
                                    "0": "52",
                                    "1": "Bamenda"
                                },
                                {
                                    "0": "53",
                                    "1": "Bandar Seri Begawan"
                                },
                                {
                                    "0": "54",
                                    "1": "Banjul"
                                },
                                {
                                    "0": "55",
                                    "1": "Barcelona"
                                },
                                {
                                    "0": "56",
                                    "1": "Basel"
                                },
                                {
                                    "0": "57",
                                    "1": "Bat Yam"
                                },
                                {
                                    "0": "58",
                                    "1": "Batman"
                                },
                                {
                                    "0": "59",
                                    "1": "Batna"
                                },
                                {
                                    "0": "60",
                                    "1": "Battambang"
                                },
                                {
                                    "0": "61",
                                    "1": "Baybay"
                                },
                                {
                                    "0": "62",
                                    "1": "Bayugan"
                                },
                                {
                                    "0": "63",
                                    "1": "Bchar"
                                },
                                {
                                    "0": "64",
                                    "1": "Beira"
                                },
                                {
                                    "0": "65",
                                    "1": "Bellevue"
                                },
                                {
                                    "0": "66",
                                    "1": "Belm"
                                },
                                {
                                    "0": "67",
                                    "1": "Benguela"
                                },
                                {
                                    "0": "68",
                                    "1": "Beni-Mellal"
                                },
                                {
                                    "0": "69",
                                    "1": "Benin City"
                                },
                                {
                                    "0": "70",
                                    "1": "Bergamo"
                                },
                                {
                                    "0": "71",
                                    "1": "Berhampore (Baharampur)"
                                },
                                {
                                    "0": "72",
                                    "1": "Bern"
                                },
                                {
                                    "0": "73",
                                    "1": "Bhavnagar"
                                },
                                {
                                    "0": "74",
                                    "1": "Bhilwara"
                                },
                                {
                                    "0": "75",
                                    "1": "Bhimavaram"
                                },
                                {
                                    "0": "76",
                                    "1": "Bhopal"
                                },
                                {
                                    "0": "77",
                                    "1": "Bhusawal"
                                },
                                {
                                    "0": "78",
                                    "1": "Bijapur"
                                },
                                {
                                    "0": "79",
                                    "1": "Bilbays"
                                },
                                {
                                    "0": "80",
                                    "1": "Binzhou"
                                },
                                {
                                    "0": "81",
                                    "1": "Birgunj"
                                },
                                {
                                    "0": "82",
                                    "1": "Bislig"
                                },
                                {
                                    "0": "83",
                                    "1": "Blumenau"
                                },
                                {
                                    "0": "84",
                                    "1": "Boa Vista"
                                },
                                {
                                    "0": "85",
                                    "1": "Boksburg"
                                },
                                {
                                    "0": "86",
                                    "1": "Botosani"
                                },
                                {
                                    "0": "87",
                                    "1": "Botshabelo"
                                },
                                {
                                    "0": "88",
                                    "1": "Bradford"
                                },
                                {
                                    "0": "89",
                                    "1": "Braslia"
                                },
                                {
                                    "0": "90",
                                    "1": "Bratislava"
                                },
                                {
                                    "0": "91",
                                    "1": "Brescia"
                                },
                                {
                                    "0": "92",
                                    "1": "Brest"
                                },
                                {
                                    "0": "93",
                                    "1": "Brindisi"
                                },
                                {
                                    "0": "94",
                                    "1": "Brockton"
                                },
                                {
                                    "0": "95",
                                    "1": "Bucuresti"
                                },
                                {
                                    "0": "96",
                                    "1": "Buenaventura"
                                },
                                {
                                    "0": "97",
                                    "1": "Bydgoszcz"
                                },
                                {
                                    "0": "98",
                                    "1": "Cabuyao"
                                },
                                {
                                    "0": "99",
                                    "1": "Callao"
                                },
                                {
                                    "0": "100",
                                    "1": "Cam Ranh"
                                },
                                {
                                    "0": "101",
                                    "1": "Cape Coral"
                                },
                                {
                                    "0": "102",
                                    "1": "Caracas"
                                },
                                {
                                    "0": "104",
                                    "1": "Cavite"
                                },
                                {
                                    "0": "105",
                                    "1": "Cayenne"
                                },
                                {
                                    "0": "107",
                                    "1": "Chandrapur"
                                },
                                {
                                    "0": "108",
                                    "1": "Changhwa"
                                },
                                {
                                    "0": "109",
                                    "1": "Changzhou"
                                },
                                {
                                    "0": "110",
                                    "1": "Chapra"
                                },
                                {
                                    "0": "111",
                                    "1": "Charlotte Amalie"
                                },
                                {
                                    "0": "112",
                                    "1": "Chatsworth"
                                },
                                {
                                    "0": "113",
                                    "1": "Cheju"
                                },
                                {
                                    "0": "114",
                                    "1": "Chiayi"
                                },
                                {
                                    "0": "115",
                                    "1": "Chisinau"
                                },
                                {
                                    "0": "116",
                                    "1": "Chungho"
                                },
                                {
                                    "0": "117",
                                    "1": "Cianjur"
                                },
                                {
                                    "0": "118",
                                    "1": "Ciomas"
                                },
                                {
                                    "0": "119",
                                    "1": "Ciparay"
                                },
                                {
                                    "0": "120",
                                    "1": "Citrus Heights"
                                },
                                {
                                    "0": "121",
                                    "1": "Citt del Vaticano"
                                },
                                {
                                    "0": "122",
                                    "1": "Ciudad del Este"
                                },
                                {
                                    "0": "123",
                                    "1": "Clarksville"
                                },
                                {
                                    "0": "126",
                                    "1": "Compton"
                                },
                                {
                                    "0": "127",
                                    "1": "Coquimbo"
                                },
                                {
                                    "0": "128",
                                    "1": "Crdoba"
                                },
                                {
                                    "0": "132",
                                    "1": "Cuman"
                                },
                                {
                                    "0": "133",
                                    "1": "Czestochowa"
                                },
                                {
                                    "0": "134",
                                    "1": "Dadu"
                                },
                                {
                                    "0": "135",
                                    "1": "Dallas"
                                },
                                {
                                    "0": "136",
                                    "1": "Datong"
                                },
                                {
                                    "0": "137",
                                    "1": "Daugavpils"
                                },
                                {
                                    "0": "138",
                                    "1": "Davao"
                                },
                                {
                                    "0": "139",
                                    "1": "Daxian"
                                },
                                {
                                    "0": "140",
                                    "1": "Dayton"
                                },
                                {
                                    "0": "141",
                                    "1": "Deba Habe"
                                },
                                {
                                    "0": "142",
                                    "1": "Denizli"
                                },
                                {
                                    "0": "143",
                                    "1": "Dhaka"
                                },
                                {
                                    "0": "144",
                                    "1": "Dhule (Dhulia)"
                                },
                                {
                                    "0": "145",
                                    "1": "Dongying"
                                },
                                {
                                    "0": "146",
                                    "1": "Donostia-San Sebastin"
                                },
                                {
                                    "0": "147",
                                    "1": "Dos Quebradas"
                                },
                                {
                                    "0": "148",
                                    "1": "Duisburg"
                                },
                                {
                                    "0": "149",
                                    "1": "Dundee"
                                },
                                {
                                    "0": "150",
                                    "1": "Dzerzinsk"
                                },
                                {
                                    "0": "151",
                                    "1": "Ede"
                                },
                                {
                                    "0": "152",
                                    "1": "Effon-Alaiye"
                                },
                                {
                                    "0": "153",
                                    "1": "El Alto"
                                },
                                {
                                    "0": "155",
                                    "1": "El Monte"
                                },
                                {
                                    "0": "156",
                                    "1": "Elista"
                                },
                                {
                                    "0": "157",
                                    "1": "Emeishan"
                                },
                                {
                                    "0": "158",
                                    "1": "Emmen"
                                },
                                {
                                    "0": "159",
                                    "1": "Enshi"
                                },
                                {
                                    "0": "160",
                                    "1": "Erlangen"
                                },
                                {
                                    "0": "161",
                                    "1": "Escobar"
                                },
                                {
                                    "0": "162",
                                    "1": "Esfahan"
                                },
                                {
                                    "0": "163",
                                    "1": "Eskisehir"
                                },
                                {
                                    "0": "164",
                                    "1": "Etawah"
                                },
                                {
                                    "0": "165",
                                    "1": "Ezeiza"
                                },
                                {
                                    "0": "166",
                                    "1": "Ezhou"
                                },
                                {
                                    "0": "167",
                                    "1": "Faaa"
                                },
                                {
                                    "0": "168",
                                    "1": "Fengshan"
                                },
                                {
                                    "0": "169",
                                    "1": "Firozabad"
                                },
                                {
                                    "0": "170",
                                    "1": "Florencia"
                                },
                                {
                                    "0": "171",
                                    "1": "Fontana"
                                },
                                {
                                    "0": "172",
                                    "1": "Fukuyama"
                                },
                                {
                                    "0": "173",
                                    "1": "Funafuti"
                                },
                                {
                                    "0": "174",
                                    "1": "Fuyu"
                                },
                                {
                                    "0": "175",
                                    "1": "Fuzhou"
                                },
                                {
                                    "0": "176",
                                    "1": "Gandhinagar"
                                },
                                {
                                    "0": "177",
                                    "1": "Garden Grove"
                                },
                                {
                                    "0": "178",
                                    "1": "Garland"
                                },
                                {
                                    "0": "180",
                                    "1": "Gaziantep"
                                },
                                {
                                    "0": "181",
                                    "1": "Gijn"
                                },
                                {
                                    "0": "182",
                                    "1": "Gingoog"
                                },
                                {
                                    "0": "183",
                                    "1": "Goinia"
                                },
                                {
                                    "0": "184",
                                    "1": "Gorontalo"
                                },
                                {
                                    "0": "185",
                                    "1": "Grand Prairie"
                                },
                                {
                                    "0": "186",
                                    "1": "Graz"
                                },
                                {
                                    "0": "187",
                                    "1": "Greensboro"
                                },
                                {
                                    "0": "189",
                                    "1": "Guaruj"
                                },
                                {
                                    "0": "190",
                                    "1": "guas Lindas de Gois"
                                },
                                {
                                    "0": "191",
                                    "1": "Gulbarga"
                                },
                                {
                                    "0": "192",
                                    "1": "Hagonoy"
                                },
                                {
                                    "0": "193",
                                    "1": "Haining"
                                },
                                {
                                    "0": "194",
                                    "1": "Haiphong"
                                },
                                {
                                    "0": "195",
                                    "1": "Haldia"
                                },
                                {
                                    "0": "197",
                                    "1": "Halisahar"
                                },
                                {
                                    "0": "198",
                                    "1": "Halle/Saale"
                                },
                                {
                                    "0": "199",
                                    "1": "Hami"
                                },
                                {
                                    "0": "200",
                                    "1": "Hamilton"
                                },
                                {
                                    "0": "201",
                                    "1": "Hanoi"
                                },
                                {
                                    "0": "203",
                                    "1": "Higashiosaka"
                                },
                                {
                                    "0": "204",
                                    "1": "Hino"
                                },
                                {
                                    "0": "205",
                                    "1": "Hiroshima"
                                },
                                {
                                    "0": "206",
                                    "1": "Hodeida"
                                },
                                {
                                    "0": "207",
                                    "1": "Hohhot"
                                },
                                {
                                    "0": "208",
                                    "1": "Hoshiarpur"
                                },
                                {
                                    "0": "209",
                                    "1": "Hsichuh"
                                },
                                {
                                    "0": "210",
                                    "1": "Huaian"
                                },
                                {
                                    "0": "211",
                                    "1": "Hubli-Dharwad"
                                },
                                {
                                    "0": "214",
                                    "1": "Hunuco"
                                },
                                {
                                    "0": "215",
                                    "1": "Ibirit"
                                },
                                {
                                    "0": "216",
                                    "1": "Idfu"
                                },
                                {
                                    "0": "217",
                                    "1": "Ife"
                                },
                                {
                                    "0": "218",
                                    "1": "Ikerre"
                                },
                                {
                                    "0": "219",
                                    "1": "Iligan"
                                },
                                {
                                    "0": "220",
                                    "1": "Ilorin"
                                },
                                {
                                    "0": "221",
                                    "1": "Imus"
                                },
                                {
                                    "0": "222",
                                    "1": "Inegl"
                                },
                                {
                                    "0": "223",
                                    "1": "Ipoh"
                                },
                                {
                                    "0": "224",
                                    "1": "Isesaki"
                                },
                                {
                                    "0": "225",
                                    "1": "Ivanovo"
                                },
                                {
                                    "0": "226",
                                    "1": "Iwaki"
                                },
                                {
                                    "0": "227",
                                    "1": "Iwakuni"
                                },
                                {
                                    "0": "228",
                                    "1": "Iwatsuki"
                                },
                                {
                                    "0": "229",
                                    "1": "Izumisano"
                                },
                                {
                                    "0": "230",
                                    "1": "Jaffna"
                                },
                                {
                                    "0": "231",
                                    "1": "Jaipur"
                                },
                                {
                                    "0": "232",
                                    "1": "Jakarta"
                                },
                                {
                                    "0": "233",
                                    "1": "Jalib al-Shuyukh"
                                },
                                {
                                    "0": "234",
                                    "1": "Jamalpur"
                                },
                                {
                                    "0": "235",
                                    "1": "Jaroslavl"
                                },
                                {
                                    "0": "236",
                                    "1": "Jastrzebie-Zdrj"
                                },
                                {
                                    "0": "237",
                                    "1": "Jedda"
                                },
                                {
                                    "0": "238",
                                    "1": "Jelets"
                                },
                                {
                                    "0": "239",
                                    "1": "Jhansi"
                                },
                                {
                                    "0": "240",
                                    "1": "Jinchang"
                                },
                                {
                                    "0": "241",
                                    "1": "Jining"
                                },
                                {
                                    "0": "242",
                                    "1": "Jinzhou"
                                },
                                {
                                    "0": "243",
                                    "1": "Jodhpur"
                                },
                                {
                                    "0": "244",
                                    "1": "Johannesburg"
                                },
                                {
                                    "0": "245",
                                    "1": "Joliet"
                                },
                                {
                                    "0": "247",
                                    "1": "Juazeiro do Norte"
                                },
                                {
                                    "0": "248",
                                    "1": "Juiz de Fora"
                                },
                                {
                                    "0": "249",
                                    "1": "Junan"
                                },
                                {
                                    "0": "251",
                                    "1": "Kabul"
                                },
                                {
                                    "0": "252",
                                    "1": "Kaduna"
                                },
                                {
                                    "0": "253",
                                    "1": "Kakamigahara"
                                },
                                {
                                    "0": "254",
                                    "1": "Kaliningrad"
                                },
                                {
                                    "0": "255",
                                    "1": "Kalisz"
                                },
                                {
                                    "0": "256",
                                    "1": "Kamakura"
                                },
                                {
                                    "0": "257",
                                    "1": "Kamarhati"
                                },
                                {
                                    "0": "258",
                                    "1": "Kamjanets-Podilskyi"
                                },
                                {
                                    "0": "259",
                                    "1": "Kamyin"
                                },
                                {
                                    "0": "260",
                                    "1": "Kanazawa"
                                },
                                {
                                    "0": "261",
                                    "1": "Kanchrapara"
                                },
                                {
                                    "0": "262",
                                    "1": "Kansas City"
                                },
                                {
                                    "0": "263",
                                    "1": "Karnal"
                                },
                                {
                                    "0": "264",
                                    "1": "Katihar"
                                },
                                {
                                    "0": "265",
                                    "1": "Kermanshah"
                                },
                                {
                                    "0": "266",
                                    "1": "Kilis"
                                },
                                {
                                    "0": "267",
                                    "1": "Kimberley"
                                },
                                {
                                    "0": "268",
                                    "1": "Kimchon"
                                },
                                {
                                    "0": "269",
                                    "1": "Kingstown"
                                },
                                {
                                    "0": "270",
                                    "1": "Kirovo-Tepetsk"
                                },
                                {
                                    "0": "271",
                                    "1": "Kisumu"
                                },
                                {
                                    "0": "272",
                                    "1": "Kitwe"
                                },
                                {
                                    "0": "273",
                                    "1": "Klerksdorp"
                                },
                                {
                                    "0": "274",
                                    "1": "Kolpino"
                                },
                                {
                                    "0": "275",
                                    "1": "Konotop"
                                },
                                {
                                    "0": "276",
                                    "1": "Koriyama"
                                },
                                {
                                    "0": "277",
                                    "1": "Korla"
                                },
                                {
                                    "0": "278",
                                    "1": "Korolev"
                                },
                                {
                                    "0": "279",
                                    "1": "Kowloon and New Kowloon"
                                },
                                {
                                    "0": "280",
                                    "1": "Kragujevac"
                                },
                                {
                                    "0": "281",
                                    "1": "Ktahya"
                                },
                                {
                                    "0": "282",
                                    "1": "Kuching"
                                },
                                {
                                    "0": "283",
                                    "1": "Kumbakonam"
                                },
                                {
                                    "0": "284",
                                    "1": "Kurashiki"
                                },
                                {
                                    "0": "285",
                                    "1": "Kurgan"
                                },
                                {
                                    "0": "286",
                                    "1": "Kursk"
                                },
                                {
                                    "0": "287",
                                    "1": "Kuwana"
                                },
                                {
                                    "0": "289",
                                    "1": "La Plata"
                                },
                                {
                                    "0": "290",
                                    "1": "La Romana"
                                },
                                {
                                    "0": "291",
                                    "1": "Laiwu"
                                },
                                {
                                    "0": "292",
                                    "1": "Lancaster"
                                },
                                {
                                    "0": "293",
                                    "1": "Laohekou"
                                },
                                {
                                    "0": "294",
                                    "1": "Lapu-Lapu"
                                },
                                {
                                    "0": "295",
                                    "1": "Laredo"
                                },
                                {
                                    "0": "296",
                                    "1": "Lausanne"
                                },
                                {
                                    "0": "297",
                                    "1": "Le Mans"
                                },
                                {
                                    "0": "298",
                                    "1": "Lengshuijiang"
                                },
                                {
                                    "0": "299",
                                    "1": "Leshan"
                                },
                                {
                                    "0": "301",
                                    "1": "Lhokseumawe"
                                },
                                {
                                    "0": "302",
                                    "1": "Liaocheng"
                                },
                                {
                                    "0": "303",
                                    "1": "Liepaja"
                                },
                                {
                                    "0": "304",
                                    "1": "Lilongwe"
                                },
                                {
                                    "0": "305",
                                    "1": "Lima"
                                },
                                {
                                    "0": "306",
                                    "1": "Lincoln"
                                },
                                {
                                    "0": "307",
                                    "1": "Linz"
                                },
                                {
                                    "0": "308",
                                    "1": "Lipetsk"
                                },
                                {
                                    "0": "309",
                                    "1": "Livorno"
                                },
                                {
                                    "0": "310",
                                    "1": "Ljubertsy"
                                },
                                {
                                    "0": "311",
                                    "1": "Loja"
                                },
                                {
                                    "0": "312",
                                    "1": "London"
                                },
                                {
                                    "0": "314",
                                    "1": "Lublin"
                                },
                                {
                                    "0": "315",
                                    "1": "Lubumbashi"
                                },
                                {
                                    "0": "316",
                                    "1": "Lungtan"
                                },
                                {
                                    "0": "317",
                                    "1": "Luzinia"
                                },
                                {
                                    "0": "318",
                                    "1": "Madiun"
                                },
                                {
                                    "0": "319",
                                    "1": "Mahajanga"
                                },
                                {
                                    "0": "320",
                                    "1": "Maikop"
                                },
                                {
                                    "0": "321",
                                    "1": "Malm"
                                },
                                {
                                    "0": "322",
                                    "1": "Manchester"
                                },
                                {
                                    "0": "323",
                                    "1": "Mandaluyong"
                                },
                                {
                                    "0": "324",
                                    "1": "Mandi Bahauddin"
                                },
                                {
                                    "0": "325",
                                    "1": "Mannheim"
                                },
                                {
                                    "0": "326",
                                    "1": "Maracabo"
                                },
                                {
                                    "0": "327",
                                    "1": "Mardan"
                                },
                                {
                                    "0": "328",
                                    "1": "Maring"
                                },
                                {
                                    "0": "329",
                                    "1": "Masqat"
                                },
                                {
                                    "0": "331",
                                    "1": "Matsue"
                                },
                                {
                                    "0": "332",
                                    "1": "Meixian"
                                },
                                {
                                    "0": "333",
                                    "1": "Memphis"
                                },
                                {
                                    "0": "334",
                                    "1": "Merlo"
                                },
                                {
                                    "0": "336",
                                    "1": "Miraj"
                                },
                                {
                                    "0": "337",
                                    "1": "Mit Ghamr"
                                },
                                {
                                    "0": "338",
                                    "1": "Miyakonojo"
                                },
                                {
                                    "0": "339",
                                    "1": "Mogiljov"
                                },
                                {
                                    "0": "340",
                                    "1": "Molodetno"
                                },
                                {
                                    "0": "342",
                                    "1": "Monywa"
                                },
                                {
                                    "0": "343",
                                    "1": "Moscow"
                                },
                                {
                                    "0": "344",
                                    "1": "Mosul"
                                },
                                {
                                    "0": "345",
                                    "1": "Mukateve"
                                },
                                {
                                    "0": "346",
                                    "1": "Munger (Monghyr)"
                                },
                                {
                                    "0": "347",
                                    "1": "Mwanza"
                                },
                                {
                                    "0": "348",
                                    "1": "Mwene-Ditu"
                                },
                                {
                                    "0": "349",
                                    "1": "Myingyan"
                                },
                                {
                                    "0": "350",
                                    "1": "Mysore"
                                },
                                {
                                    "0": "351",
                                    "1": "Naala-Porto"
                                },
                                {
                                    "0": "352",
                                    "1": "Nabereznyje Telny"
                                },
                                {
                                    "0": "353",
                                    "1": "Nador"
                                },
                                {
                                    "0": "354",
                                    "1": "Nagaon"
                                },
                                {
                                    "0": "355",
                                    "1": "Nagareyama"
                                },
                                {
                                    "0": "356",
                                    "1": "Najafabad"
                                },
                                {
                                    "0": "357",
                                    "1": "Naju"
                                },
                                {
                                    "0": "358",
                                    "1": "Nakhon Sawan"
                                },
                                {
                                    "0": "359",
                                    "1": "Nam Dinh"
                                },
                                {
                                    "0": "360",
                                    "1": "Namibe"
                                },
                                {
                                    "0": "361",
                                    "1": "Nantou"
                                },
                                {
                                    "0": "362",
                                    "1": "Nanyang"
                                },
                                {
                                    "0": "363",
                                    "1": "NDjamna"
                                },
                                {
                                    "0": "364",
                                    "1": "Newcastle"
                                },
                                {
                                    "0": "366",
                                    "1": "Nha Trang"
                                },
                                {
                                    "0": "367",
                                    "1": "Niznekamsk"
                                },
                                {
                                    "0": "368",
                                    "1": "Novi Sad"
                                },
                                {
                                    "0": "369",
                                    "1": "Novoterkassk"
                                },
                                {
                                    "0": "370",
                                    "1": "Nukualofa"
                                },
                                {
                                    "0": "371",
                                    "1": "Nuuk"
                                },
                                {
                                    "0": "372",
                                    "1": "Nyeri"
                                },
                                {
                                    "0": "373",
                                    "1": "Ocumare del Tuy"
                                },
                                {
                                    "0": "374",
                                    "1": "Ogbomosho"
                                },
                                {
                                    "0": "375",
                                    "1": "Okara"
                                },
                                {
                                    "0": "376",
                                    "1": "Okayama"
                                },
                                {
                                    "0": "377",
                                    "1": "Okinawa"
                                },
                                {
                                    "0": "378",
                                    "1": "Olomouc"
                                },
                                {
                                    "0": "379",
                                    "1": "Omdurman"
                                },
                                {
                                    "0": "380",
                                    "1": "Omiya"
                                },
                                {
                                    "0": "381",
                                    "1": "Ondo"
                                },
                                {
                                    "0": "382",
                                    "1": "Onomichi"
                                },
                                {
                                    "0": "384",
                                    "1": "Osmaniye"
                                },
                                {
                                    "0": "385",
                                    "1": "ostka"
                                },
                                {
                                    "0": "386",
                                    "1": "Otsu"
                                },
                                {
                                    "0": "387",
                                    "1": "Oulu"
                                },
                                {
                                    "0": "388",
                                    "1": "Ourense (Orense)"
                                },
                                {
                                    "0": "389",
                                    "1": "Owo"
                                },
                                {
                                    "0": "390",
                                    "1": "Oyo"
                                },
                                {
                                    "0": "391",
                                    "1": "Ozamis"
                                },
                                {
                                    "0": "392",
                                    "1": "Paarl"
                                },
                                {
                                    "0": "394",
                                    "1": "Pak Kret"
                                },
                                {
                                    "0": "395",
                                    "1": "Palghat (Palakkad)"
                                },
                                {
                                    "0": "396",
                                    "1": "Pangkal Pinang"
                                },
                                {
                                    "0": "397",
                                    "1": "Papeete"
                                },
                                {
                                    "0": "398",
                                    "1": "Parbhani"
                                },
                                {
                                    "0": "399",
                                    "1": "Pathankot"
                                },
                                {
                                    "0": "400",
                                    "1": "Patiala"
                                },
                                {
                                    "0": "401",
                                    "1": "Patras"
                                },
                                {
                                    "0": "402",
                                    "1": "Pavlodar"
                                },
                                {
                                    "0": "403",
                                    "1": "Pemalang"
                                },
                                {
                                    "0": "404",
                                    "1": "Peoria"
                                },
                                {
                                    "0": "405",
                                    "1": "Pereira"
                                },
                                {
                                    "0": "406",
                                    "1": "Phnom Penh"
                                },
                                {
                                    "0": "407",
                                    "1": "Pingxiang"
                                },
                                {
                                    "0": "408",
                                    "1": "Pjatigorsk"
                                },
                                {
                                    "0": "409",
                                    "1": "Plock"
                                },
                                {
                                    "0": "410",
                                    "1": "Po"
                                },
                                {
                                    "0": "411",
                                    "1": "Ponce"
                                },
                                {
                                    "0": "412",
                                    "1": "Pontianak"
                                },
                                {
                                    "0": "413",
                                    "1": "Poos de Caldas"
                                },
                                {
                                    "0": "414",
                                    "1": "Portoviejo"
                                },
                                {
                                    "0": "415",
                                    "1": "Probolinggo"
                                },
                                {
                                    "0": "416",
                                    "1": "Pudukkottai"
                                },
                                {
                                    "0": "417",
                                    "1": "Pune"
                                },
                                {
                                    "0": "418",
                                    "1": "Purnea (Purnia)"
                                },
                                {
                                    "0": "419",
                                    "1": "Purwakarta"
                                },
                                {
                                    "0": "420",
                                    "1": "Pyongyang"
                                },
                                {
                                    "0": "421",
                                    "1": "Qalyub"
                                },
                                {
                                    "0": "422",
                                    "1": "Qinhuangdao"
                                },
                                {
                                    "0": "423",
                                    "1": "Qomsheh"
                                },
                                {
                                    "0": "424",
                                    "1": "Quilmes"
                                },
                                {
                                    "0": "425",
                                    "1": "Rae Bareli"
                                },
                                {
                                    "0": "426",
                                    "1": "Rajkot"
                                },
                                {
                                    "0": "427",
                                    "1": "Rampur"
                                },
                                {
                                    "0": "428",
                                    "1": "Rancagua"
                                },
                                {
                                    "0": "429",
                                    "1": "Ranchi"
                                },
                                {
                                    "0": "431",
                                    "1": "Rio Claro"
                                },
                                {
                                    "0": "432",
                                    "1": "Rizhao"
                                },
                                {
                                    "0": "433",
                                    "1": "Roanoke"
                                },
                                {
                                    "0": "434",
                                    "1": "Robamba"
                                },
                                {
                                    "0": "435",
                                    "1": "Rockford"
                                },
                                {
                                    "0": "436",
                                    "1": "Ruse"
                                },
                                {
                                    "0": "437",
                                    "1": "Rustenburg"
                                },
                                {
                                    "0": "438",
                                    "1": "s-Hertogenbosch"
                                },
                                {
                                    "0": "439",
                                    "1": "Saarbrcken"
                                },
                                {
                                    "0": "440",
                                    "1": "Sagamihara"
                                },
                                {
                                    "0": "441",
                                    "1": "Saint Louis"
                                },
                                {
                                    "0": "442",
                                    "1": "Saint-Denis"
                                },
                                {
                                    "0": "443",
                                    "1": "Sal"
                                },
                                {
                                    "0": "444",
                                    "1": "Salala"
                                },
                                {
                                    "0": "446",
                                    "1": "Salinas"
                                },
                                {
                                    "0": "447",
                                    "1": "Salzburg"
                                },
                                {
                                    "0": "448",
                                    "1": "Sambhal"
                                },
                                {
                                    "0": "449",
                                    "1": "San Bernardino"
                                },
                                {
                                    "0": "450",
                                    "1": "San Felipe de Puerto Plata"
                                },
                                {
                                    "0": "453",
                                    "1": "San Lorenzo"
                                },
                                {
                                    "0": "454",
                                    "1": "San Miguel de Tucumn"
                                },
                                {
                                    "0": "455",
                                    "1": "Sanaa"
                                },
                                {
                                    "0": "456",
                                    "1": "Santa Brbara dOeste"
                                },
                                {
                                    "0": "457",
                                    "1": "Santa F"
                                },
                                {
                                    "0": "458",
                                    "1": "Santa Rosa"
                                },
                                {
                                    "0": "459",
                                    "1": "Santiago de Compostela"
                                },
                                {
                                    "0": "460",
                                    "1": "Santiago de los Caballeros"
                                },
                                {
                                    "0": "461",
                                    "1": "Santo Andr"
                                },
                                {
                                    "0": "462",
                                    "1": "Sanya"
                                },
                                {
                                    "0": "463",
                                    "1": "Sasebo"
                                },
                                {
                                    "0": "464",
                                    "1": "Satna"
                                },
                                {
                                    "0": "465",
                                    "1": "Sawhaj"
                                },
                                {
                                    "0": "466",
                                    "1": "Serpuhov"
                                },
                                {
                                    "0": "467",
                                    "1": "Shahr-e Kord"
                                },
                                {
                                    "0": "468",
                                    "1": "Shanwei"
                                },
                                {
                                    "0": "469",
                                    "1": "Shaoguan"
                                },
                                {
                                    "0": "470",
                                    "1": "Sharja"
                                },
                                {
                                    "0": "471",
                                    "1": "Shenzhen"
                                },
                                {
                                    "0": "472",
                                    "1": "Shikarpur"
                                },
                                {
                                    "0": "473",
                                    "1": "Shimoga"
                                },
                                {
                                    "0": "474",
                                    "1": "Shimonoseki"
                                },
                                {
                                    "0": "475",
                                    "1": "Shivapuri"
                                },
                                {
                                    "0": "476",
                                    "1": "Shubra al-Khayma"
                                },
                                {
                                    "0": "477",
                                    "1": "Siegen"
                                },
                                {
                                    "0": "478",
                                    "1": "Siliguri (Shiliguri)"
                                },
                                {
                                    "0": "479",
                                    "1": "Simferopol"
                                },
                                {
                                    "0": "480",
                                    "1": "Sincelejo"
                                },
                                {
                                    "0": "481",
                                    "1": "Sirjan"
                                },
                                {
                                    "0": "482",
                                    "1": "Sivas"
                                },
                                {
                                    "0": "483",
                                    "1": "Skikda"
                                },
                                {
                                    "0": "484",
                                    "1": "Smolensk"
                                },
                                {
                                    "0": "485",
                                    "1": "So Bernardo do Campo"
                                },
                                {
                                    "0": "486",
                                    "1": "So Leopoldo"
                                },
                                {
                                    "0": "487",
                                    "1": "Sogamoso"
                                },
                                {
                                    "0": "488",
                                    "1": "Sokoto"
                                },
                                {
                                    "0": "489",
                                    "1": "Songkhla"
                                },
                                {
                                    "0": "490",
                                    "1": "Sorocaba"
                                },
                                {
                                    "0": "491",
                                    "1": "Soshanguve"
                                },
                                {
                                    "0": "492",
                                    "1": "Sousse"
                                },
                                {
                                    "0": "493",
                                    "1": "South Hill"
                                },
                                {
                                    "0": "494",
                                    "1": "Southampton"
                                },
                                {
                                    "0": "495",
                                    "1": "Southend-on-Sea"
                                },
                                {
                                    "0": "496",
                                    "1": "Southport"
                                },
                                {
                                    "0": "497",
                                    "1": "Springs"
                                },
                                {
                                    "0": "498",
                                    "1": "Stara Zagora"
                                },
                                {
                                    "0": "499",
                                    "1": "Sterling Heights"
                                },
                                {
                                    "0": "500",
                                    "1": "Stockport"
                                },
                                {
                                    "0": "501",
                                    "1": "Sucre"
                                },
                                {
                                    "0": "502",
                                    "1": "Suihua"
                                },
                                {
                                    "0": "503",
                                    "1": "Sullana"
                                },
                                {
                                    "0": "504",
                                    "1": "Sultanbeyli"
                                },
                                {
                                    "0": "505",
                                    "1": "Sumqayit"
                                },
                                {
                                    "0": "506",
                                    "1": "Sumy"
                                },
                                {
                                    "0": "507",
                                    "1": "Sungai Petani"
                                },
                                {
                                    "0": "508",
                                    "1": "Sunnyvale"
                                },
                                {
                                    "0": "509",
                                    "1": "Surakarta"
                                },
                                {
                                    "0": "510",
                                    "1": "Syktyvkar"
                                },
                                {
                                    "0": "511",
                                    "1": "Syrakusa"
                                },
                                {
                                    "0": "512",
                                    "1": "Szkesfehrvr"
                                },
                                {
                                    "0": "513",
                                    "1": "Tabora"
                                },
                                {
                                    "0": "514",
                                    "1": "Tabriz"
                                },
                                {
                                    "0": "515",
                                    "1": "Tabuk"
                                },
                                {
                                    "0": "516",
                                    "1": "Tafuna"
                                },
                                {
                                    "0": "517",
                                    "1": "Taguig"
                                },
                                {
                                    "0": "518",
                                    "1": "Taizz"
                                },
                                {
                                    "0": "519",
                                    "1": "Talavera"
                                },
                                {
                                    "0": "520",
                                    "1": "Tallahassee"
                                },
                                {
                                    "0": "521",
                                    "1": "Tama"
                                },
                                {
                                    "0": "522",
                                    "1": "Tambaram"
                                },
                                {
                                    "0": "523",
                                    "1": "Tanauan"
                                },
                                {
                                    "0": "524",
                                    "1": "Tandil"
                                },
                                {
                                    "0": "525",
                                    "1": "Tangail"
                                },
                                {
                                    "0": "526",
                                    "1": "Tanshui"
                                },
                                {
                                    "0": "527",
                                    "1": "Tanza"
                                },
                                {
                                    "0": "528",
                                    "1": "Tarlac"
                                },
                                {
                                    "0": "529",
                                    "1": "Tarsus"
                                },
                                {
                                    "0": "530",
                                    "1": "Tartu"
                                },
                                {
                                    "0": "531",
                                    "1": "Teboksary"
                                },
                                {
                                    "0": "532",
                                    "1": "Tegal"
                                },
                                {
                                    "0": "533",
                                    "1": "Tel Aviv-Jaffa"
                                },
                                {
                                    "0": "534",
                                    "1": "Tete"
                                },
                                {
                                    "0": "535",
                                    "1": "Tianjin"
                                },
                                {
                                    "0": "536",
                                    "1": "Tiefa"
                                },
                                {
                                    "0": "537",
                                    "1": "Tieli"
                                },
                                {
                                    "0": "538",
                                    "1": "Tokat"
                                },
                                {
                                    "0": "539",
                                    "1": "Tonghae"
                                },
                                {
                                    "0": "540",
                                    "1": "Tongliao"
                                },
                                {
                                    "0": "542",
                                    "1": "Touliu"
                                },
                                {
                                    "0": "543",
                                    "1": "Toulon"
                                },
                                {
                                    "0": "544",
                                    "1": "Toulouse"
                                },
                                {
                                    "0": "545",
                                    "1": "Trshavn"
                                },
                                {
                                    "0": "546",
                                    "1": "Tsaotun"
                                },
                                {
                                    "0": "547",
                                    "1": "Tsuyama"
                                },
                                {
                                    "0": "548",
                                    "1": "Tuguegarao"
                                },
                                {
                                    "0": "549",
                                    "1": "Tychy"
                                },
                                {
                                    "0": "550",
                                    "1": "Udaipur"
                                },
                                {
                                    "0": "551",
                                    "1": "Udine"
                                },
                                {
                                    "0": "552",
                                    "1": "Ueda"
                                },
                                {
                                    "0": "553",
                                    "1": "Uijongbu"
                                },
                                {
                                    "0": "554",
                                    "1": "Uluberia"
                                },
                                {
                                    "0": "555",
                                    "1": "Urawa"
                                },
                                {
                                    "0": "557",
                                    "1": "Usak"
                                },
                                {
                                    "0": "558",
                                    "1": "Usolje-Sibirskoje"
                                },
                                {
                                    "0": "559",
                                    "1": "Uttarpara-Kotrung"
                                },
                                {
                                    "0": "560",
                                    "1": "Vaduz"
                                },
                                {
                                    "0": "561",
                                    "1": "Valencia"
                                },
                                {
                                    "0": "562",
                                    "1": "Valle de la Pascua"
                                },
                                {
                                    "0": "564",
                                    "1": "Valparai"
                                },
                                {
                                    "0": "566",
                                    "1": "Varanasi (Benares)"
                                },
                                {
                                    "0": "567",
                                    "1": "Vicente Lpez"
                                },
                                {
                                    "0": "568",
                                    "1": "Vijayawada"
                                },
                                {
                                    "0": "569",
                                    "1": "Vila Velha"
                                },
                                {
                                    "0": "570",
                                    "1": "Vilnius"
                                },
                                {
                                    "0": "571",
                                    "1": "Vinh"
                                },
                                {
                                    "0": "572",
                                    "1": "Vitria de Santo Anto"
                                },
                                {
                                    "0": "573",
                                    "1": "Warren"
                                },
                                {
                                    "0": "574",
                                    "1": "Weifang"
                                },
                                {
                                    "0": "575",
                                    "1": "Witten"
                                },
                                {
                                    "0": "576",
                                    "1": "Woodridge"
                                },
                                {
                                    "0": "577",
                                    "1": "Wroclaw"
                                },
                                {
                                    "0": "578",
                                    "1": "Xiangfan"
                                },
                                {
                                    "0": "579",
                                    "1": "Xiangtan"
                                },
                                {
                                    "0": "580",
                                    "1": "Xintai"
                                },
                                {
                                    "0": "581",
                                    "1": "Xinxiang"
                                },
                                {
                                    "0": "582",
                                    "1": "Yamuna Nagar"
                                },
                                {
                                    "0": "583",
                                    "1": "Yangor"
                                },
                                {
                                    "0": "584",
                                    "1": "Yantai"
                                },
                                {
                                    "0": "585",
                                    "1": "Yaound"
                                },
                                {
                                    "0": "586",
                                    "1": "Yerevan"
                                },
                                {
                                    "0": "587",
                                    "1": "Yinchuan"
                                },
                                {
                                    "0": "588",
                                    "1": "Yingkou"
                                },
                                {
                                    "0": "589",
                                    "1": "York"
                                },
                                {
                                    "0": "590",
                                    "1": "Yuncheng"
                                },
                                {
                                    "0": "591",
                                    "1": "Yuzhou"
                                },
                                {
                                    "0": "592",
                                    "1": "Zalantun"
                                },
                                {
                                    "0": "593",
                                    "1": "Zanzibar"
                                },
                                {
                                    "0": "594",
                                    "1": "Zaoyang"
                                },
                                {
                                    "0": "596",
                                    "1": "Zaria"
                                },
                                {
                                    "0": "597",
                                    "1": "Zeleznogorsk"
                                },
                                {
                                    "0": "598",
                                    "1": "Zhezqazghan"
                                },
                                {
                                    "0": "599",
                                    "1": "Zhoushan"
                                },
                                {
                                    "0": "600",
                                    "1": "Ziguinchor"
                                }
                            ]
                        },
                        "text/html": [
                            "<table>",
                            "<tr><th>city_id</th><th>city</th></tr>",
                            "<tr><td>1</td><td>A Corua (La Corua)</td></tr>",
                            "<tr><td>2</td><td>Abha</td></tr>",
                            "<tr><td>3</td><td>Abu Dhabi</td></tr>",
                            "<tr><td>5</td><td>Adana</td></tr>",
                            "<tr><td>6</td><td>Addis Abeba</td></tr>",
                            "<tr><td>7</td><td>Aden</td></tr>",
                            "<tr><td>8</td><td>Adoni</td></tr>",
                            "<tr><td>9</td><td>Ahmadnagar</td></tr>",
                            "<tr><td>10</td><td>Akishima</td></tr>",
                            "<tr><td>11</td><td>Akron</td></tr>",
                            "<tr><td>12</td><td>al-Ayn</td></tr>",
                            "<tr><td>13</td><td>al-Hawiya</td></tr>",
                            "<tr><td>14</td><td>al-Manama</td></tr>",
                            "<tr><td>15</td><td>al-Qadarif</td></tr>",
                            "<tr><td>16</td><td>al-Qatif</td></tr>",
                            "<tr><td>17</td><td>Alessandria</td></tr>",
                            "<tr><td>18</td><td>Allappuzha (Alleppey)</td></tr>",
                            "<tr><td>20</td><td>Almirante Brown</td></tr>",
                            "<tr><td>21</td><td>Alvorada</td></tr>",
                            "<tr><td>22</td><td>Ambattur</td></tr>",
                            "<tr><td>23</td><td>Amersfoort</td></tr>",
                            "<tr><td>24</td><td>Amroha</td></tr>",
                            "<tr><td>25</td><td>Angra dos Reis</td></tr>",
                            "<tr><td>26</td><td>Anpolis</td></tr>",
                            "<tr><td>27</td><td>Antofagasta</td></tr>",
                            "<tr><td>28</td><td>Aparecida de Goinia</td></tr>",
                            "<tr><td>29</td><td>Apeldoorn</td></tr>",
                            "<tr><td>30</td><td>Araatuba</td></tr>",
                            "<tr><td>31</td><td>Arak</td></tr>",
                            "<tr><td>32</td><td>Arecibo</td></tr>",
                            "<tr><td>33</td><td>Arlington</td></tr>",
                            "<tr><td>34</td><td>Ashdod</td></tr>",
                            "<tr><td>35</td><td>Ashgabat</td></tr>",
                            "<tr><td>36</td><td>Ashqelon</td></tr>",
                            "<tr><td>37</td><td>Asuncin</td></tr>",
                            "<tr><td>38</td><td>Athenai</td></tr>",
                            "<tr><td>39</td><td>Atinsk</td></tr>",
                            "<tr><td>41</td><td>Augusta-Richmond County</td></tr>",
                            "<tr><td>42</td><td>Aurora</td></tr>",
                            "<tr><td>43</td><td>Avellaneda</td></tr>",
                            "<tr><td>44</td><td>Bag</td></tr>",
                            "<tr><td>45</td><td>Baha Blanca</td></tr>",
                            "<tr><td>46</td><td>Baicheng</td></tr>",
                            "<tr><td>47</td><td>Baiyin</td></tr>",
                            "<tr><td>48</td><td>Baku</td></tr>",
                            "<tr><td>49</td><td>Balaiha</td></tr>",
                            "<tr><td>50</td><td>Balikesir</td></tr>",
                            "<tr><td>51</td><td>Balurghat</td></tr>",
                            "<tr><td>52</td><td>Bamenda</td></tr>",
                            "<tr><td>53</td><td>Bandar Seri Begawan</td></tr>",
                            "<tr><td>54</td><td>Banjul</td></tr>",
                            "<tr><td>55</td><td>Barcelona</td></tr>",
                            "<tr><td>56</td><td>Basel</td></tr>",
                            "<tr><td>57</td><td>Bat Yam</td></tr>",
                            "<tr><td>58</td><td>Batman</td></tr>",
                            "<tr><td>59</td><td>Batna</td></tr>",
                            "<tr><td>60</td><td>Battambang</td></tr>",
                            "<tr><td>61</td><td>Baybay</td></tr>",
                            "<tr><td>62</td><td>Bayugan</td></tr>",
                            "<tr><td>63</td><td>Bchar</td></tr>",
                            "<tr><td>64</td><td>Beira</td></tr>",
                            "<tr><td>65</td><td>Bellevue</td></tr>",
                            "<tr><td>66</td><td>Belm</td></tr>",
                            "<tr><td>67</td><td>Benguela</td></tr>",
                            "<tr><td>68</td><td>Beni-Mellal</td></tr>",
                            "<tr><td>69</td><td>Benin City</td></tr>",
                            "<tr><td>70</td><td>Bergamo</td></tr>",
                            "<tr><td>71</td><td>Berhampore (Baharampur)</td></tr>",
                            "<tr><td>72</td><td>Bern</td></tr>",
                            "<tr><td>73</td><td>Bhavnagar</td></tr>",
                            "<tr><td>74</td><td>Bhilwara</td></tr>",
                            "<tr><td>75</td><td>Bhimavaram</td></tr>",
                            "<tr><td>76</td><td>Bhopal</td></tr>",
                            "<tr><td>77</td><td>Bhusawal</td></tr>",
                            "<tr><td>78</td><td>Bijapur</td></tr>",
                            "<tr><td>79</td><td>Bilbays</td></tr>",
                            "<tr><td>80</td><td>Binzhou</td></tr>",
                            "<tr><td>81</td><td>Birgunj</td></tr>",
                            "<tr><td>82</td><td>Bislig</td></tr>",
                            "<tr><td>83</td><td>Blumenau</td></tr>",
                            "<tr><td>84</td><td>Boa Vista</td></tr>",
                            "<tr><td>85</td><td>Boksburg</td></tr>",
                            "<tr><td>86</td><td>Botosani</td></tr>",
                            "<tr><td>87</td><td>Botshabelo</td></tr>",
                            "<tr><td>88</td><td>Bradford</td></tr>",
                            "<tr><td>89</td><td>Braslia</td></tr>",
                            "<tr><td>90</td><td>Bratislava</td></tr>",
                            "<tr><td>91</td><td>Brescia</td></tr>",
                            "<tr><td>92</td><td>Brest</td></tr>",
                            "<tr><td>93</td><td>Brindisi</td></tr>",
                            "<tr><td>94</td><td>Brockton</td></tr>",
                            "<tr><td>95</td><td>Bucuresti</td></tr>",
                            "<tr><td>96</td><td>Buenaventura</td></tr>",
                            "<tr><td>97</td><td>Bydgoszcz</td></tr>",
                            "<tr><td>98</td><td>Cabuyao</td></tr>",
                            "<tr><td>99</td><td>Callao</td></tr>",
                            "<tr><td>100</td><td>Cam Ranh</td></tr>",
                            "<tr><td>101</td><td>Cape Coral</td></tr>",
                            "<tr><td>102</td><td>Caracas</td></tr>",
                            "<tr><td>104</td><td>Cavite</td></tr>",
                            "<tr><td>105</td><td>Cayenne</td></tr>",
                            "<tr><td>107</td><td>Chandrapur</td></tr>",
                            "<tr><td>108</td><td>Changhwa</td></tr>",
                            "<tr><td>109</td><td>Changzhou</td></tr>",
                            "<tr><td>110</td><td>Chapra</td></tr>",
                            "<tr><td>111</td><td>Charlotte Amalie</td></tr>",
                            "<tr><td>112</td><td>Chatsworth</td></tr>",
                            "<tr><td>113</td><td>Cheju</td></tr>",
                            "<tr><td>114</td><td>Chiayi</td></tr>",
                            "<tr><td>115</td><td>Chisinau</td></tr>",
                            "<tr><td>116</td><td>Chungho</td></tr>",
                            "<tr><td>117</td><td>Cianjur</td></tr>",
                            "<tr><td>118</td><td>Ciomas</td></tr>",
                            "<tr><td>119</td><td>Ciparay</td></tr>",
                            "<tr><td>120</td><td>Citrus Heights</td></tr>",
                            "<tr><td>121</td><td>Citt del Vaticano</td></tr>",
                            "<tr><td>122</td><td>Ciudad del Este</td></tr>",
                            "<tr><td>123</td><td>Clarksville</td></tr>",
                            "<tr><td>126</td><td>Compton</td></tr>",
                            "<tr><td>127</td><td>Coquimbo</td></tr>",
                            "<tr><td>128</td><td>Crdoba</td></tr>",
                            "<tr><td>132</td><td>Cuman</td></tr>",
                            "<tr><td>133</td><td>Czestochowa</td></tr>",
                            "<tr><td>134</td><td>Dadu</td></tr>",
                            "<tr><td>135</td><td>Dallas</td></tr>",
                            "<tr><td>136</td><td>Datong</td></tr>",
                            "<tr><td>137</td><td>Daugavpils</td></tr>",
                            "<tr><td>138</td><td>Davao</td></tr>",
                            "<tr><td>139</td><td>Daxian</td></tr>",
                            "<tr><td>140</td><td>Dayton</td></tr>",
                            "<tr><td>141</td><td>Deba Habe</td></tr>",
                            "<tr><td>142</td><td>Denizli</td></tr>",
                            "<tr><td>143</td><td>Dhaka</td></tr>",
                            "<tr><td>144</td><td>Dhule (Dhulia)</td></tr>",
                            "<tr><td>145</td><td>Dongying</td></tr>",
                            "<tr><td>146</td><td>Donostia-San Sebastin</td></tr>",
                            "<tr><td>147</td><td>Dos Quebradas</td></tr>",
                            "<tr><td>148</td><td>Duisburg</td></tr>",
                            "<tr><td>149</td><td>Dundee</td></tr>",
                            "<tr><td>150</td><td>Dzerzinsk</td></tr>",
                            "<tr><td>151</td><td>Ede</td></tr>",
                            "<tr><td>152</td><td>Effon-Alaiye</td></tr>",
                            "<tr><td>153</td><td>El Alto</td></tr>",
                            "<tr><td>155</td><td>El Monte</td></tr>",
                            "<tr><td>156</td><td>Elista</td></tr>",
                            "<tr><td>157</td><td>Emeishan</td></tr>",
                            "<tr><td>158</td><td>Emmen</td></tr>",
                            "<tr><td>159</td><td>Enshi</td></tr>",
                            "<tr><td>160</td><td>Erlangen</td></tr>",
                            "<tr><td>161</td><td>Escobar</td></tr>",
                            "<tr><td>162</td><td>Esfahan</td></tr>",
                            "<tr><td>163</td><td>Eskisehir</td></tr>",
                            "<tr><td>164</td><td>Etawah</td></tr>",
                            "<tr><td>165</td><td>Ezeiza</td></tr>",
                            "<tr><td>166</td><td>Ezhou</td></tr>",
                            "<tr><td>167</td><td>Faaa</td></tr>",
                            "<tr><td>168</td><td>Fengshan</td></tr>",
                            "<tr><td>169</td><td>Firozabad</td></tr>",
                            "<tr><td>170</td><td>Florencia</td></tr>",
                            "<tr><td>171</td><td>Fontana</td></tr>",
                            "<tr><td>172</td><td>Fukuyama</td></tr>",
                            "<tr><td>173</td><td>Funafuti</td></tr>",
                            "<tr><td>174</td><td>Fuyu</td></tr>",
                            "<tr><td>175</td><td>Fuzhou</td></tr>",
                            "<tr><td>176</td><td>Gandhinagar</td></tr>",
                            "<tr><td>177</td><td>Garden Grove</td></tr>",
                            "<tr><td>178</td><td>Garland</td></tr>",
                            "<tr><td>180</td><td>Gaziantep</td></tr>",
                            "<tr><td>181</td><td>Gijn</td></tr>",
                            "<tr><td>182</td><td>Gingoog</td></tr>",
                            "<tr><td>183</td><td>Goinia</td></tr>",
                            "<tr><td>184</td><td>Gorontalo</td></tr>",
                            "<tr><td>185</td><td>Grand Prairie</td></tr>",
                            "<tr><td>186</td><td>Graz</td></tr>",
                            "<tr><td>187</td><td>Greensboro</td></tr>",
                            "<tr><td>189</td><td>Guaruj</td></tr>",
                            "<tr><td>190</td><td>guas Lindas de Gois</td></tr>",
                            "<tr><td>191</td><td>Gulbarga</td></tr>",
                            "<tr><td>192</td><td>Hagonoy</td></tr>",
                            "<tr><td>193</td><td>Haining</td></tr>",
                            "<tr><td>194</td><td>Haiphong</td></tr>",
                            "<tr><td>195</td><td>Haldia</td></tr>",
                            "<tr><td>197</td><td>Halisahar</td></tr>",
                            "<tr><td>198</td><td>Halle/Saale</td></tr>",
                            "<tr><td>199</td><td>Hami</td></tr>",
                            "<tr><td>200</td><td>Hamilton</td></tr>",
                            "<tr><td>201</td><td>Hanoi</td></tr>",
                            "<tr><td>203</td><td>Higashiosaka</td></tr>",
                            "<tr><td>204</td><td>Hino</td></tr>",
                            "<tr><td>205</td><td>Hiroshima</td></tr>",
                            "<tr><td>206</td><td>Hodeida</td></tr>",
                            "<tr><td>207</td><td>Hohhot</td></tr>",
                            "<tr><td>208</td><td>Hoshiarpur</td></tr>",
                            "<tr><td>209</td><td>Hsichuh</td></tr>",
                            "<tr><td>210</td><td>Huaian</td></tr>",
                            "<tr><td>211</td><td>Hubli-Dharwad</td></tr>",
                            "<tr><td>214</td><td>Hunuco</td></tr>",
                            "<tr><td>215</td><td>Ibirit</td></tr>",
                            "<tr><td>216</td><td>Idfu</td></tr>",
                            "<tr><td>217</td><td>Ife</td></tr>",
                            "<tr><td>218</td><td>Ikerre</td></tr>",
                            "<tr><td>219</td><td>Iligan</td></tr>",
                            "<tr><td>220</td><td>Ilorin</td></tr>",
                            "<tr><td>221</td><td>Imus</td></tr>",
                            "<tr><td>222</td><td>Inegl</td></tr>",
                            "<tr><td>223</td><td>Ipoh</td></tr>",
                            "<tr><td>224</td><td>Isesaki</td></tr>",
                            "<tr><td>225</td><td>Ivanovo</td></tr>",
                            "<tr><td>226</td><td>Iwaki</td></tr>",
                            "<tr><td>227</td><td>Iwakuni</td></tr>",
                            "<tr><td>228</td><td>Iwatsuki</td></tr>",
                            "<tr><td>229</td><td>Izumisano</td></tr>",
                            "<tr><td>230</td><td>Jaffna</td></tr>",
                            "<tr><td>231</td><td>Jaipur</td></tr>",
                            "<tr><td>232</td><td>Jakarta</td></tr>",
                            "<tr><td>233</td><td>Jalib al-Shuyukh</td></tr>",
                            "<tr><td>234</td><td>Jamalpur</td></tr>",
                            "<tr><td>235</td><td>Jaroslavl</td></tr>",
                            "<tr><td>236</td><td>Jastrzebie-Zdrj</td></tr>",
                            "<tr><td>237</td><td>Jedda</td></tr>",
                            "<tr><td>238</td><td>Jelets</td></tr>",
                            "<tr><td>239</td><td>Jhansi</td></tr>",
                            "<tr><td>240</td><td>Jinchang</td></tr>",
                            "<tr><td>241</td><td>Jining</td></tr>",
                            "<tr><td>242</td><td>Jinzhou</td></tr>",
                            "<tr><td>243</td><td>Jodhpur</td></tr>",
                            "<tr><td>244</td><td>Johannesburg</td></tr>",
                            "<tr><td>245</td><td>Joliet</td></tr>",
                            "<tr><td>247</td><td>Juazeiro do Norte</td></tr>",
                            "<tr><td>248</td><td>Juiz de Fora</td></tr>",
                            "<tr><td>249</td><td>Junan</td></tr>",
                            "<tr><td>251</td><td>Kabul</td></tr>",
                            "<tr><td>252</td><td>Kaduna</td></tr>",
                            "<tr><td>253</td><td>Kakamigahara</td></tr>",
                            "<tr><td>254</td><td>Kaliningrad</td></tr>",
                            "<tr><td>255</td><td>Kalisz</td></tr>",
                            "<tr><td>256</td><td>Kamakura</td></tr>",
                            "<tr><td>257</td><td>Kamarhati</td></tr>",
                            "<tr><td>258</td><td>Kamjanets-Podilskyi</td></tr>",
                            "<tr><td>259</td><td>Kamyin</td></tr>",
                            "<tr><td>260</td><td>Kanazawa</td></tr>",
                            "<tr><td>261</td><td>Kanchrapara</td></tr>",
                            "<tr><td>262</td><td>Kansas City</td></tr>",
                            "<tr><td>263</td><td>Karnal</td></tr>",
                            "<tr><td>264</td><td>Katihar</td></tr>",
                            "<tr><td>265</td><td>Kermanshah</td></tr>",
                            "<tr><td>266</td><td>Kilis</td></tr>",
                            "<tr><td>267</td><td>Kimberley</td></tr>",
                            "<tr><td>268</td><td>Kimchon</td></tr>",
                            "<tr><td>269</td><td>Kingstown</td></tr>",
                            "<tr><td>270</td><td>Kirovo-Tepetsk</td></tr>",
                            "<tr><td>271</td><td>Kisumu</td></tr>",
                            "<tr><td>272</td><td>Kitwe</td></tr>",
                            "<tr><td>273</td><td>Klerksdorp</td></tr>",
                            "<tr><td>274</td><td>Kolpino</td></tr>",
                            "<tr><td>275</td><td>Konotop</td></tr>",
                            "<tr><td>276</td><td>Koriyama</td></tr>",
                            "<tr><td>277</td><td>Korla</td></tr>",
                            "<tr><td>278</td><td>Korolev</td></tr>",
                            "<tr><td>279</td><td>Kowloon and New Kowloon</td></tr>",
                            "<tr><td>280</td><td>Kragujevac</td></tr>",
                            "<tr><td>281</td><td>Ktahya</td></tr>",
                            "<tr><td>282</td><td>Kuching</td></tr>",
                            "<tr><td>283</td><td>Kumbakonam</td></tr>",
                            "<tr><td>284</td><td>Kurashiki</td></tr>",
                            "<tr><td>285</td><td>Kurgan</td></tr>",
                            "<tr><td>286</td><td>Kursk</td></tr>",
                            "<tr><td>287</td><td>Kuwana</td></tr>",
                            "<tr><td>289</td><td>La Plata</td></tr>",
                            "<tr><td>290</td><td>La Romana</td></tr>",
                            "<tr><td>291</td><td>Laiwu</td></tr>",
                            "<tr><td>292</td><td>Lancaster</td></tr>",
                            "<tr><td>293</td><td>Laohekou</td></tr>",
                            "<tr><td>294</td><td>Lapu-Lapu</td></tr>",
                            "<tr><td>295</td><td>Laredo</td></tr>",
                            "<tr><td>296</td><td>Lausanne</td></tr>",
                            "<tr><td>297</td><td>Le Mans</td></tr>",
                            "<tr><td>298</td><td>Lengshuijiang</td></tr>",
                            "<tr><td>299</td><td>Leshan</td></tr>",
                            "<tr><td>301</td><td>Lhokseumawe</td></tr>",
                            "<tr><td>302</td><td>Liaocheng</td></tr>",
                            "<tr><td>303</td><td>Liepaja</td></tr>",
                            "<tr><td>304</td><td>Lilongwe</td></tr>",
                            "<tr><td>305</td><td>Lima</td></tr>",
                            "<tr><td>306</td><td>Lincoln</td></tr>",
                            "<tr><td>307</td><td>Linz</td></tr>",
                            "<tr><td>308</td><td>Lipetsk</td></tr>",
                            "<tr><td>309</td><td>Livorno</td></tr>",
                            "<tr><td>310</td><td>Ljubertsy</td></tr>",
                            "<tr><td>311</td><td>Loja</td></tr>",
                            "<tr><td>312</td><td>London</td></tr>",
                            "<tr><td>314</td><td>Lublin</td></tr>",
                            "<tr><td>315</td><td>Lubumbashi</td></tr>",
                            "<tr><td>316</td><td>Lungtan</td></tr>",
                            "<tr><td>317</td><td>Luzinia</td></tr>",
                            "<tr><td>318</td><td>Madiun</td></tr>",
                            "<tr><td>319</td><td>Mahajanga</td></tr>",
                            "<tr><td>320</td><td>Maikop</td></tr>",
                            "<tr><td>321</td><td>Malm</td></tr>",
                            "<tr><td>322</td><td>Manchester</td></tr>",
                            "<tr><td>323</td><td>Mandaluyong</td></tr>",
                            "<tr><td>324</td><td>Mandi Bahauddin</td></tr>",
                            "<tr><td>325</td><td>Mannheim</td></tr>",
                            "<tr><td>326</td><td>Maracabo</td></tr>",
                            "<tr><td>327</td><td>Mardan</td></tr>",
                            "<tr><td>328</td><td>Maring</td></tr>",
                            "<tr><td>329</td><td>Masqat</td></tr>",
                            "<tr><td>331</td><td>Matsue</td></tr>",
                            "<tr><td>332</td><td>Meixian</td></tr>",
                            "<tr><td>333</td><td>Memphis</td></tr>",
                            "<tr><td>334</td><td>Merlo</td></tr>",
                            "<tr><td>336</td><td>Miraj</td></tr>",
                            "<tr><td>337</td><td>Mit Ghamr</td></tr>",
                            "<tr><td>338</td><td>Miyakonojo</td></tr>",
                            "<tr><td>339</td><td>Mogiljov</td></tr>",
                            "<tr><td>340</td><td>Molodetno</td></tr>",
                            "<tr><td>342</td><td>Monywa</td></tr>",
                            "<tr><td>343</td><td>Moscow</td></tr>",
                            "<tr><td>344</td><td>Mosul</td></tr>",
                            "<tr><td>345</td><td>Mukateve</td></tr>",
                            "<tr><td>346</td><td>Munger (Monghyr)</td></tr>",
                            "<tr><td>347</td><td>Mwanza</td></tr>",
                            "<tr><td>348</td><td>Mwene-Ditu</td></tr>",
                            "<tr><td>349</td><td>Myingyan</td></tr>",
                            "<tr><td>350</td><td>Mysore</td></tr>",
                            "<tr><td>351</td><td>Naala-Porto</td></tr>",
                            "<tr><td>352</td><td>Nabereznyje Telny</td></tr>",
                            "<tr><td>353</td><td>Nador</td></tr>",
                            "<tr><td>354</td><td>Nagaon</td></tr>",
                            "<tr><td>355</td><td>Nagareyama</td></tr>",
                            "<tr><td>356</td><td>Najafabad</td></tr>",
                            "<tr><td>357</td><td>Naju</td></tr>",
                            "<tr><td>358</td><td>Nakhon Sawan</td></tr>",
                            "<tr><td>359</td><td>Nam Dinh</td></tr>",
                            "<tr><td>360</td><td>Namibe</td></tr>",
                            "<tr><td>361</td><td>Nantou</td></tr>",
                            "<tr><td>362</td><td>Nanyang</td></tr>",
                            "<tr><td>363</td><td>NDjamna</td></tr>",
                            "<tr><td>364</td><td>Newcastle</td></tr>",
                            "<tr><td>366</td><td>Nha Trang</td></tr>",
                            "<tr><td>367</td><td>Niznekamsk</td></tr>",
                            "<tr><td>368</td><td>Novi Sad</td></tr>",
                            "<tr><td>369</td><td>Novoterkassk</td></tr>",
                            "<tr><td>370</td><td>Nukualofa</td></tr>",
                            "<tr><td>371</td><td>Nuuk</td></tr>",
                            "<tr><td>372</td><td>Nyeri</td></tr>",
                            "<tr><td>373</td><td>Ocumare del Tuy</td></tr>",
                            "<tr><td>374</td><td>Ogbomosho</td></tr>",
                            "<tr><td>375</td><td>Okara</td></tr>",
                            "<tr><td>376</td><td>Okayama</td></tr>",
                            "<tr><td>377</td><td>Okinawa</td></tr>",
                            "<tr><td>378</td><td>Olomouc</td></tr>",
                            "<tr><td>379</td><td>Omdurman</td></tr>",
                            "<tr><td>380</td><td>Omiya</td></tr>",
                            "<tr><td>381</td><td>Ondo</td></tr>",
                            "<tr><td>382</td><td>Onomichi</td></tr>",
                            "<tr><td>384</td><td>Osmaniye</td></tr>",
                            "<tr><td>385</td><td>ostka</td></tr>",
                            "<tr><td>386</td><td>Otsu</td></tr>",
                            "<tr><td>387</td><td>Oulu</td></tr>",
                            "<tr><td>388</td><td>Ourense (Orense)</td></tr>",
                            "<tr><td>389</td><td>Owo</td></tr>",
                            "<tr><td>390</td><td>Oyo</td></tr>",
                            "<tr><td>391</td><td>Ozamis</td></tr>",
                            "<tr><td>392</td><td>Paarl</td></tr>",
                            "<tr><td>394</td><td>Pak Kret</td></tr>",
                            "<tr><td>395</td><td>Palghat (Palakkad)</td></tr>",
                            "<tr><td>396</td><td>Pangkal Pinang</td></tr>",
                            "<tr><td>397</td><td>Papeete</td></tr>",
                            "<tr><td>398</td><td>Parbhani</td></tr>",
                            "<tr><td>399</td><td>Pathankot</td></tr>",
                            "<tr><td>400</td><td>Patiala</td></tr>",
                            "<tr><td>401</td><td>Patras</td></tr>",
                            "<tr><td>402</td><td>Pavlodar</td></tr>",
                            "<tr><td>403</td><td>Pemalang</td></tr>",
                            "<tr><td>404</td><td>Peoria</td></tr>",
                            "<tr><td>405</td><td>Pereira</td></tr>",
                            "<tr><td>406</td><td>Phnom Penh</td></tr>",
                            "<tr><td>407</td><td>Pingxiang</td></tr>",
                            "<tr><td>408</td><td>Pjatigorsk</td></tr>",
                            "<tr><td>409</td><td>Plock</td></tr>",
                            "<tr><td>410</td><td>Po</td></tr>",
                            "<tr><td>411</td><td>Ponce</td></tr>",
                            "<tr><td>412</td><td>Pontianak</td></tr>",
                            "<tr><td>413</td><td>Poos de Caldas</td></tr>",
                            "<tr><td>414</td><td>Portoviejo</td></tr>",
                            "<tr><td>415</td><td>Probolinggo</td></tr>",
                            "<tr><td>416</td><td>Pudukkottai</td></tr>",
                            "<tr><td>417</td><td>Pune</td></tr>",
                            "<tr><td>418</td><td>Purnea (Purnia)</td></tr>",
                            "<tr><td>419</td><td>Purwakarta</td></tr>",
                            "<tr><td>420</td><td>Pyongyang</td></tr>",
                            "<tr><td>421</td><td>Qalyub</td></tr>",
                            "<tr><td>422</td><td>Qinhuangdao</td></tr>",
                            "<tr><td>423</td><td>Qomsheh</td></tr>",
                            "<tr><td>424</td><td>Quilmes</td></tr>",
                            "<tr><td>425</td><td>Rae Bareli</td></tr>",
                            "<tr><td>426</td><td>Rajkot</td></tr>",
                            "<tr><td>427</td><td>Rampur</td></tr>",
                            "<tr><td>428</td><td>Rancagua</td></tr>",
                            "<tr><td>429</td><td>Ranchi</td></tr>",
                            "<tr><td>431</td><td>Rio Claro</td></tr>",
                            "<tr><td>432</td><td>Rizhao</td></tr>",
                            "<tr><td>433</td><td>Roanoke</td></tr>",
                            "<tr><td>434</td><td>Robamba</td></tr>",
                            "<tr><td>435</td><td>Rockford</td></tr>",
                            "<tr><td>436</td><td>Ruse</td></tr>",
                            "<tr><td>437</td><td>Rustenburg</td></tr>",
                            "<tr><td>438</td><td>s-Hertogenbosch</td></tr>",
                            "<tr><td>439</td><td>Saarbrcken</td></tr>",
                            "<tr><td>440</td><td>Sagamihara</td></tr>",
                            "<tr><td>441</td><td>Saint Louis</td></tr>",
                            "<tr><td>442</td><td>Saint-Denis</td></tr>",
                            "<tr><td>443</td><td>Sal</td></tr>",
                            "<tr><td>444</td><td>Salala</td></tr>",
                            "<tr><td>446</td><td>Salinas</td></tr>",
                            "<tr><td>447</td><td>Salzburg</td></tr>",
                            "<tr><td>448</td><td>Sambhal</td></tr>",
                            "<tr><td>449</td><td>San Bernardino</td></tr>",
                            "<tr><td>450</td><td>San Felipe de Puerto Plata</td></tr>",
                            "<tr><td>453</td><td>San Lorenzo</td></tr>",
                            "<tr><td>454</td><td>San Miguel de Tucumn</td></tr>",
                            "<tr><td>455</td><td>Sanaa</td></tr>",
                            "<tr><td>456</td><td>Santa Brbara dOeste</td></tr>",
                            "<tr><td>457</td><td>Santa F</td></tr>",
                            "<tr><td>458</td><td>Santa Rosa</td></tr>",
                            "<tr><td>459</td><td>Santiago de Compostela</td></tr>",
                            "<tr><td>460</td><td>Santiago de los Caballeros</td></tr>",
                            "<tr><td>461</td><td>Santo Andr</td></tr>",
                            "<tr><td>462</td><td>Sanya</td></tr>",
                            "<tr><td>463</td><td>Sasebo</td></tr>",
                            "<tr><td>464</td><td>Satna</td></tr>",
                            "<tr><td>465</td><td>Sawhaj</td></tr>",
                            "<tr><td>466</td><td>Serpuhov</td></tr>",
                            "<tr><td>467</td><td>Shahr-e Kord</td></tr>",
                            "<tr><td>468</td><td>Shanwei</td></tr>",
                            "<tr><td>469</td><td>Shaoguan</td></tr>",
                            "<tr><td>470</td><td>Sharja</td></tr>",
                            "<tr><td>471</td><td>Shenzhen</td></tr>",
                            "<tr><td>472</td><td>Shikarpur</td></tr>",
                            "<tr><td>473</td><td>Shimoga</td></tr>",
                            "<tr><td>474</td><td>Shimonoseki</td></tr>",
                            "<tr><td>475</td><td>Shivapuri</td></tr>",
                            "<tr><td>476</td><td>Shubra al-Khayma</td></tr>",
                            "<tr><td>477</td><td>Siegen</td></tr>",
                            "<tr><td>478</td><td>Siliguri (Shiliguri)</td></tr>",
                            "<tr><td>479</td><td>Simferopol</td></tr>",
                            "<tr><td>480</td><td>Sincelejo</td></tr>",
                            "<tr><td>481</td><td>Sirjan</td></tr>",
                            "<tr><td>482</td><td>Sivas</td></tr>",
                            "<tr><td>483</td><td>Skikda</td></tr>",
                            "<tr><td>484</td><td>Smolensk</td></tr>",
                            "<tr><td>485</td><td>So Bernardo do Campo</td></tr>",
                            "<tr><td>486</td><td>So Leopoldo</td></tr>",
                            "<tr><td>487</td><td>Sogamoso</td></tr>",
                            "<tr><td>488</td><td>Sokoto</td></tr>",
                            "<tr><td>489</td><td>Songkhla</td></tr>",
                            "<tr><td>490</td><td>Sorocaba</td></tr>",
                            "<tr><td>491</td><td>Soshanguve</td></tr>",
                            "<tr><td>492</td><td>Sousse</td></tr>",
                            "<tr><td>493</td><td>South Hill</td></tr>",
                            "<tr><td>494</td><td>Southampton</td></tr>",
                            "<tr><td>495</td><td>Southend-on-Sea</td></tr>",
                            "<tr><td>496</td><td>Southport</td></tr>",
                            "<tr><td>497</td><td>Springs</td></tr>",
                            "<tr><td>498</td><td>Stara Zagora</td></tr>",
                            "<tr><td>499</td><td>Sterling Heights</td></tr>",
                            "<tr><td>500</td><td>Stockport</td></tr>",
                            "<tr><td>501</td><td>Sucre</td></tr>",
                            "<tr><td>502</td><td>Suihua</td></tr>",
                            "<tr><td>503</td><td>Sullana</td></tr>",
                            "<tr><td>504</td><td>Sultanbeyli</td></tr>",
                            "<tr><td>505</td><td>Sumqayit</td></tr>",
                            "<tr><td>506</td><td>Sumy</td></tr>",
                            "<tr><td>507</td><td>Sungai Petani</td></tr>",
                            "<tr><td>508</td><td>Sunnyvale</td></tr>",
                            "<tr><td>509</td><td>Surakarta</td></tr>",
                            "<tr><td>510</td><td>Syktyvkar</td></tr>",
                            "<tr><td>511</td><td>Syrakusa</td></tr>",
                            "<tr><td>512</td><td>Szkesfehrvr</td></tr>",
                            "<tr><td>513</td><td>Tabora</td></tr>",
                            "<tr><td>514</td><td>Tabriz</td></tr>",
                            "<tr><td>515</td><td>Tabuk</td></tr>",
                            "<tr><td>516</td><td>Tafuna</td></tr>",
                            "<tr><td>517</td><td>Taguig</td></tr>",
                            "<tr><td>518</td><td>Taizz</td></tr>",
                            "<tr><td>519</td><td>Talavera</td></tr>",
                            "<tr><td>520</td><td>Tallahassee</td></tr>",
                            "<tr><td>521</td><td>Tama</td></tr>",
                            "<tr><td>522</td><td>Tambaram</td></tr>",
                            "<tr><td>523</td><td>Tanauan</td></tr>",
                            "<tr><td>524</td><td>Tandil</td></tr>",
                            "<tr><td>525</td><td>Tangail</td></tr>",
                            "<tr><td>526</td><td>Tanshui</td></tr>",
                            "<tr><td>527</td><td>Tanza</td></tr>",
                            "<tr><td>528</td><td>Tarlac</td></tr>",
                            "<tr><td>529</td><td>Tarsus</td></tr>",
                            "<tr><td>530</td><td>Tartu</td></tr>",
                            "<tr><td>531</td><td>Teboksary</td></tr>",
                            "<tr><td>532</td><td>Tegal</td></tr>",
                            "<tr><td>533</td><td>Tel Aviv-Jaffa</td></tr>",
                            "<tr><td>534</td><td>Tete</td></tr>",
                            "<tr><td>535</td><td>Tianjin</td></tr>",
                            "<tr><td>536</td><td>Tiefa</td></tr>",
                            "<tr><td>537</td><td>Tieli</td></tr>",
                            "<tr><td>538</td><td>Tokat</td></tr>",
                            "<tr><td>539</td><td>Tonghae</td></tr>",
                            "<tr><td>540</td><td>Tongliao</td></tr>",
                            "<tr><td>542</td><td>Touliu</td></tr>",
                            "<tr><td>543</td><td>Toulon</td></tr>",
                            "<tr><td>544</td><td>Toulouse</td></tr>",
                            "<tr><td>545</td><td>Trshavn</td></tr>",
                            "<tr><td>546</td><td>Tsaotun</td></tr>",
                            "<tr><td>547</td><td>Tsuyama</td></tr>",
                            "<tr><td>548</td><td>Tuguegarao</td></tr>",
                            "<tr><td>549</td><td>Tychy</td></tr>",
                            "<tr><td>550</td><td>Udaipur</td></tr>",
                            "<tr><td>551</td><td>Udine</td></tr>",
                            "<tr><td>552</td><td>Ueda</td></tr>",
                            "<tr><td>553</td><td>Uijongbu</td></tr>",
                            "<tr><td>554</td><td>Uluberia</td></tr>",
                            "<tr><td>555</td><td>Urawa</td></tr>",
                            "<tr><td>557</td><td>Usak</td></tr>",
                            "<tr><td>558</td><td>Usolje-Sibirskoje</td></tr>",
                            "<tr><td>559</td><td>Uttarpara-Kotrung</td></tr>",
                            "<tr><td>560</td><td>Vaduz</td></tr>",
                            "<tr><td>561</td><td>Valencia</td></tr>",
                            "<tr><td>562</td><td>Valle de la Pascua</td></tr>",
                            "<tr><td>564</td><td>Valparai</td></tr>",
                            "<tr><td>566</td><td>Varanasi (Benares)</td></tr>",
                            "<tr><td>567</td><td>Vicente Lpez</td></tr>",
                            "<tr><td>568</td><td>Vijayawada</td></tr>",
                            "<tr><td>569</td><td>Vila Velha</td></tr>",
                            "<tr><td>570</td><td>Vilnius</td></tr>",
                            "<tr><td>571</td><td>Vinh</td></tr>",
                            "<tr><td>572</td><td>Vitria de Santo Anto</td></tr>",
                            "<tr><td>573</td><td>Warren</td></tr>",
                            "<tr><td>574</td><td>Weifang</td></tr>",
                            "<tr><td>575</td><td>Witten</td></tr>",
                            "<tr><td>576</td><td>Woodridge</td></tr>",
                            "<tr><td>577</td><td>Wroclaw</td></tr>",
                            "<tr><td>578</td><td>Xiangfan</td></tr>",
                            "<tr><td>579</td><td>Xiangtan</td></tr>",
                            "<tr><td>580</td><td>Xintai</td></tr>",
                            "<tr><td>581</td><td>Xinxiang</td></tr>",
                            "<tr><td>582</td><td>Yamuna Nagar</td></tr>",
                            "<tr><td>583</td><td>Yangor</td></tr>",
                            "<tr><td>584</td><td>Yantai</td></tr>",
                            "<tr><td>585</td><td>Yaound</td></tr>",
                            "<tr><td>586</td><td>Yerevan</td></tr>",
                            "<tr><td>587</td><td>Yinchuan</td></tr>",
                            "<tr><td>588</td><td>Yingkou</td></tr>",
                            "<tr><td>589</td><td>York</td></tr>",
                            "<tr><td>590</td><td>Yuncheng</td></tr>",
                            "<tr><td>591</td><td>Yuzhou</td></tr>",
                            "<tr><td>592</td><td>Zalantun</td></tr>",
                            "<tr><td>593</td><td>Zanzibar</td></tr>",
                            "<tr><td>594</td><td>Zaoyang</td></tr>",
                            "<tr><td>596</td><td>Zaria</td></tr>",
                            "<tr><td>597</td><td>Zeleznogorsk</td></tr>",
                            "<tr><td>598</td><td>Zhezqazghan</td></tr>",
                            "<tr><td>599</td><td>Zhoushan</td></tr>",
                            "<tr><td>600</td><td>Ziguinchor</td></tr>",
                            "</table>"
                        ]
                    }
                }
            ],
            "execution_count": 12
        },
        {
            "cell_type": "code",
            "source": [
                "SELECT first_name, last_name\n",
                "FROM customer\n",
                "WHERE customer_id <> ALL (\n",
                "    SELECT customer_id\n",
                "    FROM payment\n",
                "    WHERE amount = 0\n",
                ")"
            ],
            "metadata": {
                "azdata_cell_guid": "abee4045-730c-40af-8a08-f7aea5a896ea"
            },
            "outputs": [
                {
                    "output_type": "display_data",
                    "data": {
                        "text/html": "(576 rows affected)"
                    },
                    "metadata": {}
                },
                {
                    "output_type": "display_data",
                    "data": {
                        "text/html": "Total execution time: 00:00:00.040"
                    },
                    "metadata": {}
                },
                {
                    "output_type": "execute_result",
                    "metadata": {},
                    "execution_count": 13,
                    "data": {
                        "application/vnd.dataresource+json": {
                            "schema": {
                                "fields": [
                                    {
                                        "name": "first_name"
                                    },
                                    {
                                        "name": "last_name"
                                    }
                                ]
                            },
                            "data": [
                                {
                                    "0": "MARY",
                                    "1": "SMITH"
                                },
                                {
                                    "0": "PATRICIA",
                                    "1": "JOHNSON"
                                },
                                {
                                    "0": "LINDA",
                                    "1": "WILLIAMS"
                                },
                                {
                                    "0": "BARBARA",
                                    "1": "JONES"
                                },
                                {
                                    "0": "ELIZABETH",
                                    "1": "BROWN"
                                },
                                {
                                    "0": "JENNIFER",
                                    "1": "DAVIS"
                                },
                                {
                                    "0": "MARIA",
                                    "1": "MILLER"
                                },
                                {
                                    "0": "SUSAN",
                                    "1": "WILSON"
                                },
                                {
                                    "0": "MARGARET",
                                    "1": "MOORE"
                                },
                                {
                                    "0": "DOROTHY",
                                    "1": "TAYLOR"
                                },
                                {
                                    "0": "LISA",
                                    "1": "ANDERSON"
                                },
                                {
                                    "0": "NANCY",
                                    "1": "THOMAS"
                                },
                                {
                                    "0": "KAREN",
                                    "1": "JACKSON"
                                },
                                {
                                    "0": "BETTY",
                                    "1": "WHITE"
                                },
                                {
                                    "0": "SANDRA",
                                    "1": "MARTIN"
                                },
                                {
                                    "0": "DONNA",
                                    "1": "THOMPSON"
                                },
                                {
                                    "0": "CAROL",
                                    "1": "GARCIA"
                                },
                                {
                                    "0": "RUTH",
                                    "1": "MARTINEZ"
                                },
                                {
                                    "0": "SHARON",
                                    "1": "ROBINSON"
                                },
                                {
                                    "0": "MICHELLE",
                                    "1": "CLARK"
                                },
                                {
                                    "0": "LAURA",
                                    "1": "RODRIGUEZ"
                                },
                                {
                                    "0": "SARAH",
                                    "1": "LEWIS"
                                },
                                {
                                    "0": "KIMBERLY",
                                    "1": "LEE"
                                },
                                {
                                    "0": "DEBORAH",
                                    "1": "WALKER"
                                },
                                {
                                    "0": "JESSICA",
                                    "1": "HALL"
                                },
                                {
                                    "0": "SHIRLEY",
                                    "1": "ALLEN"
                                },
                                {
                                    "0": "CYNTHIA",
                                    "1": "YOUNG"
                                },
                                {
                                    "0": "ANGELA",
                                    "1": "HERNANDEZ"
                                },
                                {
                                    "0": "MELISSA",
                                    "1": "KING"
                                },
                                {
                                    "0": "BRENDA",
                                    "1": "WRIGHT"
                                },
                                {
                                    "0": "AMY",
                                    "1": "LOPEZ"
                                },
                                {
                                    "0": "ANNA",
                                    "1": "HILL"
                                },
                                {
                                    "0": "REBECCA",
                                    "1": "SCOTT"
                                },
                                {
                                    "0": "VIRGINIA",
                                    "1": "GREEN"
                                },
                                {
                                    "0": "KATHLEEN",
                                    "1": "ADAMS"
                                },
                                {
                                    "0": "PAMELA",
                                    "1": "BAKER"
                                },
                                {
                                    "0": "MARTHA",
                                    "1": "GONZALEZ"
                                },
                                {
                                    "0": "DEBRA",
                                    "1": "NELSON"
                                },
                                {
                                    "0": "AMANDA",
                                    "1": "CARTER"
                                },
                                {
                                    "0": "STEPHANIE",
                                    "1": "MITCHELL"
                                },
                                {
                                    "0": "MARIE",
                                    "1": "TURNER"
                                },
                                {
                                    "0": "JANET",
                                    "1": "PHILLIPS"
                                },
                                {
                                    "0": "CATHERINE",
                                    "1": "CAMPBELL"
                                },
                                {
                                    "0": "FRANCES",
                                    "1": "PARKER"
                                },
                                {
                                    "0": "ANN",
                                    "1": "EVANS"
                                },
                                {
                                    "0": "JOYCE",
                                    "1": "EDWARDS"
                                },
                                {
                                    "0": "DIANE",
                                    "1": "COLLINS"
                                },
                                {
                                    "0": "ALICE",
                                    "1": "STEWART"
                                },
                                {
                                    "0": "JULIE",
                                    "1": "SANCHEZ"
                                },
                                {
                                    "0": "TERESA",
                                    "1": "ROGERS"
                                },
                                {
                                    "0": "DORIS",
                                    "1": "REED"
                                },
                                {
                                    "0": "GLORIA",
                                    "1": "COOK"
                                },
                                {
                                    "0": "EVELYN",
                                    "1": "MORGAN"
                                },
                                {
                                    "0": "JEAN",
                                    "1": "BELL"
                                },
                                {
                                    "0": "CHERYL",
                                    "1": "MURPHY"
                                },
                                {
                                    "0": "KATHERINE",
                                    "1": "RIVERA"
                                },
                                {
                                    "0": "JOAN",
                                    "1": "COOPER"
                                },
                                {
                                    "0": "ASHLEY",
                                    "1": "RICHARDSON"
                                },
                                {
                                    "0": "JUDITH",
                                    "1": "COX"
                                },
                                {
                                    "0": "ROSE",
                                    "1": "HOWARD"
                                },
                                {
                                    "0": "JANICE",
                                    "1": "WARD"
                                },
                                {
                                    "0": "KELLY",
                                    "1": "TORRES"
                                },
                                {
                                    "0": "NICOLE",
                                    "1": "PETERSON"
                                },
                                {
                                    "0": "JUDY",
                                    "1": "GRAY"
                                },
                                {
                                    "0": "CHRISTINA",
                                    "1": "RAMIREZ"
                                },
                                {
                                    "0": "KATHY",
                                    "1": "JAMES"
                                },
                                {
                                    "0": "THERESA",
                                    "1": "WATSON"
                                },
                                {
                                    "0": "BEVERLY",
                                    "1": "BROOKS"
                                },
                                {
                                    "0": "DENISE",
                                    "1": "KELLY"
                                },
                                {
                                    "0": "IRENE",
                                    "1": "PRICE"
                                },
                                {
                                    "0": "JANE",
                                    "1": "BENNETT"
                                },
                                {
                                    "0": "LORI",
                                    "1": "WOOD"
                                },
                                {
                                    "0": "RACHEL",
                                    "1": "BARNES"
                                },
                                {
                                    "0": "MARILYN",
                                    "1": "ROSS"
                                },
                                {
                                    "0": "ANDREA",
                                    "1": "HENDERSON"
                                },
                                {
                                    "0": "KATHRYN",
                                    "1": "COLEMAN"
                                },
                                {
                                    "0": "LOUISE",
                                    "1": "JENKINS"
                                },
                                {
                                    "0": "SARA",
                                    "1": "PERRY"
                                },
                                {
                                    "0": "ANNE",
                                    "1": "POWELL"
                                },
                                {
                                    "0": "JACQUELINE",
                                    "1": "LONG"
                                },
                                {
                                    "0": "WANDA",
                                    "1": "PATTERSON"
                                },
                                {
                                    "0": "BONNIE",
                                    "1": "HUGHES"
                                },
                                {
                                    "0": "JULIA",
                                    "1": "FLORES"
                                },
                                {
                                    "0": "RUBY",
                                    "1": "WASHINGTON"
                                },
                                {
                                    "0": "LOIS",
                                    "1": "BUTLER"
                                },
                                {
                                    "0": "TINA",
                                    "1": "SIMMONS"
                                },
                                {
                                    "0": "PHYLLIS",
                                    "1": "FOSTER"
                                },
                                {
                                    "0": "NORMA",
                                    "1": "GONZALES"
                                },
                                {
                                    "0": "PAULA",
                                    "1": "BRYANT"
                                },
                                {
                                    "0": "DIANA",
                                    "1": "ALEXANDER"
                                },
                                {
                                    "0": "ANNIE",
                                    "1": "RUSSELL"
                                },
                                {
                                    "0": "LILLIAN",
                                    "1": "GRIFFIN"
                                },
                                {
                                    "0": "EMILY",
                                    "1": "DIAZ"
                                },
                                {
                                    "0": "ROBIN",
                                    "1": "HAYES"
                                },
                                {
                                    "0": "PEGGY",
                                    "1": "MYERS"
                                },
                                {
                                    "0": "CRYSTAL",
                                    "1": "FORD"
                                },
                                {
                                    "0": "GLADYS",
                                    "1": "HAMILTON"
                                },
                                {
                                    "0": "RITA",
                                    "1": "GRAHAM"
                                },
                                {
                                    "0": "DAWN",
                                    "1": "SULLIVAN"
                                },
                                {
                                    "0": "CONNIE",
                                    "1": "WALLACE"
                                },
                                {
                                    "0": "TRACY",
                                    "1": "COLE"
                                },
                                {
                                    "0": "EDNA",
                                    "1": "WEST"
                                },
                                {
                                    "0": "TIFFANY",
                                    "1": "JORDAN"
                                },
                                {
                                    "0": "CARMEN",
                                    "1": "OWENS"
                                },
                                {
                                    "0": "ROSA",
                                    "1": "REYNOLDS"
                                },
                                {
                                    "0": "CINDY",
                                    "1": "FISHER"
                                },
                                {
                                    "0": "GRACE",
                                    "1": "ELLIS"
                                },
                                {
                                    "0": "WENDY",
                                    "1": "HARRISON"
                                },
                                {
                                    "0": "VICTORIA",
                                    "1": "GIBSON"
                                },
                                {
                                    "0": "EDITH",
                                    "1": "MCDONALD"
                                },
                                {
                                    "0": "KIM",
                                    "1": "CRUZ"
                                },
                                {
                                    "0": "SHERRY",
                                    "1": "MARSHALL"
                                },
                                {
                                    "0": "SYLVIA",
                                    "1": "ORTIZ"
                                },
                                {
                                    "0": "JOSEPHINE",
                                    "1": "GOMEZ"
                                },
                                {
                                    "0": "THELMA",
                                    "1": "MURRAY"
                                },
                                {
                                    "0": "SHANNON",
                                    "1": "FREEMAN"
                                },
                                {
                                    "0": "SHEILA",
                                    "1": "WELLS"
                                },
                                {
                                    "0": "ETHEL",
                                    "1": "WEBB"
                                },
                                {
                                    "0": "ELLEN",
                                    "1": "SIMPSON"
                                },
                                {
                                    "0": "ELAINE",
                                    "1": "STEVENS"
                                },
                                {
                                    "0": "MARJORIE",
                                    "1": "TUCKER"
                                },
                                {
                                    "0": "CARRIE",
                                    "1": "PORTER"
                                },
                                {
                                    "0": "CHARLOTTE",
                                    "1": "HUNTER"
                                },
                                {
                                    "0": "MONICA",
                                    "1": "HICKS"
                                },
                                {
                                    "0": "ESTHER",
                                    "1": "CRAWFORD"
                                },
                                {
                                    "0": "PAULINE",
                                    "1": "HENRY"
                                },
                                {
                                    "0": "EMMA",
                                    "1": "BOYD"
                                },
                                {
                                    "0": "JUANITA",
                                    "1": "MASON"
                                },
                                {
                                    "0": "ANITA",
                                    "1": "MORALES"
                                },
                                {
                                    "0": "RHONDA",
                                    "1": "KENNEDY"
                                },
                                {
                                    "0": "HAZEL",
                                    "1": "WARREN"
                                },
                                {
                                    "0": "AMBER",
                                    "1": "DIXON"
                                },
                                {
                                    "0": "EVA",
                                    "1": "RAMOS"
                                },
                                {
                                    "0": "DEBBIE",
                                    "1": "REYES"
                                },
                                {
                                    "0": "APRIL",
                                    "1": "BURNS"
                                },
                                {
                                    "0": "LESLIE",
                                    "1": "GORDON"
                                },
                                {
                                    "0": "CLARA",
                                    "1": "SHAW"
                                },
                                {
                                    "0": "LUCILLE",
                                    "1": "HOLMES"
                                },
                                {
                                    "0": "JAMIE",
                                    "1": "RICE"
                                },
                                {
                                    "0": "JOANNE",
                                    "1": "ROBERTSON"
                                },
                                {
                                    "0": "ELEANOR",
                                    "1": "HUNT"
                                },
                                {
                                    "0": "VALERIE",
                                    "1": "BLACK"
                                },
                                {
                                    "0": "DANIELLE",
                                    "1": "DANIELS"
                                },
                                {
                                    "0": "MEGAN",
                                    "1": "PALMER"
                                },
                                {
                                    "0": "ALICIA",
                                    "1": "MILLS"
                                },
                                {
                                    "0": "SUZANNE",
                                    "1": "NICHOLS"
                                },
                                {
                                    "0": "MICHELE",
                                    "1": "GRANT"
                                },
                                {
                                    "0": "BERTHA",
                                    "1": "FERGUSON"
                                },
                                {
                                    "0": "DARLENE",
                                    "1": "ROSE"
                                },
                                {
                                    "0": "VERONICA",
                                    "1": "STONE"
                                },
                                {
                                    "0": "JILL",
                                    "1": "HAWKINS"
                                },
                                {
                                    "0": "ERIN",
                                    "1": "DUNN"
                                },
                                {
                                    "0": "GERALDINE",
                                    "1": "PERKINS"
                                },
                                {
                                    "0": "LAUREN",
                                    "1": "HUDSON"
                                },
                                {
                                    "0": "JOANN",
                                    "1": "GARDNER"
                                },
                                {
                                    "0": "LORRAINE",
                                    "1": "STEPHENS"
                                },
                                {
                                    "0": "LYNN",
                                    "1": "PAYNE"
                                },
                                {
                                    "0": "SALLY",
                                    "1": "PIERCE"
                                },
                                {
                                    "0": "REGINA",
                                    "1": "BERRY"
                                },
                                {
                                    "0": "ERICA",
                                    "1": "MATTHEWS"
                                },
                                {
                                    "0": "BEATRICE",
                                    "1": "ARNOLD"
                                },
                                {
                                    "0": "DOLORES",
                                    "1": "WAGNER"
                                },
                                {
                                    "0": "BERNICE",
                                    "1": "WILLIS"
                                },
                                {
                                    "0": "AUDREY",
                                    "1": "RAY"
                                },
                                {
                                    "0": "YVONNE",
                                    "1": "WATKINS"
                                },
                                {
                                    "0": "JUNE",
                                    "1": "CARROLL"
                                },
                                {
                                    "0": "SAMANTHA",
                                    "1": "DUNCAN"
                                },
                                {
                                    "0": "MARION",
                                    "1": "SNYDER"
                                },
                                {
                                    "0": "DANA",
                                    "1": "HART"
                                },
                                {
                                    "0": "STACY",
                                    "1": "CUNNINGHAM"
                                },
                                {
                                    "0": "ANA",
                                    "1": "BRADLEY"
                                },
                                {
                                    "0": "RENEE",
                                    "1": "LANE"
                                },
                                {
                                    "0": "IDA",
                                    "1": "ANDREWS"
                                },
                                {
                                    "0": "VIVIAN",
                                    "1": "RUIZ"
                                },
                                {
                                    "0": "ROBERTA",
                                    "1": "HARPER"
                                },
                                {
                                    "0": "HOLLY",
                                    "1": "FOX"
                                },
                                {
                                    "0": "BRITTANY",
                                    "1": "RILEY"
                                },
                                {
                                    "0": "MELANIE",
                                    "1": "ARMSTRONG"
                                },
                                {
                                    "0": "LORETTA",
                                    "1": "CARPENTER"
                                },
                                {
                                    "0": "YOLANDA",
                                    "1": "WEAVER"
                                },
                                {
                                    "0": "JEANETTE",
                                    "1": "GREENE"
                                },
                                {
                                    "0": "LAURIE",
                                    "1": "LAWRENCE"
                                },
                                {
                                    "0": "KATIE",
                                    "1": "ELLIOTT"
                                },
                                {
                                    "0": "KRISTEN",
                                    "1": "CHAVEZ"
                                },
                                {
                                    "0": "VANESSA",
                                    "1": "SIMS"
                                },
                                {
                                    "0": "ALMA",
                                    "1": "AUSTIN"
                                },
                                {
                                    "0": "SUE",
                                    "1": "PETERS"
                                },
                                {
                                    "0": "ELSIE",
                                    "1": "KELLEY"
                                },
                                {
                                    "0": "BETH",
                                    "1": "FRANKLIN"
                                },
                                {
                                    "0": "JEANNE",
                                    "1": "LAWSON"
                                },
                                {
                                    "0": "VICKI",
                                    "1": "FIELDS"
                                },
                                {
                                    "0": "CARLA",
                                    "1": "GUTIERREZ"
                                },
                                {
                                    "0": "TARA",
                                    "1": "RYAN"
                                },
                                {
                                    "0": "ROSEMARY",
                                    "1": "SCHMIDT"
                                },
                                {
                                    "0": "EILEEN",
                                    "1": "CARR"
                                },
                                {
                                    "0": "TERRI",
                                    "1": "VASQUEZ"
                                },
                                {
                                    "0": "GERTRUDE",
                                    "1": "CASTILLO"
                                },
                                {
                                    "0": "TONYA",
                                    "1": "CHAPMAN"
                                },
                                {
                                    "0": "ELLA",
                                    "1": "OLIVER"
                                },
                                {
                                    "0": "STACEY",
                                    "1": "MONTGOMERY"
                                },
                                {
                                    "0": "WILMA",
                                    "1": "RICHARDS"
                                },
                                {
                                    "0": "GINA",
                                    "1": "WILLIAMSON"
                                },
                                {
                                    "0": "KRISTIN",
                                    "1": "JOHNSTON"
                                },
                                {
                                    "0": "JESSIE",
                                    "1": "BANKS"
                                },
                                {
                                    "0": "AGNES",
                                    "1": "BISHOP"
                                },
                                {
                                    "0": "VERA",
                                    "1": "MCCOY"
                                },
                                {
                                    "0": "WILLIE",
                                    "1": "HOWELL"
                                },
                                {
                                    "0": "CHARLENE",
                                    "1": "ALVAREZ"
                                },
                                {
                                    "0": "BESSIE",
                                    "1": "MORRISON"
                                },
                                {
                                    "0": "DELORES",
                                    "1": "HANSEN"
                                },
                                {
                                    "0": "MELINDA",
                                    "1": "FERNANDEZ"
                                },
                                {
                                    "0": "PEARL",
                                    "1": "GARZA"
                                },
                                {
                                    "0": "ARLENE",
                                    "1": "HARVEY"
                                },
                                {
                                    "0": "MAUREEN",
                                    "1": "LITTLE"
                                },
                                {
                                    "0": "COLLEEN",
                                    "1": "BURTON"
                                },
                                {
                                    "0": "TAMARA",
                                    "1": "NGUYEN"
                                },
                                {
                                    "0": "JOY",
                                    "1": "GEORGE"
                                },
                                {
                                    "0": "GEORGIA",
                                    "1": "JACOBS"
                                },
                                {
                                    "0": "CONSTANCE",
                                    "1": "REID"
                                },
                                {
                                    "0": "LILLIE",
                                    "1": "KIM"
                                },
                                {
                                    "0": "CLAUDIA",
                                    "1": "FULLER"
                                },
                                {
                                    "0": "JACKIE",
                                    "1": "LYNCH"
                                },
                                {
                                    "0": "MARCIA",
                                    "1": "DEAN"
                                },
                                {
                                    "0": "TANYA",
                                    "1": "GILBERT"
                                },
                                {
                                    "0": "NELLIE",
                                    "1": "GARRETT"
                                },
                                {
                                    "0": "MINNIE",
                                    "1": "ROMERO"
                                },
                                {
                                    "0": "MARLENE",
                                    "1": "WELCH"
                                },
                                {
                                    "0": "HEIDI",
                                    "1": "LARSON"
                                },
                                {
                                    "0": "GLENDA",
                                    "1": "FRAZIER"
                                },
                                {
                                    "0": "LYDIA",
                                    "1": "BURKE"
                                },
                                {
                                    "0": "VIOLA",
                                    "1": "HANSON"
                                },
                                {
                                    "0": "COURTNEY",
                                    "1": "DAY"
                                },
                                {
                                    "0": "MARIAN",
                                    "1": "MENDOZA"
                                },
                                {
                                    "0": "STELLA",
                                    "1": "MORENO"
                                },
                                {
                                    "0": "CAROLINE",
                                    "1": "BOWMAN"
                                },
                                {
                                    "0": "DORA",
                                    "1": "MEDINA"
                                },
                                {
                                    "0": "JO",
                                    "1": "FOWLER"
                                },
                                {
                                    "0": "VICKIE",
                                    "1": "BREWER"
                                },
                                {
                                    "0": "MATTIE",
                                    "1": "HOFFMAN"
                                },
                                {
                                    "0": "TERRY",
                                    "1": "CARLSON"
                                },
                                {
                                    "0": "MAXINE",
                                    "1": "SILVA"
                                },
                                {
                                    "0": "IRMA",
                                    "1": "PEARSON"
                                },
                                {
                                    "0": "MABEL",
                                    "1": "HOLLAND"
                                },
                                {
                                    "0": "MARSHA",
                                    "1": "DOUGLAS"
                                },
                                {
                                    "0": "MYRTLE",
                                    "1": "FLEMING"
                                },
                                {
                                    "0": "LENA",
                                    "1": "JENSEN"
                                },
                                {
                                    "0": "CHRISTY",
                                    "1": "VARGAS"
                                },
                                {
                                    "0": "DEANNA",
                                    "1": "BYRD"
                                },
                                {
                                    "0": "PATSY",
                                    "1": "DAVIDSON"
                                },
                                {
                                    "0": "HILDA",
                                    "1": "HOPKINS"
                                },
                                {
                                    "0": "GWENDOLYN",
                                    "1": "MAY"
                                },
                                {
                                    "0": "JENNIE",
                                    "1": "TERRY"
                                },
                                {
                                    "0": "NORA",
                                    "1": "HERRERA"
                                },
                                {
                                    "0": "NINA",
                                    "1": "SOTO"
                                },
                                {
                                    "0": "LEAH",
                                    "1": "CURTIS"
                                },
                                {
                                    "0": "PENNY",
                                    "1": "NEAL"
                                },
                                {
                                    "0": "KAY",
                                    "1": "CALDWELL"
                                },
                                {
                                    "0": "PRISCILLA",
                                    "1": "LOWE"
                                },
                                {
                                    "0": "NAOMI",
                                    "1": "JENNINGS"
                                },
                                {
                                    "0": "CAROLE",
                                    "1": "BARNETT"
                                },
                                {
                                    "0": "BRANDY",
                                    "1": "GRAVES"
                                },
                                {
                                    "0": "OLGA",
                                    "1": "JIMENEZ"
                                },
                                {
                                    "0": "BILLIE",
                                    "1": "HORTON"
                                },
                                {
                                    "0": "DIANNE",
                                    "1": "SHELTON"
                                },
                                {
                                    "0": "TRACEY",
                                    "1": "BARRETT"
                                },
                                {
                                    "0": "LEONA",
                                    "1": "OBRIEN"
                                },
                                {
                                    "0": "JENNY",
                                    "1": "CASTRO"
                                },
                                {
                                    "0": "FELICIA",
                                    "1": "SUTTON"
                                },
                                {
                                    "0": "MIRIAM",
                                    "1": "MCKINNEY"
                                },
                                {
                                    "0": "VELMA",
                                    "1": "LUCAS"
                                },
                                {
                                    "0": "BECKY",
                                    "1": "MILES"
                                },
                                {
                                    "0": "BOBBIE",
                                    "1": "CRAIG"
                                },
                                {
                                    "0": "VIOLET",
                                    "1": "RODRIQUEZ"
                                },
                                {
                                    "0": "KRISTINA",
                                    "1": "CHAMBERS"
                                },
                                {
                                    "0": "TONI",
                                    "1": "HOLT"
                                },
                                {
                                    "0": "MISTY",
                                    "1": "LAMBERT"
                                },
                                {
                                    "0": "MAE",
                                    "1": "FLETCHER"
                                },
                                {
                                    "0": "SHELLY",
                                    "1": "WATTS"
                                },
                                {
                                    "0": "DAISY",
                                    "1": "BATES"
                                },
                                {
                                    "0": "RAMONA",
                                    "1": "HALE"
                                },
                                {
                                    "0": "SHERRI",
                                    "1": "RHODES"
                                },
                                {
                                    "0": "ERIKA",
                                    "1": "PENA"
                                },
                                {
                                    "0": "JAMES",
                                    "1": "GANNON"
                                },
                                {
                                    "0": "JOHN",
                                    "1": "FARNSWORTH"
                                },
                                {
                                    "0": "ROBERT",
                                    "1": "BAUGHMAN"
                                },
                                {
                                    "0": "MICHAEL",
                                    "1": "SILVERMAN"
                                },
                                {
                                    "0": "WILLIAM",
                                    "1": "SATTERFIELD"
                                },
                                {
                                    "0": "DAVID",
                                    "1": "ROYAL"
                                },
                                {
                                    "0": "RICHARD",
                                    "1": "MCCRARY"
                                },
                                {
                                    "0": "CHARLES",
                                    "1": "KOWALSKI"
                                },
                                {
                                    "0": "JOSEPH",
                                    "1": "JOY"
                                },
                                {
                                    "0": "THOMAS",
                                    "1": "GRIGSBY"
                                },
                                {
                                    "0": "CHRISTOPHER",
                                    "1": "GRECO"
                                },
                                {
                                    "0": "DANIEL",
                                    "1": "CABRAL"
                                },
                                {
                                    "0": "PAUL",
                                    "1": "TROUT"
                                },
                                {
                                    "0": "MARK",
                                    "1": "RINEHART"
                                },
                                {
                                    "0": "DONALD",
                                    "1": "MAHON"
                                },
                                {
                                    "0": "GEORGE",
                                    "1": "LINTON"
                                },
                                {
                                    "0": "KENNETH",
                                    "1": "GOODEN"
                                },
                                {
                                    "0": "STEVEN",
                                    "1": "CURLEY"
                                },
                                {
                                    "0": "EDWARD",
                                    "1": "BAUGH"
                                },
                                {
                                    "0": "BRIAN",
                                    "1": "WYMAN"
                                },
                                {
                                    "0": "RONALD",
                                    "1": "WEINER"
                                },
                                {
                                    "0": "ANTHONY",
                                    "1": "SCHWAB"
                                },
                                {
                                    "0": "KEVIN",
                                    "1": "SCHULER"
                                },
                                {
                                    "0": "JASON",
                                    "1": "MORRISSEY"
                                },
                                {
                                    "0": "MATTHEW",
                                    "1": "MAHAN"
                                },
                                {
                                    "0": "GARY",
                                    "1": "COY"
                                },
                                {
                                    "0": "TIMOTHY",
                                    "1": "BUNN"
                                },
                                {
                                    "0": "JOSE",
                                    "1": "ANDREW"
                                },
                                {
                                    "0": "LARRY",
                                    "1": "THRASHER"
                                },
                                {
                                    "0": "JEFFREY",
                                    "1": "SPEAR"
                                },
                                {
                                    "0": "FRANK",
                                    "1": "WAGGONER"
                                },
                                {
                                    "0": "SCOTT",
                                    "1": "SHELLEY"
                                },
                                {
                                    "0": "ERIC",
                                    "1": "ROBERT"
                                },
                                {
                                    "0": "STEPHEN",
                                    "1": "QUALLS"
                                },
                                {
                                    "0": "ANDREW",
                                    "1": "PURDY"
                                },
                                {
                                    "0": "RAYMOND",
                                    "1": "MCWHORTER"
                                },
                                {
                                    "0": "GREGORY",
                                    "1": "MAULDIN"
                                },
                                {
                                    "0": "JOSHUA",
                                    "1": "MARK"
                                },
                                {
                                    "0": "JERRY",
                                    "1": "JORDON"
                                },
                                {
                                    "0": "DENNIS",
                                    "1": "GILMAN"
                                },
                                {
                                    "0": "WALTER",
                                    "1": "PERRYMAN"
                                },
                                {
                                    "0": "PATRICK",
                                    "1": "NEWSOM"
                                },
                                {
                                    "0": "PETER",
                                    "1": "MENARD"
                                },
                                {
                                    "0": "HAROLD",
                                    "1": "MARTINO"
                                },
                                {
                                    "0": "DOUGLAS",
                                    "1": "GRAF"
                                },
                                {
                                    "0": "HENRY",
                                    "1": "BILLINGSLEY"
                                },
                                {
                                    "0": "CARL",
                                    "1": "ARTIS"
                                },
                                {
                                    "0": "ARTHUR",
                                    "1": "SIMPKINS"
                                },
                                {
                                    "0": "RYAN",
                                    "1": "SALISBURY"
                                },
                                {
                                    "0": "ROGER",
                                    "1": "QUINTANILLA"
                                },
                                {
                                    "0": "JOE",
                                    "1": "GILLILAND"
                                },
                                {
                                    "0": "JUAN",
                                    "1": "FRALEY"
                                },
                                {
                                    "0": "JACK",
                                    "1": "FOUST"
                                },
                                {
                                    "0": "ALBERT",
                                    "1": "CROUSE"
                                },
                                {
                                    "0": "JONATHAN",
                                    "1": "SCARBOROUGH"
                                },
                                {
                                    "0": "TERRY",
                                    "1": "GRISSOM"
                                },
                                {
                                    "0": "GERALD",
                                    "1": "FULTZ"
                                },
                                {
                                    "0": "KEITH",
                                    "1": "RICO"
                                },
                                {
                                    "0": "SAMUEL",
                                    "1": "MARLOW"
                                },
                                {
                                    "0": "WILLIE",
                                    "1": "MARKHAM"
                                },
                                {
                                    "0": "RALPH",
                                    "1": "MADRIGAL"
                                },
                                {
                                    "0": "NICHOLAS",
                                    "1": "BARFIELD"
                                },
                                {
                                    "0": "ROY",
                                    "1": "WHITING"
                                },
                                {
                                    "0": "BENJAMIN",
                                    "1": "VARNEY"
                                },
                                {
                                    "0": "BRUCE",
                                    "1": "SCHWARZ"
                                },
                                {
                                    "0": "BRANDON",
                                    "1": "HUEY"
                                },
                                {
                                    "0": "ADAM",
                                    "1": "GOOCH"
                                },
                                {
                                    "0": "HARRY",
                                    "1": "ARCE"
                                },
                                {
                                    "0": "FRED",
                                    "1": "WHEAT"
                                },
                                {
                                    "0": "WAYNE",
                                    "1": "TRUONG"
                                },
                                {
                                    "0": "BILLY",
                                    "1": "POULIN"
                                },
                                {
                                    "0": "STEVE",
                                    "1": "MACKENZIE"
                                },
                                {
                                    "0": "LOUIS",
                                    "1": "LEONE"
                                },
                                {
                                    "0": "JEREMY",
                                    "1": "HURTADO"
                                },
                                {
                                    "0": "AARON",
                                    "1": "SELBY"
                                },
                                {
                                    "0": "RANDY",
                                    "1": "GAITHER"
                                },
                                {
                                    "0": "HOWARD",
                                    "1": "FORTNER"
                                },
                                {
                                    "0": "EUGENE",
                                    "1": "CULPEPPER"
                                },
                                {
                                    "0": "CARLOS",
                                    "1": "COUGHLIN"
                                },
                                {
                                    "0": "RUSSELL",
                                    "1": "BRINSON"
                                },
                                {
                                    "0": "BOBBY",
                                    "1": "BOUDREAU"
                                },
                                {
                                    "0": "VICTOR",
                                    "1": "BARKLEY"
                                },
                                {
                                    "0": "MARTIN",
                                    "1": "BALES"
                                },
                                {
                                    "0": "ERNEST",
                                    "1": "STEPP"
                                },
                                {
                                    "0": "PHILLIP",
                                    "1": "HOLM"
                                },
                                {
                                    "0": "TODD",
                                    "1": "TAN"
                                },
                                {
                                    "0": "JESSE",
                                    "1": "SCHILLING"
                                },
                                {
                                    "0": "CRAIG",
                                    "1": "MORRELL"
                                },
                                {
                                    "0": "ALAN",
                                    "1": "KAHN"
                                },
                                {
                                    "0": "SHAWN",
                                    "1": "HEATON"
                                },
                                {
                                    "0": "CLARENCE",
                                    "1": "GAMEZ"
                                },
                                {
                                    "0": "SEAN",
                                    "1": "DOUGLASS"
                                },
                                {
                                    "0": "PHILIP",
                                    "1": "CAUSEY"
                                },
                                {
                                    "0": "CHRIS",
                                    "1": "BROTHERS"
                                },
                                {
                                    "0": "JOHNNY",
                                    "1": "TURPIN"
                                },
                                {
                                    "0": "EARL",
                                    "1": "SHANKS"
                                },
                                {
                                    "0": "JIMMY",
                                    "1": "SCHRADER"
                                },
                                {
                                    "0": "ANTONIO",
                                    "1": "MEEK"
                                },
                                {
                                    "0": "DANNY",
                                    "1": "ISOM"
                                },
                                {
                                    "0": "BRYAN",
                                    "1": "HARDISON"
                                },
                                {
                                    "0": "TONY",
                                    "1": "CARRANZA"
                                },
                                {
                                    "0": "LUIS",
                                    "1": "YANEZ"
                                },
                                {
                                    "0": "MIKE",
                                    "1": "WAY"
                                },
                                {
                                    "0": "STANLEY",
                                    "1": "SCROGGINS"
                                },
                                {
                                    "0": "LEONARD",
                                    "1": "SCHOFIELD"
                                },
                                {
                                    "0": "NATHAN",
                                    "1": "RUNYON"
                                },
                                {
                                    "0": "DALE",
                                    "1": "RATCLIFF"
                                },
                                {
                                    "0": "MANUEL",
                                    "1": "MURRELL"
                                },
                                {
                                    "0": "RODNEY",
                                    "1": "MOELLER"
                                },
                                {
                                    "0": "CURTIS",
                                    "1": "IRBY"
                                },
                                {
                                    "0": "NORMAN",
                                    "1": "CURRIER"
                                },
                                {
                                    "0": "ALLEN",
                                    "1": "BUTTERFIELD"
                                },
                                {
                                    "0": "MARVIN",
                                    "1": "YEE"
                                },
                                {
                                    "0": "VINCENT",
                                    "1": "RALSTON"
                                },
                                {
                                    "0": "GLENN",
                                    "1": "PULLEN"
                                },
                                {
                                    "0": "JEFFERY",
                                    "1": "PINSON"
                                },
                                {
                                    "0": "TRAVIS",
                                    "1": "ESTEP"
                                },
                                {
                                    "0": "JEFF",
                                    "1": "EAST"
                                },
                                {
                                    "0": "CHAD",
                                    "1": "CARBONE"
                                },
                                {
                                    "0": "JACOB",
                                    "1": "LANCE"
                                },
                                {
                                    "0": "LEE",
                                    "1": "HAWKS"
                                },
                                {
                                    "0": "MELVIN",
                                    "1": "ELLINGTON"
                                },
                                {
                                    "0": "ALFRED",
                                    "1": "CASILLAS"
                                },
                                {
                                    "0": "KYLE",
                                    "1": "SPURLOCK"
                                },
                                {
                                    "0": "FRANCIS",
                                    "1": "SIKES"
                                },
                                {
                                    "0": "BRADLEY",
                                    "1": "MOTLEY"
                                },
                                {
                                    "0": "JESUS",
                                    "1": "MCCARTNEY"
                                },
                                {
                                    "0": "HERBERT",
                                    "1": "KRUGER"
                                },
                                {
                                    "0": "FREDERICK",
                                    "1": "ISBELL"
                                },
                                {
                                    "0": "RAY",
                                    "1": "HOULE"
                                },
                                {
                                    "0": "JOEL",
                                    "1": "FRANCISCO"
                                },
                                {
                                    "0": "EDWIN",
                                    "1": "BURK"
                                },
                                {
                                    "0": "DON",
                                    "1": "BONE"
                                },
                                {
                                    "0": "EDDIE",
                                    "1": "TOMLIN"
                                },
                                {
                                    "0": "RICKY",
                                    "1": "SHELBY"
                                },
                                {
                                    "0": "TROY",
                                    "1": "QUIGLEY"
                                },
                                {
                                    "0": "RANDALL",
                                    "1": "NEUMANN"
                                },
                                {
                                    "0": "BARRY",
                                    "1": "LOVELACE"
                                },
                                {
                                    "0": "ALEXANDER",
                                    "1": "FENNELL"
                                },
                                {
                                    "0": "BERNARD",
                                    "1": "COLBY"
                                },
                                {
                                    "0": "MARIO",
                                    "1": "CHEATHAM"
                                },
                                {
                                    "0": "LEROY",
                                    "1": "BUSTAMANTE"
                                },
                                {
                                    "0": "FRANCISCO",
                                    "1": "SKIDMORE"
                                },
                                {
                                    "0": "MARCUS",
                                    "1": "HIDALGO"
                                },
                                {
                                    "0": "MICHEAL",
                                    "1": "FORMAN"
                                },
                                {
                                    "0": "THEODORE",
                                    "1": "CULP"
                                },
                                {
                                    "0": "CLIFFORD",
                                    "1": "BOWENS"
                                },
                                {
                                    "0": "OSCAR",
                                    "1": "AQUINO"
                                },
                                {
                                    "0": "JAY",
                                    "1": "ROBB"
                                },
                                {
                                    "0": "JIM",
                                    "1": "REA"
                                },
                                {
                                    "0": "TOM",
                                    "1": "MILNER"
                                },
                                {
                                    "0": "CALVIN",
                                    "1": "MARTEL"
                                },
                                {
                                    "0": "ALEX",
                                    "1": "GRESHAM"
                                },
                                {
                                    "0": "JON",
                                    "1": "WILES"
                                },
                                {
                                    "0": "RONNIE",
                                    "1": "RICKETTS"
                                },
                                {
                                    "0": "LLOYD",
                                    "1": "DOWD"
                                },
                                {
                                    "0": "TOMMY",
                                    "1": "COLLAZO"
                                },
                                {
                                    "0": "LEON",
                                    "1": "BOSTIC"
                                },
                                {
                                    "0": "DEREK",
                                    "1": "BLAKELY"
                                },
                                {
                                    "0": "WARREN",
                                    "1": "SHERROD"
                                },
                                {
                                    "0": "DARRELL",
                                    "1": "POWER"
                                },
                                {
                                    "0": "JEROME",
                                    "1": "KENYON"
                                },
                                {
                                    "0": "FLOYD",
                                    "1": "GANDY"
                                },
                                {
                                    "0": "LEO",
                                    "1": "EBERT"
                                },
                                {
                                    "0": "ALVIN",
                                    "1": "DELOACH"
                                },
                                {
                                    "0": "TIM",
                                    "1": "CARY"
                                },
                                {
                                    "0": "WESLEY",
                                    "1": "BULL"
                                },
                                {
                                    "0": "GORDON",
                                    "1": "ALLARD"
                                },
                                {
                                    "0": "DEAN",
                                    "1": "SAUER"
                                },
                                {
                                    "0": "GREG",
                                    "1": "ROBINS"
                                },
                                {
                                    "0": "JORGE",
                                    "1": "OLIVARES"
                                },
                                {
                                    "0": "DUSTIN",
                                    "1": "GILLETTE"
                                },
                                {
                                    "0": "PEDRO",
                                    "1": "CHESTNUT"
                                },
                                {
                                    "0": "DERRICK",
                                    "1": "BOURQUE"
                                },
                                {
                                    "0": "DAN",
                                    "1": "PAINE"
                                },
                                {
                                    "0": "LEWIS",
                                    "1": "LYMAN"
                                },
                                {
                                    "0": "ZACHARY",
                                    "1": "HITE"
                                },
                                {
                                    "0": "COREY",
                                    "1": "HAUSER"
                                },
                                {
                                    "0": "HERMAN",
                                    "1": "DEVORE"
                                },
                                {
                                    "0": "MAURICE",
                                    "1": "CRAWLEY"
                                },
                                {
                                    "0": "VERNON",
                                    "1": "CHAPA"
                                },
                                {
                                    "0": "ROBERTO",
                                    "1": "VU"
                                },
                                {
                                    "0": "CLYDE",
                                    "1": "TOBIAS"
                                },
                                {
                                    "0": "GLEN",
                                    "1": "TALBERT"
                                },
                                {
                                    "0": "HECTOR",
                                    "1": "POINDEXTER"
                                },
                                {
                                    "0": "SHANE",
                                    "1": "MILLARD"
                                },
                                {
                                    "0": "RICARDO",
                                    "1": "MEADOR"
                                },
                                {
                                    "0": "SAM",
                                    "1": "MCDUFFIE"
                                },
                                {
                                    "0": "RICK",
                                    "1": "MATTOX"
                                },
                                {
                                    "0": "LESTER",
                                    "1": "KRAUS"
                                },
                                {
                                    "0": "BRENT",
                                    "1": "HARKINS"
                                },
                                {
                                    "0": "RAMON",
                                    "1": "CHOATE"
                                },
                                {
                                    "0": "CHARLIE",
                                    "1": "BESS"
                                },
                                {
                                    "0": "TYLER",
                                    "1": "WREN"
                                },
                                {
                                    "0": "GILBERT",
                                    "1": "SLEDGE"
                                },
                                {
                                    "0": "GENE",
                                    "1": "SANBORN"
                                },
                                {
                                    "0": "MARC",
                                    "1": "OUTLAW"
                                },
                                {
                                    "0": "REGINALD",
                                    "1": "KINDER"
                                },
                                {
                                    "0": "RUBEN",
                                    "1": "GEARY"
                                },
                                {
                                    "0": "BRETT",
                                    "1": "CORNWELL"
                                },
                                {
                                    "0": "ANGEL",
                                    "1": "BARCLAY"
                                },
                                {
                                    "0": "NATHANIEL",
                                    "1": "ADAM"
                                },
                                {
                                    "0": "RAFAEL",
                                    "1": "ABNEY"
                                },
                                {
                                    "0": "LESLIE",
                                    "1": "SEWARD"
                                },
                                {
                                    "0": "EDGAR",
                                    "1": "RHOADS"
                                },
                                {
                                    "0": "MILTON",
                                    "1": "HOWLAND"
                                },
                                {
                                    "0": "RAUL",
                                    "1": "FORTIER"
                                },
                                {
                                    "0": "BEN",
                                    "1": "EASTER"
                                },
                                {
                                    "0": "CHESTER",
                                    "1": "BENNER"
                                },
                                {
                                    "0": "CECIL",
                                    "1": "VINES"
                                },
                                {
                                    "0": "DUANE",
                                    "1": "TUBBS"
                                },
                                {
                                    "0": "FRANKLIN",
                                    "1": "TROUTMAN"
                                },
                                {
                                    "0": "ANDRE",
                                    "1": "RAPP"
                                },
                                {
                                    "0": "BRAD",
                                    "1": "MCCURDY"
                                },
                                {
                                    "0": "GABRIEL",
                                    "1": "HARDER"
                                },
                                {
                                    "0": "RON",
                                    "1": "DELUCA"
                                },
                                {
                                    "0": "MITCHELL",
                                    "1": "WESTMORELAND"
                                },
                                {
                                    "0": "ROLAND",
                                    "1": "SOUTH"
                                },
                                {
                                    "0": "ARNOLD",
                                    "1": "HAVENS"
                                },
                                {
                                    "0": "HARVEY",
                                    "1": "GUAJARDO"
                                },
                                {
                                    "0": "JARED",
                                    "1": "ELY"
                                },
                                {
                                    "0": "ADRIAN",
                                    "1": "CLARY"
                                },
                                {
                                    "0": "KARL",
                                    "1": "SEAL"
                                },
                                {
                                    "0": "CORY",
                                    "1": "MEEHAN"
                                },
                                {
                                    "0": "CLAUDE",
                                    "1": "HERZOG"
                                },
                                {
                                    "0": "ERIK",
                                    "1": "GUILLEN"
                                },
                                {
                                    "0": "DARRYL",
                                    "1": "ASHCRAFT"
                                },
                                {
                                    "0": "JAMIE",
                                    "1": "WAUGH"
                                },
                                {
                                    "0": "NEIL",
                                    "1": "RENNER"
                                },
                                {
                                    "0": "JESSIE",
                                    "1": "MILAM"
                                },
                                {
                                    "0": "CHRISTIAN",
                                    "1": "JUNG"
                                },
                                {
                                    "0": "JAVIER",
                                    "1": "ELROD"
                                },
                                {
                                    "0": "FERNANDO",
                                    "1": "CHURCHILL"
                                },
                                {
                                    "0": "CLINTON",
                                    "1": "BUFORD"
                                },
                                {
                                    "0": "TED",
                                    "1": "BREAUX"
                                },
                                {
                                    "0": "MATHEW",
                                    "1": "BOLIN"
                                },
                                {
                                    "0": "TYRONE",
                                    "1": "ASHER"
                                },
                                {
                                    "0": "DARREN",
                                    "1": "WINDHAM"
                                },
                                {
                                    "0": "LONNIE",
                                    "1": "TIRADO"
                                },
                                {
                                    "0": "LANCE",
                                    "1": "PEMBERTON"
                                },
                                {
                                    "0": "CODY",
                                    "1": "NOLEN"
                                },
                                {
                                    "0": "JULIO",
                                    "1": "NOLAND"
                                },
                                {
                                    "0": "KELLY",
                                    "1": "KNOTT"
                                },
                                {
                                    "0": "KURT",
                                    "1": "EMMONS"
                                },
                                {
                                    "0": "ALLAN",
                                    "1": "CORNISH"
                                },
                                {
                                    "0": "NELSON",
                                    "1": "CHRISTENSON"
                                },
                                {
                                    "0": "GUY",
                                    "1": "BROWNLEE"
                                },
                                {
                                    "0": "CLAYTON",
                                    "1": "BARBEE"
                                },
                                {
                                    "0": "HUGH",
                                    "1": "WALDROP"
                                },
                                {
                                    "0": "MAX",
                                    "1": "PITT"
                                },
                                {
                                    "0": "DWAYNE",
                                    "1": "OLVERA"
                                },
                                {
                                    "0": "DWIGHT",
                                    "1": "LOMBARDI"
                                },
                                {
                                    "0": "ARMANDO",
                                    "1": "GRUBER"
                                },
                                {
                                    "0": "FELIX",
                                    "1": "GAFFNEY"
                                },
                                {
                                    "0": "JIMMIE",
                                    "1": "EGGLESTON"
                                },
                                {
                                    "0": "EVERETT",
                                    "1": "BANDA"
                                },
                                {
                                    "0": "IAN",
                                    "1": "STILL"
                                },
                                {
                                    "0": "WALLACE",
                                    "1": "SLONE"
                                },
                                {
                                    "0": "KEN",
                                    "1": "PREWITT"
                                },
                                {
                                    "0": "BOB",
                                    "1": "PFEIFFER"
                                },
                                {
                                    "0": "JAIME",
                                    "1": "NETTLES"
                                },
                                {
                                    "0": "CASEY",
                                    "1": "MENA"
                                },
                                {
                                    "0": "ALFREDO",
                                    "1": "MCADAMS"
                                },
                                {
                                    "0": "ALBERTO",
                                    "1": "HENNING"
                                },
                                {
                                    "0": "DAVE",
                                    "1": "GARDINER"
                                },
                                {
                                    "0": "IVAN",
                                    "1": "CROMWELL"
                                },
                                {
                                    "0": "JOHNNIE",
                                    "1": "CHISHOLM"
                                },
                                {
                                    "0": "SIDNEY",
                                    "1": "BURLESON"
                                },
                                {
                                    "0": "BYRON",
                                    "1": "BOX"
                                },
                                {
                                    "0": "JULIAN",
                                    "1": "VEST"
                                },
                                {
                                    "0": "ISAAC",
                                    "1": "OGLESBY"
                                },
                                {
                                    "0": "CLIFTON",
                                    "1": "MALCOLM"
                                },
                                {
                                    "0": "WILLARD",
                                    "1": "LUMPKIN"
                                },
                                {
                                    "0": "DARYL",
                                    "1": "LARUE"
                                },
                                {
                                    "0": "ROSS",
                                    "1": "GREY"
                                },
                                {
                                    "0": "VIRGIL",
                                    "1": "WOFFORD"
                                },
                                {
                                    "0": "ANDY",
                                    "1": "VANHORN"
                                },
                                {
                                    "0": "MARSHALL",
                                    "1": "THORN"
                                },
                                {
                                    "0": "SALVADOR",
                                    "1": "TEEL"
                                },
                                {
                                    "0": "PERRY",
                                    "1": "SWAFFORD"
                                },
                                {
                                    "0": "KIRK",
                                    "1": "STCLAIR"
                                },
                                {
                                    "0": "SERGIO",
                                    "1": "STANFIELD"
                                },
                                {
                                    "0": "MARION",
                                    "1": "OCAMPO"
                                },
                                {
                                    "0": "TRACY",
                                    "1": "HERRMANN"
                                },
                                {
                                    "0": "SETH",
                                    "1": "HANNON"
                                },
                                {
                                    "0": "KENT",
                                    "1": "ARSENAULT"
                                },
                                {
                                    "0": "TERRANCE",
                                    "1": "ROUSH"
                                },
                                {
                                    "0": "RENE",
                                    "1": "MCALISTER"
                                },
                                {
                                    "0": "EDUARDO",
                                    "1": "HIATT"
                                },
                                {
                                    "0": "TERRENCE",
                                    "1": "GUNDERSON"
                                },
                                {
                                    "0": "ENRIQUE",
                                    "1": "FORSYTHE"
                                },
                                {
                                    "0": "FREDDIE",
                                    "1": "DUGGAN"
                                },
                                {
                                    "0": "WADE",
                                    "1": "DELVALLE"
                                },
                                {
                                    "0": "AUSTIN",
                                    "1": "CINTRON"
                                }
                            ]
                        },
                        "text/html": [
                            "<table>",
                            "<tr><th>first_name</th><th>last_name</th></tr>",
                            "<tr><td>MARY</td><td>SMITH</td></tr>",
                            "<tr><td>PATRICIA</td><td>JOHNSON</td></tr>",
                            "<tr><td>LINDA</td><td>WILLIAMS</td></tr>",
                            "<tr><td>BARBARA</td><td>JONES</td></tr>",
                            "<tr><td>ELIZABETH</td><td>BROWN</td></tr>",
                            "<tr><td>JENNIFER</td><td>DAVIS</td></tr>",
                            "<tr><td>MARIA</td><td>MILLER</td></tr>",
                            "<tr><td>SUSAN</td><td>WILSON</td></tr>",
                            "<tr><td>MARGARET</td><td>MOORE</td></tr>",
                            "<tr><td>DOROTHY</td><td>TAYLOR</td></tr>",
                            "<tr><td>LISA</td><td>ANDERSON</td></tr>",
                            "<tr><td>NANCY</td><td>THOMAS</td></tr>",
                            "<tr><td>KAREN</td><td>JACKSON</td></tr>",
                            "<tr><td>BETTY</td><td>WHITE</td></tr>",
                            "<tr><td>SANDRA</td><td>MARTIN</td></tr>",
                            "<tr><td>DONNA</td><td>THOMPSON</td></tr>",
                            "<tr><td>CAROL</td><td>GARCIA</td></tr>",
                            "<tr><td>RUTH</td><td>MARTINEZ</td></tr>",
                            "<tr><td>SHARON</td><td>ROBINSON</td></tr>",
                            "<tr><td>MICHELLE</td><td>CLARK</td></tr>",
                            "<tr><td>LAURA</td><td>RODRIGUEZ</td></tr>",
                            "<tr><td>SARAH</td><td>LEWIS</td></tr>",
                            "<tr><td>KIMBERLY</td><td>LEE</td></tr>",
                            "<tr><td>DEBORAH</td><td>WALKER</td></tr>",
                            "<tr><td>JESSICA</td><td>HALL</td></tr>",
                            "<tr><td>SHIRLEY</td><td>ALLEN</td></tr>",
                            "<tr><td>CYNTHIA</td><td>YOUNG</td></tr>",
                            "<tr><td>ANGELA</td><td>HERNANDEZ</td></tr>",
                            "<tr><td>MELISSA</td><td>KING</td></tr>",
                            "<tr><td>BRENDA</td><td>WRIGHT</td></tr>",
                            "<tr><td>AMY</td><td>LOPEZ</td></tr>",
                            "<tr><td>ANNA</td><td>HILL</td></tr>",
                            "<tr><td>REBECCA</td><td>SCOTT</td></tr>",
                            "<tr><td>VIRGINIA</td><td>GREEN</td></tr>",
                            "<tr><td>KATHLEEN</td><td>ADAMS</td></tr>",
                            "<tr><td>PAMELA</td><td>BAKER</td></tr>",
                            "<tr><td>MARTHA</td><td>GONZALEZ</td></tr>",
                            "<tr><td>DEBRA</td><td>NELSON</td></tr>",
                            "<tr><td>AMANDA</td><td>CARTER</td></tr>",
                            "<tr><td>STEPHANIE</td><td>MITCHELL</td></tr>",
                            "<tr><td>MARIE</td><td>TURNER</td></tr>",
                            "<tr><td>JANET</td><td>PHILLIPS</td></tr>",
                            "<tr><td>CATHERINE</td><td>CAMPBELL</td></tr>",
                            "<tr><td>FRANCES</td><td>PARKER</td></tr>",
                            "<tr><td>ANN</td><td>EVANS</td></tr>",
                            "<tr><td>JOYCE</td><td>EDWARDS</td></tr>",
                            "<tr><td>DIANE</td><td>COLLINS</td></tr>",
                            "<tr><td>ALICE</td><td>STEWART</td></tr>",
                            "<tr><td>JULIE</td><td>SANCHEZ</td></tr>",
                            "<tr><td>TERESA</td><td>ROGERS</td></tr>",
                            "<tr><td>DORIS</td><td>REED</td></tr>",
                            "<tr><td>GLORIA</td><td>COOK</td></tr>",
                            "<tr><td>EVELYN</td><td>MORGAN</td></tr>",
                            "<tr><td>JEAN</td><td>BELL</td></tr>",
                            "<tr><td>CHERYL</td><td>MURPHY</td></tr>",
                            "<tr><td>KATHERINE</td><td>RIVERA</td></tr>",
                            "<tr><td>JOAN</td><td>COOPER</td></tr>",
                            "<tr><td>ASHLEY</td><td>RICHARDSON</td></tr>",
                            "<tr><td>JUDITH</td><td>COX</td></tr>",
                            "<tr><td>ROSE</td><td>HOWARD</td></tr>",
                            "<tr><td>JANICE</td><td>WARD</td></tr>",
                            "<tr><td>KELLY</td><td>TORRES</td></tr>",
                            "<tr><td>NICOLE</td><td>PETERSON</td></tr>",
                            "<tr><td>JUDY</td><td>GRAY</td></tr>",
                            "<tr><td>CHRISTINA</td><td>RAMIREZ</td></tr>",
                            "<tr><td>KATHY</td><td>JAMES</td></tr>",
                            "<tr><td>THERESA</td><td>WATSON</td></tr>",
                            "<tr><td>BEVERLY</td><td>BROOKS</td></tr>",
                            "<tr><td>DENISE</td><td>KELLY</td></tr>",
                            "<tr><td>IRENE</td><td>PRICE</td></tr>",
                            "<tr><td>JANE</td><td>BENNETT</td></tr>",
                            "<tr><td>LORI</td><td>WOOD</td></tr>",
                            "<tr><td>RACHEL</td><td>BARNES</td></tr>",
                            "<tr><td>MARILYN</td><td>ROSS</td></tr>",
                            "<tr><td>ANDREA</td><td>HENDERSON</td></tr>",
                            "<tr><td>KATHRYN</td><td>COLEMAN</td></tr>",
                            "<tr><td>LOUISE</td><td>JENKINS</td></tr>",
                            "<tr><td>SARA</td><td>PERRY</td></tr>",
                            "<tr><td>ANNE</td><td>POWELL</td></tr>",
                            "<tr><td>JACQUELINE</td><td>LONG</td></tr>",
                            "<tr><td>WANDA</td><td>PATTERSON</td></tr>",
                            "<tr><td>BONNIE</td><td>HUGHES</td></tr>",
                            "<tr><td>JULIA</td><td>FLORES</td></tr>",
                            "<tr><td>RUBY</td><td>WASHINGTON</td></tr>",
                            "<tr><td>LOIS</td><td>BUTLER</td></tr>",
                            "<tr><td>TINA</td><td>SIMMONS</td></tr>",
                            "<tr><td>PHYLLIS</td><td>FOSTER</td></tr>",
                            "<tr><td>NORMA</td><td>GONZALES</td></tr>",
                            "<tr><td>PAULA</td><td>BRYANT</td></tr>",
                            "<tr><td>DIANA</td><td>ALEXANDER</td></tr>",
                            "<tr><td>ANNIE</td><td>RUSSELL</td></tr>",
                            "<tr><td>LILLIAN</td><td>GRIFFIN</td></tr>",
                            "<tr><td>EMILY</td><td>DIAZ</td></tr>",
                            "<tr><td>ROBIN</td><td>HAYES</td></tr>",
                            "<tr><td>PEGGY</td><td>MYERS</td></tr>",
                            "<tr><td>CRYSTAL</td><td>FORD</td></tr>",
                            "<tr><td>GLADYS</td><td>HAMILTON</td></tr>",
                            "<tr><td>RITA</td><td>GRAHAM</td></tr>",
                            "<tr><td>DAWN</td><td>SULLIVAN</td></tr>",
                            "<tr><td>CONNIE</td><td>WALLACE</td></tr>",
                            "<tr><td>TRACY</td><td>COLE</td></tr>",
                            "<tr><td>EDNA</td><td>WEST</td></tr>",
                            "<tr><td>TIFFANY</td><td>JORDAN</td></tr>",
                            "<tr><td>CARMEN</td><td>OWENS</td></tr>",
                            "<tr><td>ROSA</td><td>REYNOLDS</td></tr>",
                            "<tr><td>CINDY</td><td>FISHER</td></tr>",
                            "<tr><td>GRACE</td><td>ELLIS</td></tr>",
                            "<tr><td>WENDY</td><td>HARRISON</td></tr>",
                            "<tr><td>VICTORIA</td><td>GIBSON</td></tr>",
                            "<tr><td>EDITH</td><td>MCDONALD</td></tr>",
                            "<tr><td>KIM</td><td>CRUZ</td></tr>",
                            "<tr><td>SHERRY</td><td>MARSHALL</td></tr>",
                            "<tr><td>SYLVIA</td><td>ORTIZ</td></tr>",
                            "<tr><td>JOSEPHINE</td><td>GOMEZ</td></tr>",
                            "<tr><td>THELMA</td><td>MURRAY</td></tr>",
                            "<tr><td>SHANNON</td><td>FREEMAN</td></tr>",
                            "<tr><td>SHEILA</td><td>WELLS</td></tr>",
                            "<tr><td>ETHEL</td><td>WEBB</td></tr>",
                            "<tr><td>ELLEN</td><td>SIMPSON</td></tr>",
                            "<tr><td>ELAINE</td><td>STEVENS</td></tr>",
                            "<tr><td>MARJORIE</td><td>TUCKER</td></tr>",
                            "<tr><td>CARRIE</td><td>PORTER</td></tr>",
                            "<tr><td>CHARLOTTE</td><td>HUNTER</td></tr>",
                            "<tr><td>MONICA</td><td>HICKS</td></tr>",
                            "<tr><td>ESTHER</td><td>CRAWFORD</td></tr>",
                            "<tr><td>PAULINE</td><td>HENRY</td></tr>",
                            "<tr><td>EMMA</td><td>BOYD</td></tr>",
                            "<tr><td>JUANITA</td><td>MASON</td></tr>",
                            "<tr><td>ANITA</td><td>MORALES</td></tr>",
                            "<tr><td>RHONDA</td><td>KENNEDY</td></tr>",
                            "<tr><td>HAZEL</td><td>WARREN</td></tr>",
                            "<tr><td>AMBER</td><td>DIXON</td></tr>",
                            "<tr><td>EVA</td><td>RAMOS</td></tr>",
                            "<tr><td>DEBBIE</td><td>REYES</td></tr>",
                            "<tr><td>APRIL</td><td>BURNS</td></tr>",
                            "<tr><td>LESLIE</td><td>GORDON</td></tr>",
                            "<tr><td>CLARA</td><td>SHAW</td></tr>",
                            "<tr><td>LUCILLE</td><td>HOLMES</td></tr>",
                            "<tr><td>JAMIE</td><td>RICE</td></tr>",
                            "<tr><td>JOANNE</td><td>ROBERTSON</td></tr>",
                            "<tr><td>ELEANOR</td><td>HUNT</td></tr>",
                            "<tr><td>VALERIE</td><td>BLACK</td></tr>",
                            "<tr><td>DANIELLE</td><td>DANIELS</td></tr>",
                            "<tr><td>MEGAN</td><td>PALMER</td></tr>",
                            "<tr><td>ALICIA</td><td>MILLS</td></tr>",
                            "<tr><td>SUZANNE</td><td>NICHOLS</td></tr>",
                            "<tr><td>MICHELE</td><td>GRANT</td></tr>",
                            "<tr><td>BERTHA</td><td>FERGUSON</td></tr>",
                            "<tr><td>DARLENE</td><td>ROSE</td></tr>",
                            "<tr><td>VERONICA</td><td>STONE</td></tr>",
                            "<tr><td>JILL</td><td>HAWKINS</td></tr>",
                            "<tr><td>ERIN</td><td>DUNN</td></tr>",
                            "<tr><td>GERALDINE</td><td>PERKINS</td></tr>",
                            "<tr><td>LAUREN</td><td>HUDSON</td></tr>",
                            "<tr><td>JOANN</td><td>GARDNER</td></tr>",
                            "<tr><td>LORRAINE</td><td>STEPHENS</td></tr>",
                            "<tr><td>LYNN</td><td>PAYNE</td></tr>",
                            "<tr><td>SALLY</td><td>PIERCE</td></tr>",
                            "<tr><td>REGINA</td><td>BERRY</td></tr>",
                            "<tr><td>ERICA</td><td>MATTHEWS</td></tr>",
                            "<tr><td>BEATRICE</td><td>ARNOLD</td></tr>",
                            "<tr><td>DOLORES</td><td>WAGNER</td></tr>",
                            "<tr><td>BERNICE</td><td>WILLIS</td></tr>",
                            "<tr><td>AUDREY</td><td>RAY</td></tr>",
                            "<tr><td>YVONNE</td><td>WATKINS</td></tr>",
                            "<tr><td>JUNE</td><td>CARROLL</td></tr>",
                            "<tr><td>SAMANTHA</td><td>DUNCAN</td></tr>",
                            "<tr><td>MARION</td><td>SNYDER</td></tr>",
                            "<tr><td>DANA</td><td>HART</td></tr>",
                            "<tr><td>STACY</td><td>CUNNINGHAM</td></tr>",
                            "<tr><td>ANA</td><td>BRADLEY</td></tr>",
                            "<tr><td>RENEE</td><td>LANE</td></tr>",
                            "<tr><td>IDA</td><td>ANDREWS</td></tr>",
                            "<tr><td>VIVIAN</td><td>RUIZ</td></tr>",
                            "<tr><td>ROBERTA</td><td>HARPER</td></tr>",
                            "<tr><td>HOLLY</td><td>FOX</td></tr>",
                            "<tr><td>BRITTANY</td><td>RILEY</td></tr>",
                            "<tr><td>MELANIE</td><td>ARMSTRONG</td></tr>",
                            "<tr><td>LORETTA</td><td>CARPENTER</td></tr>",
                            "<tr><td>YOLANDA</td><td>WEAVER</td></tr>",
                            "<tr><td>JEANETTE</td><td>GREENE</td></tr>",
                            "<tr><td>LAURIE</td><td>LAWRENCE</td></tr>",
                            "<tr><td>KATIE</td><td>ELLIOTT</td></tr>",
                            "<tr><td>KRISTEN</td><td>CHAVEZ</td></tr>",
                            "<tr><td>VANESSA</td><td>SIMS</td></tr>",
                            "<tr><td>ALMA</td><td>AUSTIN</td></tr>",
                            "<tr><td>SUE</td><td>PETERS</td></tr>",
                            "<tr><td>ELSIE</td><td>KELLEY</td></tr>",
                            "<tr><td>BETH</td><td>FRANKLIN</td></tr>",
                            "<tr><td>JEANNE</td><td>LAWSON</td></tr>",
                            "<tr><td>VICKI</td><td>FIELDS</td></tr>",
                            "<tr><td>CARLA</td><td>GUTIERREZ</td></tr>",
                            "<tr><td>TARA</td><td>RYAN</td></tr>",
                            "<tr><td>ROSEMARY</td><td>SCHMIDT</td></tr>",
                            "<tr><td>EILEEN</td><td>CARR</td></tr>",
                            "<tr><td>TERRI</td><td>VASQUEZ</td></tr>",
                            "<tr><td>GERTRUDE</td><td>CASTILLO</td></tr>",
                            "<tr><td>TONYA</td><td>CHAPMAN</td></tr>",
                            "<tr><td>ELLA</td><td>OLIVER</td></tr>",
                            "<tr><td>STACEY</td><td>MONTGOMERY</td></tr>",
                            "<tr><td>WILMA</td><td>RICHARDS</td></tr>",
                            "<tr><td>GINA</td><td>WILLIAMSON</td></tr>",
                            "<tr><td>KRISTIN</td><td>JOHNSTON</td></tr>",
                            "<tr><td>JESSIE</td><td>BANKS</td></tr>",
                            "<tr><td>AGNES</td><td>BISHOP</td></tr>",
                            "<tr><td>VERA</td><td>MCCOY</td></tr>",
                            "<tr><td>WILLIE</td><td>HOWELL</td></tr>",
                            "<tr><td>CHARLENE</td><td>ALVAREZ</td></tr>",
                            "<tr><td>BESSIE</td><td>MORRISON</td></tr>",
                            "<tr><td>DELORES</td><td>HANSEN</td></tr>",
                            "<tr><td>MELINDA</td><td>FERNANDEZ</td></tr>",
                            "<tr><td>PEARL</td><td>GARZA</td></tr>",
                            "<tr><td>ARLENE</td><td>HARVEY</td></tr>",
                            "<tr><td>MAUREEN</td><td>LITTLE</td></tr>",
                            "<tr><td>COLLEEN</td><td>BURTON</td></tr>",
                            "<tr><td>TAMARA</td><td>NGUYEN</td></tr>",
                            "<tr><td>JOY</td><td>GEORGE</td></tr>",
                            "<tr><td>GEORGIA</td><td>JACOBS</td></tr>",
                            "<tr><td>CONSTANCE</td><td>REID</td></tr>",
                            "<tr><td>LILLIE</td><td>KIM</td></tr>",
                            "<tr><td>CLAUDIA</td><td>FULLER</td></tr>",
                            "<tr><td>JACKIE</td><td>LYNCH</td></tr>",
                            "<tr><td>MARCIA</td><td>DEAN</td></tr>",
                            "<tr><td>TANYA</td><td>GILBERT</td></tr>",
                            "<tr><td>NELLIE</td><td>GARRETT</td></tr>",
                            "<tr><td>MINNIE</td><td>ROMERO</td></tr>",
                            "<tr><td>MARLENE</td><td>WELCH</td></tr>",
                            "<tr><td>HEIDI</td><td>LARSON</td></tr>",
                            "<tr><td>GLENDA</td><td>FRAZIER</td></tr>",
                            "<tr><td>LYDIA</td><td>BURKE</td></tr>",
                            "<tr><td>VIOLA</td><td>HANSON</td></tr>",
                            "<tr><td>COURTNEY</td><td>DAY</td></tr>",
                            "<tr><td>MARIAN</td><td>MENDOZA</td></tr>",
                            "<tr><td>STELLA</td><td>MORENO</td></tr>",
                            "<tr><td>CAROLINE</td><td>BOWMAN</td></tr>",
                            "<tr><td>DORA</td><td>MEDINA</td></tr>",
                            "<tr><td>JO</td><td>FOWLER</td></tr>",
                            "<tr><td>VICKIE</td><td>BREWER</td></tr>",
                            "<tr><td>MATTIE</td><td>HOFFMAN</td></tr>",
                            "<tr><td>TERRY</td><td>CARLSON</td></tr>",
                            "<tr><td>MAXINE</td><td>SILVA</td></tr>",
                            "<tr><td>IRMA</td><td>PEARSON</td></tr>",
                            "<tr><td>MABEL</td><td>HOLLAND</td></tr>",
                            "<tr><td>MARSHA</td><td>DOUGLAS</td></tr>",
                            "<tr><td>MYRTLE</td><td>FLEMING</td></tr>",
                            "<tr><td>LENA</td><td>JENSEN</td></tr>",
                            "<tr><td>CHRISTY</td><td>VARGAS</td></tr>",
                            "<tr><td>DEANNA</td><td>BYRD</td></tr>",
                            "<tr><td>PATSY</td><td>DAVIDSON</td></tr>",
                            "<tr><td>HILDA</td><td>HOPKINS</td></tr>",
                            "<tr><td>GWENDOLYN</td><td>MAY</td></tr>",
                            "<tr><td>JENNIE</td><td>TERRY</td></tr>",
                            "<tr><td>NORA</td><td>HERRERA</td></tr>",
                            "<tr><td>NINA</td><td>SOTO</td></tr>",
                            "<tr><td>LEAH</td><td>CURTIS</td></tr>",
                            "<tr><td>PENNY</td><td>NEAL</td></tr>",
                            "<tr><td>KAY</td><td>CALDWELL</td></tr>",
                            "<tr><td>PRISCILLA</td><td>LOWE</td></tr>",
                            "<tr><td>NAOMI</td><td>JENNINGS</td></tr>",
                            "<tr><td>CAROLE</td><td>BARNETT</td></tr>",
                            "<tr><td>BRANDY</td><td>GRAVES</td></tr>",
                            "<tr><td>OLGA</td><td>JIMENEZ</td></tr>",
                            "<tr><td>BILLIE</td><td>HORTON</td></tr>",
                            "<tr><td>DIANNE</td><td>SHELTON</td></tr>",
                            "<tr><td>TRACEY</td><td>BARRETT</td></tr>",
                            "<tr><td>LEONA</td><td>OBRIEN</td></tr>",
                            "<tr><td>JENNY</td><td>CASTRO</td></tr>",
                            "<tr><td>FELICIA</td><td>SUTTON</td></tr>",
                            "<tr><td>MIRIAM</td><td>MCKINNEY</td></tr>",
                            "<tr><td>VELMA</td><td>LUCAS</td></tr>",
                            "<tr><td>BECKY</td><td>MILES</td></tr>",
                            "<tr><td>BOBBIE</td><td>CRAIG</td></tr>",
                            "<tr><td>VIOLET</td><td>RODRIQUEZ</td></tr>",
                            "<tr><td>KRISTINA</td><td>CHAMBERS</td></tr>",
                            "<tr><td>TONI</td><td>HOLT</td></tr>",
                            "<tr><td>MISTY</td><td>LAMBERT</td></tr>",
                            "<tr><td>MAE</td><td>FLETCHER</td></tr>",
                            "<tr><td>SHELLY</td><td>WATTS</td></tr>",
                            "<tr><td>DAISY</td><td>BATES</td></tr>",
                            "<tr><td>RAMONA</td><td>HALE</td></tr>",
                            "<tr><td>SHERRI</td><td>RHODES</td></tr>",
                            "<tr><td>ERIKA</td><td>PENA</td></tr>",
                            "<tr><td>JAMES</td><td>GANNON</td></tr>",
                            "<tr><td>JOHN</td><td>FARNSWORTH</td></tr>",
                            "<tr><td>ROBERT</td><td>BAUGHMAN</td></tr>",
                            "<tr><td>MICHAEL</td><td>SILVERMAN</td></tr>",
                            "<tr><td>WILLIAM</td><td>SATTERFIELD</td></tr>",
                            "<tr><td>DAVID</td><td>ROYAL</td></tr>",
                            "<tr><td>RICHARD</td><td>MCCRARY</td></tr>",
                            "<tr><td>CHARLES</td><td>KOWALSKI</td></tr>",
                            "<tr><td>JOSEPH</td><td>JOY</td></tr>",
                            "<tr><td>THOMAS</td><td>GRIGSBY</td></tr>",
                            "<tr><td>CHRISTOPHER</td><td>GRECO</td></tr>",
                            "<tr><td>DANIEL</td><td>CABRAL</td></tr>",
                            "<tr><td>PAUL</td><td>TROUT</td></tr>",
                            "<tr><td>MARK</td><td>RINEHART</td></tr>",
                            "<tr><td>DONALD</td><td>MAHON</td></tr>",
                            "<tr><td>GEORGE</td><td>LINTON</td></tr>",
                            "<tr><td>KENNETH</td><td>GOODEN</td></tr>",
                            "<tr><td>STEVEN</td><td>CURLEY</td></tr>",
                            "<tr><td>EDWARD</td><td>BAUGH</td></tr>",
                            "<tr><td>BRIAN</td><td>WYMAN</td></tr>",
                            "<tr><td>RONALD</td><td>WEINER</td></tr>",
                            "<tr><td>ANTHONY</td><td>SCHWAB</td></tr>",
                            "<tr><td>KEVIN</td><td>SCHULER</td></tr>",
                            "<tr><td>JASON</td><td>MORRISSEY</td></tr>",
                            "<tr><td>MATTHEW</td><td>MAHAN</td></tr>",
                            "<tr><td>GARY</td><td>COY</td></tr>",
                            "<tr><td>TIMOTHY</td><td>BUNN</td></tr>",
                            "<tr><td>JOSE</td><td>ANDREW</td></tr>",
                            "<tr><td>LARRY</td><td>THRASHER</td></tr>",
                            "<tr><td>JEFFREY</td><td>SPEAR</td></tr>",
                            "<tr><td>FRANK</td><td>WAGGONER</td></tr>",
                            "<tr><td>SCOTT</td><td>SHELLEY</td></tr>",
                            "<tr><td>ERIC</td><td>ROBERT</td></tr>",
                            "<tr><td>STEPHEN</td><td>QUALLS</td></tr>",
                            "<tr><td>ANDREW</td><td>PURDY</td></tr>",
                            "<tr><td>RAYMOND</td><td>MCWHORTER</td></tr>",
                            "<tr><td>GREGORY</td><td>MAULDIN</td></tr>",
                            "<tr><td>JOSHUA</td><td>MARK</td></tr>",
                            "<tr><td>JERRY</td><td>JORDON</td></tr>",
                            "<tr><td>DENNIS</td><td>GILMAN</td></tr>",
                            "<tr><td>WALTER</td><td>PERRYMAN</td></tr>",
                            "<tr><td>PATRICK</td><td>NEWSOM</td></tr>",
                            "<tr><td>PETER</td><td>MENARD</td></tr>",
                            "<tr><td>HAROLD</td><td>MARTINO</td></tr>",
                            "<tr><td>DOUGLAS</td><td>GRAF</td></tr>",
                            "<tr><td>HENRY</td><td>BILLINGSLEY</td></tr>",
                            "<tr><td>CARL</td><td>ARTIS</td></tr>",
                            "<tr><td>ARTHUR</td><td>SIMPKINS</td></tr>",
                            "<tr><td>RYAN</td><td>SALISBURY</td></tr>",
                            "<tr><td>ROGER</td><td>QUINTANILLA</td></tr>",
                            "<tr><td>JOE</td><td>GILLILAND</td></tr>",
                            "<tr><td>JUAN</td><td>FRALEY</td></tr>",
                            "<tr><td>JACK</td><td>FOUST</td></tr>",
                            "<tr><td>ALBERT</td><td>CROUSE</td></tr>",
                            "<tr><td>JONATHAN</td><td>SCARBOROUGH</td></tr>",
                            "<tr><td>TERRY</td><td>GRISSOM</td></tr>",
                            "<tr><td>GERALD</td><td>FULTZ</td></tr>",
                            "<tr><td>KEITH</td><td>RICO</td></tr>",
                            "<tr><td>SAMUEL</td><td>MARLOW</td></tr>",
                            "<tr><td>WILLIE</td><td>MARKHAM</td></tr>",
                            "<tr><td>RALPH</td><td>MADRIGAL</td></tr>",
                            "<tr><td>NICHOLAS</td><td>BARFIELD</td></tr>",
                            "<tr><td>ROY</td><td>WHITING</td></tr>",
                            "<tr><td>BENJAMIN</td><td>VARNEY</td></tr>",
                            "<tr><td>BRUCE</td><td>SCHWARZ</td></tr>",
                            "<tr><td>BRANDON</td><td>HUEY</td></tr>",
                            "<tr><td>ADAM</td><td>GOOCH</td></tr>",
                            "<tr><td>HARRY</td><td>ARCE</td></tr>",
                            "<tr><td>FRED</td><td>WHEAT</td></tr>",
                            "<tr><td>WAYNE</td><td>TRUONG</td></tr>",
                            "<tr><td>BILLY</td><td>POULIN</td></tr>",
                            "<tr><td>STEVE</td><td>MACKENZIE</td></tr>",
                            "<tr><td>LOUIS</td><td>LEONE</td></tr>",
                            "<tr><td>JEREMY</td><td>HURTADO</td></tr>",
                            "<tr><td>AARON</td><td>SELBY</td></tr>",
                            "<tr><td>RANDY</td><td>GAITHER</td></tr>",
                            "<tr><td>HOWARD</td><td>FORTNER</td></tr>",
                            "<tr><td>EUGENE</td><td>CULPEPPER</td></tr>",
                            "<tr><td>CARLOS</td><td>COUGHLIN</td></tr>",
                            "<tr><td>RUSSELL</td><td>BRINSON</td></tr>",
                            "<tr><td>BOBBY</td><td>BOUDREAU</td></tr>",
                            "<tr><td>VICTOR</td><td>BARKLEY</td></tr>",
                            "<tr><td>MARTIN</td><td>BALES</td></tr>",
                            "<tr><td>ERNEST</td><td>STEPP</td></tr>",
                            "<tr><td>PHILLIP</td><td>HOLM</td></tr>",
                            "<tr><td>TODD</td><td>TAN</td></tr>",
                            "<tr><td>JESSE</td><td>SCHILLING</td></tr>",
                            "<tr><td>CRAIG</td><td>MORRELL</td></tr>",
                            "<tr><td>ALAN</td><td>KAHN</td></tr>",
                            "<tr><td>SHAWN</td><td>HEATON</td></tr>",
                            "<tr><td>CLARENCE</td><td>GAMEZ</td></tr>",
                            "<tr><td>SEAN</td><td>DOUGLASS</td></tr>",
                            "<tr><td>PHILIP</td><td>CAUSEY</td></tr>",
                            "<tr><td>CHRIS</td><td>BROTHERS</td></tr>",
                            "<tr><td>JOHNNY</td><td>TURPIN</td></tr>",
                            "<tr><td>EARL</td><td>SHANKS</td></tr>",
                            "<tr><td>JIMMY</td><td>SCHRADER</td></tr>",
                            "<tr><td>ANTONIO</td><td>MEEK</td></tr>",
                            "<tr><td>DANNY</td><td>ISOM</td></tr>",
                            "<tr><td>BRYAN</td><td>HARDISON</td></tr>",
                            "<tr><td>TONY</td><td>CARRANZA</td></tr>",
                            "<tr><td>LUIS</td><td>YANEZ</td></tr>",
                            "<tr><td>MIKE</td><td>WAY</td></tr>",
                            "<tr><td>STANLEY</td><td>SCROGGINS</td></tr>",
                            "<tr><td>LEONARD</td><td>SCHOFIELD</td></tr>",
                            "<tr><td>NATHAN</td><td>RUNYON</td></tr>",
                            "<tr><td>DALE</td><td>RATCLIFF</td></tr>",
                            "<tr><td>MANUEL</td><td>MURRELL</td></tr>",
                            "<tr><td>RODNEY</td><td>MOELLER</td></tr>",
                            "<tr><td>CURTIS</td><td>IRBY</td></tr>",
                            "<tr><td>NORMAN</td><td>CURRIER</td></tr>",
                            "<tr><td>ALLEN</td><td>BUTTERFIELD</td></tr>",
                            "<tr><td>MARVIN</td><td>YEE</td></tr>",
                            "<tr><td>VINCENT</td><td>RALSTON</td></tr>",
                            "<tr><td>GLENN</td><td>PULLEN</td></tr>",
                            "<tr><td>JEFFERY</td><td>PINSON</td></tr>",
                            "<tr><td>TRAVIS</td><td>ESTEP</td></tr>",
                            "<tr><td>JEFF</td><td>EAST</td></tr>",
                            "<tr><td>CHAD</td><td>CARBONE</td></tr>",
                            "<tr><td>JACOB</td><td>LANCE</td></tr>",
                            "<tr><td>LEE</td><td>HAWKS</td></tr>",
                            "<tr><td>MELVIN</td><td>ELLINGTON</td></tr>",
                            "<tr><td>ALFRED</td><td>CASILLAS</td></tr>",
                            "<tr><td>KYLE</td><td>SPURLOCK</td></tr>",
                            "<tr><td>FRANCIS</td><td>SIKES</td></tr>",
                            "<tr><td>BRADLEY</td><td>MOTLEY</td></tr>",
                            "<tr><td>JESUS</td><td>MCCARTNEY</td></tr>",
                            "<tr><td>HERBERT</td><td>KRUGER</td></tr>",
                            "<tr><td>FREDERICK</td><td>ISBELL</td></tr>",
                            "<tr><td>RAY</td><td>HOULE</td></tr>",
                            "<tr><td>JOEL</td><td>FRANCISCO</td></tr>",
                            "<tr><td>EDWIN</td><td>BURK</td></tr>",
                            "<tr><td>DON</td><td>BONE</td></tr>",
                            "<tr><td>EDDIE</td><td>TOMLIN</td></tr>",
                            "<tr><td>RICKY</td><td>SHELBY</td></tr>",
                            "<tr><td>TROY</td><td>QUIGLEY</td></tr>",
                            "<tr><td>RANDALL</td><td>NEUMANN</td></tr>",
                            "<tr><td>BARRY</td><td>LOVELACE</td></tr>",
                            "<tr><td>ALEXANDER</td><td>FENNELL</td></tr>",
                            "<tr><td>BERNARD</td><td>COLBY</td></tr>",
                            "<tr><td>MARIO</td><td>CHEATHAM</td></tr>",
                            "<tr><td>LEROY</td><td>BUSTAMANTE</td></tr>",
                            "<tr><td>FRANCISCO</td><td>SKIDMORE</td></tr>",
                            "<tr><td>MARCUS</td><td>HIDALGO</td></tr>",
                            "<tr><td>MICHEAL</td><td>FORMAN</td></tr>",
                            "<tr><td>THEODORE</td><td>CULP</td></tr>",
                            "<tr><td>CLIFFORD</td><td>BOWENS</td></tr>",
                            "<tr><td>OSCAR</td><td>AQUINO</td></tr>",
                            "<tr><td>JAY</td><td>ROBB</td></tr>",
                            "<tr><td>JIM</td><td>REA</td></tr>",
                            "<tr><td>TOM</td><td>MILNER</td></tr>",
                            "<tr><td>CALVIN</td><td>MARTEL</td></tr>",
                            "<tr><td>ALEX</td><td>GRESHAM</td></tr>",
                            "<tr><td>JON</td><td>WILES</td></tr>",
                            "<tr><td>RONNIE</td><td>RICKETTS</td></tr>",
                            "<tr><td>LLOYD</td><td>DOWD</td></tr>",
                            "<tr><td>TOMMY</td><td>COLLAZO</td></tr>",
                            "<tr><td>LEON</td><td>BOSTIC</td></tr>",
                            "<tr><td>DEREK</td><td>BLAKELY</td></tr>",
                            "<tr><td>WARREN</td><td>SHERROD</td></tr>",
                            "<tr><td>DARRELL</td><td>POWER</td></tr>",
                            "<tr><td>JEROME</td><td>KENYON</td></tr>",
                            "<tr><td>FLOYD</td><td>GANDY</td></tr>",
                            "<tr><td>LEO</td><td>EBERT</td></tr>",
                            "<tr><td>ALVIN</td><td>DELOACH</td></tr>",
                            "<tr><td>TIM</td><td>CARY</td></tr>",
                            "<tr><td>WESLEY</td><td>BULL</td></tr>",
                            "<tr><td>GORDON</td><td>ALLARD</td></tr>",
                            "<tr><td>DEAN</td><td>SAUER</td></tr>",
                            "<tr><td>GREG</td><td>ROBINS</td></tr>",
                            "<tr><td>JORGE</td><td>OLIVARES</td></tr>",
                            "<tr><td>DUSTIN</td><td>GILLETTE</td></tr>",
                            "<tr><td>PEDRO</td><td>CHESTNUT</td></tr>",
                            "<tr><td>DERRICK</td><td>BOURQUE</td></tr>",
                            "<tr><td>DAN</td><td>PAINE</td></tr>",
                            "<tr><td>LEWIS</td><td>LYMAN</td></tr>",
                            "<tr><td>ZACHARY</td><td>HITE</td></tr>",
                            "<tr><td>COREY</td><td>HAUSER</td></tr>",
                            "<tr><td>HERMAN</td><td>DEVORE</td></tr>",
                            "<tr><td>MAURICE</td><td>CRAWLEY</td></tr>",
                            "<tr><td>VERNON</td><td>CHAPA</td></tr>",
                            "<tr><td>ROBERTO</td><td>VU</td></tr>",
                            "<tr><td>CLYDE</td><td>TOBIAS</td></tr>",
                            "<tr><td>GLEN</td><td>TALBERT</td></tr>",
                            "<tr><td>HECTOR</td><td>POINDEXTER</td></tr>",
                            "<tr><td>SHANE</td><td>MILLARD</td></tr>",
                            "<tr><td>RICARDO</td><td>MEADOR</td></tr>",
                            "<tr><td>SAM</td><td>MCDUFFIE</td></tr>",
                            "<tr><td>RICK</td><td>MATTOX</td></tr>",
                            "<tr><td>LESTER</td><td>KRAUS</td></tr>",
                            "<tr><td>BRENT</td><td>HARKINS</td></tr>",
                            "<tr><td>RAMON</td><td>CHOATE</td></tr>",
                            "<tr><td>CHARLIE</td><td>BESS</td></tr>",
                            "<tr><td>TYLER</td><td>WREN</td></tr>",
                            "<tr><td>GILBERT</td><td>SLEDGE</td></tr>",
                            "<tr><td>GENE</td><td>SANBORN</td></tr>",
                            "<tr><td>MARC</td><td>OUTLAW</td></tr>",
                            "<tr><td>REGINALD</td><td>KINDER</td></tr>",
                            "<tr><td>RUBEN</td><td>GEARY</td></tr>",
                            "<tr><td>BRETT</td><td>CORNWELL</td></tr>",
                            "<tr><td>ANGEL</td><td>BARCLAY</td></tr>",
                            "<tr><td>NATHANIEL</td><td>ADAM</td></tr>",
                            "<tr><td>RAFAEL</td><td>ABNEY</td></tr>",
                            "<tr><td>LESLIE</td><td>SEWARD</td></tr>",
                            "<tr><td>EDGAR</td><td>RHOADS</td></tr>",
                            "<tr><td>MILTON</td><td>HOWLAND</td></tr>",
                            "<tr><td>RAUL</td><td>FORTIER</td></tr>",
                            "<tr><td>BEN</td><td>EASTER</td></tr>",
                            "<tr><td>CHESTER</td><td>BENNER</td></tr>",
                            "<tr><td>CECIL</td><td>VINES</td></tr>",
                            "<tr><td>DUANE</td><td>TUBBS</td></tr>",
                            "<tr><td>FRANKLIN</td><td>TROUTMAN</td></tr>",
                            "<tr><td>ANDRE</td><td>RAPP</td></tr>",
                            "<tr><td>BRAD</td><td>MCCURDY</td></tr>",
                            "<tr><td>GABRIEL</td><td>HARDER</td></tr>",
                            "<tr><td>RON</td><td>DELUCA</td></tr>",
                            "<tr><td>MITCHELL</td><td>WESTMORELAND</td></tr>",
                            "<tr><td>ROLAND</td><td>SOUTH</td></tr>",
                            "<tr><td>ARNOLD</td><td>HAVENS</td></tr>",
                            "<tr><td>HARVEY</td><td>GUAJARDO</td></tr>",
                            "<tr><td>JARED</td><td>ELY</td></tr>",
                            "<tr><td>ADRIAN</td><td>CLARY</td></tr>",
                            "<tr><td>KARL</td><td>SEAL</td></tr>",
                            "<tr><td>CORY</td><td>MEEHAN</td></tr>",
                            "<tr><td>CLAUDE</td><td>HERZOG</td></tr>",
                            "<tr><td>ERIK</td><td>GUILLEN</td></tr>",
                            "<tr><td>DARRYL</td><td>ASHCRAFT</td></tr>",
                            "<tr><td>JAMIE</td><td>WAUGH</td></tr>",
                            "<tr><td>NEIL</td><td>RENNER</td></tr>",
                            "<tr><td>JESSIE</td><td>MILAM</td></tr>",
                            "<tr><td>CHRISTIAN</td><td>JUNG</td></tr>",
                            "<tr><td>JAVIER</td><td>ELROD</td></tr>",
                            "<tr><td>FERNANDO</td><td>CHURCHILL</td></tr>",
                            "<tr><td>CLINTON</td><td>BUFORD</td></tr>",
                            "<tr><td>TED</td><td>BREAUX</td></tr>",
                            "<tr><td>MATHEW</td><td>BOLIN</td></tr>",
                            "<tr><td>TYRONE</td><td>ASHER</td></tr>",
                            "<tr><td>DARREN</td><td>WINDHAM</td></tr>",
                            "<tr><td>LONNIE</td><td>TIRADO</td></tr>",
                            "<tr><td>LANCE</td><td>PEMBERTON</td></tr>",
                            "<tr><td>CODY</td><td>NOLEN</td></tr>",
                            "<tr><td>JULIO</td><td>NOLAND</td></tr>",
                            "<tr><td>KELLY</td><td>KNOTT</td></tr>",
                            "<tr><td>KURT</td><td>EMMONS</td></tr>",
                            "<tr><td>ALLAN</td><td>CORNISH</td></tr>",
                            "<tr><td>NELSON</td><td>CHRISTENSON</td></tr>",
                            "<tr><td>GUY</td><td>BROWNLEE</td></tr>",
                            "<tr><td>CLAYTON</td><td>BARBEE</td></tr>",
                            "<tr><td>HUGH</td><td>WALDROP</td></tr>",
                            "<tr><td>MAX</td><td>PITT</td></tr>",
                            "<tr><td>DWAYNE</td><td>OLVERA</td></tr>",
                            "<tr><td>DWIGHT</td><td>LOMBARDI</td></tr>",
                            "<tr><td>ARMANDO</td><td>GRUBER</td></tr>",
                            "<tr><td>FELIX</td><td>GAFFNEY</td></tr>",
                            "<tr><td>JIMMIE</td><td>EGGLESTON</td></tr>",
                            "<tr><td>EVERETT</td><td>BANDA</td></tr>",
                            "<tr><td>IAN</td><td>STILL</td></tr>",
                            "<tr><td>WALLACE</td><td>SLONE</td></tr>",
                            "<tr><td>KEN</td><td>PREWITT</td></tr>",
                            "<tr><td>BOB</td><td>PFEIFFER</td></tr>",
                            "<tr><td>JAIME</td><td>NETTLES</td></tr>",
                            "<tr><td>CASEY</td><td>MENA</td></tr>",
                            "<tr><td>ALFREDO</td><td>MCADAMS</td></tr>",
                            "<tr><td>ALBERTO</td><td>HENNING</td></tr>",
                            "<tr><td>DAVE</td><td>GARDINER</td></tr>",
                            "<tr><td>IVAN</td><td>CROMWELL</td></tr>",
                            "<tr><td>JOHNNIE</td><td>CHISHOLM</td></tr>",
                            "<tr><td>SIDNEY</td><td>BURLESON</td></tr>",
                            "<tr><td>BYRON</td><td>BOX</td></tr>",
                            "<tr><td>JULIAN</td><td>VEST</td></tr>",
                            "<tr><td>ISAAC</td><td>OGLESBY</td></tr>",
                            "<tr><td>CLIFTON</td><td>MALCOLM</td></tr>",
                            "<tr><td>WILLARD</td><td>LUMPKIN</td></tr>",
                            "<tr><td>DARYL</td><td>LARUE</td></tr>",
                            "<tr><td>ROSS</td><td>GREY</td></tr>",
                            "<tr><td>VIRGIL</td><td>WOFFORD</td></tr>",
                            "<tr><td>ANDY</td><td>VANHORN</td></tr>",
                            "<tr><td>MARSHALL</td><td>THORN</td></tr>",
                            "<tr><td>SALVADOR</td><td>TEEL</td></tr>",
                            "<tr><td>PERRY</td><td>SWAFFORD</td></tr>",
                            "<tr><td>KIRK</td><td>STCLAIR</td></tr>",
                            "<tr><td>SERGIO</td><td>STANFIELD</td></tr>",
                            "<tr><td>MARION</td><td>OCAMPO</td></tr>",
                            "<tr><td>TRACY</td><td>HERRMANN</td></tr>",
                            "<tr><td>SETH</td><td>HANNON</td></tr>",
                            "<tr><td>KENT</td><td>ARSENAULT</td></tr>",
                            "<tr><td>TERRANCE</td><td>ROUSH</td></tr>",
                            "<tr><td>RENE</td><td>MCALISTER</td></tr>",
                            "<tr><td>EDUARDO</td><td>HIATT</td></tr>",
                            "<tr><td>TERRENCE</td><td>GUNDERSON</td></tr>",
                            "<tr><td>ENRIQUE</td><td>FORSYTHE</td></tr>",
                            "<tr><td>FREDDIE</td><td>DUGGAN</td></tr>",
                            "<tr><td>WADE</td><td>DELVALLE</td></tr>",
                            "<tr><td>AUSTIN</td><td>CINTRON</td></tr>",
                            "</table>"
                        ]
                    }
                }
            ],
            "execution_count": 13
        },
        {
            "cell_type": "code",
            "source": [
                "SELECT first_name, last_name\n",
                "FROM customer\n",
                "WHERE customer_id NOT IN (\n",
                "    SELECT customer_id\n",
                "    FROM payment\n",
                "    WHERE amount = 0 \n",
                ")"
            ],
            "metadata": {
                "azdata_cell_guid": "0c1cbbe6-64a0-4cff-9a93-55b8dcf4486a"
            },
            "outputs": [
                {
                    "output_type": "display_data",
                    "data": {
                        "text/html": "(576 rows affected)"
                    },
                    "metadata": {}
                },
                {
                    "output_type": "display_data",
                    "data": {
                        "text/html": "Total execution time: 00:00:00.017"
                    },
                    "metadata": {}
                },
                {
                    "output_type": "execute_result",
                    "metadata": {},
                    "execution_count": 14,
                    "data": {
                        "application/vnd.dataresource+json": {
                            "schema": {
                                "fields": [
                                    {
                                        "name": "first_name"
                                    },
                                    {
                                        "name": "last_name"
                                    }
                                ]
                            },
                            "data": [
                                {
                                    "0": "MARY",
                                    "1": "SMITH"
                                },
                                {
                                    "0": "PATRICIA",
                                    "1": "JOHNSON"
                                },
                                {
                                    "0": "LINDA",
                                    "1": "WILLIAMS"
                                },
                                {
                                    "0": "BARBARA",
                                    "1": "JONES"
                                },
                                {
                                    "0": "ELIZABETH",
                                    "1": "BROWN"
                                },
                                {
                                    "0": "JENNIFER",
                                    "1": "DAVIS"
                                },
                                {
                                    "0": "MARIA",
                                    "1": "MILLER"
                                },
                                {
                                    "0": "SUSAN",
                                    "1": "WILSON"
                                },
                                {
                                    "0": "MARGARET",
                                    "1": "MOORE"
                                },
                                {
                                    "0": "DOROTHY",
                                    "1": "TAYLOR"
                                },
                                {
                                    "0": "LISA",
                                    "1": "ANDERSON"
                                },
                                {
                                    "0": "NANCY",
                                    "1": "THOMAS"
                                },
                                {
                                    "0": "KAREN",
                                    "1": "JACKSON"
                                },
                                {
                                    "0": "BETTY",
                                    "1": "WHITE"
                                },
                                {
                                    "0": "SANDRA",
                                    "1": "MARTIN"
                                },
                                {
                                    "0": "DONNA",
                                    "1": "THOMPSON"
                                },
                                {
                                    "0": "CAROL",
                                    "1": "GARCIA"
                                },
                                {
                                    "0": "RUTH",
                                    "1": "MARTINEZ"
                                },
                                {
                                    "0": "SHARON",
                                    "1": "ROBINSON"
                                },
                                {
                                    "0": "MICHELLE",
                                    "1": "CLARK"
                                },
                                {
                                    "0": "LAURA",
                                    "1": "RODRIGUEZ"
                                },
                                {
                                    "0": "SARAH",
                                    "1": "LEWIS"
                                },
                                {
                                    "0": "KIMBERLY",
                                    "1": "LEE"
                                },
                                {
                                    "0": "DEBORAH",
                                    "1": "WALKER"
                                },
                                {
                                    "0": "JESSICA",
                                    "1": "HALL"
                                },
                                {
                                    "0": "SHIRLEY",
                                    "1": "ALLEN"
                                },
                                {
                                    "0": "CYNTHIA",
                                    "1": "YOUNG"
                                },
                                {
                                    "0": "ANGELA",
                                    "1": "HERNANDEZ"
                                },
                                {
                                    "0": "MELISSA",
                                    "1": "KING"
                                },
                                {
                                    "0": "BRENDA",
                                    "1": "WRIGHT"
                                },
                                {
                                    "0": "AMY",
                                    "1": "LOPEZ"
                                },
                                {
                                    "0": "ANNA",
                                    "1": "HILL"
                                },
                                {
                                    "0": "REBECCA",
                                    "1": "SCOTT"
                                },
                                {
                                    "0": "VIRGINIA",
                                    "1": "GREEN"
                                },
                                {
                                    "0": "KATHLEEN",
                                    "1": "ADAMS"
                                },
                                {
                                    "0": "PAMELA",
                                    "1": "BAKER"
                                },
                                {
                                    "0": "MARTHA",
                                    "1": "GONZALEZ"
                                },
                                {
                                    "0": "DEBRA",
                                    "1": "NELSON"
                                },
                                {
                                    "0": "AMANDA",
                                    "1": "CARTER"
                                },
                                {
                                    "0": "STEPHANIE",
                                    "1": "MITCHELL"
                                },
                                {
                                    "0": "MARIE",
                                    "1": "TURNER"
                                },
                                {
                                    "0": "JANET",
                                    "1": "PHILLIPS"
                                },
                                {
                                    "0": "CATHERINE",
                                    "1": "CAMPBELL"
                                },
                                {
                                    "0": "FRANCES",
                                    "1": "PARKER"
                                },
                                {
                                    "0": "ANN",
                                    "1": "EVANS"
                                },
                                {
                                    "0": "JOYCE",
                                    "1": "EDWARDS"
                                },
                                {
                                    "0": "DIANE",
                                    "1": "COLLINS"
                                },
                                {
                                    "0": "ALICE",
                                    "1": "STEWART"
                                },
                                {
                                    "0": "JULIE",
                                    "1": "SANCHEZ"
                                },
                                {
                                    "0": "TERESA",
                                    "1": "ROGERS"
                                },
                                {
                                    "0": "DORIS",
                                    "1": "REED"
                                },
                                {
                                    "0": "GLORIA",
                                    "1": "COOK"
                                },
                                {
                                    "0": "EVELYN",
                                    "1": "MORGAN"
                                },
                                {
                                    "0": "JEAN",
                                    "1": "BELL"
                                },
                                {
                                    "0": "CHERYL",
                                    "1": "MURPHY"
                                },
                                {
                                    "0": "KATHERINE",
                                    "1": "RIVERA"
                                },
                                {
                                    "0": "JOAN",
                                    "1": "COOPER"
                                },
                                {
                                    "0": "ASHLEY",
                                    "1": "RICHARDSON"
                                },
                                {
                                    "0": "JUDITH",
                                    "1": "COX"
                                },
                                {
                                    "0": "ROSE",
                                    "1": "HOWARD"
                                },
                                {
                                    "0": "JANICE",
                                    "1": "WARD"
                                },
                                {
                                    "0": "KELLY",
                                    "1": "TORRES"
                                },
                                {
                                    "0": "NICOLE",
                                    "1": "PETERSON"
                                },
                                {
                                    "0": "JUDY",
                                    "1": "GRAY"
                                },
                                {
                                    "0": "CHRISTINA",
                                    "1": "RAMIREZ"
                                },
                                {
                                    "0": "KATHY",
                                    "1": "JAMES"
                                },
                                {
                                    "0": "THERESA",
                                    "1": "WATSON"
                                },
                                {
                                    "0": "BEVERLY",
                                    "1": "BROOKS"
                                },
                                {
                                    "0": "DENISE",
                                    "1": "KELLY"
                                },
                                {
                                    "0": "IRENE",
                                    "1": "PRICE"
                                },
                                {
                                    "0": "JANE",
                                    "1": "BENNETT"
                                },
                                {
                                    "0": "LORI",
                                    "1": "WOOD"
                                },
                                {
                                    "0": "RACHEL",
                                    "1": "BARNES"
                                },
                                {
                                    "0": "MARILYN",
                                    "1": "ROSS"
                                },
                                {
                                    "0": "ANDREA",
                                    "1": "HENDERSON"
                                },
                                {
                                    "0": "KATHRYN",
                                    "1": "COLEMAN"
                                },
                                {
                                    "0": "LOUISE",
                                    "1": "JENKINS"
                                },
                                {
                                    "0": "SARA",
                                    "1": "PERRY"
                                },
                                {
                                    "0": "ANNE",
                                    "1": "POWELL"
                                },
                                {
                                    "0": "JACQUELINE",
                                    "1": "LONG"
                                },
                                {
                                    "0": "WANDA",
                                    "1": "PATTERSON"
                                },
                                {
                                    "0": "BONNIE",
                                    "1": "HUGHES"
                                },
                                {
                                    "0": "JULIA",
                                    "1": "FLORES"
                                },
                                {
                                    "0": "RUBY",
                                    "1": "WASHINGTON"
                                },
                                {
                                    "0": "LOIS",
                                    "1": "BUTLER"
                                },
                                {
                                    "0": "TINA",
                                    "1": "SIMMONS"
                                },
                                {
                                    "0": "PHYLLIS",
                                    "1": "FOSTER"
                                },
                                {
                                    "0": "NORMA",
                                    "1": "GONZALES"
                                },
                                {
                                    "0": "PAULA",
                                    "1": "BRYANT"
                                },
                                {
                                    "0": "DIANA",
                                    "1": "ALEXANDER"
                                },
                                {
                                    "0": "ANNIE",
                                    "1": "RUSSELL"
                                },
                                {
                                    "0": "LILLIAN",
                                    "1": "GRIFFIN"
                                },
                                {
                                    "0": "EMILY",
                                    "1": "DIAZ"
                                },
                                {
                                    "0": "ROBIN",
                                    "1": "HAYES"
                                },
                                {
                                    "0": "PEGGY",
                                    "1": "MYERS"
                                },
                                {
                                    "0": "CRYSTAL",
                                    "1": "FORD"
                                },
                                {
                                    "0": "GLADYS",
                                    "1": "HAMILTON"
                                },
                                {
                                    "0": "RITA",
                                    "1": "GRAHAM"
                                },
                                {
                                    "0": "DAWN",
                                    "1": "SULLIVAN"
                                },
                                {
                                    "0": "CONNIE",
                                    "1": "WALLACE"
                                },
                                {
                                    "0": "TRACY",
                                    "1": "COLE"
                                },
                                {
                                    "0": "EDNA",
                                    "1": "WEST"
                                },
                                {
                                    "0": "TIFFANY",
                                    "1": "JORDAN"
                                },
                                {
                                    "0": "CARMEN",
                                    "1": "OWENS"
                                },
                                {
                                    "0": "ROSA",
                                    "1": "REYNOLDS"
                                },
                                {
                                    "0": "CINDY",
                                    "1": "FISHER"
                                },
                                {
                                    "0": "GRACE",
                                    "1": "ELLIS"
                                },
                                {
                                    "0": "WENDY",
                                    "1": "HARRISON"
                                },
                                {
                                    "0": "VICTORIA",
                                    "1": "GIBSON"
                                },
                                {
                                    "0": "EDITH",
                                    "1": "MCDONALD"
                                },
                                {
                                    "0": "KIM",
                                    "1": "CRUZ"
                                },
                                {
                                    "0": "SHERRY",
                                    "1": "MARSHALL"
                                },
                                {
                                    "0": "SYLVIA",
                                    "1": "ORTIZ"
                                },
                                {
                                    "0": "JOSEPHINE",
                                    "1": "GOMEZ"
                                },
                                {
                                    "0": "THELMA",
                                    "1": "MURRAY"
                                },
                                {
                                    "0": "SHANNON",
                                    "1": "FREEMAN"
                                },
                                {
                                    "0": "SHEILA",
                                    "1": "WELLS"
                                },
                                {
                                    "0": "ETHEL",
                                    "1": "WEBB"
                                },
                                {
                                    "0": "ELLEN",
                                    "1": "SIMPSON"
                                },
                                {
                                    "0": "ELAINE",
                                    "1": "STEVENS"
                                },
                                {
                                    "0": "MARJORIE",
                                    "1": "TUCKER"
                                },
                                {
                                    "0": "CARRIE",
                                    "1": "PORTER"
                                },
                                {
                                    "0": "CHARLOTTE",
                                    "1": "HUNTER"
                                },
                                {
                                    "0": "MONICA",
                                    "1": "HICKS"
                                },
                                {
                                    "0": "ESTHER",
                                    "1": "CRAWFORD"
                                },
                                {
                                    "0": "PAULINE",
                                    "1": "HENRY"
                                },
                                {
                                    "0": "EMMA",
                                    "1": "BOYD"
                                },
                                {
                                    "0": "JUANITA",
                                    "1": "MASON"
                                },
                                {
                                    "0": "ANITA",
                                    "1": "MORALES"
                                },
                                {
                                    "0": "RHONDA",
                                    "1": "KENNEDY"
                                },
                                {
                                    "0": "HAZEL",
                                    "1": "WARREN"
                                },
                                {
                                    "0": "AMBER",
                                    "1": "DIXON"
                                },
                                {
                                    "0": "EVA",
                                    "1": "RAMOS"
                                },
                                {
                                    "0": "DEBBIE",
                                    "1": "REYES"
                                },
                                {
                                    "0": "APRIL",
                                    "1": "BURNS"
                                },
                                {
                                    "0": "LESLIE",
                                    "1": "GORDON"
                                },
                                {
                                    "0": "CLARA",
                                    "1": "SHAW"
                                },
                                {
                                    "0": "LUCILLE",
                                    "1": "HOLMES"
                                },
                                {
                                    "0": "JAMIE",
                                    "1": "RICE"
                                },
                                {
                                    "0": "JOANNE",
                                    "1": "ROBERTSON"
                                },
                                {
                                    "0": "ELEANOR",
                                    "1": "HUNT"
                                },
                                {
                                    "0": "VALERIE",
                                    "1": "BLACK"
                                },
                                {
                                    "0": "DANIELLE",
                                    "1": "DANIELS"
                                },
                                {
                                    "0": "MEGAN",
                                    "1": "PALMER"
                                },
                                {
                                    "0": "ALICIA",
                                    "1": "MILLS"
                                },
                                {
                                    "0": "SUZANNE",
                                    "1": "NICHOLS"
                                },
                                {
                                    "0": "MICHELE",
                                    "1": "GRANT"
                                },
                                {
                                    "0": "BERTHA",
                                    "1": "FERGUSON"
                                },
                                {
                                    "0": "DARLENE",
                                    "1": "ROSE"
                                },
                                {
                                    "0": "VERONICA",
                                    "1": "STONE"
                                },
                                {
                                    "0": "JILL",
                                    "1": "HAWKINS"
                                },
                                {
                                    "0": "ERIN",
                                    "1": "DUNN"
                                },
                                {
                                    "0": "GERALDINE",
                                    "1": "PERKINS"
                                },
                                {
                                    "0": "LAUREN",
                                    "1": "HUDSON"
                                },
                                {
                                    "0": "JOANN",
                                    "1": "GARDNER"
                                },
                                {
                                    "0": "LORRAINE",
                                    "1": "STEPHENS"
                                },
                                {
                                    "0": "LYNN",
                                    "1": "PAYNE"
                                },
                                {
                                    "0": "SALLY",
                                    "1": "PIERCE"
                                },
                                {
                                    "0": "REGINA",
                                    "1": "BERRY"
                                },
                                {
                                    "0": "ERICA",
                                    "1": "MATTHEWS"
                                },
                                {
                                    "0": "BEATRICE",
                                    "1": "ARNOLD"
                                },
                                {
                                    "0": "DOLORES",
                                    "1": "WAGNER"
                                },
                                {
                                    "0": "BERNICE",
                                    "1": "WILLIS"
                                },
                                {
                                    "0": "AUDREY",
                                    "1": "RAY"
                                },
                                {
                                    "0": "YVONNE",
                                    "1": "WATKINS"
                                },
                                {
                                    "0": "JUNE",
                                    "1": "CARROLL"
                                },
                                {
                                    "0": "SAMANTHA",
                                    "1": "DUNCAN"
                                },
                                {
                                    "0": "MARION",
                                    "1": "SNYDER"
                                },
                                {
                                    "0": "DANA",
                                    "1": "HART"
                                },
                                {
                                    "0": "STACY",
                                    "1": "CUNNINGHAM"
                                },
                                {
                                    "0": "ANA",
                                    "1": "BRADLEY"
                                },
                                {
                                    "0": "RENEE",
                                    "1": "LANE"
                                },
                                {
                                    "0": "IDA",
                                    "1": "ANDREWS"
                                },
                                {
                                    "0": "VIVIAN",
                                    "1": "RUIZ"
                                },
                                {
                                    "0": "ROBERTA",
                                    "1": "HARPER"
                                },
                                {
                                    "0": "HOLLY",
                                    "1": "FOX"
                                },
                                {
                                    "0": "BRITTANY",
                                    "1": "RILEY"
                                },
                                {
                                    "0": "MELANIE",
                                    "1": "ARMSTRONG"
                                },
                                {
                                    "0": "LORETTA",
                                    "1": "CARPENTER"
                                },
                                {
                                    "0": "YOLANDA",
                                    "1": "WEAVER"
                                },
                                {
                                    "0": "JEANETTE",
                                    "1": "GREENE"
                                },
                                {
                                    "0": "LAURIE",
                                    "1": "LAWRENCE"
                                },
                                {
                                    "0": "KATIE",
                                    "1": "ELLIOTT"
                                },
                                {
                                    "0": "KRISTEN",
                                    "1": "CHAVEZ"
                                },
                                {
                                    "0": "VANESSA",
                                    "1": "SIMS"
                                },
                                {
                                    "0": "ALMA",
                                    "1": "AUSTIN"
                                },
                                {
                                    "0": "SUE",
                                    "1": "PETERS"
                                },
                                {
                                    "0": "ELSIE",
                                    "1": "KELLEY"
                                },
                                {
                                    "0": "BETH",
                                    "1": "FRANKLIN"
                                },
                                {
                                    "0": "JEANNE",
                                    "1": "LAWSON"
                                },
                                {
                                    "0": "VICKI",
                                    "1": "FIELDS"
                                },
                                {
                                    "0": "CARLA",
                                    "1": "GUTIERREZ"
                                },
                                {
                                    "0": "TARA",
                                    "1": "RYAN"
                                },
                                {
                                    "0": "ROSEMARY",
                                    "1": "SCHMIDT"
                                },
                                {
                                    "0": "EILEEN",
                                    "1": "CARR"
                                },
                                {
                                    "0": "TERRI",
                                    "1": "VASQUEZ"
                                },
                                {
                                    "0": "GERTRUDE",
                                    "1": "CASTILLO"
                                },
                                {
                                    "0": "TONYA",
                                    "1": "CHAPMAN"
                                },
                                {
                                    "0": "ELLA",
                                    "1": "OLIVER"
                                },
                                {
                                    "0": "STACEY",
                                    "1": "MONTGOMERY"
                                },
                                {
                                    "0": "WILMA",
                                    "1": "RICHARDS"
                                },
                                {
                                    "0": "GINA",
                                    "1": "WILLIAMSON"
                                },
                                {
                                    "0": "KRISTIN",
                                    "1": "JOHNSTON"
                                },
                                {
                                    "0": "JESSIE",
                                    "1": "BANKS"
                                },
                                {
                                    "0": "AGNES",
                                    "1": "BISHOP"
                                },
                                {
                                    "0": "VERA",
                                    "1": "MCCOY"
                                },
                                {
                                    "0": "WILLIE",
                                    "1": "HOWELL"
                                },
                                {
                                    "0": "CHARLENE",
                                    "1": "ALVAREZ"
                                },
                                {
                                    "0": "BESSIE",
                                    "1": "MORRISON"
                                },
                                {
                                    "0": "DELORES",
                                    "1": "HANSEN"
                                },
                                {
                                    "0": "MELINDA",
                                    "1": "FERNANDEZ"
                                },
                                {
                                    "0": "PEARL",
                                    "1": "GARZA"
                                },
                                {
                                    "0": "ARLENE",
                                    "1": "HARVEY"
                                },
                                {
                                    "0": "MAUREEN",
                                    "1": "LITTLE"
                                },
                                {
                                    "0": "COLLEEN",
                                    "1": "BURTON"
                                },
                                {
                                    "0": "TAMARA",
                                    "1": "NGUYEN"
                                },
                                {
                                    "0": "JOY",
                                    "1": "GEORGE"
                                },
                                {
                                    "0": "GEORGIA",
                                    "1": "JACOBS"
                                },
                                {
                                    "0": "CONSTANCE",
                                    "1": "REID"
                                },
                                {
                                    "0": "LILLIE",
                                    "1": "KIM"
                                },
                                {
                                    "0": "CLAUDIA",
                                    "1": "FULLER"
                                },
                                {
                                    "0": "JACKIE",
                                    "1": "LYNCH"
                                },
                                {
                                    "0": "MARCIA",
                                    "1": "DEAN"
                                },
                                {
                                    "0": "TANYA",
                                    "1": "GILBERT"
                                },
                                {
                                    "0": "NELLIE",
                                    "1": "GARRETT"
                                },
                                {
                                    "0": "MINNIE",
                                    "1": "ROMERO"
                                },
                                {
                                    "0": "MARLENE",
                                    "1": "WELCH"
                                },
                                {
                                    "0": "HEIDI",
                                    "1": "LARSON"
                                },
                                {
                                    "0": "GLENDA",
                                    "1": "FRAZIER"
                                },
                                {
                                    "0": "LYDIA",
                                    "1": "BURKE"
                                },
                                {
                                    "0": "VIOLA",
                                    "1": "HANSON"
                                },
                                {
                                    "0": "COURTNEY",
                                    "1": "DAY"
                                },
                                {
                                    "0": "MARIAN",
                                    "1": "MENDOZA"
                                },
                                {
                                    "0": "STELLA",
                                    "1": "MORENO"
                                },
                                {
                                    "0": "CAROLINE",
                                    "1": "BOWMAN"
                                },
                                {
                                    "0": "DORA",
                                    "1": "MEDINA"
                                },
                                {
                                    "0": "JO",
                                    "1": "FOWLER"
                                },
                                {
                                    "0": "VICKIE",
                                    "1": "BREWER"
                                },
                                {
                                    "0": "MATTIE",
                                    "1": "HOFFMAN"
                                },
                                {
                                    "0": "TERRY",
                                    "1": "CARLSON"
                                },
                                {
                                    "0": "MAXINE",
                                    "1": "SILVA"
                                },
                                {
                                    "0": "IRMA",
                                    "1": "PEARSON"
                                },
                                {
                                    "0": "MABEL",
                                    "1": "HOLLAND"
                                },
                                {
                                    "0": "MARSHA",
                                    "1": "DOUGLAS"
                                },
                                {
                                    "0": "MYRTLE",
                                    "1": "FLEMING"
                                },
                                {
                                    "0": "LENA",
                                    "1": "JENSEN"
                                },
                                {
                                    "0": "CHRISTY",
                                    "1": "VARGAS"
                                },
                                {
                                    "0": "DEANNA",
                                    "1": "BYRD"
                                },
                                {
                                    "0": "PATSY",
                                    "1": "DAVIDSON"
                                },
                                {
                                    "0": "HILDA",
                                    "1": "HOPKINS"
                                },
                                {
                                    "0": "GWENDOLYN",
                                    "1": "MAY"
                                },
                                {
                                    "0": "JENNIE",
                                    "1": "TERRY"
                                },
                                {
                                    "0": "NORA",
                                    "1": "HERRERA"
                                },
                                {
                                    "0": "NINA",
                                    "1": "SOTO"
                                },
                                {
                                    "0": "LEAH",
                                    "1": "CURTIS"
                                },
                                {
                                    "0": "PENNY",
                                    "1": "NEAL"
                                },
                                {
                                    "0": "KAY",
                                    "1": "CALDWELL"
                                },
                                {
                                    "0": "PRISCILLA",
                                    "1": "LOWE"
                                },
                                {
                                    "0": "NAOMI",
                                    "1": "JENNINGS"
                                },
                                {
                                    "0": "CAROLE",
                                    "1": "BARNETT"
                                },
                                {
                                    "0": "BRANDY",
                                    "1": "GRAVES"
                                },
                                {
                                    "0": "OLGA",
                                    "1": "JIMENEZ"
                                },
                                {
                                    "0": "BILLIE",
                                    "1": "HORTON"
                                },
                                {
                                    "0": "DIANNE",
                                    "1": "SHELTON"
                                },
                                {
                                    "0": "TRACEY",
                                    "1": "BARRETT"
                                },
                                {
                                    "0": "LEONA",
                                    "1": "OBRIEN"
                                },
                                {
                                    "0": "JENNY",
                                    "1": "CASTRO"
                                },
                                {
                                    "0": "FELICIA",
                                    "1": "SUTTON"
                                },
                                {
                                    "0": "MIRIAM",
                                    "1": "MCKINNEY"
                                },
                                {
                                    "0": "VELMA",
                                    "1": "LUCAS"
                                },
                                {
                                    "0": "BECKY",
                                    "1": "MILES"
                                },
                                {
                                    "0": "BOBBIE",
                                    "1": "CRAIG"
                                },
                                {
                                    "0": "VIOLET",
                                    "1": "RODRIQUEZ"
                                },
                                {
                                    "0": "KRISTINA",
                                    "1": "CHAMBERS"
                                },
                                {
                                    "0": "TONI",
                                    "1": "HOLT"
                                },
                                {
                                    "0": "MISTY",
                                    "1": "LAMBERT"
                                },
                                {
                                    "0": "MAE",
                                    "1": "FLETCHER"
                                },
                                {
                                    "0": "SHELLY",
                                    "1": "WATTS"
                                },
                                {
                                    "0": "DAISY",
                                    "1": "BATES"
                                },
                                {
                                    "0": "RAMONA",
                                    "1": "HALE"
                                },
                                {
                                    "0": "SHERRI",
                                    "1": "RHODES"
                                },
                                {
                                    "0": "ERIKA",
                                    "1": "PENA"
                                },
                                {
                                    "0": "JAMES",
                                    "1": "GANNON"
                                },
                                {
                                    "0": "JOHN",
                                    "1": "FARNSWORTH"
                                },
                                {
                                    "0": "ROBERT",
                                    "1": "BAUGHMAN"
                                },
                                {
                                    "0": "MICHAEL",
                                    "1": "SILVERMAN"
                                },
                                {
                                    "0": "WILLIAM",
                                    "1": "SATTERFIELD"
                                },
                                {
                                    "0": "DAVID",
                                    "1": "ROYAL"
                                },
                                {
                                    "0": "RICHARD",
                                    "1": "MCCRARY"
                                },
                                {
                                    "0": "CHARLES",
                                    "1": "KOWALSKI"
                                },
                                {
                                    "0": "JOSEPH",
                                    "1": "JOY"
                                },
                                {
                                    "0": "THOMAS",
                                    "1": "GRIGSBY"
                                },
                                {
                                    "0": "CHRISTOPHER",
                                    "1": "GRECO"
                                },
                                {
                                    "0": "DANIEL",
                                    "1": "CABRAL"
                                },
                                {
                                    "0": "PAUL",
                                    "1": "TROUT"
                                },
                                {
                                    "0": "MARK",
                                    "1": "RINEHART"
                                },
                                {
                                    "0": "DONALD",
                                    "1": "MAHON"
                                },
                                {
                                    "0": "GEORGE",
                                    "1": "LINTON"
                                },
                                {
                                    "0": "KENNETH",
                                    "1": "GOODEN"
                                },
                                {
                                    "0": "STEVEN",
                                    "1": "CURLEY"
                                },
                                {
                                    "0": "EDWARD",
                                    "1": "BAUGH"
                                },
                                {
                                    "0": "BRIAN",
                                    "1": "WYMAN"
                                },
                                {
                                    "0": "RONALD",
                                    "1": "WEINER"
                                },
                                {
                                    "0": "ANTHONY",
                                    "1": "SCHWAB"
                                },
                                {
                                    "0": "KEVIN",
                                    "1": "SCHULER"
                                },
                                {
                                    "0": "JASON",
                                    "1": "MORRISSEY"
                                },
                                {
                                    "0": "MATTHEW",
                                    "1": "MAHAN"
                                },
                                {
                                    "0": "GARY",
                                    "1": "COY"
                                },
                                {
                                    "0": "TIMOTHY",
                                    "1": "BUNN"
                                },
                                {
                                    "0": "JOSE",
                                    "1": "ANDREW"
                                },
                                {
                                    "0": "LARRY",
                                    "1": "THRASHER"
                                },
                                {
                                    "0": "JEFFREY",
                                    "1": "SPEAR"
                                },
                                {
                                    "0": "FRANK",
                                    "1": "WAGGONER"
                                },
                                {
                                    "0": "SCOTT",
                                    "1": "SHELLEY"
                                },
                                {
                                    "0": "ERIC",
                                    "1": "ROBERT"
                                },
                                {
                                    "0": "STEPHEN",
                                    "1": "QUALLS"
                                },
                                {
                                    "0": "ANDREW",
                                    "1": "PURDY"
                                },
                                {
                                    "0": "RAYMOND",
                                    "1": "MCWHORTER"
                                },
                                {
                                    "0": "GREGORY",
                                    "1": "MAULDIN"
                                },
                                {
                                    "0": "JOSHUA",
                                    "1": "MARK"
                                },
                                {
                                    "0": "JERRY",
                                    "1": "JORDON"
                                },
                                {
                                    "0": "DENNIS",
                                    "1": "GILMAN"
                                },
                                {
                                    "0": "WALTER",
                                    "1": "PERRYMAN"
                                },
                                {
                                    "0": "PATRICK",
                                    "1": "NEWSOM"
                                },
                                {
                                    "0": "PETER",
                                    "1": "MENARD"
                                },
                                {
                                    "0": "HAROLD",
                                    "1": "MARTINO"
                                },
                                {
                                    "0": "DOUGLAS",
                                    "1": "GRAF"
                                },
                                {
                                    "0": "HENRY",
                                    "1": "BILLINGSLEY"
                                },
                                {
                                    "0": "CARL",
                                    "1": "ARTIS"
                                },
                                {
                                    "0": "ARTHUR",
                                    "1": "SIMPKINS"
                                },
                                {
                                    "0": "RYAN",
                                    "1": "SALISBURY"
                                },
                                {
                                    "0": "ROGER",
                                    "1": "QUINTANILLA"
                                },
                                {
                                    "0": "JOE",
                                    "1": "GILLILAND"
                                },
                                {
                                    "0": "JUAN",
                                    "1": "FRALEY"
                                },
                                {
                                    "0": "JACK",
                                    "1": "FOUST"
                                },
                                {
                                    "0": "ALBERT",
                                    "1": "CROUSE"
                                },
                                {
                                    "0": "JONATHAN",
                                    "1": "SCARBOROUGH"
                                },
                                {
                                    "0": "TERRY",
                                    "1": "GRISSOM"
                                },
                                {
                                    "0": "GERALD",
                                    "1": "FULTZ"
                                },
                                {
                                    "0": "KEITH",
                                    "1": "RICO"
                                },
                                {
                                    "0": "SAMUEL",
                                    "1": "MARLOW"
                                },
                                {
                                    "0": "WILLIE",
                                    "1": "MARKHAM"
                                },
                                {
                                    "0": "RALPH",
                                    "1": "MADRIGAL"
                                },
                                {
                                    "0": "NICHOLAS",
                                    "1": "BARFIELD"
                                },
                                {
                                    "0": "ROY",
                                    "1": "WHITING"
                                },
                                {
                                    "0": "BENJAMIN",
                                    "1": "VARNEY"
                                },
                                {
                                    "0": "BRUCE",
                                    "1": "SCHWARZ"
                                },
                                {
                                    "0": "BRANDON",
                                    "1": "HUEY"
                                },
                                {
                                    "0": "ADAM",
                                    "1": "GOOCH"
                                },
                                {
                                    "0": "HARRY",
                                    "1": "ARCE"
                                },
                                {
                                    "0": "FRED",
                                    "1": "WHEAT"
                                },
                                {
                                    "0": "WAYNE",
                                    "1": "TRUONG"
                                },
                                {
                                    "0": "BILLY",
                                    "1": "POULIN"
                                },
                                {
                                    "0": "STEVE",
                                    "1": "MACKENZIE"
                                },
                                {
                                    "0": "LOUIS",
                                    "1": "LEONE"
                                },
                                {
                                    "0": "JEREMY",
                                    "1": "HURTADO"
                                },
                                {
                                    "0": "AARON",
                                    "1": "SELBY"
                                },
                                {
                                    "0": "RANDY",
                                    "1": "GAITHER"
                                },
                                {
                                    "0": "HOWARD",
                                    "1": "FORTNER"
                                },
                                {
                                    "0": "EUGENE",
                                    "1": "CULPEPPER"
                                },
                                {
                                    "0": "CARLOS",
                                    "1": "COUGHLIN"
                                },
                                {
                                    "0": "RUSSELL",
                                    "1": "BRINSON"
                                },
                                {
                                    "0": "BOBBY",
                                    "1": "BOUDREAU"
                                },
                                {
                                    "0": "VICTOR",
                                    "1": "BARKLEY"
                                },
                                {
                                    "0": "MARTIN",
                                    "1": "BALES"
                                },
                                {
                                    "0": "ERNEST",
                                    "1": "STEPP"
                                },
                                {
                                    "0": "PHILLIP",
                                    "1": "HOLM"
                                },
                                {
                                    "0": "TODD",
                                    "1": "TAN"
                                },
                                {
                                    "0": "JESSE",
                                    "1": "SCHILLING"
                                },
                                {
                                    "0": "CRAIG",
                                    "1": "MORRELL"
                                },
                                {
                                    "0": "ALAN",
                                    "1": "KAHN"
                                },
                                {
                                    "0": "SHAWN",
                                    "1": "HEATON"
                                },
                                {
                                    "0": "CLARENCE",
                                    "1": "GAMEZ"
                                },
                                {
                                    "0": "SEAN",
                                    "1": "DOUGLASS"
                                },
                                {
                                    "0": "PHILIP",
                                    "1": "CAUSEY"
                                },
                                {
                                    "0": "CHRIS",
                                    "1": "BROTHERS"
                                },
                                {
                                    "0": "JOHNNY",
                                    "1": "TURPIN"
                                },
                                {
                                    "0": "EARL",
                                    "1": "SHANKS"
                                },
                                {
                                    "0": "JIMMY",
                                    "1": "SCHRADER"
                                },
                                {
                                    "0": "ANTONIO",
                                    "1": "MEEK"
                                },
                                {
                                    "0": "DANNY",
                                    "1": "ISOM"
                                },
                                {
                                    "0": "BRYAN",
                                    "1": "HARDISON"
                                },
                                {
                                    "0": "TONY",
                                    "1": "CARRANZA"
                                },
                                {
                                    "0": "LUIS",
                                    "1": "YANEZ"
                                },
                                {
                                    "0": "MIKE",
                                    "1": "WAY"
                                },
                                {
                                    "0": "STANLEY",
                                    "1": "SCROGGINS"
                                },
                                {
                                    "0": "LEONARD",
                                    "1": "SCHOFIELD"
                                },
                                {
                                    "0": "NATHAN",
                                    "1": "RUNYON"
                                },
                                {
                                    "0": "DALE",
                                    "1": "RATCLIFF"
                                },
                                {
                                    "0": "MANUEL",
                                    "1": "MURRELL"
                                },
                                {
                                    "0": "RODNEY",
                                    "1": "MOELLER"
                                },
                                {
                                    "0": "CURTIS",
                                    "1": "IRBY"
                                },
                                {
                                    "0": "NORMAN",
                                    "1": "CURRIER"
                                },
                                {
                                    "0": "ALLEN",
                                    "1": "BUTTERFIELD"
                                },
                                {
                                    "0": "MARVIN",
                                    "1": "YEE"
                                },
                                {
                                    "0": "VINCENT",
                                    "1": "RALSTON"
                                },
                                {
                                    "0": "GLENN",
                                    "1": "PULLEN"
                                },
                                {
                                    "0": "JEFFERY",
                                    "1": "PINSON"
                                },
                                {
                                    "0": "TRAVIS",
                                    "1": "ESTEP"
                                },
                                {
                                    "0": "JEFF",
                                    "1": "EAST"
                                },
                                {
                                    "0": "CHAD",
                                    "1": "CARBONE"
                                },
                                {
                                    "0": "JACOB",
                                    "1": "LANCE"
                                },
                                {
                                    "0": "LEE",
                                    "1": "HAWKS"
                                },
                                {
                                    "0": "MELVIN",
                                    "1": "ELLINGTON"
                                },
                                {
                                    "0": "ALFRED",
                                    "1": "CASILLAS"
                                },
                                {
                                    "0": "KYLE",
                                    "1": "SPURLOCK"
                                },
                                {
                                    "0": "FRANCIS",
                                    "1": "SIKES"
                                },
                                {
                                    "0": "BRADLEY",
                                    "1": "MOTLEY"
                                },
                                {
                                    "0": "JESUS",
                                    "1": "MCCARTNEY"
                                },
                                {
                                    "0": "HERBERT",
                                    "1": "KRUGER"
                                },
                                {
                                    "0": "FREDERICK",
                                    "1": "ISBELL"
                                },
                                {
                                    "0": "RAY",
                                    "1": "HOULE"
                                },
                                {
                                    "0": "JOEL",
                                    "1": "FRANCISCO"
                                },
                                {
                                    "0": "EDWIN",
                                    "1": "BURK"
                                },
                                {
                                    "0": "DON",
                                    "1": "BONE"
                                },
                                {
                                    "0": "EDDIE",
                                    "1": "TOMLIN"
                                },
                                {
                                    "0": "RICKY",
                                    "1": "SHELBY"
                                },
                                {
                                    "0": "TROY",
                                    "1": "QUIGLEY"
                                },
                                {
                                    "0": "RANDALL",
                                    "1": "NEUMANN"
                                },
                                {
                                    "0": "BARRY",
                                    "1": "LOVELACE"
                                },
                                {
                                    "0": "ALEXANDER",
                                    "1": "FENNELL"
                                },
                                {
                                    "0": "BERNARD",
                                    "1": "COLBY"
                                },
                                {
                                    "0": "MARIO",
                                    "1": "CHEATHAM"
                                },
                                {
                                    "0": "LEROY",
                                    "1": "BUSTAMANTE"
                                },
                                {
                                    "0": "FRANCISCO",
                                    "1": "SKIDMORE"
                                },
                                {
                                    "0": "MARCUS",
                                    "1": "HIDALGO"
                                },
                                {
                                    "0": "MICHEAL",
                                    "1": "FORMAN"
                                },
                                {
                                    "0": "THEODORE",
                                    "1": "CULP"
                                },
                                {
                                    "0": "CLIFFORD",
                                    "1": "BOWENS"
                                },
                                {
                                    "0": "OSCAR",
                                    "1": "AQUINO"
                                },
                                {
                                    "0": "JAY",
                                    "1": "ROBB"
                                },
                                {
                                    "0": "JIM",
                                    "1": "REA"
                                },
                                {
                                    "0": "TOM",
                                    "1": "MILNER"
                                },
                                {
                                    "0": "CALVIN",
                                    "1": "MARTEL"
                                },
                                {
                                    "0": "ALEX",
                                    "1": "GRESHAM"
                                },
                                {
                                    "0": "JON",
                                    "1": "WILES"
                                },
                                {
                                    "0": "RONNIE",
                                    "1": "RICKETTS"
                                },
                                {
                                    "0": "LLOYD",
                                    "1": "DOWD"
                                },
                                {
                                    "0": "TOMMY",
                                    "1": "COLLAZO"
                                },
                                {
                                    "0": "LEON",
                                    "1": "BOSTIC"
                                },
                                {
                                    "0": "DEREK",
                                    "1": "BLAKELY"
                                },
                                {
                                    "0": "WARREN",
                                    "1": "SHERROD"
                                },
                                {
                                    "0": "DARRELL",
                                    "1": "POWER"
                                },
                                {
                                    "0": "JEROME",
                                    "1": "KENYON"
                                },
                                {
                                    "0": "FLOYD",
                                    "1": "GANDY"
                                },
                                {
                                    "0": "LEO",
                                    "1": "EBERT"
                                },
                                {
                                    "0": "ALVIN",
                                    "1": "DELOACH"
                                },
                                {
                                    "0": "TIM",
                                    "1": "CARY"
                                },
                                {
                                    "0": "WESLEY",
                                    "1": "BULL"
                                },
                                {
                                    "0": "GORDON",
                                    "1": "ALLARD"
                                },
                                {
                                    "0": "DEAN",
                                    "1": "SAUER"
                                },
                                {
                                    "0": "GREG",
                                    "1": "ROBINS"
                                },
                                {
                                    "0": "JORGE",
                                    "1": "OLIVARES"
                                },
                                {
                                    "0": "DUSTIN",
                                    "1": "GILLETTE"
                                },
                                {
                                    "0": "PEDRO",
                                    "1": "CHESTNUT"
                                },
                                {
                                    "0": "DERRICK",
                                    "1": "BOURQUE"
                                },
                                {
                                    "0": "DAN",
                                    "1": "PAINE"
                                },
                                {
                                    "0": "LEWIS",
                                    "1": "LYMAN"
                                },
                                {
                                    "0": "ZACHARY",
                                    "1": "HITE"
                                },
                                {
                                    "0": "COREY",
                                    "1": "HAUSER"
                                },
                                {
                                    "0": "HERMAN",
                                    "1": "DEVORE"
                                },
                                {
                                    "0": "MAURICE",
                                    "1": "CRAWLEY"
                                },
                                {
                                    "0": "VERNON",
                                    "1": "CHAPA"
                                },
                                {
                                    "0": "ROBERTO",
                                    "1": "VU"
                                },
                                {
                                    "0": "CLYDE",
                                    "1": "TOBIAS"
                                },
                                {
                                    "0": "GLEN",
                                    "1": "TALBERT"
                                },
                                {
                                    "0": "HECTOR",
                                    "1": "POINDEXTER"
                                },
                                {
                                    "0": "SHANE",
                                    "1": "MILLARD"
                                },
                                {
                                    "0": "RICARDO",
                                    "1": "MEADOR"
                                },
                                {
                                    "0": "SAM",
                                    "1": "MCDUFFIE"
                                },
                                {
                                    "0": "RICK",
                                    "1": "MATTOX"
                                },
                                {
                                    "0": "LESTER",
                                    "1": "KRAUS"
                                },
                                {
                                    "0": "BRENT",
                                    "1": "HARKINS"
                                },
                                {
                                    "0": "RAMON",
                                    "1": "CHOATE"
                                },
                                {
                                    "0": "CHARLIE",
                                    "1": "BESS"
                                },
                                {
                                    "0": "TYLER",
                                    "1": "WREN"
                                },
                                {
                                    "0": "GILBERT",
                                    "1": "SLEDGE"
                                },
                                {
                                    "0": "GENE",
                                    "1": "SANBORN"
                                },
                                {
                                    "0": "MARC",
                                    "1": "OUTLAW"
                                },
                                {
                                    "0": "REGINALD",
                                    "1": "KINDER"
                                },
                                {
                                    "0": "RUBEN",
                                    "1": "GEARY"
                                },
                                {
                                    "0": "BRETT",
                                    "1": "CORNWELL"
                                },
                                {
                                    "0": "ANGEL",
                                    "1": "BARCLAY"
                                },
                                {
                                    "0": "NATHANIEL",
                                    "1": "ADAM"
                                },
                                {
                                    "0": "RAFAEL",
                                    "1": "ABNEY"
                                },
                                {
                                    "0": "LESLIE",
                                    "1": "SEWARD"
                                },
                                {
                                    "0": "EDGAR",
                                    "1": "RHOADS"
                                },
                                {
                                    "0": "MILTON",
                                    "1": "HOWLAND"
                                },
                                {
                                    "0": "RAUL",
                                    "1": "FORTIER"
                                },
                                {
                                    "0": "BEN",
                                    "1": "EASTER"
                                },
                                {
                                    "0": "CHESTER",
                                    "1": "BENNER"
                                },
                                {
                                    "0": "CECIL",
                                    "1": "VINES"
                                },
                                {
                                    "0": "DUANE",
                                    "1": "TUBBS"
                                },
                                {
                                    "0": "FRANKLIN",
                                    "1": "TROUTMAN"
                                },
                                {
                                    "0": "ANDRE",
                                    "1": "RAPP"
                                },
                                {
                                    "0": "BRAD",
                                    "1": "MCCURDY"
                                },
                                {
                                    "0": "GABRIEL",
                                    "1": "HARDER"
                                },
                                {
                                    "0": "RON",
                                    "1": "DELUCA"
                                },
                                {
                                    "0": "MITCHELL",
                                    "1": "WESTMORELAND"
                                },
                                {
                                    "0": "ROLAND",
                                    "1": "SOUTH"
                                },
                                {
                                    "0": "ARNOLD",
                                    "1": "HAVENS"
                                },
                                {
                                    "0": "HARVEY",
                                    "1": "GUAJARDO"
                                },
                                {
                                    "0": "JARED",
                                    "1": "ELY"
                                },
                                {
                                    "0": "ADRIAN",
                                    "1": "CLARY"
                                },
                                {
                                    "0": "KARL",
                                    "1": "SEAL"
                                },
                                {
                                    "0": "CORY",
                                    "1": "MEEHAN"
                                },
                                {
                                    "0": "CLAUDE",
                                    "1": "HERZOG"
                                },
                                {
                                    "0": "ERIK",
                                    "1": "GUILLEN"
                                },
                                {
                                    "0": "DARRYL",
                                    "1": "ASHCRAFT"
                                },
                                {
                                    "0": "JAMIE",
                                    "1": "WAUGH"
                                },
                                {
                                    "0": "NEIL",
                                    "1": "RENNER"
                                },
                                {
                                    "0": "JESSIE",
                                    "1": "MILAM"
                                },
                                {
                                    "0": "CHRISTIAN",
                                    "1": "JUNG"
                                },
                                {
                                    "0": "JAVIER",
                                    "1": "ELROD"
                                },
                                {
                                    "0": "FERNANDO",
                                    "1": "CHURCHILL"
                                },
                                {
                                    "0": "CLINTON",
                                    "1": "BUFORD"
                                },
                                {
                                    "0": "TED",
                                    "1": "BREAUX"
                                },
                                {
                                    "0": "MATHEW",
                                    "1": "BOLIN"
                                },
                                {
                                    "0": "TYRONE",
                                    "1": "ASHER"
                                },
                                {
                                    "0": "DARREN",
                                    "1": "WINDHAM"
                                },
                                {
                                    "0": "LONNIE",
                                    "1": "TIRADO"
                                },
                                {
                                    "0": "LANCE",
                                    "1": "PEMBERTON"
                                },
                                {
                                    "0": "CODY",
                                    "1": "NOLEN"
                                },
                                {
                                    "0": "JULIO",
                                    "1": "NOLAND"
                                },
                                {
                                    "0": "KELLY",
                                    "1": "KNOTT"
                                },
                                {
                                    "0": "KURT",
                                    "1": "EMMONS"
                                },
                                {
                                    "0": "ALLAN",
                                    "1": "CORNISH"
                                },
                                {
                                    "0": "NELSON",
                                    "1": "CHRISTENSON"
                                },
                                {
                                    "0": "GUY",
                                    "1": "BROWNLEE"
                                },
                                {
                                    "0": "CLAYTON",
                                    "1": "BARBEE"
                                },
                                {
                                    "0": "HUGH",
                                    "1": "WALDROP"
                                },
                                {
                                    "0": "MAX",
                                    "1": "PITT"
                                },
                                {
                                    "0": "DWAYNE",
                                    "1": "OLVERA"
                                },
                                {
                                    "0": "DWIGHT",
                                    "1": "LOMBARDI"
                                },
                                {
                                    "0": "ARMANDO",
                                    "1": "GRUBER"
                                },
                                {
                                    "0": "FELIX",
                                    "1": "GAFFNEY"
                                },
                                {
                                    "0": "JIMMIE",
                                    "1": "EGGLESTON"
                                },
                                {
                                    "0": "EVERETT",
                                    "1": "BANDA"
                                },
                                {
                                    "0": "IAN",
                                    "1": "STILL"
                                },
                                {
                                    "0": "WALLACE",
                                    "1": "SLONE"
                                },
                                {
                                    "0": "KEN",
                                    "1": "PREWITT"
                                },
                                {
                                    "0": "BOB",
                                    "1": "PFEIFFER"
                                },
                                {
                                    "0": "JAIME",
                                    "1": "NETTLES"
                                },
                                {
                                    "0": "CASEY",
                                    "1": "MENA"
                                },
                                {
                                    "0": "ALFREDO",
                                    "1": "MCADAMS"
                                },
                                {
                                    "0": "ALBERTO",
                                    "1": "HENNING"
                                },
                                {
                                    "0": "DAVE",
                                    "1": "GARDINER"
                                },
                                {
                                    "0": "IVAN",
                                    "1": "CROMWELL"
                                },
                                {
                                    "0": "JOHNNIE",
                                    "1": "CHISHOLM"
                                },
                                {
                                    "0": "SIDNEY",
                                    "1": "BURLESON"
                                },
                                {
                                    "0": "BYRON",
                                    "1": "BOX"
                                },
                                {
                                    "0": "JULIAN",
                                    "1": "VEST"
                                },
                                {
                                    "0": "ISAAC",
                                    "1": "OGLESBY"
                                },
                                {
                                    "0": "CLIFTON",
                                    "1": "MALCOLM"
                                },
                                {
                                    "0": "WILLARD",
                                    "1": "LUMPKIN"
                                },
                                {
                                    "0": "DARYL",
                                    "1": "LARUE"
                                },
                                {
                                    "0": "ROSS",
                                    "1": "GREY"
                                },
                                {
                                    "0": "VIRGIL",
                                    "1": "WOFFORD"
                                },
                                {
                                    "0": "ANDY",
                                    "1": "VANHORN"
                                },
                                {
                                    "0": "MARSHALL",
                                    "1": "THORN"
                                },
                                {
                                    "0": "SALVADOR",
                                    "1": "TEEL"
                                },
                                {
                                    "0": "PERRY",
                                    "1": "SWAFFORD"
                                },
                                {
                                    "0": "KIRK",
                                    "1": "STCLAIR"
                                },
                                {
                                    "0": "SERGIO",
                                    "1": "STANFIELD"
                                },
                                {
                                    "0": "MARION",
                                    "1": "OCAMPO"
                                },
                                {
                                    "0": "TRACY",
                                    "1": "HERRMANN"
                                },
                                {
                                    "0": "SETH",
                                    "1": "HANNON"
                                },
                                {
                                    "0": "KENT",
                                    "1": "ARSENAULT"
                                },
                                {
                                    "0": "TERRANCE",
                                    "1": "ROUSH"
                                },
                                {
                                    "0": "RENE",
                                    "1": "MCALISTER"
                                },
                                {
                                    "0": "EDUARDO",
                                    "1": "HIATT"
                                },
                                {
                                    "0": "TERRENCE",
                                    "1": "GUNDERSON"
                                },
                                {
                                    "0": "ENRIQUE",
                                    "1": "FORSYTHE"
                                },
                                {
                                    "0": "FREDDIE",
                                    "1": "DUGGAN"
                                },
                                {
                                    "0": "WADE",
                                    "1": "DELVALLE"
                                },
                                {
                                    "0": "AUSTIN",
                                    "1": "CINTRON"
                                }
                            ]
                        },
                        "text/html": [
                            "<table>",
                            "<tr><th>first_name</th><th>last_name</th></tr>",
                            "<tr><td>MARY</td><td>SMITH</td></tr>",
                            "<tr><td>PATRICIA</td><td>JOHNSON</td></tr>",
                            "<tr><td>LINDA</td><td>WILLIAMS</td></tr>",
                            "<tr><td>BARBARA</td><td>JONES</td></tr>",
                            "<tr><td>ELIZABETH</td><td>BROWN</td></tr>",
                            "<tr><td>JENNIFER</td><td>DAVIS</td></tr>",
                            "<tr><td>MARIA</td><td>MILLER</td></tr>",
                            "<tr><td>SUSAN</td><td>WILSON</td></tr>",
                            "<tr><td>MARGARET</td><td>MOORE</td></tr>",
                            "<tr><td>DOROTHY</td><td>TAYLOR</td></tr>",
                            "<tr><td>LISA</td><td>ANDERSON</td></tr>",
                            "<tr><td>NANCY</td><td>THOMAS</td></tr>",
                            "<tr><td>KAREN</td><td>JACKSON</td></tr>",
                            "<tr><td>BETTY</td><td>WHITE</td></tr>",
                            "<tr><td>SANDRA</td><td>MARTIN</td></tr>",
                            "<tr><td>DONNA</td><td>THOMPSON</td></tr>",
                            "<tr><td>CAROL</td><td>GARCIA</td></tr>",
                            "<tr><td>RUTH</td><td>MARTINEZ</td></tr>",
                            "<tr><td>SHARON</td><td>ROBINSON</td></tr>",
                            "<tr><td>MICHELLE</td><td>CLARK</td></tr>",
                            "<tr><td>LAURA</td><td>RODRIGUEZ</td></tr>",
                            "<tr><td>SARAH</td><td>LEWIS</td></tr>",
                            "<tr><td>KIMBERLY</td><td>LEE</td></tr>",
                            "<tr><td>DEBORAH</td><td>WALKER</td></tr>",
                            "<tr><td>JESSICA</td><td>HALL</td></tr>",
                            "<tr><td>SHIRLEY</td><td>ALLEN</td></tr>",
                            "<tr><td>CYNTHIA</td><td>YOUNG</td></tr>",
                            "<tr><td>ANGELA</td><td>HERNANDEZ</td></tr>",
                            "<tr><td>MELISSA</td><td>KING</td></tr>",
                            "<tr><td>BRENDA</td><td>WRIGHT</td></tr>",
                            "<tr><td>AMY</td><td>LOPEZ</td></tr>",
                            "<tr><td>ANNA</td><td>HILL</td></tr>",
                            "<tr><td>REBECCA</td><td>SCOTT</td></tr>",
                            "<tr><td>VIRGINIA</td><td>GREEN</td></tr>",
                            "<tr><td>KATHLEEN</td><td>ADAMS</td></tr>",
                            "<tr><td>PAMELA</td><td>BAKER</td></tr>",
                            "<tr><td>MARTHA</td><td>GONZALEZ</td></tr>",
                            "<tr><td>DEBRA</td><td>NELSON</td></tr>",
                            "<tr><td>AMANDA</td><td>CARTER</td></tr>",
                            "<tr><td>STEPHANIE</td><td>MITCHELL</td></tr>",
                            "<tr><td>MARIE</td><td>TURNER</td></tr>",
                            "<tr><td>JANET</td><td>PHILLIPS</td></tr>",
                            "<tr><td>CATHERINE</td><td>CAMPBELL</td></tr>",
                            "<tr><td>FRANCES</td><td>PARKER</td></tr>",
                            "<tr><td>ANN</td><td>EVANS</td></tr>",
                            "<tr><td>JOYCE</td><td>EDWARDS</td></tr>",
                            "<tr><td>DIANE</td><td>COLLINS</td></tr>",
                            "<tr><td>ALICE</td><td>STEWART</td></tr>",
                            "<tr><td>JULIE</td><td>SANCHEZ</td></tr>",
                            "<tr><td>TERESA</td><td>ROGERS</td></tr>",
                            "<tr><td>DORIS</td><td>REED</td></tr>",
                            "<tr><td>GLORIA</td><td>COOK</td></tr>",
                            "<tr><td>EVELYN</td><td>MORGAN</td></tr>",
                            "<tr><td>JEAN</td><td>BELL</td></tr>",
                            "<tr><td>CHERYL</td><td>MURPHY</td></tr>",
                            "<tr><td>KATHERINE</td><td>RIVERA</td></tr>",
                            "<tr><td>JOAN</td><td>COOPER</td></tr>",
                            "<tr><td>ASHLEY</td><td>RICHARDSON</td></tr>",
                            "<tr><td>JUDITH</td><td>COX</td></tr>",
                            "<tr><td>ROSE</td><td>HOWARD</td></tr>",
                            "<tr><td>JANICE</td><td>WARD</td></tr>",
                            "<tr><td>KELLY</td><td>TORRES</td></tr>",
                            "<tr><td>NICOLE</td><td>PETERSON</td></tr>",
                            "<tr><td>JUDY</td><td>GRAY</td></tr>",
                            "<tr><td>CHRISTINA</td><td>RAMIREZ</td></tr>",
                            "<tr><td>KATHY</td><td>JAMES</td></tr>",
                            "<tr><td>THERESA</td><td>WATSON</td></tr>",
                            "<tr><td>BEVERLY</td><td>BROOKS</td></tr>",
                            "<tr><td>DENISE</td><td>KELLY</td></tr>",
                            "<tr><td>IRENE</td><td>PRICE</td></tr>",
                            "<tr><td>JANE</td><td>BENNETT</td></tr>",
                            "<tr><td>LORI</td><td>WOOD</td></tr>",
                            "<tr><td>RACHEL</td><td>BARNES</td></tr>",
                            "<tr><td>MARILYN</td><td>ROSS</td></tr>",
                            "<tr><td>ANDREA</td><td>HENDERSON</td></tr>",
                            "<tr><td>KATHRYN</td><td>COLEMAN</td></tr>",
                            "<tr><td>LOUISE</td><td>JENKINS</td></tr>",
                            "<tr><td>SARA</td><td>PERRY</td></tr>",
                            "<tr><td>ANNE</td><td>POWELL</td></tr>",
                            "<tr><td>JACQUELINE</td><td>LONG</td></tr>",
                            "<tr><td>WANDA</td><td>PATTERSON</td></tr>",
                            "<tr><td>BONNIE</td><td>HUGHES</td></tr>",
                            "<tr><td>JULIA</td><td>FLORES</td></tr>",
                            "<tr><td>RUBY</td><td>WASHINGTON</td></tr>",
                            "<tr><td>LOIS</td><td>BUTLER</td></tr>",
                            "<tr><td>TINA</td><td>SIMMONS</td></tr>",
                            "<tr><td>PHYLLIS</td><td>FOSTER</td></tr>",
                            "<tr><td>NORMA</td><td>GONZALES</td></tr>",
                            "<tr><td>PAULA</td><td>BRYANT</td></tr>",
                            "<tr><td>DIANA</td><td>ALEXANDER</td></tr>",
                            "<tr><td>ANNIE</td><td>RUSSELL</td></tr>",
                            "<tr><td>LILLIAN</td><td>GRIFFIN</td></tr>",
                            "<tr><td>EMILY</td><td>DIAZ</td></tr>",
                            "<tr><td>ROBIN</td><td>HAYES</td></tr>",
                            "<tr><td>PEGGY</td><td>MYERS</td></tr>",
                            "<tr><td>CRYSTAL</td><td>FORD</td></tr>",
                            "<tr><td>GLADYS</td><td>HAMILTON</td></tr>",
                            "<tr><td>RITA</td><td>GRAHAM</td></tr>",
                            "<tr><td>DAWN</td><td>SULLIVAN</td></tr>",
                            "<tr><td>CONNIE</td><td>WALLACE</td></tr>",
                            "<tr><td>TRACY</td><td>COLE</td></tr>",
                            "<tr><td>EDNA</td><td>WEST</td></tr>",
                            "<tr><td>TIFFANY</td><td>JORDAN</td></tr>",
                            "<tr><td>CARMEN</td><td>OWENS</td></tr>",
                            "<tr><td>ROSA</td><td>REYNOLDS</td></tr>",
                            "<tr><td>CINDY</td><td>FISHER</td></tr>",
                            "<tr><td>GRACE</td><td>ELLIS</td></tr>",
                            "<tr><td>WENDY</td><td>HARRISON</td></tr>",
                            "<tr><td>VICTORIA</td><td>GIBSON</td></tr>",
                            "<tr><td>EDITH</td><td>MCDONALD</td></tr>",
                            "<tr><td>KIM</td><td>CRUZ</td></tr>",
                            "<tr><td>SHERRY</td><td>MARSHALL</td></tr>",
                            "<tr><td>SYLVIA</td><td>ORTIZ</td></tr>",
                            "<tr><td>JOSEPHINE</td><td>GOMEZ</td></tr>",
                            "<tr><td>THELMA</td><td>MURRAY</td></tr>",
                            "<tr><td>SHANNON</td><td>FREEMAN</td></tr>",
                            "<tr><td>SHEILA</td><td>WELLS</td></tr>",
                            "<tr><td>ETHEL</td><td>WEBB</td></tr>",
                            "<tr><td>ELLEN</td><td>SIMPSON</td></tr>",
                            "<tr><td>ELAINE</td><td>STEVENS</td></tr>",
                            "<tr><td>MARJORIE</td><td>TUCKER</td></tr>",
                            "<tr><td>CARRIE</td><td>PORTER</td></tr>",
                            "<tr><td>CHARLOTTE</td><td>HUNTER</td></tr>",
                            "<tr><td>MONICA</td><td>HICKS</td></tr>",
                            "<tr><td>ESTHER</td><td>CRAWFORD</td></tr>",
                            "<tr><td>PAULINE</td><td>HENRY</td></tr>",
                            "<tr><td>EMMA</td><td>BOYD</td></tr>",
                            "<tr><td>JUANITA</td><td>MASON</td></tr>",
                            "<tr><td>ANITA</td><td>MORALES</td></tr>",
                            "<tr><td>RHONDA</td><td>KENNEDY</td></tr>",
                            "<tr><td>HAZEL</td><td>WARREN</td></tr>",
                            "<tr><td>AMBER</td><td>DIXON</td></tr>",
                            "<tr><td>EVA</td><td>RAMOS</td></tr>",
                            "<tr><td>DEBBIE</td><td>REYES</td></tr>",
                            "<tr><td>APRIL</td><td>BURNS</td></tr>",
                            "<tr><td>LESLIE</td><td>GORDON</td></tr>",
                            "<tr><td>CLARA</td><td>SHAW</td></tr>",
                            "<tr><td>LUCILLE</td><td>HOLMES</td></tr>",
                            "<tr><td>JAMIE</td><td>RICE</td></tr>",
                            "<tr><td>JOANNE</td><td>ROBERTSON</td></tr>",
                            "<tr><td>ELEANOR</td><td>HUNT</td></tr>",
                            "<tr><td>VALERIE</td><td>BLACK</td></tr>",
                            "<tr><td>DANIELLE</td><td>DANIELS</td></tr>",
                            "<tr><td>MEGAN</td><td>PALMER</td></tr>",
                            "<tr><td>ALICIA</td><td>MILLS</td></tr>",
                            "<tr><td>SUZANNE</td><td>NICHOLS</td></tr>",
                            "<tr><td>MICHELE</td><td>GRANT</td></tr>",
                            "<tr><td>BERTHA</td><td>FERGUSON</td></tr>",
                            "<tr><td>DARLENE</td><td>ROSE</td></tr>",
                            "<tr><td>VERONICA</td><td>STONE</td></tr>",
                            "<tr><td>JILL</td><td>HAWKINS</td></tr>",
                            "<tr><td>ERIN</td><td>DUNN</td></tr>",
                            "<tr><td>GERALDINE</td><td>PERKINS</td></tr>",
                            "<tr><td>LAUREN</td><td>HUDSON</td></tr>",
                            "<tr><td>JOANN</td><td>GARDNER</td></tr>",
                            "<tr><td>LORRAINE</td><td>STEPHENS</td></tr>",
                            "<tr><td>LYNN</td><td>PAYNE</td></tr>",
                            "<tr><td>SALLY</td><td>PIERCE</td></tr>",
                            "<tr><td>REGINA</td><td>BERRY</td></tr>",
                            "<tr><td>ERICA</td><td>MATTHEWS</td></tr>",
                            "<tr><td>BEATRICE</td><td>ARNOLD</td></tr>",
                            "<tr><td>DOLORES</td><td>WAGNER</td></tr>",
                            "<tr><td>BERNICE</td><td>WILLIS</td></tr>",
                            "<tr><td>AUDREY</td><td>RAY</td></tr>",
                            "<tr><td>YVONNE</td><td>WATKINS</td></tr>",
                            "<tr><td>JUNE</td><td>CARROLL</td></tr>",
                            "<tr><td>SAMANTHA</td><td>DUNCAN</td></tr>",
                            "<tr><td>MARION</td><td>SNYDER</td></tr>",
                            "<tr><td>DANA</td><td>HART</td></tr>",
                            "<tr><td>STACY</td><td>CUNNINGHAM</td></tr>",
                            "<tr><td>ANA</td><td>BRADLEY</td></tr>",
                            "<tr><td>RENEE</td><td>LANE</td></tr>",
                            "<tr><td>IDA</td><td>ANDREWS</td></tr>",
                            "<tr><td>VIVIAN</td><td>RUIZ</td></tr>",
                            "<tr><td>ROBERTA</td><td>HARPER</td></tr>",
                            "<tr><td>HOLLY</td><td>FOX</td></tr>",
                            "<tr><td>BRITTANY</td><td>RILEY</td></tr>",
                            "<tr><td>MELANIE</td><td>ARMSTRONG</td></tr>",
                            "<tr><td>LORETTA</td><td>CARPENTER</td></tr>",
                            "<tr><td>YOLANDA</td><td>WEAVER</td></tr>",
                            "<tr><td>JEANETTE</td><td>GREENE</td></tr>",
                            "<tr><td>LAURIE</td><td>LAWRENCE</td></tr>",
                            "<tr><td>KATIE</td><td>ELLIOTT</td></tr>",
                            "<tr><td>KRISTEN</td><td>CHAVEZ</td></tr>",
                            "<tr><td>VANESSA</td><td>SIMS</td></tr>",
                            "<tr><td>ALMA</td><td>AUSTIN</td></tr>",
                            "<tr><td>SUE</td><td>PETERS</td></tr>",
                            "<tr><td>ELSIE</td><td>KELLEY</td></tr>",
                            "<tr><td>BETH</td><td>FRANKLIN</td></tr>",
                            "<tr><td>JEANNE</td><td>LAWSON</td></tr>",
                            "<tr><td>VICKI</td><td>FIELDS</td></tr>",
                            "<tr><td>CARLA</td><td>GUTIERREZ</td></tr>",
                            "<tr><td>TARA</td><td>RYAN</td></tr>",
                            "<tr><td>ROSEMARY</td><td>SCHMIDT</td></tr>",
                            "<tr><td>EILEEN</td><td>CARR</td></tr>",
                            "<tr><td>TERRI</td><td>VASQUEZ</td></tr>",
                            "<tr><td>GERTRUDE</td><td>CASTILLO</td></tr>",
                            "<tr><td>TONYA</td><td>CHAPMAN</td></tr>",
                            "<tr><td>ELLA</td><td>OLIVER</td></tr>",
                            "<tr><td>STACEY</td><td>MONTGOMERY</td></tr>",
                            "<tr><td>WILMA</td><td>RICHARDS</td></tr>",
                            "<tr><td>GINA</td><td>WILLIAMSON</td></tr>",
                            "<tr><td>KRISTIN</td><td>JOHNSTON</td></tr>",
                            "<tr><td>JESSIE</td><td>BANKS</td></tr>",
                            "<tr><td>AGNES</td><td>BISHOP</td></tr>",
                            "<tr><td>VERA</td><td>MCCOY</td></tr>",
                            "<tr><td>WILLIE</td><td>HOWELL</td></tr>",
                            "<tr><td>CHARLENE</td><td>ALVAREZ</td></tr>",
                            "<tr><td>BESSIE</td><td>MORRISON</td></tr>",
                            "<tr><td>DELORES</td><td>HANSEN</td></tr>",
                            "<tr><td>MELINDA</td><td>FERNANDEZ</td></tr>",
                            "<tr><td>PEARL</td><td>GARZA</td></tr>",
                            "<tr><td>ARLENE</td><td>HARVEY</td></tr>",
                            "<tr><td>MAUREEN</td><td>LITTLE</td></tr>",
                            "<tr><td>COLLEEN</td><td>BURTON</td></tr>",
                            "<tr><td>TAMARA</td><td>NGUYEN</td></tr>",
                            "<tr><td>JOY</td><td>GEORGE</td></tr>",
                            "<tr><td>GEORGIA</td><td>JACOBS</td></tr>",
                            "<tr><td>CONSTANCE</td><td>REID</td></tr>",
                            "<tr><td>LILLIE</td><td>KIM</td></tr>",
                            "<tr><td>CLAUDIA</td><td>FULLER</td></tr>",
                            "<tr><td>JACKIE</td><td>LYNCH</td></tr>",
                            "<tr><td>MARCIA</td><td>DEAN</td></tr>",
                            "<tr><td>TANYA</td><td>GILBERT</td></tr>",
                            "<tr><td>NELLIE</td><td>GARRETT</td></tr>",
                            "<tr><td>MINNIE</td><td>ROMERO</td></tr>",
                            "<tr><td>MARLENE</td><td>WELCH</td></tr>",
                            "<tr><td>HEIDI</td><td>LARSON</td></tr>",
                            "<tr><td>GLENDA</td><td>FRAZIER</td></tr>",
                            "<tr><td>LYDIA</td><td>BURKE</td></tr>",
                            "<tr><td>VIOLA</td><td>HANSON</td></tr>",
                            "<tr><td>COURTNEY</td><td>DAY</td></tr>",
                            "<tr><td>MARIAN</td><td>MENDOZA</td></tr>",
                            "<tr><td>STELLA</td><td>MORENO</td></tr>",
                            "<tr><td>CAROLINE</td><td>BOWMAN</td></tr>",
                            "<tr><td>DORA</td><td>MEDINA</td></tr>",
                            "<tr><td>JO</td><td>FOWLER</td></tr>",
                            "<tr><td>VICKIE</td><td>BREWER</td></tr>",
                            "<tr><td>MATTIE</td><td>HOFFMAN</td></tr>",
                            "<tr><td>TERRY</td><td>CARLSON</td></tr>",
                            "<tr><td>MAXINE</td><td>SILVA</td></tr>",
                            "<tr><td>IRMA</td><td>PEARSON</td></tr>",
                            "<tr><td>MABEL</td><td>HOLLAND</td></tr>",
                            "<tr><td>MARSHA</td><td>DOUGLAS</td></tr>",
                            "<tr><td>MYRTLE</td><td>FLEMING</td></tr>",
                            "<tr><td>LENA</td><td>JENSEN</td></tr>",
                            "<tr><td>CHRISTY</td><td>VARGAS</td></tr>",
                            "<tr><td>DEANNA</td><td>BYRD</td></tr>",
                            "<tr><td>PATSY</td><td>DAVIDSON</td></tr>",
                            "<tr><td>HILDA</td><td>HOPKINS</td></tr>",
                            "<tr><td>GWENDOLYN</td><td>MAY</td></tr>",
                            "<tr><td>JENNIE</td><td>TERRY</td></tr>",
                            "<tr><td>NORA</td><td>HERRERA</td></tr>",
                            "<tr><td>NINA</td><td>SOTO</td></tr>",
                            "<tr><td>LEAH</td><td>CURTIS</td></tr>",
                            "<tr><td>PENNY</td><td>NEAL</td></tr>",
                            "<tr><td>KAY</td><td>CALDWELL</td></tr>",
                            "<tr><td>PRISCILLA</td><td>LOWE</td></tr>",
                            "<tr><td>NAOMI</td><td>JENNINGS</td></tr>",
                            "<tr><td>CAROLE</td><td>BARNETT</td></tr>",
                            "<tr><td>BRANDY</td><td>GRAVES</td></tr>",
                            "<tr><td>OLGA</td><td>JIMENEZ</td></tr>",
                            "<tr><td>BILLIE</td><td>HORTON</td></tr>",
                            "<tr><td>DIANNE</td><td>SHELTON</td></tr>",
                            "<tr><td>TRACEY</td><td>BARRETT</td></tr>",
                            "<tr><td>LEONA</td><td>OBRIEN</td></tr>",
                            "<tr><td>JENNY</td><td>CASTRO</td></tr>",
                            "<tr><td>FELICIA</td><td>SUTTON</td></tr>",
                            "<tr><td>MIRIAM</td><td>MCKINNEY</td></tr>",
                            "<tr><td>VELMA</td><td>LUCAS</td></tr>",
                            "<tr><td>BECKY</td><td>MILES</td></tr>",
                            "<tr><td>BOBBIE</td><td>CRAIG</td></tr>",
                            "<tr><td>VIOLET</td><td>RODRIQUEZ</td></tr>",
                            "<tr><td>KRISTINA</td><td>CHAMBERS</td></tr>",
                            "<tr><td>TONI</td><td>HOLT</td></tr>",
                            "<tr><td>MISTY</td><td>LAMBERT</td></tr>",
                            "<tr><td>MAE</td><td>FLETCHER</td></tr>",
                            "<tr><td>SHELLY</td><td>WATTS</td></tr>",
                            "<tr><td>DAISY</td><td>BATES</td></tr>",
                            "<tr><td>RAMONA</td><td>HALE</td></tr>",
                            "<tr><td>SHERRI</td><td>RHODES</td></tr>",
                            "<tr><td>ERIKA</td><td>PENA</td></tr>",
                            "<tr><td>JAMES</td><td>GANNON</td></tr>",
                            "<tr><td>JOHN</td><td>FARNSWORTH</td></tr>",
                            "<tr><td>ROBERT</td><td>BAUGHMAN</td></tr>",
                            "<tr><td>MICHAEL</td><td>SILVERMAN</td></tr>",
                            "<tr><td>WILLIAM</td><td>SATTERFIELD</td></tr>",
                            "<tr><td>DAVID</td><td>ROYAL</td></tr>",
                            "<tr><td>RICHARD</td><td>MCCRARY</td></tr>",
                            "<tr><td>CHARLES</td><td>KOWALSKI</td></tr>",
                            "<tr><td>JOSEPH</td><td>JOY</td></tr>",
                            "<tr><td>THOMAS</td><td>GRIGSBY</td></tr>",
                            "<tr><td>CHRISTOPHER</td><td>GRECO</td></tr>",
                            "<tr><td>DANIEL</td><td>CABRAL</td></tr>",
                            "<tr><td>PAUL</td><td>TROUT</td></tr>",
                            "<tr><td>MARK</td><td>RINEHART</td></tr>",
                            "<tr><td>DONALD</td><td>MAHON</td></tr>",
                            "<tr><td>GEORGE</td><td>LINTON</td></tr>",
                            "<tr><td>KENNETH</td><td>GOODEN</td></tr>",
                            "<tr><td>STEVEN</td><td>CURLEY</td></tr>",
                            "<tr><td>EDWARD</td><td>BAUGH</td></tr>",
                            "<tr><td>BRIAN</td><td>WYMAN</td></tr>",
                            "<tr><td>RONALD</td><td>WEINER</td></tr>",
                            "<tr><td>ANTHONY</td><td>SCHWAB</td></tr>",
                            "<tr><td>KEVIN</td><td>SCHULER</td></tr>",
                            "<tr><td>JASON</td><td>MORRISSEY</td></tr>",
                            "<tr><td>MATTHEW</td><td>MAHAN</td></tr>",
                            "<tr><td>GARY</td><td>COY</td></tr>",
                            "<tr><td>TIMOTHY</td><td>BUNN</td></tr>",
                            "<tr><td>JOSE</td><td>ANDREW</td></tr>",
                            "<tr><td>LARRY</td><td>THRASHER</td></tr>",
                            "<tr><td>JEFFREY</td><td>SPEAR</td></tr>",
                            "<tr><td>FRANK</td><td>WAGGONER</td></tr>",
                            "<tr><td>SCOTT</td><td>SHELLEY</td></tr>",
                            "<tr><td>ERIC</td><td>ROBERT</td></tr>",
                            "<tr><td>STEPHEN</td><td>QUALLS</td></tr>",
                            "<tr><td>ANDREW</td><td>PURDY</td></tr>",
                            "<tr><td>RAYMOND</td><td>MCWHORTER</td></tr>",
                            "<tr><td>GREGORY</td><td>MAULDIN</td></tr>",
                            "<tr><td>JOSHUA</td><td>MARK</td></tr>",
                            "<tr><td>JERRY</td><td>JORDON</td></tr>",
                            "<tr><td>DENNIS</td><td>GILMAN</td></tr>",
                            "<tr><td>WALTER</td><td>PERRYMAN</td></tr>",
                            "<tr><td>PATRICK</td><td>NEWSOM</td></tr>",
                            "<tr><td>PETER</td><td>MENARD</td></tr>",
                            "<tr><td>HAROLD</td><td>MARTINO</td></tr>",
                            "<tr><td>DOUGLAS</td><td>GRAF</td></tr>",
                            "<tr><td>HENRY</td><td>BILLINGSLEY</td></tr>",
                            "<tr><td>CARL</td><td>ARTIS</td></tr>",
                            "<tr><td>ARTHUR</td><td>SIMPKINS</td></tr>",
                            "<tr><td>RYAN</td><td>SALISBURY</td></tr>",
                            "<tr><td>ROGER</td><td>QUINTANILLA</td></tr>",
                            "<tr><td>JOE</td><td>GILLILAND</td></tr>",
                            "<tr><td>JUAN</td><td>FRALEY</td></tr>",
                            "<tr><td>JACK</td><td>FOUST</td></tr>",
                            "<tr><td>ALBERT</td><td>CROUSE</td></tr>",
                            "<tr><td>JONATHAN</td><td>SCARBOROUGH</td></tr>",
                            "<tr><td>TERRY</td><td>GRISSOM</td></tr>",
                            "<tr><td>GERALD</td><td>FULTZ</td></tr>",
                            "<tr><td>KEITH</td><td>RICO</td></tr>",
                            "<tr><td>SAMUEL</td><td>MARLOW</td></tr>",
                            "<tr><td>WILLIE</td><td>MARKHAM</td></tr>",
                            "<tr><td>RALPH</td><td>MADRIGAL</td></tr>",
                            "<tr><td>NICHOLAS</td><td>BARFIELD</td></tr>",
                            "<tr><td>ROY</td><td>WHITING</td></tr>",
                            "<tr><td>BENJAMIN</td><td>VARNEY</td></tr>",
                            "<tr><td>BRUCE</td><td>SCHWARZ</td></tr>",
                            "<tr><td>BRANDON</td><td>HUEY</td></tr>",
                            "<tr><td>ADAM</td><td>GOOCH</td></tr>",
                            "<tr><td>HARRY</td><td>ARCE</td></tr>",
                            "<tr><td>FRED</td><td>WHEAT</td></tr>",
                            "<tr><td>WAYNE</td><td>TRUONG</td></tr>",
                            "<tr><td>BILLY</td><td>POULIN</td></tr>",
                            "<tr><td>STEVE</td><td>MACKENZIE</td></tr>",
                            "<tr><td>LOUIS</td><td>LEONE</td></tr>",
                            "<tr><td>JEREMY</td><td>HURTADO</td></tr>",
                            "<tr><td>AARON</td><td>SELBY</td></tr>",
                            "<tr><td>RANDY</td><td>GAITHER</td></tr>",
                            "<tr><td>HOWARD</td><td>FORTNER</td></tr>",
                            "<tr><td>EUGENE</td><td>CULPEPPER</td></tr>",
                            "<tr><td>CARLOS</td><td>COUGHLIN</td></tr>",
                            "<tr><td>RUSSELL</td><td>BRINSON</td></tr>",
                            "<tr><td>BOBBY</td><td>BOUDREAU</td></tr>",
                            "<tr><td>VICTOR</td><td>BARKLEY</td></tr>",
                            "<tr><td>MARTIN</td><td>BALES</td></tr>",
                            "<tr><td>ERNEST</td><td>STEPP</td></tr>",
                            "<tr><td>PHILLIP</td><td>HOLM</td></tr>",
                            "<tr><td>TODD</td><td>TAN</td></tr>",
                            "<tr><td>JESSE</td><td>SCHILLING</td></tr>",
                            "<tr><td>CRAIG</td><td>MORRELL</td></tr>",
                            "<tr><td>ALAN</td><td>KAHN</td></tr>",
                            "<tr><td>SHAWN</td><td>HEATON</td></tr>",
                            "<tr><td>CLARENCE</td><td>GAMEZ</td></tr>",
                            "<tr><td>SEAN</td><td>DOUGLASS</td></tr>",
                            "<tr><td>PHILIP</td><td>CAUSEY</td></tr>",
                            "<tr><td>CHRIS</td><td>BROTHERS</td></tr>",
                            "<tr><td>JOHNNY</td><td>TURPIN</td></tr>",
                            "<tr><td>EARL</td><td>SHANKS</td></tr>",
                            "<tr><td>JIMMY</td><td>SCHRADER</td></tr>",
                            "<tr><td>ANTONIO</td><td>MEEK</td></tr>",
                            "<tr><td>DANNY</td><td>ISOM</td></tr>",
                            "<tr><td>BRYAN</td><td>HARDISON</td></tr>",
                            "<tr><td>TONY</td><td>CARRANZA</td></tr>",
                            "<tr><td>LUIS</td><td>YANEZ</td></tr>",
                            "<tr><td>MIKE</td><td>WAY</td></tr>",
                            "<tr><td>STANLEY</td><td>SCROGGINS</td></tr>",
                            "<tr><td>LEONARD</td><td>SCHOFIELD</td></tr>",
                            "<tr><td>NATHAN</td><td>RUNYON</td></tr>",
                            "<tr><td>DALE</td><td>RATCLIFF</td></tr>",
                            "<tr><td>MANUEL</td><td>MURRELL</td></tr>",
                            "<tr><td>RODNEY</td><td>MOELLER</td></tr>",
                            "<tr><td>CURTIS</td><td>IRBY</td></tr>",
                            "<tr><td>NORMAN</td><td>CURRIER</td></tr>",
                            "<tr><td>ALLEN</td><td>BUTTERFIELD</td></tr>",
                            "<tr><td>MARVIN</td><td>YEE</td></tr>",
                            "<tr><td>VINCENT</td><td>RALSTON</td></tr>",
                            "<tr><td>GLENN</td><td>PULLEN</td></tr>",
                            "<tr><td>JEFFERY</td><td>PINSON</td></tr>",
                            "<tr><td>TRAVIS</td><td>ESTEP</td></tr>",
                            "<tr><td>JEFF</td><td>EAST</td></tr>",
                            "<tr><td>CHAD</td><td>CARBONE</td></tr>",
                            "<tr><td>JACOB</td><td>LANCE</td></tr>",
                            "<tr><td>LEE</td><td>HAWKS</td></tr>",
                            "<tr><td>MELVIN</td><td>ELLINGTON</td></tr>",
                            "<tr><td>ALFRED</td><td>CASILLAS</td></tr>",
                            "<tr><td>KYLE</td><td>SPURLOCK</td></tr>",
                            "<tr><td>FRANCIS</td><td>SIKES</td></tr>",
                            "<tr><td>BRADLEY</td><td>MOTLEY</td></tr>",
                            "<tr><td>JESUS</td><td>MCCARTNEY</td></tr>",
                            "<tr><td>HERBERT</td><td>KRUGER</td></tr>",
                            "<tr><td>FREDERICK</td><td>ISBELL</td></tr>",
                            "<tr><td>RAY</td><td>HOULE</td></tr>",
                            "<tr><td>JOEL</td><td>FRANCISCO</td></tr>",
                            "<tr><td>EDWIN</td><td>BURK</td></tr>",
                            "<tr><td>DON</td><td>BONE</td></tr>",
                            "<tr><td>EDDIE</td><td>TOMLIN</td></tr>",
                            "<tr><td>RICKY</td><td>SHELBY</td></tr>",
                            "<tr><td>TROY</td><td>QUIGLEY</td></tr>",
                            "<tr><td>RANDALL</td><td>NEUMANN</td></tr>",
                            "<tr><td>BARRY</td><td>LOVELACE</td></tr>",
                            "<tr><td>ALEXANDER</td><td>FENNELL</td></tr>",
                            "<tr><td>BERNARD</td><td>COLBY</td></tr>",
                            "<tr><td>MARIO</td><td>CHEATHAM</td></tr>",
                            "<tr><td>LEROY</td><td>BUSTAMANTE</td></tr>",
                            "<tr><td>FRANCISCO</td><td>SKIDMORE</td></tr>",
                            "<tr><td>MARCUS</td><td>HIDALGO</td></tr>",
                            "<tr><td>MICHEAL</td><td>FORMAN</td></tr>",
                            "<tr><td>THEODORE</td><td>CULP</td></tr>",
                            "<tr><td>CLIFFORD</td><td>BOWENS</td></tr>",
                            "<tr><td>OSCAR</td><td>AQUINO</td></tr>",
                            "<tr><td>JAY</td><td>ROBB</td></tr>",
                            "<tr><td>JIM</td><td>REA</td></tr>",
                            "<tr><td>TOM</td><td>MILNER</td></tr>",
                            "<tr><td>CALVIN</td><td>MARTEL</td></tr>",
                            "<tr><td>ALEX</td><td>GRESHAM</td></tr>",
                            "<tr><td>JON</td><td>WILES</td></tr>",
                            "<tr><td>RONNIE</td><td>RICKETTS</td></tr>",
                            "<tr><td>LLOYD</td><td>DOWD</td></tr>",
                            "<tr><td>TOMMY</td><td>COLLAZO</td></tr>",
                            "<tr><td>LEON</td><td>BOSTIC</td></tr>",
                            "<tr><td>DEREK</td><td>BLAKELY</td></tr>",
                            "<tr><td>WARREN</td><td>SHERROD</td></tr>",
                            "<tr><td>DARRELL</td><td>POWER</td></tr>",
                            "<tr><td>JEROME</td><td>KENYON</td></tr>",
                            "<tr><td>FLOYD</td><td>GANDY</td></tr>",
                            "<tr><td>LEO</td><td>EBERT</td></tr>",
                            "<tr><td>ALVIN</td><td>DELOACH</td></tr>",
                            "<tr><td>TIM</td><td>CARY</td></tr>",
                            "<tr><td>WESLEY</td><td>BULL</td></tr>",
                            "<tr><td>GORDON</td><td>ALLARD</td></tr>",
                            "<tr><td>DEAN</td><td>SAUER</td></tr>",
                            "<tr><td>GREG</td><td>ROBINS</td></tr>",
                            "<tr><td>JORGE</td><td>OLIVARES</td></tr>",
                            "<tr><td>DUSTIN</td><td>GILLETTE</td></tr>",
                            "<tr><td>PEDRO</td><td>CHESTNUT</td></tr>",
                            "<tr><td>DERRICK</td><td>BOURQUE</td></tr>",
                            "<tr><td>DAN</td><td>PAINE</td></tr>",
                            "<tr><td>LEWIS</td><td>LYMAN</td></tr>",
                            "<tr><td>ZACHARY</td><td>HITE</td></tr>",
                            "<tr><td>COREY</td><td>HAUSER</td></tr>",
                            "<tr><td>HERMAN</td><td>DEVORE</td></tr>",
                            "<tr><td>MAURICE</td><td>CRAWLEY</td></tr>",
                            "<tr><td>VERNON</td><td>CHAPA</td></tr>",
                            "<tr><td>ROBERTO</td><td>VU</td></tr>",
                            "<tr><td>CLYDE</td><td>TOBIAS</td></tr>",
                            "<tr><td>GLEN</td><td>TALBERT</td></tr>",
                            "<tr><td>HECTOR</td><td>POINDEXTER</td></tr>",
                            "<tr><td>SHANE</td><td>MILLARD</td></tr>",
                            "<tr><td>RICARDO</td><td>MEADOR</td></tr>",
                            "<tr><td>SAM</td><td>MCDUFFIE</td></tr>",
                            "<tr><td>RICK</td><td>MATTOX</td></tr>",
                            "<tr><td>LESTER</td><td>KRAUS</td></tr>",
                            "<tr><td>BRENT</td><td>HARKINS</td></tr>",
                            "<tr><td>RAMON</td><td>CHOATE</td></tr>",
                            "<tr><td>CHARLIE</td><td>BESS</td></tr>",
                            "<tr><td>TYLER</td><td>WREN</td></tr>",
                            "<tr><td>GILBERT</td><td>SLEDGE</td></tr>",
                            "<tr><td>GENE</td><td>SANBORN</td></tr>",
                            "<tr><td>MARC</td><td>OUTLAW</td></tr>",
                            "<tr><td>REGINALD</td><td>KINDER</td></tr>",
                            "<tr><td>RUBEN</td><td>GEARY</td></tr>",
                            "<tr><td>BRETT</td><td>CORNWELL</td></tr>",
                            "<tr><td>ANGEL</td><td>BARCLAY</td></tr>",
                            "<tr><td>NATHANIEL</td><td>ADAM</td></tr>",
                            "<tr><td>RAFAEL</td><td>ABNEY</td></tr>",
                            "<tr><td>LESLIE</td><td>SEWARD</td></tr>",
                            "<tr><td>EDGAR</td><td>RHOADS</td></tr>",
                            "<tr><td>MILTON</td><td>HOWLAND</td></tr>",
                            "<tr><td>RAUL</td><td>FORTIER</td></tr>",
                            "<tr><td>BEN</td><td>EASTER</td></tr>",
                            "<tr><td>CHESTER</td><td>BENNER</td></tr>",
                            "<tr><td>CECIL</td><td>VINES</td></tr>",
                            "<tr><td>DUANE</td><td>TUBBS</td></tr>",
                            "<tr><td>FRANKLIN</td><td>TROUTMAN</td></tr>",
                            "<tr><td>ANDRE</td><td>RAPP</td></tr>",
                            "<tr><td>BRAD</td><td>MCCURDY</td></tr>",
                            "<tr><td>GABRIEL</td><td>HARDER</td></tr>",
                            "<tr><td>RON</td><td>DELUCA</td></tr>",
                            "<tr><td>MITCHELL</td><td>WESTMORELAND</td></tr>",
                            "<tr><td>ROLAND</td><td>SOUTH</td></tr>",
                            "<tr><td>ARNOLD</td><td>HAVENS</td></tr>",
                            "<tr><td>HARVEY</td><td>GUAJARDO</td></tr>",
                            "<tr><td>JARED</td><td>ELY</td></tr>",
                            "<tr><td>ADRIAN</td><td>CLARY</td></tr>",
                            "<tr><td>KARL</td><td>SEAL</td></tr>",
                            "<tr><td>CORY</td><td>MEEHAN</td></tr>",
                            "<tr><td>CLAUDE</td><td>HERZOG</td></tr>",
                            "<tr><td>ERIK</td><td>GUILLEN</td></tr>",
                            "<tr><td>DARRYL</td><td>ASHCRAFT</td></tr>",
                            "<tr><td>JAMIE</td><td>WAUGH</td></tr>",
                            "<tr><td>NEIL</td><td>RENNER</td></tr>",
                            "<tr><td>JESSIE</td><td>MILAM</td></tr>",
                            "<tr><td>CHRISTIAN</td><td>JUNG</td></tr>",
                            "<tr><td>JAVIER</td><td>ELROD</td></tr>",
                            "<tr><td>FERNANDO</td><td>CHURCHILL</td></tr>",
                            "<tr><td>CLINTON</td><td>BUFORD</td></tr>",
                            "<tr><td>TED</td><td>BREAUX</td></tr>",
                            "<tr><td>MATHEW</td><td>BOLIN</td></tr>",
                            "<tr><td>TYRONE</td><td>ASHER</td></tr>",
                            "<tr><td>DARREN</td><td>WINDHAM</td></tr>",
                            "<tr><td>LONNIE</td><td>TIRADO</td></tr>",
                            "<tr><td>LANCE</td><td>PEMBERTON</td></tr>",
                            "<tr><td>CODY</td><td>NOLEN</td></tr>",
                            "<tr><td>JULIO</td><td>NOLAND</td></tr>",
                            "<tr><td>KELLY</td><td>KNOTT</td></tr>",
                            "<tr><td>KURT</td><td>EMMONS</td></tr>",
                            "<tr><td>ALLAN</td><td>CORNISH</td></tr>",
                            "<tr><td>NELSON</td><td>CHRISTENSON</td></tr>",
                            "<tr><td>GUY</td><td>BROWNLEE</td></tr>",
                            "<tr><td>CLAYTON</td><td>BARBEE</td></tr>",
                            "<tr><td>HUGH</td><td>WALDROP</td></tr>",
                            "<tr><td>MAX</td><td>PITT</td></tr>",
                            "<tr><td>DWAYNE</td><td>OLVERA</td></tr>",
                            "<tr><td>DWIGHT</td><td>LOMBARDI</td></tr>",
                            "<tr><td>ARMANDO</td><td>GRUBER</td></tr>",
                            "<tr><td>FELIX</td><td>GAFFNEY</td></tr>",
                            "<tr><td>JIMMIE</td><td>EGGLESTON</td></tr>",
                            "<tr><td>EVERETT</td><td>BANDA</td></tr>",
                            "<tr><td>IAN</td><td>STILL</td></tr>",
                            "<tr><td>WALLACE</td><td>SLONE</td></tr>",
                            "<tr><td>KEN</td><td>PREWITT</td></tr>",
                            "<tr><td>BOB</td><td>PFEIFFER</td></tr>",
                            "<tr><td>JAIME</td><td>NETTLES</td></tr>",
                            "<tr><td>CASEY</td><td>MENA</td></tr>",
                            "<tr><td>ALFREDO</td><td>MCADAMS</td></tr>",
                            "<tr><td>ALBERTO</td><td>HENNING</td></tr>",
                            "<tr><td>DAVE</td><td>GARDINER</td></tr>",
                            "<tr><td>IVAN</td><td>CROMWELL</td></tr>",
                            "<tr><td>JOHNNIE</td><td>CHISHOLM</td></tr>",
                            "<tr><td>SIDNEY</td><td>BURLESON</td></tr>",
                            "<tr><td>BYRON</td><td>BOX</td></tr>",
                            "<tr><td>JULIAN</td><td>VEST</td></tr>",
                            "<tr><td>ISAAC</td><td>OGLESBY</td></tr>",
                            "<tr><td>CLIFTON</td><td>MALCOLM</td></tr>",
                            "<tr><td>WILLARD</td><td>LUMPKIN</td></tr>",
                            "<tr><td>DARYL</td><td>LARUE</td></tr>",
                            "<tr><td>ROSS</td><td>GREY</td></tr>",
                            "<tr><td>VIRGIL</td><td>WOFFORD</td></tr>",
                            "<tr><td>ANDY</td><td>VANHORN</td></tr>",
                            "<tr><td>MARSHALL</td><td>THORN</td></tr>",
                            "<tr><td>SALVADOR</td><td>TEEL</td></tr>",
                            "<tr><td>PERRY</td><td>SWAFFORD</td></tr>",
                            "<tr><td>KIRK</td><td>STCLAIR</td></tr>",
                            "<tr><td>SERGIO</td><td>STANFIELD</td></tr>",
                            "<tr><td>MARION</td><td>OCAMPO</td></tr>",
                            "<tr><td>TRACY</td><td>HERRMANN</td></tr>",
                            "<tr><td>SETH</td><td>HANNON</td></tr>",
                            "<tr><td>KENT</td><td>ARSENAULT</td></tr>",
                            "<tr><td>TERRANCE</td><td>ROUSH</td></tr>",
                            "<tr><td>RENE</td><td>MCALISTER</td></tr>",
                            "<tr><td>EDUARDO</td><td>HIATT</td></tr>",
                            "<tr><td>TERRENCE</td><td>GUNDERSON</td></tr>",
                            "<tr><td>ENRIQUE</td><td>FORSYTHE</td></tr>",
                            "<tr><td>FREDDIE</td><td>DUGGAN</td></tr>",
                            "<tr><td>WADE</td><td>DELVALLE</td></tr>",
                            "<tr><td>AUSTIN</td><td>CINTRON</td></tr>",
                            "</table>"
                        ]
                    }
                }
            ],
            "execution_count": 14
        },
        {
            "cell_type": "code",
            "source": [
                "SELECT customer_id, sum(amount)\n",
                "FROM payment\n",
                "GROUP BY customer_id\n",
                "HAVING SUM(amount) > ANY (\n",
                "    SELECT SUM(p.amount)\n",
                "    FROM payment p \n",
                "        INNER JOIN customer c \n",
                "            ON p.customer_id = c.customer_id\n",
                "        INNER JOIN address a \n",
                "            ON c.address_id = a.address_id\n",
                "        INNER JOIN city ct \n",
                "            ON a.city_id = ct.city_id\n",
                "        INNER JOIN country co \n",
                "            ON ct.country_id = co.country_id\n",
                "    WHERE co.country IN ('Bolivia', 'Paraguay', 'Chile')\n",
                "    GROUP BY co.country\n",
                ")"
            ],
            "metadata": {
                "azdata_cell_guid": "6b8b6c7e-ece1-4ba1-8f30-b40841e1a6ad"
            },
            "outputs": [
                {
                    "output_type": "display_data",
                    "data": {
                        "text/html": "(6 rows affected)"
                    },
                    "metadata": {}
                },
                {
                    "output_type": "display_data",
                    "data": {
                        "text/html": "Total execution time: 00:00:00.034"
                    },
                    "metadata": {}
                },
                {
                    "output_type": "execute_result",
                    "metadata": {},
                    "execution_count": 15,
                    "data": {
                        "application/vnd.dataresource+json": {
                            "schema": {
                                "fields": [
                                    {
                                        "name": "customer_id"
                                    },
                                    {
                                        "name": "(No column name)"
                                    }
                                ]
                            },
                            "data": [
                                {
                                    "0": "178",
                                    "1": "194.61"
                                },
                                {
                                    "0": "144",
                                    "1": "195.58"
                                },
                                {
                                    "0": "459",
                                    "1": "186.62"
                                },
                                {
                                    "0": "148",
                                    "1": "216.54"
                                },
                                {
                                    "0": "526",
                                    "1": "221.55"
                                },
                                {
                                    "0": "137",
                                    "1": "194.61"
                                }
                            ]
                        },
                        "text/html": [
                            "<table>",
                            "<tr><th>customer_id</th><th>(No column name)</th></tr>",
                            "<tr><td>178</td><td>194.61</td></tr>",
                            "<tr><td>144</td><td>195.58</td></tr>",
                            "<tr><td>459</td><td>186.62</td></tr>",
                            "<tr><td>148</td><td>216.54</td></tr>",
                            "<tr><td>526</td><td>221.55</td></tr>",
                            "<tr><td>137</td><td>194.61</td></tr>",
                            "</table>"
                        ]
                    }
                }
            ],
            "execution_count": 15
        },
        {
            "cell_type": "markdown",
            "source": [
                "## MULTICOLUMN SUBQUERIES"
            ],
            "metadata": {
                "azdata_cell_guid": "8f767dee-6af1-4712-95f0-e38e63742bdb"
            }
        },
        {
            "cell_type": "code",
            "source": [
                "SELECT fa.actor_id, fa.film_id\n",
                "FROM film_actor fa\n",
                "WHERE fa.actor_id IN (\n",
                "    SELECT actor_id FROM actor WHERE last_name = 'MONROE'\n",
                ") AND fa.film_id IN (\n",
                "    SELECT film_id FROM film WHERE rating = 'PG'\n",
                ")\n",
                ""
            ],
            "metadata": {
                "azdata_cell_guid": "80375cac-c77b-4586-9b80-fba32f7de425"
            },
            "outputs": [
                {
                    "output_type": "display_data",
                    "data": {
                        "text/html": "(11 rows affected)"
                    },
                    "metadata": {}
                },
                {
                    "output_type": "display_data",
                    "data": {
                        "text/html": "Total execution time: 00:00:00.037"
                    },
                    "metadata": {}
                },
                {
                    "output_type": "execute_result",
                    "metadata": {},
                    "execution_count": 16,
                    "data": {
                        "application/vnd.dataresource+json": {
                            "schema": {
                                "fields": [
                                    {
                                        "name": "actor_id"
                                    },
                                    {
                                        "name": "film_id"
                                    }
                                ]
                            },
                            "data": [
                                {
                                    "0": "120",
                                    "1": "63"
                                },
                                {
                                    "0": "120",
                                    "1": "144"
                                },
                                {
                                    "0": "178",
                                    "1": "164"
                                },
                                {
                                    "0": "178",
                                    "1": "194"
                                },
                                {
                                    "0": "178",
                                    "1": "273"
                                },
                                {
                                    "0": "178",
                                    "1": "311"
                                },
                                {
                                    "0": "120",
                                    "1": "414"
                                },
                                {
                                    "0": "120",
                                    "1": "590"
                                },
                                {
                                    "0": "120",
                                    "1": "715"
                                },
                                {
                                    "0": "120",
                                    "1": "894"
                                },
                                {
                                    "0": "178",
                                    "1": "983"
                                }
                            ]
                        },
                        "text/html": [
                            "<table>",
                            "<tr><th>actor_id</th><th>film_id</th></tr>",
                            "<tr><td>120</td><td>63</td></tr>",
                            "<tr><td>120</td><td>144</td></tr>",
                            "<tr><td>178</td><td>164</td></tr>",
                            "<tr><td>178</td><td>194</td></tr>",
                            "<tr><td>178</td><td>273</td></tr>",
                            "<tr><td>178</td><td>311</td></tr>",
                            "<tr><td>120</td><td>414</td></tr>",
                            "<tr><td>120</td><td>590</td></tr>",
                            "<tr><td>120</td><td>715</td></tr>",
                            "<tr><td>120</td><td>894</td></tr>",
                            "<tr><td>178</td><td>983</td></tr>",
                            "</table>"
                        ]
                    }
                }
            ],
            "execution_count": 16
        },
        {
            "cell_type": "code",
            "source": [
                ""
            ],
            "metadata": {
                "azdata_cell_guid": "f037b5c2-00c4-44e9-9792-e6e4371e512a"
            },
            "outputs": [],
            "execution_count": null
        },
        {
            "cell_type": "code",
            "source": [
                ""
            ],
            "metadata": {
                "azdata_cell_guid": "58628796-a462-4f9a-8acd-31ceb9df82ff"
            },
            "outputs": [],
            "execution_count": null
        },
        {
            "cell_type": "code",
            "source": [
                ""
            ],
            "metadata": {
                "azdata_cell_guid": "1da12570-39cc-427c-b42f-f7aeb6d173c0"
            },
            "outputs": [],
            "execution_count": null
        },
        {
            "cell_type": "code",
            "source": [
                ""
            ],
            "metadata": {
                "azdata_cell_guid": "c1c47352-714e-4f96-994e-58b14c261468"
            },
            "outputs": [],
            "execution_count": null
        },
        {
            "cell_type": "code",
            "source": [
                ""
            ],
            "metadata": {
                "azdata_cell_guid": "f93728d3-cdd5-4758-8414-75554d8b72f6"
            },
            "outputs": [],
            "execution_count": null
        }
    ]
}