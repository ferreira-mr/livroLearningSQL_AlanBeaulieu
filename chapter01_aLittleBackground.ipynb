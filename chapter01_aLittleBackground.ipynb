{
    "metadata": {
        "kernelspec": {
            "name": "SQL",
            "display_name": "SQL",
            "language": "sql"
        },
        "language_info": {
            "name": "sql",
            "version": ""
        }
    },
    "nbformat_minor": 2,
    "nbformat": 4,
    "cells": [
        {
            "cell_type": "markdown",
            "source": [
                "# CHAPTER 01 - A LITTLE BACKGROUND"
            ],
            "metadata": {
                "azdata_cell_guid": "a142be84-a198-4f4d-b7bc-093bbdc24895"
            }
        },
        {
            "cell_type": "markdown",
            "source": [
                "## CAPÍTULO APENAS COM CONSIDERAÇÕES TEÓRICAS"
            ],
            "metadata": {
                "azdata_cell_guid": "ca78851d-81fa-449a-b18d-339f72dee208"
            }
        }
    ]
}