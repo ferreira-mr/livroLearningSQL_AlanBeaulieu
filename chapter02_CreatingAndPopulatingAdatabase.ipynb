{
    "metadata": {
        "kernelspec": {
            "name": "SQL",
            "display_name": "SQL",
            "language": "sql"
        },
        "language_info": {
            "name": "sql",
            "version": ""
        }
    },
    "nbformat_minor": 2,
    "nbformat": 4,
    "cells": [
        {
            "cell_type": "markdown",
            "source": [
                "# CHAPTER 02 - CREATING AND POPULATING A DATABASE"
            ],
            "metadata": {
                "azdata_cell_guid": "f0f7de04-f612-4971-9044-a95c8b118321"
            }
        },
        {
            "cell_type": "code",
            "source": [
                "SELECT GETDATE()"
            ],
            "metadata": {
                "azdata_cell_guid": "a3c43a13-5d02-4e1e-8ee3-e34671d34787"
            },
            "outputs": [
                {
                    "output_type": "display_data",
                    "data": {
                        "text/html": "(1 row affected)"
                    },
                    "metadata": {}
                },
                {
                    "output_type": "display_data",
                    "data": {
                        "text/html": "Total execution time: 00:00:00.010"
                    },
                    "metadata": {}
                },
                {
                    "output_type": "execute_result",
                    "metadata": {},
                    "execution_count": 18,
                    "data": {
                        "application/vnd.dataresource+json": {
                            "schema": {
                                "fields": [
                                    {
                                        "name": "(No column name)"
                                    }
                                ]
                            },
                            "data": [
                                {
                                    "0": "2021-03-08 03:35:19.640"
                                }
                            ]
                        },
                        "text/html": [
                            "<table>",
                            "<tr><th>(No column name)</th></tr>",
                            "<tr><td>2021-03-08 03:35:19.640</td></tr>",
                            "</table>"
                        ]
                    }
                }
            ],
            "execution_count": 18
        },
        {
            "cell_type": "code",
            "source": [
                "SELECT name, database_id, create_date  \r\n",
                "FROM sys.databases ;  "
            ],
            "metadata": {
                "azdata_cell_guid": "468acb33-080b-4f49-aa30-661712d71845"
            },
            "outputs": [
                {
                    "output_type": "display_data",
                    "data": {
                        "text/html": "(7 rows affected)"
                    },
                    "metadata": {}
                },
                {
                    "output_type": "display_data",
                    "data": {
                        "text/html": "Total execution time: 00:00:00.024"
                    },
                    "metadata": {}
                },
                {
                    "output_type": "execute_result",
                    "metadata": {},
                    "execution_count": 19,
                    "data": {
                        "application/vnd.dataresource+json": {
                            "schema": {
                                "fields": [
                                    {
                                        "name": "name"
                                    },
                                    {
                                        "name": "database_id"
                                    },
                                    {
                                        "name": "create_date"
                                    }
                                ]
                            },
                            "data": [
                                {
                                    "0": "master",
                                    "1": "1",
                                    "2": "2003-04-08 09:13:36.390"
                                },
                                {
                                    "0": "tempdb",
                                    "1": "2",
                                    "2": "2021-03-06 06:59:44.567"
                                },
                                {
                                    "0": "model",
                                    "1": "3",
                                    "2": "2003-04-08 09:13:36.390"
                                },
                                {
                                    "0": "msdb",
                                    "1": "4",
                                    "2": "2019-09-24 14:21:42.270"
                                },
                                {
                                    "0": "DW_SAKILA",
                                    "1": "5",
                                    "2": "2021-02-28 09:31:50.937"
                                },
                                {
                                    "0": "DB_SAKILA",
                                    "1": "6",
                                    "2": "2021-03-02 04:44:19.030"
                                },
                                {
                                    "0": "sakila",
                                    "1": "7",
                                    "2": "2021-03-02 05:06:09.640"
                                }
                            ]
                        },
                        "text/html": [
                            "<table>",
                            "<tr><th>name</th><th>database_id</th><th>create_date</th></tr>",
                            "<tr><td>master</td><td>1</td><td>2003-04-08 09:13:36.390</td></tr>",
                            "<tr><td>tempdb</td><td>2</td><td>2021-03-06 06:59:44.567</td></tr>",
                            "<tr><td>model</td><td>3</td><td>2003-04-08 09:13:36.390</td></tr>",
                            "<tr><td>msdb</td><td>4</td><td>2019-09-24 14:21:42.270</td></tr>",
                            "<tr><td>DW_SAKILA</td><td>5</td><td>2021-02-28 09:31:50.937</td></tr>",
                            "<tr><td>DB_SAKILA</td><td>6</td><td>2021-03-02 04:44:19.030</td></tr>",
                            "<tr><td>sakila</td><td>7</td><td>2021-03-02 05:06:09.640</td></tr>",
                            "</table>"
                        ]
                    }
                }
            ],
            "execution_count": 19
        },
        {
            "cell_type": "markdown",
            "source": [
                "## TABLE CREATION"
            ],
            "metadata": {
                "azdata_cell_guid": "3a22a57d-bb2c-4899-b491-9f6c88264e6d"
            }
        },
        {
            "cell_type": "code",
            "source": [
                "-- Create a new table called '[person]' in schema '[dbo]'\r\n",
                "-- Drop the table if it already exists\r\n",
                "IF OBJECT_ID('[dbo].[person]', 'U') IS NOT NULL\r\n",
                "DROP TABLE [dbo].[person]\r\n",
                "GO\r\n",
                "-- Create the table in the specified schema\r\n",
                "CREATE TABLE [dbo].[person]\r\n",
                "(\r\n",
                "    [person_id] INT IDENTITY(1,1) NOT NULL PRIMARY KEY,\r\n",
                "    -- Primary Key column\r\n",
                "    [fname] varchar(20) NOT NULL,\r\n",
                "    [lname] varchar(20) NOT NULL,\r\n",
                "    [eye_color] varchar (2),\r\n",
                "    [birth_date] date,\r\n",
                "    [street] varchar(30),\r\n",
                "    [city] varchar(20),\r\n",
                "    [state] varchar(20),\r\n",
                "    [country] varchar(20),\r\n",
                "    [postal_code] varchar(20),\r\n",
                ");\r\n",
                "GO"
            ],
            "metadata": {
                "azdata_cell_guid": "a35fed2f-db38-4ba4-9837-343568036923"
            },
            "outputs": [
                {
                    "output_type": "display_data",
                    "data": {
                        "text/html": "Commands completed successfully."
                    },
                    "metadata": {}
                },
                {
                    "output_type": "display_data",
                    "data": {
                        "text/html": "Commands completed successfully."
                    },
                    "metadata": {}
                },
                {
                    "output_type": "display_data",
                    "data": {
                        "text/html": "Total execution time: 00:00:00.002"
                    },
                    "metadata": {}
                }
            ],
            "execution_count": 20
        },
        {
            "cell_type": "code",
            "source": [
                "-- Create a new table called '[favorite_food]' in schema '[dbo]'\r\n",
                "-- Drop the table if it already exists\r\n",
                "IF OBJECT_ID('[dbo].[favorite_food]', 'U') IS NOT NULL\r\n",
                "DROP TABLE [dbo].[favorite_food]\r\n",
                "GO\r\n",
                "-- Create the table in the specified schema\r\n",
                "CREATE TABLE [dbo].[favorite_food]\r\n",
                "(\r\n",
                "    [person_id] INT NOT NULL,\r\n",
                "    -- Primary Key column\r\n",
                "    [food] varchar(50) NOT NULL,\r\n",
                "    CONSTRAINT fk_fav_food_person_id FOREIGN KEY ([person_id])\r\n",
                "    REFERENCES [dbo].[person] ([person_id])\r\n",
                "    -- Specify more columns here\r\n",
                ");\r\n",
                "GO"
            ],
            "metadata": {
                "azdata_cell_guid": "3aae2f86-f9a1-4473-94e0-c02e36736f05",
                "tags": []
            },
            "outputs": [
                {
                    "output_type": "display_data",
                    "data": {
                        "text/html": "Commands completed successfully."
                    },
                    "metadata": {}
                },
                {
                    "output_type": "display_data",
                    "data": {
                        "text/html": "Commands completed successfully."
                    },
                    "metadata": {}
                },
                {
                    "output_type": "display_data",
                    "data": {
                        "text/html": "Total execution time: 00:00:00.001"
                    },
                    "metadata": {}
                }
            ],
            "execution_count": 21
        },
        {
            "cell_type": "code",
            "source": [
                "-- Insert rows into table 'person' in schema '[dbo]'\r\n",
                "INSERT INTO [dbo].[person]\r\n",
                "( -- Columns to insert data into\r\n",
                " [fname], [lname], [eye_color], [birth_date]\r\n",
                ")\r\n",
                "VALUES\r\n",
                "( -- First row: values for the columns in the list above\r\n",
                " 'William', 'Turner', 'BR', '1972-05-27'\r\n",
                ");\r\n",
                "-- Add more rows here\r\n",
                "GO"
            ],
            "metadata": {
                "azdata_cell_guid": "be930720-a402-4add-9504-14f285391fdc",
                "tags": []
            },
            "outputs": [
                {
                    "output_type": "display_data",
                    "data": {
                        "text/html": "(1 row affected)"
                    },
                    "metadata": {}
                },
                {
                    "output_type": "display_data",
                    "data": {
                        "text/html": "Total execution time: 00:00:00.002"
                    },
                    "metadata": {}
                }
            ],
            "execution_count": 22
        },
        {
            "cell_type": "code",
            "source": [
                "-- Select rows from a Table or View '[person_id]' in schema '[dbo]'\r\n",
                "SELECT person_id, fname, lname, birth_date\r\n",
                "FROM [dbo].[person]\r\n",
                "GO"
            ],
            "metadata": {
                "azdata_cell_guid": "372fe810-40cd-4df0-8e1f-aeee8c4da818"
            },
            "outputs": [
                {
                    "output_type": "display_data",
                    "data": {
                        "text/html": "(1 row affected)"
                    },
                    "metadata": {}
                },
                {
                    "output_type": "display_data",
                    "data": {
                        "text/html": "Total execution time: 00:00:00.005"
                    },
                    "metadata": {}
                },
                {
                    "output_type": "execute_result",
                    "metadata": {},
                    "execution_count": 23,
                    "data": {
                        "application/vnd.dataresource+json": {
                            "schema": {
                                "fields": [
                                    {
                                        "name": "person_id"
                                    },
                                    {
                                        "name": "fname"
                                    },
                                    {
                                        "name": "lname"
                                    },
                                    {
                                        "name": "birth_date"
                                    }
                                ]
                            },
                            "data": [
                                {
                                    "0": "1",
                                    "1": "William",
                                    "2": "Turner",
                                    "3": "1972-05-27"
                                }
                            ]
                        },
                        "text/html": [
                            "<table>",
                            "<tr><th>person_id</th><th>fname</th><th>lname</th><th>birth_date</th></tr>",
                            "<tr><td>1</td><td>William</td><td>Turner</td><td>1972-05-27</td></tr>",
                            "</table>"
                        ]
                    }
                }
            ],
            "execution_count": 23
        },
        {
            "cell_type": "code",
            "source": [
                "-- Select rows from a Table or View '[person_id]' in schema '[dbo]'\r\n",
                "SELECT person_id, fname, lname, birth_date\r\n",
                "FROM [dbo].[person]\r\n",
                "WHERE [lname] = 'Turner'\r\n",
                "GO"
            ],
            "metadata": {
                "azdata_cell_guid": "acc2d6ed-3d78-44bc-b333-a7fc4577c15f"
            },
            "outputs": [
                {
                    "output_type": "display_data",
                    "data": {
                        "text/html": "(1 row affected)"
                    },
                    "metadata": {}
                },
                {
                    "output_type": "display_data",
                    "data": {
                        "text/html": "Total execution time: 00:00:00.006"
                    },
                    "metadata": {}
                },
                {
                    "output_type": "execute_result",
                    "metadata": {},
                    "execution_count": 24,
                    "data": {
                        "application/vnd.dataresource+json": {
                            "schema": {
                                "fields": [
                                    {
                                        "name": "person_id"
                                    },
                                    {
                                        "name": "fname"
                                    },
                                    {
                                        "name": "lname"
                                    },
                                    {
                                        "name": "birth_date"
                                    }
                                ]
                            },
                            "data": [
                                {
                                    "0": "1",
                                    "1": "William",
                                    "2": "Turner",
                                    "3": "1972-05-27"
                                }
                            ]
                        },
                        "text/html": [
                            "<table>",
                            "<tr><th>person_id</th><th>fname</th><th>lname</th><th>birth_date</th></tr>",
                            "<tr><td>1</td><td>William</td><td>Turner</td><td>1972-05-27</td></tr>",
                            "</table>"
                        ]
                    }
                }
            ],
            "execution_count": 24
        },
        {
            "cell_type": "code",
            "source": [
                "-- Insert rows into table 'favorite_food' in schema '[dbo]'\r\n",
                "INSERT INTO [dbo].[favorite_food]\r\n",
                "( -- Columns to insert data into\r\n",
                " [person_id], [food]\r\n",
                ")\r\n",
                "VALUES\r\n",
                "( -- First row: values for the columns in the list above\r\n",
                "    1, 'pizza'\r\n",
                "),\r\n",
                "(\r\n",
                "    1, 'cookies'\r\n",
                "),\r\n",
                "(\r\n",
                "    1, 'nachos'\r\n",
                ");\r\n",
                "GO"
            ],
            "metadata": {
                "azdata_cell_guid": "bb4f1314-b2f6-4327-9ba5-1051bd2c28bc"
            },
            "outputs": [
                {
                    "output_type": "display_data",
                    "data": {
                        "text/html": "(3 rows affected)"
                    },
                    "metadata": {}
                },
                {
                    "output_type": "display_data",
                    "data": {
                        "text/html": "Total execution time: 00:00:00.004"
                    },
                    "metadata": {}
                }
            ],
            "execution_count": 25
        },
        {
            "cell_type": "code",
            "source": [
                "-- Select rows from a Table or View '[favorite_food]' in schema '[dbo]'\r\n",
                "SELECT food\r\n",
                "FROM [dbo].[favorite_food]\r\n",
                "WHERE person_id = 1\r\n",
                "ORDER BY food\r\n",
                "GO"
            ],
            "metadata": {
                "azdata_cell_guid": "25002a80-2432-40b5-b04f-ebafaaea0e61"
            },
            "outputs": [
                {
                    "output_type": "display_data",
                    "data": {
                        "text/html": "(3 rows affected)"
                    },
                    "metadata": {}
                },
                {
                    "output_type": "display_data",
                    "data": {
                        "text/html": "Total execution time: 00:00:00.006"
                    },
                    "metadata": {}
                },
                {
                    "output_type": "execute_result",
                    "metadata": {},
                    "execution_count": 26,
                    "data": {
                        "application/vnd.dataresource+json": {
                            "schema": {
                                "fields": [
                                    {
                                        "name": "food"
                                    }
                                ]
                            },
                            "data": [
                                {
                                    "0": "cookies"
                                },
                                {
                                    "0": "nachos"
                                },
                                {
                                    "0": "pizza"
                                }
                            ]
                        },
                        "text/html": [
                            "<table>",
                            "<tr><th>food</th></tr>",
                            "<tr><td>cookies</td></tr>",
                            "<tr><td>nachos</td></tr>",
                            "<tr><td>pizza</td></tr>",
                            "</table>"
                        ]
                    }
                }
            ],
            "execution_count": 26
        },
        {
            "cell_type": "code",
            "source": [
                "INSERT INTO person\r\n",
                "    (fname, lname, eye_color, birth_date, street, city, state, country, postal_code)\r\n",
                "VALUES\r\n",
                "    ('Susan', 'Smith', 'BL', '1975-11-02', '23 Maple St.', 'Arlington', 'VA', 'USA', '20220');"
            ],
            "metadata": {
                "azdata_cell_guid": "bb75f62c-586d-46ec-8a24-227910a8a7b4",
                "tags": []
            },
            "outputs": [
                {
                    "output_type": "display_data",
                    "data": {
                        "text/html": "(1 row affected)"
                    },
                    "metadata": {}
                },
                {
                    "output_type": "display_data",
                    "data": {
                        "text/html": "Total execution time: 00:00:00.002"
                    },
                    "metadata": {}
                }
            ],
            "execution_count": 28
        },
        {
            "cell_type": "code",
            "source": [
                "SELECT person_id, fname, lname, birth_date\r\n",
                "FROM person;"
            ],
            "metadata": {
                "azdata_cell_guid": "9445ce81-7c03-4246-86fd-f9d424e7a7b7",
                "tags": []
            },
            "outputs": [
                {
                    "output_type": "display_data",
                    "data": {
                        "text/html": "(2 rows affected)"
                    },
                    "metadata": {}
                },
                {
                    "output_type": "display_data",
                    "data": {
                        "text/html": "Total execution time: 00:00:00.013"
                    },
                    "metadata": {}
                },
                {
                    "output_type": "execute_result",
                    "metadata": {},
                    "execution_count": 29,
                    "data": {
                        "application/vnd.dataresource+json": {
                            "schema": {
                                "fields": [
                                    {
                                        "name": "person_id"
                                    },
                                    {
                                        "name": "fname"
                                    },
                                    {
                                        "name": "lname"
                                    },
                                    {
                                        "name": "birth_date"
                                    }
                                ]
                            },
                            "data": [
                                {
                                    "0": "1",
                                    "1": "William",
                                    "2": "Turner",
                                    "3": "1972-05-27"
                                },
                                {
                                    "0": "2",
                                    "1": "Susan",
                                    "2": "Smith",
                                    "3": "1975-11-02"
                                }
                            ]
                        },
                        "text/html": [
                            "<table>",
                            "<tr><th>person_id</th><th>fname</th><th>lname</th><th>birth_date</th></tr>",
                            "<tr><td>1</td><td>William</td><td>Turner</td><td>1972-05-27</td></tr>",
                            "<tr><td>2</td><td>Susan</td><td>Smith</td><td>1975-11-02</td></tr>",
                            "</table>"
                        ]
                    }
                }
            ],
            "execution_count": 29
        },
        {
            "cell_type": "code",
            "source": [
                "UPDATE person \r\n",
                "SET street = '1225 Tremont St.',\r\n",
                "    city = 'Boston',\r\n",
                "    state = 'MA',\r\n",
                "    country = 'USA',\r\n",
                "    postal_code = '02138'\r\n",
                "WHERE person_id = 1;"
            ],
            "metadata": {
                "azdata_cell_guid": "fb2a94bd-737b-4480-9b1e-4da3815c975d"
            },
            "outputs": [
                {
                    "output_type": "display_data",
                    "data": {
                        "text/html": "(1 row affected)"
                    },
                    "metadata": {}
                },
                {
                    "output_type": "display_data",
                    "data": {
                        "text/html": "Total execution time: 00:00:00.003"
                    },
                    "metadata": {}
                }
            ],
            "execution_count": 30
        },
        {
            "cell_type": "code",
            "source": [
                "SELECT *\r\n",
                "FROM person\r\n",
                ""
            ],
            "metadata": {
                "azdata_cell_guid": "f70384e1-23c6-4011-87bd-ebd4e2ff647d"
            },
            "outputs": [
                {
                    "output_type": "display_data",
                    "data": {
                        "text/html": "(2 rows affected)"
                    },
                    "metadata": {}
                },
                {
                    "output_type": "display_data",
                    "data": {
                        "text/html": "Total execution time: 00:00:00.010"
                    },
                    "metadata": {}
                },
                {
                    "output_type": "execute_result",
                    "metadata": {},
                    "execution_count": 31,
                    "data": {
                        "application/vnd.dataresource+json": {
                            "schema": {
                                "fields": [
                                    {
                                        "name": "person_id"
                                    },
                                    {
                                        "name": "fname"
                                    },
                                    {
                                        "name": "lname"
                                    },
                                    {
                                        "name": "eye_color"
                                    },
                                    {
                                        "name": "birth_date"
                                    },
                                    {
                                        "name": "street"
                                    },
                                    {
                                        "name": "city"
                                    },
                                    {
                                        "name": "state"
                                    },
                                    {
                                        "name": "country"
                                    },
                                    {
                                        "name": "postal_code"
                                    }
                                ]
                            },
                            "data": [
                                {
                                    "0": "1",
                                    "1": "William",
                                    "2": "Turner",
                                    "3": "BR",
                                    "4": "1972-05-27",
                                    "5": "1225 Tremont St.",
                                    "6": "Boston",
                                    "7": "MA",
                                    "8": "USA",
                                    "9": "02138"
                                },
                                {
                                    "0": "2",
                                    "1": "Susan",
                                    "2": "Smith",
                                    "3": "BL",
                                    "4": "1975-11-02",
                                    "5": "23 Maple St.",
                                    "6": "Arlington",
                                    "7": "VA",
                                    "8": "USA",
                                    "9": "20220"
                                }
                            ]
                        },
                        "text/html": [
                            "<table>",
                            "<tr><th>person_id</th><th>fname</th><th>lname</th><th>eye_color</th><th>birth_date</th><th>street</th><th>city</th><th>state</th><th>country</th><th>postal_code</th></tr>",
                            "<tr><td>1</td><td>William</td><td>Turner</td><td>BR</td><td>1972-05-27</td><td>1225 Tremont St.</td><td>Boston</td><td>MA</td><td>USA</td><td>02138</td></tr>",
                            "<tr><td>2</td><td>Susan</td><td>Smith</td><td>BL</td><td>1975-11-02</td><td>23 Maple St.</td><td>Arlington</td><td>VA</td><td>USA</td><td>20220</td></tr>",
                            "</table>"
                        ]
                    }
                }
            ],
            "execution_count": 31
        },
        {
            "cell_type": "code",
            "source": [
                "DELETE FROM [person]\r\n",
                "WHERE person_id = 2"
            ],
            "metadata": {
                "azdata_cell_guid": "a528e064-0af2-46be-9998-cfa82bf99849"
            },
            "outputs": [
                {
                    "output_type": "display_data",
                    "data": {
                        "text/html": "(1 row affected)"
                    },
                    "metadata": {}
                },
                {
                    "output_type": "display_data",
                    "data": {
                        "text/html": "Total execution time: 00:00:00.003"
                    },
                    "metadata": {}
                }
            ],
            "execution_count": 32
        },
        {
            "cell_type": "code",
            "source": [
                "SELECT *\r\n",
                "FROM person"
            ],
            "metadata": {
                "azdata_cell_guid": "c6d576fa-d1e9-4cd2-a156-59aee116ac9e"
            },
            "outputs": [
                {
                    "output_type": "display_data",
                    "data": {
                        "text/html": "(1 row affected)"
                    },
                    "metadata": {}
                },
                {
                    "output_type": "display_data",
                    "data": {
                        "text/html": "Total execution time: 00:00:00.009"
                    },
                    "metadata": {}
                },
                {
                    "output_type": "execute_result",
                    "metadata": {},
                    "execution_count": 33,
                    "data": {
                        "application/vnd.dataresource+json": {
                            "schema": {
                                "fields": [
                                    {
                                        "name": "person_id"
                                    },
                                    {
                                        "name": "fname"
                                    },
                                    {
                                        "name": "lname"
                                    },
                                    {
                                        "name": "eye_color"
                                    },
                                    {
                                        "name": "birth_date"
                                    },
                                    {
                                        "name": "street"
                                    },
                                    {
                                        "name": "city"
                                    },
                                    {
                                        "name": "state"
                                    },
                                    {
                                        "name": "country"
                                    },
                                    {
                                        "name": "postal_code"
                                    }
                                ]
                            },
                            "data": [
                                {
                                    "0": "1",
                                    "1": "William",
                                    "2": "Turner",
                                    "3": "BR",
                                    "4": "1972-05-27",
                                    "5": "1225 Tremont St.",
                                    "6": "Boston",
                                    "7": "MA",
                                    "8": "USA",
                                    "9": "02138"
                                }
                            ]
                        },
                        "text/html": [
                            "<table>",
                            "<tr><th>person_id</th><th>fname</th><th>lname</th><th>eye_color</th><th>birth_date</th><th>street</th><th>city</th><th>state</th><th>country</th><th>postal_code</th></tr>",
                            "<tr><td>1</td><td>William</td><td>Turner</td><td>BR</td><td>1972-05-27</td><td>1225 Tremont St.</td><td>Boston</td><td>MA</td><td>USA</td><td>02138</td></tr>",
                            "</table>"
                        ]
                    }
                }
            ],
            "execution_count": 33
        },
        {
            "cell_type": "code",
            "source": [
                "INSERT INTO person\r\n",
                "    (fname, lname, eye_color, birth_date)\r\n",
                "VALUES\r\n",
                "    ('Charles', 'Fulton', 'GR', '1968-01-15')"
            ],
            "metadata": {
                "azdata_cell_guid": "1822ff42-9552-41c8-b835-4f1159aa40ba"
            },
            "outputs": [
                {
                    "output_type": "display_data",
                    "data": {
                        "text/html": "(1 row affected)"
                    },
                    "metadata": {}
                },
                {
                    "output_type": "display_data",
                    "data": {
                        "text/html": "Total execution time: 00:00:00.001"
                    },
                    "metadata": {}
                }
            ],
            "execution_count": 37
        },
        {
            "cell_type": "code",
            "source": [
                "INSERT INTO favorite_food (person_id, food)\r\n",
                "VALUES (999, 'lasagna');"
            ],
            "metadata": {
                "azdata_cell_guid": "25675427-1ee7-4bc8-b071-206843243fda"
            },
            "outputs": [
                {
                    "output_type": "error",
                    "evalue": "Msg 547, Level 16, State 0, Line 1\r\nA instrução INSERT conflitou com a restrição do FOREIGN KEY \"fk_fav_food_person_id\". O conflito ocorreu no banco de dados \"DB_SAKILA\", tabela \"dbo.person\", column 'person_id'.",
                    "ename": "",
                    "traceback": []
                },
                {
                    "output_type": "display_data",
                    "data": {
                        "text/html": "A instrução foi finalizada."
                    },
                    "metadata": {}
                },
                {
                    "output_type": "display_data",
                    "data": {
                        "text/html": "Total execution time: 00:00:00.007"
                    },
                    "metadata": {}
                }
            ],
            "execution_count": 38
        },
        {
            "cell_type": "code",
            "source": [
                "UPDATE person\r\n",
                "SET birth_date = 'DEC-21-1980'\r\n",
                "WHERE person_id = 1;"
            ],
            "metadata": {
                "azdata_cell_guid": "ba74fbd1-dc31-4e03-bba9-7c1e7d95a5e1"
            },
            "outputs": [
                {
                    "output_type": "error",
                    "evalue": "Msg 241, Level 16, State 1, Line 1\r\nFalha ao converter data e/ou hora da cadeia de caracteres.",
                    "ename": "",
                    "traceback": []
                },
                {
                    "output_type": "display_data",
                    "data": {
                        "text/html": "Total execution time: 00:00:00.008"
                    },
                    "metadata": {}
                }
            ],
            "execution_count": 39
        },
        {
            "cell_type": "code",
            "source": [
                "UPDATE person\r\n",
                "SET birth_date = '1980-12-21'\r\n",
                "WHERE person_id = 1;"
            ],
            "metadata": {
                "azdata_cell_guid": "5444d354-8a82-428d-9581-56694fd9a7f0"
            },
            "outputs": [
                {
                    "output_type": "display_data",
                    "data": {
                        "text/html": "(1 row affected)"
                    },
                    "metadata": {}
                },
                {
                    "output_type": "display_data",
                    "data": {
                        "text/html": "Total execution time: 00:00:00.002"
                    },
                    "metadata": {}
                }
            ],
            "execution_count": 46
        },
        {
            "cell_type": "code",
            "source": [
                ""
            ],
            "metadata": {
                "azdata_cell_guid": "d7b2a037-96b0-48bb-a6f4-25416346eac8"
            },
            "outputs": [
                {
                    "output_type": "display_data",
                    "data": {
                        "text/html": "Total execution time: 00:00:00.002"
                    },
                    "metadata": {}
                },
                {
                    "output_type": "execute_result",
                    "metadata": {},
                    "execution_count": 47,
                    "data": {
                        "application/vnd.dataresource+json": {
                            "schema": {
                                "fields": [
                                    {
                                        "name": "(No column name)"
                                    }
                                ]
                            },
                            "data": []
                        },
                        "text/html": [
                            "<table>",
                            "<tr><th>(No column name)</th></tr>",
                            "</table>"
                        ]
                    }
                },
                {
                    "output_type": "error",
                    "evalue": "Msg 242, Level 16, State 3, Line 1\r\nA conversão de um tipo de dados varchar em um tipo de dados datetime resultou em um valor fora do intervalo.",
                    "ename": "",
                    "traceback": []
                }
            ],
            "execution_count": 47
        },
        {
            "cell_type": "code",
            "source": [
                "SELECT *\r\n",
                "FROM    SYSOBJECTS\r\n",
                "WHERE xtype = 'U'"
            ],
            "metadata": {
                "azdata_cell_guid": "6f75705e-585e-4cbf-80cc-6547611f7a60"
            },
            "outputs": [
                {
                    "output_type": "display_data",
                    "data": {
                        "text/html": "(18 rows affected)"
                    },
                    "metadata": {}
                },
                {
                    "output_type": "display_data",
                    "data": {
                        "text/html": "Total execution time: 00:00:00.020"
                    },
                    "metadata": {}
                },
                {
                    "output_type": "execute_result",
                    "metadata": {},
                    "execution_count": 49,
                    "data": {
                        "application/vnd.dataresource+json": {
                            "schema": {
                                "fields": [
                                    {
                                        "name": "name"
                                    },
                                    {
                                        "name": "id"
                                    },
                                    {
                                        "name": "xtype"
                                    },
                                    {
                                        "name": "uid"
                                    },
                                    {
                                        "name": "info"
                                    },
                                    {
                                        "name": "status"
                                    },
                                    {
                                        "name": "base_schema_ver"
                                    },
                                    {
                                        "name": "replinfo"
                                    },
                                    {
                                        "name": "parent_obj"
                                    },
                                    {
                                        "name": "crdate"
                                    },
                                    {
                                        "name": "ftcatid"
                                    },
                                    {
                                        "name": "schema_ver"
                                    },
                                    {
                                        "name": "stats_schema_ver"
                                    },
                                    {
                                        "name": "type"
                                    },
                                    {
                                        "name": "userstat"
                                    },
                                    {
                                        "name": "sysstat"
                                    },
                                    {
                                        "name": "indexdel"
                                    },
                                    {
                                        "name": "refdate"
                                    },
                                    {
                                        "name": "version"
                                    },
                                    {
                                        "name": "deltrig"
                                    },
                                    {
                                        "name": "instrig"
                                    },
                                    {
                                        "name": "updtrig"
                                    },
                                    {
                                        "name": "seltrig"
                                    },
                                    {
                                        "name": "category"
                                    },
                                    {
                                        "name": "cache"
                                    }
                                ]
                            },
                            "data": [
                                {
                                    "0": "actor",
                                    "1": "629577281",
                                    "2": "U ",
                                    "3": "1",
                                    "4": "0",
                                    "5": "0",
                                    "6": "0",
                                    "7": "0",
                                    "8": "0",
                                    "9": "2021-03-02 05:09:29.977",
                                    "10": "0",
                                    "11": "0",
                                    "12": "0",
                                    "13": "U ",
                                    "14": "1",
                                    "15": "3",
                                    "16": "0",
                                    "17": "2021-03-02 05:09:29.977",
                                    "18": "0",
                                    "19": "0",
                                    "20": "0",
                                    "21": "0",
                                    "22": "0",
                                    "23": "0",
                                    "24": "0"
                                },
                                {
                                    "0": "country",
                                    "1": "677577452",
                                    "2": "U ",
                                    "3": "1",
                                    "4": "0",
                                    "5": "0",
                                    "6": "0",
                                    "7": "0",
                                    "8": "0",
                                    "9": "2021-03-02 05:09:30.047",
                                    "10": "0",
                                    "11": "0",
                                    "12": "0",
                                    "13": "U ",
                                    "14": "1",
                                    "15": "3",
                                    "16": "0",
                                    "17": "2021-03-02 05:09:30.047",
                                    "18": "0",
                                    "19": "0",
                                    "20": "0",
                                    "21": "0",
                                    "22": "0",
                                    "23": "0",
                                    "24": "0"
                                },
                                {
                                    "0": "city",
                                    "1": "725577623",
                                    "2": "U ",
                                    "3": "1",
                                    "4": "0",
                                    "5": "0",
                                    "6": "0",
                                    "7": "0",
                                    "8": "0",
                                    "9": "2021-03-02 05:09:30.053",
                                    "10": "0",
                                    "11": "0",
                                    "12": "0",
                                    "13": "U ",
                                    "14": "1",
                                    "15": "3",
                                    "16": "0",
                                    "17": "2021-03-02 05:09:30.053",
                                    "18": "0",
                                    "19": "0",
                                    "20": "0",
                                    "21": "0",
                                    "22": "0",
                                    "23": "0",
                                    "24": "0"
                                },
                                {
                                    "0": "address",
                                    "1": "789577851",
                                    "2": "U ",
                                    "3": "1",
                                    "4": "0",
                                    "5": "0",
                                    "6": "0",
                                    "7": "0",
                                    "8": "0",
                                    "9": "2021-03-02 05:09:30.067",
                                    "10": "0",
                                    "11": "0",
                                    "12": "0",
                                    "13": "U ",
                                    "14": "1",
                                    "15": "3",
                                    "16": "0",
                                    "17": "2021-03-02 05:09:30.067",
                                    "18": "0",
                                    "19": "0",
                                    "20": "0",
                                    "21": "0",
                                    "22": "0",
                                    "23": "0",
                                    "24": "0"
                                },
                                {
                                    "0": "language",
                                    "1": "885578193",
                                    "2": "U ",
                                    "3": "1",
                                    "4": "0",
                                    "5": "0",
                                    "6": "0",
                                    "7": "0",
                                    "8": "0",
                                    "9": "2021-03-02 05:09:30.090",
                                    "10": "0",
                                    "11": "0",
                                    "12": "0",
                                    "13": "U ",
                                    "14": "1",
                                    "15": "3",
                                    "16": "0",
                                    "17": "2021-03-02 05:09:30.090",
                                    "18": "0",
                                    "19": "0",
                                    "20": "0",
                                    "21": "0",
                                    "22": "0",
                                    "23": "0",
                                    "24": "0"
                                },
                                {
                                    "0": "category",
                                    "1": "933578364",
                                    "2": "U ",
                                    "3": "1",
                                    "4": "0",
                                    "5": "0",
                                    "6": "0",
                                    "7": "0",
                                    "8": "0",
                                    "9": "2021-03-02 05:09:30.093",
                                    "10": "0",
                                    "11": "0",
                                    "12": "0",
                                    "13": "U ",
                                    "14": "1",
                                    "15": "3",
                                    "16": "0",
                                    "17": "2021-03-02 05:09:30.093",
                                    "18": "0",
                                    "19": "0",
                                    "20": "0",
                                    "21": "0",
                                    "22": "0",
                                    "23": "0",
                                    "24": "0"
                                },
                                {
                                    "0": "customer",
                                    "1": "981578535",
                                    "2": "U ",
                                    "3": "1",
                                    "4": "0",
                                    "5": "0",
                                    "6": "0",
                                    "7": "0",
                                    "8": "0",
                                    "9": "2021-03-02 05:09:30.173",
                                    "10": "0",
                                    "11": "0",
                                    "12": "0",
                                    "13": "U ",
                                    "14": "1",
                                    "15": "3",
                                    "16": "0",
                                    "17": "2021-03-02 05:09:30.173",
                                    "18": "0",
                                    "19": "0",
                                    "20": "0",
                                    "21": "0",
                                    "22": "0",
                                    "23": "0",
                                    "24": "0"
                                },
                                {
                                    "0": "film",
                                    "1": "1093578934",
                                    "2": "U ",
                                    "3": "1",
                                    "4": "0",
                                    "5": "0",
                                    "6": "0",
                                    "7": "0",
                                    "8": "0",
                                    "9": "2021-03-02 05:09:30.203",
                                    "10": "0",
                                    "11": "0",
                                    "12": "0",
                                    "13": "U ",
                                    "14": "1",
                                    "15": "3",
                                    "16": "0",
                                    "17": "2021-03-02 05:09:30.203",
                                    "18": "0",
                                    "19": "0",
                                    "20": "0",
                                    "21": "0",
                                    "22": "0",
                                    "23": "0",
                                    "24": "0"
                                },
                                {
                                    "0": "film_actor",
                                    "1": "1333579789",
                                    "2": "U ",
                                    "3": "1",
                                    "4": "0",
                                    "5": "0",
                                    "6": "0",
                                    "7": "0",
                                    "8": "0",
                                    "9": "2021-03-02 05:09:30.233",
                                    "10": "0",
                                    "11": "0",
                                    "12": "0",
                                    "13": "U ",
                                    "14": "1",
                                    "15": "3",
                                    "16": "0",
                                    "17": "2021-03-02 05:09:30.233",
                                    "18": "0",
                                    "19": "0",
                                    "20": "0",
                                    "21": "0",
                                    "22": "0",
                                    "23": "0",
                                    "24": "0"
                                },
                                {
                                    "0": "film_category",
                                    "1": "1413580074",
                                    "2": "U ",
                                    "3": "1",
                                    "4": "0",
                                    "5": "0",
                                    "6": "0",
                                    "7": "0",
                                    "8": "0",
                                    "9": "2021-03-02 05:09:30.310",
                                    "10": "0",
                                    "11": "0",
                                    "12": "0",
                                    "13": "U ",
                                    "14": "1",
                                    "15": "3",
                                    "16": "0",
                                    "17": "2021-03-02 05:09:30.310",
                                    "18": "0",
                                    "19": "0",
                                    "20": "0",
                                    "21": "0",
                                    "22": "0",
                                    "23": "0",
                                    "24": "0"
                                },
                                {
                                    "0": "film_text",
                                    "1": "1493580359",
                                    "2": "U ",
                                    "3": "1",
                                    "4": "0",
                                    "5": "0",
                                    "6": "0",
                                    "7": "0",
                                    "8": "0",
                                    "9": "2021-03-02 05:09:30.327",
                                    "10": "0",
                                    "11": "0",
                                    "12": "0",
                                    "13": "U ",
                                    "14": "1",
                                    "15": "3",
                                    "16": "0",
                                    "17": "2021-03-02 05:09:30.327",
                                    "18": "0",
                                    "19": "0",
                                    "20": "0",
                                    "21": "0",
                                    "22": "0",
                                    "23": "0",
                                    "24": "0"
                                },
                                {
                                    "0": "inventory",
                                    "1": "1525580473",
                                    "2": "U ",
                                    "3": "1",
                                    "4": "0",
                                    "5": "0",
                                    "6": "0",
                                    "7": "0",
                                    "8": "0",
                                    "9": "2021-03-02 05:09:30.330",
                                    "10": "0",
                                    "11": "0",
                                    "12": "0",
                                    "13": "U ",
                                    "14": "1",
                                    "15": "3",
                                    "16": "0",
                                    "17": "2021-03-02 05:09:30.330",
                                    "18": "0",
                                    "19": "0",
                                    "20": "0",
                                    "21": "0",
                                    "22": "0",
                                    "23": "0",
                                    "24": "0"
                                },
                                {
                                    "0": "staff",
                                    "1": "1589580701",
                                    "2": "U ",
                                    "3": "1",
                                    "4": "0",
                                    "5": "0",
                                    "6": "0",
                                    "7": "0",
                                    "8": "0",
                                    "9": "2021-03-02 05:09:30.350",
                                    "10": "0",
                                    "11": "0",
                                    "12": "0",
                                    "13": "U ",
                                    "14": "1",
                                    "15": "3",
                                    "16": "0",
                                    "17": "2021-03-02 05:09:30.350",
                                    "18": "0",
                                    "19": "0",
                                    "20": "0",
                                    "21": "0",
                                    "22": "0",
                                    "23": "0",
                                    "24": "0"
                                },
                                {
                                    "0": "store",
                                    "1": "1717581157",
                                    "2": "U ",
                                    "3": "1",
                                    "4": "0",
                                    "5": "0",
                                    "6": "0",
                                    "7": "0",
                                    "8": "0",
                                    "9": "2021-03-02 05:09:30.360",
                                    "10": "0",
                                    "11": "0",
                                    "12": "0",
                                    "13": "U ",
                                    "14": "1",
                                    "15": "3",
                                    "16": "0",
                                    "17": "2021-03-02 05:09:30.360",
                                    "18": "0",
                                    "19": "0",
                                    "20": "0",
                                    "21": "0",
                                    "22": "0",
                                    "23": "0",
                                    "24": "0"
                                },
                                {
                                    "0": "person",
                                    "1": "1730105204",
                                    "2": "U ",
                                    "3": "1",
                                    "4": "0",
                                    "5": "0",
                                    "6": "0",
                                    "7": "0",
                                    "8": "0",
                                    "9": "2021-03-08 03:35:20.813",
                                    "10": "0",
                                    "11": "0",
                                    "12": "0",
                                    "13": "U ",
                                    "14": "1",
                                    "15": "3",
                                    "16": "0",
                                    "17": "2021-03-08 03:35:20.813",
                                    "18": "0",
                                    "19": "0",
                                    "20": "0",
                                    "21": "0",
                                    "22": "0",
                                    "23": "0",
                                    "24": "0"
                                },
                                {
                                    "0": "favorite_food",
                                    "1": "1762105318",
                                    "2": "U ",
                                    "3": "1",
                                    "4": "0",
                                    "5": "0",
                                    "6": "0",
                                    "7": "0",
                                    "8": "0",
                                    "9": "2021-03-08 03:35:20.900",
                                    "10": "0",
                                    "11": "0",
                                    "12": "0",
                                    "13": "U ",
                                    "14": "1",
                                    "15": "3",
                                    "16": "0",
                                    "17": "2021-03-08 03:35:20.900",
                                    "18": "0",
                                    "19": "0",
                                    "20": "0",
                                    "21": "0",
                                    "22": "0",
                                    "23": "0",
                                    "24": "0"
                                },
                                {
                                    "0": "payment",
                                    "1": "1797581442",
                                    "2": "U ",
                                    "3": "1",
                                    "4": "0",
                                    "5": "0",
                                    "6": "0",
                                    "7": "0",
                                    "8": "0",
                                    "9": "2021-03-02 05:09:30.437",
                                    "10": "0",
                                    "11": "0",
                                    "12": "0",
                                    "13": "U ",
                                    "14": "1",
                                    "15": "3",
                                    "16": "0",
                                    "17": "2021-03-02 05:09:30.437",
                                    "18": "0",
                                    "19": "0",
                                    "20": "0",
                                    "21": "0",
                                    "22": "0",
                                    "23": "0",
                                    "24": "0"
                                },
                                {
                                    "0": "rental",
                                    "1": "1893581784",
                                    "2": "U ",
                                    "3": "1",
                                    "4": "0",
                                    "5": "0",
                                    "6": "0",
                                    "7": "0",
                                    "8": "0",
                                    "9": "2021-03-02 05:09:30.457",
                                    "10": "0",
                                    "11": "0",
                                    "12": "0",
                                    "13": "U ",
                                    "14": "1",
                                    "15": "3",
                                    "16": "0",
                                    "17": "2021-03-02 05:09:30.457",
                                    "18": "0",
                                    "19": "0",
                                    "20": "0",
                                    "21": "0",
                                    "22": "0",
                                    "23": "0",
                                    "24": "0"
                                }
                            ]
                        },
                        "text/html": [
                            "<table>",
                            "<tr><th>name</th><th>id</th><th>xtype</th><th>uid</th><th>info</th><th>status</th><th>base_schema_ver</th><th>replinfo</th><th>parent_obj</th><th>crdate</th><th>ftcatid</th><th>schema_ver</th><th>stats_schema_ver</th><th>type</th><th>userstat</th><th>sysstat</th><th>indexdel</th><th>refdate</th><th>version</th><th>deltrig</th><th>instrig</th><th>updtrig</th><th>seltrig</th><th>category</th><th>cache</th></tr>",
                            "<tr><td>actor</td><td>629577281</td><td>U </td><td>1</td><td>0</td><td>0</td><td>0</td><td>0</td><td>0</td><td>2021-03-02 05:09:29.977</td><td>0</td><td>0</td><td>0</td><td>U </td><td>1</td><td>3</td><td>0</td><td>2021-03-02 05:09:29.977</td><td>0</td><td>0</td><td>0</td><td>0</td><td>0</td><td>0</td><td>0</td></tr>",
                            "<tr><td>country</td><td>677577452</td><td>U </td><td>1</td><td>0</td><td>0</td><td>0</td><td>0</td><td>0</td><td>2021-03-02 05:09:30.047</td><td>0</td><td>0</td><td>0</td><td>U </td><td>1</td><td>3</td><td>0</td><td>2021-03-02 05:09:30.047</td><td>0</td><td>0</td><td>0</td><td>0</td><td>0</td><td>0</td><td>0</td></tr>",
                            "<tr><td>city</td><td>725577623</td><td>U </td><td>1</td><td>0</td><td>0</td><td>0</td><td>0</td><td>0</td><td>2021-03-02 05:09:30.053</td><td>0</td><td>0</td><td>0</td><td>U </td><td>1</td><td>3</td><td>0</td><td>2021-03-02 05:09:30.053</td><td>0</td><td>0</td><td>0</td><td>0</td><td>0</td><td>0</td><td>0</td></tr>",
                            "<tr><td>address</td><td>789577851</td><td>U </td><td>1</td><td>0</td><td>0</td><td>0</td><td>0</td><td>0</td><td>2021-03-02 05:09:30.067</td><td>0</td><td>0</td><td>0</td><td>U </td><td>1</td><td>3</td><td>0</td><td>2021-03-02 05:09:30.067</td><td>0</td><td>0</td><td>0</td><td>0</td><td>0</td><td>0</td><td>0</td></tr>",
                            "<tr><td>language</td><td>885578193</td><td>U </td><td>1</td><td>0</td><td>0</td><td>0</td><td>0</td><td>0</td><td>2021-03-02 05:09:30.090</td><td>0</td><td>0</td><td>0</td><td>U </td><td>1</td><td>3</td><td>0</td><td>2021-03-02 05:09:30.090</td><td>0</td><td>0</td><td>0</td><td>0</td><td>0</td><td>0</td><td>0</td></tr>",
                            "<tr><td>category</td><td>933578364</td><td>U </td><td>1</td><td>0</td><td>0</td><td>0</td><td>0</td><td>0</td><td>2021-03-02 05:09:30.093</td><td>0</td><td>0</td><td>0</td><td>U </td><td>1</td><td>3</td><td>0</td><td>2021-03-02 05:09:30.093</td><td>0</td><td>0</td><td>0</td><td>0</td><td>0</td><td>0</td><td>0</td></tr>",
                            "<tr><td>customer</td><td>981578535</td><td>U </td><td>1</td><td>0</td><td>0</td><td>0</td><td>0</td><td>0</td><td>2021-03-02 05:09:30.173</td><td>0</td><td>0</td><td>0</td><td>U </td><td>1</td><td>3</td><td>0</td><td>2021-03-02 05:09:30.173</td><td>0</td><td>0</td><td>0</td><td>0</td><td>0</td><td>0</td><td>0</td></tr>",
                            "<tr><td>film</td><td>1093578934</td><td>U </td><td>1</td><td>0</td><td>0</td><td>0</td><td>0</td><td>0</td><td>2021-03-02 05:09:30.203</td><td>0</td><td>0</td><td>0</td><td>U </td><td>1</td><td>3</td><td>0</td><td>2021-03-02 05:09:30.203</td><td>0</td><td>0</td><td>0</td><td>0</td><td>0</td><td>0</td><td>0</td></tr>",
                            "<tr><td>film_actor</td><td>1333579789</td><td>U </td><td>1</td><td>0</td><td>0</td><td>0</td><td>0</td><td>0</td><td>2021-03-02 05:09:30.233</td><td>0</td><td>0</td><td>0</td><td>U </td><td>1</td><td>3</td><td>0</td><td>2021-03-02 05:09:30.233</td><td>0</td><td>0</td><td>0</td><td>0</td><td>0</td><td>0</td><td>0</td></tr>",
                            "<tr><td>film_category</td><td>1413580074</td><td>U </td><td>1</td><td>0</td><td>0</td><td>0</td><td>0</td><td>0</td><td>2021-03-02 05:09:30.310</td><td>0</td><td>0</td><td>0</td><td>U </td><td>1</td><td>3</td><td>0</td><td>2021-03-02 05:09:30.310</td><td>0</td><td>0</td><td>0</td><td>0</td><td>0</td><td>0</td><td>0</td></tr>",
                            "<tr><td>film_text</td><td>1493580359</td><td>U </td><td>1</td><td>0</td><td>0</td><td>0</td><td>0</td><td>0</td><td>2021-03-02 05:09:30.327</td><td>0</td><td>0</td><td>0</td><td>U </td><td>1</td><td>3</td><td>0</td><td>2021-03-02 05:09:30.327</td><td>0</td><td>0</td><td>0</td><td>0</td><td>0</td><td>0</td><td>0</td></tr>",
                            "<tr><td>inventory</td><td>1525580473</td><td>U </td><td>1</td><td>0</td><td>0</td><td>0</td><td>0</td><td>0</td><td>2021-03-02 05:09:30.330</td><td>0</td><td>0</td><td>0</td><td>U </td><td>1</td><td>3</td><td>0</td><td>2021-03-02 05:09:30.330</td><td>0</td><td>0</td><td>0</td><td>0</td><td>0</td><td>0</td><td>0</td></tr>",
                            "<tr><td>staff</td><td>1589580701</td><td>U </td><td>1</td><td>0</td><td>0</td><td>0</td><td>0</td><td>0</td><td>2021-03-02 05:09:30.350</td><td>0</td><td>0</td><td>0</td><td>U </td><td>1</td><td>3</td><td>0</td><td>2021-03-02 05:09:30.350</td><td>0</td><td>0</td><td>0</td><td>0</td><td>0</td><td>0</td><td>0</td></tr>",
                            "<tr><td>store</td><td>1717581157</td><td>U </td><td>1</td><td>0</td><td>0</td><td>0</td><td>0</td><td>0</td><td>2021-03-02 05:09:30.360</td><td>0</td><td>0</td><td>0</td><td>U </td><td>1</td><td>3</td><td>0</td><td>2021-03-02 05:09:30.360</td><td>0</td><td>0</td><td>0</td><td>0</td><td>0</td><td>0</td><td>0</td></tr>",
                            "<tr><td>person</td><td>1730105204</td><td>U </td><td>1</td><td>0</td><td>0</td><td>0</td><td>0</td><td>0</td><td>2021-03-08 03:35:20.813</td><td>0</td><td>0</td><td>0</td><td>U </td><td>1</td><td>3</td><td>0</td><td>2021-03-08 03:35:20.813</td><td>0</td><td>0</td><td>0</td><td>0</td><td>0</td><td>0</td><td>0</td></tr>",
                            "<tr><td>favorite_food</td><td>1762105318</td><td>U </td><td>1</td><td>0</td><td>0</td><td>0</td><td>0</td><td>0</td><td>2021-03-08 03:35:20.900</td><td>0</td><td>0</td><td>0</td><td>U </td><td>1</td><td>3</td><td>0</td><td>2021-03-08 03:35:20.900</td><td>0</td><td>0</td><td>0</td><td>0</td><td>0</td><td>0</td><td>0</td></tr>",
                            "<tr><td>payment</td><td>1797581442</td><td>U </td><td>1</td><td>0</td><td>0</td><td>0</td><td>0</td><td>0</td><td>2021-03-02 05:09:30.437</td><td>0</td><td>0</td><td>0</td><td>U </td><td>1</td><td>3</td><td>0</td><td>2021-03-02 05:09:30.437</td><td>0</td><td>0</td><td>0</td><td>0</td><td>0</td><td>0</td><td>0</td></tr>",
                            "<tr><td>rental</td><td>1893581784</td><td>U </td><td>1</td><td>0</td><td>0</td><td>0</td><td>0</td><td>0</td><td>2021-03-02 05:09:30.457</td><td>0</td><td>0</td><td>0</td><td>U </td><td>1</td><td>3</td><td>0</td><td>2021-03-02 05:09:30.457</td><td>0</td><td>0</td><td>0</td><td>0</td><td>0</td><td>0</td><td>0</td></tr>",
                            "</table>"
                        ]
                    }
                }
            ],
            "execution_count": 49
        },
        {
            "cell_type": "code",
            "source": [
                "DROP TABLE favorite_food;"
            ],
            "metadata": {
                "azdata_cell_guid": "3856bdec-0b2a-4032-babd-278305cd09d2"
            },
            "outputs": [
                {
                    "output_type": "display_data",
                    "data": {
                        "text/html": "Commands completed successfully."
                    },
                    "metadata": {}
                },
                {
                    "output_type": "display_data",
                    "data": {
                        "text/html": "Total execution time: 00:00:00.015"
                    },
                    "metadata": {}
                }
            ],
            "execution_count": 54
        },
        {
            "cell_type": "code",
            "source": [
                "DROP TABLE person;"
            ],
            "metadata": {
                "azdata_cell_guid": "ca4833b0-f796-4875-b2ef-e56d5e753aa1"
            },
            "outputs": [
                {
                    "output_type": "display_data",
                    "data": {
                        "text/html": "Commands completed successfully."
                    },
                    "metadata": {}
                },
                {
                    "output_type": "display_data",
                    "data": {
                        "text/html": "Total execution time: 00:00:00.003"
                    },
                    "metadata": {}
                }
            ],
            "execution_count": 55
        }
    ]
}