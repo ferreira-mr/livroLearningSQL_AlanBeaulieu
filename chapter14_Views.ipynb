{
    "metadata": {
        "kernelspec": {
            "name": "SQL",
            "display_name": "SQL",
            "language": "sql"
        },
        "language_info": {
            "name": "sql",
            "version": ""
        }
    },
    "nbformat_minor": 2,
    "nbformat": 4,
    "cells": [
        {
            "cell_type": "markdown",
            "source": [
                "# CHAPTER 14 - VIEWS"
            ],
            "metadata": {
                "azdata_cell_guid": "65b37abd-977f-41bd-8cb5-a902993eb7ca"
            }
        },
        {
            "cell_type": "markdown",
            "source": [
                "Only theoretical explanations and some examples."
            ],
            "metadata": {
                "azdata_cell_guid": "2088293a-9e8d-4735-8ee7-8a761ea7b991"
            }
        }
    ]
}