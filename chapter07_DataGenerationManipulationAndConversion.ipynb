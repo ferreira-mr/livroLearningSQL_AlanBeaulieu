{
    "metadata": {
        "kernelspec": {
            "name": "SQL",
            "display_name": "SQL",
            "language": "sql"
        },
        "language_info": {
            "name": "sql",
            "version": ""
        }
    },
    "nbformat_minor": 2,
    "nbformat": 4,
    "cells": [
        {
            "cell_type": "markdown",
            "source": [
                "# CHAPTER 07 - DATA GENERATION, MANIPULATION AND CONVERSION"
            ],
            "metadata": {
                "azdata_cell_guid": "fc397596-b654-4d5e-9578-02eea3772500"
            }
        },
        {
            "cell_type": "code",
            "source": [
                "CREATE TABLE #string_tbl\n",
                "(char_fld CHAR(30),\n",
                "vchar_fld VARCHAR(30),\n",
                "text_fld TEXT\n",
                ");"
            ],
            "metadata": {
                "azdata_cell_guid": "76cd84a2-df13-4a52-a02c-8d0f7dc46d9e",
                "tags": []
            },
            "outputs": [
                {
                    "output_type": "display_data",
                    "data": {
                        "text/html": "Commands completed successfully."
                    },
                    "metadata": {}
                },
                {
                    "output_type": "display_data",
                    "data": {
                        "text/html": "Total execution time: 00:00:00.006"
                    },
                    "metadata": {}
                }
            ],
            "execution_count": 3
        },
        {
            "cell_type": "code",
            "source": [
                "INSERT INTO #string_tbl (char_fld, vchar_fld, text_fld)\n",
                "VALUES ('This is char data',\n",
                "'This is varchar data',\n",
                "'This is text data');"
            ],
            "metadata": {
                "azdata_cell_guid": "dea97aec-c3fe-4fd6-9f62-4dd1fc6b9ea7",
                "tags": []
            },
            "outputs": [
                {
                    "output_type": "display_data",
                    "data": {
                        "text/html": "(1 row affected)"
                    },
                    "metadata": {}
                },
                {
                    "output_type": "display_data",
                    "data": {
                        "text/html": "Total execution time: 00:00:00.004"
                    },
                    "metadata": {}
                }
            ],
            "execution_count": 4
        },
        {
            "cell_type": "code",
            "source": [
                "SELECT *\n",
                "FROM #string_tbl"
            ],
            "metadata": {
                "azdata_cell_guid": "5d722bbe-f9eb-4d93-a319-0b05658eb183"
            },
            "outputs": [
{
    "output_type": "display_data",
    "data": {
        "text/html": "(1 row affected)"
    },
    "metadata": {}
}, {
    "output_type": "display_data",
    "data": {
        "text/html": "Total execution time: 00:00:00.017"
    },
    "metadata": {}
}, {
    "output_type": "execute_result",
    "metadata": {},
    "execution_count": 5,
    "data": {
        "application/vnd.dataresource+json": {
            "schema": {
                "fields": [
                    {
                        "name": "char_fld"
                    },
                    {
                        "name": "vchar_fld"
                    },
                    {
                        "name": "text_fld"
                    }
                ]
            },
            "data": [
                {
                    "0": "This is char data             ",
                    "1": "This is varchar data",
                    "2": "This is text data"
                }
            ]
        },
        "text/html": [
            "<table>",
            "<tr><th>char_fld</th><th>vchar_fld</th><th>text_fld</th></tr>",
            "<tr><td>This is char data             </td><td>This is varchar data</td><td>This is text data</td></tr>",
            "</table>"
        ]
    }
}
],
            "execution_count": null
        }
    ]
}