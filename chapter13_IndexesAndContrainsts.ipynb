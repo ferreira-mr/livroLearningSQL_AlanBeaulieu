{
    "metadata": {
        "kernelspec": {
            "name": "SQL",
            "display_name": "SQL",
            "language": "sql"
        },
        "language_info": {
            "name": "sql",
            "version": ""
        }
    },
    "nbformat_minor": 2,
    "nbformat": 4,
    "cells": [
        {
            "cell_type": "markdown",
            "source": [
                "# CHAPTER 13 - INDEXES AND CONSTRAINTS"
            ],
            "metadata": {
                "azdata_cell_guid": "a28a5b33-9230-4af1-869e-a7d303e84ef6"
            }
        },
        {
            "cell_type": "markdown",
            "source": [
                "Only theoretical explanations."
            ],
            "metadata": {
                "azdata_cell_guid": "ec53c348-af28-4acb-a2a7-b1f21710b63a"
            }
        }
    ]
}