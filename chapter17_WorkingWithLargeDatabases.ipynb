{
  "nbformat": 4,
  "nbformat_minor": 0,
  "metadata": {
    "kernelspec": {
      "name": "SQL",
      "display_name": "SQL",
      "language": "sql"
    },
    "language_info": {
      "name": "sql",
      "version": ""
    },
    "colab": {
      "name": "chapter17_WorkingWithLargeDatabases.ipynb",
      "provenance": [],
      "include_colab_link": true
    }
  },
  "cells": [
    {
      "cell_type": "markdown",
      "metadata": {
        "id": "view-in-github",
        "colab_type": "text"
      },
      "source": [
        "<a href=\"https://colab.research.google.com/github/ferreiramr/livroLearningSQL_AlanBeaulieu/blob/main/chapter17_WorkingWithLargeDatabases.ipynb\" target=\"_parent\"><img src=\"https://colab.research.google.com/assets/colab-badge.svg\" alt=\"Open In Colab\"/></a>"
      ]
    },
    {
      "cell_type": "markdown",
      "metadata": {
        "azdata_cell_guid": "47fe3dd4-7c6b-4149-adc7-7a2b63aa6359",
        "id": "zo5FLemSnc7b"
      },
      "source": [
        "# CHAPTER 17 - WORKING WITH LARGE DATABASES"
      ]
    },
    {
      "cell_type": "markdown",
      "metadata": {
        "id": "ZZzra3y5qB-o"
      },
      "source": [
        "Only theoretical explanations and some examples."
      ]
    }
  ]
}