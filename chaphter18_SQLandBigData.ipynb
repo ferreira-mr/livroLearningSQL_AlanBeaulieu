{
  "nbformat": 4,
  "nbformat_minor": 0,
  "metadata": {
    "colab": {
      "name": "chaphter18_SQLandBigData.ipynb",
      "provenance": [],
      "authorship_tag": "ABX9TyMKkInyfA4kRweA/2XXRCS6",
      "include_colab_link": true
    },
    "kernelspec": {
      "name": "python3",
      "display_name": "Python 3"
    },
    "language_info": {
      "name": "python"
    }
  },
  "cells": [
    {
      "cell_type": "markdown",
      "metadata": {
        "id": "view-in-github",
        "colab_type": "text"
      },
      "source": [
        "<a href=\"https://colab.research.google.com/github/ferreiramr/livroLearningSQL_AlanBeaulieu/blob/main/chaphter18_SQLandBigData.ipynb\" target=\"_parent\"><img src=\"https://colab.research.google.com/assets/colab-badge.svg\" alt=\"Open In Colab\"/></a>"
      ]
    },
    {
      "cell_type": "markdown",
      "metadata": {
        "id": "lZK6q6vIqVSK"
      },
      "source": [
        "# CHAPTER 18 - SQL AND BIG DATA"
      ]
    },
    {
      "cell_type": "markdown",
      "metadata": {
        "id": "0Vknf0G3uWQm"
      },
      "source": [
        "Introduction to apache drill.\n",
        "\n",
        "Continue your studies in the book [Learning Apache Drill - Charles Givre, Paul Rogers](https://www.oreilly.com/library/view/learning-apache-drill/9781492032786/)"
      ]
    }
  ]
}