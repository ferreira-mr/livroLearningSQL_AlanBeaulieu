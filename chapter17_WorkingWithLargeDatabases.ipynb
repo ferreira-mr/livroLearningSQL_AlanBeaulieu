{
    "metadata": {
        "kernelspec": {
            "name": "SQL",
            "display_name": "SQL",
            "language": "sql"
        },
        "language_info": {
            "name": "sql",
            "version": ""
        }
    },
    "nbformat_minor": 2,
    "nbformat": 4,
    "cells": [
        {
            "cell_type": "markdown",
            "source": [
                "# WORKING WITH LARGE DATABASES"
            ],
            "metadata": {
                "azdata_cell_guid": "47fe3dd4-7c6b-4149-adc7-7a2b63aa6359"
            }
        },
        {
            "cell_type": "code",
            "source": [
                ""
            ],
            "metadata": {
                "azdata_cell_guid": "cc3d54bd-885b-4ddb-9f24-cd8c83a6d61a"
            },
            "outputs": [],
            "execution_count": null
        }
    ]
}