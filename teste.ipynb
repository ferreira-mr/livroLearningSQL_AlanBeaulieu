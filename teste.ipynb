{
    "metadata": {
        "kernelspec": {
            "name": "SQL",
            "display_name": "SQL",
            "language": "sql"
        },
        "language_info": {
            "name": "sql",
            "version": ""
        }
    },
    "nbformat_minor": 2,
    "nbformat": 4,
    "cells": [
        {
            "cell_type": "code",
            "source": [
                "SELECT name\r\n",
                "FROM language"
            ],
            "metadata": {
                "azdata_cell_guid": "77aaad21-ab09-46f2-b7a2-89dd13c42a90",
                "tags": []
            },
            "outputs": [
                {
                    "output_type": "display_data",
                    "data": {
                        "text/html": "(6 rows affected)"
                    },
                    "metadata": {}
                },
                {
                    "output_type": "display_data",
                    "data": {
                        "text/html": "Total execution time: 00:00:00.007"
                    },
                    "metadata": {}
                },
                {
                    "output_type": "execute_result",
                    "metadata": {
                        "resultSet": {
                            "id": 0,
                            "batchId": 0,
                            "rowCount": 6,
                            "complete": true,
                            "columnInfo": [
                                {
                                    "isBytes": false,
                                    "isChars": false,
                                    "isSqlVariant": false,
                                    "isUdt": false,
                                    "isXml": false,
                                    "isJson": false,
                                    "sqlDbType": 3,
                                    "isHierarchyId": false,
                                    "isSqlXmlType": false,
                                    "isUnknownType": false,
                                    "isUpdatable": true,
                                    "allowDBNull": false,
                                    "baseCatalogName": null,
                                    "baseColumnName": null,
                                    "baseSchemaName": null,
                                    "baseServerName": null,
                                    "baseTableName": null,
                                    "columnName": "name",
                                    "columnOrdinal": 0,
                                    "columnSize": 20,
                                    "isAliased": null,
                                    "isAutoIncrement": false,
                                    "isExpression": null,
                                    "isHidden": null,
                                    "isIdentity": false,
                                    "isKey": null,
                                    "isLong": false,
                                    "isReadOnly": false,
                                    "isUnique": false,
                                    "numericPrecision": 255,
                                    "numericScale": 255,
                                    "udtAssemblyQualifiedName": null,
                                    "dataType": "System.String, System.Private.CoreLib, Version=4.0.0.0, Culture=neutral, PublicKeyToken=7cec85d7bea7798e",
                                    "dataTypeName": "char"
                                }
                            ],
                            "specialAction": {
                                "none": true,
                                "expectYukonXMLShowPlan": false
                            }
                        }
                    },
                    "execution_count": 4,
                    "data": {
                        "application/vnd.dataresource+json": {
                            "schema": {
                                "fields": [
                                    {
                                        "name": "name"
                                    }
                                ]
                            },
                            "data": [
                                {
                                    "0": "English             "
                                },
                                {
                                    "0": "Italian             "
                                },
                                {
                                    "0": "Japanese            "
                                },
                                {
                                    "0": "Mandarin            "
                                },
                                {
                                    "0": "French              "
                                },
                                {
                                    "0": "German              "
                                }
                            ]
                        },
                        "text/html": [
                            "<table>",
                            "<tr><th>name</th></tr>",
                            "<tr><td>English             </td></tr>",
                            "<tr><td>Italian             </td></tr>",
                            "<tr><td>Japanese            </td></tr>",
                            "<tr><td>Mandarin            </td></tr>",
                            "<tr><td>French              </td></tr>",
                            "<tr><td>German              </td></tr>",
                            "</table>"
                        ]
                    }
                }
            ],
            "execution_count": 4
        },
        {
            "cell_type": "code",
            "source": [
                "SELECT *\r\n",
                "FROM category;"
            ],
            "metadata": {
                "azdata_cell_guid": "449c75e6-878b-4ddd-9c85-72b330c5c787"
            },
            "outputs": [
                {
                    "output_type": "display_data",
                    "data": {
                        "text/html": "(16 rows affected)"
                    },
                    "metadata": {}
                },
                {
                    "output_type": "display_data",
                    "data": {
                        "text/html": "Total execution time: 00:00:00.008"
                    },
                    "metadata": {}
                },
                {
                    "output_type": "execute_result",
                    "metadata": {
                        "resultSet": {
                            "id": 0,
                            "batchId": 0,
                            "rowCount": 16,
                            "complete": true,
                            "columnInfo": [
                                {
                                    "isBytes": false,
                                    "isChars": false,
                                    "isSqlVariant": false,
                                    "isUdt": false,
                                    "isXml": false,
                                    "isJson": false,
                                    "sqlDbType": 20,
                                    "isHierarchyId": false,
                                    "isSqlXmlType": false,
                                    "isUnknownType": false,
                                    "isUpdatable": false,
                                    "allowDBNull": false,
                                    "baseCatalogName": null,
                                    "baseColumnName": null,
                                    "baseSchemaName": null,
                                    "baseServerName": null,
                                    "baseTableName": null,
                                    "columnName": "category_id",
                                    "columnOrdinal": 0,
                                    "columnSize": 1,
                                    "isAliased": null,
                                    "isAutoIncrement": true,
                                    "isExpression": null,
                                    "isHidden": null,
                                    "isIdentity": true,
                                    "isKey": null,
                                    "isLong": false,
                                    "isReadOnly": true,
                                    "isUnique": false,
                                    "numericPrecision": 3,
                                    "numericScale": 255,
                                    "udtAssemblyQualifiedName": null,
                                    "dataType": "System.Byte, System.Private.CoreLib, Version=4.0.0.0, Culture=neutral, PublicKeyToken=7cec85d7bea7798e",
                                    "dataTypeName": "tinyint"
                                },
                                {
                                    "isBytes": false,
                                    "isChars": true,
                                    "isSqlVariant": false,
                                    "isUdt": false,
                                    "isXml": false,
                                    "isJson": false,
                                    "sqlDbType": 22,
                                    "isHierarchyId": false,
                                    "isSqlXmlType": false,
                                    "isUnknownType": false,
                                    "isUpdatable": true,
                                    "allowDBNull": false,
                                    "baseCatalogName": null,
                                    "baseColumnName": null,
                                    "baseSchemaName": null,
                                    "baseServerName": null,
                                    "baseTableName": null,
                                    "columnName": "name",
                                    "columnOrdinal": 1,
                                    "columnSize": 25,
                                    "isAliased": null,
                                    "isAutoIncrement": false,
                                    "isExpression": null,
                                    "isHidden": null,
                                    "isIdentity": false,
                                    "isKey": null,
                                    "isLong": false,
                                    "isReadOnly": false,
                                    "isUnique": false,
                                    "numericPrecision": 255,
                                    "numericScale": 255,
                                    "udtAssemblyQualifiedName": null,
                                    "dataType": "System.String, System.Private.CoreLib, Version=4.0.0.0, Culture=neutral, PublicKeyToken=7cec85d7bea7798e",
                                    "dataTypeName": "varchar"
                                },
                                {
                                    "isBytes": false,
                                    "isChars": false,
                                    "isSqlVariant": false,
                                    "isUdt": false,
                                    "isXml": false,
                                    "isJson": false,
                                    "sqlDbType": 4,
                                    "isHierarchyId": false,
                                    "isSqlXmlType": false,
                                    "isUnknownType": false,
                                    "isUpdatable": true,
                                    "allowDBNull": false,
                                    "baseCatalogName": null,
                                    "baseColumnName": null,
                                    "baseSchemaName": null,
                                    "baseServerName": null,
                                    "baseTableName": null,
                                    "columnName": "last_update",
                                    "columnOrdinal": 2,
                                    "columnSize": 8,
                                    "isAliased": null,
                                    "isAutoIncrement": false,
                                    "isExpression": null,
                                    "isHidden": null,
                                    "isIdentity": false,
                                    "isKey": null,
                                    "isLong": false,
                                    "isReadOnly": false,
                                    "isUnique": false,
                                    "numericPrecision": 23,
                                    "numericScale": 3,
                                    "udtAssemblyQualifiedName": null,
                                    "dataType": "System.DateTime, System.Private.CoreLib, Version=4.0.0.0, Culture=neutral, PublicKeyToken=7cec85d7bea7798e",
                                    "dataTypeName": "datetime"
                                }
                            ],
                            "specialAction": {
                                "none": true,
                                "expectYukonXMLShowPlan": false
                            }
                        }
                    },
                    "execution_count": 5,
                    "data": {
                        "application/vnd.dataresource+json": {
                            "schema": {
                                "fields": [
                                    {
                                        "name": "category_id"
                                    },
                                    {
                                        "name": "name"
                                    },
                                    {
                                        "name": "last_update"
                                    }
                                ]
                            },
                            "data": [
                                {
                                    "0": "1",
                                    "1": "Action",
                                    "2": "2006-02-15 04:46:27.000"
                                },
                                {
                                    "0": "2",
                                    "1": "Animation",
                                    "2": "2006-02-15 04:46:27.000"
                                },
                                {
                                    "0": "3",
                                    "1": "Children",
                                    "2": "2006-02-15 04:46:27.000"
                                },
                                {
                                    "0": "4",
                                    "1": "Classics",
                                    "2": "2006-02-15 04:46:27.000"
                                },
                                {
                                    "0": "5",
                                    "1": "Comedy",
                                    "2": "2006-02-15 04:46:27.000"
                                },
                                {
                                    "0": "6",
                                    "1": "Documentary",
                                    "2": "2006-02-15 04:46:27.000"
                                },
                                {
                                    "0": "7",
                                    "1": "Drama",
                                    "2": "2006-02-15 04:46:27.000"
                                },
                                {
                                    "0": "8",
                                    "1": "Family",
                                    "2": "2006-02-15 04:46:27.000"
                                },
                                {
                                    "0": "9",
                                    "1": "Foreign",
                                    "2": "2006-02-15 04:46:27.000"
                                },
                                {
                                    "0": "10",
                                    "1": "Games",
                                    "2": "2006-02-15 04:46:27.000"
                                },
                                {
                                    "0": "11",
                                    "1": "Horror",
                                    "2": "2006-02-15 04:46:27.000"
                                },
                                {
                                    "0": "12",
                                    "1": "Music",
                                    "2": "2006-02-15 04:46:27.000"
                                },
                                {
                                    "0": "13",
                                    "1": "New",
                                    "2": "2006-02-15 04:46:27.000"
                                },
                                {
                                    "0": "14",
                                    "1": "Sci-Fi",
                                    "2": "2006-02-15 04:46:27.000"
                                },
                                {
                                    "0": "15",
                                    "1": "Sports",
                                    "2": "2006-02-15 04:46:27.000"
                                },
                                {
                                    "0": "16",
                                    "1": "Travel",
                                    "2": "2006-02-15 04:46:27.000"
                                }
                            ]
                        },
                        "text/html": [
                            "<table>",
                            "<tr><th>category_id</th><th>name</th><th>last_update</th></tr>",
                            "<tr><td>1</td><td>Action</td><td>2006-02-15 04:46:27.000</td></tr>",
                            "<tr><td>2</td><td>Animation</td><td>2006-02-15 04:46:27.000</td></tr>",
                            "<tr><td>3</td><td>Children</td><td>2006-02-15 04:46:27.000</td></tr>",
                            "<tr><td>4</td><td>Classics</td><td>2006-02-15 04:46:27.000</td></tr>",
                            "<tr><td>5</td><td>Comedy</td><td>2006-02-15 04:46:27.000</td></tr>",
                            "<tr><td>6</td><td>Documentary</td><td>2006-02-15 04:46:27.000</td></tr>",
                            "<tr><td>7</td><td>Drama</td><td>2006-02-15 04:46:27.000</td></tr>",
                            "<tr><td>8</td><td>Family</td><td>2006-02-15 04:46:27.000</td></tr>",
                            "<tr><td>9</td><td>Foreign</td><td>2006-02-15 04:46:27.000</td></tr>",
                            "<tr><td>10</td><td>Games</td><td>2006-02-15 04:46:27.000</td></tr>",
                            "<tr><td>11</td><td>Horror</td><td>2006-02-15 04:46:27.000</td></tr>",
                            "<tr><td>12</td><td>Music</td><td>2006-02-15 04:46:27.000</td></tr>",
                            "<tr><td>13</td><td>New</td><td>2006-02-15 04:46:27.000</td></tr>",
                            "<tr><td>14</td><td>Sci-Fi</td><td>2006-02-15 04:46:27.000</td></tr>",
                            "<tr><td>15</td><td>Sports</td><td>2006-02-15 04:46:27.000</td></tr>",
                            "<tr><td>16</td><td>Travel</td><td>2006-02-15 04:46:27.000</td></tr>",
                            "</table>"
                        ]
                    }
                }
            ],
            "execution_count": 5
        }
    ]
}