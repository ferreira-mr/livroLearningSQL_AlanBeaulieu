{
    "metadata": {
        "kernelspec": {
            "name": "SQL",
            "display_name": "SQL",
            "language": "sql"
        },
        "language_info": {
            "name": "sql",
            "version": ""
        }
    },
    "nbformat_minor": 2,
    "nbformat": 4,
    "cells": [
        {
            "cell_type": "markdown",
            "source": [
                "# CHAPTER 15 - METADATA"
            ],
            "metadata": {
                "azdata_cell_guid": "aebbacb9-330a-44c9-9cca-9c5806501041"
            }
        },
        {
            "cell_type": "markdown",
            "source": [
                "Only theoretical explanations and some examples."
            ],
            "metadata": {
                "azdata_cell_guid": "df44149b-fd02-47dd-95c3-a6b4f5b9c0a5"
            }
        }
    ]
}