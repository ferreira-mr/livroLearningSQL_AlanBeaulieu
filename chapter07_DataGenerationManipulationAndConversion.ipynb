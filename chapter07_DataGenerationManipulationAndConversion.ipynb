{
    "metadata": {
        "kernelspec": {
            "name": "SQL",
            "display_name": "SQL",
            "language": "sql"
        },
        "language_info": {
            "name": "sql",
            "version": ""
        }
    },
    "nbformat_minor": 2,
    "nbformat": 4,
    "cells": [
        {
            "cell_type": "markdown",
            "source": [
                "# CHAPTER 07 - DATA GENERATION, MANIPULATION AND CONVERSION"
            ],
            "metadata": {
                "azdata_cell_guid": "fc397596-b654-4d5e-9578-02eea3772500"
            }
        },
        {
            "cell_type": "code",
            "source": [
                "SELECT concat(first_name, ' ', last_name,\n",
                "              ' has been a customer since ', CONVERT(DATE, create_date)) cust_narrative\n",
                "FROM customer;\n",
                ""
            ],
            "metadata": {
                "azdata_cell_guid": "981324d1-f207-44b2-b58f-cc308d336451",
                "tags": []
            },
            "outputs": [
                {
                    "output_type": "display_data",
                    "data": {
                        "text/html": "(599 rows affected)"
                    },
                    "metadata": {}
                },
                {
                    "output_type": "display_data",
                    "data": {
                        "text/html": "Total execution time: 00:00:00.011"
                    },
                    "metadata": {}
                },
                {
                    "output_type": "execute_result",
                    "execution_count": 18,
                    "data": {
                        "application/vnd.dataresource+json": {
                            "schema": {
                                "fields": [
                                    {
                                        "name": "cust_narrative"
                                    }
                                ]
                            },
                            "data": [
                                {
                                    "0": "MARY SMITH has been a customer since 2006-02-14"
                                },
                                {
                                    "0": "PATRICIA JOHNSON has been a customer since 2006-02-14"
                                },
                                {
                                    "0": "LINDA WILLIAMS has been a customer since 2006-02-14"
                                },
                                {
                                    "0": "BARBARA JONES has been a customer since 2006-02-14"
                                },
                                {
                                    "0": "ELIZABETH BROWN has been a customer since 2006-02-14"
                                },
                                {
                                    "0": "JENNIFER DAVIS has been a customer since 2006-02-14"
                                },
                                {
                                    "0": "MARIA MILLER has been a customer since 2006-02-14"
                                },
                                {
                                    "0": "SUSAN WILSON has been a customer since 2006-02-14"
                                },
                                {
                                    "0": "MARGARET MOORE has been a customer since 2006-02-14"
                                },
                                {
                                    "0": "DOROTHY TAYLOR has been a customer since 2006-02-14"
                                },
                                {
                                    "0": "LISA ANDERSON has been a customer since 2006-02-14"
                                },
                                {
                                    "0": "NANCY THOMAS has been a customer since 2006-02-14"
                                },
                                {
                                    "0": "KAREN JACKSON has been a customer since 2006-02-14"
                                },
                                {
                                    "0": "BETTY WHITE has been a customer since 2006-02-14"
                                },
                                {
                                    "0": "HELEN HARRIS has been a customer since 2006-02-14"
                                },
                                {
                                    "0": "SANDRA MARTIN has been a customer since 2006-02-14"
                                },
                                {
                                    "0": "DONNA THOMPSON has been a customer since 2006-02-14"
                                },
                                {
                                    "0": "CAROL GARCIA has been a customer since 2006-02-14"
                                },
                                {
                                    "0": "RUTH MARTINEZ has been a customer since 2006-02-14"
                                },
                                {
                                    "0": "SHARON ROBINSON has been a customer since 2006-02-14"
                                },
                                {
                                    "0": "MICHELLE CLARK has been a customer since 2006-02-14"
                                },
                                {
                                    "0": "LAURA RODRIGUEZ has been a customer since 2006-02-14"
                                },
                                {
                                    "0": "SARAH LEWIS has been a customer since 2006-02-14"
                                },
                                {
                                    "0": "KIMBERLY LEE has been a customer since 2006-02-14"
                                },
                                {
                                    "0": "DEBORAH WALKER has been a customer since 2006-02-14"
                                },
                                {
                                    "0": "JESSICA HALL has been a customer since 2006-02-14"
                                },
                                {
                                    "0": "SHIRLEY ALLEN has been a customer since 2006-02-14"
                                },
                                {
                                    "0": "CYNTHIA YOUNG has been a customer since 2006-02-14"
                                },
                                {
                                    "0": "ANGELA HERNANDEZ has been a customer since 2006-02-14"
                                },
                                {
                                    "0": "MELISSA KING has been a customer since 2006-02-14"
                                },
                                {
                                    "0": "BRENDA WRIGHT has been a customer since 2006-02-14"
                                },
                                {
                                    "0": "AMY LOPEZ has been a customer since 2006-02-14"
                                },
                                {
                                    "0": "ANNA HILL has been a customer since 2006-02-14"
                                },
                                {
                                    "0": "REBECCA SCOTT has been a customer since 2006-02-14"
                                },
                                {
                                    "0": "VIRGINIA GREEN has been a customer since 2006-02-14"
                                },
                                {
                                    "0": "KATHLEEN ADAMS has been a customer since 2006-02-14"
                                },
                                {
                                    "0": "PAMELA BAKER has been a customer since 2006-02-14"
                                },
                                {
                                    "0": "MARTHA GONZALEZ has been a customer since 2006-02-14"
                                },
                                {
                                    "0": "DEBRA NELSON has been a customer since 2006-02-14"
                                },
                                {
                                    "0": "AMANDA CARTER has been a customer since 2006-02-14"
                                },
                                {
                                    "0": "STEPHANIE MITCHELL has been a customer since 2006-02-14"
                                },
                                {
                                    "0": "CAROLYN PEREZ has been a customer since 2006-02-14"
                                },
                                {
                                    "0": "CHRISTINE ROBERTS has been a customer since 2006-02-14"
                                },
                                {
                                    "0": "MARIE TURNER has been a customer since 2006-02-14"
                                },
                                {
                                    "0": "JANET PHILLIPS has been a customer since 2006-02-14"
                                },
                                {
                                    "0": "CATHERINE CAMPBELL has been a customer since 2006-02-14"
                                },
                                {
                                    "0": "FRANCES PARKER has been a customer since 2006-02-14"
                                },
                                {
                                    "0": "ANN EVANS has been a customer since 2006-02-14"
                                },
                                {
                                    "0": "JOYCE EDWARDS has been a customer since 2006-02-14"
                                },
                                {
                                    "0": "DIANE COLLINS has been a customer since 2006-02-14"
                                },
                                {
                                    "0": "ALICE STEWART has been a customer since 2006-02-14"
                                },
                                {
                                    "0": "JULIE SANCHEZ has been a customer since 2006-02-14"
                                },
                                {
                                    "0": "HEATHER MORRIS has been a customer since 2006-02-14"
                                },
                                {
                                    "0": "TERESA ROGERS has been a customer since 2006-02-14"
                                },
                                {
                                    "0": "DORIS REED has been a customer since 2006-02-14"
                                },
                                {
                                    "0": "GLORIA COOK has been a customer since 2006-02-14"
                                },
                                {
                                    "0": "EVELYN MORGAN has been a customer since 2006-02-14"
                                },
                                {
                                    "0": "JEAN BELL has been a customer since 2006-02-14"
                                },
                                {
                                    "0": "CHERYL MURPHY has been a customer since 2006-02-14"
                                },
                                {
                                    "0": "MILDRED BAILEY has been a customer since 2006-02-14"
                                },
                                {
                                    "0": "KATHERINE RIVERA has been a customer since 2006-02-14"
                                },
                                {
                                    "0": "JOAN COOPER has been a customer since 2006-02-14"
                                },
                                {
                                    "0": "ASHLEY RICHARDSON has been a customer since 2006-02-14"
                                },
                                {
                                    "0": "JUDITH COX has been a customer since 2006-02-14"
                                },
                                {
                                    "0": "ROSE HOWARD has been a customer since 2006-02-14"
                                },
                                {
                                    "0": "JANICE WARD has been a customer since 2006-02-14"
                                },
                                {
                                    "0": "KELLY TORRES has been a customer since 2006-02-14"
                                },
                                {
                                    "0": "NICOLE PETERSON has been a customer since 2006-02-14"
                                },
                                {
                                    "0": "JUDY GRAY has been a customer since 2006-02-14"
                                },
                                {
                                    "0": "CHRISTINA RAMIREZ has been a customer since 2006-02-14"
                                },
                                {
                                    "0": "KATHY JAMES has been a customer since 2006-02-14"
                                },
                                {
                                    "0": "THERESA WATSON has been a customer since 2006-02-14"
                                },
                                {
                                    "0": "BEVERLY BROOKS has been a customer since 2006-02-14"
                                },
                                {
                                    "0": "DENISE KELLY has been a customer since 2006-02-14"
                                },
                                {
                                    "0": "TAMMY SANDERS has been a customer since 2006-02-14"
                                },
                                {
                                    "0": "IRENE PRICE has been a customer since 2006-02-14"
                                },
                                {
                                    "0": "JANE BENNETT has been a customer since 2006-02-14"
                                },
                                {
                                    "0": "LORI WOOD has been a customer since 2006-02-14"
                                },
                                {
                                    "0": "RACHEL BARNES has been a customer since 2006-02-14"
                                },
                                {
                                    "0": "MARILYN ROSS has been a customer since 2006-02-14"
                                },
                                {
                                    "0": "ANDREA HENDERSON has been a customer since 2006-02-14"
                                },
                                {
                                    "0": "KATHRYN COLEMAN has been a customer since 2006-02-14"
                                },
                                {
                                    "0": "LOUISE JENKINS has been a customer since 2006-02-14"
                                },
                                {
                                    "0": "SARA PERRY has been a customer since 2006-02-14"
                                },
                                {
                                    "0": "ANNE POWELL has been a customer since 2006-02-14"
                                },
                                {
                                    "0": "JACQUELINE LONG has been a customer since 2006-02-14"
                                },
                                {
                                    "0": "WANDA PATTERSON has been a customer since 2006-02-14"
                                },
                                {
                                    "0": "BONNIE HUGHES has been a customer since 2006-02-14"
                                },
                                {
                                    "0": "JULIA FLORES has been a customer since 2006-02-14"
                                },
                                {
                                    "0": "RUBY WASHINGTON has been a customer since 2006-02-14"
                                },
                                {
                                    "0": "LOIS BUTLER has been a customer since 2006-02-14"
                                },
                                {
                                    "0": "TINA SIMMONS has been a customer since 2006-02-14"
                                },
                                {
                                    "0": "PHYLLIS FOSTER has been a customer since 2006-02-14"
                                },
                                {
                                    "0": "NORMA GONZALES has been a customer since 2006-02-14"
                                },
                                {
                                    "0": "PAULA BRYANT has been a customer since 2006-02-14"
                                },
                                {
                                    "0": "DIANA ALEXANDER has been a customer since 2006-02-14"
                                },
                                {
                                    "0": "ANNIE RUSSELL has been a customer since 2006-02-14"
                                },
                                {
                                    "0": "LILLIAN GRIFFIN has been a customer since 2006-02-14"
                                },
                                {
                                    "0": "EMILY DIAZ has been a customer since 2006-02-14"
                                },
                                {
                                    "0": "ROBIN HAYES has been a customer since 2006-02-14"
                                },
                                {
                                    "0": "PEGGY MYERS has been a customer since 2006-02-14"
                                },
                                {
                                    "0": "CRYSTAL FORD has been a customer since 2006-02-14"
                                },
                                {
                                    "0": "GLADYS HAMILTON has been a customer since 2006-02-14"
                                },
                                {
                                    "0": "RITA GRAHAM has been a customer since 2006-02-14"
                                },
                                {
                                    "0": "DAWN SULLIVAN has been a customer since 2006-02-14"
                                },
                                {
                                    "0": "CONNIE WALLACE has been a customer since 2006-02-14"
                                },
                                {
                                    "0": "FLORENCE WOODS has been a customer since 2006-02-14"
                                },
                                {
                                    "0": "TRACY COLE has been a customer since 2006-02-14"
                                },
                                {
                                    "0": "EDNA WEST has been a customer since 2006-02-14"
                                },
                                {
                                    "0": "TIFFANY JORDAN has been a customer since 2006-02-14"
                                },
                                {
                                    "0": "CARMEN OWENS has been a customer since 2006-02-14"
                                },
                                {
                                    "0": "ROSA REYNOLDS has been a customer since 2006-02-14"
                                },
                                {
                                    "0": "CINDY FISHER has been a customer since 2006-02-14"
                                },
                                {
                                    "0": "GRACE ELLIS has been a customer since 2006-02-14"
                                },
                                {
                                    "0": "WENDY HARRISON has been a customer since 2006-02-14"
                                },
                                {
                                    "0": "VICTORIA GIBSON has been a customer since 2006-02-14"
                                },
                                {
                                    "0": "EDITH MCDONALD has been a customer since 2006-02-14"
                                },
                                {
                                    "0": "KIM CRUZ has been a customer since 2006-02-14"
                                },
                                {
                                    "0": "SHERRY MARSHALL has been a customer since 2006-02-14"
                                },
                                {
                                    "0": "SYLVIA ORTIZ has been a customer since 2006-02-14"
                                },
                                {
                                    "0": "JOSEPHINE GOMEZ has been a customer since 2006-02-14"
                                },
                                {
                                    "0": "THELMA MURRAY has been a customer since 2006-02-14"
                                },
                                {
                                    "0": "SHANNON FREEMAN has been a customer since 2006-02-14"
                                },
                                {
                                    "0": "SHEILA WELLS has been a customer since 2006-02-14"
                                },
                                {
                                    "0": "ETHEL WEBB has been a customer since 2006-02-14"
                                },
                                {
                                    "0": "ELLEN SIMPSON has been a customer since 2006-02-14"
                                },
                                {
                                    "0": "ELAINE STEVENS has been a customer since 2006-02-14"
                                },
                                {
                                    "0": "MARJORIE TUCKER has been a customer since 2006-02-14"
                                },
                                {
                                    "0": "CARRIE PORTER has been a customer since 2006-02-14"
                                },
                                {
                                    "0": "CHARLOTTE HUNTER has been a customer since 2006-02-14"
                                },
                                {
                                    "0": "MONICA HICKS has been a customer since 2006-02-14"
                                },
                                {
                                    "0": "ESTHER CRAWFORD has been a customer since 2006-02-14"
                                },
                                {
                                    "0": "PAULINE HENRY has been a customer since 2006-02-14"
                                },
                                {
                                    "0": "EMMA BOYD has been a customer since 2006-02-14"
                                },
                                {
                                    "0": "JUANITA MASON has been a customer since 2006-02-14"
                                },
                                {
                                    "0": "ANITA MORALES has been a customer since 2006-02-14"
                                },
                                {
                                    "0": "RHONDA KENNEDY has been a customer since 2006-02-14"
                                },
                                {
                                    "0": "HAZEL WARREN has been a customer since 2006-02-14"
                                },
                                {
                                    "0": "AMBER DIXON has been a customer since 2006-02-14"
                                },
                                {
                                    "0": "EVA RAMOS has been a customer since 2006-02-14"
                                },
                                {
                                    "0": "DEBBIE REYES has been a customer since 2006-02-14"
                                },
                                {
                                    "0": "APRIL BURNS has been a customer since 2006-02-14"
                                },
                                {
                                    "0": "LESLIE GORDON has been a customer since 2006-02-14"
                                },
                                {
                                    "0": "CLARA SHAW has been a customer since 2006-02-14"
                                },
                                {
                                    "0": "LUCILLE HOLMES has been a customer since 2006-02-14"
                                },
                                {
                                    "0": "JAMIE RICE has been a customer since 2006-02-14"
                                },
                                {
                                    "0": "JOANNE ROBERTSON has been a customer since 2006-02-14"
                                },
                                {
                                    "0": "ELEANOR HUNT has been a customer since 2006-02-14"
                                },
                                {
                                    "0": "VALERIE BLACK has been a customer since 2006-02-14"
                                },
                                {
                                    "0": "DANIELLE DANIELS has been a customer since 2006-02-14"
                                },
                                {
                                    "0": "MEGAN PALMER has been a customer since 2006-02-14"
                                },
                                {
                                    "0": "ALICIA MILLS has been a customer since 2006-02-14"
                                },
                                {
                                    "0": "SUZANNE NICHOLS has been a customer since 2006-02-14"
                                },
                                {
                                    "0": "MICHELE GRANT has been a customer since 2006-02-14"
                                },
                                {
                                    "0": "GAIL KNIGHT has been a customer since 2006-02-14"
                                },
                                {
                                    "0": "BERTHA FERGUSON has been a customer since 2006-02-14"
                                },
                                {
                                    "0": "DARLENE ROSE has been a customer since 2006-02-14"
                                },
                                {
                                    "0": "VERONICA STONE has been a customer since 2006-02-14"
                                },
                                {
                                    "0": "JILL HAWKINS has been a customer since 2006-02-14"
                                },
                                {
                                    "0": "ERIN DUNN has been a customer since 2006-02-14"
                                },
                                {
                                    "0": "GERALDINE PERKINS has been a customer since 2006-02-14"
                                },
                                {
                                    "0": "LAUREN HUDSON has been a customer since 2006-02-14"
                                },
                                {
                                    "0": "CATHY SPENCER has been a customer since 2006-02-14"
                                },
                                {
                                    "0": "JOANN GARDNER has been a customer since 2006-02-14"
                                },
                                {
                                    "0": "LORRAINE STEPHENS has been a customer since 2006-02-14"
                                },
                                {
                                    "0": "LYNN PAYNE has been a customer since 2006-02-14"
                                },
                                {
                                    "0": "SALLY PIERCE has been a customer since 2006-02-14"
                                },
                                {
                                    "0": "REGINA BERRY has been a customer since 2006-02-14"
                                },
                                {
                                    "0": "ERICA MATTHEWS has been a customer since 2006-02-14"
                                },
                                {
                                    "0": "BEATRICE ARNOLD has been a customer since 2006-02-14"
                                },
                                {
                                    "0": "DOLORES WAGNER has been a customer since 2006-02-14"
                                },
                                {
                                    "0": "BERNICE WILLIS has been a customer since 2006-02-14"
                                },
                                {
                                    "0": "AUDREY RAY has been a customer since 2006-02-14"
                                },
                                {
                                    "0": "YVONNE WATKINS has been a customer since 2006-02-14"
                                },
                                {
                                    "0": "ANNETTE OLSON has been a customer since 2006-02-14"
                                },
                                {
                                    "0": "JUNE CARROLL has been a customer since 2006-02-14"
                                },
                                {
                                    "0": "SAMANTHA DUNCAN has been a customer since 2006-02-14"
                                },
                                {
                                    "0": "MARION SNYDER has been a customer since 2006-02-14"
                                },
                                {
                                    "0": "DANA HART has been a customer since 2006-02-14"
                                },
                                {
                                    "0": "STACY CUNNINGHAM has been a customer since 2006-02-14"
                                },
                                {
                                    "0": "ANA BRADLEY has been a customer since 2006-02-14"
                                },
                                {
                                    "0": "RENEE LANE has been a customer since 2006-02-14"
                                },
                                {
                                    "0": "IDA ANDREWS has been a customer since 2006-02-14"
                                },
                                {
                                    "0": "VIVIAN RUIZ has been a customer since 2006-02-14"
                                },
                                {
                                    "0": "ROBERTA HARPER has been a customer since 2006-02-14"
                                },
                                {
                                    "0": "HOLLY FOX has been a customer since 2006-02-14"
                                },
                                {
                                    "0": "BRITTANY RILEY has been a customer since 2006-02-14"
                                },
                                {
                                    "0": "MELANIE ARMSTRONG has been a customer since 2006-02-14"
                                },
                                {
                                    "0": "LORETTA CARPENTER has been a customer since 2006-02-14"
                                },
                                {
                                    "0": "YOLANDA WEAVER has been a customer since 2006-02-14"
                                },
                                {
                                    "0": "JEANETTE GREENE has been a customer since 2006-02-14"
                                },
                                {
                                    "0": "LAURIE LAWRENCE has been a customer since 2006-02-14"
                                },
                                {
                                    "0": "KATIE ELLIOTT has been a customer since 2006-02-14"
                                },
                                {
                                    "0": "KRISTEN CHAVEZ has been a customer since 2006-02-14"
                                },
                                {
                                    "0": "VANESSA SIMS has been a customer since 2006-02-14"
                                },
                                {
                                    "0": "ALMA AUSTIN has been a customer since 2006-02-14"
                                },
                                {
                                    "0": "SUE PETERS has been a customer since 2006-02-14"
                                },
                                {
                                    "0": "ELSIE KELLEY has been a customer since 2006-02-14"
                                },
                                {
                                    "0": "BETH FRANKLIN has been a customer since 2006-02-14"
                                },
                                {
                                    "0": "JEANNE LAWSON has been a customer since 2006-02-14"
                                },
                                {
                                    "0": "VICKI FIELDS has been a customer since 2006-02-14"
                                },
                                {
                                    "0": "CARLA GUTIERREZ has been a customer since 2006-02-14"
                                },
                                {
                                    "0": "TARA RYAN has been a customer since 2006-02-14"
                                },
                                {
                                    "0": "ROSEMARY SCHMIDT has been a customer since 2006-02-14"
                                },
                                {
                                    "0": "EILEEN CARR has been a customer since 2006-02-14"
                                },
                                {
                                    "0": "TERRI VASQUEZ has been a customer since 2006-02-14"
                                },
                                {
                                    "0": "GERTRUDE CASTILLO has been a customer since 2006-02-14"
                                },
                                {
                                    "0": "LUCY WHEELER has been a customer since 2006-02-14"
                                },
                                {
                                    "0": "TONYA CHAPMAN has been a customer since 2006-02-14"
                                },
                                {
                                    "0": "ELLA OLIVER has been a customer since 2006-02-14"
                                },
                                {
                                    "0": "STACEY MONTGOMERY has been a customer since 2006-02-14"
                                },
                                {
                                    "0": "WILMA RICHARDS has been a customer since 2006-02-14"
                                },
                                {
                                    "0": "GINA WILLIAMSON has been a customer since 2006-02-14"
                                },
                                {
                                    "0": "KRISTIN JOHNSTON has been a customer since 2006-02-14"
                                },
                                {
                                    "0": "JESSIE BANKS has been a customer since 2006-02-14"
                                },
                                {
                                    "0": "NATALIE MEYER has been a customer since 2006-02-14"
                                },
                                {
                                    "0": "AGNES BISHOP has been a customer since 2006-02-14"
                                },
                                {
                                    "0": "VERA MCCOY has been a customer since 2006-02-14"
                                },
                                {
                                    "0": "WILLIE HOWELL has been a customer since 2006-02-14"
                                },
                                {
                                    "0": "CHARLENE ALVAREZ has been a customer since 2006-02-14"
                                },
                                {
                                    "0": "BESSIE MORRISON has been a customer since 2006-02-14"
                                },
                                {
                                    "0": "DELORES HANSEN has been a customer since 2006-02-14"
                                },
                                {
                                    "0": "MELINDA FERNANDEZ has been a customer since 2006-02-14"
                                },
                                {
                                    "0": "PEARL GARZA has been a customer since 2006-02-14"
                                },
                                {
                                    "0": "ARLENE HARVEY has been a customer since 2006-02-14"
                                },
                                {
                                    "0": "MAUREEN LITTLE has been a customer since 2006-02-14"
                                },
                                {
                                    "0": "COLLEEN BURTON has been a customer since 2006-02-14"
                                },
                                {
                                    "0": "ALLISON STANLEY has been a customer since 2006-02-14"
                                },
                                {
                                    "0": "TAMARA NGUYEN has been a customer since 2006-02-14"
                                },
                                {
                                    "0": "JOY GEORGE has been a customer since 2006-02-14"
                                },
                                {
                                    "0": "GEORGIA JACOBS has been a customer since 2006-02-14"
                                },
                                {
                                    "0": "CONSTANCE REID has been a customer since 2006-02-14"
                                },
                                {
                                    "0": "LILLIE KIM has been a customer since 2006-02-14"
                                },
                                {
                                    "0": "CLAUDIA FULLER has been a customer since 2006-02-14"
                                },
                                {
                                    "0": "JACKIE LYNCH has been a customer since 2006-02-14"
                                },
                                {
                                    "0": "MARCIA DEAN has been a customer since 2006-02-14"
                                },
                                {
                                    "0": "TANYA GILBERT has been a customer since 2006-02-14"
                                },
                                {
                                    "0": "NELLIE GARRETT has been a customer since 2006-02-14"
                                },
                                {
                                    "0": "MINNIE ROMERO has been a customer since 2006-02-14"
                                },
                                {
                                    "0": "MARLENE WELCH has been a customer since 2006-02-14"
                                },
                                {
                                    "0": "HEIDI LARSON has been a customer since 2006-02-14"
                                },
                                {
                                    "0": "GLENDA FRAZIER has been a customer since 2006-02-14"
                                },
                                {
                                    "0": "LYDIA BURKE has been a customer since 2006-02-14"
                                },
                                {
                                    "0": "VIOLA HANSON has been a customer since 2006-02-14"
                                },
                                {
                                    "0": "COURTNEY DAY has been a customer since 2006-02-14"
                                },
                                {
                                    "0": "MARIAN MENDOZA has been a customer since 2006-02-14"
                                },
                                {
                                    "0": "STELLA MORENO has been a customer since 2006-02-14"
                                },
                                {
                                    "0": "CAROLINE BOWMAN has been a customer since 2006-02-14"
                                },
                                {
                                    "0": "DORA MEDINA has been a customer since 2006-02-14"
                                },
                                {
                                    "0": "JO FOWLER has been a customer since 2006-02-14"
                                },
                                {
                                    "0": "VICKIE BREWER has been a customer since 2006-02-14"
                                },
                                {
                                    "0": "MATTIE HOFFMAN has been a customer since 2006-02-14"
                                },
                                {
                                    "0": "TERRY CARLSON has been a customer since 2006-02-14"
                                },
                                {
                                    "0": "MAXINE SILVA has been a customer since 2006-02-14"
                                },
                                {
                                    "0": "IRMA PEARSON has been a customer since 2006-02-14"
                                },
                                {
                                    "0": "MABEL HOLLAND has been a customer since 2006-02-14"
                                },
                                {
                                    "0": "MARSHA DOUGLAS has been a customer since 2006-02-14"
                                },
                                {
                                    "0": "MYRTLE FLEMING has been a customer since 2006-02-14"
                                },
                                {
                                    "0": "LENA JENSEN has been a customer since 2006-02-14"
                                },
                                {
                                    "0": "CHRISTY VARGAS has been a customer since 2006-02-14"
                                },
                                {
                                    "0": "DEANNA BYRD has been a customer since 2006-02-14"
                                },
                                {
                                    "0": "PATSY DAVIDSON has been a customer since 2006-02-14"
                                },
                                {
                                    "0": "HILDA HOPKINS has been a customer since 2006-02-14"
                                },
                                {
                                    "0": "GWENDOLYN MAY has been a customer since 2006-02-14"
                                },
                                {
                                    "0": "JENNIE TERRY has been a customer since 2006-02-14"
                                },
                                {
                                    "0": "NORA HERRERA has been a customer since 2006-02-14"
                                },
                                {
                                    "0": "MARGIE WADE has been a customer since 2006-02-14"
                                },
                                {
                                    "0": "NINA SOTO has been a customer since 2006-02-14"
                                },
                                {
                                    "0": "CASSANDRA WALTERS has been a customer since 2006-02-14"
                                },
                                {
                                    "0": "LEAH CURTIS has been a customer since 2006-02-14"
                                },
                                {
                                    "0": "PENNY NEAL has been a customer since 2006-02-14"
                                },
                                {
                                    "0": "KAY CALDWELL has been a customer since 2006-02-14"
                                },
                                {
                                    "0": "PRISCILLA LOWE has been a customer since 2006-02-14"
                                },
                                {
                                    "0": "NAOMI JENNINGS has been a customer since 2006-02-14"
                                },
                                {
                                    "0": "CAROLE BARNETT has been a customer since 2006-02-14"
                                },
                                {
                                    "0": "BRANDY GRAVES has been a customer since 2006-02-14"
                                },
                                {
                                    "0": "OLGA JIMENEZ has been a customer since 2006-02-14"
                                },
                                {
                                    "0": "BILLIE HORTON has been a customer since 2006-02-14"
                                },
                                {
                                    "0": "DIANNE SHELTON has been a customer since 2006-02-14"
                                },
                                {
                                    "0": "TRACEY BARRETT has been a customer since 2006-02-14"
                                },
                                {
                                    "0": "LEONA OBRIEN has been a customer since 2006-02-14"
                                },
                                {
                                    "0": "JENNY CASTRO has been a customer since 2006-02-14"
                                },
                                {
                                    "0": "FELICIA SUTTON has been a customer since 2006-02-14"
                                },
                                {
                                    "0": "SONIA GREGORY has been a customer since 2006-02-14"
                                },
                                {
                                    "0": "MIRIAM MCKINNEY has been a customer since 2006-02-14"
                                },
                                {
                                    "0": "VELMA LUCAS has been a customer since 2006-02-14"
                                },
                                {
                                    "0": "BECKY MILES has been a customer since 2006-02-14"
                                },
                                {
                                    "0": "BOBBIE CRAIG has been a customer since 2006-02-14"
                                },
                                {
                                    "0": "VIOLET RODRIQUEZ has been a customer since 2006-02-14"
                                },
                                {
                                    "0": "KRISTINA CHAMBERS has been a customer since 2006-02-14"
                                },
                                {
                                    "0": "TONI HOLT has been a customer since 2006-02-14"
                                },
                                {
                                    "0": "MISTY LAMBERT has been a customer since 2006-02-14"
                                },
                                {
                                    "0": "MAE FLETCHER has been a customer since 2006-02-14"
                                },
                                {
                                    "0": "SHELLY WATTS has been a customer since 2006-02-14"
                                },
                                {
                                    "0": "DAISY BATES has been a customer since 2006-02-14"
                                },
                                {
                                    "0": "RAMONA HALE has been a customer since 2006-02-14"
                                },
                                {
                                    "0": "SHERRI RHODES has been a customer since 2006-02-14"
                                },
                                {
                                    "0": "ERIKA PENA has been a customer since 2006-02-14"
                                },
                                {
                                    "0": "JAMES GANNON has been a customer since 2006-02-14"
                                },
                                {
                                    "0": "JOHN FARNSWORTH has been a customer since 2006-02-14"
                                },
                                {
                                    "0": "ROBERT BAUGHMAN has been a customer since 2006-02-14"
                                },
                                {
                                    "0": "MICHAEL SILVERMAN has been a customer since 2006-02-14"
                                },
                                {
                                    "0": "WILLIAM SATTERFIELD has been a customer since 2006-02-14"
                                },
                                {
                                    "0": "DAVID ROYAL has been a customer since 2006-02-14"
                                },
                                {
                                    "0": "RICHARD MCCRARY has been a customer since 2006-02-14"
                                },
                                {
                                    "0": "CHARLES KOWALSKI has been a customer since 2006-02-14"
                                },
                                {
                                    "0": "JOSEPH JOY has been a customer since 2006-02-14"
                                },
                                {
                                    "0": "THOMAS GRIGSBY has been a customer since 2006-02-14"
                                },
                                {
                                    "0": "CHRISTOPHER GRECO has been a customer since 2006-02-14"
                                },
                                {
                                    "0": "DANIEL CABRAL has been a customer since 2006-02-14"
                                },
                                {
                                    "0": "PAUL TROUT has been a customer since 2006-02-14"
                                },
                                {
                                    "0": "MARK RINEHART has been a customer since 2006-02-14"
                                },
                                {
                                    "0": "DONALD MAHON has been a customer since 2006-02-14"
                                },
                                {
                                    "0": "GEORGE LINTON has been a customer since 2006-02-14"
                                },
                                {
                                    "0": "KENNETH GOODEN has been a customer since 2006-02-14"
                                },
                                {
                                    "0": "STEVEN CURLEY has been a customer since 2006-02-14"
                                },
                                {
                                    "0": "EDWARD BAUGH has been a customer since 2006-02-14"
                                },
                                {
                                    "0": "BRIAN WYMAN has been a customer since 2006-02-14"
                                },
                                {
                                    "0": "RONALD WEINER has been a customer since 2006-02-14"
                                },
                                {
                                    "0": "ANTHONY SCHWAB has been a customer since 2006-02-14"
                                },
                                {
                                    "0": "KEVIN SCHULER has been a customer since 2006-02-14"
                                },
                                {
                                    "0": "JASON MORRISSEY has been a customer since 2006-02-14"
                                },
                                {
                                    "0": "MATTHEW MAHAN has been a customer since 2006-02-14"
                                },
                                {
                                    "0": "GARY COY has been a customer since 2006-02-14"
                                },
                                {
                                    "0": "TIMOTHY BUNN has been a customer since 2006-02-14"
                                },
                                {
                                    "0": "JOSE ANDREW has been a customer since 2006-02-14"
                                },
                                {
                                    "0": "LARRY THRASHER has been a customer since 2006-02-14"
                                },
                                {
                                    "0": "JEFFREY SPEAR has been a customer since 2006-02-14"
                                },
                                {
                                    "0": "FRANK WAGGONER has been a customer since 2006-02-14"
                                },
                                {
                                    "0": "SCOTT SHELLEY has been a customer since 2006-02-14"
                                },
                                {
                                    "0": "ERIC ROBERT has been a customer since 2006-02-14"
                                },
                                {
                                    "0": "STEPHEN QUALLS has been a customer since 2006-02-14"
                                },
                                {
                                    "0": "ANDREW PURDY has been a customer since 2006-02-14"
                                },
                                {
                                    "0": "RAYMOND MCWHORTER has been a customer since 2006-02-14"
                                },
                                {
                                    "0": "GREGORY MAULDIN has been a customer since 2006-02-14"
                                },
                                {
                                    "0": "JOSHUA MARK has been a customer since 2006-02-14"
                                },
                                {
                                    "0": "JERRY JORDON has been a customer since 2006-02-14"
                                },
                                {
                                    "0": "DENNIS GILMAN has been a customer since 2006-02-14"
                                },
                                {
                                    "0": "WALTER PERRYMAN has been a customer since 2006-02-14"
                                },
                                {
                                    "0": "PATRICK NEWSOM has been a customer since 2006-02-14"
                                },
                                {
                                    "0": "PETER MENARD has been a customer since 2006-02-14"
                                },
                                {
                                    "0": "HAROLD MARTINO has been a customer since 2006-02-14"
                                },
                                {
                                    "0": "DOUGLAS GRAF has been a customer since 2006-02-14"
                                },
                                {
                                    "0": "HENRY BILLINGSLEY has been a customer since 2006-02-14"
                                },
                                {
                                    "0": "CARL ARTIS has been a customer since 2006-02-14"
                                },
                                {
                                    "0": "ARTHUR SIMPKINS has been a customer since 2006-02-14"
                                },
                                {
                                    "0": "RYAN SALISBURY has been a customer since 2006-02-14"
                                },
                                {
                                    "0": "ROGER QUINTANILLA has been a customer since 2006-02-14"
                                },
                                {
                                    "0": "JOE GILLILAND has been a customer since 2006-02-14"
                                },
                                {
                                    "0": "JUAN FRALEY has been a customer since 2006-02-14"
                                },
                                {
                                    "0": "JACK FOUST has been a customer since 2006-02-14"
                                },
                                {
                                    "0": "ALBERT CROUSE has been a customer since 2006-02-14"
                                },
                                {
                                    "0": "JONATHAN SCARBOROUGH has been a customer since 2006-02-14"
                                },
                                {
                                    "0": "JUSTIN NGO has been a customer since 2006-02-14"
                                },
                                {
                                    "0": "TERRY GRISSOM has been a customer since 2006-02-14"
                                },
                                {
                                    "0": "GERALD FULTZ has been a customer since 2006-02-14"
                                },
                                {
                                    "0": "KEITH RICO has been a customer since 2006-02-14"
                                },
                                {
                                    "0": "SAMUEL MARLOW has been a customer since 2006-02-14"
                                },
                                {
                                    "0": "WILLIE MARKHAM has been a customer since 2006-02-14"
                                },
                                {
                                    "0": "RALPH MADRIGAL has been a customer since 2006-02-14"
                                },
                                {
                                    "0": "LAWRENCE LAWTON has been a customer since 2006-02-14"
                                },
                                {
                                    "0": "NICHOLAS BARFIELD has been a customer since 2006-02-14"
                                },
                                {
                                    "0": "ROY WHITING has been a customer since 2006-02-14"
                                },
                                {
                                    "0": "BENJAMIN VARNEY has been a customer since 2006-02-14"
                                },
                                {
                                    "0": "BRUCE SCHWARZ has been a customer since 2006-02-14"
                                },
                                {
                                    "0": "BRANDON HUEY has been a customer since 2006-02-14"
                                },
                                {
                                    "0": "ADAM GOOCH has been a customer since 2006-02-14"
                                },
                                {
                                    "0": "HARRY ARCE has been a customer since 2006-02-14"
                                },
                                {
                                    "0": "FRED WHEAT has been a customer since 2006-02-14"
                                },
                                {
                                    "0": "WAYNE TRUONG has been a customer since 2006-02-14"
                                },
                                {
                                    "0": "BILLY POULIN has been a customer since 2006-02-14"
                                },
                                {
                                    "0": "STEVE MACKENZIE has been a customer since 2006-02-14"
                                },
                                {
                                    "0": "LOUIS LEONE has been a customer since 2006-02-14"
                                },
                                {
                                    "0": "JEREMY HURTADO has been a customer since 2006-02-14"
                                },
                                {
                                    "0": "AARON SELBY has been a customer since 2006-02-14"
                                },
                                {
                                    "0": "RANDY GAITHER has been a customer since 2006-02-14"
                                },
                                {
                                    "0": "HOWARD FORTNER has been a customer since 2006-02-14"
                                },
                                {
                                    "0": "EUGENE CULPEPPER has been a customer since 2006-02-14"
                                },
                                {
                                    "0": "CARLOS COUGHLIN has been a customer since 2006-02-14"
                                },
                                {
                                    "0": "RUSSELL BRINSON has been a customer since 2006-02-14"
                                },
                                {
                                    "0": "BOBBY BOUDREAU has been a customer since 2006-02-14"
                                },
                                {
                                    "0": "VICTOR BARKLEY has been a customer since 2006-02-14"
                                },
                                {
                                    "0": "MARTIN BALES has been a customer since 2006-02-14"
                                },
                                {
                                    "0": "ERNEST STEPP has been a customer since 2006-02-14"
                                },
                                {
                                    "0": "PHILLIP HOLM has been a customer since 2006-02-14"
                                },
                                {
                                    "0": "TODD TAN has been a customer since 2006-02-14"
                                },
                                {
                                    "0": "JESSE SCHILLING has been a customer since 2006-02-14"
                                },
                                {
                                    "0": "CRAIG MORRELL has been a customer since 2006-02-14"
                                },
                                {
                                    "0": "ALAN KAHN has been a customer since 2006-02-14"
                                },
                                {
                                    "0": "SHAWN HEATON has been a customer since 2006-02-14"
                                },
                                {
                                    "0": "CLARENCE GAMEZ has been a customer since 2006-02-14"
                                },
                                {
                                    "0": "SEAN DOUGLASS has been a customer since 2006-02-14"
                                },
                                {
                                    "0": "PHILIP CAUSEY has been a customer since 2006-02-14"
                                },
                                {
                                    "0": "CHRIS BROTHERS has been a customer since 2006-02-14"
                                },
                                {
                                    "0": "JOHNNY TURPIN has been a customer since 2006-02-14"
                                },
                                {
                                    "0": "EARL SHANKS has been a customer since 2006-02-14"
                                },
                                {
                                    "0": "JIMMY SCHRADER has been a customer since 2006-02-14"
                                },
                                {
                                    "0": "ANTONIO MEEK has been a customer since 2006-02-14"
                                },
                                {
                                    "0": "DANNY ISOM has been a customer since 2006-02-14"
                                },
                                {
                                    "0": "BRYAN HARDISON has been a customer since 2006-02-14"
                                },
                                {
                                    "0": "TONY CARRANZA has been a customer since 2006-02-14"
                                },
                                {
                                    "0": "LUIS YANEZ has been a customer since 2006-02-14"
                                },
                                {
                                    "0": "MIKE WAY has been a customer since 2006-02-14"
                                },
                                {
                                    "0": "STANLEY SCROGGINS has been a customer since 2006-02-14"
                                },
                                {
                                    "0": "LEONARD SCHOFIELD has been a customer since 2006-02-14"
                                },
                                {
                                    "0": "NATHAN RUNYON has been a customer since 2006-02-14"
                                },
                                {
                                    "0": "DALE RATCLIFF has been a customer since 2006-02-14"
                                },
                                {
                                    "0": "MANUEL MURRELL has been a customer since 2006-02-14"
                                },
                                {
                                    "0": "RODNEY MOELLER has been a customer since 2006-02-14"
                                },
                                {
                                    "0": "CURTIS IRBY has been a customer since 2006-02-14"
                                },
                                {
                                    "0": "NORMAN CURRIER has been a customer since 2006-02-14"
                                },
                                {
                                    "0": "ALLEN BUTTERFIELD has been a customer since 2006-02-14"
                                },
                                {
                                    "0": "MARVIN YEE has been a customer since 2006-02-14"
                                },
                                {
                                    "0": "VINCENT RALSTON has been a customer since 2006-02-14"
                                },
                                {
                                    "0": "GLENN PULLEN has been a customer since 2006-02-14"
                                },
                                {
                                    "0": "JEFFERY PINSON has been a customer since 2006-02-14"
                                },
                                {
                                    "0": "TRAVIS ESTEP has been a customer since 2006-02-14"
                                },
                                {
                                    "0": "JEFF EAST has been a customer since 2006-02-14"
                                },
                                {
                                    "0": "CHAD CARBONE has been a customer since 2006-02-14"
                                },
                                {
                                    "0": "JACOB LANCE has been a customer since 2006-02-14"
                                },
                                {
                                    "0": "LEE HAWKS has been a customer since 2006-02-14"
                                },
                                {
                                    "0": "MELVIN ELLINGTON has been a customer since 2006-02-14"
                                },
                                {
                                    "0": "ALFRED CASILLAS has been a customer since 2006-02-14"
                                },
                                {
                                    "0": "KYLE SPURLOCK has been a customer since 2006-02-14"
                                },
                                {
                                    "0": "FRANCIS SIKES has been a customer since 2006-02-14"
                                },
                                {
                                    "0": "BRADLEY MOTLEY has been a customer since 2006-02-14"
                                },
                                {
                                    "0": "JESUS MCCARTNEY has been a customer since 2006-02-14"
                                },
                                {
                                    "0": "HERBERT KRUGER has been a customer since 2006-02-14"
                                },
                                {
                                    "0": "FREDERICK ISBELL has been a customer since 2006-02-14"
                                },
                                {
                                    "0": "RAY HOULE has been a customer since 2006-02-14"
                                },
                                {
                                    "0": "JOEL FRANCISCO has been a customer since 2006-02-14"
                                },
                                {
                                    "0": "EDWIN BURK has been a customer since 2006-02-14"
                                },
                                {
                                    "0": "DON BONE has been a customer since 2006-02-14"
                                },
                                {
                                    "0": "EDDIE TOMLIN has been a customer since 2006-02-14"
                                },
                                {
                                    "0": "RICKY SHELBY has been a customer since 2006-02-14"
                                },
                                {
                                    "0": "TROY QUIGLEY has been a customer since 2006-02-14"
                                },
                                {
                                    "0": "RANDALL NEUMANN has been a customer since 2006-02-14"
                                },
                                {
                                    "0": "BARRY LOVELACE has been a customer since 2006-02-14"
                                },
                                {
                                    "0": "ALEXANDER FENNELL has been a customer since 2006-02-14"
                                },
                                {
                                    "0": "BERNARD COLBY has been a customer since 2006-02-14"
                                },
                                {
                                    "0": "MARIO CHEATHAM has been a customer since 2006-02-14"
                                },
                                {
                                    "0": "LEROY BUSTAMANTE has been a customer since 2006-02-14"
                                },
                                {
                                    "0": "FRANCISCO SKIDMORE has been a customer since 2006-02-14"
                                },
                                {
                                    "0": "MARCUS HIDALGO has been a customer since 2006-02-14"
                                },
                                {
                                    "0": "MICHEAL FORMAN has been a customer since 2006-02-14"
                                },
                                {
                                    "0": "THEODORE CULP has been a customer since 2006-02-14"
                                },
                                {
                                    "0": "CLIFFORD BOWENS has been a customer since 2006-02-14"
                                },
                                {
                                    "0": "MIGUEL BETANCOURT has been a customer since 2006-02-14"
                                },
                                {
                                    "0": "OSCAR AQUINO has been a customer since 2006-02-14"
                                },
                                {
                                    "0": "JAY ROBB has been a customer since 2006-02-14"
                                },
                                {
                                    "0": "JIM REA has been a customer since 2006-02-14"
                                },
                                {
                                    "0": "TOM MILNER has been a customer since 2006-02-14"
                                },
                                {
                                    "0": "CALVIN MARTEL has been a customer since 2006-02-14"
                                },
                                {
                                    "0": "ALEX GRESHAM has been a customer since 2006-02-14"
                                },
                                {
                                    "0": "JON WILES has been a customer since 2006-02-14"
                                },
                                {
                                    "0": "RONNIE RICKETTS has been a customer since 2006-02-14"
                                },
                                {
                                    "0": "BILL GAVIN has been a customer since 2006-02-14"
                                },
                                {
                                    "0": "LLOYD DOWD has been a customer since 2006-02-14"
                                },
                                {
                                    "0": "TOMMY COLLAZO has been a customer since 2006-02-14"
                                },
                                {
                                    "0": "LEON BOSTIC has been a customer since 2006-02-14"
                                },
                                {
                                    "0": "DEREK BLAKELY has been a customer since 2006-02-14"
                                },
                                {
                                    "0": "WARREN SHERROD has been a customer since 2006-02-14"
                                },
                                {
                                    "0": "DARRELL POWER has been a customer since 2006-02-14"
                                },
                                {
                                    "0": "JEROME KENYON has been a customer since 2006-02-14"
                                },
                                {
                                    "0": "FLOYD GANDY has been a customer since 2006-02-14"
                                },
                                {
                                    "0": "LEO EBERT has been a customer since 2006-02-14"
                                },
                                {
                                    "0": "ALVIN DELOACH has been a customer since 2006-02-14"
                                },
                                {
                                    "0": "TIM CARY has been a customer since 2006-02-14"
                                },
                                {
                                    "0": "WESLEY BULL has been a customer since 2006-02-14"
                                },
                                {
                                    "0": "GORDON ALLARD has been a customer since 2006-02-14"
                                },
                                {
                                    "0": "DEAN SAUER has been a customer since 2006-02-14"
                                },
                                {
                                    "0": "GREG ROBINS has been a customer since 2006-02-14"
                                },
                                {
                                    "0": "JORGE OLIVARES has been a customer since 2006-02-14"
                                },
                                {
                                    "0": "DUSTIN GILLETTE has been a customer since 2006-02-14"
                                },
                                {
                                    "0": "PEDRO CHESTNUT has been a customer since 2006-02-14"
                                },
                                {
                                    "0": "DERRICK BOURQUE has been a customer since 2006-02-14"
                                },
                                {
                                    "0": "DAN PAINE has been a customer since 2006-02-14"
                                },
                                {
                                    "0": "LEWIS LYMAN has been a customer since 2006-02-14"
                                },
                                {
                                    "0": "ZACHARY HITE has been a customer since 2006-02-14"
                                },
                                {
                                    "0": "COREY HAUSER has been a customer since 2006-02-14"
                                },
                                {
                                    "0": "HERMAN DEVORE has been a customer since 2006-02-14"
                                },
                                {
                                    "0": "MAURICE CRAWLEY has been a customer since 2006-02-14"
                                },
                                {
                                    "0": "VERNON CHAPA has been a customer since 2006-02-14"
                                },
                                {
                                    "0": "ROBERTO VU has been a customer since 2006-02-14"
                                },
                                {
                                    "0": "CLYDE TOBIAS has been a customer since 2006-02-14"
                                },
                                {
                                    "0": "GLEN TALBERT has been a customer since 2006-02-14"
                                },
                                {
                                    "0": "HECTOR POINDEXTER has been a customer since 2006-02-14"
                                },
                                {
                                    "0": "SHANE MILLARD has been a customer since 2006-02-14"
                                },
                                {
                                    "0": "RICARDO MEADOR has been a customer since 2006-02-14"
                                },
                                {
                                    "0": "SAM MCDUFFIE has been a customer since 2006-02-14"
                                },
                                {
                                    "0": "RICK MATTOX has been a customer since 2006-02-14"
                                },
                                {
                                    "0": "LESTER KRAUS has been a customer since 2006-02-14"
                                },
                                {
                                    "0": "BRENT HARKINS has been a customer since 2006-02-14"
                                },
                                {
                                    "0": "RAMON CHOATE has been a customer since 2006-02-14"
                                },
                                {
                                    "0": "CHARLIE BESS has been a customer since 2006-02-14"
                                },
                                {
                                    "0": "TYLER WREN has been a customer since 2006-02-14"
                                },
                                {
                                    "0": "GILBERT SLEDGE has been a customer since 2006-02-14"
                                },
                                {
                                    "0": "GENE SANBORN has been a customer since 2006-02-14"
                                },
                                {
                                    "0": "MARC OUTLAW has been a customer since 2006-02-14"
                                },
                                {
                                    "0": "REGINALD KINDER has been a customer since 2006-02-14"
                                },
                                {
                                    "0": "RUBEN GEARY has been a customer since 2006-02-14"
                                },
                                {
                                    "0": "BRETT CORNWELL has been a customer since 2006-02-14"
                                },
                                {
                                    "0": "ANGEL BARCLAY has been a customer since 2006-02-14"
                                },
                                {
                                    "0": "NATHANIEL ADAM has been a customer since 2006-02-14"
                                },
                                {
                                    "0": "RAFAEL ABNEY has been a customer since 2006-02-14"
                                },
                                {
                                    "0": "LESLIE SEWARD has been a customer since 2006-02-14"
                                },
                                {
                                    "0": "EDGAR RHOADS has been a customer since 2006-02-14"
                                },
                                {
                                    "0": "MILTON HOWLAND has been a customer since 2006-02-14"
                                },
                                {
                                    "0": "RAUL FORTIER has been a customer since 2006-02-14"
                                },
                                {
                                    "0": "BEN EASTER has been a customer since 2006-02-14"
                                },
                                {
                                    "0": "CHESTER BENNER has been a customer since 2006-02-14"
                                },
                                {
                                    "0": "CECIL VINES has been a customer since 2006-02-14"
                                },
                                {
                                    "0": "DUANE TUBBS has been a customer since 2006-02-14"
                                },
                                {
                                    "0": "FRANKLIN TROUTMAN has been a customer since 2006-02-14"
                                },
                                {
                                    "0": "ANDRE RAPP has been a customer since 2006-02-14"
                                },
                                {
                                    "0": "ELMER NOE has been a customer since 2006-02-14"
                                },
                                {
                                    "0": "BRAD MCCURDY has been a customer since 2006-02-14"
                                },
                                {
                                    "0": "GABRIEL HARDER has been a customer since 2006-02-14"
                                },
                                {
                                    "0": "RON DELUCA has been a customer since 2006-02-14"
                                },
                                {
                                    "0": "MITCHELL WESTMORELAND has been a customer since 2006-02-14"
                                },
                                {
                                    "0": "ROLAND SOUTH has been a customer since 2006-02-14"
                                },
                                {
                                    "0": "ARNOLD HAVENS has been a customer since 2006-02-14"
                                },
                                {
                                    "0": "HARVEY GUAJARDO has been a customer since 2006-02-14"
                                },
                                {
                                    "0": "JARED ELY has been a customer since 2006-02-14"
                                },
                                {
                                    "0": "ADRIAN CLARY has been a customer since 2006-02-14"
                                },
                                {
                                    "0": "KARL SEAL has been a customer since 2006-02-14"
                                },
                                {
                                    "0": "CORY MEEHAN has been a customer since 2006-02-14"
                                },
                                {
                                    "0": "CLAUDE HERZOG has been a customer since 2006-02-14"
                                },
                                {
                                    "0": "ERIK GUILLEN has been a customer since 2006-02-14"
                                },
                                {
                                    "0": "DARRYL ASHCRAFT has been a customer since 2006-02-14"
                                },
                                {
                                    "0": "JAMIE WAUGH has been a customer since 2006-02-14"
                                },
                                {
                                    "0": "NEIL RENNER has been a customer since 2006-02-14"
                                },
                                {
                                    "0": "JESSIE MILAM has been a customer since 2006-02-14"
                                },
                                {
                                    "0": "CHRISTIAN JUNG has been a customer since 2006-02-14"
                                },
                                {
                                    "0": "JAVIER ELROD has been a customer since 2006-02-14"
                                },
                                {
                                    "0": "FERNANDO CHURCHILL has been a customer since 2006-02-14"
                                },
                                {
                                    "0": "CLINTON BUFORD has been a customer since 2006-02-14"
                                },
                                {
                                    "0": "TED BREAUX has been a customer since 2006-02-14"
                                },
                                {
                                    "0": "MATHEW BOLIN has been a customer since 2006-02-14"
                                },
                                {
                                    "0": "TYRONE ASHER has been a customer since 2006-02-14"
                                },
                                {
                                    "0": "DARREN WINDHAM has been a customer since 2006-02-14"
                                },
                                {
                                    "0": "LONNIE TIRADO has been a customer since 2006-02-14"
                                },
                                {
                                    "0": "LANCE PEMBERTON has been a customer since 2006-02-14"
                                },
                                {
                                    "0": "CODY NOLEN has been a customer since 2006-02-14"
                                },
                                {
                                    "0": "JULIO NOLAND has been a customer since 2006-02-14"
                                },
                                {
                                    "0": "KELLY KNOTT has been a customer since 2006-02-14"
                                },
                                {
                                    "0": "KURT EMMONS has been a customer since 2006-02-14"
                                },
                                {
                                    "0": "ALLAN CORNISH has been a customer since 2006-02-14"
                                },
                                {
                                    "0": "NELSON CHRISTENSON has been a customer since 2006-02-14"
                                },
                                {
                                    "0": "GUY BROWNLEE has been a customer since 2006-02-14"
                                },
                                {
                                    "0": "CLAYTON BARBEE has been a customer since 2006-02-14"
                                },
                                {
                                    "0": "HUGH WALDROP has been a customer since 2006-02-14"
                                },
                                {
                                    "0": "MAX PITT has been a customer since 2006-02-14"
                                },
                                {
                                    "0": "DWAYNE OLVERA has been a customer since 2006-02-14"
                                },
                                {
                                    "0": "DWIGHT LOMBARDI has been a customer since 2006-02-14"
                                },
                                {
                                    "0": "ARMANDO GRUBER has been a customer since 2006-02-14"
                                },
                                {
                                    "0": "FELIX GAFFNEY has been a customer since 2006-02-14"
                                },
                                {
                                    "0": "JIMMIE EGGLESTON has been a customer since 2006-02-14"
                                },
                                {
                                    "0": "EVERETT BANDA has been a customer since 2006-02-14"
                                },
                                {
                                    "0": "JORDAN ARCHULETA has been a customer since 2006-02-14"
                                },
                                {
                                    "0": "IAN STILL has been a customer since 2006-02-14"
                                },
                                {
                                    "0": "WALLACE SLONE has been a customer since 2006-02-14"
                                },
                                {
                                    "0": "KEN PREWITT has been a customer since 2006-02-14"
                                },
                                {
                                    "0": "BOB PFEIFFER has been a customer since 2006-02-14"
                                },
                                {
                                    "0": "JAIME NETTLES has been a customer since 2006-02-14"
                                },
                                {
                                    "0": "CASEY MENA has been a customer since 2006-02-14"
                                },
                                {
                                    "0": "ALFREDO MCADAMS has been a customer since 2006-02-14"
                                },
                                {
                                    "0": "ALBERTO HENNING has been a customer since 2006-02-14"
                                },
                                {
                                    "0": "DAVE GARDINER has been a customer since 2006-02-14"
                                },
                                {
                                    "0": "IVAN CROMWELL has been a customer since 2006-02-14"
                                },
                                {
                                    "0": "JOHNNIE CHISHOLM has been a customer since 2006-02-14"
                                },
                                {
                                    "0": "SIDNEY BURLESON has been a customer since 2006-02-14"
                                },
                                {
                                    "0": "BYRON BOX has been a customer since 2006-02-14"
                                },
                                {
                                    "0": "JULIAN VEST has been a customer since 2006-02-14"
                                },
                                {
                                    "0": "ISAAC OGLESBY has been a customer since 2006-02-14"
                                },
                                {
                                    "0": "MORRIS MCCARTER has been a customer since 2006-02-14"
                                },
                                {
                                    "0": "CLIFTON MALCOLM has been a customer since 2006-02-14"
                                },
                                {
                                    "0": "WILLARD LUMPKIN has been a customer since 2006-02-14"
                                },
                                {
                                    "0": "DARYL LARUE has been a customer since 2006-02-14"
                                },
                                {
                                    "0": "ROSS GREY has been a customer since 2006-02-14"
                                },
                                {
                                    "0": "VIRGIL WOFFORD has been a customer since 2006-02-14"
                                },
                                {
                                    "0": "ANDY VANHORN has been a customer since 2006-02-14"
                                },
                                {
                                    "0": "MARSHALL THORN has been a customer since 2006-02-14"
                                },
                                {
                                    "0": "SALVADOR TEEL has been a customer since 2006-02-14"
                                },
                                {
                                    "0": "PERRY SWAFFORD has been a customer since 2006-02-14"
                                },
                                {
                                    "0": "KIRK STCLAIR has been a customer since 2006-02-14"
                                },
                                {
                                    "0": "SERGIO STANFIELD has been a customer since 2006-02-14"
                                },
                                {
                                    "0": "MARION OCAMPO has been a customer since 2006-02-14"
                                },
                                {
                                    "0": "TRACY HERRMANN has been a customer since 2006-02-14"
                                },
                                {
                                    "0": "SETH HANNON has been a customer since 2006-02-14"
                                },
                                {
                                    "0": "KENT ARSENAULT has been a customer since 2006-02-14"
                                },
                                {
                                    "0": "TERRANCE ROUSH has been a customer since 2006-02-14"
                                },
                                {
                                    "0": "RENE MCALISTER has been a customer since 2006-02-14"
                                },
                                {
                                    "0": "EDUARDO HIATT has been a customer since 2006-02-14"
                                },
                                {
                                    "0": "TERRENCE GUNDERSON has been a customer since 2006-02-14"
                                },
                                {
                                    "0": "ENRIQUE FORSYTHE has been a customer since 2006-02-14"
                                },
                                {
                                    "0": "FREDDIE DUGGAN has been a customer since 2006-02-14"
                                },
                                {
                                    "0": "WADE DELVALLE has been a customer since 2006-02-14"
                                },
                                {
                                    "0": "AUSTIN CINTRON has been a customer since 2006-02-14"
                                }
                            ]
                        },
                        "text/html": "<table><tr><th>cust_narrative</th></tr><tr><td>MARY SMITH has been a customer since 2006-02-14</td></tr><tr><td>PATRICIA JOHNSON has been a customer since 2006-02-14</td></tr><tr><td>LINDA WILLIAMS has been a customer since 2006-02-14</td></tr><tr><td>BARBARA JONES has been a customer since 2006-02-14</td></tr><tr><td>ELIZABETH BROWN has been a customer since 2006-02-14</td></tr><tr><td>JENNIFER DAVIS has been a customer since 2006-02-14</td></tr><tr><td>MARIA MILLER has been a customer since 2006-02-14</td></tr><tr><td>SUSAN WILSON has been a customer since 2006-02-14</td></tr><tr><td>MARGARET MOORE has been a customer since 2006-02-14</td></tr><tr><td>DOROTHY TAYLOR has been a customer since 2006-02-14</td></tr><tr><td>LISA ANDERSON has been a customer since 2006-02-14</td></tr><tr><td>NANCY THOMAS has been a customer since 2006-02-14</td></tr><tr><td>KAREN JACKSON has been a customer since 2006-02-14</td></tr><tr><td>BETTY WHITE has been a customer since 2006-02-14</td></tr><tr><td>HELEN HARRIS has been a customer since 2006-02-14</td></tr><tr><td>SANDRA MARTIN has been a customer since 2006-02-14</td></tr><tr><td>DONNA THOMPSON has been a customer since 2006-02-14</td></tr><tr><td>CAROL GARCIA has been a customer since 2006-02-14</td></tr><tr><td>RUTH MARTINEZ has been a customer since 2006-02-14</td></tr><tr><td>SHARON ROBINSON has been a customer since 2006-02-14</td></tr><tr><td>MICHELLE CLARK has been a customer since 2006-02-14</td></tr><tr><td>LAURA RODRIGUEZ has been a customer since 2006-02-14</td></tr><tr><td>SARAH LEWIS has been a customer since 2006-02-14</td></tr><tr><td>KIMBERLY LEE has been a customer since 2006-02-14</td></tr><tr><td>DEBORAH WALKER has been a customer since 2006-02-14</td></tr><tr><td>JESSICA HALL has been a customer since 2006-02-14</td></tr><tr><td>SHIRLEY ALLEN has been a customer since 2006-02-14</td></tr><tr><td>CYNTHIA YOUNG has been a customer since 2006-02-14</td></tr><tr><td>ANGELA HERNANDEZ has been a customer since 2006-02-14</td></tr><tr><td>MELISSA KING has been a customer since 2006-02-14</td></tr><tr><td>BRENDA WRIGHT has been a customer since 2006-02-14</td></tr><tr><td>AMY LOPEZ has been a customer since 2006-02-14</td></tr><tr><td>ANNA HILL has been a customer since 2006-02-14</td></tr><tr><td>REBECCA SCOTT has been a customer since 2006-02-14</td></tr><tr><td>VIRGINIA GREEN has been a customer since 2006-02-14</td></tr><tr><td>KATHLEEN ADAMS has been a customer since 2006-02-14</td></tr><tr><td>PAMELA BAKER has been a customer since 2006-02-14</td></tr><tr><td>MARTHA GONZALEZ has been a customer since 2006-02-14</td></tr><tr><td>DEBRA NELSON has been a customer since 2006-02-14</td></tr><tr><td>AMANDA CARTER has been a customer since 2006-02-14</td></tr><tr><td>STEPHANIE MITCHELL has been a customer since 2006-02-14</td></tr><tr><td>CAROLYN PEREZ has been a customer since 2006-02-14</td></tr><tr><td>CHRISTINE ROBERTS has been a customer since 2006-02-14</td></tr><tr><td>MARIE TURNER has been a customer since 2006-02-14</td></tr><tr><td>JANET PHILLIPS has been a customer since 2006-02-14</td></tr><tr><td>CATHERINE CAMPBELL has been a customer since 2006-02-14</td></tr><tr><td>FRANCES PARKER has been a customer since 2006-02-14</td></tr><tr><td>ANN EVANS has been a customer since 2006-02-14</td></tr><tr><td>JOYCE EDWARDS has been a customer since 2006-02-14</td></tr><tr><td>DIANE COLLINS has been a customer since 2006-02-14</td></tr><tr><td>ALICE STEWART has been a customer since 2006-02-14</td></tr><tr><td>JULIE SANCHEZ has been a customer since 2006-02-14</td></tr><tr><td>HEATHER MORRIS has been a customer since 2006-02-14</td></tr><tr><td>TERESA ROGERS has been a customer since 2006-02-14</td></tr><tr><td>DORIS REED has been a customer since 2006-02-14</td></tr><tr><td>GLORIA COOK has been a customer since 2006-02-14</td></tr><tr><td>EVELYN MORGAN has been a customer since 2006-02-14</td></tr><tr><td>JEAN BELL has been a customer since 2006-02-14</td></tr><tr><td>CHERYL MURPHY has been a customer since 2006-02-14</td></tr><tr><td>MILDRED BAILEY has been a customer since 2006-02-14</td></tr><tr><td>KATHERINE RIVERA has been a customer since 2006-02-14</td></tr><tr><td>JOAN COOPER has been a customer since 2006-02-14</td></tr><tr><td>ASHLEY RICHARDSON has been a customer since 2006-02-14</td></tr><tr><td>JUDITH COX has been a customer since 2006-02-14</td></tr><tr><td>ROSE HOWARD has been a customer since 2006-02-14</td></tr><tr><td>JANICE WARD has been a customer since 2006-02-14</td></tr><tr><td>KELLY TORRES has been a customer since 2006-02-14</td></tr><tr><td>NICOLE PETERSON has been a customer since 2006-02-14</td></tr><tr><td>JUDY GRAY has been a customer since 2006-02-14</td></tr><tr><td>CHRISTINA RAMIREZ has been a customer since 2006-02-14</td></tr><tr><td>KATHY JAMES has been a customer since 2006-02-14</td></tr><tr><td>THERESA WATSON has been a customer since 2006-02-14</td></tr><tr><td>BEVERLY BROOKS has been a customer since 2006-02-14</td></tr><tr><td>DENISE KELLY has been a customer since 2006-02-14</td></tr><tr><td>TAMMY SANDERS has been a customer since 2006-02-14</td></tr><tr><td>IRENE PRICE has been a customer since 2006-02-14</td></tr><tr><td>JANE BENNETT has been a customer since 2006-02-14</td></tr><tr><td>LORI WOOD has been a customer since 2006-02-14</td></tr><tr><td>RACHEL BARNES has been a customer since 2006-02-14</td></tr><tr><td>MARILYN ROSS has been a customer since 2006-02-14</td></tr><tr><td>ANDREA HENDERSON has been a customer since 2006-02-14</td></tr><tr><td>KATHRYN COLEMAN has been a customer since 2006-02-14</td></tr><tr><td>LOUISE JENKINS has been a customer since 2006-02-14</td></tr><tr><td>SARA PERRY has been a customer since 2006-02-14</td></tr><tr><td>ANNE POWELL has been a customer since 2006-02-14</td></tr><tr><td>JACQUELINE LONG has been a customer since 2006-02-14</td></tr><tr><td>WANDA PATTERSON has been a customer since 2006-02-14</td></tr><tr><td>BONNIE HUGHES has been a customer since 2006-02-14</td></tr><tr><td>JULIA FLORES has been a customer since 2006-02-14</td></tr><tr><td>RUBY WASHINGTON has been a customer since 2006-02-14</td></tr><tr><td>LOIS BUTLER has been a customer since 2006-02-14</td></tr><tr><td>TINA SIMMONS has been a customer since 2006-02-14</td></tr><tr><td>PHYLLIS FOSTER has been a customer since 2006-02-14</td></tr><tr><td>NORMA GONZALES has been a customer since 2006-02-14</td></tr><tr><td>PAULA BRYANT has been a customer since 2006-02-14</td></tr><tr><td>DIANA ALEXANDER has been a customer since 2006-02-14</td></tr><tr><td>ANNIE RUSSELL has been a customer since 2006-02-14</td></tr><tr><td>LILLIAN GRIFFIN has been a customer since 2006-02-14</td></tr><tr><td>EMILY DIAZ has been a customer since 2006-02-14</td></tr><tr><td>ROBIN HAYES has been a customer since 2006-02-14</td></tr><tr><td>PEGGY MYERS has been a customer since 2006-02-14</td></tr><tr><td>CRYSTAL FORD has been a customer since 2006-02-14</td></tr><tr><td>GLADYS HAMILTON has been a customer since 2006-02-14</td></tr><tr><td>RITA GRAHAM has been a customer since 2006-02-14</td></tr><tr><td>DAWN SULLIVAN has been a customer since 2006-02-14</td></tr><tr><td>CONNIE WALLACE has been a customer since 2006-02-14</td></tr><tr><td>FLORENCE WOODS has been a customer since 2006-02-14</td></tr><tr><td>TRACY COLE has been a customer since 2006-02-14</td></tr><tr><td>EDNA WEST has been a customer since 2006-02-14</td></tr><tr><td>TIFFANY JORDAN has been a customer since 2006-02-14</td></tr><tr><td>CARMEN OWENS has been a customer since 2006-02-14</td></tr><tr><td>ROSA REYNOLDS has been a customer since 2006-02-14</td></tr><tr><td>CINDY FISHER has been a customer since 2006-02-14</td></tr><tr><td>GRACE ELLIS has been a customer since 2006-02-14</td></tr><tr><td>WENDY HARRISON has been a customer since 2006-02-14</td></tr><tr><td>VICTORIA GIBSON has been a customer since 2006-02-14</td></tr><tr><td>EDITH MCDONALD has been a customer since 2006-02-14</td></tr><tr><td>KIM CRUZ has been a customer since 2006-02-14</td></tr><tr><td>SHERRY MARSHALL has been a customer since 2006-02-14</td></tr><tr><td>SYLVIA ORTIZ has been a customer since 2006-02-14</td></tr><tr><td>JOSEPHINE GOMEZ has been a customer since 2006-02-14</td></tr><tr><td>THELMA MURRAY has been a customer since 2006-02-14</td></tr><tr><td>SHANNON FREEMAN has been a customer since 2006-02-14</td></tr><tr><td>SHEILA WELLS has been a customer since 2006-02-14</td></tr><tr><td>ETHEL WEBB has been a customer since 2006-02-14</td></tr><tr><td>ELLEN SIMPSON has been a customer since 2006-02-14</td></tr><tr><td>ELAINE STEVENS has been a customer since 2006-02-14</td></tr><tr><td>MARJORIE TUCKER has been a customer since 2006-02-14</td></tr><tr><td>CARRIE PORTER has been a customer since 2006-02-14</td></tr><tr><td>CHARLOTTE HUNTER has been a customer since 2006-02-14</td></tr><tr><td>MONICA HICKS has been a customer since 2006-02-14</td></tr><tr><td>ESTHER CRAWFORD has been a customer since 2006-02-14</td></tr><tr><td>PAULINE HENRY has been a customer since 2006-02-14</td></tr><tr><td>EMMA BOYD has been a customer since 2006-02-14</td></tr><tr><td>JUANITA MASON has been a customer since 2006-02-14</td></tr><tr><td>ANITA MORALES has been a customer since 2006-02-14</td></tr><tr><td>RHONDA KENNEDY has been a customer since 2006-02-14</td></tr><tr><td>HAZEL WARREN has been a customer since 2006-02-14</td></tr><tr><td>AMBER DIXON has been a customer since 2006-02-14</td></tr><tr><td>EVA RAMOS has been a customer since 2006-02-14</td></tr><tr><td>DEBBIE REYES has been a customer since 2006-02-14</td></tr><tr><td>APRIL BURNS has been a customer since 2006-02-14</td></tr><tr><td>LESLIE GORDON has been a customer since 2006-02-14</td></tr><tr><td>CLARA SHAW has been a customer since 2006-02-14</td></tr><tr><td>LUCILLE HOLMES has been a customer since 2006-02-14</td></tr><tr><td>JAMIE RICE has been a customer since 2006-02-14</td></tr><tr><td>JOANNE ROBERTSON has been a customer since 2006-02-14</td></tr><tr><td>ELEANOR HUNT has been a customer since 2006-02-14</td></tr><tr><td>VALERIE BLACK has been a customer since 2006-02-14</td></tr><tr><td>DANIELLE DANIELS has been a customer since 2006-02-14</td></tr><tr><td>MEGAN PALMER has been a customer since 2006-02-14</td></tr><tr><td>ALICIA MILLS has been a customer since 2006-02-14</td></tr><tr><td>SUZANNE NICHOLS has been a customer since 2006-02-14</td></tr><tr><td>MICHELE GRANT has been a customer since 2006-02-14</td></tr><tr><td>GAIL KNIGHT has been a customer since 2006-02-14</td></tr><tr><td>BERTHA FERGUSON has been a customer since 2006-02-14</td></tr><tr><td>DARLENE ROSE has been a customer since 2006-02-14</td></tr><tr><td>VERONICA STONE has been a customer since 2006-02-14</td></tr><tr><td>JILL HAWKINS has been a customer since 2006-02-14</td></tr><tr><td>ERIN DUNN has been a customer since 2006-02-14</td></tr><tr><td>GERALDINE PERKINS has been a customer since 2006-02-14</td></tr><tr><td>LAUREN HUDSON has been a customer since 2006-02-14</td></tr><tr><td>CATHY SPENCER has been a customer since 2006-02-14</td></tr><tr><td>JOANN GARDNER has been a customer since 2006-02-14</td></tr><tr><td>LORRAINE STEPHENS has been a customer since 2006-02-14</td></tr><tr><td>LYNN PAYNE has been a customer since 2006-02-14</td></tr><tr><td>SALLY PIERCE has been a customer since 2006-02-14</td></tr><tr><td>REGINA BERRY has been a customer since 2006-02-14</td></tr><tr><td>ERICA MATTHEWS has been a customer since 2006-02-14</td></tr><tr><td>BEATRICE ARNOLD has been a customer since 2006-02-14</td></tr><tr><td>DOLORES WAGNER has been a customer since 2006-02-14</td></tr><tr><td>BERNICE WILLIS has been a customer since 2006-02-14</td></tr><tr><td>AUDREY RAY has been a customer since 2006-02-14</td></tr><tr><td>YVONNE WATKINS has been a customer since 2006-02-14</td></tr><tr><td>ANNETTE OLSON has been a customer since 2006-02-14</td></tr><tr><td>JUNE CARROLL has been a customer since 2006-02-14</td></tr><tr><td>SAMANTHA DUNCAN has been a customer since 2006-02-14</td></tr><tr><td>MARION SNYDER has been a customer since 2006-02-14</td></tr><tr><td>DANA HART has been a customer since 2006-02-14</td></tr><tr><td>STACY CUNNINGHAM has been a customer since 2006-02-14</td></tr><tr><td>ANA BRADLEY has been a customer since 2006-02-14</td></tr><tr><td>RENEE LANE has been a customer since 2006-02-14</td></tr><tr><td>IDA ANDREWS has been a customer since 2006-02-14</td></tr><tr><td>VIVIAN RUIZ has been a customer since 2006-02-14</td></tr><tr><td>ROBERTA HARPER has been a customer since 2006-02-14</td></tr><tr><td>HOLLY FOX has been a customer since 2006-02-14</td></tr><tr><td>BRITTANY RILEY has been a customer since 2006-02-14</td></tr><tr><td>MELANIE ARMSTRONG has been a customer since 2006-02-14</td></tr><tr><td>LORETTA CARPENTER has been a customer since 2006-02-14</td></tr><tr><td>YOLANDA WEAVER has been a customer since 2006-02-14</td></tr><tr><td>JEANETTE GREENE has been a customer since 2006-02-14</td></tr><tr><td>LAURIE LAWRENCE has been a customer since 2006-02-14</td></tr><tr><td>KATIE ELLIOTT has been a customer since 2006-02-14</td></tr><tr><td>KRISTEN CHAVEZ has been a customer since 2006-02-14</td></tr><tr><td>VANESSA SIMS has been a customer since 2006-02-14</td></tr><tr><td>ALMA AUSTIN has been a customer since 2006-02-14</td></tr><tr><td>SUE PETERS has been a customer since 2006-02-14</td></tr><tr><td>ELSIE KELLEY has been a customer since 2006-02-14</td></tr><tr><td>BETH FRANKLIN has been a customer since 2006-02-14</td></tr><tr><td>JEANNE LAWSON has been a customer since 2006-02-14</td></tr><tr><td>VICKI FIELDS has been a customer since 2006-02-14</td></tr><tr><td>CARLA GUTIERREZ has been a customer since 2006-02-14</td></tr><tr><td>TARA RYAN has been a customer since 2006-02-14</td></tr><tr><td>ROSEMARY SCHMIDT has been a customer since 2006-02-14</td></tr><tr><td>EILEEN CARR has been a customer since 2006-02-14</td></tr><tr><td>TERRI VASQUEZ has been a customer since 2006-02-14</td></tr><tr><td>GERTRUDE CASTILLO has been a customer since 2006-02-14</td></tr><tr><td>LUCY WHEELER has been a customer since 2006-02-14</td></tr><tr><td>TONYA CHAPMAN has been a customer since 2006-02-14</td></tr><tr><td>ELLA OLIVER has been a customer since 2006-02-14</td></tr><tr><td>STACEY MONTGOMERY has been a customer since 2006-02-14</td></tr><tr><td>WILMA RICHARDS has been a customer since 2006-02-14</td></tr><tr><td>GINA WILLIAMSON has been a customer since 2006-02-14</td></tr><tr><td>KRISTIN JOHNSTON has been a customer since 2006-02-14</td></tr><tr><td>JESSIE BANKS has been a customer since 2006-02-14</td></tr><tr><td>NATALIE MEYER has been a customer since 2006-02-14</td></tr><tr><td>AGNES BISHOP has been a customer since 2006-02-14</td></tr><tr><td>VERA MCCOY has been a customer since 2006-02-14</td></tr><tr><td>WILLIE HOWELL has been a customer since 2006-02-14</td></tr><tr><td>CHARLENE ALVAREZ has been a customer since 2006-02-14</td></tr><tr><td>BESSIE MORRISON has been a customer since 2006-02-14</td></tr><tr><td>DELORES HANSEN has been a customer since 2006-02-14</td></tr><tr><td>MELINDA FERNANDEZ has been a customer since 2006-02-14</td></tr><tr><td>PEARL GARZA has been a customer since 2006-02-14</td></tr><tr><td>ARLENE HARVEY has been a customer since 2006-02-14</td></tr><tr><td>MAUREEN LITTLE has been a customer since 2006-02-14</td></tr><tr><td>COLLEEN BURTON has been a customer since 2006-02-14</td></tr><tr><td>ALLISON STANLEY has been a customer since 2006-02-14</td></tr><tr><td>TAMARA NGUYEN has been a customer since 2006-02-14</td></tr><tr><td>JOY GEORGE has been a customer since 2006-02-14</td></tr><tr><td>GEORGIA JACOBS has been a customer since 2006-02-14</td></tr><tr><td>CONSTANCE REID has been a customer since 2006-02-14</td></tr><tr><td>LILLIE KIM has been a customer since 2006-02-14</td></tr><tr><td>CLAUDIA FULLER has been a customer since 2006-02-14</td></tr><tr><td>JACKIE LYNCH has been a customer since 2006-02-14</td></tr><tr><td>MARCIA DEAN has been a customer since 2006-02-14</td></tr><tr><td>TANYA GILBERT has been a customer since 2006-02-14</td></tr><tr><td>NELLIE GARRETT has been a customer since 2006-02-14</td></tr><tr><td>MINNIE ROMERO has been a customer since 2006-02-14</td></tr><tr><td>MARLENE WELCH has been a customer since 2006-02-14</td></tr><tr><td>HEIDI LARSON has been a customer since 2006-02-14</td></tr><tr><td>GLENDA FRAZIER has been a customer since 2006-02-14</td></tr><tr><td>LYDIA BURKE has been a customer since 2006-02-14</td></tr><tr><td>VIOLA HANSON has been a customer since 2006-02-14</td></tr><tr><td>COURTNEY DAY has been a customer since 2006-02-14</td></tr><tr><td>MARIAN MENDOZA has been a customer since 2006-02-14</td></tr><tr><td>STELLA MORENO has been a customer since 2006-02-14</td></tr><tr><td>CAROLINE BOWMAN has been a customer since 2006-02-14</td></tr><tr><td>DORA MEDINA has been a customer since 2006-02-14</td></tr><tr><td>JO FOWLER has been a customer since 2006-02-14</td></tr><tr><td>VICKIE BREWER has been a customer since 2006-02-14</td></tr><tr><td>MATTIE HOFFMAN has been a customer since 2006-02-14</td></tr><tr><td>TERRY CARLSON has been a customer since 2006-02-14</td></tr><tr><td>MAXINE SILVA has been a customer since 2006-02-14</td></tr><tr><td>IRMA PEARSON has been a customer since 2006-02-14</td></tr><tr><td>MABEL HOLLAND has been a customer since 2006-02-14</td></tr><tr><td>MARSHA DOUGLAS has been a customer since 2006-02-14</td></tr><tr><td>MYRTLE FLEMING has been a customer since 2006-02-14</td></tr><tr><td>LENA JENSEN has been a customer since 2006-02-14</td></tr><tr><td>CHRISTY VARGAS has been a customer since 2006-02-14</td></tr><tr><td>DEANNA BYRD has been a customer since 2006-02-14</td></tr><tr><td>PATSY DAVIDSON has been a customer since 2006-02-14</td></tr><tr><td>HILDA HOPKINS has been a customer since 2006-02-14</td></tr><tr><td>GWENDOLYN MAY has been a customer since 2006-02-14</td></tr><tr><td>JENNIE TERRY has been a customer since 2006-02-14</td></tr><tr><td>NORA HERRERA has been a customer since 2006-02-14</td></tr><tr><td>MARGIE WADE has been a customer since 2006-02-14</td></tr><tr><td>NINA SOTO has been a customer since 2006-02-14</td></tr><tr><td>CASSANDRA WALTERS has been a customer since 2006-02-14</td></tr><tr><td>LEAH CURTIS has been a customer since 2006-02-14</td></tr><tr><td>PENNY NEAL has been a customer since 2006-02-14</td></tr><tr><td>KAY CALDWELL has been a customer since 2006-02-14</td></tr><tr><td>PRISCILLA LOWE has been a customer since 2006-02-14</td></tr><tr><td>NAOMI JENNINGS has been a customer since 2006-02-14</td></tr><tr><td>CAROLE BARNETT has been a customer since 2006-02-14</td></tr><tr><td>BRANDY GRAVES has been a customer since 2006-02-14</td></tr><tr><td>OLGA JIMENEZ has been a customer since 2006-02-14</td></tr><tr><td>BILLIE HORTON has been a customer since 2006-02-14</td></tr><tr><td>DIANNE SHELTON has been a customer since 2006-02-14</td></tr><tr><td>TRACEY BARRETT has been a customer since 2006-02-14</td></tr><tr><td>LEONA OBRIEN has been a customer since 2006-02-14</td></tr><tr><td>JENNY CASTRO has been a customer since 2006-02-14</td></tr><tr><td>FELICIA SUTTON has been a customer since 2006-02-14</td></tr><tr><td>SONIA GREGORY has been a customer since 2006-02-14</td></tr><tr><td>MIRIAM MCKINNEY has been a customer since 2006-02-14</td></tr><tr><td>VELMA LUCAS has been a customer since 2006-02-14</td></tr><tr><td>BECKY MILES has been a customer since 2006-02-14</td></tr><tr><td>BOBBIE CRAIG has been a customer since 2006-02-14</td></tr><tr><td>VIOLET RODRIQUEZ has been a customer since 2006-02-14</td></tr><tr><td>KRISTINA CHAMBERS has been a customer since 2006-02-14</td></tr><tr><td>TONI HOLT has been a customer since 2006-02-14</td></tr><tr><td>MISTY LAMBERT has been a customer since 2006-02-14</td></tr><tr><td>MAE FLETCHER has been a customer since 2006-02-14</td></tr><tr><td>SHELLY WATTS has been a customer since 2006-02-14</td></tr><tr><td>DAISY BATES has been a customer since 2006-02-14</td></tr><tr><td>RAMONA HALE has been a customer since 2006-02-14</td></tr><tr><td>SHERRI RHODES has been a customer since 2006-02-14</td></tr><tr><td>ERIKA PENA has been a customer since 2006-02-14</td></tr><tr><td>JAMES GANNON has been a customer since 2006-02-14</td></tr><tr><td>JOHN FARNSWORTH has been a customer since 2006-02-14</td></tr><tr><td>ROBERT BAUGHMAN has been a customer since 2006-02-14</td></tr><tr><td>MICHAEL SILVERMAN has been a customer since 2006-02-14</td></tr><tr><td>WILLIAM SATTERFIELD has been a customer since 2006-02-14</td></tr><tr><td>DAVID ROYAL has been a customer since 2006-02-14</td></tr><tr><td>RICHARD MCCRARY has been a customer since 2006-02-14</td></tr><tr><td>CHARLES KOWALSKI has been a customer since 2006-02-14</td></tr><tr><td>JOSEPH JOY has been a customer since 2006-02-14</td></tr><tr><td>THOMAS GRIGSBY has been a customer since 2006-02-14</td></tr><tr><td>CHRISTOPHER GRECO has been a customer since 2006-02-14</td></tr><tr><td>DANIEL CABRAL has been a customer since 2006-02-14</td></tr><tr><td>PAUL TROUT has been a customer since 2006-02-14</td></tr><tr><td>MARK RINEHART has been a customer since 2006-02-14</td></tr><tr><td>DONALD MAHON has been a customer since 2006-02-14</td></tr><tr><td>GEORGE LINTON has been a customer since 2006-02-14</td></tr><tr><td>KENNETH GOODEN has been a customer since 2006-02-14</td></tr><tr><td>STEVEN CURLEY has been a customer since 2006-02-14</td></tr><tr><td>EDWARD BAUGH has been a customer since 2006-02-14</td></tr><tr><td>BRIAN WYMAN has been a customer since 2006-02-14</td></tr><tr><td>RONALD WEINER has been a customer since 2006-02-14</td></tr><tr><td>ANTHONY SCHWAB has been a customer since 2006-02-14</td></tr><tr><td>KEVIN SCHULER has been a customer since 2006-02-14</td></tr><tr><td>JASON MORRISSEY has been a customer since 2006-02-14</td></tr><tr><td>MATTHEW MAHAN has been a customer since 2006-02-14</td></tr><tr><td>GARY COY has been a customer since 2006-02-14</td></tr><tr><td>TIMOTHY BUNN has been a customer since 2006-02-14</td></tr><tr><td>JOSE ANDREW has been a customer since 2006-02-14</td></tr><tr><td>LARRY THRASHER has been a customer since 2006-02-14</td></tr><tr><td>JEFFREY SPEAR has been a customer since 2006-02-14</td></tr><tr><td>FRANK WAGGONER has been a customer since 2006-02-14</td></tr><tr><td>SCOTT SHELLEY has been a customer since 2006-02-14</td></tr><tr><td>ERIC ROBERT has been a customer since 2006-02-14</td></tr><tr><td>STEPHEN QUALLS has been a customer since 2006-02-14</td></tr><tr><td>ANDREW PURDY has been a customer since 2006-02-14</td></tr><tr><td>RAYMOND MCWHORTER has been a customer since 2006-02-14</td></tr><tr><td>GREGORY MAULDIN has been a customer since 2006-02-14</td></tr><tr><td>JOSHUA MARK has been a customer since 2006-02-14</td></tr><tr><td>JERRY JORDON has been a customer since 2006-02-14</td></tr><tr><td>DENNIS GILMAN has been a customer since 2006-02-14</td></tr><tr><td>WALTER PERRYMAN has been a customer since 2006-02-14</td></tr><tr><td>PATRICK NEWSOM has been a customer since 2006-02-14</td></tr><tr><td>PETER MENARD has been a customer since 2006-02-14</td></tr><tr><td>HAROLD MARTINO has been a customer since 2006-02-14</td></tr><tr><td>DOUGLAS GRAF has been a customer since 2006-02-14</td></tr><tr><td>HENRY BILLINGSLEY has been a customer since 2006-02-14</td></tr><tr><td>CARL ARTIS has been a customer since 2006-02-14</td></tr><tr><td>ARTHUR SIMPKINS has been a customer since 2006-02-14</td></tr><tr><td>RYAN SALISBURY has been a customer since 2006-02-14</td></tr><tr><td>ROGER QUINTANILLA has been a customer since 2006-02-14</td></tr><tr><td>JOE GILLILAND has been a customer since 2006-02-14</td></tr><tr><td>JUAN FRALEY has been a customer since 2006-02-14</td></tr><tr><td>JACK FOUST has been a customer since 2006-02-14</td></tr><tr><td>ALBERT CROUSE has been a customer since 2006-02-14</td></tr><tr><td>JONATHAN SCARBOROUGH has been a customer since 2006-02-14</td></tr><tr><td>JUSTIN NGO has been a customer since 2006-02-14</td></tr><tr><td>TERRY GRISSOM has been a customer since 2006-02-14</td></tr><tr><td>GERALD FULTZ has been a customer since 2006-02-14</td></tr><tr><td>KEITH RICO has been a customer since 2006-02-14</td></tr><tr><td>SAMUEL MARLOW has been a customer since 2006-02-14</td></tr><tr><td>WILLIE MARKHAM has been a customer since 2006-02-14</td></tr><tr><td>RALPH MADRIGAL has been a customer since 2006-02-14</td></tr><tr><td>LAWRENCE LAWTON has been a customer since 2006-02-14</td></tr><tr><td>NICHOLAS BARFIELD has been a customer since 2006-02-14</td></tr><tr><td>ROY WHITING has been a customer since 2006-02-14</td></tr><tr><td>BENJAMIN VARNEY has been a customer since 2006-02-14</td></tr><tr><td>BRUCE SCHWARZ has been a customer since 2006-02-14</td></tr><tr><td>BRANDON HUEY has been a customer since 2006-02-14</td></tr><tr><td>ADAM GOOCH has been a customer since 2006-02-14</td></tr><tr><td>HARRY ARCE has been a customer since 2006-02-14</td></tr><tr><td>FRED WHEAT has been a customer since 2006-02-14</td></tr><tr><td>WAYNE TRUONG has been a customer since 2006-02-14</td></tr><tr><td>BILLY POULIN has been a customer since 2006-02-14</td></tr><tr><td>STEVE MACKENZIE has been a customer since 2006-02-14</td></tr><tr><td>LOUIS LEONE has been a customer since 2006-02-14</td></tr><tr><td>JEREMY HURTADO has been a customer since 2006-02-14</td></tr><tr><td>AARON SELBY has been a customer since 2006-02-14</td></tr><tr><td>RANDY GAITHER has been a customer since 2006-02-14</td></tr><tr><td>HOWARD FORTNER has been a customer since 2006-02-14</td></tr><tr><td>EUGENE CULPEPPER has been a customer since 2006-02-14</td></tr><tr><td>CARLOS COUGHLIN has been a customer since 2006-02-14</td></tr><tr><td>RUSSELL BRINSON has been a customer since 2006-02-14</td></tr><tr><td>BOBBY BOUDREAU has been a customer since 2006-02-14</td></tr><tr><td>VICTOR BARKLEY has been a customer since 2006-02-14</td></tr><tr><td>MARTIN BALES has been a customer since 2006-02-14</td></tr><tr><td>ERNEST STEPP has been a customer since 2006-02-14</td></tr><tr><td>PHILLIP HOLM has been a customer since 2006-02-14</td></tr><tr><td>TODD TAN has been a customer since 2006-02-14</td></tr><tr><td>JESSE SCHILLING has been a customer since 2006-02-14</td></tr><tr><td>CRAIG MORRELL has been a customer since 2006-02-14</td></tr><tr><td>ALAN KAHN has been a customer since 2006-02-14</td></tr><tr><td>SHAWN HEATON has been a customer since 2006-02-14</td></tr><tr><td>CLARENCE GAMEZ has been a customer since 2006-02-14</td></tr><tr><td>SEAN DOUGLASS has been a customer since 2006-02-14</td></tr><tr><td>PHILIP CAUSEY has been a customer since 2006-02-14</td></tr><tr><td>CHRIS BROTHERS has been a customer since 2006-02-14</td></tr><tr><td>JOHNNY TURPIN has been a customer since 2006-02-14</td></tr><tr><td>EARL SHANKS has been a customer since 2006-02-14</td></tr><tr><td>JIMMY SCHRADER has been a customer since 2006-02-14</td></tr><tr><td>ANTONIO MEEK has been a customer since 2006-02-14</td></tr><tr><td>DANNY ISOM has been a customer since 2006-02-14</td></tr><tr><td>BRYAN HARDISON has been a customer since 2006-02-14</td></tr><tr><td>TONY CARRANZA has been a customer since 2006-02-14</td></tr><tr><td>LUIS YANEZ has been a customer since 2006-02-14</td></tr><tr><td>MIKE WAY has been a customer since 2006-02-14</td></tr><tr><td>STANLEY SCROGGINS has been a customer since 2006-02-14</td></tr><tr><td>LEONARD SCHOFIELD has been a customer since 2006-02-14</td></tr><tr><td>NATHAN RUNYON has been a customer since 2006-02-14</td></tr><tr><td>DALE RATCLIFF has been a customer since 2006-02-14</td></tr><tr><td>MANUEL MURRELL has been a customer since 2006-02-14</td></tr><tr><td>RODNEY MOELLER has been a customer since 2006-02-14</td></tr><tr><td>CURTIS IRBY has been a customer since 2006-02-14</td></tr><tr><td>NORMAN CURRIER has been a customer since 2006-02-14</td></tr><tr><td>ALLEN BUTTERFIELD has been a customer since 2006-02-14</td></tr><tr><td>MARVIN YEE has been a customer since 2006-02-14</td></tr><tr><td>VINCENT RALSTON has been a customer since 2006-02-14</td></tr><tr><td>GLENN PULLEN has been a customer since 2006-02-14</td></tr><tr><td>JEFFERY PINSON has been a customer since 2006-02-14</td></tr><tr><td>TRAVIS ESTEP has been a customer since 2006-02-14</td></tr><tr><td>JEFF EAST has been a customer since 2006-02-14</td></tr><tr><td>CHAD CARBONE has been a customer since 2006-02-14</td></tr><tr><td>JACOB LANCE has been a customer since 2006-02-14</td></tr><tr><td>LEE HAWKS has been a customer since 2006-02-14</td></tr><tr><td>MELVIN ELLINGTON has been a customer since 2006-02-14</td></tr><tr><td>ALFRED CASILLAS has been a customer since 2006-02-14</td></tr><tr><td>KYLE SPURLOCK has been a customer since 2006-02-14</td></tr><tr><td>FRANCIS SIKES has been a customer since 2006-02-14</td></tr><tr><td>BRADLEY MOTLEY has been a customer since 2006-02-14</td></tr><tr><td>JESUS MCCARTNEY has been a customer since 2006-02-14</td></tr><tr><td>HERBERT KRUGER has been a customer since 2006-02-14</td></tr><tr><td>FREDERICK ISBELL has been a customer since 2006-02-14</td></tr><tr><td>RAY HOULE has been a customer since 2006-02-14</td></tr><tr><td>JOEL FRANCISCO has been a customer since 2006-02-14</td></tr><tr><td>EDWIN BURK has been a customer since 2006-02-14</td></tr><tr><td>DON BONE has been a customer since 2006-02-14</td></tr><tr><td>EDDIE TOMLIN has been a customer since 2006-02-14</td></tr><tr><td>RICKY SHELBY has been a customer since 2006-02-14</td></tr><tr><td>TROY QUIGLEY has been a customer since 2006-02-14</td></tr><tr><td>RANDALL NEUMANN has been a customer since 2006-02-14</td></tr><tr><td>BARRY LOVELACE has been a customer since 2006-02-14</td></tr><tr><td>ALEXANDER FENNELL has been a customer since 2006-02-14</td></tr><tr><td>BERNARD COLBY has been a customer since 2006-02-14</td></tr><tr><td>MARIO CHEATHAM has been a customer since 2006-02-14</td></tr><tr><td>LEROY BUSTAMANTE has been a customer since 2006-02-14</td></tr><tr><td>FRANCISCO SKIDMORE has been a customer since 2006-02-14</td></tr><tr><td>MARCUS HIDALGO has been a customer since 2006-02-14</td></tr><tr><td>MICHEAL FORMAN has been a customer since 2006-02-14</td></tr><tr><td>THEODORE CULP has been a customer since 2006-02-14</td></tr><tr><td>CLIFFORD BOWENS has been a customer since 2006-02-14</td></tr><tr><td>MIGUEL BETANCOURT has been a customer since 2006-02-14</td></tr><tr><td>OSCAR AQUINO has been a customer since 2006-02-14</td></tr><tr><td>JAY ROBB has been a customer since 2006-02-14</td></tr><tr><td>JIM REA has been a customer since 2006-02-14</td></tr><tr><td>TOM MILNER has been a customer since 2006-02-14</td></tr><tr><td>CALVIN MARTEL has been a customer since 2006-02-14</td></tr><tr><td>ALEX GRESHAM has been a customer since 2006-02-14</td></tr><tr><td>JON WILES has been a customer since 2006-02-14</td></tr><tr><td>RONNIE RICKETTS has been a customer since 2006-02-14</td></tr><tr><td>BILL GAVIN has been a customer since 2006-02-14</td></tr><tr><td>LLOYD DOWD has been a customer since 2006-02-14</td></tr><tr><td>TOMMY COLLAZO has been a customer since 2006-02-14</td></tr><tr><td>LEON BOSTIC has been a customer since 2006-02-14</td></tr><tr><td>DEREK BLAKELY has been a customer since 2006-02-14</td></tr><tr><td>WARREN SHERROD has been a customer since 2006-02-14</td></tr><tr><td>DARRELL POWER has been a customer since 2006-02-14</td></tr><tr><td>JEROME KENYON has been a customer since 2006-02-14</td></tr><tr><td>FLOYD GANDY has been a customer since 2006-02-14</td></tr><tr><td>LEO EBERT has been a customer since 2006-02-14</td></tr><tr><td>ALVIN DELOACH has been a customer since 2006-02-14</td></tr><tr><td>TIM CARY has been a customer since 2006-02-14</td></tr><tr><td>WESLEY BULL has been a customer since 2006-02-14</td></tr><tr><td>GORDON ALLARD has been a customer since 2006-02-14</td></tr><tr><td>DEAN SAUER has been a customer since 2006-02-14</td></tr><tr><td>GREG ROBINS has been a customer since 2006-02-14</td></tr><tr><td>JORGE OLIVARES has been a customer since 2006-02-14</td></tr><tr><td>DUSTIN GILLETTE has been a customer since 2006-02-14</td></tr><tr><td>PEDRO CHESTNUT has been a customer since 2006-02-14</td></tr><tr><td>DERRICK BOURQUE has been a customer since 2006-02-14</td></tr><tr><td>DAN PAINE has been a customer since 2006-02-14</td></tr><tr><td>LEWIS LYMAN has been a customer since 2006-02-14</td></tr><tr><td>ZACHARY HITE has been a customer since 2006-02-14</td></tr><tr><td>COREY HAUSER has been a customer since 2006-02-14</td></tr><tr><td>HERMAN DEVORE has been a customer since 2006-02-14</td></tr><tr><td>MAURICE CRAWLEY has been a customer since 2006-02-14</td></tr><tr><td>VERNON CHAPA has been a customer since 2006-02-14</td></tr><tr><td>ROBERTO VU has been a customer since 2006-02-14</td></tr><tr><td>CLYDE TOBIAS has been a customer since 2006-02-14</td></tr><tr><td>GLEN TALBERT has been a customer since 2006-02-14</td></tr><tr><td>HECTOR POINDEXTER has been a customer since 2006-02-14</td></tr><tr><td>SHANE MILLARD has been a customer since 2006-02-14</td></tr><tr><td>RICARDO MEADOR has been a customer since 2006-02-14</td></tr><tr><td>SAM MCDUFFIE has been a customer since 2006-02-14</td></tr><tr><td>RICK MATTOX has been a customer since 2006-02-14</td></tr><tr><td>LESTER KRAUS has been a customer since 2006-02-14</td></tr><tr><td>BRENT HARKINS has been a customer since 2006-02-14</td></tr><tr><td>RAMON CHOATE has been a customer since 2006-02-14</td></tr><tr><td>CHARLIE BESS has been a customer since 2006-02-14</td></tr><tr><td>TYLER WREN has been a customer since 2006-02-14</td></tr><tr><td>GILBERT SLEDGE has been a customer since 2006-02-14</td></tr><tr><td>GENE SANBORN has been a customer since 2006-02-14</td></tr><tr><td>MARC OUTLAW has been a customer since 2006-02-14</td></tr><tr><td>REGINALD KINDER has been a customer since 2006-02-14</td></tr><tr><td>RUBEN GEARY has been a customer since 2006-02-14</td></tr><tr><td>BRETT CORNWELL has been a customer since 2006-02-14</td></tr><tr><td>ANGEL BARCLAY has been a customer since 2006-02-14</td></tr><tr><td>NATHANIEL ADAM has been a customer since 2006-02-14</td></tr><tr><td>RAFAEL ABNEY has been a customer since 2006-02-14</td></tr><tr><td>LESLIE SEWARD has been a customer since 2006-02-14</td></tr><tr><td>EDGAR RHOADS has been a customer since 2006-02-14</td></tr><tr><td>MILTON HOWLAND has been a customer since 2006-02-14</td></tr><tr><td>RAUL FORTIER has been a customer since 2006-02-14</td></tr><tr><td>BEN EASTER has been a customer since 2006-02-14</td></tr><tr><td>CHESTER BENNER has been a customer since 2006-02-14</td></tr><tr><td>CECIL VINES has been a customer since 2006-02-14</td></tr><tr><td>DUANE TUBBS has been a customer since 2006-02-14</td></tr><tr><td>FRANKLIN TROUTMAN has been a customer since 2006-02-14</td></tr><tr><td>ANDRE RAPP has been a customer since 2006-02-14</td></tr><tr><td>ELMER NOE has been a customer since 2006-02-14</td></tr><tr><td>BRAD MCCURDY has been a customer since 2006-02-14</td></tr><tr><td>GABRIEL HARDER has been a customer since 2006-02-14</td></tr><tr><td>RON DELUCA has been a customer since 2006-02-14</td></tr><tr><td>MITCHELL WESTMORELAND has been a customer since 2006-02-14</td></tr><tr><td>ROLAND SOUTH has been a customer since 2006-02-14</td></tr><tr><td>ARNOLD HAVENS has been a customer since 2006-02-14</td></tr><tr><td>HARVEY GUAJARDO has been a customer since 2006-02-14</td></tr><tr><td>JARED ELY has been a customer since 2006-02-14</td></tr><tr><td>ADRIAN CLARY has been a customer since 2006-02-14</td></tr><tr><td>KARL SEAL has been a customer since 2006-02-14</td></tr><tr><td>CORY MEEHAN has been a customer since 2006-02-14</td></tr><tr><td>CLAUDE HERZOG has been a customer since 2006-02-14</td></tr><tr><td>ERIK GUILLEN has been a customer since 2006-02-14</td></tr><tr><td>DARRYL ASHCRAFT has been a customer since 2006-02-14</td></tr><tr><td>JAMIE WAUGH has been a customer since 2006-02-14</td></tr><tr><td>NEIL RENNER has been a customer since 2006-02-14</td></tr><tr><td>JESSIE MILAM has been a customer since 2006-02-14</td></tr><tr><td>CHRISTIAN JUNG has been a customer since 2006-02-14</td></tr><tr><td>JAVIER ELROD has been a customer since 2006-02-14</td></tr><tr><td>FERNANDO CHURCHILL has been a customer since 2006-02-14</td></tr><tr><td>CLINTON BUFORD has been a customer since 2006-02-14</td></tr><tr><td>TED BREAUX has been a customer since 2006-02-14</td></tr><tr><td>MATHEW BOLIN has been a customer since 2006-02-14</td></tr><tr><td>TYRONE ASHER has been a customer since 2006-02-14</td></tr><tr><td>DARREN WINDHAM has been a customer since 2006-02-14</td></tr><tr><td>LONNIE TIRADO has been a customer since 2006-02-14</td></tr><tr><td>LANCE PEMBERTON has been a customer since 2006-02-14</td></tr><tr><td>CODY NOLEN has been a customer since 2006-02-14</td></tr><tr><td>JULIO NOLAND has been a customer since 2006-02-14</td></tr><tr><td>KELLY KNOTT has been a customer since 2006-02-14</td></tr><tr><td>KURT EMMONS has been a customer since 2006-02-14</td></tr><tr><td>ALLAN CORNISH has been a customer since 2006-02-14</td></tr><tr><td>NELSON CHRISTENSON has been a customer since 2006-02-14</td></tr><tr><td>GUY BROWNLEE has been a customer since 2006-02-14</td></tr><tr><td>CLAYTON BARBEE has been a customer since 2006-02-14</td></tr><tr><td>HUGH WALDROP has been a customer since 2006-02-14</td></tr><tr><td>MAX PITT has been a customer since 2006-02-14</td></tr><tr><td>DWAYNE OLVERA has been a customer since 2006-02-14</td></tr><tr><td>DWIGHT LOMBARDI has been a customer since 2006-02-14</td></tr><tr><td>ARMANDO GRUBER has been a customer since 2006-02-14</td></tr><tr><td>FELIX GAFFNEY has been a customer since 2006-02-14</td></tr><tr><td>JIMMIE EGGLESTON has been a customer since 2006-02-14</td></tr><tr><td>EVERETT BANDA has been a customer since 2006-02-14</td></tr><tr><td>JORDAN ARCHULETA has been a customer since 2006-02-14</td></tr><tr><td>IAN STILL has been a customer since 2006-02-14</td></tr><tr><td>WALLACE SLONE has been a customer since 2006-02-14</td></tr><tr><td>KEN PREWITT has been a customer since 2006-02-14</td></tr><tr><td>BOB PFEIFFER has been a customer since 2006-02-14</td></tr><tr><td>JAIME NETTLES has been a customer since 2006-02-14</td></tr><tr><td>CASEY MENA has been a customer since 2006-02-14</td></tr><tr><td>ALFREDO MCADAMS has been a customer since 2006-02-14</td></tr><tr><td>ALBERTO HENNING has been a customer since 2006-02-14</td></tr><tr><td>DAVE GARDINER has been a customer since 2006-02-14</td></tr><tr><td>IVAN CROMWELL has been a customer since 2006-02-14</td></tr><tr><td>JOHNNIE CHISHOLM has been a customer since 2006-02-14</td></tr><tr><td>SIDNEY BURLESON has been a customer since 2006-02-14</td></tr><tr><td>BYRON BOX has been a customer since 2006-02-14</td></tr><tr><td>JULIAN VEST has been a customer since 2006-02-14</td></tr><tr><td>ISAAC OGLESBY has been a customer since 2006-02-14</td></tr><tr><td>MORRIS MCCARTER has been a customer since 2006-02-14</td></tr><tr><td>CLIFTON MALCOLM has been a customer since 2006-02-14</td></tr><tr><td>WILLARD LUMPKIN has been a customer since 2006-02-14</td></tr><tr><td>DARYL LARUE has been a customer since 2006-02-14</td></tr><tr><td>ROSS GREY has been a customer since 2006-02-14</td></tr><tr><td>VIRGIL WOFFORD has been a customer since 2006-02-14</td></tr><tr><td>ANDY VANHORN has been a customer since 2006-02-14</td></tr><tr><td>MARSHALL THORN has been a customer since 2006-02-14</td></tr><tr><td>SALVADOR TEEL has been a customer since 2006-02-14</td></tr><tr><td>PERRY SWAFFORD has been a customer since 2006-02-14</td></tr><tr><td>KIRK STCLAIR has been a customer since 2006-02-14</td></tr><tr><td>SERGIO STANFIELD has been a customer since 2006-02-14</td></tr><tr><td>MARION OCAMPO has been a customer since 2006-02-14</td></tr><tr><td>TRACY HERRMANN has been a customer since 2006-02-14</td></tr><tr><td>SETH HANNON has been a customer since 2006-02-14</td></tr><tr><td>KENT ARSENAULT has been a customer since 2006-02-14</td></tr><tr><td>TERRANCE ROUSH has been a customer since 2006-02-14</td></tr><tr><td>RENE MCALISTER has been a customer since 2006-02-14</td></tr><tr><td>EDUARDO HIATT has been a customer since 2006-02-14</td></tr><tr><td>TERRENCE GUNDERSON has been a customer since 2006-02-14</td></tr><tr><td>ENRIQUE FORSYTHE has been a customer since 2006-02-14</td></tr><tr><td>FREDDIE DUGGAN has been a customer since 2006-02-14</td></tr><tr><td>WADE DELVALLE has been a customer since 2006-02-14</td></tr><tr><td>AUSTIN CINTRON has been a customer since 2006-02-14</td></tr></table>"
                    },
                    "metadata": {}
                }
            ],
            "execution_count": 18
        },
        {
            "cell_type": "markdown",
            "source": [
                "## WORKING WITH NUMERIC DATA"
            ],
            "metadata": {
                "azdata_cell_guid": "c7f93afb-c8b2-422c-b3e1-2aeddcc65700"
            }
        },
        {
            "cell_type": "markdown",
            "source": [
                "## WORKING WITH TEMPORAL DATA"
            ],
            "metadata": {
                "azdata_cell_guid": "4ca92d07-c547-49f3-890b-9677bc8a5429"
            }
        },
        {
            "cell_type": "code",
            "source": [
                "SELECT CONVERT(datetime, '2019-09-17 15:30')"
            ],
            "metadata": {
                "azdata_cell_guid": "5b08f727-1dfa-4bae-b43f-01b78c5d94fb"
            },
            "outputs": [
                {
                    "output_type": "display_data",
                    "data": {
                        "text/html": "(1 row affected)"
                    },
                    "metadata": {}
                },
                {
                    "output_type": "display_data",
                    "data": {
                        "text/html": "Total execution time: 00:00:00.005"
                    },
                    "metadata": {}
                },
                {
                    "output_type": "execute_result",
                    "execution_count": 4,
                    "data": {
                        "application/vnd.dataresource+json": {
                            "schema": {
                                "fields": [
                                    {
                                        "name": "(No column name)"
                                    }
                                ]
                            },
                            "data": [
                                {
                                    "0": "2019-09-17 15:30:00.000"
                                }
                            ]
                        },
                        "text/html": "<table><tr><th>(No column name)</th></tr><tr><td>2019-09-17 15:30:00.000</td></tr></table>"
                    },
                    "metadata": {}
                }
            ],
            "execution_count": 4
        },
        {
            "cell_type": "code",
            "source": [
                "SELECT CONVERT(date, '2019-09-17') data_field,\n",
                "       CONVERT(time, '108:17:57')\n",
                ""
            ],
            "metadata": {
                "azdata_cell_guid": "740f04cd-c45b-43ea-a8e3-45569793fdeb"
            },
            "outputs": [
                {
                    "output_type": "display_data",
                    "data": {
                        "text/html": "Total execution time: 00:00:00.005"
                    },
                    "metadata": {}
                },
                {
                    "output_type": "execute_result",
                    "execution_count": 21,
                    "data": {
                        "application/vnd.dataresource+json": {
                            "schema": {
                                "fields": [
                                    {
                                        "name": "data_field"
                                    },
                                    {
                                        "name": "(No column name)"
                                    }
                                ]
                            },
                            "data": []
                        },
                        "text/html": "<table><tr><th>data_field</th><th>(No column name)</th></tr></table>"
                    },
                    "metadata": {}
                },
                {
                    "output_type": "error",
                    "ename": "",
                    "evalue": "Msg 241, Level 16, State 1, Line 1\nConversion failed when converting date and/or time from character string.",
                    "traceback": []
                }
            ],
            "execution_count": 21
        },
        {
            "cell_type": "code",
            "source": [
                "SELECT PARSE('2019-09-17' as date),\n",
                "       PARSE('108:17:57' as time)"
            ],
            "metadata": {
                "azdata_cell_guid": "a112218a-8198-49a9-98d5-6c5ba17bf89f"
            },
            "outputs": [
                {
                    "output_type": "display_data",
                    "data": {
                        "text/html": "Total execution time: 00:00:00.005"
                    },
                    "metadata": {}
                },
                {
                    "output_type": "execute_result",
                    "execution_count": 14,
                    "data": {
                        "application/vnd.dataresource+json": {
                            "schema": {
                                "fields": [
                                    {
                                        "name": "(No column name)"
                                    },
                                    {
                                        "name": "(No column name)"
                                    }
                                ]
                            },
                            "data": []
                        },
                        "text/html": "<table><tr><th>(No column name)</th><th>(No column name)</th></tr></table>"
                    },
                    "metadata": {}
                },
                {
                    "output_type": "error",
                    "ename": "",
                    "evalue": "Msg 9819, Level 16, State 1, Line 1\nError converting string value '108:17:57' into data type time using culture ''.",
                    "traceback": []
                }
            ],
            "execution_count": 14
        },
        {
            "cell_type": "code",
            "source": [
                "SELECT CAST('abc' AS varchar(5)) "
            ],
            "metadata": {
                "azdata_cell_guid": "1b64b6bf-0f3f-4f14-b92e-2fca72abfdb8"
            },
            "outputs": [
                {
                    "output_type": "display_data",
                    "data": {
                        "text/html": "(1 row affected)"
                    },
                    "metadata": {}
                },
                {
                    "output_type": "display_data",
                    "data": {
                        "text/html": "Total execution time: 00:00:00.003"
                    },
                    "metadata": {}
                },
                {
                    "output_type": "execute_result",
                    "execution_count": 18,
                    "data": {
                        "application/vnd.dataresource+json": {
                            "schema": {
                                "fields": [
                                    {
                                        "name": "(No column name)"
                                    }
                                ]
                            },
                            "data": [
                                {
                                    "0": "abc"
                                }
                            ]
                        },
                        "text/html": "<table><tr><th>(No column name)</th></tr><tr><td>abc</td></tr></table>"
                    },
                    "metadata": {}
                }
            ],
            "execution_count": 18
        },
        {
            "cell_type": "code",
            "source": [
                "SELECT CAST('108:17:57' as time)"
            ],
            "metadata": {
                "azdata_cell_guid": "06317a4e-b27d-40b4-b2f8-a0ab3c7d6d98"
            },
            "outputs": [
                {
                    "output_type": "display_data",
                    "data": {
                        "text/html": "Total execution time: 00:00:00.003"
                    },
                    "metadata": {}
                },
                {
                    "output_type": "execute_result",
                    "execution_count": 17,
                    "data": {
                        "application/vnd.dataresource+json": {
                            "schema": {
                                "fields": [
                                    {
                                        "name": "(No column name)"
                                    }
                                ]
                            },
                            "data": []
                        },
                        "text/html": "<table><tr><th>(No column name)</th></tr></table>"
                    },
                    "metadata": {}
                },
                {
                    "output_type": "error",
                    "ename": "",
                    "evalue": "Msg 241, Level 16, State 1, Line 1\nConversion failed when converting date and/or time from character string.",
                    "traceback": []
                }
            ],
            "execution_count": 17
        },
        {
            "cell_type": "code",
            "source": [
                "select convert(DateTime, '20:10:00:000', 114);"
            ],
            "metadata": {
                "azdata_cell_guid": "bc25544a-0d0b-4f6f-bc2d-028a13f5aef4"
            },
            "outputs": [
                {
                    "output_type": "display_data",
                    "data": {
                        "text/html": "(1 row affected)"
                    },
                    "metadata": {}
                },
                {
                    "output_type": "display_data",
                    "data": {
                        "text/html": "Total execution time: 00:00:00.003"
                    },
                    "metadata": {}
                },
                {
                    "output_type": "execute_result",
                    "execution_count": 23,
                    "data": {
                        "application/vnd.dataresource+json": {
                            "schema": {
                                "fields": [
                                    {
                                        "name": "(No column name)"
                                    }
                                ]
                            },
                            "data": [
                                {
                                    "0": "1900-01-01 20:10:00.000"
                                }
                            ]
                        },
                        "text/html": "<table><tr><th>(No column name)</th></tr><tr><td>1900-01-01 20:10:00.000</td></tr></table>"
                    },
                    "metadata": {}
                }
            ],
            "execution_count": 23
        },
        {
            "cell_type": "code",
            "source": [
                "-- PESQUISAR MAIS SOBRE O ASSUNTO"
            ],
            "metadata": {
                "azdata_cell_guid": "35c96bfc-0af2-478f-9a4c-be2dce97c3e0"
            },
            "outputs": [
                {
                    "output_type": "display_data",
                    "data": {
                        "text/html": "Commands completed successfully."
                    },
                    "metadata": {}
                },
                {
                    "output_type": "display_data",
                    "data": {
                        "text/html": "Total execution time: 00:00:00"
                    },
                    "metadata": {}
                }
            ],
            "execution_count": 24
        },
        {
            "cell_type": "code",
            "source": [
                "SELECT GETDATE()"
            ],
            "metadata": {
                "azdata_cell_guid": "fef9f153-9702-4ccb-9faa-a713e1e0b0c1"
            },
            "outputs": [
                {
                    "output_type": "display_data",
                    "data": {
                        "text/html": "(1 row affected)"
                    },
                    "metadata": {}
                },
                {
                    "output_type": "display_data",
                    "data": {
                        "text/html": "Total execution time: 00:00:00.002"
                    },
                    "metadata": {}
                },
                {
                    "output_type": "execute_result",
                    "execution_count": 31,
                    "data": {
                        "application/vnd.dataresource+json": {
                            "schema": {
                                "fields": [
                                    {
                                        "name": "(No column name)"
                                    }
                                ]
                            },
                            "data": [
                                {
                                    "0": "2021-04-05 07:49:50.077"
                                }
                            ]
                        },
                        "text/html": "<table><tr><th>(No column name)</th></tr><tr><td>2021-04-05 07:49:50.077</td></tr></table>"
                    },
                    "metadata": {}
                }
            ],
            "execution_count": 31
        },
        {
            "cell_type": "code",
            "source": [
                "SELECT SYSDATETIME() "
            ],
            "metadata": {
                "azdata_cell_guid": "51537e3a-bbc1-4031-bad5-14151c143acf"
            },
            "outputs": [
                {
                    "output_type": "display_data",
                    "data": {
                        "text/html": "(1 row affected)"
                    },
                    "metadata": {}
                },
                {
                    "output_type": "display_data",
                    "data": {
                        "text/html": "Total execution time: 00:00:00.002"
                    },
                    "metadata": {}
                },
                {
                    "output_type": "execute_result",
                    "execution_count": 33,
                    "data": {
                        "application/vnd.dataresource+json": {
                            "schema": {
                                "fields": [
                                    {
                                        "name": "(No column name)"
                                    }
                                ]
                            },
                            "data": [
                                {
                                    "0": "2021-04-05 07:50:31.8007148"
                                }
                            ]
                        },
                        "text/html": "<table><tr><th>(No column name)</th></tr><tr><td>2021-04-05 07:50:31.8007148</td></tr></table>"
                    },
                    "metadata": {}
                }
            ],
            "execution_count": 33
        },
        {
            "cell_type": "code",
            "source": [
                "SELECT SYSDATETIMEOFFSET()"
            ],
            "metadata": {
                "azdata_cell_guid": "c9b23033-a807-4496-868c-319d7863a972"
            },
            "outputs": [
                {
                    "output_type": "display_data",
                    "data": {
                        "text/html": "(1 row affected)"
                    },
                    "metadata": {}
                },
                {
                    "output_type": "display_data",
                    "data": {
                        "text/html": "Total execution time: 00:00:00.001"
                    },
                    "metadata": {}
                },
                {
                    "output_type": "execute_result",
                    "execution_count": 38,
                    "data": {
                        "application/vnd.dataresource+json": {
                            "schema": {
                                "fields": [
                                    {
                                        "name": "(No column name)"
                                    }
                                ]
                            },
                            "data": [
                                {
                                    "0": "2021-04-05 07:52:59.7831640 +00:00"
                                }
                            ]
                        },
                        "text/html": "<table><tr><th>(No column name)</th></tr><tr><td>2021-04-05 07:52:59.7831640 +00:00</td></tr></table>"
                    },
                    "metadata": {}
                }
            ],
            "execution_count": 38
        },
        {
            "cell_type": "code",
            "source": [
                "SELECT GETDATE() 'getdate()'\n",
                "       ,CONVERT(date, GETDATE()) 'date'\n",
                "       ,CONVERT(time, GETDATE()) 'time'\n",
                "       ,CONVERT(datetime2, GETDATE()) 'datetime2';"
            ],
            "metadata": {
                "azdata_cell_guid": "f814b474-9493-4d16-a79c-05a45556051f"
            },
            "outputs": [
                {
                    "output_type": "display_data",
                    "data": {
                        "text/html": "(1 row affected)"
                    },
                    "metadata": {}
                },
                {
                    "output_type": "display_data",
                    "data": {
                        "text/html": "Total execution time: 00:00:00.003"
                    },
                    "metadata": {}
                },
                {
                    "output_type": "execute_result",
                    "execution_count": 43,
                    "data": {
                        "application/vnd.dataresource+json": {
                            "schema": {
                                "fields": [
                                    {
                                        "name": "getdate()"
                                    },
                                    {
                                        "name": "date"
                                    },
                                    {
                                        "name": "time"
                                    },
                                    {
                                        "name": "datetime2"
                                    }
                                ]
                            },
                            "data": [
                                {
                                    "0": "2021-04-05 07:58:46.813",
                                    "1": "2021-04-05",
                                    "2": "07:58:46.8133333",
                                    "3": "2021-04-05 07:58:46.8133333"
                                }
                            ]
                        },
                        "text/html": "<table><tr><th>getdate()</th><th>date</th><th>time</th><th>datetime2</th></tr><tr><td>2021-04-05 07:58:46.813</td><td>2021-04-05</td><td>07:58:46.8133333</td><td>2021-04-05 07:58:46.8133333</td></tr></table>"
                    },
                    "metadata": {}
                }
            ],
            "execution_count": 43
        },
        {
            "cell_type": "code",
            "source": [
                "SELECT DATEADD(DAY, 5, GETDATE());"
            ],
            "metadata": {
                "azdata_cell_guid": "f38f1461-3077-4a08-9f4f-4655753d9883"
            },
            "outputs": [
                {
                    "output_type": "display_data",
                    "data": {
                        "text/html": "(1 row affected)"
                    },
                    "metadata": {}
                },
                {
                    "output_type": "display_data",
                    "data": {
                        "text/html": "Total execution time: 00:00:00.001"
                    },
                    "metadata": {}
                },
                {
                    "output_type": "execute_result",
                    "execution_count": 48,
                    "data": {
                        "application/vnd.dataresource+json": {
                            "schema": {
                                "fields": [
                                    {
                                        "name": "(No column name)"
                                    }
                                ]
                            },
                            "data": [
                                {
                                    "0": "2021-04-10 08:01:44.273"
                                }
                            ]
                        },
                        "text/html": "<table><tr><th>(No column name)</th></tr><tr><td>2021-04-10 08:01:44.273</td></tr></table>"
                    },
                    "metadata": {}
                }
            ],
            "execution_count": 48
        },
        {
            "cell_type": "code",
            "source": [
                "SELECT DATENAME(dw, getdate())"
            ],
            "metadata": {
                "azdata_cell_guid": "f70217ed-bec4-44eb-9006-5cbab86200cb"
            },
            "outputs": [
                {
                    "output_type": "display_data",
                    "data": {
                        "text/html": "(1 row affected)"
                    },
                    "metadata": {}
                },
                {
                    "output_type": "display_data",
                    "data": {
                        "text/html": "Total execution time: 00:00:00.002"
                    },
                    "metadata": {}
                },
                {
                    "output_type": "execute_result",
                    "execution_count": 57,
                    "data": {
                        "application/vnd.dataresource+json": {
                            "schema": {
                                "fields": [
                                    {
                                        "name": "(No column name)"
                                    }
                                ]
                            },
                            "data": [
                                {
                                    "0": "Monday"
                                }
                            ]
                        },
                        "text/html": "<table><tr><th>(No column name)</th></tr><tr><td>Monday</td></tr></table>"
                    },
                    "metadata": {}
                }
            ],
            "execution_count": 57
        },
        {
            "cell_type": "code",
            "source": [
                "SELECT DATEDIFF(DAY, '2019-06-21', '2019-09-03')"
            ],
            "metadata": {
                "azdata_cell_guid": "7fb485fe-f5ba-486b-9c9c-e9e1a53fb8f7"
            },
            "outputs": [
                {
                    "output_type": "display_data",
                    "data": {
                        "text/html": "(1 row affected)"
                    },
                    "metadata": {}
                },
                {
                    "output_type": "display_data",
                    "data": {
                        "text/html": "Total execution time: 00:00:00.001"
                    },
                    "metadata": {}
                },
                {
                    "output_type": "execute_result",
                    "execution_count": 68,
                    "data": {
                        "application/vnd.dataresource+json": {
                            "schema": {
                                "fields": [
                                    {
                                        "name": "(No column name)"
                                    }
                                ]
                            },
                            "data": [
                                {
                                    "0": "74"
                                }
                            ]
                        },
                        "text/html": "<table><tr><th>(No column name)</th></tr><tr><td>74</td></tr></table>"
                    },
                    "metadata": {}
                }
            ],
            "execution_count": 68
        },
        {
            "cell_type": "code",
            "source": [
                "SELECT CAST('1456328' AS INT);"
            ],
            "metadata": {
                "azdata_cell_guid": "91ecc3dc-e364-4123-897e-df29bd20a903"
            },
            "outputs": [
                {
                    "output_type": "display_data",
                    "data": {
                        "text/html": "(1 row affected)"
                    },
                    "metadata": {}
                },
                {
                    "output_type": "display_data",
                    "data": {
                        "text/html": "Total execution time: 00:00:00.001"
                    },
                    "metadata": {}
                },
                {
                    "output_type": "execute_result",
                    "execution_count": 74,
                    "data": {
                        "application/vnd.dataresource+json": {
                            "schema": {
                                "fields": [
                                    {
                                        "name": "(No column name)"
                                    }
                                ]
                            },
                            "data": [
                                {
                                    "0": "1456328"
                                }
                            ]
                        },
                        "text/html": "<table><tr><th>(No column name)</th></tr><tr><td>1456328</td></tr></table>"
                    },
                    "metadata": {}
                }
            ],
            "execution_count": 74
        },
        {
            "cell_type": "code",
            "source": [
                "SELECT CAST('999ABC111' AS INT)"
            ],
            "metadata": {
                "azdata_cell_guid": "3f722f6d-668c-436f-aae1-db2f097ab296"
            },
            "outputs": [
                {
                    "output_type": "display_data",
                    "data": {
                        "text/html": "Total execution time: 00:00:00.001"
                    },
                    "metadata": {}
                },
                {
                    "output_type": "execute_result",
                    "execution_count": 73,
                    "data": {
                        "application/vnd.dataresource+json": {
                            "schema": {
                                "fields": [
                                    {
                                        "name": "(No column name)"
                                    }
                                ]
                            },
                            "data": []
                        },
                        "text/html": "<table><tr><th>(No column name)</th></tr></table>"
                    },
                    "metadata": {}
                },
                {
                    "output_type": "error",
                    "ename": "",
                    "evalue": "Msg 245, Level 16, State 1, Line 1\nConversion failed when converting the varchar value '999ABC111' to data type int.",
                    "traceback": []
                }
            ],
            "execution_count": 73
        },
        {
            "cell_type": "markdown",
            "source": [
                "## TEST YOUR KNOWLEDGE"
            ],
            "metadata": {
                "azdata_cell_guid": "0dae3398-cf37-493f-99f2-c256a18854f4"
            }
        },
        {
            "cell_type": "markdown",
            "source": [
                "### Exercise 7-1\n",
                "\n",
                "Write a query that returns the 17th through 25th characters of the string 'Please find the substring in this string' ."
            ],
            "metadata": {
                "azdata_cell_guid": "4ade3bb9-5b4b-475f-9ec9-e4a372480f2c"
            }
        },
        {
            "cell_type": "code",
            "source": [
                "SELECT SUBSTRING('Please find the substring in this string', 17, 25) substring"
            ],
            "metadata": {
                "azdata_cell_guid": "0a8fe825-42a5-4a47-9e8b-06a8c657fce5"
            },
            "outputs": [
                {
                    "output_type": "display_data",
                    "data": {
                        "text/html": "(1 row affected)"
                    },
                    "metadata": {}
                },
                {
                    "output_type": "display_data",
                    "data": {
                        "text/html": "Total execution time: 00:00:00.001"
                    },
                    "metadata": {}
                },
                {
                    "output_type": "execute_result",
                    "execution_count": 78,
                    "data": {
                        "application/vnd.dataresource+json": {
                            "schema": {
                                "fields": [
                                    {
                                        "name": "substring"
                                    }
                                ]
                            },
                            "data": [
                                {
                                    "0": "substring in this string"
                                }
                            ]
                        },
                        "text/html": "<table><tr><th>substring</th></tr><tr><td>substring in this string</td></tr></table>"
                    },
                    "metadata": {}
                }
            ],
            "execution_count": 78
        },
        {
            "cell_type": "markdown",
            "source": [
                "### Exercise 7-2 \n",
                "\n",
                "Write a query that returns the absolute value and sign ( −1 , 0 , or 1 ) of  −25.76823 . Also return the number rounded to the nearest hundredth."
            ],
            "metadata": {
                "azdata_cell_guid": "f9ce92a8-8383-4458-ad4b-0efd7f822d0a"
            }
        },
        {
            "cell_type": "code",
            "source": [
                "SELECT SIGN(-25.76823) sign, ABS(-2576823) abs, ROUND(-25.76823, 3) round"
            ],
            "metadata": {
                "azdata_cell_guid": "ab9498b4-ca3d-4bb8-8983-6b0307132d8f"
            },
            "outputs": [
                {
                    "output_type": "display_data",
                    "data": {
                        "text/html": "(1 row affected)"
                    },
                    "metadata": {}
                },
                {
                    "output_type": "display_data",
                    "data": {
                        "text/html": "Total execution time: 00:00:00.002"
                    },
                    "metadata": {}
                },
                {
                    "output_type": "execute_result",
                    "execution_count": 86,
                    "data": {
                        "application/vnd.dataresource+json": {
                            "schema": {
                                "fields": [
                                    {
                                        "name": "sign"
                                    },
                                    {
                                        "name": "abs"
                                    },
                                    {
                                        "name": "round"
                                    }
                                ]
                            },
                            "data": [
                                {
                                    "0": "-1.00000",
                                    "1": "2576823",
                                    "2": "-25.76800"
                                }
                            ]
                        },
                        "text/html": "<table><tr><th>sign</th><th>abs</th><th>round</th></tr><tr><td>-1.00000</td><td>2576823</td><td>-25.76800</td></tr></table>"
                    },
                    "metadata": {}
                }
            ],
            "execution_count": 86
        },
        {
            "cell_type": "markdown",
            "source": [
                "### Exercise 7-3\n",
                "\n",
                "Write a query to return just the month portion of the current date."
            ],
            "metadata": {
                "azdata_cell_guid": "9ee085a5-e5d3-4791-8ec6-502c599c700e"
            }
        },
        {
            "cell_type": "code",
            "source": [
                "SELECT DATENAME(month, GETDATE()) month"
            ],
            "metadata": {
                "azdata_cell_guid": "3a87dbe7-dc03-470e-ab41-a25918c9be2d"
            },
            "outputs": [
                {
                    "output_type": "display_data",
                    "data": {
                        "text/html": "(1 row affected)"
                    },
                    "metadata": {}
                },
                {
                    "output_type": "display_data",
                    "data": {
                        "text/html": "Total execution time: 00:00:00.001"
                    },
                    "metadata": {}
                },
                {
                    "output_type": "execute_result",
                    "execution_count": 77,
                    "data": {
                        "application/vnd.dataresource+json": {
                            "schema": {
                                "fields": [
                                    {
                                        "name": "month"
                                    }
                                ]
                            },
                            "data": [
                                {
                                    "0": "April"
                                }
                            ]
                        },
                        "text/html": "<table><tr><th>month</th></tr><tr><td>April</td></tr></table>"
                    },
                    "metadata": {}
                }
            ],
            "execution_count": 77
        }
    ]
}